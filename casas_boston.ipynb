{
 "cells": [
  {
   "cell_type": "markdown",
   "metadata": {
    "id": "3jz3iAf_R-Qg"
   },
   "source": [
    "### **Casas em Boston Regressão linear**"
   ]
  },
  {
   "cell_type": "markdown",
   "metadata": {},
   "source": [
    "**Importando as bibliotecas**"
   ]
  },
  {
   "cell_type": "code",
   "execution_count": 219,
   "metadata": {
    "colab": {
     "base_uri": "https://localhost:8080/"
    },
    "id": "fVPzuCqZR-Qm",
    "outputId": "f672fbaa-d363-427c-bfff-b859b8ca38a9"
   },
   "outputs": [],
   "source": [
    "import pandas as pd\n",
    "import numpy as np\n",
    "import seaborn as sns\n",
    "import matplotlib.pyplot as plt\n",
    "import plotly.express as px\n",
    "import statistics as sts\n",
    "import warnings\n",
    "from scipy.stats import probplot,shapiro,spearmanr,pearsonr,kendalltau\n",
    "from statsmodels import stats\n",
    "from statsmodels.stats.diagnostic import lilliefors\n",
    "import statsmodels\n",
    "import statsmodels.formula.api as smf\n",
    "import statsmodels.stats.api as sms\n",
    "from statsmodels.compat import lzip\n",
    "from sklearn.model_selection import train_test_split\n",
    "from sklearn.linear_model import LinearRegression\n",
    "from sklearn.metrics import mean_absolute_error,mean_squared_error\n",
    "from sklearn.model_selection import KFold\n",
    "from sklearn.model_selection import cross_val_score\n",
    "from sklearn.preprocessing import PolynomialFeatures,StandardScaler\n",
    "from sklearn.svm import SVR\n",
    "from sklearn.tree import DecisionTreeRegressor\n",
    "from sklearn.ensemble import RandomForestRegressor\n",
    "from xgboost import XGBRegressor\n",
    "\n",
    "\n",
    "warnings.filterwarnings('ignore')\n",
    "\n",
    "df = pd.read_csv('/Users/diogomonteiro/housing.csv')"
   ]
  },
  {
   "cell_type": "markdown",
   "metadata": {
    "id": "voIjwafOR-Qr"
   },
   "source": [
    "### **Entendendo as colunas**\n",
    "\n",
    "RM: É o número médio de cômodos entre os imoveis no bairro.\n",
    "\n",
    "LSTAT: É a porcentagem de proprietários no bairro considerados de \"classe baixa\" (proletariado)\n",
    "\n",
    "PTRATIO: É a razão entre estudantes e professores nas escolas de ensino fundamental e médio no bairro.\n",
    "\n",
    "### **Coluna alvo**\n",
    "\n",
    "MEDV: Valor médio das casas        "
   ]
  },
  {
   "cell_type": "code",
   "execution_count": null,
   "metadata": {
    "colab": {
     "base_uri": "https://localhost:8080/",
     "height": 1000
    },
    "id": "KdE07jjfR-Qs",
    "outputId": "8650e53e-000e-4363-c24e-5c202b4d51f5"
   },
   "outputs": [],
   "source": [
    "# Classe para análisar as colunas e plotar gráficos de dispersão\n",
    "class Analisar():\n",
    "    def __init__(self,dados):\n",
    "        self.df = dados\n",
    "\n",
    "    def analise(self):\n",
    "        for i in self.df.columns:\n",
    "            if self.df[i].dtype == 'int64' or self.df[i].dtype == 'float64':\n",
    "                print(f'\\n Nome da coluna:\\n {self.df[i].name}')\n",
    "                print(f'\\n Tipo da coluna:\\n {self.df[i].dtype}')\n",
    "                print(f'\\n Tipo da coluna:\\n {self.df.corr()}')\n",
    "                print(f'\\n Valor media da coluna:\\n {round(self.df[i].mean(),2)}')\n",
    "                print(f'\\n Quantidade de linhas da coluna:\\n {self.df[i].shape}')\n",
    "                print(f'\\n Valores unicos da coluna:\\n {self.df[i].isnull().sum()}')\n",
    "                print(f'\\n Valores nulos da coluna:\\n {self.df[i].describe()}')\n",
    "                fig = px.box(self.df[i])\n",
    "                fig.update_layout(xaxis=dict(showgrid=False),yaxis=dict(showgrid=False),title=f'Boxplot da coluna {i}',template='plotly_dark')\n",
    "                fig.show()\n",
    "\n",
    "    def dispersao(self):\n",
    "        for e in self.df.columns:\n",
    "          fig1 = px.scatter(self.df,x=self.df[e],y=self.df.MEDV,title='Correlação Linear',template='plotly_dark')\n",
    "          fig1.show()\n",
    "\n",
    "Analise = Analisar(df)\n",
    "Analise.dispersao()"
   ]
  },
  {
   "cell_type": "code",
   "execution_count": null,
   "metadata": {
    "colab": {
     "base_uri": "https://localhost:8080/",
     "height": 1000
    },
    "id": "YKmPRsX7R-Qu",
    "outputId": "e895de5f-314a-4f01-be4a-71e2904b67a9"
   },
   "outputs": [],
   "source": [
    "Analise.analise()"
   ]
  },
  {
   "cell_type": "code",
   "execution_count": null,
   "metadata": {
    "colab": {
     "base_uri": "https://localhost:8080/",
     "height": 817
    },
    "id": "g1xNZ2PoR-Qw",
    "outputId": "9009a01b-cb6d-493c-c212-d60ffe29c268"
   },
   "outputs": [],
   "source": [
    "fig = px.scatter_matrix(df,dimensions=[\"RM\", \"LSTAT\", \"PTRATIO\", \"MEDV\"])\n",
    "fig.update_layout(height=800,width=800,title='Correlação Linear',template='plotly_dark')\n",
    "fig.show()"
   ]
  },
  {
   "cell_type": "markdown",
   "metadata": {
    "id": "R8i_ox-GWZri"
   },
   "source": [
    "### **Análise da Normalidade**\n",
    "\n",
    "Gráfico QQ-Plot"
   ]
  },
  {
   "cell_type": "code",
   "execution_count": null,
   "metadata": {
    "colab": {
     "base_uri": "https://localhost:8080/",
     "height": 480
    },
    "id": "41Ph-pVeR-Qw",
    "outputId": "d6e06190-1f06-4b36-de88-c2e05aeb7822"
   },
   "outputs": [],
   "source": [
    "probplot(df.MEDV,dist='norm',plot=plt)\n",
    "plt.style.use('dark_background')\n",
    "plt.title('Normal Q-Q plot')\n",
    "plt.show()"
   ]
  },
  {
   "cell_type": "code",
   "execution_count": null,
   "metadata": {
    "colab": {
     "base_uri": "https://localhost:8080/"
    },
    "id": "SvzBD8fnXggg",
    "outputId": "1583343a-5392-4854-9698-a3dd8937f1bf"
   },
   "outputs": [],
   "source": [
    "df.columns"
   ]
  },
  {
   "cell_type": "code",
   "execution_count": null,
   "metadata": {
    "colab": {
     "base_uri": "https://localhost:8080/",
     "height": 542
    },
    "id": "1D7hD-7KR-Qx",
    "outputId": "ce092698-f20f-4b4d-cb9f-7dcaa8e04531"
   },
   "outputs": [],
   "source": [
    "fig1 = px.histogram(df,x='MEDV',nbins=50,template='plotly_dark')\n",
    "fig1.update_layout(title_text='Média dos valores')\n",
    "fig1.show()"
   ]
  },
  {
   "cell_type": "code",
   "execution_count": null,
   "metadata": {
    "colab": {
     "base_uri": "https://localhost:8080/",
     "height": 480
    },
    "id": "yQvlb4n7R-Qy",
    "outputId": "98537059-daa5-4b14-8364-8c2ef0b3cd72"
   },
   "outputs": [],
   "source": [
    "probplot(df.RM,dist='norm',plot=plt)\n",
    "plt.style.use('dark_background')\n",
    "plt.title('Normal Q-Q plot')\n",
    "plt.show()"
   ]
  },
  {
   "cell_type": "code",
   "execution_count": null,
   "metadata": {
    "colab": {
     "base_uri": "https://localhost:8080/",
     "height": 542
    },
    "id": "Rl9J3qJHR-Qy",
    "outputId": "06d99c3c-8a70-42a4-eed4-f3346078f060"
   },
   "outputs": [],
   "source": [
    "fig2 = px.histogram(df,x='RM',nbins=60,template='plotly_dark')\n",
    "fig2.update_layout(title_text='Média dos quartos')\n",
    "fig2.show()"
   ]
  },
  {
   "cell_type": "code",
   "execution_count": null,
   "metadata": {
    "colab": {
     "base_uri": "https://localhost:8080/",
     "height": 480
    },
    "id": "zIRwymgRR-Qy",
    "outputId": "5423b6ea-bd01-4372-cd5e-a70874be28a1"
   },
   "outputs": [],
   "source": [
    "probplot(df.LSTAT,dist='norm',plot=plt)\n",
    "plt.style.use('dark_background')\n",
    "plt.title('Normal Q-Q plot')\n",
    "plt.show()"
   ]
  },
  {
   "cell_type": "code",
   "execution_count": null,
   "metadata": {
    "colab": {
     "base_uri": "https://localhost:8080/",
     "height": 542
    },
    "id": "hD0psUYDR-Qy",
    "outputId": "9d86e0c2-7929-4d61-8ae3-b3be2981f3c4"
   },
   "outputs": [],
   "source": [
    "fig3 = px.histogram(df,x='LSTAT', nbins=40,template='plotly_dark')\n",
    "fig3.update_layout(title_text='Porcentagem de moradores de classe baixa')\n",
    "fig3.show()"
   ]
  },
  {
   "cell_type": "code",
   "execution_count": null,
   "metadata": {
    "colab": {
     "base_uri": "https://localhost:8080/",
     "height": 480
    },
    "id": "SE6GbACXR-Qz",
    "outputId": "dd169b1a-3737-406e-f0d4-cf12e060b36d"
   },
   "outputs": [],
   "source": [
    "probplot(df.PTRATIO,dist='norm',plot=plt)\n",
    "plt.style.use('dark_background')\n",
    "plt.title('Normal Q-Q plot')\n",
    "plt.show()"
   ]
  },
  {
   "cell_type": "code",
   "execution_count": null,
   "metadata": {
    "colab": {
     "base_uri": "https://localhost:8080/",
     "height": 542
    },
    "id": "K4gmccNUR-Q0",
    "outputId": "5357e7aa-acc4-45f9-bcff-6e702a450305"
   },
   "outputs": [],
   "source": [
    "fig4 = px.histogram(df,x='PTRATIO',nbins=60,template='plotly_dark')\n",
    "fig4.update_layout(title_text='Razão entre estudante e professores')\n",
    "fig4.show()"
   ]
  },
  {
   "cell_type": "markdown",
   "metadata": {
    "id": "5w-pWrZqePSp"
   },
   "source": [
    "### Teste de Shapiro-Wilk\n",
    "Shapiro-Wilk pode ser usado no maximo 5000 linhas\n",
    "\n",
    "Ho = distribuição normal: p > 0.05\n",
    "\n",
    "Ha = distribuição != normal: p <= 0.05"
   ]
  },
  {
   "cell_type": "code",
   "execution_count": null,
   "metadata": {
    "colab": {
     "base_uri": "https://localhost:8080/"
    },
    "id": "cpNWc_u2R-Q0",
    "outputId": "b02c6256-fa1c-47a9-94c2-d824f2c7cbcc"
   },
   "outputs": [],
   "source": [
    "shapiro(df.MEDV)"
   ]
  },
  {
   "cell_type": "code",
   "execution_count": null,
   "metadata": {
    "colab": {
     "base_uri": "https://localhost:8080/"
    },
    "id": "29gTLMALR-Q0",
    "outputId": "f3fb05d1-30d1-456e-f0dc-bca5b73ca978"
   },
   "outputs": [],
   "source": [
    "estatistica,p =shapiro(df.MEDV)\n",
    "print('Shapiro-Wilk')\n",
    "print(f'Estatisca do teste: {round(estatistica,2)}')\n",
    "print(f'P-valor: {p}')"
   ]
  },
  {
   "cell_type": "code",
   "execution_count": null,
   "metadata": {
    "colab": {
     "base_uri": "https://localhost:8080/"
    },
    "id": "cAV1puQoR-Q0",
    "outputId": "3d082321-3653-4aa2-87de-0c24b0fd8493"
   },
   "outputs": [],
   "source": [
    "estatistica,p =shapiro(df.RM)\n",
    "print('Shapiro-Wilk')\n",
    "print(f'Estatisca do teste: {round(estatistica,2)}')\n",
    "print(f'P-valor: {p}')"
   ]
  },
  {
   "cell_type": "code",
   "execution_count": null,
   "metadata": {
    "colab": {
     "base_uri": "https://localhost:8080/"
    },
    "id": "eWzFd8ZlR-Q0",
    "outputId": "516ff18e-58df-4b2e-f8b3-a99b9be1ba3d"
   },
   "outputs": [],
   "source": [
    "estatistica,p =shapiro(df.LSTAT)\n",
    "print('Shapiro-Wilk')\n",
    "print(f'Estatisca do teste: {round(estatistica,2)}')\n",
    "print(f'P-valor: {p}')"
   ]
  },
  {
   "cell_type": "code",
   "execution_count": null,
   "metadata": {
    "colab": {
     "base_uri": "https://localhost:8080/"
    },
    "id": "5KW9SF81R-Q0",
    "outputId": "f827627f-2b19-4ff4-95ae-7f9bc4ab9d5a"
   },
   "outputs": [],
   "source": [
    "estatistica,p =shapiro(df.PTRATIO)\n",
    "print('Shapiro-Wilk')\n",
    "print(f'Estatisca do teste: {round(estatistica,2)}')\n",
    "print(f'P-valor: {p}')"
   ]
  },
  {
   "cell_type": "markdown",
   "metadata": {
    "id": "6BjtS4cH1z8E"
   },
   "source": [
    "### **Resultado:**\n",
    "Não a distribuição normal\n",
    "\n",
    "--------"
   ]
  },
  {
   "cell_type": "markdown",
   "metadata": {
    "id": "BnRoJVaXA6_m"
   },
   "source": [
    "### **Teste lilliefors (Kolmogorov_Sminov)**\n",
    "Lilliefors pode ser usado com mais de 5000 linhas\n",
    "\n",
    "Ho = distribuição normal: p > 0.05\n",
    "\n",
    "Ha = distribuição normal: p<= 0.05"
   ]
  },
  {
   "cell_type": "code",
   "execution_count": null,
   "metadata": {
    "colab": {
     "base_uri": "https://localhost:8080/"
    },
    "id": "Hhmqo9u3R-Q0",
    "outputId": "d23c1a53-f32a-4418-ec06-db7e5b55848a"
   },
   "outputs": [],
   "source": [
    "estatistica,p =statsmodels.stats.diagnostic.lilliefors(df.MEDV,dist='norm')\n",
    "print('Lilliefors')\n",
    "print(f'Estatisca do teste: {round(estatistica,2)}')\n",
    "print(f'P-valor: {p}')"
   ]
  },
  {
   "cell_type": "code",
   "execution_count": null,
   "metadata": {
    "colab": {
     "base_uri": "https://localhost:8080/"
    },
    "id": "yCxZU0y7R-Q0",
    "outputId": "6cbb5d69-ef6c-4d44-c142-e5294170dee7"
   },
   "outputs": [],
   "source": [
    "estatistica,p =statsmodels.stats.diagnostic.lilliefors(df.RM,dist='norm')\n",
    "print('Lilliefors')\n",
    "print(f'Estatisca do teste: {round(estatistica,2)}')\n",
    "print(f'P-valor: {p}')"
   ]
  },
  {
   "cell_type": "code",
   "execution_count": null,
   "metadata": {
    "colab": {
     "base_uri": "https://localhost:8080/"
    },
    "id": "dy817UfQR-Q1",
    "outputId": "94d13a11-fd8a-4f75-8f56-e65ca410af98"
   },
   "outputs": [],
   "source": [
    "estatistica,p =statsmodels.stats.diagnostic.lilliefors(df.LSTAT,dist='norm')\n",
    "print('Lilliefors')\n",
    "print(f'Estatisca do teste: {round(estatistica,2)}')\n",
    "print(f'P-valor: {p}')"
   ]
  },
  {
   "cell_type": "code",
   "execution_count": null,
   "metadata": {
    "colab": {
     "base_uri": "https://localhost:8080/"
    },
    "id": "BnjahTf4R-Q1",
    "outputId": "ed3c8f49-5ce8-4f20-e97e-a02014346ac1"
   },
   "outputs": [],
   "source": [
    "estatistica,p =statsmodels.stats.diagnostic.lilliefors(df.PTRATIO,dist='norm')\n",
    "print('Lilliefors')\n",
    "print(f'Estatisca do teste: {round(estatistica,2)}')\n",
    "print(f'P-valor: {p}')"
   ]
  },
  {
   "cell_type": "markdown",
   "metadata": {
    "id": "NUn7uht82mlV"
   },
   "source": [
    "### **Resultado:**\n",
    "Confirmação que não a distribuição normal\n",
    "\n",
    "--------"
   ]
  },
  {
   "cell_type": "markdown",
   "metadata": {
    "id": "FzjCAI__LDvL"
   },
   "source": [
    "### **Correlação Linear**\n",
    "Pearson (distribuição normal)\n",
    "\n",
    "Spearman (distribuição não normal)\n",
    "\n",
    "Kendall (distribuição não normal com quantidade pequena de amostras)\n",
    "\n",
    "Ho = Não há correlação linear: p > 0.05\n",
    "\n",
    "Ha = existe correlação linear: p <= 0.05"
   ]
  },
  {
   "cell_type": "markdown",
   "metadata": {
    "id": "G_c32qV4NVJi"
   },
   "source": [
    "**Pearson**"
   ]
  },
  {
   "cell_type": "code",
   "execution_count": null,
   "metadata": {
    "colab": {
     "base_uri": "https://localhost:8080/"
    },
    "id": "otXMZ1v9Dyaj",
    "outputId": "06f8cbc9-8db2-468a-92d1-eb40256b8379"
   },
   "outputs": [],
   "source": [
    "coef,p = pearsonr(df.MEDV,df.RM)\n",
    "print('Pearson')\n",
    "print(f'Coeficiente de correlação: {coef}')\n",
    "print(f'p-valor: {p}')"
   ]
  },
  {
   "cell_type": "markdown",
   "metadata": {
    "id": "brC0IQ4w3Us-"
   },
   "source": [
    "**Spearman**"
   ]
  },
  {
   "cell_type": "code",
   "execution_count": null,
   "metadata": {
    "colab": {
     "base_uri": "https://localhost:8080/"
    },
    "id": "No6dl71aDyed",
    "outputId": "bd949317-7ea3-43f3-9ac9-da41ad1bebdc"
   },
   "outputs": [],
   "source": [
    "coef,p = spearmanr(df.MEDV,df.RM)\n",
    "print('Spearman')\n",
    "print(f'Coeficiente de correlação: {coef}')\n",
    "print(f'p-valor: {p}')"
   ]
  },
  {
   "cell_type": "markdown",
   "metadata": {
    "id": "T87cmXtv3fKS"
   },
   "source": [
    "**Kendall**"
   ]
  },
  {
   "cell_type": "code",
   "execution_count": null,
   "metadata": {
    "colab": {
     "base_uri": "https://localhost:8080/"
    },
    "id": "Q9b-1h51Dyhz",
    "outputId": "6e8ee2b2-9a44-433b-ed61-391da1aa981a"
   },
   "outputs": [],
   "source": [
    "coef,p = kendalltau(df.MEDV,df.RM)\n",
    "print('Kendall')\n",
    "print(f'Coeficiente de correlação: {coef}')\n",
    "print(f'p-valor: {p}')"
   ]
  },
  {
   "cell_type": "code",
   "execution_count": null,
   "metadata": {
    "colab": {
     "base_uri": "https://localhost:8080/",
     "height": 175
    },
    "id": "pL6qxoyIDykj",
    "outputId": "e3298b3f-f489-456b-972c-aae5967312dc"
   },
   "outputs": [],
   "source": [
    "correlacoes = df.corr(method='spearman')\n",
    "correlacoes"
   ]
  },
  {
   "cell_type": "code",
   "execution_count": null,
   "metadata": {
    "colab": {
     "base_uri": "https://localhost:8080/",
     "height": 440
    },
    "id": "xPvOfwS_QwDf",
    "outputId": "098d024b-4b6f-4ce1-e868-876560401a52"
   },
   "outputs": [],
   "source": [
    "plt.figure()\n",
    "sns.heatmap(correlacoes,annot=True)\n",
    "sns.set_theme(style='darkgrid')"
   ]
  },
  {
   "cell_type": "markdown",
   "metadata": {
    "id": "kVmyYvlHXORu"
   },
   "source": [
    "### **Regressão Linear Simples**\n",
    "\n",
    "##Valor médio (MEDV) em função do número de cômodos (RM)"
   ]
  },
  {
   "cell_type": "code",
   "execution_count": null,
   "metadata": {
    "colab": {
     "base_uri": "https://localhost:8080/",
     "height": 112
    },
    "id": "iQy9wdJ7DynG",
    "outputId": "fe62ca22-7582-47ed-9312-5b54f754cb47"
   },
   "outputs": [],
   "source": [
    "df.head(2)"
   ]
  },
  {
   "cell_type": "markdown",
   "metadata": {
    "id": "eqpFnzlf8ANu"
   },
   "source": [
    "### Separando a coluna LSTAT"
   ]
  },
  {
   "cell_type": "code",
   "execution_count": null,
   "metadata": {
    "colab": {
     "base_uri": "https://localhost:8080/"
    },
    "id": "yR_3yFFZXNWW",
    "outputId": "df06dde4-745d-4ad1-8dd7-03a39c3d40f5"
   },
   "outputs": [],
   "source": [
    "x1 = df.iloc[:,0:1].values\n",
    "x1"
   ]
  },
  {
   "cell_type": "markdown",
   "metadata": {
    "id": "m8xCnTfZ8MEF"
   },
   "source": [
    "Separando as colunas alvo"
   ]
  },
  {
   "cell_type": "code",
   "execution_count": null,
   "metadata": {
    "colab": {
     "base_uri": "https://localhost:8080/"
    },
    "id": "DkwBgDi3XNZK",
    "outputId": "62f1096a-28f0-44d6-d518-ccc62a9fa3e4"
   },
   "outputs": [],
   "source": [
    "y = df.iloc[:,3].values\n",
    "y"
   ]
  },
  {
   "cell_type": "markdown",
   "metadata": {
    "id": "OUuxe3A38uJ8"
   },
   "source": [
    "Separando os dados em teste e treino"
   ]
  },
  {
   "cell_type": "code",
   "execution_count": null,
   "metadata": {
    "id": "wrbj3pRJXNcL"
   },
   "outputs": [],
   "source": [
    "x_treino,x_teste,y_treino,y_teste = train_test_split(x1,y, test_size=0.3, random_state=10,)"
   ]
  },
  {
   "cell_type": "code",
   "execution_count": null,
   "metadata": {
    "colab": {
     "base_uri": "https://localhost:8080/"
    },
    "id": "1GpzAU5BXNfa",
    "outputId": "89ffec5d-be42-4292-e030-d3dec6857715"
   },
   "outputs": [],
   "source": [
    "x_treino.shape,y_treino.shape"
   ]
  },
  {
   "cell_type": "code",
   "execution_count": null,
   "metadata": {
    "colab": {
     "base_uri": "https://localhost:8080/"
    },
    "id": "3yX4B7cwXNiL",
    "outputId": "e3a256cb-196d-4700-d78d-96464ddaf276"
   },
   "outputs": [],
   "source": [
    "x_teste.shape,y_teste.shape"
   ]
  },
  {
   "cell_type": "code",
   "execution_count": null,
   "metadata": {
    "colab": {
     "base_uri": "https://localhost:8080/",
     "height": 75
    },
    "id": "eZl8eNwwXNlV",
    "outputId": "368febe0-fe84-4ef7-b4f4-fd5a4d6f693e"
   },
   "outputs": [],
   "source": [
    "reg_linear1 = LinearRegression()\n",
    "reg_linear1.fit(x_treino,y_treino)"
   ]
  },
  {
   "cell_type": "markdown",
   "metadata": {
    "id": "29Q6Loy5blex"
   },
   "source": [
    "Intercepto (coeficiente linear)"
   ]
  },
  {
   "cell_type": "code",
   "execution_count": null,
   "metadata": {
    "colab": {
     "base_uri": "https://localhost:8080/"
    },
    "id": "sMV-OaxtasWA",
    "outputId": "867f6949-6aed-4e82-f1a5-16f4612cb6e7"
   },
   "outputs": [],
   "source": [
    "reg_linear1.intercept_"
   ]
  },
  {
   "cell_type": "markdown",
   "metadata": {
    "id": "3AdR9YeUcQ_Q"
   },
   "source": [
    "Coeficiente Angular"
   ]
  },
  {
   "cell_type": "code",
   "execution_count": null,
   "metadata": {
    "colab": {
     "base_uri": "https://localhost:8080/"
    },
    "id": "YubAWffkasbh",
    "outputId": "4d4ecb03-4dfa-4bd9-a687-cb760554effd"
   },
   "outputs": [],
   "source": [
    "reg_linear1.coef_"
   ]
  },
  {
   "cell_type": "markdown",
   "metadata": {
    "id": "RbvZ0XGCc11J"
   },
   "source": [
    "**Equação: Valor = -626510.26 + 173771.45 vezes o número cômodos**"
   ]
  },
  {
   "cell_type": "markdown",
   "metadata": {
    "id": "21un89XAdfpz"
   },
   "source": [
    "Coeficiente de Determinação dados de treino"
   ]
  },
  {
   "cell_type": "code",
   "execution_count": null,
   "metadata": {
    "colab": {
     "base_uri": "https://localhost:8080/"
    },
    "id": "s9U4qxfqaseh",
    "outputId": "19f9d52d-e1f0-459d-ad74-83bbeb617531"
   },
   "outputs": [],
   "source": [
    "reg_linear1.score(x_treino,y_treino)"
   ]
  },
  {
   "cell_type": "code",
   "execution_count": null,
   "metadata": {
    "colab": {
     "base_uri": "https://localhost:8080/"
    },
    "id": "Xlk_CUNiashr",
    "outputId": "ab07ae0b-5d2b-4f79-a56e-46102c5227fe"
   },
   "outputs": [],
   "source": [
    "reg_linear1.score(x_teste,y_teste)"
   ]
  },
  {
   "cell_type": "code",
   "execution_count": null,
   "metadata": {
    "colab": {
     "base_uri": "https://localhost:8080/"
    },
    "id": "sbo1N0EweX9J",
    "outputId": "bcf8f2a1-96e1-4f6e-f873-cf03db1eee2f"
   },
   "outputs": [],
   "source": [
    "previsoes_treino = reg_linear1.predict(x_treino)\n",
    "previsoes_treino"
   ]
  },
  {
   "cell_type": "code",
   "execution_count": null,
   "metadata": {
    "colab": {
     "base_uri": "https://localhost:8080/",
     "height": 480
    },
    "id": "qPpRk51ceYAf",
    "outputId": "1dee3733-b99b-4a7e-cae9-f13e102bd517"
   },
   "outputs": [],
   "source": [
    "plt.scatter(y=y_treino,x=x_treino,color='orange', s=10, alpha=0.9)\n",
    "x_plot = np.linspace(3,9)\n",
    "plt.plot(x_plot,x_plot*reg_linear1.coef_ + reg_linear1.intercept_,color='r')\n",
    "plt.style.use('dark_background')\n",
    "plt.title('Reta de regressão')\n",
    "plt.ylabel('Valor médio')\n",
    "plt.xlabel('Quantidades média de cômodos')\n",
    "plt.show()"
   ]
  },
  {
   "cell_type": "code",
   "execution_count": null,
   "metadata": {
    "colab": {
     "base_uri": "https://localhost:8080/"
    },
    "id": "K0VtGHV2eYDh",
    "outputId": "fb7605f9-60ca-4ac8-e4e0-02fdf13b51e3"
   },
   "outputs": [],
   "source": [
    "previsoes_teste = reg_linear1.predict(x_teste)\n",
    "previsoes_teste"
   ]
  },
  {
   "cell_type": "code",
   "execution_count": null,
   "metadata": {
    "colab": {
     "base_uri": "https://localhost:8080/"
    },
    "id": "gJxl83xXeYGL",
    "outputId": "3b141652-4fc8-4870-eb26-9a8531f7d307"
   },
   "outputs": [],
   "source": [
    "y_teste"
   ]
  },
  {
   "cell_type": "code",
   "execution_count": null,
   "metadata": {
    "colab": {
     "base_uri": "https://localhost:8080/",
     "height": 480
    },
    "id": "zEx7OR8TeYJG",
    "outputId": "1459183e-17b8-4344-c582-c19ce003b8a5"
   },
   "outputs": [],
   "source": [
    "plt.scatter(y=y_teste,x=x_teste, color='orange', s=10, alpha=0.9)\n",
    "x_plot = np.linspace(3,9)\n",
    "plt.plot(x_plot,x_plot*reg_linear1.coef_ + reg_linear1.intercept_,color='r')\n",
    "plt.style.use('dark_background')\n",
    "plt.title('Reta de regressão')\n",
    "plt.ylabel('Valor médio')\n",
    "plt.xlabel('Quantidades de cômodos')\n",
    "plt.show()"
   ]
  },
  {
   "cell_type": "markdown",
   "metadata": {
    "id": "wXiXRq6OjgcH"
   },
   "source": [
    "Fazendo previsões para valores distintos"
   ]
  },
  {
   "cell_type": "code",
   "execution_count": null,
   "metadata": {
    "colab": {
     "base_uri": "https://localhost:8080/"
    },
    "id": "s4eqb8L1eYL3",
    "outputId": "fd7b8d86-23f3-4b47-fdd3-45db527d00b4"
   },
   "outputs": [],
   "source": [
    "valor_casa =reg_linear1.predict([[9]])\n",
    "valor_casa"
   ]
  },
  {
   "cell_type": "markdown",
   "metadata": {
    "id": "elctDByBCnNR"
   },
   "source": [
    "### **Resposta:**\n",
    "\n",
    "Coeficiente esta muito baixo, isso esta causando erro na previsão dos valores das casas.\n",
    "\n",
    "Esta dando erro nas previsão de casas com 1 à 3 quartos.\n",
    "\n",
    "------------"
   ]
  },
  {
   "cell_type": "markdown",
   "metadata": {
    "id": "9XR_vovfkKm6"
   },
   "source": [
    "### **Métricas de Desempenho**"
   ]
  },
  {
   "cell_type": "markdown",
   "metadata": {
    "id": "NXQKxy7pkvGv"
   },
   "source": [
    "Erro absoluto"
   ]
  },
  {
   "cell_type": "code",
   "execution_count": null,
   "metadata": {
    "colab": {
     "base_uri": "https://localhost:8080/"
    },
    "id": "RZ1JKJB0eYPL",
    "outputId": "c6859e39-7328-4adf-8042-32c0a98b3e93"
   },
   "outputs": [],
   "source": [
    "abs(y_teste - previsoes_teste).mean()"
   ]
  },
  {
   "cell_type": "markdown",
   "metadata": {
    "id": "i_LUI9Xwlzf7"
   },
   "source": [
    "Erro médio absoluto"
   ]
  },
  {
   "cell_type": "code",
   "execution_count": null,
   "metadata": {
    "colab": {
     "base_uri": "https://localhost:8080/"
    },
    "id": "D-TaXhxoeYRj",
    "outputId": "97421275-e816-4371-bfec-73ecb631cd72"
   },
   "outputs": [],
   "source": [
    "mean_absolute_error(y_teste,previsoes_teste)"
   ]
  },
  {
   "cell_type": "markdown",
   "metadata": {
    "id": "-O-cxkCRmYvC"
   },
   "source": [
    "Erro quadrádico médio"
   ]
  },
  {
   "cell_type": "code",
   "execution_count": null,
   "metadata": {
    "colab": {
     "base_uri": "https://localhost:8080/"
    },
    "id": "-EdyX2WcmW2W",
    "outputId": "0c589b2e-f469-46c0-aa42-f7477e6686d6"
   },
   "outputs": [],
   "source": [
    "mean_squared_error(y_teste,previsoes_teste)"
   ]
  },
  {
   "cell_type": "markdown",
   "metadata": {
    "id": "rzIXLqhfmuZ7"
   },
   "source": [
    "Raiz do erro quadrático médio"
   ]
  },
  {
   "cell_type": "code",
   "execution_count": null,
   "metadata": {
    "colab": {
     "base_uri": "https://localhost:8080/"
    },
    "id": "dlDC7htrmXHZ",
    "outputId": "f80bfd3f-3b86-4fcd-bfe3-39a9246e7312"
   },
   "outputs": [],
   "source": [
    "np.sqrt(mean_squared_error(y_teste,previsoes_teste))"
   ]
  },
  {
   "cell_type": "markdown",
   "metadata": {
    "id": "tKa4PqRQo1Dc"
   },
   "source": [
    "**Valor médio (MEDV) em função da classe social (RM)**"
   ]
  },
  {
   "cell_type": "code",
   "execution_count": null,
   "metadata": {
    "colab": {
     "base_uri": "https://localhost:8080/",
     "height": 112
    },
    "id": "9HhZ_DyfmXRY",
    "outputId": "92235074-ac38-47ce-802d-5c931c02e062"
   },
   "outputs": [],
   "source": [
    "df.head(2)"
   ]
  },
  {
   "cell_type": "markdown",
   "metadata": {
    "id": "hsZhkzMgf74C"
   },
   "source": [
    "Separando a coluna (RM)"
   ]
  },
  {
   "cell_type": "code",
   "execution_count": null,
   "metadata": {
    "id": "sHQwfmvZ8-mP"
   },
   "outputs": [],
   "source": [
    "x2 = df.iloc[:,0:1]"
   ]
  },
  {
   "cell_type": "markdown",
   "metadata": {
    "id": "NGLdrAQXgE9h"
   },
   "source": [
    "Separando a coluna alvo (MEDV)"
   ]
  },
  {
   "cell_type": "code",
   "execution_count": null,
   "metadata": {
    "id": "dZDXXN1b8-jX"
   },
   "outputs": [],
   "source": [
    "y = df.iloc[:,3].values"
   ]
  },
  {
   "cell_type": "markdown",
   "metadata": {
    "id": "g5yrcGgneiGH"
   },
   "source": [
    "Preparando os dados treino e teste"
   ]
  },
  {
   "cell_type": "code",
   "execution_count": null,
   "metadata": {
    "id": "lc2aelpj8-fi"
   },
   "outputs": [],
   "source": [
    "x_treino,x_teste,y_treino,y_teste = train_test_split(x2,y,test_size=0.3,random_state=10)\n"
   ]
  },
  {
   "cell_type": "code",
   "execution_count": null,
   "metadata": {
    "colab": {
     "base_uri": "https://localhost:8080/"
    },
    "id": "VqhUshCJ8-cs",
    "outputId": "2aca6903-8b42-4697-b499-9c1bae0d1237"
   },
   "outputs": [],
   "source": [
    "x_treino.shape,y_treino.shape"
   ]
  },
  {
   "cell_type": "code",
   "execution_count": null,
   "metadata": {
    "colab": {
     "base_uri": "https://localhost:8080/"
    },
    "id": "P7qkXpRF8-aQ",
    "outputId": "b73349b0-3e09-49a2-ce20-06af6f591871"
   },
   "outputs": [],
   "source": [
    "x_teste.shape,y_teste.shape"
   ]
  },
  {
   "cell_type": "markdown",
   "metadata": {
    "id": "wIS7HXTwg-sP"
   },
   "source": [
    "Treinando o modelo"
   ]
  },
  {
   "cell_type": "code",
   "execution_count": null,
   "metadata": {
    "colab": {
     "base_uri": "https://localhost:8080/",
     "height": 75
    },
    "id": "RwQSGWf38-XK",
    "outputId": "c5e6c5ba-577b-4bb9-bd42-b82e14fcb796"
   },
   "outputs": [],
   "source": [
    "reg_linear2 = LinearRegression()\n",
    "reg_linear2.fit(x_treino,y_treino)"
   ]
  },
  {
   "cell_type": "markdown",
   "metadata": {
    "id": "koyD8839_dU5"
   },
   "source": [
    "Intercepto (coeficinte linear)"
   ]
  },
  {
   "cell_type": "code",
   "execution_count": null,
   "metadata": {
    "colab": {
     "base_uri": "https://localhost:8080/"
    },
    "id": "RHDZa1Sn8-UJ",
    "outputId": "5a7cd8ec-daec-46b4-9190-0a3828f715c5"
   },
   "outputs": [],
   "source": [
    "reg_linear2.intercept_"
   ]
  },
  {
   "cell_type": "markdown",
   "metadata": {
    "id": "APSYkLBS_wa-"
   },
   "source": [
    "Coeficiente Angular"
   ]
  },
  {
   "cell_type": "code",
   "execution_count": null,
   "metadata": {
    "colab": {
     "base_uri": "https://localhost:8080/"
    },
    "id": "b1BwKVDH8-RM",
    "outputId": "1de8bd2d-b67c-4428-8a2c-0fbd744b36de"
   },
   "outputs": [],
   "source": [
    "reg_linear2.coef_"
   ]
  },
  {
   "cell_type": "markdown",
   "metadata": {
    "id": "E2YxHNyJynYU"
   },
   "source": [
    "**Equação: Valor = -626510.26 + 173771.45 x LSTAT(Números de cômodos)**"
   ]
  },
  {
   "cell_type": "markdown",
   "metadata": {
    "id": "UnkzzjVPAPC2"
   },
   "source": [
    "Coeficiente de Determinacão dados de treino"
   ]
  },
  {
   "cell_type": "code",
   "execution_count": null,
   "metadata": {
    "colab": {
     "base_uri": "https://localhost:8080/"
    },
    "id": "jFsa0XEv8-HV",
    "outputId": "e1870dea-3ec1-4437-9e8c-359d51158f7b"
   },
   "outputs": [],
   "source": [
    "reg_linear2.score(x_treino,y_treino)"
   ]
  },
  {
   "cell_type": "markdown",
   "metadata": {
    "id": "orwRxHytE8Qb"
   },
   "source": [
    "Coeficiente de Determinacão dados de teste"
   ]
  },
  {
   "cell_type": "code",
   "execution_count": null,
   "metadata": {
    "colab": {
     "base_uri": "https://localhost:8080/"
    },
    "id": "dfYp4wmGE78y",
    "outputId": "7a44cc90-ef4f-4a7e-b9ad-6c07b5919361"
   },
   "outputs": [],
   "source": [
    "reg_linear2.score(x_teste,y_teste)"
   ]
  },
  {
   "cell_type": "markdown",
   "metadata": {
    "id": "C7DXWa0SA2aa"
   },
   "source": [
    "**Previsão**"
   ]
  },
  {
   "cell_type": "code",
   "execution_count": null,
   "metadata": {
    "colab": {
     "base_uri": "https://localhost:8080/"
    },
    "id": "CjiwYZ-rAARG",
    "outputId": "f9052d1c-ff7a-4f6a-bbba-67ec98fa7949"
   },
   "outputs": [],
   "source": [
    "previsoes_treino1 = reg_linear2.predict(x_treino)\n",
    "previsoes_treino1"
   ]
  },
  {
   "cell_type": "code",
   "execution_count": null,
   "metadata": {
    "colab": {
     "base_uri": "https://localhost:8080/",
     "height": 481
    },
    "id": "FyS0EScjAAO9",
    "outputId": "3a772dfc-d45e-4b16-baee-8bb5d02e31a0"
   },
   "outputs": [],
   "source": [
    "plt.scatter(y=y_treino,x=x_treino, color='orange', s=10, alpha=0.9)\n",
    "x_plot = np.linspace(3,9)\n",
    "plt.plot(x_plot,x_plot*reg_linear2.coef_ + reg_linear2.intercept_,color='r')\n",
    "plt.style.use('dark_background')\n",
    "plt.title('Reta de regressão')\n",
    "plt.ylabel('Valor médio')\n",
    "plt.xlabel('Quantidades de Proprietários de Classe baixa (%)')\n",
    "plt.show()"
   ]
  },
  {
   "cell_type": "code",
   "execution_count": null,
   "metadata": {
    "colab": {
     "base_uri": "https://localhost:8080/"
    },
    "id": "LeRDE7DHAAM-",
    "outputId": "ee64fd16-272b-4fe7-af47-56b6bbcdf7b0"
   },
   "outputs": [],
   "source": [
    "# Prevendo os dados de teste\n",
    "previsoes_teste = reg_linear2.predict(x_teste)\n",
    "previsoes_teste"
   ]
  },
  {
   "cell_type": "code",
   "execution_count": null,
   "metadata": {
    "colab": {
     "base_uri": "https://localhost:8080/"
    },
    "id": "UgJAp5gvAAK9",
    "outputId": "db507078-fa2e-4a60-d25e-79a814bb400b"
   },
   "outputs": [],
   "source": [
    "# Analisando o score\n",
    "reg_linear2.score(x_teste,y_teste)"
   ]
  },
  {
   "cell_type": "code",
   "execution_count": null,
   "metadata": {
    "colab": {
     "base_uri": "https://localhost:8080/",
     "height": 481
    },
    "id": "YaQFAVnPAAGB",
    "outputId": "5fcffac3-7d1e-4d67-c7c8-df344854b3b5"
   },
   "outputs": [],
   "source": [
    "plt.scatter(y=y_teste,x=x_teste, color='orange', s=10, alpha=0.9)\n",
    "x_plot = np.linspace(3,9)\n",
    "plt.plot(x_plot,x_plot*reg_linear2.coef_ + reg_linear2.intercept_,color='r')\n",
    "plt.style.use('dark_background')\n",
    "plt.title('Reta de regressão')\n",
    "plt.ylabel('Valor médio')\n",
    "plt.xlabel('Quantidades de Proprietários de Classe baixa (%)')\n",
    "plt.show()"
   ]
  },
  {
   "cell_type": "code",
   "execution_count": null,
   "metadata": {
    "colab": {
     "base_uri": "https://localhost:8080/"
    },
    "id": "VVEhlk4pAADE",
    "outputId": "15e9f242-ee09-4acb-d2df-063999e8bd77"
   },
   "outputs": [],
   "source": [
    "# Fazendo previsões para valores distintos\n",
    "valor_casa = reg_linear2.predict([[4]])\n",
    "valor_casa"
   ]
  },
  {
   "cell_type": "markdown",
   "metadata": {
    "id": "L4klzOPW3DBY"
   },
   "source": [
    "Métricas de Desempenho"
   ]
  },
  {
   "cell_type": "code",
   "execution_count": null,
   "metadata": {
    "colab": {
     "base_uri": "https://localhost:8080/"
    },
    "id": "syboMKmZ___0",
    "outputId": "61299681-f9b2-4c87-91e1-2e8558c4c1a6"
   },
   "outputs": [],
   "source": [
    "# Erro absoluto\n",
    "abs(y_teste - previsoes_teste).mean()"
   ]
  },
  {
   "cell_type": "code",
   "execution_count": null,
   "metadata": {
    "colab": {
     "base_uri": "https://localhost:8080/"
    },
    "id": "FEkIFtQg0SKX",
    "outputId": "cba2195e-44db-482b-d5e2-47721043c496"
   },
   "outputs": [],
   "source": [
    "# Erro médio absoluto\n",
    "mean_absolute_error(y_teste, previsoes_teste)"
   ]
  },
  {
   "cell_type": "code",
   "execution_count": null,
   "metadata": {
    "colab": {
     "base_uri": "https://localhost:8080/"
    },
    "id": "Tth6XinyHh1m",
    "outputId": "d649300a-0b38-4551-f041-9780098bda16"
   },
   "outputs": [],
   "source": [
    "# Erro quadrático médio\n",
    "mean_squared_error(y_teste, previsoes_teste)"
   ]
  },
  {
   "cell_type": "code",
   "execution_count": null,
   "metadata": {
    "colab": {
     "base_uri": "https://localhost:8080/"
    },
    "id": "NQXcbdT1HhnM",
    "outputId": "98bc3046-c01b-43a5-a87f-559b89409daa"
   },
   "outputs": [],
   "source": [
    "# Raiz do erro quadrático médio\n",
    "np.sqrt(mean_squared_error(y_teste, previsoes_teste))"
   ]
  },
  {
   "cell_type": "markdown",
   "metadata": {
    "id": "eaB75zpYHjMy"
   },
   "source": [
    "### Valor médio (MEDV) em função da classe social (LSTAT)"
   ]
  },
  {
   "cell_type": "code",
   "execution_count": null,
   "metadata": {
    "colab": {
     "base_uri": "https://localhost:8080/",
     "height": 143
    },
    "id": "vv7X3Gg5Jmzi",
    "outputId": "0e97dd39-fbbe-4968-ed5a-4e5dbcd6f122"
   },
   "outputs": [],
   "source": [
    "df.head(3)"
   ]
  },
  {
   "cell_type": "markdown",
   "metadata": {
    "id": "gTTaNrOCeRLu"
   },
   "source": [
    "Separando a coluna LSTAT"
   ]
  },
  {
   "cell_type": "code",
   "execution_count": null,
   "metadata": {
    "colab": {
     "base_uri": "https://localhost:8080/"
    },
    "id": "87F8o9wVJmvb",
    "outputId": "d657ccda-7633-4cb3-e79a-15fb353d6f40"
   },
   "outputs": [],
   "source": [
    "x3 = df.iloc[:,1:2].values\n",
    "x3"
   ]
  },
  {
   "cell_type": "markdown",
   "metadata": {
    "id": "M6ZTg74RhwKC"
   },
   "source": [
    "Separando coluna alvo (MEDV)"
   ]
  },
  {
   "cell_type": "code",
   "execution_count": null,
   "metadata": {
    "colab": {
     "base_uri": "https://localhost:8080/"
    },
    "id": "gExJMTIqJmT-",
    "outputId": "4fd6bef8-8c1d-4874-8643-96073ad80f6e"
   },
   "outputs": [],
   "source": [
    "y = df.iloc[:,3].values\n",
    "y"
   ]
  },
  {
   "cell_type": "markdown",
   "metadata": {
    "id": "1hgJCmexiAU_"
   },
   "source": [
    "Separando dados treino e teste"
   ]
  },
  {
   "cell_type": "code",
   "execution_count": null,
   "metadata": {
    "id": "0uJT2r9hJmNE"
   },
   "outputs": [],
   "source": [
    "x_treino,x_teste,y_treino,y_teste = train_test_split(x3, y, test_size = 0.3, random_state=10)"
   ]
  },
  {
   "cell_type": "code",
   "execution_count": null,
   "metadata": {
    "colab": {
     "base_uri": "https://localhost:8080/"
    },
    "id": "Jh3PKkOEJl-A",
    "outputId": "7b95eb76-1b23-42fc-9c0f-ffdf9aa2bf82"
   },
   "outputs": [],
   "source": [
    "x_treino.shape, y_treino.shape"
   ]
  },
  {
   "cell_type": "code",
   "execution_count": null,
   "metadata": {
    "colab": {
     "base_uri": "https://localhost:8080/"
    },
    "id": "HxKw8FMtK8nz",
    "outputId": "240ebb50-8a02-4915-b0f5-9579a96320a2"
   },
   "outputs": [],
   "source": [
    "x_teste.shape, y_teste.shape"
   ]
  },
  {
   "cell_type": "markdown",
   "metadata": {
    "id": "HmxyEoPBiJA5"
   },
   "source": [
    "Treinando o modelo"
   ]
  },
  {
   "cell_type": "code",
   "execution_count": null,
   "metadata": {
    "colab": {
     "base_uri": "https://localhost:8080/",
     "height": 75
    },
    "id": "2G4gK2sILN6c",
    "outputId": "c0b6ed35-1948-4cfe-e6cc-65e31293722b"
   },
   "outputs": [],
   "source": [
    "reg_linear3 = LinearRegression()\n",
    "reg_linear3.fit(x_treino,y_treino)"
   ]
  },
  {
   "cell_type": "markdown",
   "metadata": {
    "id": "kIFBzP52iaY7"
   },
   "source": [
    "Intercepto (coeficiente linear)"
   ]
  },
  {
   "cell_type": "code",
   "execution_count": null,
   "metadata": {
    "colab": {
     "base_uri": "https://localhost:8080/"
    },
    "id": "potE6iDkLN3n",
    "outputId": "263b1e9d-232f-4e26-bc3f-6e20df814501"
   },
   "outputs": [],
   "source": [
    "reg_linear3.intercept_"
   ]
  },
  {
   "cell_type": "markdown",
   "metadata": {
    "id": "wOrDOL3niu8d"
   },
   "source": [
    "Coeficiente Angular"
   ]
  },
  {
   "cell_type": "code",
   "execution_count": null,
   "metadata": {
    "colab": {
     "base_uri": "https://localhost:8080/"
    },
    "id": "JVOT9gyCLNxP",
    "outputId": "112f74d5-29ef-487a-8116-9ca8f869167d"
   },
   "outputs": [],
   "source": [
    "reg_linear3.coef_"
   ]
  },
  {
   "cell_type": "markdown",
   "metadata": {
    "id": "WrlOTGjqkSa-"
   },
   "source": [
    "**Equação: Valor = 681977.74 - 17263.75 x LSTAT(Números de cômodos)**"
   ]
  },
  {
   "cell_type": "markdown",
   "metadata": {
    "id": "K7tWm2JDjHWJ"
   },
   "source": [
    "Coeficiente de Determinação dados de treino"
   ]
  },
  {
   "cell_type": "code",
   "execution_count": null,
   "metadata": {
    "colab": {
     "base_uri": "https://localhost:8080/"
    },
    "id": "Vw5qvTPVLNsO",
    "outputId": "94a9b44b-80a7-439d-8480-b8ccadf24f6e"
   },
   "outputs": [],
   "source": [
    "reg_linear3.score(x_treino,y_treino)"
   ]
  },
  {
   "cell_type": "code",
   "execution_count": null,
   "metadata": {
    "colab": {
     "base_uri": "https://localhost:8080/"
    },
    "id": "T1am_7j9jb5P",
    "outputId": "76e0723f-e120-4492-ec2a-2770830f4c23"
   },
   "outputs": [],
   "source": [
    "previsoes_treino = reg_linear3.predict(x_treino)\n",
    "previsoes_treino"
   ]
  },
  {
   "cell_type": "code",
   "execution_count": null,
   "metadata": {
    "colab": {
     "base_uri": "https://localhost:8080/",
     "height": 481
    },
    "id": "BExwK0ibjbx2",
    "outputId": "083f7287-89c4-4dd5-9100-f9a21745a379"
   },
   "outputs": [],
   "source": [
    "plt.scatter(y=y_treino,x=x_treino, color=\"orange\", s=10, alpha=0.9)\n",
    "x_plot = np.linspace(0,40)\n",
    "plt.plot(x_plot, x_plot*reg_linear3.coef_+reg_linear3.intercept_, color='r')\n",
    "plt.title('Reta de regressão')\n",
    "plt.ylabel('Valor médio')\n",
    "plt.xlabel('Quantidade de proprietários de Classe Média Baixa (%)')\n",
    "plt.show()"
   ]
  },
  {
   "cell_type": "code",
   "execution_count": null,
   "metadata": {
    "colab": {
     "base_uri": "https://localhost:8080/"
    },
    "id": "7NBfPMKOjbqz",
    "outputId": "883f6864-b1cb-4ead-8fea-808de3acc43c"
   },
   "outputs": [],
   "source": [
    "previsoes_teste = reg_linear3.predict(x_teste)\n",
    "previsoes_teste"
   ]
  },
  {
   "cell_type": "code",
   "execution_count": null,
   "metadata": {
    "colab": {
     "base_uri": "https://localhost:8080/"
    },
    "id": "kteEaZRwjbeH",
    "outputId": "75222216-51ac-4cce-b0a2-b328ea5e1b34"
   },
   "outputs": [],
   "source": [
    "y_teste"
   ]
  },
  {
   "cell_type": "markdown",
   "metadata": {
    "id": "TNe13RHJnEEw"
   },
   "source": [
    "Coeficiente de Determinação dados de teste"
   ]
  },
  {
   "cell_type": "code",
   "execution_count": null,
   "metadata": {
    "colab": {
     "base_uri": "https://localhost:8080/"
    },
    "id": "R0lLgvbrjaWF",
    "outputId": "66be0110-a39d-4edd-d721-9bf4b50385ac"
   },
   "outputs": [],
   "source": [
    "reg_linear3.score(x_teste,y_teste)"
   ]
  },
  {
   "cell_type": "code",
   "execution_count": null,
   "metadata": {
    "colab": {
     "base_uri": "https://localhost:8080/",
     "height": 481
    },
    "id": "QzVWPIyEnYAy",
    "outputId": "f226650b-0ba5-4f3d-c072-952a15210f6a"
   },
   "outputs": [],
   "source": [
    "plt.scatter(y=y_teste,x=x_teste, color=\"orange\", s=10, alpha=0.9)\n",
    "x_plot = np.linspace(2,35)\n",
    "plt.plot(x_plot, x_plot*reg_linear3.coef_+reg_linear3.intercept_, color='r')\n",
    "plt.title('Reta de regressão')\n",
    "plt.ylabel('Valor médio')\n",
    "plt.xlabel('Quantidade de proprietários de Classe Média Baixa (%)')\n",
    "plt.show()"
   ]
  },
  {
   "cell_type": "code",
   "execution_count": null,
   "metadata": {
    "colab": {
     "base_uri": "https://localhost:8080/"
    },
    "id": "sZ9FWs7wnX8_",
    "outputId": "023c4232-f470-41f7-df39-92a47e66e7f4"
   },
   "outputs": [],
   "source": [
    "# Fazendo previsões para valores distintos\n",
    "valor_casa = reg_linear3.predict([[25]])\n",
    "valor_casa"
   ]
  },
  {
   "cell_type": "markdown",
   "metadata": {
    "id": "hoNtciRVoTsv"
   },
   "source": [
    "Métricas de Desempenho"
   ]
  },
  {
   "cell_type": "code",
   "execution_count": null,
   "metadata": {
    "colab": {
     "base_uri": "https://localhost:8080/"
    },
    "id": "s0JbhhNBnX0k",
    "outputId": "bc271b4b-68f9-41cc-f5d9-3aa2da6b3a71"
   },
   "outputs": [],
   "source": [
    "# Erro absoluto\n",
    "abs(y_teste - previsoes_teste).mean()"
   ]
  },
  {
   "cell_type": "code",
   "execution_count": null,
   "metadata": {
    "colab": {
     "base_uri": "https://localhost:8080/"
    },
    "id": "rRej8cWPnXvo",
    "outputId": "4e869e6c-ca69-44c2-efea-87b1127741e9"
   },
   "outputs": [],
   "source": [
    "# Erro médio Absoluto\n",
    "mean_absolute_error(y_teste, previsoes_teste)"
   ]
  },
  {
   "cell_type": "code",
   "execution_count": null,
   "metadata": {
    "colab": {
     "base_uri": "https://localhost:8080/"
    },
    "id": "B2c4gCLinXrW",
    "outputId": "fa94b780-832f-4821-e6c4-3939a931fa66"
   },
   "outputs": [],
   "source": [
    "# Erro quadrático médio\n",
    "mean_squared_error(y_teste, previsoes_teste)"
   ]
  },
  {
   "cell_type": "code",
   "execution_count": null,
   "metadata": {
    "colab": {
     "base_uri": "https://localhost:8080/"
    },
    "id": "cF8RFlWenXgd",
    "outputId": "5a7638e5-9442-4325-fff5-207fbdbd9c0b"
   },
   "outputs": [],
   "source": [
    "# Raiz do erro quadrático médio (RMSE)\n",
    "np.sqrt(mean_squared_error(y_teste, previsoes_teste))"
   ]
  },
  {
   "cell_type": "markdown",
   "metadata": {
    "id": "xjhUFBgkqmKR"
   },
   "source": [
    "Validação Cruzada"
   ]
  },
  {
   "cell_type": "code",
   "execution_count": null,
   "metadata": {
    "id": "GxSoayBOrMFG"
   },
   "outputs": [],
   "source": [
    "# Separando os dados em folds\n",
    "kfold = KFold(n_splits = 15, shuffle=True, random_state = 5)"
   ]
  },
  {
   "cell_type": "code",
   "execution_count": null,
   "metadata": {
    "colab": {
     "base_uri": "https://localhost:8080/"
    },
    "id": "QL8gGWCSrMBv",
    "outputId": "974e7f19-21f9-4e37-f5f6-7655a0724ea9"
   },
   "outputs": [],
   "source": [
    "# Criando o modelo\n",
    "modelo = LinearRegression()\n",
    "resultado = cross_val_score(modelo,x3,y,cv = kfold)\n",
    "resultado"
   ]
  },
  {
   "cell_type": "code",
   "execution_count": null,
   "metadata": {
    "colab": {
     "base_uri": "https://localhost:8080/"
    },
    "id": "42LoICD9rL-i",
    "outputId": "098aa80a-86dc-4a14-f04d-1a1cd073cc83"
   },
   "outputs": [],
   "source": [
    "# Usando a média e o desvio padrão\n",
    "print(f'Coef.determinação média: {round(resultado.mean()*100.0,2)}%')"
   ]
  },
  {
   "cell_type": "markdown",
   "metadata": {
    "id": "UPK2wwR3zRHL"
   },
   "source": [
    "Avaliando a Regressão Linear Simples com Statsmodels"
   ]
  },
  {
   "cell_type": "code",
   "execution_count": null,
   "metadata": {
    "colab": {
     "base_uri": "https://localhost:8080/",
     "height": 112
    },
    "id": "w94CF7rHzi_m",
    "outputId": "f00ff536-d07d-47f4-ed97-0987fe9eb5c0"
   },
   "outputs": [],
   "source": [
    "df.head(2)"
   ]
  },
  {
   "cell_type": "code",
   "execution_count": null,
   "metadata": {
    "id": "L21khzXzzi8N"
   },
   "outputs": [],
   "source": [
    "x = df.iloc[:,1:2].values"
   ]
  },
  {
   "cell_type": "code",
   "execution_count": null,
   "metadata": {
    "id": "JBJDb_Drzi4N"
   },
   "outputs": [],
   "source": [
    "y = df.iloc[:,3].values"
   ]
  },
  {
   "cell_type": "code",
   "execution_count": null,
   "metadata": {
    "id": "1YLSeN9Dzi0y"
   },
   "outputs": [],
   "source": [
    "# Criando o modelo\n",
    "regressao = smf.ols('y ~ x', data = df).fit()"
   ]
  },
  {
   "cell_type": "code",
   "execution_count": null,
   "metadata": {
    "colab": {
     "base_uri": "https://localhost:8080/"
    },
    "id": "BJQaJafzziun",
    "outputId": "30b96a0f-e7f5-4797-b31d-c174eae71a78"
   },
   "outputs": [],
   "source": [
    "residuos = regressao.resid\n",
    "residuos"
   ]
  },
  {
   "cell_type": "markdown",
   "metadata": {
    "id": "vyJLQ0fl6VI0"
   },
   "source": [
    "### Teste de Normalidade dos resídos\n",
    "\n",
    "Ho = distribuição normal: p > 0.05\n",
    "\n",
    "Ha = distribuição != normal : p <= 0.05"
   ]
  },
  {
   "cell_type": "code",
   "execution_count": null,
   "metadata": {
    "colab": {
     "base_uri": "https://localhost:8080/"
    },
    "id": "kNMZl0Ed6dRQ",
    "outputId": "3977c87c-73a8-4bac-f382-c64b294c50de"
   },
   "outputs": [],
   "source": [
    "estatistica, p = shapiro(residuos)\n",
    "print('Shapiro-Wilk')\n",
    "print(f'Estatítica de teste: {estatistica}')\n",
    "print(f'p-valor: {p}')"
   ]
  },
  {
   "cell_type": "code",
   "execution_count": null,
   "metadata": {
    "colab": {
     "base_uri": "https://localhost:8080/",
     "height": 481
    },
    "id": "fNeLw3J86dMM",
    "outputId": "75f287e7-7430-431e-d980-c241354c7614"
   },
   "outputs": [],
   "source": [
    "probplot(residuos, dist='norm', plot=plt)\n",
    "plt.style.use('dark_background')\n",
    "plt.title('Normal Q-Q plot - resíduos')\n",
    "plt.show()"
   ]
  },
  {
   "cell_type": "markdown",
   "metadata": {
    "id": "L1RnU8bXC_SX"
   },
   "source": [
    "### **Análise da Homocedasticidade**\n",
    "\n",
    "(Resíduos com variação constante)"
   ]
  },
  {
   "cell_type": "code",
   "execution_count": null,
   "metadata": {
    "colab": {
     "base_uri": "https://localhost:8080/",
     "height": 458
    },
    "id": "m_oaEp7H6dHa",
    "outputId": "8ec9fc8d-193e-4137-dea9-5f9e2da70591"
   },
   "outputs": [],
   "source": [
    "plt.scatter(y=residuos, x=regressao.predict(), color='orange')\n",
    "plt.hlines(y=0, xmin=0, xmax=900000, color='red')\n",
    "plt.ylabel('Resíduos')\n",
    "plt.xlabel('Valores Preditos')\n",
    "plt.show()"
   ]
  },
  {
   "cell_type": "markdown",
   "metadata": {
    "id": "o-po2sjXZEWh"
   },
   "source": [
    "### Teste Breusch-Pagan (Homocedasticidade ou Heterocedasticidade)\n",
    "\n",
    "Ho = existe homocedasticidade: p > 0.05\n",
    "\n",
    "Ha = não existe homocedasticidade: p <= 0.05"
   ]
  },
  {
   "cell_type": "code",
   "execution_count": null,
   "metadata": {
    "colab": {
     "base_uri": "https://localhost:8080/"
    },
    "id": "pWuzCx1ZZDuv",
    "outputId": "de98f635-fdb7-49fe-cd1f-fa83e8ba797c"
   },
   "outputs": [],
   "source": [
    "estatistica, p, f, fp = sms.het_breuschpagan (regressao.resid, regressao.model.exog)\n",
    "print('Teste Breusch-Pagan')\n",
    "print(f'Estatística de teste: {estatistica}')\n",
    "print(f'p-valor: {p}')\n",
    "print(f'f-valor: {f}')\n",
    "print(f'f_p-valor: {fp}')"
   ]
  },
  {
   "cell_type": "markdown",
   "metadata": {
    "id": "pnPGCZ13LDdu"
   },
   "source": [
    "### **Outliers nos resíduos**\n",
    "(entre -3 e 3)"
   ]
  },
  {
   "cell_type": "code",
   "execution_count": null,
   "metadata": {
    "id": "_69wAtJF6dCU"
   },
   "outputs": [],
   "source": [
    "outliers = regressao.outlier_test()"
   ]
  },
  {
   "cell_type": "code",
   "execution_count": null,
   "metadata": {
    "colab": {
     "base_uri": "https://localhost:8080/"
    },
    "id": "ajwGY26hLlBB",
    "outputId": "f39b2a63-9cc7-453c-f470-a30d078cb354"
   },
   "outputs": [],
   "source": [
    "outliers.max()"
   ]
  },
  {
   "cell_type": "code",
   "execution_count": null,
   "metadata": {
    "colab": {
     "base_uri": "https://localhost:8080/"
    },
    "id": "5HMq0ZhPLk8w",
    "outputId": "fd29f75a-4e0d-440c-8447-993f0d61aa60"
   },
   "outputs": [],
   "source": [
    "outliers.min()"
   ]
  },
  {
   "cell_type": "markdown",
   "metadata": {
    "id": "XTdApVW3MV7X"
   },
   "source": [
    "Modelo não tem consistência\n",
    "\n",
    "------"
   ]
  },
  {
   "cell_type": "markdown",
   "metadata": {
    "id": "vdFOMUOAMvIR"
   },
   "source": [
    "### **Modelo de Regressão Linear**"
   ]
  },
  {
   "cell_type": "code",
   "execution_count": null,
   "metadata": {
    "colab": {
     "base_uri": "https://localhost:8080/"
    },
    "id": "EGfQiaCuM8HP",
    "outputId": "4e2bfce0-ab4c-4c5d-ee4b-5165fcd197be"
   },
   "outputs": [],
   "source": [
    "print(regressao.summary())"
   ]
  },
  {
   "cell_type": "markdown",
   "metadata": {
    "id": "jNtSpYytNQIF"
   },
   "source": [
    "### **Estatística t:**\n",
    "\n",
    "Ho = coeficiente igual a zero: p> 0,05 (coeficiente não validado)\n",
    "\n",
    "Ha = coeeficiente diferente de zero: p <= 0,05 (coeficiente validado)\n",
    "\n",
    "**Rˆ2 ajustado = 0,578**"
   ]
  },
  {
   "cell_type": "code",
   "execution_count": null,
   "metadata": {
    "colab": {
     "base_uri": "https://localhost:8080/"
    },
    "id": "JAf52o6iM8vk",
    "outputId": "09d8095d-0fc8-4970-9c31-bfd257735f2f"
   },
   "outputs": [],
   "source": [
    "coefs = pd.DataFrame(regressao.params)\n",
    "coefs.columns = ['Coeficientes']\n",
    "print(coefs)"
   ]
  },
  {
   "cell_type": "markdown",
   "metadata": {
    "id": "gVZHswAyPtEr"
   },
   "source": [
    "**Equação: Valor = 684138,49 - 17759.04 x LSTAT**"
   ]
  },
  {
   "cell_type": "code",
   "execution_count": null,
   "metadata": {
    "colab": {
     "base_uri": "https://localhost:8080/"
    },
    "id": "nyNg5Wh8M8lg",
    "outputId": "765b7385-3c76-423e-971f-911a01016e01"
   },
   "outputs": [],
   "source": [
    "regressao.params"
   ]
  },
  {
   "cell_type": "code",
   "execution_count": null,
   "metadata": {
    "colab": {
     "base_uri": "https://localhost:8080/",
     "height": 206
    },
    "id": "v54ec7xDQKHK",
    "outputId": "1ae49639-9aca-4047-d594-f2d15a275263"
   },
   "outputs": [],
   "source": [
    "df.head()"
   ]
  },
  {
   "cell_type": "code",
   "execution_count": null,
   "metadata": {
    "colab": {
     "base_uri": "https://localhost:8080/"
    },
    "id": "x4Imq4J0QJ_Z",
    "outputId": "a4e0bc48-5438-465a-f0f9-b2d950c21512"
   },
   "outputs": [],
   "source": [
    "regressao.predict()"
   ]
  },
  {
   "cell_type": "code",
   "execution_count": null,
   "metadata": {
    "colab": {
     "base_uri": "https://localhost:8080/",
     "height": 480
    },
    "id": "kVtlLFO4QsYY",
    "outputId": "86708537-26af-4cce-ae0f-dbaf22f25b9e"
   },
   "outputs": [],
   "source": [
    "plt.scatter(y=df.MEDV,x=df.LSTAT, color=\"orange\", s=30, alpha=0.9)\n",
    "x_plot = np.linspace(0,40)\n",
    "plt.plot(x_plot, x_plot*regressao.params[1]+regressao.params[0], color='r')\n",
    "plt.title('Reta de regressão')\n",
    "plt.ylabel('Valor da Casa')\n",
    "plt.xlabel('LSTAT')\n",
    "plt.show()"
   ]
  },
  {
   "cell_type": "markdown",
   "metadata": {
    "id": "6x6vaLxRxcxG"
   },
   "source": [
    "### **Regressão Linear Múltipla**"
   ]
  },
  {
   "cell_type": "code",
   "execution_count": null,
   "metadata": {
    "colab": {
     "base_uri": "https://localhost:8080/",
     "height": 112
    },
    "id": "GQebR1iprL7R",
    "outputId": "856f011a-fb3c-4267-f5c1-52efe5776bd0"
   },
   "outputs": [],
   "source": [
    "df.head(2)"
   ]
  },
  {
   "cell_type": "code",
   "execution_count": null,
   "metadata": {
    "colab": {
     "base_uri": "https://localhost:8080/"
    },
    "id": "w4cSO9HJrL3L",
    "outputId": "bd443c36-0554-45f7-e603-4ef14ffa4893"
   },
   "outputs": [],
   "source": [
    "independente = df.iloc[:,0:3].values\n",
    "independente"
   ]
  },
  {
   "cell_type": "code",
   "execution_count": null,
   "metadata": {
    "colab": {
     "base_uri": "https://localhost:8080/"
    },
    "id": "rbQBkqMXYzua",
    "outputId": "e440a86f-8f9d-48e7-dcc7-8e649ecb844c"
   },
   "outputs": [],
   "source": [
    "independente.shape"
   ]
  },
  {
   "cell_type": "code",
   "execution_count": null,
   "metadata": {
    "colab": {
     "base_uri": "https://localhost:8080/"
    },
    "id": "Ubw-WMALrLzf",
    "outputId": "7b23f271-e3e0-40c7-a59e-ba5de5405ead"
   },
   "outputs": [],
   "source": [
    "dependente = df.iloc[:,3].values\n",
    "dependente"
   ]
  },
  {
   "cell_type": "code",
   "execution_count": null,
   "metadata": {
    "id": "CveQytlarLv-"
   },
   "outputs": [],
   "source": [
    "x_treino,x_teste,y_treino,y_teste = train_test_split(independente,dependente, test_size = 0.3, random_state = 0)"
   ]
  },
  {
   "cell_type": "code",
   "execution_count": null,
   "metadata": {
    "colab": {
     "base_uri": "https://localhost:8080/"
    },
    "id": "AprE88GHZfm3",
    "outputId": "1974b08b-85de-45cf-c969-7e5a4721ee06"
   },
   "outputs": [],
   "source": [
    "x_treino.shape,x_teste.shape"
   ]
  },
  {
   "cell_type": "code",
   "execution_count": null,
   "metadata": {
    "colab": {
     "base_uri": "https://localhost:8080/",
     "height": 75
    },
    "id": "ss_jD0eAZrUm",
    "outputId": "798f9bdc-bb07-40c8-e104-417797a8b9c6"
   },
   "outputs": [],
   "source": [
    "multipla = LinearRegression()\n",
    "multipla.fit(x_treino, y_treino)"
   ]
  },
  {
   "cell_type": "code",
   "execution_count": null,
   "metadata": {
    "colab": {
     "base_uri": "https://localhost:8080/"
    },
    "id": "LEZjsV1TZrBW",
    "outputId": "7ddd0296-76bd-4aee-853f-6607a7e5d5b5"
   },
   "outputs": [],
   "source": [
    "multipla.intercept_"
   ]
  },
  {
   "cell_type": "code",
   "execution_count": null,
   "metadata": {
    "colab": {
     "base_uri": "https://localhost:8080/"
    },
    "id": "khOfPhJZZoxx",
    "outputId": "1615b46c-59dd-4ca1-963e-d40d4393fbf0"
   },
   "outputs": [],
   "source": [
    "multipla.coef_"
   ]
  },
  {
   "cell_type": "markdown",
   "metadata": {
    "id": "FG6bJeKOtXES"
   },
   "source": [
    "Coeficente de Determinação dos dados de treino"
   ]
  },
  {
   "cell_type": "code",
   "execution_count": null,
   "metadata": {
    "colab": {
     "base_uri": "https://localhost:8080/"
    },
    "id": "GTrUqff4aaCy",
    "outputId": "ba465cd0-d661-46c7-bf84-4c3c79b6905e"
   },
   "outputs": [],
   "source": [
    "multipla.score(x_treino,y_treino)"
   ]
  },
  {
   "cell_type": "markdown",
   "metadata": {
    "id": "5Q0yIEURy25Z"
   },
   "source": [
    "Teste"
   ]
  },
  {
   "cell_type": "code",
   "execution_count": null,
   "metadata": {
    "colab": {
     "base_uri": "https://localhost:8080/"
    },
    "id": "3tffmkBkaZ-8",
    "outputId": "8426beb0-74ef-4a44-c010-61853bc22b82"
   },
   "outputs": [],
   "source": [
    "previsoes = multipla.predict(x_teste)\n",
    "previsoes"
   ]
  },
  {
   "cell_type": "markdown",
   "metadata": {
    "id": "WSlihAKyzSZK"
   },
   "source": [
    "Coeficiente de Determinação dos dados de teste"
   ]
  },
  {
   "cell_type": "code",
   "execution_count": null,
   "metadata": {
    "colab": {
     "base_uri": "https://localhost:8080/"
    },
    "id": "CesU38IyaZ6M",
    "outputId": "a4912ba3-d3a5-497a-bf1b-bd5af1eca258"
   },
   "outputs": [],
   "source": [
    "multipla.score(x_teste,y_teste)"
   ]
  },
  {
   "cell_type": "markdown",
   "metadata": {
    "id": "mLKSerQ2z2Ic"
   },
   "source": [
    "Fazendo previsões para o valores distintos"
   ]
  },
  {
   "cell_type": "code",
   "execution_count": null,
   "metadata": {
    "colab": {
     "base_uri": "https://localhost:8080/"
    },
    "id": "EqLFfB1XaZ1_",
    "outputId": "59644a49-4f1b-4fcd-9256-a9a3d3d06e6a"
   },
   "outputs": [],
   "source": [
    "valor_casa = multipla.predict([[8,25,15]])\n",
    "print(f'Valor do imóvel: {valor_casa}')"
   ]
  },
  {
   "cell_type": "markdown",
   "metadata": {
    "id": "zvd14RLD0R24"
   },
   "source": [
    "**Métricas**"
   ]
  },
  {
   "cell_type": "markdown",
   "metadata": {
    "id": "1pnGdeuY_-nP"
   },
   "source": [
    "Erro médio Absoluto"
   ]
  },
  {
   "cell_type": "code",
   "execution_count": null,
   "metadata": {
    "colab": {
     "base_uri": "https://localhost:8080/"
    },
    "id": "ozxoUybYaZkx",
    "outputId": "f078c4fd-ba9a-4c31-bf01-16bbf035ac61"
   },
   "outputs": [],
   "source": [
    "mean_absolute_error(y_teste, previsoes)"
   ]
  },
  {
   "cell_type": "markdown",
   "metadata": {
    "id": "adrM8aMvAQ_q"
   },
   "source": [
    "Erro quadrático médio"
   ]
  },
  {
   "cell_type": "code",
   "execution_count": null,
   "metadata": {
    "colab": {
     "base_uri": "https://localhost:8080/"
    },
    "id": "v5sR_D_4ARyE",
    "outputId": "591b725e-ebbe-4af9-fbc9-0c1f99187859"
   },
   "outputs": [],
   "source": [
    "mean_squared_error(y_teste, previsoes)"
   ]
  },
  {
   "cell_type": "markdown",
   "metadata": {
    "id": "bl6y441KASgu"
   },
   "source": [
    "Raiz do erro quadrático médio"
   ]
  },
  {
   "cell_type": "code",
   "execution_count": null,
   "metadata": {
    "colab": {
     "base_uri": "https://localhost:8080/"
    },
    "id": "0MdVoMSTATYU",
    "outputId": "c8a4b125-85fa-4d13-acb3-f5851b8736b9"
   },
   "outputs": [],
   "source": [
    "np.sqrt(mean_squared_error(y_teste, previsoes))"
   ]
  },
  {
   "cell_type": "markdown",
   "metadata": {
    "id": "uy-P-A3jBnwY"
   },
   "source": [
    "**Validação Cruzada**"
   ]
  },
  {
   "cell_type": "markdown",
   "metadata": {
    "id": "qFMHonrdCYif"
   },
   "source": [
    "Separando os dados em folds"
   ]
  },
  {
   "cell_type": "code",
   "execution_count": null,
   "metadata": {
    "id": "U8YZ6eHZBvYC"
   },
   "outputs": [],
   "source": [
    "kfold = KFold(n_splits = 15, shuffle=True, random_state = 5)"
   ]
  },
  {
   "cell_type": "markdown",
   "metadata": {
    "id": "5sFjG6v-DIPD"
   },
   "source": [
    "Criando o modelo"
   ]
  },
  {
   "cell_type": "code",
   "execution_count": null,
   "metadata": {
    "colab": {
     "base_uri": "https://localhost:8080/"
    },
    "id": "PUaLYTuSDGjX",
    "outputId": "3492e5a0-af86-49a2-d55f-9da109720721"
   },
   "outputs": [],
   "source": [
    "modelo = LinearRegression()\n",
    "resultado = cross_val_score(modelo, independente, dependente, cv = kfold)\n",
    "resultado"
   ]
  },
  {
   "cell_type": "markdown",
   "metadata": {
    "id": "gAfy9S4ADoi-"
   },
   "source": [
    "Usando a média e o desvio padrão"
   ]
  },
  {
   "cell_type": "code",
   "execution_count": null,
   "metadata": {
    "colab": {
     "base_uri": "https://localhost:8080/"
    },
    "id": "zRqC_2A3Dn_W",
    "outputId": "ce4c7139-761c-4531-fe4f-668e5890ebb5"
   },
   "outputs": [],
   "source": [
    "print(f'Coeficiente de Determinação Médio : {round(resultado.mean() * 100,2)}%')"
   ]
  },
  {
   "cell_type": "markdown",
   "metadata": {
    "id": "KK9cmu4nETmW"
   },
   "source": [
    "**Regressão Linear Simples:** Rˆ2 = 0,57/0,60; RMSE = 99315,5; Rˆ2 Validação Cruzada: 55,97%\n",
    "\n",
    "**Regressão Linear Múltipla:** Rˆ2 = 0,73/0,68; RMSE = 96087,3; Rˆ2 Validação Cruzada: 69,25%"
   ]
  },
  {
   "cell_type": "markdown",
   "metadata": {
    "id": "DxyYvQR_HKrJ"
   },
   "source": [
    "### **Avaliando a Regressão Linear Múltipla com Statsmodels**"
   ]
  },
  {
   "cell_type": "code",
   "execution_count": null,
   "metadata": {
    "colab": {
     "base_uri": "https://localhost:8080/",
     "height": 112
    },
    "id": "Vc1bYN9OH5mR",
    "outputId": "1d8d04a4-b77f-4165-f68b-983b9df27063"
   },
   "outputs": [],
   "source": [
    "df.head(2)"
   ]
  },
  {
   "cell_type": "markdown",
   "metadata": {
    "id": "FL0pSY0UH_C8"
   },
   "source": [
    "Criação do modelo"
   ]
  },
  {
   "cell_type": "code",
   "execution_count": null,
   "metadata": {
    "id": "IbYSnftKHusO"
   },
   "outputs": [],
   "source": [
    "modelo = smf.ols('MEDV ~ RM + LSTAT + PTRATIO', data = df).fit()"
   ]
  },
  {
   "cell_type": "code",
   "execution_count": null,
   "metadata": {
    "colab": {
     "base_uri": "https://localhost:8080/"
    },
    "id": "nNTgDlfNHuo9",
    "outputId": "a5018f6b-e084-4dfd-8c1d-a831e973058e"
   },
   "outputs": [],
   "source": [
    "residuos = modelo.resid\n",
    "residuos"
   ]
  },
  {
   "cell_type": "markdown",
   "metadata": {
    "id": "vhdQa_t9WUY5"
   },
   "source": [
    "**Teste de Normalidade dos resíduos**"
   ]
  },
  {
   "cell_type": "markdown",
   "metadata": {
    "id": "Vrn3rTHFXZF5"
   },
   "source": [
    "\n",
    "Ho = distribuição normal: p > 0.05\n",
    "\n",
    "Ha = distribuição != normal: p <= 0.05"
   ]
  },
  {
   "cell_type": "code",
   "execution_count": null,
   "metadata": {
    "colab": {
     "base_uri": "https://localhost:8080/"
    },
    "id": "HemdvSWKHuas",
    "outputId": "9489c2c3-2c99-493a-b626-2e1c5c32d94d"
   },
   "outputs": [],
   "source": [
    "estatistica, p = shapiro(residuos)\n",
    "print(f'Estatística de teste: {estatistica}')\n",
    "print(f'p_valor: {p}')"
   ]
  },
  {
   "cell_type": "code",
   "execution_count": null,
   "metadata": {
    "colab": {
     "base_uri": "https://localhost:8080/",
     "height": 481
    },
    "id": "01ZLMqaGEbcp",
    "outputId": "10f6a56c-f633-488d-a370-336179d5a8eb"
   },
   "outputs": [],
   "source": [
    "probplot(residuos, dist='norm', plot=plt)\n",
    "plt.title('Normal Q-Q plot - Resíduos')\n",
    "plt.show()"
   ]
  },
  {
   "cell_type": "markdown",
   "metadata": {
    "id": "GphV0eW2HKkW"
   },
   "source": [
    "**Análise da Homocedasticidade dos resíduos**\n",
    "\n",
    "(resíduos com variação constante)"
   ]
  },
  {
   "cell_type": "code",
   "execution_count": null,
   "metadata": {
    "colab": {
     "base_uri": "https://localhost:8080/",
     "height": 458
    },
    "id": "7wpJHRWsHLzE",
    "outputId": "fda6c4e3-5c98-470a-bc0c-bced6bb0c7c8"
   },
   "outputs": [],
   "source": [
    "plt.scatter(y=residuos, x=modelo.predict(), color='orange')\n",
    "plt.hlines(y=0, xmin=0, xmax=900000, color='red')\n",
    "plt.ylabel('Resíduos')\n",
    "plt.xlabel('Valores Preditos')\n",
    "plt.show()"
   ]
  },
  {
   "cell_type": "markdown",
   "metadata": {
    "id": "LR0pqTT3HNmF"
   },
   "source": [
    "### Teste Breusch-Pagan (Homocedasticidade ou heterocedasticidade)\n",
    "\n",
    "Ho = ecxiste homocedasticidade: p > 0.05\n",
    "\n",
    "Ha = não existe homocedasticidade: p <= 0.05"
   ]
  },
  {
   "cell_type": "code",
   "execution_count": null,
   "metadata": {
    "colab": {
     "base_uri": "https://localhost:8080/"
    },
    "id": "TL2J2QHoCGJM",
    "outputId": "4c62c89c-0588-4c89-947f-769cabeb2929"
   },
   "outputs": [],
   "source": [
    "estatistica, p, f, fp = sms.het_breuschpagan(modelo.resid, modelo.model.exog)\n",
    "print(f'Estatística de teste: {estatistica}')\n",
    "print(f'p-valor: {p}')\n",
    "print(f'f-valor: {f}')\n",
    "print(f'f_p-valor: {fp}')"
   ]
  },
  {
   "cell_type": "markdown",
   "metadata": {
    "id": "f4TH7DhqFCS-"
   },
   "source": [
    "**Outliers nos resíduos**\n",
    "\n",
    "(entre -3 e 3)"
   ]
  },
  {
   "cell_type": "code",
   "execution_count": null,
   "metadata": {
    "colab": {
     "base_uri": "https://localhost:8080/"
    },
    "id": "Z3V7L1R6FQ8Y",
    "outputId": "9db85ef4-1158-4708-8ec7-e03c318fca66"
   },
   "outputs": [],
   "source": [
    "outliers = modelo.outlier_test()\n",
    "outliers.max()"
   ]
  },
  {
   "cell_type": "code",
   "execution_count": null,
   "metadata": {
    "colab": {
     "base_uri": "https://localhost:8080/"
    },
    "id": "ouytFQEpF2KE",
    "outputId": "60caa31f-0281-47d9-ef47-a739312e748f"
   },
   "outputs": [],
   "source": [
    "outliers.min()"
   ]
  },
  {
   "cell_type": "markdown",
   "metadata": {
    "id": "ScH2iPQCGNtQ"
   },
   "source": [
    "### **Ausência de Multicolinearidade**\n",
    "\n",
    "Somente entre as variáveis independentes.\n",
    "\n",
    "Considerada multicolinearidade quando r > 0.9"
   ]
  },
  {
   "cell_type": "code",
   "execution_count": null,
   "metadata": {
    "id": "th_naur_GPBc"
   },
   "outputs": [],
   "source": [
    "variaveis = df[[\"RM\",'LSTAT','PTRATIO']]"
   ]
  },
  {
   "cell_type": "code",
   "execution_count": null,
   "metadata": {
    "colab": {
     "base_uri": "https://localhost:8080/",
     "height": 206
    },
    "id": "Sr9hAsusGP8o",
    "outputId": "dedb48dd-e718-41b1-d500-f056e5fc9179"
   },
   "outputs": [],
   "source": [
    "variaveis.head()"
   ]
  },
  {
   "cell_type": "code",
   "execution_count": null,
   "metadata": {
    "colab": {
     "base_uri": "https://localhost:8080/",
     "height": 440
    },
    "id": "iCrbW6VPGPsz",
    "outputId": "fe40859e-2e74-458e-aed3-e89a82f761bb"
   },
   "outputs": [],
   "source": [
    "correlacoes = variaveis.corr(method='pearson')\n",
    "sns.heatmap(correlacoes,annot=True, fmt=\".2f\", cmap='viridis');"
   ]
  },
  {
   "cell_type": "markdown",
   "metadata": {
    "id": "Am-pwdVFGSih"
   },
   "source": [
    "### **Análise do modelo**\n",
    "\n",
    "Intercept\n",
    "\n",
    "p_valor para cada coeficiente < 0.05 (estatisticamente significativos).\n",
    "\n",
    "Ajusted R-squared (explicação do modelo através dos dados).\n",
    "\n",
    "p_valor da estatística f< 0.05 (valida o modelo de regressão)."
   ]
  },
  {
   "cell_type": "code",
   "execution_count": null,
   "metadata": {
    "colab": {
     "base_uri": "https://localhost:8080/"
    },
    "id": "P-QvZdIkNXlp",
    "outputId": "3a5560c2-538f-4a08-dfac-305a29219ab4"
   },
   "outputs": [],
   "source": [
    "print(modelo.summary())"
   ]
  },
  {
   "cell_type": "markdown",
   "metadata": {
    "id": "YIV8U5lWOGjI"
   },
   "source": [
    "**Equação:** Valorda casa = 4.155e+05.Itercept + 8.657e+04.RM - 1.085e+04.LSTAT - 1.949e+04.PTRATIO"
   ]
  },
  {
   "cell_type": "markdown",
   "metadata": {
    "id": "Da8HcwygPAao"
   },
   "source": [
    "Criando uma coluna com previsão"
   ]
  },
  {
   "cell_type": "code",
   "execution_count": null,
   "metadata": {
    "id": "gcoj-7siO82W"
   },
   "outputs": [],
   "source": [
    "df['previsao'] = modelo.fittedvalues"
   ]
  },
  {
   "cell_type": "code",
   "execution_count": null,
   "metadata": {
    "colab": {
     "base_uri": "https://localhost:8080/",
     "height": 206
    },
    "id": "u7ugR7S2O8Ri",
    "outputId": "bcd44f0b-141e-4ed8-a1ed-1cecac912a89"
   },
   "outputs": [],
   "source": [
    "df.head()"
   ]
  },
  {
   "cell_type": "code",
   "execution_count": null,
   "metadata": {
    "colab": {
     "base_uri": "https://localhost:8080/",
     "height": 500
    },
    "id": "iiWs7ysVPcm3",
    "outputId": "95138795-e30a-4c0a-8f35-5a3c2fdbe097"
   },
   "outputs": [],
   "source": [
    "sns.lmplot(x='previsao', y='MEDV', data=df);"
   ]
  },
  {
   "cell_type": "markdown",
   "metadata": {
    "id": "AhEJRnubSwgm"
   },
   "source": [
    "----"
   ]
  },
  {
   "cell_type": "markdown",
   "metadata": {
    "id": "QyOx-d8uyGG2"
   },
   "source": [
    "### **Regressão Polinomial**"
   ]
  },
  {
   "cell_type": "markdown",
   "metadata": {
    "id": "KWLFLPK3SVxD"
   },
   "source": [
    "Valor médio (MEDV) em função do número de cômodos (RM)"
   ]
  },
  {
   "cell_type": "code",
   "execution_count": null,
   "metadata": {
    "colab": {
     "base_uri": "https://localhost:8080/",
     "height": 112
    },
    "id": "-xRhxfR9yPEm",
    "outputId": "b7e9fc8e-dcc4-40a8-975d-972594c9b223"
   },
   "outputs": [],
   "source": [
    "df.head(2)"
   ]
  },
  {
   "cell_type": "code",
   "execution_count": null,
   "metadata": {
    "colab": {
     "base_uri": "https://localhost:8080/"
    },
    "id": "6-_J4LrtyO9N",
    "outputId": "11514412-baaa-44b4-c81c-96ee80f7bbd8"
   },
   "outputs": [],
   "source": [
    "x = df.iloc[:,0:1].values\n",
    "x"
   ]
  },
  {
   "cell_type": "code",
   "execution_count": null,
   "metadata": {
    "colab": {
     "base_uri": "https://localhost:8080/"
    },
    "id": "I-rUsq5SyO2J",
    "outputId": "3250406a-15f9-4a0f-b8a0-bd9465e5ab9d"
   },
   "outputs": [],
   "source": [
    "y = df.iloc[:,3].values\n",
    "y"
   ]
  },
  {
   "cell_type": "code",
   "execution_count": null,
   "metadata": {
    "id": "gYc9FahfyOyZ"
   },
   "outputs": [],
   "source": [
    "# Separando dados de treino e teste\n",
    "x_treino,x_teste,y_treino,y_teste = train_test_split(x,y, test_size = 0.3, random_state = 0)"
   ]
  },
  {
   "cell_type": "code",
   "execution_count": null,
   "metadata": {
    "colab": {
     "base_uri": "https://localhost:8080/"
    },
    "id": "NTNnyL9eUyPD",
    "outputId": "5a54466f-9272-4c98-82da-2cb2125d66b1"
   },
   "outputs": [],
   "source": [
    "x_treino.shape, y_treino.shape"
   ]
  },
  {
   "cell_type": "code",
   "execution_count": null,
   "metadata": {
    "colab": {
     "base_uri": "https://localhost:8080/"
    },
    "id": "JCSzvi7NUyK8",
    "outputId": "6876a9c9-e984-4c68-fc58-d3f99e9e1613"
   },
   "outputs": [],
   "source": [
    "x_teste.shape, y_teste.shape"
   ]
  },
  {
   "cell_type": "code",
   "execution_count": null,
   "metadata": {
    "id": "AzMdP2UFUyH1"
   },
   "outputs": [],
   "source": [
    "# Pré Processamento\n",
    "grau_polinomial = PolynomialFeatures(degree=2)"
   ]
  },
  {
   "cell_type": "code",
   "execution_count": null,
   "metadata": {
    "colab": {
     "base_uri": "https://localhost:8080/"
    },
    "id": "mGyCkWQvUyD5",
    "outputId": "0888e1bd-6a23-4479-d729-644e61a34b30"
   },
   "outputs": [],
   "source": [
    "x_poly = grau_polinomial.fit_transform(x_treino)\n",
    "x_poly"
   ]
  },
  {
   "cell_type": "code",
   "execution_count": null,
   "metadata": {
    "id": "U7XD_xulUx8y"
   },
   "outputs": [],
   "source": [
    "polinomial = LinearRegression()"
   ]
  },
  {
   "cell_type": "code",
   "execution_count": null,
   "metadata": {
    "colab": {
     "base_uri": "https://localhost:8080/",
     "height": 75
    },
    "id": "rcRpzzgdUxq2",
    "outputId": "88e6a58d-3af0-49e9-e7e4-e745527b88d3"
   },
   "outputs": [],
   "source": [
    "polinomial.fit(x_poly, y_treino)"
   ]
  },
  {
   "cell_type": "code",
   "execution_count": null,
   "metadata": {
    "id": "jXjMm18FWHNP"
   },
   "outputs": [],
   "source": [
    "previsoes_treino = polinomial.predict(x_poly)"
   ]
  },
  {
   "cell_type": "code",
   "execution_count": null,
   "metadata": {
    "colab": {
     "base_uri": "https://localhost:8080/"
    },
    "id": "Iwaat3zcWHGy",
    "outputId": "2c6d4eda-75e7-4b9f-b1f6-3279b3ec89ae"
   },
   "outputs": [],
   "source": [
    "polinomial.coef_"
   ]
  },
  {
   "cell_type": "code",
   "execution_count": null,
   "metadata": {
    "colab": {
     "base_uri": "https://localhost:8080/"
    },
    "id": "4hDn9aIFWG9a",
    "outputId": "a031b3ac-0851-410a-bce2-675e51e3601c"
   },
   "outputs": [],
   "source": [
    "polinomial.intercept_"
   ]
  },
  {
   "cell_type": "markdown",
   "metadata": {
    "id": "FONDhl8bW29O"
   },
   "source": [
    "**Equação:**\n",
    "\n",
    "Valor = 1640107 -568528.11xRM + 60092.59xRMˆ2"
   ]
  },
  {
   "cell_type": "code",
   "execution_count": null,
   "metadata": {
    "colab": {
     "base_uri": "https://localhost:8080/"
    },
    "id": "IkimbJfyWG5t",
    "outputId": "9b290798-fa5a-4802-a254-c3cacd970547"
   },
   "outputs": [],
   "source": [
    "numeros = np.linspace(3,9.84,342)\n",
    "numeros"
   ]
  },
  {
   "cell_type": "code",
   "execution_count": null,
   "metadata": {
    "colab": {
     "base_uri": "https://localhost:8080/"
    },
    "id": "E-I1hBb4WG10",
    "outputId": "c7f6ae9c-8c8e-416f-ab73-2df7b5c131d8"
   },
   "outputs": [],
   "source": [
    "numeros.shape"
   ]
  },
  {
   "cell_type": "code",
   "execution_count": null,
   "metadata": {
    "id": "O-MSzatsjPTC"
   },
   "outputs": [],
   "source": [
    "valor = 1640107 -568528.11*numeros + 60092.59*numeros**2"
   ]
  },
  {
   "cell_type": "code",
   "execution_count": null,
   "metadata": {
    "colab": {
     "base_uri": "https://localhost:8080/",
     "height": 480
    },
    "id": "KLJ9RPtojPJ5",
    "outputId": "a4e52ca8-537a-42f7-e082-e24007cf4929"
   },
   "outputs": [],
   "source": [
    "plt.scatter(x_treino,y_treino,c = 'orange')\n",
    "plt.xlabel('Quantidade de cômodos')\n",
    "plt.ylabel('Valores casas')\n",
    "plt.title('Previsão dos valores das casas: dados de treino')\n",
    "plt.plot(numeros,valor,color='red')\n",
    "plt.show();"
   ]
  },
  {
   "cell_type": "code",
   "execution_count": null,
   "metadata": {
    "colab": {
     "base_uri": "https://localhost:8080/"
    },
    "id": "mmZgoOS8jPEd",
    "outputId": "0557d5ff-540a-41da-f678-d82d2762d812"
   },
   "outputs": [],
   "source": [
    "# Fazendo previsões para valores distintos\n",
    "comodos = 6\n",
    "valor = 1640107 -568528.11*comodos + 60092.59*comodos**2\n",
    "valor"
   ]
  },
  {
   "cell_type": "code",
   "execution_count": null,
   "metadata": {
    "colab": {
     "base_uri": "https://localhost:8080/"
    },
    "id": "-HovYCikjOme",
    "outputId": "2aee183b-cb41-45f1-a83c-b5129176512a"
   },
   "outputs": [],
   "source": [
    "# Coeficiente de Determinação dados de treino\n",
    "polinomial.score(x_poly,y_treino)"
   ]
  },
  {
   "cell_type": "markdown",
   "metadata": {
    "id": "zdsat_5cv4Cg"
   },
   "source": [
    "Teste"
   ]
  },
  {
   "cell_type": "code",
   "execution_count": null,
   "metadata": {
    "colab": {
     "base_uri": "https://localhost:8080/"
    },
    "id": "HdS6TQglv3aY",
    "outputId": "bfed4867-5564-4785-e678-600e6d4c4015"
   },
   "outputs": [],
   "source": [
    "numeros1 = np.linspace(3,8.88,147)\n",
    "numeros1"
   ]
  },
  {
   "cell_type": "code",
   "execution_count": null,
   "metadata": {
    "colab": {
     "base_uri": "https://localhost:8080/"
    },
    "id": "6d67xPxVv3UQ",
    "outputId": "86cb7e48-d993-4391-e236-314f05466e8c"
   },
   "outputs": [],
   "source": [
    "numeros1.shape"
   ]
  },
  {
   "cell_type": "code",
   "execution_count": null,
   "metadata": {
    "colab": {
     "base_uri": "https://localhost:8080/"
    },
    "id": "ALhm39oiwuG6",
    "outputId": "d729ad6e-c486-4d42-c3c2-be42b2f9eb94"
   },
   "outputs": [],
   "source": [
    "valor1 = 1640107 -568528.11*numeros1 + 60092.59*numeros1**2\n",
    "valor1"
   ]
  },
  {
   "cell_type": "code",
   "execution_count": null,
   "metadata": {
    "colab": {
     "base_uri": "https://localhost:8080/",
     "height": 480
    },
    "id": "vRKRqIKjwuDS",
    "outputId": "d5cc1da1-1d16-4c1b-8762-18f48962ede4"
   },
   "outputs": [],
   "source": [
    "plt.scatter(x_teste,y_teste,c = 'orange')\n",
    "plt.xlabel('Quantidade de cômodos')\n",
    "plt.ylabel('Valores casas')\n",
    "plt.title('Previsão dos valores das casas: dados de teste')\n",
    "plt.plot(numeros1,valor1,color='red')\n",
    "plt.show();"
   ]
  },
  {
   "cell_type": "code",
   "execution_count": null,
   "metadata": {
    "colab": {
     "base_uri": "https://localhost:8080/"
    },
    "id": "PAm3L-6mwt_l",
    "outputId": "1fbf64e9-0a19-449e-cf7f-b556425af0c3"
   },
   "outputs": [],
   "source": [
    "x_poly_teste = grau_polinomial.fit_transform(x_teste)\n",
    "x_poly_teste"
   ]
  },
  {
   "cell_type": "code",
   "execution_count": null,
   "metadata": {
    "id": "CnEWb-YJyG3D"
   },
   "outputs": [],
   "source": [
    "polinomial_teste = LinearRegression()"
   ]
  },
  {
   "cell_type": "code",
   "execution_count": null,
   "metadata": {
    "colab": {
     "base_uri": "https://localhost:8080/",
     "height": 75
    },
    "id": "04a7djIpyGvQ",
    "outputId": "73fcff7c-7c88-4c3d-8d9b-16dd40bff24b"
   },
   "outputs": [],
   "source": [
    "polinomial_teste.fit(x_poly_teste,y_teste)"
   ]
  },
  {
   "cell_type": "code",
   "execution_count": null,
   "metadata": {
    "colab": {
     "base_uri": "https://localhost:8080/"
    },
    "id": "9LcmM5tiyGnw",
    "outputId": "87f5d533-de60-40d3-968b-98d93c83a688"
   },
   "outputs": [],
   "source": [
    "# Coeficiente de Determinação dados de teste\n",
    "polinomial.score(x_poly_teste,y_teste)"
   ]
  },
  {
   "cell_type": "code",
   "execution_count": null,
   "metadata": {
    "id": "iriw9luSyGkA"
   },
   "outputs": [],
   "source": [
    "previsoes_teste = polinomial_teste.predict(x_poly_teste)"
   ]
  },
  {
   "cell_type": "markdown",
   "metadata": {
    "id": "eP4niJUNy7B4"
   },
   "source": [
    "**Métricas**"
   ]
  },
  {
   "cell_type": "code",
   "execution_count": null,
   "metadata": {
    "colab": {
     "base_uri": "https://localhost:8080/"
    },
    "id": "ydnDAxwVyGgH",
    "outputId": "065fd624-04fc-4b82-b652-f00c2a0cdbfa"
   },
   "outputs": [],
   "source": [
    "# Erro médio absoluto\n",
    "mean_absolute_error(y_teste, previsoes_teste)"
   ]
  },
  {
   "cell_type": "code",
   "execution_count": null,
   "metadata": {
    "colab": {
     "base_uri": "https://localhost:8080/"
    },
    "id": "NfBLLjAxyGbf",
    "outputId": "9480036b-c690-41fd-f4c1-2fde74969e01"
   },
   "outputs": [],
   "source": [
    "# Erro quadrático médio\n",
    "mean_squared_error(y_teste, previsoes_teste)"
   ]
  },
  {
   "cell_type": "code",
   "execution_count": null,
   "metadata": {
    "colab": {
     "base_uri": "https://localhost:8080/"
    },
    "id": "8ifNy3jayGWq",
    "outputId": "8361bbc8-7e1f-423f-87fe-7dff85a382b1"
   },
   "outputs": [],
   "source": [
    "# Raiz do erro quadrático médio (RMSE)\n",
    "np.sqrt(mean_squared_error(y_teste, previsoes_teste))"
   ]
  },
  {
   "cell_type": "markdown",
   "metadata": {
    "id": "34epf2610X6y"
   },
   "source": [
    "### **Resultado:**\n",
    "**Regressão Linear Simples:** Rˆ2 = 0,57/0,60; RMSE = 99315,5; Rˆ2 Validação Cruzada: 55,97%\n",
    "\n",
    "**Regressão Linear Múltipla:** Rˆ2 = 0,73/0,68; RMSE = 96087,3; Rˆ2 Validação Cruzada: 69,25%\n",
    "\n",
    "**Regressão Polinomial:** Rˆ2 = 0,59/0,54; RMSE = 114670,62\n",
    "\n",
    "---"
   ]
  },
  {
   "cell_type": "markdown",
   "metadata": {
    "id": "VpaIrQ_f6lGe"
   },
   "source": [
    "### **Regressão por vetores de suporte**"
   ]
  },
  {
   "cell_type": "code",
   "execution_count": null,
   "metadata": {
    "colab": {
     "base_uri": "https://localhost:8080/",
     "height": 112
    },
    "id": "EkP2YG4syGK7",
    "outputId": "bdd456e6-e04b-4b8d-8a13-05194aedbd93"
   },
   "outputs": [],
   "source": [
    "df.head(2)"
   ]
  },
  {
   "cell_type": "code",
   "execution_count": null,
   "metadata": {
    "colab": {
     "base_uri": "https://localhost:8080/"
    },
    "id": "7XkXRLyfBsAg",
    "outputId": "2d629c59-72a1-4d1e-de62-064d8652e0e6"
   },
   "outputs": [],
   "source": [
    "independente = df.iloc[:,0:3].values\n",
    "independente"
   ]
  },
  {
   "cell_type": "code",
   "execution_count": null,
   "metadata": {
    "colab": {
     "base_uri": "https://localhost:8080/"
    },
    "id": "SOuFKcFNBr9V",
    "outputId": "8f399a09-0883-4e0f-f6ef-bbc2264d89f4"
   },
   "outputs": [],
   "source": [
    "independente.shape"
   ]
  },
  {
   "cell_type": "code",
   "execution_count": null,
   "metadata": {
    "colab": {
     "base_uri": "https://localhost:8080/"
    },
    "id": "a_BKIRe8Br43",
    "outputId": "69a0034b-4554-4301-f95a-9fb383154180"
   },
   "outputs": [],
   "source": [
    "dependente = df.iloc[:,3].values\n",
    "dependente"
   ]
  },
  {
   "cell_type": "code",
   "execution_count": null,
   "metadata": {
    "id": "xIoRD9z6Bryy"
   },
   "outputs": [],
   "source": [
    "# Separando dados treino e teste\n",
    "x_treino,x_teste,y_treino,y_teste = train_test_split(independente, dependente, test_size = 0.3, random_state = 0)"
   ]
  },
  {
   "cell_type": "code",
   "execution_count": null,
   "metadata": {
    "colab": {
     "base_uri": "https://localhost:8080/"
    },
    "id": "wJ9ULdNdpJkj",
    "outputId": "5c11b2c5-23bb-427b-fb42-07597e0260df"
   },
   "outputs": [],
   "source": [
    "x_treino.shape,y_treino.shape"
   ]
  },
  {
   "cell_type": "code",
   "execution_count": null,
   "metadata": {
    "colab": {
     "base_uri": "https://localhost:8080/"
    },
    "id": "uQ9NjdlnpTgU",
    "outputId": "d7483072-9ce8-48ed-9544-975d6116eccf"
   },
   "outputs": [],
   "source": [
    "x_teste.shape,y_teste.shape"
   ]
  },
  {
   "cell_type": "code",
   "execution_count": null,
   "metadata": {
    "colab": {
     "base_uri": "https://localhost:8080/",
     "height": 75
    },
    "id": "as8bNy1zpTb3",
    "outputId": "098b556c-81d7-4c90-ff53-82544ea55e7f"
   },
   "outputs": [],
   "source": [
    "# kernil = rbf, linear, polinomial (poly)\n",
    "svr = SVR(kernel='rbf')\n",
    "svr.fit(x_treino, y_treino)"
   ]
  },
  {
   "cell_type": "code",
   "execution_count": null,
   "metadata": {
    "colab": {
     "base_uri": "https://localhost:8080/"
    },
    "id": "qjXYE6XHpTXt",
    "outputId": "f9455faa-4396-4c66-ecc9-e8a0daafaa20"
   },
   "outputs": [],
   "source": [
    "svr.score(x_treino,y_treino)"
   ]
  },
  {
   "cell_type": "code",
   "execution_count": null,
   "metadata": {
    "colab": {
     "base_uri": "https://localhost:8080/"
    },
    "id": "3DamQv44pTUy",
    "outputId": "89d6c9dd-b346-4fa4-925e-f7f80fd7616f"
   },
   "outputs": [],
   "source": [
    "svr.score(x_teste,y_teste)"
   ]
  },
  {
   "cell_type": "code",
   "execution_count": null,
   "metadata": {
    "colab": {
     "base_uri": "https://localhost:8080/"
    },
    "id": "9eI9a38BpTR9",
    "outputId": "057edb1c-7465-47d4-d92e-6b799acedda3"
   },
   "outputs": [],
   "source": [
    "previsoes = svr.predict(x_teste)\n",
    "previsoes"
   ]
  },
  {
   "cell_type": "code",
   "execution_count": null,
   "metadata": {
    "colab": {
     "base_uri": "https://localhost:8080/"
    },
    "id": "s8Cdlds9pTMN",
    "outputId": "dddbb30f-5de0-4da5-a0d5-e5c47414a385"
   },
   "outputs": [],
   "source": [
    "mean_absolute_error(y_teste, previsoes)"
   ]
  },
  {
   "cell_type": "markdown",
   "metadata": {
    "id": "6si58nr9s91X"
   },
   "source": [
    "### Padronização de escala"
   ]
  },
  {
   "cell_type": "code",
   "execution_count": null,
   "metadata": {
    "colab": {
     "base_uri": "https://localhost:8080/"
    },
    "id": "sb4mdP19pTI9",
    "outputId": "e5997720-f965-45f6-aec5-50f33061ce3f"
   },
   "outputs": [],
   "source": [
    "x_scaler = StandardScaler()\n",
    "x_treino_scaler = x_scaler.fit_transform(x_treino)\n",
    "x_treino_scaler"
   ]
  },
  {
   "cell_type": "code",
   "execution_count": null,
   "metadata": {
    "colab": {
     "base_uri": "https://localhost:8080/"
    },
    "id": "sMiDQ_tF8tjM",
    "outputId": "4455a916-8921-45c6-bc59-4c8c55338659"
   },
   "outputs": [],
   "source": [
    "y_scaler = StandardScaler()\n",
    "y_treino_scaler = y_scaler.fit_transform(y_treino.reshape(-1,1))\n",
    "y_treino_scaler"
   ]
  },
  {
   "cell_type": "code",
   "execution_count": null,
   "metadata": {
    "colab": {
     "base_uri": "https://localhost:8080/"
    },
    "id": "9AsJy8ep-oi0",
    "outputId": "f651d2b5-465f-435d-fd8e-9ce0e0d19d76"
   },
   "outputs": [],
   "source": [
    "x_teste_scaler = x_scaler.transform(x_teste)\n",
    "x_teste_scaler"
   ]
  },
  {
   "cell_type": "code",
   "execution_count": null,
   "metadata": {
    "colab": {
     "base_uri": "https://localhost:8080/"
    },
    "id": "0K7nMEct_BwS",
    "outputId": "e19b4ee2-98d0-4834-a607-d2956cf6d577"
   },
   "outputs": [],
   "source": [
    "y_teste_scaler = y_scaler.transform(y_teste.reshape(-1,1))\n",
    "y_teste_scaler"
   ]
  },
  {
   "cell_type": "code",
   "execution_count": null,
   "metadata": {
    "colab": {
     "base_uri": "https://localhost:8080/",
     "height": 75
    },
    "id": "Q-PIJ1ap_BtC",
    "outputId": "19eb0a42-bc7a-4f2d-8140-2a5474a6aee9"
   },
   "outputs": [],
   "source": [
    "svr1 = SVR(kernel='rbf')\n",
    "#.ravel() é para retornar matriz 1D\n",
    "svr1.fit(x_treino_scaler, y_treino_scaler.ravel())"
   ]
  },
  {
   "cell_type": "code",
   "execution_count": null,
   "metadata": {
    "colab": {
     "base_uri": "https://localhost:8080/"
    },
    "id": "FRun4ffd_BoY",
    "outputId": "c6ba91c7-17ab-4e98-9304-18fd5811a304"
   },
   "outputs": [],
   "source": [
    "svr1.score(x_treino_scaler, y_treino_scaler)"
   ]
  },
  {
   "cell_type": "markdown",
   "metadata": {
    "id": "DIs55VK8B-Rp"
   },
   "source": [
    "### Teste"
   ]
  },
  {
   "cell_type": "code",
   "execution_count": null,
   "metadata": {
    "colab": {
     "base_uri": "https://localhost:8080/"
    },
    "id": "BgoFtdQe_BlH",
    "outputId": "75ba0979-65bd-4eda-eece-8b7fef864b1d"
   },
   "outputs": [],
   "source": [
    "svr1.score(x_teste_scaler, y_teste_scaler)"
   ]
  },
  {
   "cell_type": "code",
   "execution_count": null,
   "metadata": {
    "colab": {
     "base_uri": "https://localhost:8080/"
    },
    "id": "VybZiRsT_Bh_",
    "outputId": "f13ca113-8b06-4813-8fc8-85b5fbf9d95f"
   },
   "outputs": [],
   "source": [
    "previsoes_teste = svr1.predict(x_teste_scaler)\n",
    "previsoes_teste"
   ]
  },
  {
   "cell_type": "code",
   "execution_count": null,
   "metadata": {
    "colab": {
     "base_uri": "https://localhost:8080/"
    },
    "id": "BFp_zUaG_BeT",
    "outputId": "24175db4-9636-49b8-d97b-a232dcbeda1b"
   },
   "outputs": [],
   "source": [
    "y_teste_scaler"
   ]
  },
  {
   "cell_type": "markdown",
   "metadata": {
    "id": "e5nQcB_lFD9y"
   },
   "source": [
    "### Revertendo a transformação"
   ]
  },
  {
   "cell_type": "code",
   "execution_count": null,
   "metadata": {
    "id": "KlPLhYLR_BZ4"
   },
   "outputs": [],
   "source": [
    "y_teste_inverse = y_scaler.inverse_transform(y_teste_scaler)\n",
    "previsoes_inverse = y_scaler.inverse_transform(previsoes_teste.reshape(-1,1))"
   ]
  },
  {
   "cell_type": "code",
   "execution_count": null,
   "metadata": {
    "colab": {
     "base_uri": "https://localhost:8080/"
    },
    "id": "CRh25DyIFpuN",
    "outputId": "f5773f05-7316-4458-da10-1dcf8ab42fc1"
   },
   "outputs": [],
   "source": [
    "y_teste_inverse"
   ]
  },
  {
   "cell_type": "code",
   "execution_count": null,
   "metadata": {
    "colab": {
     "base_uri": "https://localhost:8080/"
    },
    "id": "5arkhAvhFplD",
    "outputId": "7ae107ab-b9ec-4488-e949-a062b572abe1"
   },
   "outputs": [],
   "source": [
    "previsoes_inverse"
   ]
  },
  {
   "cell_type": "code",
   "execution_count": null,
   "metadata": {
    "colab": {
     "base_uri": "https://localhost:8080/"
    },
    "id": "UiFVrePHG_nJ",
    "outputId": "0c78d6e3-c0dd-4edb-a2ce-8a23af4a9849"
   },
   "outputs": [],
   "source": [
    "# Erro médio Absoluto\n",
    "mean_absolute_error(y_teste_inverse, previsoes_inverse)"
   ]
  },
  {
   "cell_type": "code",
   "execution_count": null,
   "metadata": {
    "colab": {
     "base_uri": "https://localhost:8080/"
    },
    "id": "Wcuopv0_G_T6",
    "outputId": "c22a8cf7-2627-41d9-a9c7-6afd52bec9cc"
   },
   "outputs": [],
   "source": [
    "# Erro quadrático médio\n",
    "mean_squared_error(y_teste_inverse, previsoes_inverse)"
   ]
  },
  {
   "cell_type": "code",
   "execution_count": null,
   "metadata": {
    "colab": {
     "base_uri": "https://localhost:8080/"
    },
    "id": "kVMlwBDdG_Pd",
    "outputId": "c141d209-bac8-491f-fdb2-0fb066a2a3d2"
   },
   "outputs": [],
   "source": [
    "# Raiz do erro quadrático médio (RMSE)\n",
    "np.sqrt(mean_squared_error(y_teste_inverse, previsoes_inverse))"
   ]
  },
  {
   "cell_type": "markdown",
   "metadata": {
    "id": "9Kko5-SfIghQ"
   },
   "source": [
    "### Validação Cruzada"
   ]
  },
  {
   "cell_type": "markdown",
   "metadata": {
    "id": "9dlHbNBZI5CN"
   },
   "source": [
    "Padronização de escala"
   ]
  },
  {
   "cell_type": "code",
   "execution_count": null,
   "metadata": {
    "colab": {
     "base_uri": "https://localhost:8080/"
    },
    "id": "0zHqufqAG_H_",
    "outputId": "97ea7c92-a966-41fe-e65c-117899eb8087"
   },
   "outputs": [],
   "source": [
    "x = StandardScaler()\n",
    "independente_scaler = x.fit_transform(independente)\n",
    "independente_scaler"
   ]
  },
  {
   "cell_type": "code",
   "execution_count": null,
   "metadata": {
    "colab": {
     "base_uri": "https://localhost:8080/"
    },
    "id": "67vfCBowJ2FG",
    "outputId": "7b115ecd-40b0-4a10-e82f-109c82afee1e"
   },
   "outputs": [],
   "source": [
    "y = StandardScaler()\n",
    "dependente_scaler = y.fit_transform(dependente.reshape(-1,1))\n",
    "dependente_scaler"
   ]
  },
  {
   "cell_type": "code",
   "execution_count": null,
   "metadata": {
    "colab": {
     "base_uri": "https://localhost:8080/"
    },
    "id": "BxbgD2h8J2N6",
    "outputId": "fcc2a91f-5db1-4b86-8597-a2f5f188bb49"
   },
   "outputs": [],
   "source": [
    "# Separando os dados em folds\n",
    "kfold = KFold(n_splits = 18, shuffle=True, random_state = 5)\n",
    "\n",
    "#Criando o modelo\n",
    "modelo = SVR(kernel = 'rbf')\n",
    "resultado = cross_val_score(modelo, independente_scaler,dependente_scaler.ravel(), cv = kfold)\n",
    "resultado"
   ]
  },
  {
   "cell_type": "code",
   "execution_count": null,
   "metadata": {
    "colab": {
     "base_uri": "https://localhost:8080/"
    },
    "id": "AsH3LqrKJ3BG",
    "outputId": "7b6cdd05-9f9c-4b78-9d8b-20ce72a78e89"
   },
   "outputs": [],
   "source": [
    "print(f'Coeficiente de Determinação Médio: {round(resultado.mean() * 100,2)}%')"
   ]
  },
  {
   "cell_type": "markdown",
   "metadata": {
    "id": "88aIef7XMktm"
   },
   "source": [
    "### **Resultado:**\n",
    "**Regressão Linear Simples:** Rˆ2 = 0,57/0,60; RMSE = 99315,5; Rˆ2 Validação Cruzada: 55,97%\n",
    "\n",
    "**Regressão Linear Múltipla:** Rˆ2 = 0,73/0,68; RMSE = 96087,3; Rˆ2 Validação Cruzada: 69,25%\n",
    "\n",
    "**Regressão Polinomial:** Rˆ2 = 0,59/0,54; RMSE = 114670,62\n",
    "\n",
    "**Regressão SVR:** Rˆ2 = 0,87/0,81; RMSE = 73422.69; Rˆ2 Validação Cruzada: 82,71%\n",
    "\n",
    "---"
   ]
  },
  {
   "cell_type": "markdown",
   "metadata": {
    "id": "2ttGfzGAXV4H"
   },
   "source": [
    "### **Regressão com árvore de decisão**"
   ]
  },
  {
   "cell_type": "code",
   "execution_count": null,
   "metadata": {
    "colab": {
     "base_uri": "https://localhost:8080/",
     "height": 112
    },
    "id": "Z_xIYccxMkDS",
    "outputId": "bb7184d8-5f55-451a-80f2-3c2323de583c"
   },
   "outputs": [],
   "source": [
    "df.head(2)"
   ]
  },
  {
   "cell_type": "code",
   "execution_count": null,
   "metadata": {
    "colab": {
     "base_uri": "https://localhost:8080/"
    },
    "id": "boneIK3BJ28U",
    "outputId": "ce29169a-f95e-49fa-8535-c77210c379a2"
   },
   "outputs": [],
   "source": [
    "independente = df.iloc[:,0:3].values\n",
    "independente"
   ]
  },
  {
   "cell_type": "code",
   "execution_count": null,
   "metadata": {
    "colab": {
     "base_uri": "https://localhost:8080/"
    },
    "id": "HdmAWELKJ24t",
    "outputId": "3443ccd1-e6dc-4df5-9334-afe96fae702b"
   },
   "outputs": [],
   "source": [
    "independente.shape"
   ]
  },
  {
   "cell_type": "code",
   "execution_count": null,
   "metadata": {
    "colab": {
     "base_uri": "https://localhost:8080/"
    },
    "id": "pAvw2YaKJ21M",
    "outputId": "31ca5ab5-2be3-410b-caac-a9aa2846c49c"
   },
   "outputs": [],
   "source": [
    "dependente = df.iloc[:, 3].values\n",
    "dependente"
   ]
  },
  {
   "cell_type": "code",
   "execution_count": null,
   "metadata": {
    "colab": {
     "base_uri": "https://localhost:8080/"
    },
    "id": "TOVV8rHmax6e",
    "outputId": "1050366a-b6bb-4760-c432-9098260397a3"
   },
   "outputs": [],
   "source": [
    "dependente.shape"
   ]
  },
  {
   "cell_type": "code",
   "execution_count": null,
   "metadata": {
    "id": "97GE2_H0a3R4"
   },
   "outputs": [],
   "source": [
    "x_treino,x_teste,y_treino,y_teste = train_test_split(independente,dependente, test_size=0.3, random_state=0)"
   ]
  },
  {
   "cell_type": "code",
   "execution_count": null,
   "metadata": {
    "colab": {
     "base_uri": "https://localhost:8080/"
    },
    "id": "zRPjwsxRa3N4",
    "outputId": "90d4a30a-01d0-4c80-d1bc-ab4d54bd0e2b"
   },
   "outputs": [],
   "source": [
    "x_treino.shape,y_treino.shape"
   ]
  },
  {
   "cell_type": "code",
   "execution_count": null,
   "metadata": {
    "colab": {
     "base_uri": "https://localhost:8080/"
    },
    "id": "1zMlndDsa3Jb",
    "outputId": "c49094a9-c434-421b-ae1e-95a6bff17eed"
   },
   "outputs": [],
   "source": [
    "x_teste.shape,y_teste.shape"
   ]
  },
  {
   "cell_type": "code",
   "execution_count": 193,
   "metadata": {
    "colab": {
     "base_uri": "https://localhost:8080/",
     "height": 1000
    },
    "id": "vfWK92Swa3Ea",
    "outputId": "de066bb3-2737-44c3-e8c7-2aeea764ff5f"
   },
   "outputs": [
    {
     "ename": "NameError",
     "evalue": "name 'CatBoostRegressor' is not defined",
     "output_type": "error",
     "traceback": [
      "\u001b[0;31m---------------------------------------------------------------------------\u001b[0m",
      "\u001b[0;31mNameError\u001b[0m                                 Traceback (most recent call last)",
      "Cell \u001b[0;32mIn[193], line 5\u001b[0m\n\u001b[1;32m      1\u001b[0m modelos \u001b[38;5;241m=\u001b[39m {\n\u001b[1;32m      2\u001b[0m     \u001b[38;5;124m'\u001b[39m\u001b[38;5;124mÁrvore\u001b[39m\u001b[38;5;124m'\u001b[39m: DecisionTreeRegressor(max_depth\u001b[38;5;241m=\u001b[39m\u001b[38;5;241m5\u001b[39m,random_state\u001b[38;5;241m=\u001b[39m\u001b[38;5;241m10\u001b[39m),\n\u001b[1;32m      3\u001b[0m     \u001b[38;5;124m'\u001b[39m\u001b[38;5;124mRandom\u001b[39m\u001b[38;5;124m'\u001b[39m: RandomForestRegressor(n_estimators \u001b[38;5;241m=\u001b[39m \u001b[38;5;241m60\u001b[39m, criterion \u001b[38;5;241m=\u001b[39m\u001b[38;5;124m'\u001b[39m\u001b[38;5;124msquared_error\u001b[39m\u001b[38;5;124m'\u001b[39m, max_depth \u001b[38;5;241m=\u001b[39m \u001b[38;5;241m5\u001b[39m, random_state \u001b[38;5;241m=\u001b[39m \u001b[38;5;241m10\u001b[39m ),\n\u001b[1;32m      4\u001b[0m     \u001b[38;5;124m'\u001b[39m\u001b[38;5;124mxgboost\u001b[39m\u001b[38;5;124m'\u001b[39m: XGBRegressor(n_estimators \u001b[38;5;241m=\u001b[39m \u001b[38;5;241m70\u001b[39m, max_depth\u001b[38;5;241m=\u001b[39m\u001b[38;5;241m3\u001b[39m,learning_rate\u001b[38;5;241m=\u001b[39m\u001b[38;5;241m0.1\u001b[39m, objective\u001b[38;5;241m=\u001b[39m\u001b[38;5;124m'\u001b[39m\u001b[38;5;124mreg:squarederror\u001b[39m\u001b[38;5;124m'\u001b[39m),\n\u001b[0;32m----> 5\u001b[0m     \u001b[38;5;124m'\u001b[39m\u001b[38;5;124mcatboost\u001b[39m\u001b[38;5;124m'\u001b[39m: CatBoostRegressor(iterations\u001b[38;5;241m=\u001b[39m\u001b[38;5;241m100\u001b[39m, learning_rate\u001b[38;5;241m=\u001b[39m\u001b[38;5;241m0.1\u001b[39m,depth \u001b[38;5;241m=\u001b[39m \u001b[38;5;241m5\u001b[39m, random_state \u001b[38;5;241m=\u001b[39m\u001b[38;5;241m10\u001b[39m),\n\u001b[1;32m      6\u001b[0m      \u001b[38;5;124m'\u001b[39m\u001b[38;5;124mDecision\u001b[39m\u001b[38;5;124m'\u001b[39m: DecisionTreeRegressor(max_depth \u001b[38;5;241m=\u001b[39m \u001b[38;5;241m5\u001b[39m, random_state\u001b[38;5;241m=\u001b[39m\u001b[38;5;241m10\u001b[39m)\n\u001b[1;32m      7\u001b[0m }\n\u001b[1;32m      8\u001b[0m \u001b[38;5;28;01mclass\u001b[39;00m \u001b[38;5;21;01mtreino_teste\u001b[39;00m():\n\u001b[1;32m     10\u001b[0m   \u001b[38;5;28;01mdef\u001b[39;00m \u001b[38;5;21m__init__\u001b[39m(\u001b[38;5;28mself\u001b[39m,modelos,x_treino,x_teste,y_treino,y_teste):\n",
      "\u001b[0;31mNameError\u001b[0m: name 'CatBoostRegressor' is not defined"
     ]
    }
   ],
   "source": [
    "modelos = {\n",
    "    'Árvore': DecisionTreeRegressor(max_depth=5,random_state=10),\n",
    "    'Random': RandomForestRegressor(n_estimators = 60, criterion ='squared_error', max_depth = 5, random_state = 10 ),\n",
    "    'xgboost': XGBRegressor(n_estimators = 70, max_depth=3,learning_rate=0.1, objective='reg:squarederror'),\n",
    "    'catboost': CatBoostRegressor(iterations=100, learning_rate=0.1,depth = 5, random_state =10),\n",
    "     'Decision': DecisionTreeRegressor(max_depth = 5, random_state=10)\n",
    "}\n",
    "class treino_teste():\n",
    "\n",
    "  def __init__(self,modelos,x_treino,x_teste,y_treino,y_teste):\n",
    "    self.modelos = modelos\n",
    "    self.x_treino = x_treino\n",
    "    self.x_teste = x_teste\n",
    "    self.y_treino = y_treino\n",
    "    self.y_teste = y_teste\n",
    "    self.modelo_score = {}\n",
    "\n",
    "  def treino(self):\n",
    "\n",
    "    for nome, model in self.modelos.items():\n",
    "\n",
    "      model.fit(self.x_treino,self.y_treino)\n",
    "\n",
    "      resultado_treino = round(model.score(self.x_treino,y_treino) * 100,2)\n",
    "      resultado_teste = round(model.score(self.x_teste,y_teste) * 100,2)\n",
    "\n",
    "      self.modelo_score[nome] = ['{:.2f}%'.format(resultado_treino), '{:.2f}%'.format(resultado_teste)]\n",
    "\n",
    "    md = pd.DataFrame(self.modelo_score,index=['Coeficiente treino','Coeficiente teste'])\n",
    "\n",
    "    return md\n",
    "\n",
    "  def previsao(self,modelo,x,y):\n",
    "\n",
    "    previsao = modelo.predict(x)\n",
    "\n",
    "    # Erro médio absoluto\n",
    "    print(f'Erro médio absoluto: {round(mean_absolute_error(y_teste, previsao),2)}\\n')\n",
    "\n",
    "    # Erro quadrático médio\n",
    "    print(f'\\nErro quadrático médio: {round(mean_squared_error(y_teste, previsao),2)}\\n')\n",
    "\n",
    "    # Raiz do erro quadrático médio (RMSE)\n",
    "    print(f'\\nRaiz do erro quadrático médio (RMSE): {round(np.sqrt(mean_squared_error(y_teste, previsao)),2)}')\n",
    "\n",
    "  def val_cruzada(self,mod,):\n",
    "\n",
    "    kfold = KFold(n_splits = 15, shuffle = True, random_state = 5)\n",
    "\n",
    "    resultado = cross_val_score(mod, independente, dependente, cv = kfold)\n",
    "\n",
    "    #Usando a média e o desvio padrão\n",
    "    print(f'Coeficiente de determinação médio: {round(resultado.mean() * 100,2)}%')\n",
    "\n",
    "Treino = treino_teste(modelos,x_treino,x_teste,y_treino,y_teste)\n",
    "Treino.treino()"
   ]
  },
  {
   "cell_type": "markdown",
   "metadata": {
    "id": "sEjTSps8Px62"
   },
   "source": [
    "Métricas"
   ]
  },
  {
   "cell_type": "code",
   "execution_count": null,
   "metadata": {
    "colab": {
     "base_uri": "https://localhost:8080/"
    },
    "id": "zk7dnFZBa2yp",
    "outputId": "ad01e8fe-e25e-49ce-f9f3-049b40bad9f3"
   },
   "outputs": [],
   "source": [
    "# Árvore de decisão\n",
    "Treino.previsao(modelo=modelos['Árvore'],x=x_teste,y=y_teste)"
   ]
  },
  {
   "cell_type": "code",
   "execution_count": null,
   "metadata": {
    "colab": {
     "base_uri": "https://localhost:8080/"
    },
    "id": "8t--iAw-KZv7",
    "outputId": "803913cc-9914-4cc0-996b-0f81f5e31f83"
   },
   "outputs": [],
   "source": [
    "# Random Forest\n",
    "Treino.previsao(modelo=modelos['Random'],x=x_teste,y=y_teste)"
   ]
  },
  {
   "cell_type": "code",
   "execution_count": null,
   "metadata": {
    "colab": {
     "base_uri": "https://localhost:8080/"
    },
    "id": "0ECX1OVJI-zd",
    "outputId": "38c0da9f-851f-4a12-9f2a-893bc650d82e"
   },
   "outputs": [],
   "source": [
    "# XGBRegressor\n",
    "Treino.previsao(modelo=modelos['xgboost'],x=x_teste,y=y_teste)"
   ]
  },
  {
   "cell_type": "code",
   "execution_count": null,
   "metadata": {
    "colab": {
     "base_uri": "https://localhost:8080/"
    },
    "id": "_iNNgi_Cw0de",
    "outputId": "a076e045-7500-495c-dffe-91491d6317bb"
   },
   "outputs": [],
   "source": [
    "# Catboost\n",
    "Treino.previsao(modelo=modelos['catboost'],x=x_teste,y=y_teste)"
   ]
  },
  {
   "cell_type": "markdown",
   "metadata": {
    "id": "ixKjzwwSWM0K"
   },
   "source": [
    "Validação Cruzada\n"
   ]
  },
  {
   "cell_type": "code",
   "execution_count": null,
   "metadata": {
    "colab": {
     "base_uri": "https://localhost:8080/"
    },
    "id": "IpOAaOVEWnNo",
    "outputId": "0984c390-d999-4b02-9d8e-14feb64817cc"
   },
   "outputs": [],
   "source": [
    "# Árvore de decisão validação cruzada\n",
    "Treino.val_cruzada(mod=modelos['Decision'])"
   ]
  },
  {
   "cell_type": "code",
   "execution_count": null,
   "metadata": {
    "colab": {
     "base_uri": "https://localhost:8080/"
    },
    "id": "NzY3W463Kg5D",
    "outputId": "de11f68c-03bd-4385-f8e5-6d47fd481e0f"
   },
   "outputs": [],
   "source": [
    "# Random Forest validação cruzada\n",
    "Treino.val_cruzada(mod=modelos['Random'])"
   ]
  },
  {
   "cell_type": "code",
   "execution_count": null,
   "metadata": {
    "colab": {
     "base_uri": "https://localhost:8080/"
    },
    "id": "J-mNpLvSJjef",
    "outputId": "8981ee65-fa19-4626-b84e-60f4522f7fd7"
   },
   "outputs": [],
   "source": [
    "# xgboost validação cruzada\n",
    "Treino.val_cruzada(mod=modelos['xgboost'])"
   ]
  },
  {
   "cell_type": "code",
   "execution_count": null,
   "metadata": {
    "colab": {
     "base_uri": "https://localhost:8080/"
    },
    "id": "5j4FGPkfxBWO",
    "outputId": "2f7378c7-7e6f-43f3-e333-1f9985375af0"
   },
   "outputs": [],
   "source": [
    "# Catboost validação cruzada\n",
    "Treino.val_cruzada(mod=modelos['catboost'])"
   ]
  },
  {
   "cell_type": "markdown",
   "metadata": {
    "id": "ERqlUz-2Y2mW"
   },
   "source": [
    "### **Resultado:**\n",
    "**Regressão Linear Simples:** Rˆ2 = 0,57/0,60; RMSE = 99315,5; Rˆ2 Validação Cruzada: 55,97%\n",
    "\n",
    "**Regressão Linear Múltipla:** Rˆ2 = 0,73/0,68; RMSE = 96087,3; Rˆ2 Validação Cruzada: 69,25%\n",
    "\n",
    "**Regressão Polinomial:** Rˆ2 = 0,59/0,54; RMSE = 114670,62\n",
    "\n",
    "**Regressão SVR:** Rˆ2 = 0,87/0,81; RMSE = 73422.69; Rˆ2 Validação Cruzada: 82,71%\n",
    "\n",
    "**Regressão árvore de decisão:** Rˆ2 = 0,91/0,83; RMSE = 71114,5; Rˆ2 Validação Cruzada: 74,60%.\n",
    "\n",
    "**Regressão Random Forest:** Rˆ2 = 0,91/0,84; RMSE = 66729.33; Rˆ2 Validação Cruzada: 82,85%.\n",
    "\n",
    "**Regressão xgboost:** Rˆ2 = 0,92/0,84; RMSE = 68006.28; Rˆ2 Validação Cruzada: 83,18%.\n",
    "\n",
    "**Regressão lightgbm:** Rˆ2 = 0,90/0,82; RMSE = 72295.92; Rˆ2 Validação Cruzada: 82.33%.\n",
    "\n",
    "**Regressão catboost:** Rˆ2 = 0,90/0,83; RMSE = 68937.28; Rˆ2 Validação Cruzada: 83.21%.\n",
    "\n",
    "----\n",
    "\n",
    "O melhor modelo de Regressão Linear foi o **Random Forest**\n",
    "\n",
    "---"
   ]
  },
  {
   "cell_type": "code",
   "execution_count": null,
   "metadata": {
    "id": "sgx6QcqyWnJd"
   },
   "outputs": [],
   "source": []
  },
  {
   "cell_type": "code",
   "execution_count": null,
   "metadata": {
    "id": "DaPwsaDBWnBU"
   },
   "outputs": [],
   "source": []
  },
  {
   "cell_type": "code",
   "execution_count": null,
   "metadata": {
    "id": "ZIaUAozJWmiZ"
   },
   "outputs": [],
   "source": []
  }
 ],
 "metadata": {
  "colab": {
   "provenance": []
  },
  "kernelspec": {
   "display_name": "Python 3 (ipykernel)",
   "language": "python",
   "name": "python3"
  },
  "language_info": {
   "codemirror_mode": {
    "name": "ipython",
    "version": 3
   },
   "file_extension": ".py",
   "mimetype": "text/x-python",
   "name": "python",
   "nbconvert_exporter": "python",
   "pygments_lexer": "ipython3",
   "version": "3.11.7"
  }
 },
 "nbformat": 4,
 "nbformat_minor": 4
}
