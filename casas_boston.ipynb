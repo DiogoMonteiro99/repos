{
  "cells": [
    {
      "cell_type": "markdown",
      "metadata": {
        "id": "view-in-github",
        "colab_type": "text"
      },
      "source": [
        "<a href=\"https://colab.research.google.com/github/DiogoMonteiro99/repos/blob/main/casas_boston.ipynb\" target=\"_parent\"><img src=\"https://colab.research.google.com/assets/colab-badge.svg\" alt=\"Open In Colab\"/></a>"
      ]
    },
    {
      "cell_type": "code",
      "source": [
        "from google.colab import drive\n",
        "drive.mount('/content/drive')"
      ],
      "metadata": {
        "id": "kYLE0w9hwZ0u",
        "colab": {
          "base_uri": "https://localhost:8080/"
        },
        "outputId": "153708f4-d495-4183-a364-c0133182d160"
      },
      "execution_count": 17,
      "outputs": [
        {
          "output_type": "stream",
          "name": "stdout",
          "text": [
            "Drive already mounted at /content/drive; to attempt to forcibly remount, call drive.mount(\"/content/drive\", force_remount=True).\n"
          ]
        }
      ]
    },
    {
      "cell_type": "markdown",
      "metadata": {
        "id": "3jz3iAf_R-Qg"
      },
      "source": [
        "# **Casas em Boston Regressão linear**\n",
        "\n",
        "###Importando as bibliotecas"
      ]
    },
    {
      "cell_type": "code",
      "execution_count": 18,
      "metadata": {
        "id": "fVPzuCqZR-Qm"
      },
      "outputs": [],
      "source": [
        "import pandas as pd\n",
        "import numpy as np\n",
        "import seaborn as sns\n",
        "import matplotlib.pyplot as plt\n",
        "import plotly.express as px\n",
        "import statistics as sts\n",
        "import warnings\n",
        "from scipy.stats import probplot,shapiro,spearmanr,pearsonr,kendalltau\n",
        "from statsmodels import stats\n",
        "from statsmodels.stats.diagnostic import lilliefors\n",
        "import statsmodels\n",
        "from sklearn.model_selection import train_test_split\n",
        "from sklearn.linear_model import LinearRegression\n",
        "from sklearn.metrics import mean_absolute_error,mean_squared_error\n",
        "from google.cloud import bigquery\n",
        "\n",
        "\n",
        "warnings.filterwarnings('ignore')\n",
        "\n",
        "df = pd.read_csv('/content/drive/MyDrive/Colab Notebooks/housing.csv')"
      ]
    },
    {
      "cell_type": "markdown",
      "metadata": {
        "id": "voIjwafOR-Qr"
      },
      "source": [
        "**Entendendo as colunas**\n",
        "\n",
        "RM: É o número médio de cômodos entre os imoveis no bairro.\n",
        "\n",
        "LSTAT: É a porcentagem de proprietários no bairro considerados de \"classe baixa\" (proletariado)\n",
        "\n",
        "PTRATIO: É a razão entre estudantes e professores nas escolas de ensino fundamental e médio no bairro.\n",
        "\n",
        "**Coluna alvo**\n",
        "\n",
        "MEDV: Valor médio das casas        "
      ]
    },
    {
      "cell_type": "code",
      "execution_count": 19,
      "metadata": {
        "id": "KdE07jjfR-Qs",
        "colab": {
          "base_uri": "https://localhost:8080/",
          "height": 1000
        },
        "outputId": "96bd9791-b859-498d-cac7-6bed737cff27"
      },
      "outputs": [
        {
          "output_type": "stream",
          "name": "stdout",
          "text": [
            "\n",
            " Nome da coluna:\n",
            " RM\n",
            "\n",
            " Tipo da coluna:\n",
            " float64\n",
            "\n",
            " Tipo da coluna:\n",
            "                RM     LSTAT   PTRATIO      MEDV\n",
            "RM       1.000000 -0.612033 -0.304559  0.697209\n",
            "LSTAT   -0.612033  1.000000  0.360445 -0.760670\n",
            "PTRATIO -0.304559  0.360445  1.000000 -0.519034\n",
            "MEDV     0.697209 -0.760670 -0.519034  1.000000\n",
            "\n",
            " Valor media da coluna:\n",
            " 6.24\n",
            "\n",
            " Quantidade de linhas da coluna:\n",
            " (489,)\n",
            "\n",
            " Valores unicos da coluna:\n",
            " 0\n",
            "\n",
            " Valores nulos da coluna:\n",
            " count    489.000000\n",
            "mean       6.240288\n",
            "std        0.643650\n",
            "min        3.561000\n",
            "25%        5.880000\n",
            "50%        6.185000\n",
            "75%        6.575000\n",
            "max        8.398000\n",
            "Name: RM, dtype: float64\n"
          ]
        },
        {
          "output_type": "display_data",
          "data": {
            "text/html": [
              "<html>\n",
              "<head><meta charset=\"utf-8\" /></head>\n",
              "<body>\n",
              "    <div>            <script src=\"https://cdnjs.cloudflare.com/ajax/libs/mathjax/2.7.5/MathJax.js?config=TeX-AMS-MML_SVG\"></script><script type=\"text/javascript\">if (window.MathJax && window.MathJax.Hub && window.MathJax.Hub.Config) {window.MathJax.Hub.Config({SVG: {font: \"STIX-Web\"}});}</script>                <script type=\"text/javascript\">window.PlotlyConfig = {MathJaxConfig: 'local'};</script>\n",
              "        <script charset=\"utf-8\" src=\"https://cdn.plot.ly/plotly-2.24.1.min.js\"></script>                <div id=\"ad88fd42-0e14-4067-918a-1588358d6e6a\" class=\"plotly-graph-div\" style=\"height:525px; width:100%;\"></div>            <script type=\"text/javascript\">                                    window.PLOTLYENV=window.PLOTLYENV || {};                                    if (document.getElementById(\"ad88fd42-0e14-4067-918a-1588358d6e6a\")) {                    Plotly.newPlot(                        \"ad88fd42-0e14-4067-918a-1588358d6e6a\",                        [{\"alignmentgroup\":\"True\",\"hovertemplate\":\"variable=%{x}\\u003cbr\\u003evalue=%{y}\\u003cextra\\u003e\\u003c\\u002fextra\\u003e\",\"legendgroup\":\"\",\"marker\":{\"color\":\"#636efa\"},\"name\":\"\",\"notched\":false,\"offsetgroup\":\"\",\"orientation\":\"v\",\"showlegend\":false,\"x\":[\"RM\",\"RM\",\"RM\",\"RM\",\"RM\",\"RM\",\"RM\",\"RM\",\"RM\",\"RM\",\"RM\",\"RM\",\"RM\",\"RM\",\"RM\",\"RM\",\"RM\",\"RM\",\"RM\",\"RM\",\"RM\",\"RM\",\"RM\",\"RM\",\"RM\",\"RM\",\"RM\",\"RM\",\"RM\",\"RM\",\"RM\",\"RM\",\"RM\",\"RM\",\"RM\",\"RM\",\"RM\",\"RM\",\"RM\",\"RM\",\"RM\",\"RM\",\"RM\",\"RM\",\"RM\",\"RM\",\"RM\",\"RM\",\"RM\",\"RM\",\"RM\",\"RM\",\"RM\",\"RM\",\"RM\",\"RM\",\"RM\",\"RM\",\"RM\",\"RM\",\"RM\",\"RM\",\"RM\",\"RM\",\"RM\",\"RM\",\"RM\",\"RM\",\"RM\",\"RM\",\"RM\",\"RM\",\"RM\",\"RM\",\"RM\",\"RM\",\"RM\",\"RM\",\"RM\",\"RM\",\"RM\",\"RM\",\"RM\",\"RM\",\"RM\",\"RM\",\"RM\",\"RM\",\"RM\",\"RM\",\"RM\",\"RM\",\"RM\",\"RM\",\"RM\",\"RM\",\"RM\",\"RM\",\"RM\",\"RM\",\"RM\",\"RM\",\"RM\",\"RM\",\"RM\",\"RM\",\"RM\",\"RM\",\"RM\",\"RM\",\"RM\",\"RM\",\"RM\",\"RM\",\"RM\",\"RM\",\"RM\",\"RM\",\"RM\",\"RM\",\"RM\",\"RM\",\"RM\",\"RM\",\"RM\",\"RM\",\"RM\",\"RM\",\"RM\",\"RM\",\"RM\",\"RM\",\"RM\",\"RM\",\"RM\",\"RM\",\"RM\",\"RM\",\"RM\",\"RM\",\"RM\",\"RM\",\"RM\",\"RM\",\"RM\",\"RM\",\"RM\",\"RM\",\"RM\",\"RM\",\"RM\",\"RM\",\"RM\",\"RM\",\"RM\",\"RM\",\"RM\",\"RM\",\"RM\",\"RM\",\"RM\",\"RM\",\"RM\",\"RM\",\"RM\",\"RM\",\"RM\",\"RM\",\"RM\",\"RM\",\"RM\",\"RM\",\"RM\",\"RM\",\"RM\",\"RM\",\"RM\",\"RM\",\"RM\",\"RM\",\"RM\",\"RM\",\"RM\",\"RM\",\"RM\",\"RM\",\"RM\",\"RM\",\"RM\",\"RM\",\"RM\",\"RM\",\"RM\",\"RM\",\"RM\",\"RM\",\"RM\",\"RM\",\"RM\",\"RM\",\"RM\",\"RM\",\"RM\",\"RM\",\"RM\",\"RM\",\"RM\",\"RM\",\"RM\",\"RM\",\"RM\",\"RM\",\"RM\",\"RM\",\"RM\",\"RM\",\"RM\",\"RM\",\"RM\",\"RM\",\"RM\",\"RM\",\"RM\",\"RM\",\"RM\",\"RM\",\"RM\",\"RM\",\"RM\",\"RM\",\"RM\",\"RM\",\"RM\",\"RM\",\"RM\",\"RM\",\"RM\",\"RM\",\"RM\",\"RM\",\"RM\",\"RM\",\"RM\",\"RM\",\"RM\",\"RM\",\"RM\",\"RM\",\"RM\",\"RM\",\"RM\",\"RM\",\"RM\",\"RM\",\"RM\",\"RM\",\"RM\",\"RM\",\"RM\",\"RM\",\"RM\",\"RM\",\"RM\",\"RM\",\"RM\",\"RM\",\"RM\",\"RM\",\"RM\",\"RM\",\"RM\",\"RM\",\"RM\",\"RM\",\"RM\",\"RM\",\"RM\",\"RM\",\"RM\",\"RM\",\"RM\",\"RM\",\"RM\",\"RM\",\"RM\",\"RM\",\"RM\",\"RM\",\"RM\",\"RM\",\"RM\",\"RM\",\"RM\",\"RM\",\"RM\",\"RM\",\"RM\",\"RM\",\"RM\",\"RM\",\"RM\",\"RM\",\"RM\",\"RM\",\"RM\",\"RM\",\"RM\",\"RM\",\"RM\",\"RM\",\"RM\",\"RM\",\"RM\",\"RM\",\"RM\",\"RM\",\"RM\",\"RM\",\"RM\",\"RM\",\"RM\",\"RM\",\"RM\",\"RM\",\"RM\",\"RM\",\"RM\",\"RM\",\"RM\",\"RM\",\"RM\",\"RM\",\"RM\",\"RM\",\"RM\",\"RM\",\"RM\",\"RM\",\"RM\",\"RM\",\"RM\",\"RM\",\"RM\",\"RM\",\"RM\",\"RM\",\"RM\",\"RM\",\"RM\",\"RM\",\"RM\",\"RM\",\"RM\",\"RM\",\"RM\",\"RM\",\"RM\",\"RM\",\"RM\",\"RM\",\"RM\",\"RM\",\"RM\",\"RM\",\"RM\",\"RM\",\"RM\",\"RM\",\"RM\",\"RM\",\"RM\",\"RM\",\"RM\",\"RM\",\"RM\",\"RM\",\"RM\",\"RM\",\"RM\",\"RM\",\"RM\",\"RM\",\"RM\",\"RM\",\"RM\",\"RM\",\"RM\",\"RM\",\"RM\",\"RM\",\"RM\",\"RM\",\"RM\",\"RM\",\"RM\",\"RM\",\"RM\",\"RM\",\"RM\",\"RM\",\"RM\",\"RM\",\"RM\",\"RM\",\"RM\",\"RM\",\"RM\",\"RM\",\"RM\",\"RM\",\"RM\",\"RM\",\"RM\",\"RM\",\"RM\",\"RM\",\"RM\",\"RM\",\"RM\",\"RM\",\"RM\",\"RM\",\"RM\",\"RM\",\"RM\",\"RM\",\"RM\",\"RM\",\"RM\",\"RM\",\"RM\",\"RM\",\"RM\",\"RM\",\"RM\",\"RM\",\"RM\",\"RM\",\"RM\",\"RM\",\"RM\",\"RM\",\"RM\",\"RM\",\"RM\",\"RM\",\"RM\",\"RM\",\"RM\",\"RM\",\"RM\",\"RM\",\"RM\",\"RM\",\"RM\",\"RM\",\"RM\",\"RM\",\"RM\",\"RM\",\"RM\",\"RM\",\"RM\",\"RM\",\"RM\",\"RM\",\"RM\",\"RM\",\"RM\",\"RM\",\"RM\",\"RM\",\"RM\",\"RM\",\"RM\",\"RM\",\"RM\",\"RM\",\"RM\",\"RM\",\"RM\",\"RM\",\"RM\",\"RM\",\"RM\",\"RM\",\"RM\",\"RM\",\"RM\"],\"x0\":\" \",\"xaxis\":\"x\",\"y\":[6.575,6.421,7.185,6.998,7.147,6.43,6.012,6.172,5.631,6.004,6.377,6.009,5.889,5.949,6.096,5.834,5.935,5.99,5.456,5.727,5.57,5.965,6.142,5.813,5.924,5.599,5.813,6.047,6.495,6.674,5.713,6.072,5.95,5.701,6.096,5.933,5.841,5.85,5.966,6.595,7.024,6.77,6.169,6.211,6.069,5.682,5.786,6.03,5.399,5.602,5.963,6.115,6.511,5.998,5.888,7.249,6.383,6.816,6.145,5.927,5.741,5.966,6.456,6.762,7.104,6.29,5.787,5.878,5.594,5.885,6.417,5.961,6.065,6.245,6.273,6.286,6.279,6.14,6.232,5.874,6.727,6.619,6.302,6.167,6.389,6.63,6.015,6.121,7.007,7.079,6.417,6.405,6.442,6.211,6.249,6.625,6.163,8.069,7.82,7.416,6.727,6.781,6.405,6.137,6.167,5.851,5.836,6.127,6.474,6.229,6.195,6.715,5.913,6.092,6.254,5.928,6.176,6.021,5.872,5.731,5.87,6.004,5.961,5.856,5.879,5.986,5.613,5.693,6.431,5.637,6.458,6.326,6.372,5.822,5.757,6.335,5.942,6.454,5.857,6.151,6.174,5.019,5.403,5.468,4.903,6.13,5.628,4.926,5.186,5.597,6.122,5.404,5.012,5.709,6.129,6.152,5.272,6.943,6.066,6.51,6.25,5.854,6.101,5.877,6.319,6.402,5.875,5.88,5.572,6.416,5.859,6.546,6.02,6.315,6.86,6.98,7.765,6.144,7.155,6.563,5.604,6.153,6.782,6.556,7.185,6.951,6.739,7.178,6.8,6.604,7.287,7.107,7.274,6.975,7.135,6.162,7.61,7.853,5.891,6.326,5.783,6.064,5.344,5.96,5.404,5.807,6.375,5.412,6.182,5.888,6.642,5.951,6.373,6.951,6.164,6.879,6.618,8.266,8.04,7.163,7.686,6.552,5.981,7.412,8.337,8.247,6.726,6.086,6.631,7.358,6.481,6.606,6.897,6.095,6.358,6.393,5.593,5.605,6.108,6.226,6.433,6.718,6.487,6.438,6.957,8.259,6.108,5.876,7.454,7.333,6.842,7.203,7.52,8.398,7.327,7.206,5.56,7.014,7.47,5.92,5.856,6.24,6.538,7.691,6.758,6.854,7.267,6.826,6.482,6.812,7.82,6.968,7.645,7.088,6.453,6.23,6.209,6.315,6.565,6.861,7.148,6.63,6.127,6.009,6.678,6.549,5.79,6.345,7.041,6.871,6.59,6.495,6.982,7.236,6.616,7.42,6.849,6.635,5.972,4.973,6.122,6.023,6.266,6.567,5.705,5.914,5.782,6.382,6.113,6.426,6.376,6.041,5.708,6.415,6.431,6.312,6.083,5.868,6.333,6.144,5.706,6.031,6.316,6.31,6.037,5.869,5.895,6.059,5.985,5.968,7.241,6.54,6.696,6.874,6.014,5.898,6.516,6.635,6.939,6.49,6.579,5.884,6.728,5.663,5.936,6.212,6.395,6.127,6.112,6.398,6.251,5.362,5.803,3.561,4.963,3.863,4.906,4.138,7.313,6.649,6.794,6.38,6.223,6.968,6.545,5.536,5.52,4.368,5.277,4.652,5.0,4.88,5.39,5.713,6.051,5.036,6.193,5.887,6.471,6.405,5.747,5.453,5.852,5.987,6.343,6.404,5.349,5.531,5.683,4.138,5.608,5.617,6.852,5.757,6.657,4.628,5.155,4.519,6.434,6.782,5.304,5.957,6.824,6.411,6.006,5.648,6.103,5.565,5.896,5.837,6.202,6.193,6.38,6.348,6.833,6.425,6.436,6.208,6.629,6.461,6.152,5.935,5.627,5.818,6.406,6.219,6.485,5.854,6.459,6.341,6.251,6.185,6.417,6.749,6.655,6.297,7.393,6.728,6.525,5.976,5.936,6.301,6.081,6.701,6.376,6.317,6.513,6.209,5.759,5.952,6.003,5.926,5.713,6.167,6.229,6.437,6.98,5.427,6.162,6.484,5.304,6.185,6.229,6.242,6.75,7.061,5.762,5.871,6.312,6.114,5.905,5.454,5.414,5.093,5.983,5.983,5.707,5.926,5.67,5.39,5.794,6.019,5.569,6.027,6.593,6.12,6.976,6.794,6.03],\"y0\":\" \",\"yaxis\":\"y\",\"type\":\"box\"}],                        {\"template\":{\"data\":{\"barpolar\":[{\"marker\":{\"line\":{\"color\":\"rgb(17,17,17)\",\"width\":0.5},\"pattern\":{\"fillmode\":\"overlay\",\"size\":10,\"solidity\":0.2}},\"type\":\"barpolar\"}],\"bar\":[{\"error_x\":{\"color\":\"#f2f5fa\"},\"error_y\":{\"color\":\"#f2f5fa\"},\"marker\":{\"line\":{\"color\":\"rgb(17,17,17)\",\"width\":0.5},\"pattern\":{\"fillmode\":\"overlay\",\"size\":10,\"solidity\":0.2}},\"type\":\"bar\"}],\"carpet\":[{\"aaxis\":{\"endlinecolor\":\"#A2B1C6\",\"gridcolor\":\"#506784\",\"linecolor\":\"#506784\",\"minorgridcolor\":\"#506784\",\"startlinecolor\":\"#A2B1C6\"},\"baxis\":{\"endlinecolor\":\"#A2B1C6\",\"gridcolor\":\"#506784\",\"linecolor\":\"#506784\",\"minorgridcolor\":\"#506784\",\"startlinecolor\":\"#A2B1C6\"},\"type\":\"carpet\"}],\"choropleth\":[{\"colorbar\":{\"outlinewidth\":0,\"ticks\":\"\"},\"type\":\"choropleth\"}],\"contourcarpet\":[{\"colorbar\":{\"outlinewidth\":0,\"ticks\":\"\"},\"type\":\"contourcarpet\"}],\"contour\":[{\"colorbar\":{\"outlinewidth\":0,\"ticks\":\"\"},\"colorscale\":[[0.0,\"#0d0887\"],[0.1111111111111111,\"#46039f\"],[0.2222222222222222,\"#7201a8\"],[0.3333333333333333,\"#9c179e\"],[0.4444444444444444,\"#bd3786\"],[0.5555555555555556,\"#d8576b\"],[0.6666666666666666,\"#ed7953\"],[0.7777777777777778,\"#fb9f3a\"],[0.8888888888888888,\"#fdca26\"],[1.0,\"#f0f921\"]],\"type\":\"contour\"}],\"heatmapgl\":[{\"colorbar\":{\"outlinewidth\":0,\"ticks\":\"\"},\"colorscale\":[[0.0,\"#0d0887\"],[0.1111111111111111,\"#46039f\"],[0.2222222222222222,\"#7201a8\"],[0.3333333333333333,\"#9c179e\"],[0.4444444444444444,\"#bd3786\"],[0.5555555555555556,\"#d8576b\"],[0.6666666666666666,\"#ed7953\"],[0.7777777777777778,\"#fb9f3a\"],[0.8888888888888888,\"#fdca26\"],[1.0,\"#f0f921\"]],\"type\":\"heatmapgl\"}],\"heatmap\":[{\"colorbar\":{\"outlinewidth\":0,\"ticks\":\"\"},\"colorscale\":[[0.0,\"#0d0887\"],[0.1111111111111111,\"#46039f\"],[0.2222222222222222,\"#7201a8\"],[0.3333333333333333,\"#9c179e\"],[0.4444444444444444,\"#bd3786\"],[0.5555555555555556,\"#d8576b\"],[0.6666666666666666,\"#ed7953\"],[0.7777777777777778,\"#fb9f3a\"],[0.8888888888888888,\"#fdca26\"],[1.0,\"#f0f921\"]],\"type\":\"heatmap\"}],\"histogram2dcontour\":[{\"colorbar\":{\"outlinewidth\":0,\"ticks\":\"\"},\"colorscale\":[[0.0,\"#0d0887\"],[0.1111111111111111,\"#46039f\"],[0.2222222222222222,\"#7201a8\"],[0.3333333333333333,\"#9c179e\"],[0.4444444444444444,\"#bd3786\"],[0.5555555555555556,\"#d8576b\"],[0.6666666666666666,\"#ed7953\"],[0.7777777777777778,\"#fb9f3a\"],[0.8888888888888888,\"#fdca26\"],[1.0,\"#f0f921\"]],\"type\":\"histogram2dcontour\"}],\"histogram2d\":[{\"colorbar\":{\"outlinewidth\":0,\"ticks\":\"\"},\"colorscale\":[[0.0,\"#0d0887\"],[0.1111111111111111,\"#46039f\"],[0.2222222222222222,\"#7201a8\"],[0.3333333333333333,\"#9c179e\"],[0.4444444444444444,\"#bd3786\"],[0.5555555555555556,\"#d8576b\"],[0.6666666666666666,\"#ed7953\"],[0.7777777777777778,\"#fb9f3a\"],[0.8888888888888888,\"#fdca26\"],[1.0,\"#f0f921\"]],\"type\":\"histogram2d\"}],\"histogram\":[{\"marker\":{\"pattern\":{\"fillmode\":\"overlay\",\"size\":10,\"solidity\":0.2}},\"type\":\"histogram\"}],\"mesh3d\":[{\"colorbar\":{\"outlinewidth\":0,\"ticks\":\"\"},\"type\":\"mesh3d\"}],\"parcoords\":[{\"line\":{\"colorbar\":{\"outlinewidth\":0,\"ticks\":\"\"}},\"type\":\"parcoords\"}],\"pie\":[{\"automargin\":true,\"type\":\"pie\"}],\"scatter3d\":[{\"line\":{\"colorbar\":{\"outlinewidth\":0,\"ticks\":\"\"}},\"marker\":{\"colorbar\":{\"outlinewidth\":0,\"ticks\":\"\"}},\"type\":\"scatter3d\"}],\"scattercarpet\":[{\"marker\":{\"colorbar\":{\"outlinewidth\":0,\"ticks\":\"\"}},\"type\":\"scattercarpet\"}],\"scattergeo\":[{\"marker\":{\"colorbar\":{\"outlinewidth\":0,\"ticks\":\"\"}},\"type\":\"scattergeo\"}],\"scattergl\":[{\"marker\":{\"line\":{\"color\":\"#283442\"}},\"type\":\"scattergl\"}],\"scattermapbox\":[{\"marker\":{\"colorbar\":{\"outlinewidth\":0,\"ticks\":\"\"}},\"type\":\"scattermapbox\"}],\"scatterpolargl\":[{\"marker\":{\"colorbar\":{\"outlinewidth\":0,\"ticks\":\"\"}},\"type\":\"scatterpolargl\"}],\"scatterpolar\":[{\"marker\":{\"colorbar\":{\"outlinewidth\":0,\"ticks\":\"\"}},\"type\":\"scatterpolar\"}],\"scatter\":[{\"marker\":{\"line\":{\"color\":\"#283442\"}},\"type\":\"scatter\"}],\"scatterternary\":[{\"marker\":{\"colorbar\":{\"outlinewidth\":0,\"ticks\":\"\"}},\"type\":\"scatterternary\"}],\"surface\":[{\"colorbar\":{\"outlinewidth\":0,\"ticks\":\"\"},\"colorscale\":[[0.0,\"#0d0887\"],[0.1111111111111111,\"#46039f\"],[0.2222222222222222,\"#7201a8\"],[0.3333333333333333,\"#9c179e\"],[0.4444444444444444,\"#bd3786\"],[0.5555555555555556,\"#d8576b\"],[0.6666666666666666,\"#ed7953\"],[0.7777777777777778,\"#fb9f3a\"],[0.8888888888888888,\"#fdca26\"],[1.0,\"#f0f921\"]],\"type\":\"surface\"}],\"table\":[{\"cells\":{\"fill\":{\"color\":\"#506784\"},\"line\":{\"color\":\"rgb(17,17,17)\"}},\"header\":{\"fill\":{\"color\":\"#2a3f5f\"},\"line\":{\"color\":\"rgb(17,17,17)\"}},\"type\":\"table\"}]},\"layout\":{\"annotationdefaults\":{\"arrowcolor\":\"#f2f5fa\",\"arrowhead\":0,\"arrowwidth\":1},\"autotypenumbers\":\"strict\",\"coloraxis\":{\"colorbar\":{\"outlinewidth\":0,\"ticks\":\"\"}},\"colorscale\":{\"diverging\":[[0,\"#8e0152\"],[0.1,\"#c51b7d\"],[0.2,\"#de77ae\"],[0.3,\"#f1b6da\"],[0.4,\"#fde0ef\"],[0.5,\"#f7f7f7\"],[0.6,\"#e6f5d0\"],[0.7,\"#b8e186\"],[0.8,\"#7fbc41\"],[0.9,\"#4d9221\"],[1,\"#276419\"]],\"sequential\":[[0.0,\"#0d0887\"],[0.1111111111111111,\"#46039f\"],[0.2222222222222222,\"#7201a8\"],[0.3333333333333333,\"#9c179e\"],[0.4444444444444444,\"#bd3786\"],[0.5555555555555556,\"#d8576b\"],[0.6666666666666666,\"#ed7953\"],[0.7777777777777778,\"#fb9f3a\"],[0.8888888888888888,\"#fdca26\"],[1.0,\"#f0f921\"]],\"sequentialminus\":[[0.0,\"#0d0887\"],[0.1111111111111111,\"#46039f\"],[0.2222222222222222,\"#7201a8\"],[0.3333333333333333,\"#9c179e\"],[0.4444444444444444,\"#bd3786\"],[0.5555555555555556,\"#d8576b\"],[0.6666666666666666,\"#ed7953\"],[0.7777777777777778,\"#fb9f3a\"],[0.8888888888888888,\"#fdca26\"],[1.0,\"#f0f921\"]]},\"colorway\":[\"#636efa\",\"#EF553B\",\"#00cc96\",\"#ab63fa\",\"#FFA15A\",\"#19d3f3\",\"#FF6692\",\"#B6E880\",\"#FF97FF\",\"#FECB52\"],\"font\":{\"color\":\"#f2f5fa\"},\"geo\":{\"bgcolor\":\"rgb(17,17,17)\",\"lakecolor\":\"rgb(17,17,17)\",\"landcolor\":\"rgb(17,17,17)\",\"showlakes\":true,\"showland\":true,\"subunitcolor\":\"#506784\"},\"hoverlabel\":{\"align\":\"left\"},\"hovermode\":\"closest\",\"mapbox\":{\"style\":\"dark\"},\"paper_bgcolor\":\"rgb(17,17,17)\",\"plot_bgcolor\":\"rgb(17,17,17)\",\"polar\":{\"angularaxis\":{\"gridcolor\":\"#506784\",\"linecolor\":\"#506784\",\"ticks\":\"\"},\"bgcolor\":\"rgb(17,17,17)\",\"radialaxis\":{\"gridcolor\":\"#506784\",\"linecolor\":\"#506784\",\"ticks\":\"\"}},\"scene\":{\"xaxis\":{\"backgroundcolor\":\"rgb(17,17,17)\",\"gridcolor\":\"#506784\",\"gridwidth\":2,\"linecolor\":\"#506784\",\"showbackground\":true,\"ticks\":\"\",\"zerolinecolor\":\"#C8D4E3\"},\"yaxis\":{\"backgroundcolor\":\"rgb(17,17,17)\",\"gridcolor\":\"#506784\",\"gridwidth\":2,\"linecolor\":\"#506784\",\"showbackground\":true,\"ticks\":\"\",\"zerolinecolor\":\"#C8D4E3\"},\"zaxis\":{\"backgroundcolor\":\"rgb(17,17,17)\",\"gridcolor\":\"#506784\",\"gridwidth\":2,\"linecolor\":\"#506784\",\"showbackground\":true,\"ticks\":\"\",\"zerolinecolor\":\"#C8D4E3\"}},\"shapedefaults\":{\"line\":{\"color\":\"#f2f5fa\"}},\"sliderdefaults\":{\"bgcolor\":\"#C8D4E3\",\"bordercolor\":\"rgb(17,17,17)\",\"borderwidth\":1,\"tickwidth\":0},\"ternary\":{\"aaxis\":{\"gridcolor\":\"#506784\",\"linecolor\":\"#506784\",\"ticks\":\"\"},\"baxis\":{\"gridcolor\":\"#506784\",\"linecolor\":\"#506784\",\"ticks\":\"\"},\"bgcolor\":\"rgb(17,17,17)\",\"caxis\":{\"gridcolor\":\"#506784\",\"linecolor\":\"#506784\",\"ticks\":\"\"}},\"title\":{\"x\":0.05},\"updatemenudefaults\":{\"bgcolor\":\"#506784\",\"borderwidth\":0},\"xaxis\":{\"automargin\":true,\"gridcolor\":\"#283442\",\"linecolor\":\"#506784\",\"ticks\":\"\",\"title\":{\"standoff\":15},\"zerolinecolor\":\"#283442\",\"zerolinewidth\":2},\"yaxis\":{\"automargin\":true,\"gridcolor\":\"#283442\",\"linecolor\":\"#506784\",\"ticks\":\"\",\"title\":{\"standoff\":15},\"zerolinecolor\":\"#283442\",\"zerolinewidth\":2}}},\"xaxis\":{\"anchor\":\"y\",\"domain\":[0.0,1.0],\"title\":{\"text\":\"variable\"},\"showgrid\":false},\"yaxis\":{\"anchor\":\"x\",\"domain\":[0.0,1.0],\"title\":{\"text\":\"value\"},\"showgrid\":false},\"legend\":{\"tracegroupgap\":0},\"margin\":{\"t\":60},\"boxmode\":\"group\",\"title\":{\"text\":\"Boxplot da coluna RM\"}},                        {\"responsive\": true}                    ).then(function(){\n",
              "                            \n",
              "var gd = document.getElementById('ad88fd42-0e14-4067-918a-1588358d6e6a');\n",
              "var x = new MutationObserver(function (mutations, observer) {{\n",
              "        var display = window.getComputedStyle(gd).display;\n",
              "        if (!display || display === 'none') {{\n",
              "            console.log([gd, 'removed!']);\n",
              "            Plotly.purge(gd);\n",
              "            observer.disconnect();\n",
              "        }}\n",
              "}});\n",
              "\n",
              "// Listen for the removal of the full notebook cells\n",
              "var notebookContainer = gd.closest('#notebook-container');\n",
              "if (notebookContainer) {{\n",
              "    x.observe(notebookContainer, {childList: true});\n",
              "}}\n",
              "\n",
              "// Listen for the clearing of the current output cell\n",
              "var outputEl = gd.closest('.output');\n",
              "if (outputEl) {{\n",
              "    x.observe(outputEl, {childList: true});\n",
              "}}\n",
              "\n",
              "                        })                };                            </script>        </div>\n",
              "</body>\n",
              "</html>"
            ]
          },
          "metadata": {}
        },
        {
          "output_type": "stream",
          "name": "stdout",
          "text": [
            "\n",
            " Nome da coluna:\n",
            " LSTAT\n",
            "\n",
            " Tipo da coluna:\n",
            " float64\n",
            "\n",
            " Tipo da coluna:\n",
            "                RM     LSTAT   PTRATIO      MEDV\n",
            "RM       1.000000 -0.612033 -0.304559  0.697209\n",
            "LSTAT   -0.612033  1.000000  0.360445 -0.760670\n",
            "PTRATIO -0.304559  0.360445  1.000000 -0.519034\n",
            "MEDV     0.697209 -0.760670 -0.519034  1.000000\n",
            "\n",
            " Valor media da coluna:\n",
            " 12.94\n",
            "\n",
            " Quantidade de linhas da coluna:\n",
            " (489,)\n",
            "\n",
            " Valores unicos da coluna:\n",
            " 0\n",
            "\n",
            " Valores nulos da coluna:\n",
            " count    489.000000\n",
            "mean      12.939632\n",
            "std        7.081990\n",
            "min        1.980000\n",
            "25%        7.370000\n",
            "50%       11.690000\n",
            "75%       17.120000\n",
            "max       37.970000\n",
            "Name: LSTAT, dtype: float64\n"
          ]
        },
        {
          "output_type": "display_data",
          "data": {
            "text/html": [
              "<html>\n",
              "<head><meta charset=\"utf-8\" /></head>\n",
              "<body>\n",
              "    <div>            <script src=\"https://cdnjs.cloudflare.com/ajax/libs/mathjax/2.7.5/MathJax.js?config=TeX-AMS-MML_SVG\"></script><script type=\"text/javascript\">if (window.MathJax && window.MathJax.Hub && window.MathJax.Hub.Config) {window.MathJax.Hub.Config({SVG: {font: \"STIX-Web\"}});}</script>                <script type=\"text/javascript\">window.PlotlyConfig = {MathJaxConfig: 'local'};</script>\n",
              "        <script charset=\"utf-8\" src=\"https://cdn.plot.ly/plotly-2.24.1.min.js\"></script>                <div id=\"34f693db-cd62-47a4-a499-e0f92f63f1d2\" class=\"plotly-graph-div\" style=\"height:525px; width:100%;\"></div>            <script type=\"text/javascript\">                                    window.PLOTLYENV=window.PLOTLYENV || {};                                    if (document.getElementById(\"34f693db-cd62-47a4-a499-e0f92f63f1d2\")) {                    Plotly.newPlot(                        \"34f693db-cd62-47a4-a499-e0f92f63f1d2\",                        [{\"alignmentgroup\":\"True\",\"hovertemplate\":\"variable=%{x}\\u003cbr\\u003evalue=%{y}\\u003cextra\\u003e\\u003c\\u002fextra\\u003e\",\"legendgroup\":\"\",\"marker\":{\"color\":\"#636efa\"},\"name\":\"\",\"notched\":false,\"offsetgroup\":\"\",\"orientation\":\"v\",\"showlegend\":false,\"x\":[\"LSTAT\",\"LSTAT\",\"LSTAT\",\"LSTAT\",\"LSTAT\",\"LSTAT\",\"LSTAT\",\"LSTAT\",\"LSTAT\",\"LSTAT\",\"LSTAT\",\"LSTAT\",\"LSTAT\",\"LSTAT\",\"LSTAT\",\"LSTAT\",\"LSTAT\",\"LSTAT\",\"LSTAT\",\"LSTAT\",\"LSTAT\",\"LSTAT\",\"LSTAT\",\"LSTAT\",\"LSTAT\",\"LSTAT\",\"LSTAT\",\"LSTAT\",\"LSTAT\",\"LSTAT\",\"LSTAT\",\"LSTAT\",\"LSTAT\",\"LSTAT\",\"LSTAT\",\"LSTAT\",\"LSTAT\",\"LSTAT\",\"LSTAT\",\"LSTAT\",\"LSTAT\",\"LSTAT\",\"LSTAT\",\"LSTAT\",\"LSTAT\",\"LSTAT\",\"LSTAT\",\"LSTAT\",\"LSTAT\",\"LSTAT\",\"LSTAT\",\"LSTAT\",\"LSTAT\",\"LSTAT\",\"LSTAT\",\"LSTAT\",\"LSTAT\",\"LSTAT\",\"LSTAT\",\"LSTAT\",\"LSTAT\",\"LSTAT\",\"LSTAT\",\"LSTAT\",\"LSTAT\",\"LSTAT\",\"LSTAT\",\"LSTAT\",\"LSTAT\",\"LSTAT\",\"LSTAT\",\"LSTAT\",\"LSTAT\",\"LSTAT\",\"LSTAT\",\"LSTAT\",\"LSTAT\",\"LSTAT\",\"LSTAT\",\"LSTAT\",\"LSTAT\",\"LSTAT\",\"LSTAT\",\"LSTAT\",\"LSTAT\",\"LSTAT\",\"LSTAT\",\"LSTAT\",\"LSTAT\",\"LSTAT\",\"LSTAT\",\"LSTAT\",\"LSTAT\",\"LSTAT\",\"LSTAT\",\"LSTAT\",\"LSTAT\",\"LSTAT\",\"LSTAT\",\"LSTAT\",\"LSTAT\",\"LSTAT\",\"LSTAT\",\"LSTAT\",\"LSTAT\",\"LSTAT\",\"LSTAT\",\"LSTAT\",\"LSTAT\",\"LSTAT\",\"LSTAT\",\"LSTAT\",\"LSTAT\",\"LSTAT\",\"LSTAT\",\"LSTAT\",\"LSTAT\",\"LSTAT\",\"LSTAT\",\"LSTAT\",\"LSTAT\",\"LSTAT\",\"LSTAT\",\"LSTAT\",\"LSTAT\",\"LSTAT\",\"LSTAT\",\"LSTAT\",\"LSTAT\",\"LSTAT\",\"LSTAT\",\"LSTAT\",\"LSTAT\",\"LSTAT\",\"LSTAT\",\"LSTAT\",\"LSTAT\",\"LSTAT\",\"LSTAT\",\"LSTAT\",\"LSTAT\",\"LSTAT\",\"LSTAT\",\"LSTAT\",\"LSTAT\",\"LSTAT\",\"LSTAT\",\"LSTAT\",\"LSTAT\",\"LSTAT\",\"LSTAT\",\"LSTAT\",\"LSTAT\",\"LSTAT\",\"LSTAT\",\"LSTAT\",\"LSTAT\",\"LSTAT\",\"LSTAT\",\"LSTAT\",\"LSTAT\",\"LSTAT\",\"LSTAT\",\"LSTAT\",\"LSTAT\",\"LSTAT\",\"LSTAT\",\"LSTAT\",\"LSTAT\",\"LSTAT\",\"LSTAT\",\"LSTAT\",\"LSTAT\",\"LSTAT\",\"LSTAT\",\"LSTAT\",\"LSTAT\",\"LSTAT\",\"LSTAT\",\"LSTAT\",\"LSTAT\",\"LSTAT\",\"LSTAT\",\"LSTAT\",\"LSTAT\",\"LSTAT\",\"LSTAT\",\"LSTAT\",\"LSTAT\",\"LSTAT\",\"LSTAT\",\"LSTAT\",\"LSTAT\",\"LSTAT\",\"LSTAT\",\"LSTAT\",\"LSTAT\",\"LSTAT\",\"LSTAT\",\"LSTAT\",\"LSTAT\",\"LSTAT\",\"LSTAT\",\"LSTAT\",\"LSTAT\",\"LSTAT\",\"LSTAT\",\"LSTAT\",\"LSTAT\",\"LSTAT\",\"LSTAT\",\"LSTAT\",\"LSTAT\",\"LSTAT\",\"LSTAT\",\"LSTAT\",\"LSTAT\",\"LSTAT\",\"LSTAT\",\"LSTAT\",\"LSTAT\",\"LSTAT\",\"LSTAT\",\"LSTAT\",\"LSTAT\",\"LSTAT\",\"LSTAT\",\"LSTAT\",\"LSTAT\",\"LSTAT\",\"LSTAT\",\"LSTAT\",\"LSTAT\",\"LSTAT\",\"LSTAT\",\"LSTAT\",\"LSTAT\",\"LSTAT\",\"LSTAT\",\"LSTAT\",\"LSTAT\",\"LSTAT\",\"LSTAT\",\"LSTAT\",\"LSTAT\",\"LSTAT\",\"LSTAT\",\"LSTAT\",\"LSTAT\",\"LSTAT\",\"LSTAT\",\"LSTAT\",\"LSTAT\",\"LSTAT\",\"LSTAT\",\"LSTAT\",\"LSTAT\",\"LSTAT\",\"LSTAT\",\"LSTAT\",\"LSTAT\",\"LSTAT\",\"LSTAT\",\"LSTAT\",\"LSTAT\",\"LSTAT\",\"LSTAT\",\"LSTAT\",\"LSTAT\",\"LSTAT\",\"LSTAT\",\"LSTAT\",\"LSTAT\",\"LSTAT\",\"LSTAT\",\"LSTAT\",\"LSTAT\",\"LSTAT\",\"LSTAT\",\"LSTAT\",\"LSTAT\",\"LSTAT\",\"LSTAT\",\"LSTAT\",\"LSTAT\",\"LSTAT\",\"LSTAT\",\"LSTAT\",\"LSTAT\",\"LSTAT\",\"LSTAT\",\"LSTAT\",\"LSTAT\",\"LSTAT\",\"LSTAT\",\"LSTAT\",\"LSTAT\",\"LSTAT\",\"LSTAT\",\"LSTAT\",\"LSTAT\",\"LSTAT\",\"LSTAT\",\"LSTAT\",\"LSTAT\",\"LSTAT\",\"LSTAT\",\"LSTAT\",\"LSTAT\",\"LSTAT\",\"LSTAT\",\"LSTAT\",\"LSTAT\",\"LSTAT\",\"LSTAT\",\"LSTAT\",\"LSTAT\",\"LSTAT\",\"LSTAT\",\"LSTAT\",\"LSTAT\",\"LSTAT\",\"LSTAT\",\"LSTAT\",\"LSTAT\",\"LSTAT\",\"LSTAT\",\"LSTAT\",\"LSTAT\",\"LSTAT\",\"LSTAT\",\"LSTAT\",\"LSTAT\",\"LSTAT\",\"LSTAT\",\"LSTAT\",\"LSTAT\",\"LSTAT\",\"LSTAT\",\"LSTAT\",\"LSTAT\",\"LSTAT\",\"LSTAT\",\"LSTAT\",\"LSTAT\",\"LSTAT\",\"LSTAT\",\"LSTAT\",\"LSTAT\",\"LSTAT\",\"LSTAT\",\"LSTAT\",\"LSTAT\",\"LSTAT\",\"LSTAT\",\"LSTAT\",\"LSTAT\",\"LSTAT\",\"LSTAT\",\"LSTAT\",\"LSTAT\",\"LSTAT\",\"LSTAT\",\"LSTAT\",\"LSTAT\",\"LSTAT\",\"LSTAT\",\"LSTAT\",\"LSTAT\",\"LSTAT\",\"LSTAT\",\"LSTAT\",\"LSTAT\",\"LSTAT\",\"LSTAT\",\"LSTAT\",\"LSTAT\",\"LSTAT\",\"LSTAT\",\"LSTAT\",\"LSTAT\",\"LSTAT\",\"LSTAT\",\"LSTAT\",\"LSTAT\",\"LSTAT\",\"LSTAT\",\"LSTAT\",\"LSTAT\",\"LSTAT\",\"LSTAT\",\"LSTAT\",\"LSTAT\",\"LSTAT\",\"LSTAT\",\"LSTAT\",\"LSTAT\",\"LSTAT\",\"LSTAT\",\"LSTAT\",\"LSTAT\",\"LSTAT\",\"LSTAT\",\"LSTAT\",\"LSTAT\",\"LSTAT\",\"LSTAT\",\"LSTAT\",\"LSTAT\",\"LSTAT\",\"LSTAT\",\"LSTAT\",\"LSTAT\",\"LSTAT\",\"LSTAT\",\"LSTAT\",\"LSTAT\",\"LSTAT\",\"LSTAT\",\"LSTAT\",\"LSTAT\",\"LSTAT\",\"LSTAT\",\"LSTAT\",\"LSTAT\",\"LSTAT\",\"LSTAT\",\"LSTAT\",\"LSTAT\",\"LSTAT\",\"LSTAT\",\"LSTAT\",\"LSTAT\",\"LSTAT\",\"LSTAT\",\"LSTAT\",\"LSTAT\",\"LSTAT\",\"LSTAT\",\"LSTAT\",\"LSTAT\",\"LSTAT\",\"LSTAT\",\"LSTAT\",\"LSTAT\",\"LSTAT\",\"LSTAT\",\"LSTAT\",\"LSTAT\",\"LSTAT\",\"LSTAT\",\"LSTAT\",\"LSTAT\",\"LSTAT\",\"LSTAT\",\"LSTAT\",\"LSTAT\",\"LSTAT\",\"LSTAT\",\"LSTAT\",\"LSTAT\",\"LSTAT\",\"LSTAT\",\"LSTAT\",\"LSTAT\",\"LSTAT\",\"LSTAT\",\"LSTAT\",\"LSTAT\",\"LSTAT\",\"LSTAT\",\"LSTAT\",\"LSTAT\",\"LSTAT\",\"LSTAT\",\"LSTAT\",\"LSTAT\",\"LSTAT\",\"LSTAT\",\"LSTAT\",\"LSTAT\",\"LSTAT\",\"LSTAT\",\"LSTAT\",\"LSTAT\",\"LSTAT\",\"LSTAT\",\"LSTAT\",\"LSTAT\"],\"x0\":\" \",\"xaxis\":\"x\",\"y\":[4.98,9.14,4.03,2.94,5.33,5.21,12.43,19.15,29.93,17.1,20.45,13.27,15.71,8.26,10.26,8.47,6.58,14.67,11.69,11.28,21.02,13.83,18.72,19.88,16.3,16.51,14.81,17.28,12.8,11.98,22.6,13.04,27.71,18.35,20.34,9.68,11.41,8.77,10.13,4.32,1.98,4.84,5.81,7.44,9.55,10.21,14.15,18.8,30.81,16.2,13.45,9.43,5.28,8.43,14.8,4.81,5.77,3.95,6.86,9.22,13.15,14.44,6.73,9.5,8.05,4.67,10.24,8.1,13.09,8.79,6.72,9.88,5.52,7.54,6.78,8.94,11.97,10.27,12.34,9.1,5.29,7.22,6.72,7.51,9.62,6.53,12.86,8.44,5.5,5.7,8.81,8.2,8.16,6.21,10.59,6.65,11.34,4.21,3.57,6.19,9.42,7.67,10.63,13.44,12.33,16.47,18.66,14.09,12.27,15.55,13.0,10.16,16.21,17.09,10.45,15.76,12.04,10.3,15.37,13.61,14.37,14.27,17.93,25.41,17.58,14.81,27.26,17.19,15.39,18.34,12.6,12.26,11.12,15.03,17.31,16.96,16.9,14.59,21.32,18.46,24.16,34.41,26.82,26.42,29.29,27.8,16.65,29.53,28.32,21.45,14.1,13.28,12.12,15.79,15.12,15.02,16.14,4.59,6.43,7.39,5.5,11.64,9.81,12.14,11.1,11.32,14.43,12.03,14.69,9.04,9.64,5.33,10.11,6.29,6.92,5.04,7.56,9.45,4.82,5.68,13.98,13.15,6.68,4.56,5.39,5.1,4.69,2.87,5.03,4.38,4.08,8.61,6.62,4.56,4.45,7.43,3.11,3.81,10.87,10.97,18.06,14.66,23.09,17.27,23.98,16.03,9.38,29.55,9.47,13.51,9.69,17.92,10.5,9.71,21.46,9.93,7.6,4.14,3.13,6.36,3.92,3.76,11.65,5.25,2.47,3.95,8.05,10.88,9.54,4.73,6.36,7.37,11.38,12.4,11.22,5.19,12.5,18.46,9.16,10.15,9.52,6.56,5.9,3.59,3.53,3.54,6.57,9.25,3.11,7.79,6.9,9.59,7.26,5.91,11.25,8.1,10.45,14.79,3.16,13.65,13.0,6.59,7.73,6.58,3.53,2.98,6.05,4.16,7.19,4.85,3.76,4.59,3.01,7.85,8.23,12.93,7.14,7.6,9.51,3.33,3.56,4.7,8.58,10.4,6.27,7.39,15.84,4.97,4.74,6.07,9.5,8.67,4.86,6.93,8.93,6.47,7.53,4.54,9.97,12.64,5.98,11.72,7.9,9.28,11.5,18.33,15.94,10.36,12.73,7.2,6.87,7.7,11.74,6.12,5.08,6.15,12.79,9.97,7.34,9.09,12.43,7.83,5.68,6.75,8.01,9.8,10.56,8.51,9.74,9.29,5.49,8.65,7.18,4.61,10.53,12.67,6.36,5.99,5.89,5.98,5.49,7.79,4.5,8.05,5.57,17.6,13.27,11.48,12.67,7.79,14.19,10.19,14.64,7.12,14.0,13.33,34.77,37.97,13.44,23.24,21.24,23.69,21.78,17.21,21.08,23.6,24.56,30.63,30.81,28.28,31.99,30.62,20.85,17.11,18.76,25.68,15.17,16.35,17.12,19.37,19.92,30.59,29.97,26.77,20.32,20.31,19.77,27.38,22.98,23.34,12.13,26.4,19.78,10.11,21.22,34.37,20.08,36.98,29.05,25.79,26.64,20.62,22.74,15.02,15.7,14.1,23.29,17.16,24.39,15.69,14.52,21.52,24.08,17.64,19.69,12.03,16.22,15.17,23.27,18.05,26.45,34.02,22.88,22.11,19.52,16.59,18.85,23.79,23.98,17.79,16.44,18.13,19.31,17.44,17.73,17.27,16.74,18.71,18.13,19.01,16.94,16.23,14.7,16.42,14.65,13.99,10.29,13.22,14.13,17.15,21.32,18.13,14.76,16.29,12.87,14.36,11.66,18.14,24.1,18.68,24.91,18.03,13.11,10.74,7.74,7.01,10.42,13.34,10.58,14.98,11.45,18.06,23.97,29.68,18.07,13.35,12.01,13.59,17.6,21.14,14.1,12.92,15.1,14.33,9.67,9.08,5.64,6.48,7.88],\"y0\":\" \",\"yaxis\":\"y\",\"type\":\"box\"}],                        {\"template\":{\"data\":{\"barpolar\":[{\"marker\":{\"line\":{\"color\":\"rgb(17,17,17)\",\"width\":0.5},\"pattern\":{\"fillmode\":\"overlay\",\"size\":10,\"solidity\":0.2}},\"type\":\"barpolar\"}],\"bar\":[{\"error_x\":{\"color\":\"#f2f5fa\"},\"error_y\":{\"color\":\"#f2f5fa\"},\"marker\":{\"line\":{\"color\":\"rgb(17,17,17)\",\"width\":0.5},\"pattern\":{\"fillmode\":\"overlay\",\"size\":10,\"solidity\":0.2}},\"type\":\"bar\"}],\"carpet\":[{\"aaxis\":{\"endlinecolor\":\"#A2B1C6\",\"gridcolor\":\"#506784\",\"linecolor\":\"#506784\",\"minorgridcolor\":\"#506784\",\"startlinecolor\":\"#A2B1C6\"},\"baxis\":{\"endlinecolor\":\"#A2B1C6\",\"gridcolor\":\"#506784\",\"linecolor\":\"#506784\",\"minorgridcolor\":\"#506784\",\"startlinecolor\":\"#A2B1C6\"},\"type\":\"carpet\"}],\"choropleth\":[{\"colorbar\":{\"outlinewidth\":0,\"ticks\":\"\"},\"type\":\"choropleth\"}],\"contourcarpet\":[{\"colorbar\":{\"outlinewidth\":0,\"ticks\":\"\"},\"type\":\"contourcarpet\"}],\"contour\":[{\"colorbar\":{\"outlinewidth\":0,\"ticks\":\"\"},\"colorscale\":[[0.0,\"#0d0887\"],[0.1111111111111111,\"#46039f\"],[0.2222222222222222,\"#7201a8\"],[0.3333333333333333,\"#9c179e\"],[0.4444444444444444,\"#bd3786\"],[0.5555555555555556,\"#d8576b\"],[0.6666666666666666,\"#ed7953\"],[0.7777777777777778,\"#fb9f3a\"],[0.8888888888888888,\"#fdca26\"],[1.0,\"#f0f921\"]],\"type\":\"contour\"}],\"heatmapgl\":[{\"colorbar\":{\"outlinewidth\":0,\"ticks\":\"\"},\"colorscale\":[[0.0,\"#0d0887\"],[0.1111111111111111,\"#46039f\"],[0.2222222222222222,\"#7201a8\"],[0.3333333333333333,\"#9c179e\"],[0.4444444444444444,\"#bd3786\"],[0.5555555555555556,\"#d8576b\"],[0.6666666666666666,\"#ed7953\"],[0.7777777777777778,\"#fb9f3a\"],[0.8888888888888888,\"#fdca26\"],[1.0,\"#f0f921\"]],\"type\":\"heatmapgl\"}],\"heatmap\":[{\"colorbar\":{\"outlinewidth\":0,\"ticks\":\"\"},\"colorscale\":[[0.0,\"#0d0887\"],[0.1111111111111111,\"#46039f\"],[0.2222222222222222,\"#7201a8\"],[0.3333333333333333,\"#9c179e\"],[0.4444444444444444,\"#bd3786\"],[0.5555555555555556,\"#d8576b\"],[0.6666666666666666,\"#ed7953\"],[0.7777777777777778,\"#fb9f3a\"],[0.8888888888888888,\"#fdca26\"],[1.0,\"#f0f921\"]],\"type\":\"heatmap\"}],\"histogram2dcontour\":[{\"colorbar\":{\"outlinewidth\":0,\"ticks\":\"\"},\"colorscale\":[[0.0,\"#0d0887\"],[0.1111111111111111,\"#46039f\"],[0.2222222222222222,\"#7201a8\"],[0.3333333333333333,\"#9c179e\"],[0.4444444444444444,\"#bd3786\"],[0.5555555555555556,\"#d8576b\"],[0.6666666666666666,\"#ed7953\"],[0.7777777777777778,\"#fb9f3a\"],[0.8888888888888888,\"#fdca26\"],[1.0,\"#f0f921\"]],\"type\":\"histogram2dcontour\"}],\"histogram2d\":[{\"colorbar\":{\"outlinewidth\":0,\"ticks\":\"\"},\"colorscale\":[[0.0,\"#0d0887\"],[0.1111111111111111,\"#46039f\"],[0.2222222222222222,\"#7201a8\"],[0.3333333333333333,\"#9c179e\"],[0.4444444444444444,\"#bd3786\"],[0.5555555555555556,\"#d8576b\"],[0.6666666666666666,\"#ed7953\"],[0.7777777777777778,\"#fb9f3a\"],[0.8888888888888888,\"#fdca26\"],[1.0,\"#f0f921\"]],\"type\":\"histogram2d\"}],\"histogram\":[{\"marker\":{\"pattern\":{\"fillmode\":\"overlay\",\"size\":10,\"solidity\":0.2}},\"type\":\"histogram\"}],\"mesh3d\":[{\"colorbar\":{\"outlinewidth\":0,\"ticks\":\"\"},\"type\":\"mesh3d\"}],\"parcoords\":[{\"line\":{\"colorbar\":{\"outlinewidth\":0,\"ticks\":\"\"}},\"type\":\"parcoords\"}],\"pie\":[{\"automargin\":true,\"type\":\"pie\"}],\"scatter3d\":[{\"line\":{\"colorbar\":{\"outlinewidth\":0,\"ticks\":\"\"}},\"marker\":{\"colorbar\":{\"outlinewidth\":0,\"ticks\":\"\"}},\"type\":\"scatter3d\"}],\"scattercarpet\":[{\"marker\":{\"colorbar\":{\"outlinewidth\":0,\"ticks\":\"\"}},\"type\":\"scattercarpet\"}],\"scattergeo\":[{\"marker\":{\"colorbar\":{\"outlinewidth\":0,\"ticks\":\"\"}},\"type\":\"scattergeo\"}],\"scattergl\":[{\"marker\":{\"line\":{\"color\":\"#283442\"}},\"type\":\"scattergl\"}],\"scattermapbox\":[{\"marker\":{\"colorbar\":{\"outlinewidth\":0,\"ticks\":\"\"}},\"type\":\"scattermapbox\"}],\"scatterpolargl\":[{\"marker\":{\"colorbar\":{\"outlinewidth\":0,\"ticks\":\"\"}},\"type\":\"scatterpolargl\"}],\"scatterpolar\":[{\"marker\":{\"colorbar\":{\"outlinewidth\":0,\"ticks\":\"\"}},\"type\":\"scatterpolar\"}],\"scatter\":[{\"marker\":{\"line\":{\"color\":\"#283442\"}},\"type\":\"scatter\"}],\"scatterternary\":[{\"marker\":{\"colorbar\":{\"outlinewidth\":0,\"ticks\":\"\"}},\"type\":\"scatterternary\"}],\"surface\":[{\"colorbar\":{\"outlinewidth\":0,\"ticks\":\"\"},\"colorscale\":[[0.0,\"#0d0887\"],[0.1111111111111111,\"#46039f\"],[0.2222222222222222,\"#7201a8\"],[0.3333333333333333,\"#9c179e\"],[0.4444444444444444,\"#bd3786\"],[0.5555555555555556,\"#d8576b\"],[0.6666666666666666,\"#ed7953\"],[0.7777777777777778,\"#fb9f3a\"],[0.8888888888888888,\"#fdca26\"],[1.0,\"#f0f921\"]],\"type\":\"surface\"}],\"table\":[{\"cells\":{\"fill\":{\"color\":\"#506784\"},\"line\":{\"color\":\"rgb(17,17,17)\"}},\"header\":{\"fill\":{\"color\":\"#2a3f5f\"},\"line\":{\"color\":\"rgb(17,17,17)\"}},\"type\":\"table\"}]},\"layout\":{\"annotationdefaults\":{\"arrowcolor\":\"#f2f5fa\",\"arrowhead\":0,\"arrowwidth\":1},\"autotypenumbers\":\"strict\",\"coloraxis\":{\"colorbar\":{\"outlinewidth\":0,\"ticks\":\"\"}},\"colorscale\":{\"diverging\":[[0,\"#8e0152\"],[0.1,\"#c51b7d\"],[0.2,\"#de77ae\"],[0.3,\"#f1b6da\"],[0.4,\"#fde0ef\"],[0.5,\"#f7f7f7\"],[0.6,\"#e6f5d0\"],[0.7,\"#b8e186\"],[0.8,\"#7fbc41\"],[0.9,\"#4d9221\"],[1,\"#276419\"]],\"sequential\":[[0.0,\"#0d0887\"],[0.1111111111111111,\"#46039f\"],[0.2222222222222222,\"#7201a8\"],[0.3333333333333333,\"#9c179e\"],[0.4444444444444444,\"#bd3786\"],[0.5555555555555556,\"#d8576b\"],[0.6666666666666666,\"#ed7953\"],[0.7777777777777778,\"#fb9f3a\"],[0.8888888888888888,\"#fdca26\"],[1.0,\"#f0f921\"]],\"sequentialminus\":[[0.0,\"#0d0887\"],[0.1111111111111111,\"#46039f\"],[0.2222222222222222,\"#7201a8\"],[0.3333333333333333,\"#9c179e\"],[0.4444444444444444,\"#bd3786\"],[0.5555555555555556,\"#d8576b\"],[0.6666666666666666,\"#ed7953\"],[0.7777777777777778,\"#fb9f3a\"],[0.8888888888888888,\"#fdca26\"],[1.0,\"#f0f921\"]]},\"colorway\":[\"#636efa\",\"#EF553B\",\"#00cc96\",\"#ab63fa\",\"#FFA15A\",\"#19d3f3\",\"#FF6692\",\"#B6E880\",\"#FF97FF\",\"#FECB52\"],\"font\":{\"color\":\"#f2f5fa\"},\"geo\":{\"bgcolor\":\"rgb(17,17,17)\",\"lakecolor\":\"rgb(17,17,17)\",\"landcolor\":\"rgb(17,17,17)\",\"showlakes\":true,\"showland\":true,\"subunitcolor\":\"#506784\"},\"hoverlabel\":{\"align\":\"left\"},\"hovermode\":\"closest\",\"mapbox\":{\"style\":\"dark\"},\"paper_bgcolor\":\"rgb(17,17,17)\",\"plot_bgcolor\":\"rgb(17,17,17)\",\"polar\":{\"angularaxis\":{\"gridcolor\":\"#506784\",\"linecolor\":\"#506784\",\"ticks\":\"\"},\"bgcolor\":\"rgb(17,17,17)\",\"radialaxis\":{\"gridcolor\":\"#506784\",\"linecolor\":\"#506784\",\"ticks\":\"\"}},\"scene\":{\"xaxis\":{\"backgroundcolor\":\"rgb(17,17,17)\",\"gridcolor\":\"#506784\",\"gridwidth\":2,\"linecolor\":\"#506784\",\"showbackground\":true,\"ticks\":\"\",\"zerolinecolor\":\"#C8D4E3\"},\"yaxis\":{\"backgroundcolor\":\"rgb(17,17,17)\",\"gridcolor\":\"#506784\",\"gridwidth\":2,\"linecolor\":\"#506784\",\"showbackground\":true,\"ticks\":\"\",\"zerolinecolor\":\"#C8D4E3\"},\"zaxis\":{\"backgroundcolor\":\"rgb(17,17,17)\",\"gridcolor\":\"#506784\",\"gridwidth\":2,\"linecolor\":\"#506784\",\"showbackground\":true,\"ticks\":\"\",\"zerolinecolor\":\"#C8D4E3\"}},\"shapedefaults\":{\"line\":{\"color\":\"#f2f5fa\"}},\"sliderdefaults\":{\"bgcolor\":\"#C8D4E3\",\"bordercolor\":\"rgb(17,17,17)\",\"borderwidth\":1,\"tickwidth\":0},\"ternary\":{\"aaxis\":{\"gridcolor\":\"#506784\",\"linecolor\":\"#506784\",\"ticks\":\"\"},\"baxis\":{\"gridcolor\":\"#506784\",\"linecolor\":\"#506784\",\"ticks\":\"\"},\"bgcolor\":\"rgb(17,17,17)\",\"caxis\":{\"gridcolor\":\"#506784\",\"linecolor\":\"#506784\",\"ticks\":\"\"}},\"title\":{\"x\":0.05},\"updatemenudefaults\":{\"bgcolor\":\"#506784\",\"borderwidth\":0},\"xaxis\":{\"automargin\":true,\"gridcolor\":\"#283442\",\"linecolor\":\"#506784\",\"ticks\":\"\",\"title\":{\"standoff\":15},\"zerolinecolor\":\"#283442\",\"zerolinewidth\":2},\"yaxis\":{\"automargin\":true,\"gridcolor\":\"#283442\",\"linecolor\":\"#506784\",\"ticks\":\"\",\"title\":{\"standoff\":15},\"zerolinecolor\":\"#283442\",\"zerolinewidth\":2}}},\"xaxis\":{\"anchor\":\"y\",\"domain\":[0.0,1.0],\"title\":{\"text\":\"variable\"},\"showgrid\":false},\"yaxis\":{\"anchor\":\"x\",\"domain\":[0.0,1.0],\"title\":{\"text\":\"value\"},\"showgrid\":false},\"legend\":{\"tracegroupgap\":0},\"margin\":{\"t\":60},\"boxmode\":\"group\",\"title\":{\"text\":\"Boxplot da coluna LSTAT\"}},                        {\"responsive\": true}                    ).then(function(){\n",
              "                            \n",
              "var gd = document.getElementById('34f693db-cd62-47a4-a499-e0f92f63f1d2');\n",
              "var x = new MutationObserver(function (mutations, observer) {{\n",
              "        var display = window.getComputedStyle(gd).display;\n",
              "        if (!display || display === 'none') {{\n",
              "            console.log([gd, 'removed!']);\n",
              "            Plotly.purge(gd);\n",
              "            observer.disconnect();\n",
              "        }}\n",
              "}});\n",
              "\n",
              "// Listen for the removal of the full notebook cells\n",
              "var notebookContainer = gd.closest('#notebook-container');\n",
              "if (notebookContainer) {{\n",
              "    x.observe(notebookContainer, {childList: true});\n",
              "}}\n",
              "\n",
              "// Listen for the clearing of the current output cell\n",
              "var outputEl = gd.closest('.output');\n",
              "if (outputEl) {{\n",
              "    x.observe(outputEl, {childList: true});\n",
              "}}\n",
              "\n",
              "                        })                };                            </script>        </div>\n",
              "</body>\n",
              "</html>"
            ]
          },
          "metadata": {}
        },
        {
          "output_type": "stream",
          "name": "stdout",
          "text": [
            "\n",
            " Nome da coluna:\n",
            " PTRATIO\n",
            "\n",
            " Tipo da coluna:\n",
            " float64\n",
            "\n",
            " Tipo da coluna:\n",
            "                RM     LSTAT   PTRATIO      MEDV\n",
            "RM       1.000000 -0.612033 -0.304559  0.697209\n",
            "LSTAT   -0.612033  1.000000  0.360445 -0.760670\n",
            "PTRATIO -0.304559  0.360445  1.000000 -0.519034\n",
            "MEDV     0.697209 -0.760670 -0.519034  1.000000\n",
            "\n",
            " Valor media da coluna:\n",
            " 18.52\n",
            "\n",
            " Quantidade de linhas da coluna:\n",
            " (489,)\n",
            "\n",
            " Valores unicos da coluna:\n",
            " 0\n",
            "\n",
            " Valores nulos da coluna:\n",
            " count    489.000000\n",
            "mean      18.516564\n",
            "std        2.111268\n",
            "min       12.600000\n",
            "25%       17.400000\n",
            "50%       19.100000\n",
            "75%       20.200000\n",
            "max       22.000000\n",
            "Name: PTRATIO, dtype: float64\n"
          ]
        },
        {
          "output_type": "display_data",
          "data": {
            "text/html": [
              "<html>\n",
              "<head><meta charset=\"utf-8\" /></head>\n",
              "<body>\n",
              "    <div>            <script src=\"https://cdnjs.cloudflare.com/ajax/libs/mathjax/2.7.5/MathJax.js?config=TeX-AMS-MML_SVG\"></script><script type=\"text/javascript\">if (window.MathJax && window.MathJax.Hub && window.MathJax.Hub.Config) {window.MathJax.Hub.Config({SVG: {font: \"STIX-Web\"}});}</script>                <script type=\"text/javascript\">window.PlotlyConfig = {MathJaxConfig: 'local'};</script>\n",
              "        <script charset=\"utf-8\" src=\"https://cdn.plot.ly/plotly-2.24.1.min.js\"></script>                <div id=\"9ee50ac1-8c80-4889-8612-c77bad902fef\" class=\"plotly-graph-div\" style=\"height:525px; width:100%;\"></div>            <script type=\"text/javascript\">                                    window.PLOTLYENV=window.PLOTLYENV || {};                                    if (document.getElementById(\"9ee50ac1-8c80-4889-8612-c77bad902fef\")) {                    Plotly.newPlot(                        \"9ee50ac1-8c80-4889-8612-c77bad902fef\",                        [{\"alignmentgroup\":\"True\",\"hovertemplate\":\"variable=%{x}\\u003cbr\\u003evalue=%{y}\\u003cextra\\u003e\\u003c\\u002fextra\\u003e\",\"legendgroup\":\"\",\"marker\":{\"color\":\"#636efa\"},\"name\":\"\",\"notched\":false,\"offsetgroup\":\"\",\"orientation\":\"v\",\"showlegend\":false,\"x\":[\"PTRATIO\",\"PTRATIO\",\"PTRATIO\",\"PTRATIO\",\"PTRATIO\",\"PTRATIO\",\"PTRATIO\",\"PTRATIO\",\"PTRATIO\",\"PTRATIO\",\"PTRATIO\",\"PTRATIO\",\"PTRATIO\",\"PTRATIO\",\"PTRATIO\",\"PTRATIO\",\"PTRATIO\",\"PTRATIO\",\"PTRATIO\",\"PTRATIO\",\"PTRATIO\",\"PTRATIO\",\"PTRATIO\",\"PTRATIO\",\"PTRATIO\",\"PTRATIO\",\"PTRATIO\",\"PTRATIO\",\"PTRATIO\",\"PTRATIO\",\"PTRATIO\",\"PTRATIO\",\"PTRATIO\",\"PTRATIO\",\"PTRATIO\",\"PTRATIO\",\"PTRATIO\",\"PTRATIO\",\"PTRATIO\",\"PTRATIO\",\"PTRATIO\",\"PTRATIO\",\"PTRATIO\",\"PTRATIO\",\"PTRATIO\",\"PTRATIO\",\"PTRATIO\",\"PTRATIO\",\"PTRATIO\",\"PTRATIO\",\"PTRATIO\",\"PTRATIO\",\"PTRATIO\",\"PTRATIO\",\"PTRATIO\",\"PTRATIO\",\"PTRATIO\",\"PTRATIO\",\"PTRATIO\",\"PTRATIO\",\"PTRATIO\",\"PTRATIO\",\"PTRATIO\",\"PTRATIO\",\"PTRATIO\",\"PTRATIO\",\"PTRATIO\",\"PTRATIO\",\"PTRATIO\",\"PTRATIO\",\"PTRATIO\",\"PTRATIO\",\"PTRATIO\",\"PTRATIO\",\"PTRATIO\",\"PTRATIO\",\"PTRATIO\",\"PTRATIO\",\"PTRATIO\",\"PTRATIO\",\"PTRATIO\",\"PTRATIO\",\"PTRATIO\",\"PTRATIO\",\"PTRATIO\",\"PTRATIO\",\"PTRATIO\",\"PTRATIO\",\"PTRATIO\",\"PTRATIO\",\"PTRATIO\",\"PTRATIO\",\"PTRATIO\",\"PTRATIO\",\"PTRATIO\",\"PTRATIO\",\"PTRATIO\",\"PTRATIO\",\"PTRATIO\",\"PTRATIO\",\"PTRATIO\",\"PTRATIO\",\"PTRATIO\",\"PTRATIO\",\"PTRATIO\",\"PTRATIO\",\"PTRATIO\",\"PTRATIO\",\"PTRATIO\",\"PTRATIO\",\"PTRATIO\",\"PTRATIO\",\"PTRATIO\",\"PTRATIO\",\"PTRATIO\",\"PTRATIO\",\"PTRATIO\",\"PTRATIO\",\"PTRATIO\",\"PTRATIO\",\"PTRATIO\",\"PTRATIO\",\"PTRATIO\",\"PTRATIO\",\"PTRATIO\",\"PTRATIO\",\"PTRATIO\",\"PTRATIO\",\"PTRATIO\",\"PTRATIO\",\"PTRATIO\",\"PTRATIO\",\"PTRATIO\",\"PTRATIO\",\"PTRATIO\",\"PTRATIO\",\"PTRATIO\",\"PTRATIO\",\"PTRATIO\",\"PTRATIO\",\"PTRATIO\",\"PTRATIO\",\"PTRATIO\",\"PTRATIO\",\"PTRATIO\",\"PTRATIO\",\"PTRATIO\",\"PTRATIO\",\"PTRATIO\",\"PTRATIO\",\"PTRATIO\",\"PTRATIO\",\"PTRATIO\",\"PTRATIO\",\"PTRATIO\",\"PTRATIO\",\"PTRATIO\",\"PTRATIO\",\"PTRATIO\",\"PTRATIO\",\"PTRATIO\",\"PTRATIO\",\"PTRATIO\",\"PTRATIO\",\"PTRATIO\",\"PTRATIO\",\"PTRATIO\",\"PTRATIO\",\"PTRATIO\",\"PTRATIO\",\"PTRATIO\",\"PTRATIO\",\"PTRATIO\",\"PTRATIO\",\"PTRATIO\",\"PTRATIO\",\"PTRATIO\",\"PTRATIO\",\"PTRATIO\",\"PTRATIO\",\"PTRATIO\",\"PTRATIO\",\"PTRATIO\",\"PTRATIO\",\"PTRATIO\",\"PTRATIO\",\"PTRATIO\",\"PTRATIO\",\"PTRATIO\",\"PTRATIO\",\"PTRATIO\",\"PTRATIO\",\"PTRATIO\",\"PTRATIO\",\"PTRATIO\",\"PTRATIO\",\"PTRATIO\",\"PTRATIO\",\"PTRATIO\",\"PTRATIO\",\"PTRATIO\",\"PTRATIO\",\"PTRATIO\",\"PTRATIO\",\"PTRATIO\",\"PTRATIO\",\"PTRATIO\",\"PTRATIO\",\"PTRATIO\",\"PTRATIO\",\"PTRATIO\",\"PTRATIO\",\"PTRATIO\",\"PTRATIO\",\"PTRATIO\",\"PTRATIO\",\"PTRATIO\",\"PTRATIO\",\"PTRATIO\",\"PTRATIO\",\"PTRATIO\",\"PTRATIO\",\"PTRATIO\",\"PTRATIO\",\"PTRATIO\",\"PTRATIO\",\"PTRATIO\",\"PTRATIO\",\"PTRATIO\",\"PTRATIO\",\"PTRATIO\",\"PTRATIO\",\"PTRATIO\",\"PTRATIO\",\"PTRATIO\",\"PTRATIO\",\"PTRATIO\",\"PTRATIO\",\"PTRATIO\",\"PTRATIO\",\"PTRATIO\",\"PTRATIO\",\"PTRATIO\",\"PTRATIO\",\"PTRATIO\",\"PTRATIO\",\"PTRATIO\",\"PTRATIO\",\"PTRATIO\",\"PTRATIO\",\"PTRATIO\",\"PTRATIO\",\"PTRATIO\",\"PTRATIO\",\"PTRATIO\",\"PTRATIO\",\"PTRATIO\",\"PTRATIO\",\"PTRATIO\",\"PTRATIO\",\"PTRATIO\",\"PTRATIO\",\"PTRATIO\",\"PTRATIO\",\"PTRATIO\",\"PTRATIO\",\"PTRATIO\",\"PTRATIO\",\"PTRATIO\",\"PTRATIO\",\"PTRATIO\",\"PTRATIO\",\"PTRATIO\",\"PTRATIO\",\"PTRATIO\",\"PTRATIO\",\"PTRATIO\",\"PTRATIO\",\"PTRATIO\",\"PTRATIO\",\"PTRATIO\",\"PTRATIO\",\"PTRATIO\",\"PTRATIO\",\"PTRATIO\",\"PTRATIO\",\"PTRATIO\",\"PTRATIO\",\"PTRATIO\",\"PTRATIO\",\"PTRATIO\",\"PTRATIO\",\"PTRATIO\",\"PTRATIO\",\"PTRATIO\",\"PTRATIO\",\"PTRATIO\",\"PTRATIO\",\"PTRATIO\",\"PTRATIO\",\"PTRATIO\",\"PTRATIO\",\"PTRATIO\",\"PTRATIO\",\"PTRATIO\",\"PTRATIO\",\"PTRATIO\",\"PTRATIO\",\"PTRATIO\",\"PTRATIO\",\"PTRATIO\",\"PTRATIO\",\"PTRATIO\",\"PTRATIO\",\"PTRATIO\",\"PTRATIO\",\"PTRATIO\",\"PTRATIO\",\"PTRATIO\",\"PTRATIO\",\"PTRATIO\",\"PTRATIO\",\"PTRATIO\",\"PTRATIO\",\"PTRATIO\",\"PTRATIO\",\"PTRATIO\",\"PTRATIO\",\"PTRATIO\",\"PTRATIO\",\"PTRATIO\",\"PTRATIO\",\"PTRATIO\",\"PTRATIO\",\"PTRATIO\",\"PTRATIO\",\"PTRATIO\",\"PTRATIO\",\"PTRATIO\",\"PTRATIO\",\"PTRATIO\",\"PTRATIO\",\"PTRATIO\",\"PTRATIO\",\"PTRATIO\",\"PTRATIO\",\"PTRATIO\",\"PTRATIO\",\"PTRATIO\",\"PTRATIO\",\"PTRATIO\",\"PTRATIO\",\"PTRATIO\",\"PTRATIO\",\"PTRATIO\",\"PTRATIO\",\"PTRATIO\",\"PTRATIO\",\"PTRATIO\",\"PTRATIO\",\"PTRATIO\",\"PTRATIO\",\"PTRATIO\",\"PTRATIO\",\"PTRATIO\",\"PTRATIO\",\"PTRATIO\",\"PTRATIO\",\"PTRATIO\",\"PTRATIO\",\"PTRATIO\",\"PTRATIO\",\"PTRATIO\",\"PTRATIO\",\"PTRATIO\",\"PTRATIO\",\"PTRATIO\",\"PTRATIO\",\"PTRATIO\",\"PTRATIO\",\"PTRATIO\",\"PTRATIO\",\"PTRATIO\",\"PTRATIO\",\"PTRATIO\",\"PTRATIO\",\"PTRATIO\",\"PTRATIO\",\"PTRATIO\",\"PTRATIO\",\"PTRATIO\",\"PTRATIO\",\"PTRATIO\",\"PTRATIO\",\"PTRATIO\",\"PTRATIO\",\"PTRATIO\",\"PTRATIO\",\"PTRATIO\",\"PTRATIO\",\"PTRATIO\",\"PTRATIO\",\"PTRATIO\",\"PTRATIO\",\"PTRATIO\",\"PTRATIO\",\"PTRATIO\",\"PTRATIO\",\"PTRATIO\",\"PTRATIO\",\"PTRATIO\",\"PTRATIO\",\"PTRATIO\",\"PTRATIO\",\"PTRATIO\",\"PTRATIO\",\"PTRATIO\",\"PTRATIO\",\"PTRATIO\",\"PTRATIO\",\"PTRATIO\",\"PTRATIO\",\"PTRATIO\",\"PTRATIO\",\"PTRATIO\",\"PTRATIO\",\"PTRATIO\",\"PTRATIO\",\"PTRATIO\",\"PTRATIO\",\"PTRATIO\",\"PTRATIO\",\"PTRATIO\",\"PTRATIO\",\"PTRATIO\",\"PTRATIO\",\"PTRATIO\",\"PTRATIO\",\"PTRATIO\",\"PTRATIO\",\"PTRATIO\",\"PTRATIO\",\"PTRATIO\",\"PTRATIO\",\"PTRATIO\",\"PTRATIO\",\"PTRATIO\",\"PTRATIO\",\"PTRATIO\",\"PTRATIO\",\"PTRATIO\",\"PTRATIO\",\"PTRATIO\",\"PTRATIO\",\"PTRATIO\",\"PTRATIO\",\"PTRATIO\",\"PTRATIO\",\"PTRATIO\",\"PTRATIO\",\"PTRATIO\",\"PTRATIO\",\"PTRATIO\",\"PTRATIO\",\"PTRATIO\",\"PTRATIO\",\"PTRATIO\",\"PTRATIO\",\"PTRATIO\",\"PTRATIO\",\"PTRATIO\",\"PTRATIO\",\"PTRATIO\",\"PTRATIO\",\"PTRATIO\",\"PTRATIO\",\"PTRATIO\",\"PTRATIO\",\"PTRATIO\",\"PTRATIO\",\"PTRATIO\",\"PTRATIO\",\"PTRATIO\",\"PTRATIO\",\"PTRATIO\",\"PTRATIO\",\"PTRATIO\",\"PTRATIO\",\"PTRATIO\"],\"x0\":\" \",\"xaxis\":\"x\",\"y\":[15.3,17.8,17.8,18.7,18.7,18.7,15.2,15.2,15.2,15.2,15.2,15.2,15.2,21.0,21.0,21.0,21.0,21.0,21.0,21.0,21.0,21.0,21.0,21.0,21.0,21.0,21.0,21.0,21.0,21.0,21.0,21.0,21.0,21.0,21.0,19.2,19.2,19.2,19.2,18.3,18.3,17.9,17.9,17.9,17.9,17.9,17.9,17.9,17.9,17.9,16.8,16.8,16.8,16.8,21.1,17.9,17.3,15.1,19.7,19.7,19.7,19.7,19.7,19.7,18.6,16.1,16.1,18.9,18.9,18.9,19.2,19.2,19.2,19.2,18.7,18.7,18.7,18.7,18.7,18.7,19.0,19.0,19.0,19.0,18.5,18.5,18.5,18.5,17.8,17.8,17.8,17.8,18.2,18.2,18.2,18.0,18.0,18.0,18.0,18.0,20.9,20.9,20.9,20.9,20.9,20.9,20.9,20.9,20.9,20.9,20.9,17.8,17.8,17.8,17.8,17.8,17.8,17.8,17.8,17.8,19.1,19.1,19.1,19.1,19.1,19.1,19.1,21.2,21.2,21.2,21.2,21.2,21.2,21.2,21.2,21.2,21.2,21.2,21.2,21.2,21.2,21.2,14.7,14.7,14.7,14.7,14.7,14.7,14.7,14.7,14.7,14.7,14.7,14.7,14.7,14.7,14.7,14.7,14.7,14.7,14.7,14.7,14.7,14.7,14.7,14.7,14.7,14.7,16.6,16.6,16.6,16.6,16.6,16.6,16.6,17.8,17.8,17.8,17.8,17.8,17.8,17.8,15.2,15.2,15.2,15.2,15.2,15.2,15.6,15.6,12.6,12.6,12.6,17.0,17.0,14.7,14.7,14.7,18.6,18.6,18.6,18.6,18.6,18.6,18.6,18.6,18.6,18.6,18.6,16.4,16.4,16.4,16.4,17.4,17.4,17.4,17.4,17.4,17.4,17.4,17.4,17.4,17.4,17.4,17.4,17.4,17.4,17.4,17.4,17.4,16.6,16.6,16.6,16.6,16.6,16.6,19.1,19.1,19.1,19.1,19.1,19.1,19.1,19.1,19.1,19.1,16.4,16.4,15.9,13.0,13.0,13.0,13.0,13.0,13.0,13.0,13.0,13.0,13.0,18.6,18.6,18.6,18.6,18.6,17.6,17.6,17.6,17.6,17.6,14.9,14.9,14.9,14.9,15.3,15.3,18.2,16.6,16.6,16.6,19.2,19.2,19.2,16.0,16.0,16.0,16.0,16.0,14.8,14.8,14.8,16.1,16.1,16.1,18.4,18.4,18.4,18.4,18.4,18.4,18.4,18.4,18.4,18.4,18.4,18.4,18.4,18.4,18.4,18.4,19.6,19.6,19.6,19.6,19.6,19.6,19.6,19.6,16.9,16.9,16.9,16.9,16.9,20.2,20.2,20.2,20.2,20.2,20.2,20.2,20.2,15.5,15.9,17.6,17.6,18.8,18.8,17.9,17.0,19.7,19.7,18.3,18.3,17.0,22.0,22.0,20.2,20.2,20.2,20.2,20.2,20.2,20.2,20.2,20.2,20.2,20.2,20.2,20.2,20.2,20.2,20.2,20.2,20.2,20.2,20.2,20.2,20.2,20.2,20.2,20.2,20.2,20.2,20.2,20.2,20.2,20.2,20.2,20.2,20.2,20.2,20.2,20.2,20.2,20.2,20.2,20.2,20.2,20.2,20.2,20.2,20.2,20.2,20.2,20.2,20.2,20.2,20.2,20.2,20.2,20.2,20.2,20.2,20.2,20.2,20.2,20.2,20.2,20.2,20.2,20.2,20.2,20.2,20.2,20.2,20.2,20.2,20.2,20.2,20.2,20.2,20.2,20.2,20.2,20.2,20.2,20.2,20.2,20.2,20.2,20.2,20.2,20.2,20.2,20.2,20.2,20.2,20.2,20.2,20.2,20.2,20.2,20.2,20.2,20.2,20.2,20.2,20.2,20.2,20.2,20.2,20.2,20.2,20.2,20.2,20.2,20.2,20.2,20.2,20.2,20.2,20.2,20.2,20.2,20.2,20.2,20.2,20.2,20.2,20.2,20.2,20.2,20.1,20.1,20.1,20.1,20.1,19.2,19.2,19.2,19.2,19.2,19.2,19.2,19.2,21.0,21.0,21.0,21.0,21.0],\"y0\":\" \",\"yaxis\":\"y\",\"type\":\"box\"}],                        {\"template\":{\"data\":{\"barpolar\":[{\"marker\":{\"line\":{\"color\":\"rgb(17,17,17)\",\"width\":0.5},\"pattern\":{\"fillmode\":\"overlay\",\"size\":10,\"solidity\":0.2}},\"type\":\"barpolar\"}],\"bar\":[{\"error_x\":{\"color\":\"#f2f5fa\"},\"error_y\":{\"color\":\"#f2f5fa\"},\"marker\":{\"line\":{\"color\":\"rgb(17,17,17)\",\"width\":0.5},\"pattern\":{\"fillmode\":\"overlay\",\"size\":10,\"solidity\":0.2}},\"type\":\"bar\"}],\"carpet\":[{\"aaxis\":{\"endlinecolor\":\"#A2B1C6\",\"gridcolor\":\"#506784\",\"linecolor\":\"#506784\",\"minorgridcolor\":\"#506784\",\"startlinecolor\":\"#A2B1C6\"},\"baxis\":{\"endlinecolor\":\"#A2B1C6\",\"gridcolor\":\"#506784\",\"linecolor\":\"#506784\",\"minorgridcolor\":\"#506784\",\"startlinecolor\":\"#A2B1C6\"},\"type\":\"carpet\"}],\"choropleth\":[{\"colorbar\":{\"outlinewidth\":0,\"ticks\":\"\"},\"type\":\"choropleth\"}],\"contourcarpet\":[{\"colorbar\":{\"outlinewidth\":0,\"ticks\":\"\"},\"type\":\"contourcarpet\"}],\"contour\":[{\"colorbar\":{\"outlinewidth\":0,\"ticks\":\"\"},\"colorscale\":[[0.0,\"#0d0887\"],[0.1111111111111111,\"#46039f\"],[0.2222222222222222,\"#7201a8\"],[0.3333333333333333,\"#9c179e\"],[0.4444444444444444,\"#bd3786\"],[0.5555555555555556,\"#d8576b\"],[0.6666666666666666,\"#ed7953\"],[0.7777777777777778,\"#fb9f3a\"],[0.8888888888888888,\"#fdca26\"],[1.0,\"#f0f921\"]],\"type\":\"contour\"}],\"heatmapgl\":[{\"colorbar\":{\"outlinewidth\":0,\"ticks\":\"\"},\"colorscale\":[[0.0,\"#0d0887\"],[0.1111111111111111,\"#46039f\"],[0.2222222222222222,\"#7201a8\"],[0.3333333333333333,\"#9c179e\"],[0.4444444444444444,\"#bd3786\"],[0.5555555555555556,\"#d8576b\"],[0.6666666666666666,\"#ed7953\"],[0.7777777777777778,\"#fb9f3a\"],[0.8888888888888888,\"#fdca26\"],[1.0,\"#f0f921\"]],\"type\":\"heatmapgl\"}],\"heatmap\":[{\"colorbar\":{\"outlinewidth\":0,\"ticks\":\"\"},\"colorscale\":[[0.0,\"#0d0887\"],[0.1111111111111111,\"#46039f\"],[0.2222222222222222,\"#7201a8\"],[0.3333333333333333,\"#9c179e\"],[0.4444444444444444,\"#bd3786\"],[0.5555555555555556,\"#d8576b\"],[0.6666666666666666,\"#ed7953\"],[0.7777777777777778,\"#fb9f3a\"],[0.8888888888888888,\"#fdca26\"],[1.0,\"#f0f921\"]],\"type\":\"heatmap\"}],\"histogram2dcontour\":[{\"colorbar\":{\"outlinewidth\":0,\"ticks\":\"\"},\"colorscale\":[[0.0,\"#0d0887\"],[0.1111111111111111,\"#46039f\"],[0.2222222222222222,\"#7201a8\"],[0.3333333333333333,\"#9c179e\"],[0.4444444444444444,\"#bd3786\"],[0.5555555555555556,\"#d8576b\"],[0.6666666666666666,\"#ed7953\"],[0.7777777777777778,\"#fb9f3a\"],[0.8888888888888888,\"#fdca26\"],[1.0,\"#f0f921\"]],\"type\":\"histogram2dcontour\"}],\"histogram2d\":[{\"colorbar\":{\"outlinewidth\":0,\"ticks\":\"\"},\"colorscale\":[[0.0,\"#0d0887\"],[0.1111111111111111,\"#46039f\"],[0.2222222222222222,\"#7201a8\"],[0.3333333333333333,\"#9c179e\"],[0.4444444444444444,\"#bd3786\"],[0.5555555555555556,\"#d8576b\"],[0.6666666666666666,\"#ed7953\"],[0.7777777777777778,\"#fb9f3a\"],[0.8888888888888888,\"#fdca26\"],[1.0,\"#f0f921\"]],\"type\":\"histogram2d\"}],\"histogram\":[{\"marker\":{\"pattern\":{\"fillmode\":\"overlay\",\"size\":10,\"solidity\":0.2}},\"type\":\"histogram\"}],\"mesh3d\":[{\"colorbar\":{\"outlinewidth\":0,\"ticks\":\"\"},\"type\":\"mesh3d\"}],\"parcoords\":[{\"line\":{\"colorbar\":{\"outlinewidth\":0,\"ticks\":\"\"}},\"type\":\"parcoords\"}],\"pie\":[{\"automargin\":true,\"type\":\"pie\"}],\"scatter3d\":[{\"line\":{\"colorbar\":{\"outlinewidth\":0,\"ticks\":\"\"}},\"marker\":{\"colorbar\":{\"outlinewidth\":0,\"ticks\":\"\"}},\"type\":\"scatter3d\"}],\"scattercarpet\":[{\"marker\":{\"colorbar\":{\"outlinewidth\":0,\"ticks\":\"\"}},\"type\":\"scattercarpet\"}],\"scattergeo\":[{\"marker\":{\"colorbar\":{\"outlinewidth\":0,\"ticks\":\"\"}},\"type\":\"scattergeo\"}],\"scattergl\":[{\"marker\":{\"line\":{\"color\":\"#283442\"}},\"type\":\"scattergl\"}],\"scattermapbox\":[{\"marker\":{\"colorbar\":{\"outlinewidth\":0,\"ticks\":\"\"}},\"type\":\"scattermapbox\"}],\"scatterpolargl\":[{\"marker\":{\"colorbar\":{\"outlinewidth\":0,\"ticks\":\"\"}},\"type\":\"scatterpolargl\"}],\"scatterpolar\":[{\"marker\":{\"colorbar\":{\"outlinewidth\":0,\"ticks\":\"\"}},\"type\":\"scatterpolar\"}],\"scatter\":[{\"marker\":{\"line\":{\"color\":\"#283442\"}},\"type\":\"scatter\"}],\"scatterternary\":[{\"marker\":{\"colorbar\":{\"outlinewidth\":0,\"ticks\":\"\"}},\"type\":\"scatterternary\"}],\"surface\":[{\"colorbar\":{\"outlinewidth\":0,\"ticks\":\"\"},\"colorscale\":[[0.0,\"#0d0887\"],[0.1111111111111111,\"#46039f\"],[0.2222222222222222,\"#7201a8\"],[0.3333333333333333,\"#9c179e\"],[0.4444444444444444,\"#bd3786\"],[0.5555555555555556,\"#d8576b\"],[0.6666666666666666,\"#ed7953\"],[0.7777777777777778,\"#fb9f3a\"],[0.8888888888888888,\"#fdca26\"],[1.0,\"#f0f921\"]],\"type\":\"surface\"}],\"table\":[{\"cells\":{\"fill\":{\"color\":\"#506784\"},\"line\":{\"color\":\"rgb(17,17,17)\"}},\"header\":{\"fill\":{\"color\":\"#2a3f5f\"},\"line\":{\"color\":\"rgb(17,17,17)\"}},\"type\":\"table\"}]},\"layout\":{\"annotationdefaults\":{\"arrowcolor\":\"#f2f5fa\",\"arrowhead\":0,\"arrowwidth\":1},\"autotypenumbers\":\"strict\",\"coloraxis\":{\"colorbar\":{\"outlinewidth\":0,\"ticks\":\"\"}},\"colorscale\":{\"diverging\":[[0,\"#8e0152\"],[0.1,\"#c51b7d\"],[0.2,\"#de77ae\"],[0.3,\"#f1b6da\"],[0.4,\"#fde0ef\"],[0.5,\"#f7f7f7\"],[0.6,\"#e6f5d0\"],[0.7,\"#b8e186\"],[0.8,\"#7fbc41\"],[0.9,\"#4d9221\"],[1,\"#276419\"]],\"sequential\":[[0.0,\"#0d0887\"],[0.1111111111111111,\"#46039f\"],[0.2222222222222222,\"#7201a8\"],[0.3333333333333333,\"#9c179e\"],[0.4444444444444444,\"#bd3786\"],[0.5555555555555556,\"#d8576b\"],[0.6666666666666666,\"#ed7953\"],[0.7777777777777778,\"#fb9f3a\"],[0.8888888888888888,\"#fdca26\"],[1.0,\"#f0f921\"]],\"sequentialminus\":[[0.0,\"#0d0887\"],[0.1111111111111111,\"#46039f\"],[0.2222222222222222,\"#7201a8\"],[0.3333333333333333,\"#9c179e\"],[0.4444444444444444,\"#bd3786\"],[0.5555555555555556,\"#d8576b\"],[0.6666666666666666,\"#ed7953\"],[0.7777777777777778,\"#fb9f3a\"],[0.8888888888888888,\"#fdca26\"],[1.0,\"#f0f921\"]]},\"colorway\":[\"#636efa\",\"#EF553B\",\"#00cc96\",\"#ab63fa\",\"#FFA15A\",\"#19d3f3\",\"#FF6692\",\"#B6E880\",\"#FF97FF\",\"#FECB52\"],\"font\":{\"color\":\"#f2f5fa\"},\"geo\":{\"bgcolor\":\"rgb(17,17,17)\",\"lakecolor\":\"rgb(17,17,17)\",\"landcolor\":\"rgb(17,17,17)\",\"showlakes\":true,\"showland\":true,\"subunitcolor\":\"#506784\"},\"hoverlabel\":{\"align\":\"left\"},\"hovermode\":\"closest\",\"mapbox\":{\"style\":\"dark\"},\"paper_bgcolor\":\"rgb(17,17,17)\",\"plot_bgcolor\":\"rgb(17,17,17)\",\"polar\":{\"angularaxis\":{\"gridcolor\":\"#506784\",\"linecolor\":\"#506784\",\"ticks\":\"\"},\"bgcolor\":\"rgb(17,17,17)\",\"radialaxis\":{\"gridcolor\":\"#506784\",\"linecolor\":\"#506784\",\"ticks\":\"\"}},\"scene\":{\"xaxis\":{\"backgroundcolor\":\"rgb(17,17,17)\",\"gridcolor\":\"#506784\",\"gridwidth\":2,\"linecolor\":\"#506784\",\"showbackground\":true,\"ticks\":\"\",\"zerolinecolor\":\"#C8D4E3\"},\"yaxis\":{\"backgroundcolor\":\"rgb(17,17,17)\",\"gridcolor\":\"#506784\",\"gridwidth\":2,\"linecolor\":\"#506784\",\"showbackground\":true,\"ticks\":\"\",\"zerolinecolor\":\"#C8D4E3\"},\"zaxis\":{\"backgroundcolor\":\"rgb(17,17,17)\",\"gridcolor\":\"#506784\",\"gridwidth\":2,\"linecolor\":\"#506784\",\"showbackground\":true,\"ticks\":\"\",\"zerolinecolor\":\"#C8D4E3\"}},\"shapedefaults\":{\"line\":{\"color\":\"#f2f5fa\"}},\"sliderdefaults\":{\"bgcolor\":\"#C8D4E3\",\"bordercolor\":\"rgb(17,17,17)\",\"borderwidth\":1,\"tickwidth\":0},\"ternary\":{\"aaxis\":{\"gridcolor\":\"#506784\",\"linecolor\":\"#506784\",\"ticks\":\"\"},\"baxis\":{\"gridcolor\":\"#506784\",\"linecolor\":\"#506784\",\"ticks\":\"\"},\"bgcolor\":\"rgb(17,17,17)\",\"caxis\":{\"gridcolor\":\"#506784\",\"linecolor\":\"#506784\",\"ticks\":\"\"}},\"title\":{\"x\":0.05},\"updatemenudefaults\":{\"bgcolor\":\"#506784\",\"borderwidth\":0},\"xaxis\":{\"automargin\":true,\"gridcolor\":\"#283442\",\"linecolor\":\"#506784\",\"ticks\":\"\",\"title\":{\"standoff\":15},\"zerolinecolor\":\"#283442\",\"zerolinewidth\":2},\"yaxis\":{\"automargin\":true,\"gridcolor\":\"#283442\",\"linecolor\":\"#506784\",\"ticks\":\"\",\"title\":{\"standoff\":15},\"zerolinecolor\":\"#283442\",\"zerolinewidth\":2}}},\"xaxis\":{\"anchor\":\"y\",\"domain\":[0.0,1.0],\"title\":{\"text\":\"variable\"},\"showgrid\":false},\"yaxis\":{\"anchor\":\"x\",\"domain\":[0.0,1.0],\"title\":{\"text\":\"value\"},\"showgrid\":false},\"legend\":{\"tracegroupgap\":0},\"margin\":{\"t\":60},\"boxmode\":\"group\",\"title\":{\"text\":\"Boxplot da coluna PTRATIO\"}},                        {\"responsive\": true}                    ).then(function(){\n",
              "                            \n",
              "var gd = document.getElementById('9ee50ac1-8c80-4889-8612-c77bad902fef');\n",
              "var x = new MutationObserver(function (mutations, observer) {{\n",
              "        var display = window.getComputedStyle(gd).display;\n",
              "        if (!display || display === 'none') {{\n",
              "            console.log([gd, 'removed!']);\n",
              "            Plotly.purge(gd);\n",
              "            observer.disconnect();\n",
              "        }}\n",
              "}});\n",
              "\n",
              "// Listen for the removal of the full notebook cells\n",
              "var notebookContainer = gd.closest('#notebook-container');\n",
              "if (notebookContainer) {{\n",
              "    x.observe(notebookContainer, {childList: true});\n",
              "}}\n",
              "\n",
              "// Listen for the clearing of the current output cell\n",
              "var outputEl = gd.closest('.output');\n",
              "if (outputEl) {{\n",
              "    x.observe(outputEl, {childList: true});\n",
              "}}\n",
              "\n",
              "                        })                };                            </script>        </div>\n",
              "</body>\n",
              "</html>"
            ]
          },
          "metadata": {}
        },
        {
          "output_type": "stream",
          "name": "stdout",
          "text": [
            "\n",
            " Nome da coluna:\n",
            " MEDV\n",
            "\n",
            " Tipo da coluna:\n",
            " float64\n",
            "\n",
            " Tipo da coluna:\n",
            "                RM     LSTAT   PTRATIO      MEDV\n",
            "RM       1.000000 -0.612033 -0.304559  0.697209\n",
            "LSTAT   -0.612033  1.000000  0.360445 -0.760670\n",
            "PTRATIO -0.304559  0.360445  1.000000 -0.519034\n",
            "MEDV     0.697209 -0.760670 -0.519034  1.000000\n",
            "\n",
            " Valor media da coluna:\n",
            " 454342.94\n",
            "\n",
            " Quantidade de linhas da coluna:\n",
            " (489,)\n",
            "\n",
            " Valores unicos da coluna:\n",
            " 0\n",
            "\n",
            " Valores nulos da coluna:\n",
            " count    4.890000e+02\n",
            "mean     4.543429e+05\n",
            "std      1.653403e+05\n",
            "min      1.050000e+05\n",
            "25%      3.507000e+05\n",
            "50%      4.389000e+05\n",
            "75%      5.187000e+05\n",
            "max      1.024800e+06\n",
            "Name: MEDV, dtype: float64\n"
          ]
        },
        {
          "output_type": "display_data",
          "data": {
            "text/html": [
              "<html>\n",
              "<head><meta charset=\"utf-8\" /></head>\n",
              "<body>\n",
              "    <div>            <script src=\"https://cdnjs.cloudflare.com/ajax/libs/mathjax/2.7.5/MathJax.js?config=TeX-AMS-MML_SVG\"></script><script type=\"text/javascript\">if (window.MathJax && window.MathJax.Hub && window.MathJax.Hub.Config) {window.MathJax.Hub.Config({SVG: {font: \"STIX-Web\"}});}</script>                <script type=\"text/javascript\">window.PlotlyConfig = {MathJaxConfig: 'local'};</script>\n",
              "        <script charset=\"utf-8\" src=\"https://cdn.plot.ly/plotly-2.24.1.min.js\"></script>                <div id=\"f1858eab-4e45-403e-92d2-3148631629b6\" class=\"plotly-graph-div\" style=\"height:525px; width:100%;\"></div>            <script type=\"text/javascript\">                                    window.PLOTLYENV=window.PLOTLYENV || {};                                    if (document.getElementById(\"f1858eab-4e45-403e-92d2-3148631629b6\")) {                    Plotly.newPlot(                        \"f1858eab-4e45-403e-92d2-3148631629b6\",                        [{\"alignmentgroup\":\"True\",\"hovertemplate\":\"variable=%{x}\\u003cbr\\u003evalue=%{y}\\u003cextra\\u003e\\u003c\\u002fextra\\u003e\",\"legendgroup\":\"\",\"marker\":{\"color\":\"#636efa\"},\"name\":\"\",\"notched\":false,\"offsetgroup\":\"\",\"orientation\":\"v\",\"showlegend\":false,\"x\":[\"MEDV\",\"MEDV\",\"MEDV\",\"MEDV\",\"MEDV\",\"MEDV\",\"MEDV\",\"MEDV\",\"MEDV\",\"MEDV\",\"MEDV\",\"MEDV\",\"MEDV\",\"MEDV\",\"MEDV\",\"MEDV\",\"MEDV\",\"MEDV\",\"MEDV\",\"MEDV\",\"MEDV\",\"MEDV\",\"MEDV\",\"MEDV\",\"MEDV\",\"MEDV\",\"MEDV\",\"MEDV\",\"MEDV\",\"MEDV\",\"MEDV\",\"MEDV\",\"MEDV\",\"MEDV\",\"MEDV\",\"MEDV\",\"MEDV\",\"MEDV\",\"MEDV\",\"MEDV\",\"MEDV\",\"MEDV\",\"MEDV\",\"MEDV\",\"MEDV\",\"MEDV\",\"MEDV\",\"MEDV\",\"MEDV\",\"MEDV\",\"MEDV\",\"MEDV\",\"MEDV\",\"MEDV\",\"MEDV\",\"MEDV\",\"MEDV\",\"MEDV\",\"MEDV\",\"MEDV\",\"MEDV\",\"MEDV\",\"MEDV\",\"MEDV\",\"MEDV\",\"MEDV\",\"MEDV\",\"MEDV\",\"MEDV\",\"MEDV\",\"MEDV\",\"MEDV\",\"MEDV\",\"MEDV\",\"MEDV\",\"MEDV\",\"MEDV\",\"MEDV\",\"MEDV\",\"MEDV\",\"MEDV\",\"MEDV\",\"MEDV\",\"MEDV\",\"MEDV\",\"MEDV\",\"MEDV\",\"MEDV\",\"MEDV\",\"MEDV\",\"MEDV\",\"MEDV\",\"MEDV\",\"MEDV\",\"MEDV\",\"MEDV\",\"MEDV\",\"MEDV\",\"MEDV\",\"MEDV\",\"MEDV\",\"MEDV\",\"MEDV\",\"MEDV\",\"MEDV\",\"MEDV\",\"MEDV\",\"MEDV\",\"MEDV\",\"MEDV\",\"MEDV\",\"MEDV\",\"MEDV\",\"MEDV\",\"MEDV\",\"MEDV\",\"MEDV\",\"MEDV\",\"MEDV\",\"MEDV\",\"MEDV\",\"MEDV\",\"MEDV\",\"MEDV\",\"MEDV\",\"MEDV\",\"MEDV\",\"MEDV\",\"MEDV\",\"MEDV\",\"MEDV\",\"MEDV\",\"MEDV\",\"MEDV\",\"MEDV\",\"MEDV\",\"MEDV\",\"MEDV\",\"MEDV\",\"MEDV\",\"MEDV\",\"MEDV\",\"MEDV\",\"MEDV\",\"MEDV\",\"MEDV\",\"MEDV\",\"MEDV\",\"MEDV\",\"MEDV\",\"MEDV\",\"MEDV\",\"MEDV\",\"MEDV\",\"MEDV\",\"MEDV\",\"MEDV\",\"MEDV\",\"MEDV\",\"MEDV\",\"MEDV\",\"MEDV\",\"MEDV\",\"MEDV\",\"MEDV\",\"MEDV\",\"MEDV\",\"MEDV\",\"MEDV\",\"MEDV\",\"MEDV\",\"MEDV\",\"MEDV\",\"MEDV\",\"MEDV\",\"MEDV\",\"MEDV\",\"MEDV\",\"MEDV\",\"MEDV\",\"MEDV\",\"MEDV\",\"MEDV\",\"MEDV\",\"MEDV\",\"MEDV\",\"MEDV\",\"MEDV\",\"MEDV\",\"MEDV\",\"MEDV\",\"MEDV\",\"MEDV\",\"MEDV\",\"MEDV\",\"MEDV\",\"MEDV\",\"MEDV\",\"MEDV\",\"MEDV\",\"MEDV\",\"MEDV\",\"MEDV\",\"MEDV\",\"MEDV\",\"MEDV\",\"MEDV\",\"MEDV\",\"MEDV\",\"MEDV\",\"MEDV\",\"MEDV\",\"MEDV\",\"MEDV\",\"MEDV\",\"MEDV\",\"MEDV\",\"MEDV\",\"MEDV\",\"MEDV\",\"MEDV\",\"MEDV\",\"MEDV\",\"MEDV\",\"MEDV\",\"MEDV\",\"MEDV\",\"MEDV\",\"MEDV\",\"MEDV\",\"MEDV\",\"MEDV\",\"MEDV\",\"MEDV\",\"MEDV\",\"MEDV\",\"MEDV\",\"MEDV\",\"MEDV\",\"MEDV\",\"MEDV\",\"MEDV\",\"MEDV\",\"MEDV\",\"MEDV\",\"MEDV\",\"MEDV\",\"MEDV\",\"MEDV\",\"MEDV\",\"MEDV\",\"MEDV\",\"MEDV\",\"MEDV\",\"MEDV\",\"MEDV\",\"MEDV\",\"MEDV\",\"MEDV\",\"MEDV\",\"MEDV\",\"MEDV\",\"MEDV\",\"MEDV\",\"MEDV\",\"MEDV\",\"MEDV\",\"MEDV\",\"MEDV\",\"MEDV\",\"MEDV\",\"MEDV\",\"MEDV\",\"MEDV\",\"MEDV\",\"MEDV\",\"MEDV\",\"MEDV\",\"MEDV\",\"MEDV\",\"MEDV\",\"MEDV\",\"MEDV\",\"MEDV\",\"MEDV\",\"MEDV\",\"MEDV\",\"MEDV\",\"MEDV\",\"MEDV\",\"MEDV\",\"MEDV\",\"MEDV\",\"MEDV\",\"MEDV\",\"MEDV\",\"MEDV\",\"MEDV\",\"MEDV\",\"MEDV\",\"MEDV\",\"MEDV\",\"MEDV\",\"MEDV\",\"MEDV\",\"MEDV\",\"MEDV\",\"MEDV\",\"MEDV\",\"MEDV\",\"MEDV\",\"MEDV\",\"MEDV\",\"MEDV\",\"MEDV\",\"MEDV\",\"MEDV\",\"MEDV\",\"MEDV\",\"MEDV\",\"MEDV\",\"MEDV\",\"MEDV\",\"MEDV\",\"MEDV\",\"MEDV\",\"MEDV\",\"MEDV\",\"MEDV\",\"MEDV\",\"MEDV\",\"MEDV\",\"MEDV\",\"MEDV\",\"MEDV\",\"MEDV\",\"MEDV\",\"MEDV\",\"MEDV\",\"MEDV\",\"MEDV\",\"MEDV\",\"MEDV\",\"MEDV\",\"MEDV\",\"MEDV\",\"MEDV\",\"MEDV\",\"MEDV\",\"MEDV\",\"MEDV\",\"MEDV\",\"MEDV\",\"MEDV\",\"MEDV\",\"MEDV\",\"MEDV\",\"MEDV\",\"MEDV\",\"MEDV\",\"MEDV\",\"MEDV\",\"MEDV\",\"MEDV\",\"MEDV\",\"MEDV\",\"MEDV\",\"MEDV\",\"MEDV\",\"MEDV\",\"MEDV\",\"MEDV\",\"MEDV\",\"MEDV\",\"MEDV\",\"MEDV\",\"MEDV\",\"MEDV\",\"MEDV\",\"MEDV\",\"MEDV\",\"MEDV\",\"MEDV\",\"MEDV\",\"MEDV\",\"MEDV\",\"MEDV\",\"MEDV\",\"MEDV\",\"MEDV\",\"MEDV\",\"MEDV\",\"MEDV\",\"MEDV\",\"MEDV\",\"MEDV\",\"MEDV\",\"MEDV\",\"MEDV\",\"MEDV\",\"MEDV\",\"MEDV\",\"MEDV\",\"MEDV\",\"MEDV\",\"MEDV\",\"MEDV\",\"MEDV\",\"MEDV\",\"MEDV\",\"MEDV\",\"MEDV\",\"MEDV\",\"MEDV\",\"MEDV\",\"MEDV\",\"MEDV\",\"MEDV\",\"MEDV\",\"MEDV\",\"MEDV\",\"MEDV\",\"MEDV\",\"MEDV\",\"MEDV\",\"MEDV\",\"MEDV\",\"MEDV\",\"MEDV\",\"MEDV\",\"MEDV\",\"MEDV\",\"MEDV\",\"MEDV\",\"MEDV\",\"MEDV\",\"MEDV\",\"MEDV\",\"MEDV\",\"MEDV\",\"MEDV\",\"MEDV\",\"MEDV\",\"MEDV\",\"MEDV\",\"MEDV\",\"MEDV\",\"MEDV\",\"MEDV\",\"MEDV\",\"MEDV\",\"MEDV\",\"MEDV\",\"MEDV\",\"MEDV\",\"MEDV\",\"MEDV\",\"MEDV\",\"MEDV\",\"MEDV\",\"MEDV\",\"MEDV\",\"MEDV\",\"MEDV\",\"MEDV\",\"MEDV\",\"MEDV\",\"MEDV\",\"MEDV\",\"MEDV\",\"MEDV\",\"MEDV\",\"MEDV\",\"MEDV\",\"MEDV\",\"MEDV\",\"MEDV\",\"MEDV\",\"MEDV\",\"MEDV\",\"MEDV\",\"MEDV\",\"MEDV\",\"MEDV\",\"MEDV\",\"MEDV\",\"MEDV\",\"MEDV\",\"MEDV\"],\"x0\":\" \",\"xaxis\":\"x\",\"y\":[504000.0,453600.0,728700.0,701400.0,760200.0,602700.0,480900.0,569100.0,346500.0,396900.0,315000.0,396900.0,455700.0,428400.0,382200.0,417900.0,485100.0,367500.0,424200.0,382200.0,285600.0,411600.0,319200.0,304500.0,327600.0,291900.0,348600.0,310800.0,386400.0,441000.0,266700.0,304500.0,277200.0,275100.0,283500.0,396900.0,420000.0,441000.0,518700.0,646800.0,732900.0,558600.0,531300.0,518700.0,445200.0,405300.0,420000.0,348600.0,302400.0,407400.0,413700.0,430500.0,525000.0,491400.0,396900.0,743400.0,518700.0,663600.0,489300.0,411600.0,392700.0,336000.0,466200.0,525000.0,693000.0,493500.0,407400.0,462000.0,365400.0,438900.0,508200.0,455700.0,478800.0,491400.0,506100.0,449400.0,420000.0,436800.0,445200.0,426300.0,588000.0,501900.0,520800.0,480900.0,501900.0,558600.0,472500.0,466200.0,495600.0,602700.0,474600.0,462000.0,480900.0,525000.0,432600.0,596400.0,449400.0,812700.0,919800.0,697200.0,577500.0,556500.0,390600.0,405300.0,422100.0,409500.0,409500.0,428400.0,415800.0,407400.0,455700.0,478800.0,394800.0,392700.0,388500.0,384300.0,445200.0,403200.0,428400.0,405300.0,462000.0,426300.0,430500.0,363300.0,394800.0,449400.0,329700.0,340200.0,378000.0,300300.0,403200.0,411600.0,483000.0,386400.0,327600.0,380100.0,365400.0,359100.0,279300.0,373800.0,294000.0,302400.0,281400.0,327600.0,247800.0,289800.0,327600.0,306600.0,373800.0,323400.0,451500.0,411600.0,321300.0,407400.0,357000.0,327600.0,275100.0,867300.0,510300.0,489300.0,567000.0,476700.0,525000.0,499800.0,499800.0,468300.0,365400.0,401100.0,485100.0,495600.0,474600.0,617400.0,487200.0,516600.0,627900.0,781200.0,835800.0,760200.0,795900.0,682500.0,554400.0,621600.0,672000.0,625800.0,732900.0,777000.0,640500.0,764400.0,653100.0,611100.0,699300.0,636300.0,726600.0,732900.0,690900.0,506100.0,888300.0,1018500.0,474600.0,512400.0,472500.0,512400.0,420000.0,455700.0,405300.0,470400.0,590100.0,497700.0,525000.0,489300.0,602700.0,451500.0,483000.0,560700.0,455700.0,577500.0,632100.0,940800.0,789600.0,663600.0,980700.0,661500.0,510300.0,665700.0,875700.0,1014300.0,609000.0,504000.0,527100.0,661500.0,497700.0,489300.0,462000.0,422100.0,466200.0,497700.0,369600.0,388500.0,510300.0,430500.0,514500.0,550200.0,512400.0,520800.0,621600.0,898800.0,459900.0,438900.0,924000.0,756000.0,632100.0,709800.0,905100.0,1024800.0,651000.0,766500.0,478800.0,644700.0,913500.0,434700.0,443100.0,529200.0,512400.0,739200.0,680400.0,672000.0,697200.0,695100.0,611100.0,737100.0,953400.0,743400.0,966000.0,676200.0,462000.0,422100.0,487200.0,468300.0,520800.0,598500.0,783300.0,585900.0,501900.0,455700.0,600600.0,569100.0,426300.0,472500.0,609000.0,520800.0,462000.0,554400.0,695100.0,758100.0,596400.0,701400.0,592200.0,478800.0,426300.0,338100.0,464100.0,407400.0,453600.0,499800.0,340200.0,373800.0,415800.0,485100.0,441000.0,499800.0,485100.0,428400.0,388500.0,525000.0,516600.0,483000.0,466200.0,405300.0,474600.0,415800.0,359100.0,407400.0,466200.0,434700.0,443100.0,409500.0,388500.0,432600.0,399000.0,392700.0,686700.0,346500.0,501900.0,655200.0,367500.0,361200.0,485100.0,514500.0,558600.0,480900.0,506100.0,390600.0,632100.0,382200.0,432600.0,373800.0,455700.0,476700.0,474600.0,525000.0,417900.0,436800.0,352800.0,577500.0,459900.0,485100.0,289800.0,289800.0,315000.0,291900.0,279300.0,275100.0,214200.0,218400.0,228900.0,237300.0,258300.0,184800.0,151200.0,220500.0,155400.0,214200.0,241500.0,317100.0,487200.0,203700.0,289800.0,266700.0,275100.0,262500.0,178500.0,105000.0,132300.0,117600.0,151200.0,254100.0,174300.0,178500.0,105000.0,249900.0,585900.0,361200.0,577500.0,315000.0,361200.0,375900.0,342300.0,147000.0,151200.0,157500.0,218400.0,184800.0,176400.0,350700.0,298200.0,436800.0,281400.0,245700.0,174300.0,214200.0,228900.0,231000.0,199500.0,304500.0,296100.0,338100.0,300300.0,245700.0,281400.0,201600.0,182700.0,176400.0,268800.0,220500.0,359100.0,386400.0,323400.0,226800.0,247800.0,312900.0,264600.0,296100.0,273000.0,281400.0,319200.0,338100.0,373800.0,312900.0,296100.0,266700.0,283500.0,312900.0,420000.0,344400.0,371700.0,409500.0,424200.0,449400.0,417900.0,399000.0,401100.0,401100.0,422100.0,417900.0,411600.0,487200.0,625800.0,289800.0,279300.0,350700.0,252000.0,306600.0,449400.0,483000.0,497700.0,525000.0,457800.0,432600.0,445200.0,401100.0,432600.0,319200.0,147000.0,170100.0,285600.0,422100.0,457800.0,514500.0,485100.0,413700.0,384300.0,445200.0,367500.0,352800.0,470400.0,432600.0,501900.0,462000.0,249900.0],\"y0\":\" \",\"yaxis\":\"y\",\"type\":\"box\"}],                        {\"template\":{\"data\":{\"barpolar\":[{\"marker\":{\"line\":{\"color\":\"rgb(17,17,17)\",\"width\":0.5},\"pattern\":{\"fillmode\":\"overlay\",\"size\":10,\"solidity\":0.2}},\"type\":\"barpolar\"}],\"bar\":[{\"error_x\":{\"color\":\"#f2f5fa\"},\"error_y\":{\"color\":\"#f2f5fa\"},\"marker\":{\"line\":{\"color\":\"rgb(17,17,17)\",\"width\":0.5},\"pattern\":{\"fillmode\":\"overlay\",\"size\":10,\"solidity\":0.2}},\"type\":\"bar\"}],\"carpet\":[{\"aaxis\":{\"endlinecolor\":\"#A2B1C6\",\"gridcolor\":\"#506784\",\"linecolor\":\"#506784\",\"minorgridcolor\":\"#506784\",\"startlinecolor\":\"#A2B1C6\"},\"baxis\":{\"endlinecolor\":\"#A2B1C6\",\"gridcolor\":\"#506784\",\"linecolor\":\"#506784\",\"minorgridcolor\":\"#506784\",\"startlinecolor\":\"#A2B1C6\"},\"type\":\"carpet\"}],\"choropleth\":[{\"colorbar\":{\"outlinewidth\":0,\"ticks\":\"\"},\"type\":\"choropleth\"}],\"contourcarpet\":[{\"colorbar\":{\"outlinewidth\":0,\"ticks\":\"\"},\"type\":\"contourcarpet\"}],\"contour\":[{\"colorbar\":{\"outlinewidth\":0,\"ticks\":\"\"},\"colorscale\":[[0.0,\"#0d0887\"],[0.1111111111111111,\"#46039f\"],[0.2222222222222222,\"#7201a8\"],[0.3333333333333333,\"#9c179e\"],[0.4444444444444444,\"#bd3786\"],[0.5555555555555556,\"#d8576b\"],[0.6666666666666666,\"#ed7953\"],[0.7777777777777778,\"#fb9f3a\"],[0.8888888888888888,\"#fdca26\"],[1.0,\"#f0f921\"]],\"type\":\"contour\"}],\"heatmapgl\":[{\"colorbar\":{\"outlinewidth\":0,\"ticks\":\"\"},\"colorscale\":[[0.0,\"#0d0887\"],[0.1111111111111111,\"#46039f\"],[0.2222222222222222,\"#7201a8\"],[0.3333333333333333,\"#9c179e\"],[0.4444444444444444,\"#bd3786\"],[0.5555555555555556,\"#d8576b\"],[0.6666666666666666,\"#ed7953\"],[0.7777777777777778,\"#fb9f3a\"],[0.8888888888888888,\"#fdca26\"],[1.0,\"#f0f921\"]],\"type\":\"heatmapgl\"}],\"heatmap\":[{\"colorbar\":{\"outlinewidth\":0,\"ticks\":\"\"},\"colorscale\":[[0.0,\"#0d0887\"],[0.1111111111111111,\"#46039f\"],[0.2222222222222222,\"#7201a8\"],[0.3333333333333333,\"#9c179e\"],[0.4444444444444444,\"#bd3786\"],[0.5555555555555556,\"#d8576b\"],[0.6666666666666666,\"#ed7953\"],[0.7777777777777778,\"#fb9f3a\"],[0.8888888888888888,\"#fdca26\"],[1.0,\"#f0f921\"]],\"type\":\"heatmap\"}],\"histogram2dcontour\":[{\"colorbar\":{\"outlinewidth\":0,\"ticks\":\"\"},\"colorscale\":[[0.0,\"#0d0887\"],[0.1111111111111111,\"#46039f\"],[0.2222222222222222,\"#7201a8\"],[0.3333333333333333,\"#9c179e\"],[0.4444444444444444,\"#bd3786\"],[0.5555555555555556,\"#d8576b\"],[0.6666666666666666,\"#ed7953\"],[0.7777777777777778,\"#fb9f3a\"],[0.8888888888888888,\"#fdca26\"],[1.0,\"#f0f921\"]],\"type\":\"histogram2dcontour\"}],\"histogram2d\":[{\"colorbar\":{\"outlinewidth\":0,\"ticks\":\"\"},\"colorscale\":[[0.0,\"#0d0887\"],[0.1111111111111111,\"#46039f\"],[0.2222222222222222,\"#7201a8\"],[0.3333333333333333,\"#9c179e\"],[0.4444444444444444,\"#bd3786\"],[0.5555555555555556,\"#d8576b\"],[0.6666666666666666,\"#ed7953\"],[0.7777777777777778,\"#fb9f3a\"],[0.8888888888888888,\"#fdca26\"],[1.0,\"#f0f921\"]],\"type\":\"histogram2d\"}],\"histogram\":[{\"marker\":{\"pattern\":{\"fillmode\":\"overlay\",\"size\":10,\"solidity\":0.2}},\"type\":\"histogram\"}],\"mesh3d\":[{\"colorbar\":{\"outlinewidth\":0,\"ticks\":\"\"},\"type\":\"mesh3d\"}],\"parcoords\":[{\"line\":{\"colorbar\":{\"outlinewidth\":0,\"ticks\":\"\"}},\"type\":\"parcoords\"}],\"pie\":[{\"automargin\":true,\"type\":\"pie\"}],\"scatter3d\":[{\"line\":{\"colorbar\":{\"outlinewidth\":0,\"ticks\":\"\"}},\"marker\":{\"colorbar\":{\"outlinewidth\":0,\"ticks\":\"\"}},\"type\":\"scatter3d\"}],\"scattercarpet\":[{\"marker\":{\"colorbar\":{\"outlinewidth\":0,\"ticks\":\"\"}},\"type\":\"scattercarpet\"}],\"scattergeo\":[{\"marker\":{\"colorbar\":{\"outlinewidth\":0,\"ticks\":\"\"}},\"type\":\"scattergeo\"}],\"scattergl\":[{\"marker\":{\"line\":{\"color\":\"#283442\"}},\"type\":\"scattergl\"}],\"scattermapbox\":[{\"marker\":{\"colorbar\":{\"outlinewidth\":0,\"ticks\":\"\"}},\"type\":\"scattermapbox\"}],\"scatterpolargl\":[{\"marker\":{\"colorbar\":{\"outlinewidth\":0,\"ticks\":\"\"}},\"type\":\"scatterpolargl\"}],\"scatterpolar\":[{\"marker\":{\"colorbar\":{\"outlinewidth\":0,\"ticks\":\"\"}},\"type\":\"scatterpolar\"}],\"scatter\":[{\"marker\":{\"line\":{\"color\":\"#283442\"}},\"type\":\"scatter\"}],\"scatterternary\":[{\"marker\":{\"colorbar\":{\"outlinewidth\":0,\"ticks\":\"\"}},\"type\":\"scatterternary\"}],\"surface\":[{\"colorbar\":{\"outlinewidth\":0,\"ticks\":\"\"},\"colorscale\":[[0.0,\"#0d0887\"],[0.1111111111111111,\"#46039f\"],[0.2222222222222222,\"#7201a8\"],[0.3333333333333333,\"#9c179e\"],[0.4444444444444444,\"#bd3786\"],[0.5555555555555556,\"#d8576b\"],[0.6666666666666666,\"#ed7953\"],[0.7777777777777778,\"#fb9f3a\"],[0.8888888888888888,\"#fdca26\"],[1.0,\"#f0f921\"]],\"type\":\"surface\"}],\"table\":[{\"cells\":{\"fill\":{\"color\":\"#506784\"},\"line\":{\"color\":\"rgb(17,17,17)\"}},\"header\":{\"fill\":{\"color\":\"#2a3f5f\"},\"line\":{\"color\":\"rgb(17,17,17)\"}},\"type\":\"table\"}]},\"layout\":{\"annotationdefaults\":{\"arrowcolor\":\"#f2f5fa\",\"arrowhead\":0,\"arrowwidth\":1},\"autotypenumbers\":\"strict\",\"coloraxis\":{\"colorbar\":{\"outlinewidth\":0,\"ticks\":\"\"}},\"colorscale\":{\"diverging\":[[0,\"#8e0152\"],[0.1,\"#c51b7d\"],[0.2,\"#de77ae\"],[0.3,\"#f1b6da\"],[0.4,\"#fde0ef\"],[0.5,\"#f7f7f7\"],[0.6,\"#e6f5d0\"],[0.7,\"#b8e186\"],[0.8,\"#7fbc41\"],[0.9,\"#4d9221\"],[1,\"#276419\"]],\"sequential\":[[0.0,\"#0d0887\"],[0.1111111111111111,\"#46039f\"],[0.2222222222222222,\"#7201a8\"],[0.3333333333333333,\"#9c179e\"],[0.4444444444444444,\"#bd3786\"],[0.5555555555555556,\"#d8576b\"],[0.6666666666666666,\"#ed7953\"],[0.7777777777777778,\"#fb9f3a\"],[0.8888888888888888,\"#fdca26\"],[1.0,\"#f0f921\"]],\"sequentialminus\":[[0.0,\"#0d0887\"],[0.1111111111111111,\"#46039f\"],[0.2222222222222222,\"#7201a8\"],[0.3333333333333333,\"#9c179e\"],[0.4444444444444444,\"#bd3786\"],[0.5555555555555556,\"#d8576b\"],[0.6666666666666666,\"#ed7953\"],[0.7777777777777778,\"#fb9f3a\"],[0.8888888888888888,\"#fdca26\"],[1.0,\"#f0f921\"]]},\"colorway\":[\"#636efa\",\"#EF553B\",\"#00cc96\",\"#ab63fa\",\"#FFA15A\",\"#19d3f3\",\"#FF6692\",\"#B6E880\",\"#FF97FF\",\"#FECB52\"],\"font\":{\"color\":\"#f2f5fa\"},\"geo\":{\"bgcolor\":\"rgb(17,17,17)\",\"lakecolor\":\"rgb(17,17,17)\",\"landcolor\":\"rgb(17,17,17)\",\"showlakes\":true,\"showland\":true,\"subunitcolor\":\"#506784\"},\"hoverlabel\":{\"align\":\"left\"},\"hovermode\":\"closest\",\"mapbox\":{\"style\":\"dark\"},\"paper_bgcolor\":\"rgb(17,17,17)\",\"plot_bgcolor\":\"rgb(17,17,17)\",\"polar\":{\"angularaxis\":{\"gridcolor\":\"#506784\",\"linecolor\":\"#506784\",\"ticks\":\"\"},\"bgcolor\":\"rgb(17,17,17)\",\"radialaxis\":{\"gridcolor\":\"#506784\",\"linecolor\":\"#506784\",\"ticks\":\"\"}},\"scene\":{\"xaxis\":{\"backgroundcolor\":\"rgb(17,17,17)\",\"gridcolor\":\"#506784\",\"gridwidth\":2,\"linecolor\":\"#506784\",\"showbackground\":true,\"ticks\":\"\",\"zerolinecolor\":\"#C8D4E3\"},\"yaxis\":{\"backgroundcolor\":\"rgb(17,17,17)\",\"gridcolor\":\"#506784\",\"gridwidth\":2,\"linecolor\":\"#506784\",\"showbackground\":true,\"ticks\":\"\",\"zerolinecolor\":\"#C8D4E3\"},\"zaxis\":{\"backgroundcolor\":\"rgb(17,17,17)\",\"gridcolor\":\"#506784\",\"gridwidth\":2,\"linecolor\":\"#506784\",\"showbackground\":true,\"ticks\":\"\",\"zerolinecolor\":\"#C8D4E3\"}},\"shapedefaults\":{\"line\":{\"color\":\"#f2f5fa\"}},\"sliderdefaults\":{\"bgcolor\":\"#C8D4E3\",\"bordercolor\":\"rgb(17,17,17)\",\"borderwidth\":1,\"tickwidth\":0},\"ternary\":{\"aaxis\":{\"gridcolor\":\"#506784\",\"linecolor\":\"#506784\",\"ticks\":\"\"},\"baxis\":{\"gridcolor\":\"#506784\",\"linecolor\":\"#506784\",\"ticks\":\"\"},\"bgcolor\":\"rgb(17,17,17)\",\"caxis\":{\"gridcolor\":\"#506784\",\"linecolor\":\"#506784\",\"ticks\":\"\"}},\"title\":{\"x\":0.05},\"updatemenudefaults\":{\"bgcolor\":\"#506784\",\"borderwidth\":0},\"xaxis\":{\"automargin\":true,\"gridcolor\":\"#283442\",\"linecolor\":\"#506784\",\"ticks\":\"\",\"title\":{\"standoff\":15},\"zerolinecolor\":\"#283442\",\"zerolinewidth\":2},\"yaxis\":{\"automargin\":true,\"gridcolor\":\"#283442\",\"linecolor\":\"#506784\",\"ticks\":\"\",\"title\":{\"standoff\":15},\"zerolinecolor\":\"#283442\",\"zerolinewidth\":2}}},\"xaxis\":{\"anchor\":\"y\",\"domain\":[0.0,1.0],\"title\":{\"text\":\"variable\"},\"showgrid\":false},\"yaxis\":{\"anchor\":\"x\",\"domain\":[0.0,1.0],\"title\":{\"text\":\"value\"},\"showgrid\":false},\"legend\":{\"tracegroupgap\":0},\"margin\":{\"t\":60},\"boxmode\":\"group\",\"title\":{\"text\":\"Boxplot da coluna MEDV\"}},                        {\"responsive\": true}                    ).then(function(){\n",
              "                            \n",
              "var gd = document.getElementById('f1858eab-4e45-403e-92d2-3148631629b6');\n",
              "var x = new MutationObserver(function (mutations, observer) {{\n",
              "        var display = window.getComputedStyle(gd).display;\n",
              "        if (!display || display === 'none') {{\n",
              "            console.log([gd, 'removed!']);\n",
              "            Plotly.purge(gd);\n",
              "            observer.disconnect();\n",
              "        }}\n",
              "}});\n",
              "\n",
              "// Listen for the removal of the full notebook cells\n",
              "var notebookContainer = gd.closest('#notebook-container');\n",
              "if (notebookContainer) {{\n",
              "    x.observe(notebookContainer, {childList: true});\n",
              "}}\n",
              "\n",
              "// Listen for the clearing of the current output cell\n",
              "var outputEl = gd.closest('.output');\n",
              "if (outputEl) {{\n",
              "    x.observe(outputEl, {childList: true});\n",
              "}}\n",
              "\n",
              "                        })                };                            </script>        </div>\n",
              "</body>\n",
              "</html>"
            ]
          },
          "metadata": {}
        }
      ],
      "source": [
        "class Analisar():\n",
        "    def __init__(self,dados):\n",
        "        self.df = dados\n",
        "    def analise(self):\n",
        "        for i in self.df.columns:\n",
        "            if self.df[i].dtype == 'int64' or self.df[i].dtype == 'float64':\n",
        "                print(f'\\n Nome da coluna:\\n {self.df[i].name}')\n",
        "                print(f'\\n Tipo da coluna:\\n {self.df[i].dtype}')\n",
        "                print(f'\\n Tipo da coluna:\\n {self.df.corr()}')\n",
        "                print(f'\\n Valor media da coluna:\\n {round(self.df[i].mean(),2)}')\n",
        "                print(f'\\n Quantidade de linhas da coluna:\\n {self.df[i].shape}')\n",
        "                print(f'\\n Valores unicos da coluna:\\n {self.df[i].isnull().sum()}')\n",
        "                print(f'\\n Valores nulos da coluna:\\n {self.df[i].describe()}')\n",
        "                fig = px.box(self.df[i])\n",
        "                fig.update_layout(xaxis=dict(showgrid=False),yaxis=dict(showgrid=False),title=f'Boxplot da coluna {i}',template='plotly_dark')\n",
        "                fig.show()\n",
        "Analise = Analisar(df)\n",
        "Analise.analise()"
      ]
    },
    {
      "cell_type": "code",
      "execution_count": 20,
      "metadata": {
        "id": "YKmPRsX7R-Qu",
        "colab": {
          "base_uri": "https://localhost:8080/",
          "height": 1000
        },
        "outputId": "d97da6b5-a8e8-42c5-9b63-aae6173f4817"
      },
      "outputs": [
        {
          "output_type": "stream",
          "name": "stdout",
          "text": [
            "\n",
            " Nome da coluna:\n",
            " RM\n",
            "\n",
            " Tipo da coluna:\n",
            " float64\n",
            "\n",
            " Tipo da coluna:\n",
            "                RM     LSTAT   PTRATIO      MEDV\n",
            "RM       1.000000 -0.612033 -0.304559  0.697209\n",
            "LSTAT   -0.612033  1.000000  0.360445 -0.760670\n",
            "PTRATIO -0.304559  0.360445  1.000000 -0.519034\n",
            "MEDV     0.697209 -0.760670 -0.519034  1.000000\n",
            "\n",
            " Valor media da coluna:\n",
            " 6.24\n",
            "\n",
            " Quantidade de linhas da coluna:\n",
            " (489,)\n",
            "\n",
            " Valores unicos da coluna:\n",
            " 0\n",
            "\n",
            " Valores nulos da coluna:\n",
            " count    489.000000\n",
            "mean       6.240288\n",
            "std        0.643650\n",
            "min        3.561000\n",
            "25%        5.880000\n",
            "50%        6.185000\n",
            "75%        6.575000\n",
            "max        8.398000\n",
            "Name: RM, dtype: float64\n"
          ]
        },
        {
          "output_type": "display_data",
          "data": {
            "text/html": [
              "<html>\n",
              "<head><meta charset=\"utf-8\" /></head>\n",
              "<body>\n",
              "    <div>            <script src=\"https://cdnjs.cloudflare.com/ajax/libs/mathjax/2.7.5/MathJax.js?config=TeX-AMS-MML_SVG\"></script><script type=\"text/javascript\">if (window.MathJax && window.MathJax.Hub && window.MathJax.Hub.Config) {window.MathJax.Hub.Config({SVG: {font: \"STIX-Web\"}});}</script>                <script type=\"text/javascript\">window.PlotlyConfig = {MathJaxConfig: 'local'};</script>\n",
              "        <script charset=\"utf-8\" src=\"https://cdn.plot.ly/plotly-2.24.1.min.js\"></script>                <div id=\"5657b695-1bd4-4f5e-a728-7066825057f7\" class=\"plotly-graph-div\" style=\"height:525px; width:100%;\"></div>            <script type=\"text/javascript\">                                    window.PLOTLYENV=window.PLOTLYENV || {};                                    if (document.getElementById(\"5657b695-1bd4-4f5e-a728-7066825057f7\")) {                    Plotly.newPlot(                        \"5657b695-1bd4-4f5e-a728-7066825057f7\",                        [{\"alignmentgroup\":\"True\",\"hovertemplate\":\"variable=%{x}\\u003cbr\\u003evalue=%{y}\\u003cextra\\u003e\\u003c\\u002fextra\\u003e\",\"legendgroup\":\"\",\"marker\":{\"color\":\"#636efa\"},\"name\":\"\",\"notched\":false,\"offsetgroup\":\"\",\"orientation\":\"v\",\"showlegend\":false,\"x\":[\"RM\",\"RM\",\"RM\",\"RM\",\"RM\",\"RM\",\"RM\",\"RM\",\"RM\",\"RM\",\"RM\",\"RM\",\"RM\",\"RM\",\"RM\",\"RM\",\"RM\",\"RM\",\"RM\",\"RM\",\"RM\",\"RM\",\"RM\",\"RM\",\"RM\",\"RM\",\"RM\",\"RM\",\"RM\",\"RM\",\"RM\",\"RM\",\"RM\",\"RM\",\"RM\",\"RM\",\"RM\",\"RM\",\"RM\",\"RM\",\"RM\",\"RM\",\"RM\",\"RM\",\"RM\",\"RM\",\"RM\",\"RM\",\"RM\",\"RM\",\"RM\",\"RM\",\"RM\",\"RM\",\"RM\",\"RM\",\"RM\",\"RM\",\"RM\",\"RM\",\"RM\",\"RM\",\"RM\",\"RM\",\"RM\",\"RM\",\"RM\",\"RM\",\"RM\",\"RM\",\"RM\",\"RM\",\"RM\",\"RM\",\"RM\",\"RM\",\"RM\",\"RM\",\"RM\",\"RM\",\"RM\",\"RM\",\"RM\",\"RM\",\"RM\",\"RM\",\"RM\",\"RM\",\"RM\",\"RM\",\"RM\",\"RM\",\"RM\",\"RM\",\"RM\",\"RM\",\"RM\",\"RM\",\"RM\",\"RM\",\"RM\",\"RM\",\"RM\",\"RM\",\"RM\",\"RM\",\"RM\",\"RM\",\"RM\",\"RM\",\"RM\",\"RM\",\"RM\",\"RM\",\"RM\",\"RM\",\"RM\",\"RM\",\"RM\",\"RM\",\"RM\",\"RM\",\"RM\",\"RM\",\"RM\",\"RM\",\"RM\",\"RM\",\"RM\",\"RM\",\"RM\",\"RM\",\"RM\",\"RM\",\"RM\",\"RM\",\"RM\",\"RM\",\"RM\",\"RM\",\"RM\",\"RM\",\"RM\",\"RM\",\"RM\",\"RM\",\"RM\",\"RM\",\"RM\",\"RM\",\"RM\",\"RM\",\"RM\",\"RM\",\"RM\",\"RM\",\"RM\",\"RM\",\"RM\",\"RM\",\"RM\",\"RM\",\"RM\",\"RM\",\"RM\",\"RM\",\"RM\",\"RM\",\"RM\",\"RM\",\"RM\",\"RM\",\"RM\",\"RM\",\"RM\",\"RM\",\"RM\",\"RM\",\"RM\",\"RM\",\"RM\",\"RM\",\"RM\",\"RM\",\"RM\",\"RM\",\"RM\",\"RM\",\"RM\",\"RM\",\"RM\",\"RM\",\"RM\",\"RM\",\"RM\",\"RM\",\"RM\",\"RM\",\"RM\",\"RM\",\"RM\",\"RM\",\"RM\",\"RM\",\"RM\",\"RM\",\"RM\",\"RM\",\"RM\",\"RM\",\"RM\",\"RM\",\"RM\",\"RM\",\"RM\",\"RM\",\"RM\",\"RM\",\"RM\",\"RM\",\"RM\",\"RM\",\"RM\",\"RM\",\"RM\",\"RM\",\"RM\",\"RM\",\"RM\",\"RM\",\"RM\",\"RM\",\"RM\",\"RM\",\"RM\",\"RM\",\"RM\",\"RM\",\"RM\",\"RM\",\"RM\",\"RM\",\"RM\",\"RM\",\"RM\",\"RM\",\"RM\",\"RM\",\"RM\",\"RM\",\"RM\",\"RM\",\"RM\",\"RM\",\"RM\",\"RM\",\"RM\",\"RM\",\"RM\",\"RM\",\"RM\",\"RM\",\"RM\",\"RM\",\"RM\",\"RM\",\"RM\",\"RM\",\"RM\",\"RM\",\"RM\",\"RM\",\"RM\",\"RM\",\"RM\",\"RM\",\"RM\",\"RM\",\"RM\",\"RM\",\"RM\",\"RM\",\"RM\",\"RM\",\"RM\",\"RM\",\"RM\",\"RM\",\"RM\",\"RM\",\"RM\",\"RM\",\"RM\",\"RM\",\"RM\",\"RM\",\"RM\",\"RM\",\"RM\",\"RM\",\"RM\",\"RM\",\"RM\",\"RM\",\"RM\",\"RM\",\"RM\",\"RM\",\"RM\",\"RM\",\"RM\",\"RM\",\"RM\",\"RM\",\"RM\",\"RM\",\"RM\",\"RM\",\"RM\",\"RM\",\"RM\",\"RM\",\"RM\",\"RM\",\"RM\",\"RM\",\"RM\",\"RM\",\"RM\",\"RM\",\"RM\",\"RM\",\"RM\",\"RM\",\"RM\",\"RM\",\"RM\",\"RM\",\"RM\",\"RM\",\"RM\",\"RM\",\"RM\",\"RM\",\"RM\",\"RM\",\"RM\",\"RM\",\"RM\",\"RM\",\"RM\",\"RM\",\"RM\",\"RM\",\"RM\",\"RM\",\"RM\",\"RM\",\"RM\",\"RM\",\"RM\",\"RM\",\"RM\",\"RM\",\"RM\",\"RM\",\"RM\",\"RM\",\"RM\",\"RM\",\"RM\",\"RM\",\"RM\",\"RM\",\"RM\",\"RM\",\"RM\",\"RM\",\"RM\",\"RM\",\"RM\",\"RM\",\"RM\",\"RM\",\"RM\",\"RM\",\"RM\",\"RM\",\"RM\",\"RM\",\"RM\",\"RM\",\"RM\",\"RM\",\"RM\",\"RM\",\"RM\",\"RM\",\"RM\",\"RM\",\"RM\",\"RM\",\"RM\",\"RM\",\"RM\",\"RM\",\"RM\",\"RM\",\"RM\",\"RM\",\"RM\",\"RM\",\"RM\",\"RM\",\"RM\",\"RM\",\"RM\",\"RM\",\"RM\",\"RM\",\"RM\",\"RM\",\"RM\",\"RM\",\"RM\",\"RM\",\"RM\",\"RM\",\"RM\",\"RM\",\"RM\",\"RM\",\"RM\",\"RM\",\"RM\",\"RM\",\"RM\",\"RM\",\"RM\",\"RM\",\"RM\",\"RM\",\"RM\",\"RM\",\"RM\",\"RM\",\"RM\",\"RM\",\"RM\",\"RM\",\"RM\",\"RM\",\"RM\",\"RM\",\"RM\",\"RM\",\"RM\",\"RM\",\"RM\",\"RM\",\"RM\",\"RM\",\"RM\",\"RM\",\"RM\",\"RM\",\"RM\",\"RM\",\"RM\",\"RM\",\"RM\",\"RM\",\"RM\",\"RM\",\"RM\",\"RM\",\"RM\",\"RM\",\"RM\",\"RM\",\"RM\",\"RM\",\"RM\",\"RM\",\"RM\",\"RM\",\"RM\",\"RM\",\"RM\"],\"x0\":\" \",\"xaxis\":\"x\",\"y\":[6.575,6.421,7.185,6.998,7.147,6.43,6.012,6.172,5.631,6.004,6.377,6.009,5.889,5.949,6.096,5.834,5.935,5.99,5.456,5.727,5.57,5.965,6.142,5.813,5.924,5.599,5.813,6.047,6.495,6.674,5.713,6.072,5.95,5.701,6.096,5.933,5.841,5.85,5.966,6.595,7.024,6.77,6.169,6.211,6.069,5.682,5.786,6.03,5.399,5.602,5.963,6.115,6.511,5.998,5.888,7.249,6.383,6.816,6.145,5.927,5.741,5.966,6.456,6.762,7.104,6.29,5.787,5.878,5.594,5.885,6.417,5.961,6.065,6.245,6.273,6.286,6.279,6.14,6.232,5.874,6.727,6.619,6.302,6.167,6.389,6.63,6.015,6.121,7.007,7.079,6.417,6.405,6.442,6.211,6.249,6.625,6.163,8.069,7.82,7.416,6.727,6.781,6.405,6.137,6.167,5.851,5.836,6.127,6.474,6.229,6.195,6.715,5.913,6.092,6.254,5.928,6.176,6.021,5.872,5.731,5.87,6.004,5.961,5.856,5.879,5.986,5.613,5.693,6.431,5.637,6.458,6.326,6.372,5.822,5.757,6.335,5.942,6.454,5.857,6.151,6.174,5.019,5.403,5.468,4.903,6.13,5.628,4.926,5.186,5.597,6.122,5.404,5.012,5.709,6.129,6.152,5.272,6.943,6.066,6.51,6.25,5.854,6.101,5.877,6.319,6.402,5.875,5.88,5.572,6.416,5.859,6.546,6.02,6.315,6.86,6.98,7.765,6.144,7.155,6.563,5.604,6.153,6.782,6.556,7.185,6.951,6.739,7.178,6.8,6.604,7.287,7.107,7.274,6.975,7.135,6.162,7.61,7.853,5.891,6.326,5.783,6.064,5.344,5.96,5.404,5.807,6.375,5.412,6.182,5.888,6.642,5.951,6.373,6.951,6.164,6.879,6.618,8.266,8.04,7.163,7.686,6.552,5.981,7.412,8.337,8.247,6.726,6.086,6.631,7.358,6.481,6.606,6.897,6.095,6.358,6.393,5.593,5.605,6.108,6.226,6.433,6.718,6.487,6.438,6.957,8.259,6.108,5.876,7.454,7.333,6.842,7.203,7.52,8.398,7.327,7.206,5.56,7.014,7.47,5.92,5.856,6.24,6.538,7.691,6.758,6.854,7.267,6.826,6.482,6.812,7.82,6.968,7.645,7.088,6.453,6.23,6.209,6.315,6.565,6.861,7.148,6.63,6.127,6.009,6.678,6.549,5.79,6.345,7.041,6.871,6.59,6.495,6.982,7.236,6.616,7.42,6.849,6.635,5.972,4.973,6.122,6.023,6.266,6.567,5.705,5.914,5.782,6.382,6.113,6.426,6.376,6.041,5.708,6.415,6.431,6.312,6.083,5.868,6.333,6.144,5.706,6.031,6.316,6.31,6.037,5.869,5.895,6.059,5.985,5.968,7.241,6.54,6.696,6.874,6.014,5.898,6.516,6.635,6.939,6.49,6.579,5.884,6.728,5.663,5.936,6.212,6.395,6.127,6.112,6.398,6.251,5.362,5.803,3.561,4.963,3.863,4.906,4.138,7.313,6.649,6.794,6.38,6.223,6.968,6.545,5.536,5.52,4.368,5.277,4.652,5.0,4.88,5.39,5.713,6.051,5.036,6.193,5.887,6.471,6.405,5.747,5.453,5.852,5.987,6.343,6.404,5.349,5.531,5.683,4.138,5.608,5.617,6.852,5.757,6.657,4.628,5.155,4.519,6.434,6.782,5.304,5.957,6.824,6.411,6.006,5.648,6.103,5.565,5.896,5.837,6.202,6.193,6.38,6.348,6.833,6.425,6.436,6.208,6.629,6.461,6.152,5.935,5.627,5.818,6.406,6.219,6.485,5.854,6.459,6.341,6.251,6.185,6.417,6.749,6.655,6.297,7.393,6.728,6.525,5.976,5.936,6.301,6.081,6.701,6.376,6.317,6.513,6.209,5.759,5.952,6.003,5.926,5.713,6.167,6.229,6.437,6.98,5.427,6.162,6.484,5.304,6.185,6.229,6.242,6.75,7.061,5.762,5.871,6.312,6.114,5.905,5.454,5.414,5.093,5.983,5.983,5.707,5.926,5.67,5.39,5.794,6.019,5.569,6.027,6.593,6.12,6.976,6.794,6.03],\"y0\":\" \",\"yaxis\":\"y\",\"type\":\"box\"}],                        {\"template\":{\"data\":{\"barpolar\":[{\"marker\":{\"line\":{\"color\":\"rgb(17,17,17)\",\"width\":0.5},\"pattern\":{\"fillmode\":\"overlay\",\"size\":10,\"solidity\":0.2}},\"type\":\"barpolar\"}],\"bar\":[{\"error_x\":{\"color\":\"#f2f5fa\"},\"error_y\":{\"color\":\"#f2f5fa\"},\"marker\":{\"line\":{\"color\":\"rgb(17,17,17)\",\"width\":0.5},\"pattern\":{\"fillmode\":\"overlay\",\"size\":10,\"solidity\":0.2}},\"type\":\"bar\"}],\"carpet\":[{\"aaxis\":{\"endlinecolor\":\"#A2B1C6\",\"gridcolor\":\"#506784\",\"linecolor\":\"#506784\",\"minorgridcolor\":\"#506784\",\"startlinecolor\":\"#A2B1C6\"},\"baxis\":{\"endlinecolor\":\"#A2B1C6\",\"gridcolor\":\"#506784\",\"linecolor\":\"#506784\",\"minorgridcolor\":\"#506784\",\"startlinecolor\":\"#A2B1C6\"},\"type\":\"carpet\"}],\"choropleth\":[{\"colorbar\":{\"outlinewidth\":0,\"ticks\":\"\"},\"type\":\"choropleth\"}],\"contourcarpet\":[{\"colorbar\":{\"outlinewidth\":0,\"ticks\":\"\"},\"type\":\"contourcarpet\"}],\"contour\":[{\"colorbar\":{\"outlinewidth\":0,\"ticks\":\"\"},\"colorscale\":[[0.0,\"#0d0887\"],[0.1111111111111111,\"#46039f\"],[0.2222222222222222,\"#7201a8\"],[0.3333333333333333,\"#9c179e\"],[0.4444444444444444,\"#bd3786\"],[0.5555555555555556,\"#d8576b\"],[0.6666666666666666,\"#ed7953\"],[0.7777777777777778,\"#fb9f3a\"],[0.8888888888888888,\"#fdca26\"],[1.0,\"#f0f921\"]],\"type\":\"contour\"}],\"heatmapgl\":[{\"colorbar\":{\"outlinewidth\":0,\"ticks\":\"\"},\"colorscale\":[[0.0,\"#0d0887\"],[0.1111111111111111,\"#46039f\"],[0.2222222222222222,\"#7201a8\"],[0.3333333333333333,\"#9c179e\"],[0.4444444444444444,\"#bd3786\"],[0.5555555555555556,\"#d8576b\"],[0.6666666666666666,\"#ed7953\"],[0.7777777777777778,\"#fb9f3a\"],[0.8888888888888888,\"#fdca26\"],[1.0,\"#f0f921\"]],\"type\":\"heatmapgl\"}],\"heatmap\":[{\"colorbar\":{\"outlinewidth\":0,\"ticks\":\"\"},\"colorscale\":[[0.0,\"#0d0887\"],[0.1111111111111111,\"#46039f\"],[0.2222222222222222,\"#7201a8\"],[0.3333333333333333,\"#9c179e\"],[0.4444444444444444,\"#bd3786\"],[0.5555555555555556,\"#d8576b\"],[0.6666666666666666,\"#ed7953\"],[0.7777777777777778,\"#fb9f3a\"],[0.8888888888888888,\"#fdca26\"],[1.0,\"#f0f921\"]],\"type\":\"heatmap\"}],\"histogram2dcontour\":[{\"colorbar\":{\"outlinewidth\":0,\"ticks\":\"\"},\"colorscale\":[[0.0,\"#0d0887\"],[0.1111111111111111,\"#46039f\"],[0.2222222222222222,\"#7201a8\"],[0.3333333333333333,\"#9c179e\"],[0.4444444444444444,\"#bd3786\"],[0.5555555555555556,\"#d8576b\"],[0.6666666666666666,\"#ed7953\"],[0.7777777777777778,\"#fb9f3a\"],[0.8888888888888888,\"#fdca26\"],[1.0,\"#f0f921\"]],\"type\":\"histogram2dcontour\"}],\"histogram2d\":[{\"colorbar\":{\"outlinewidth\":0,\"ticks\":\"\"},\"colorscale\":[[0.0,\"#0d0887\"],[0.1111111111111111,\"#46039f\"],[0.2222222222222222,\"#7201a8\"],[0.3333333333333333,\"#9c179e\"],[0.4444444444444444,\"#bd3786\"],[0.5555555555555556,\"#d8576b\"],[0.6666666666666666,\"#ed7953\"],[0.7777777777777778,\"#fb9f3a\"],[0.8888888888888888,\"#fdca26\"],[1.0,\"#f0f921\"]],\"type\":\"histogram2d\"}],\"histogram\":[{\"marker\":{\"pattern\":{\"fillmode\":\"overlay\",\"size\":10,\"solidity\":0.2}},\"type\":\"histogram\"}],\"mesh3d\":[{\"colorbar\":{\"outlinewidth\":0,\"ticks\":\"\"},\"type\":\"mesh3d\"}],\"parcoords\":[{\"line\":{\"colorbar\":{\"outlinewidth\":0,\"ticks\":\"\"}},\"type\":\"parcoords\"}],\"pie\":[{\"automargin\":true,\"type\":\"pie\"}],\"scatter3d\":[{\"line\":{\"colorbar\":{\"outlinewidth\":0,\"ticks\":\"\"}},\"marker\":{\"colorbar\":{\"outlinewidth\":0,\"ticks\":\"\"}},\"type\":\"scatter3d\"}],\"scattercarpet\":[{\"marker\":{\"colorbar\":{\"outlinewidth\":0,\"ticks\":\"\"}},\"type\":\"scattercarpet\"}],\"scattergeo\":[{\"marker\":{\"colorbar\":{\"outlinewidth\":0,\"ticks\":\"\"}},\"type\":\"scattergeo\"}],\"scattergl\":[{\"marker\":{\"line\":{\"color\":\"#283442\"}},\"type\":\"scattergl\"}],\"scattermapbox\":[{\"marker\":{\"colorbar\":{\"outlinewidth\":0,\"ticks\":\"\"}},\"type\":\"scattermapbox\"}],\"scatterpolargl\":[{\"marker\":{\"colorbar\":{\"outlinewidth\":0,\"ticks\":\"\"}},\"type\":\"scatterpolargl\"}],\"scatterpolar\":[{\"marker\":{\"colorbar\":{\"outlinewidth\":0,\"ticks\":\"\"}},\"type\":\"scatterpolar\"}],\"scatter\":[{\"marker\":{\"line\":{\"color\":\"#283442\"}},\"type\":\"scatter\"}],\"scatterternary\":[{\"marker\":{\"colorbar\":{\"outlinewidth\":0,\"ticks\":\"\"}},\"type\":\"scatterternary\"}],\"surface\":[{\"colorbar\":{\"outlinewidth\":0,\"ticks\":\"\"},\"colorscale\":[[0.0,\"#0d0887\"],[0.1111111111111111,\"#46039f\"],[0.2222222222222222,\"#7201a8\"],[0.3333333333333333,\"#9c179e\"],[0.4444444444444444,\"#bd3786\"],[0.5555555555555556,\"#d8576b\"],[0.6666666666666666,\"#ed7953\"],[0.7777777777777778,\"#fb9f3a\"],[0.8888888888888888,\"#fdca26\"],[1.0,\"#f0f921\"]],\"type\":\"surface\"}],\"table\":[{\"cells\":{\"fill\":{\"color\":\"#506784\"},\"line\":{\"color\":\"rgb(17,17,17)\"}},\"header\":{\"fill\":{\"color\":\"#2a3f5f\"},\"line\":{\"color\":\"rgb(17,17,17)\"}},\"type\":\"table\"}]},\"layout\":{\"annotationdefaults\":{\"arrowcolor\":\"#f2f5fa\",\"arrowhead\":0,\"arrowwidth\":1},\"autotypenumbers\":\"strict\",\"coloraxis\":{\"colorbar\":{\"outlinewidth\":0,\"ticks\":\"\"}},\"colorscale\":{\"diverging\":[[0,\"#8e0152\"],[0.1,\"#c51b7d\"],[0.2,\"#de77ae\"],[0.3,\"#f1b6da\"],[0.4,\"#fde0ef\"],[0.5,\"#f7f7f7\"],[0.6,\"#e6f5d0\"],[0.7,\"#b8e186\"],[0.8,\"#7fbc41\"],[0.9,\"#4d9221\"],[1,\"#276419\"]],\"sequential\":[[0.0,\"#0d0887\"],[0.1111111111111111,\"#46039f\"],[0.2222222222222222,\"#7201a8\"],[0.3333333333333333,\"#9c179e\"],[0.4444444444444444,\"#bd3786\"],[0.5555555555555556,\"#d8576b\"],[0.6666666666666666,\"#ed7953\"],[0.7777777777777778,\"#fb9f3a\"],[0.8888888888888888,\"#fdca26\"],[1.0,\"#f0f921\"]],\"sequentialminus\":[[0.0,\"#0d0887\"],[0.1111111111111111,\"#46039f\"],[0.2222222222222222,\"#7201a8\"],[0.3333333333333333,\"#9c179e\"],[0.4444444444444444,\"#bd3786\"],[0.5555555555555556,\"#d8576b\"],[0.6666666666666666,\"#ed7953\"],[0.7777777777777778,\"#fb9f3a\"],[0.8888888888888888,\"#fdca26\"],[1.0,\"#f0f921\"]]},\"colorway\":[\"#636efa\",\"#EF553B\",\"#00cc96\",\"#ab63fa\",\"#FFA15A\",\"#19d3f3\",\"#FF6692\",\"#B6E880\",\"#FF97FF\",\"#FECB52\"],\"font\":{\"color\":\"#f2f5fa\"},\"geo\":{\"bgcolor\":\"rgb(17,17,17)\",\"lakecolor\":\"rgb(17,17,17)\",\"landcolor\":\"rgb(17,17,17)\",\"showlakes\":true,\"showland\":true,\"subunitcolor\":\"#506784\"},\"hoverlabel\":{\"align\":\"left\"},\"hovermode\":\"closest\",\"mapbox\":{\"style\":\"dark\"},\"paper_bgcolor\":\"rgb(17,17,17)\",\"plot_bgcolor\":\"rgb(17,17,17)\",\"polar\":{\"angularaxis\":{\"gridcolor\":\"#506784\",\"linecolor\":\"#506784\",\"ticks\":\"\"},\"bgcolor\":\"rgb(17,17,17)\",\"radialaxis\":{\"gridcolor\":\"#506784\",\"linecolor\":\"#506784\",\"ticks\":\"\"}},\"scene\":{\"xaxis\":{\"backgroundcolor\":\"rgb(17,17,17)\",\"gridcolor\":\"#506784\",\"gridwidth\":2,\"linecolor\":\"#506784\",\"showbackground\":true,\"ticks\":\"\",\"zerolinecolor\":\"#C8D4E3\"},\"yaxis\":{\"backgroundcolor\":\"rgb(17,17,17)\",\"gridcolor\":\"#506784\",\"gridwidth\":2,\"linecolor\":\"#506784\",\"showbackground\":true,\"ticks\":\"\",\"zerolinecolor\":\"#C8D4E3\"},\"zaxis\":{\"backgroundcolor\":\"rgb(17,17,17)\",\"gridcolor\":\"#506784\",\"gridwidth\":2,\"linecolor\":\"#506784\",\"showbackground\":true,\"ticks\":\"\",\"zerolinecolor\":\"#C8D4E3\"}},\"shapedefaults\":{\"line\":{\"color\":\"#f2f5fa\"}},\"sliderdefaults\":{\"bgcolor\":\"#C8D4E3\",\"bordercolor\":\"rgb(17,17,17)\",\"borderwidth\":1,\"tickwidth\":0},\"ternary\":{\"aaxis\":{\"gridcolor\":\"#506784\",\"linecolor\":\"#506784\",\"ticks\":\"\"},\"baxis\":{\"gridcolor\":\"#506784\",\"linecolor\":\"#506784\",\"ticks\":\"\"},\"bgcolor\":\"rgb(17,17,17)\",\"caxis\":{\"gridcolor\":\"#506784\",\"linecolor\":\"#506784\",\"ticks\":\"\"}},\"title\":{\"x\":0.05},\"updatemenudefaults\":{\"bgcolor\":\"#506784\",\"borderwidth\":0},\"xaxis\":{\"automargin\":true,\"gridcolor\":\"#283442\",\"linecolor\":\"#506784\",\"ticks\":\"\",\"title\":{\"standoff\":15},\"zerolinecolor\":\"#283442\",\"zerolinewidth\":2},\"yaxis\":{\"automargin\":true,\"gridcolor\":\"#283442\",\"linecolor\":\"#506784\",\"ticks\":\"\",\"title\":{\"standoff\":15},\"zerolinecolor\":\"#283442\",\"zerolinewidth\":2}}},\"xaxis\":{\"anchor\":\"y\",\"domain\":[0.0,1.0],\"title\":{\"text\":\"variable\"},\"showgrid\":false},\"yaxis\":{\"anchor\":\"x\",\"domain\":[0.0,1.0],\"title\":{\"text\":\"value\"},\"showgrid\":false},\"legend\":{\"tracegroupgap\":0},\"margin\":{\"t\":60},\"boxmode\":\"group\",\"title\":{\"text\":\"Boxplot da coluna RM\"}},                        {\"responsive\": true}                    ).then(function(){\n",
              "                            \n",
              "var gd = document.getElementById('5657b695-1bd4-4f5e-a728-7066825057f7');\n",
              "var x = new MutationObserver(function (mutations, observer) {{\n",
              "        var display = window.getComputedStyle(gd).display;\n",
              "        if (!display || display === 'none') {{\n",
              "            console.log([gd, 'removed!']);\n",
              "            Plotly.purge(gd);\n",
              "            observer.disconnect();\n",
              "        }}\n",
              "}});\n",
              "\n",
              "// Listen for the removal of the full notebook cells\n",
              "var notebookContainer = gd.closest('#notebook-container');\n",
              "if (notebookContainer) {{\n",
              "    x.observe(notebookContainer, {childList: true});\n",
              "}}\n",
              "\n",
              "// Listen for the clearing of the current output cell\n",
              "var outputEl = gd.closest('.output');\n",
              "if (outputEl) {{\n",
              "    x.observe(outputEl, {childList: true});\n",
              "}}\n",
              "\n",
              "                        })                };                            </script>        </div>\n",
              "</body>\n",
              "</html>"
            ]
          },
          "metadata": {}
        },
        {
          "output_type": "stream",
          "name": "stdout",
          "text": [
            "\n",
            " Nome da coluna:\n",
            " LSTAT\n",
            "\n",
            " Tipo da coluna:\n",
            " float64\n",
            "\n",
            " Tipo da coluna:\n",
            "                RM     LSTAT   PTRATIO      MEDV\n",
            "RM       1.000000 -0.612033 -0.304559  0.697209\n",
            "LSTAT   -0.612033  1.000000  0.360445 -0.760670\n",
            "PTRATIO -0.304559  0.360445  1.000000 -0.519034\n",
            "MEDV     0.697209 -0.760670 -0.519034  1.000000\n",
            "\n",
            " Valor media da coluna:\n",
            " 12.94\n",
            "\n",
            " Quantidade de linhas da coluna:\n",
            " (489,)\n",
            "\n",
            " Valores unicos da coluna:\n",
            " 0\n",
            "\n",
            " Valores nulos da coluna:\n",
            " count    489.000000\n",
            "mean      12.939632\n",
            "std        7.081990\n",
            "min        1.980000\n",
            "25%        7.370000\n",
            "50%       11.690000\n",
            "75%       17.120000\n",
            "max       37.970000\n",
            "Name: LSTAT, dtype: float64\n"
          ]
        },
        {
          "output_type": "display_data",
          "data": {
            "text/html": [
              "<html>\n",
              "<head><meta charset=\"utf-8\" /></head>\n",
              "<body>\n",
              "    <div>            <script src=\"https://cdnjs.cloudflare.com/ajax/libs/mathjax/2.7.5/MathJax.js?config=TeX-AMS-MML_SVG\"></script><script type=\"text/javascript\">if (window.MathJax && window.MathJax.Hub && window.MathJax.Hub.Config) {window.MathJax.Hub.Config({SVG: {font: \"STIX-Web\"}});}</script>                <script type=\"text/javascript\">window.PlotlyConfig = {MathJaxConfig: 'local'};</script>\n",
              "        <script charset=\"utf-8\" src=\"https://cdn.plot.ly/plotly-2.24.1.min.js\"></script>                <div id=\"4b1403bb-0778-4169-bb24-4bd81724ee13\" class=\"plotly-graph-div\" style=\"height:525px; width:100%;\"></div>            <script type=\"text/javascript\">                                    window.PLOTLYENV=window.PLOTLYENV || {};                                    if (document.getElementById(\"4b1403bb-0778-4169-bb24-4bd81724ee13\")) {                    Plotly.newPlot(                        \"4b1403bb-0778-4169-bb24-4bd81724ee13\",                        [{\"alignmentgroup\":\"True\",\"hovertemplate\":\"variable=%{x}\\u003cbr\\u003evalue=%{y}\\u003cextra\\u003e\\u003c\\u002fextra\\u003e\",\"legendgroup\":\"\",\"marker\":{\"color\":\"#636efa\"},\"name\":\"\",\"notched\":false,\"offsetgroup\":\"\",\"orientation\":\"v\",\"showlegend\":false,\"x\":[\"LSTAT\",\"LSTAT\",\"LSTAT\",\"LSTAT\",\"LSTAT\",\"LSTAT\",\"LSTAT\",\"LSTAT\",\"LSTAT\",\"LSTAT\",\"LSTAT\",\"LSTAT\",\"LSTAT\",\"LSTAT\",\"LSTAT\",\"LSTAT\",\"LSTAT\",\"LSTAT\",\"LSTAT\",\"LSTAT\",\"LSTAT\",\"LSTAT\",\"LSTAT\",\"LSTAT\",\"LSTAT\",\"LSTAT\",\"LSTAT\",\"LSTAT\",\"LSTAT\",\"LSTAT\",\"LSTAT\",\"LSTAT\",\"LSTAT\",\"LSTAT\",\"LSTAT\",\"LSTAT\",\"LSTAT\",\"LSTAT\",\"LSTAT\",\"LSTAT\",\"LSTAT\",\"LSTAT\",\"LSTAT\",\"LSTAT\",\"LSTAT\",\"LSTAT\",\"LSTAT\",\"LSTAT\",\"LSTAT\",\"LSTAT\",\"LSTAT\",\"LSTAT\",\"LSTAT\",\"LSTAT\",\"LSTAT\",\"LSTAT\",\"LSTAT\",\"LSTAT\",\"LSTAT\",\"LSTAT\",\"LSTAT\",\"LSTAT\",\"LSTAT\",\"LSTAT\",\"LSTAT\",\"LSTAT\",\"LSTAT\",\"LSTAT\",\"LSTAT\",\"LSTAT\",\"LSTAT\",\"LSTAT\",\"LSTAT\",\"LSTAT\",\"LSTAT\",\"LSTAT\",\"LSTAT\",\"LSTAT\",\"LSTAT\",\"LSTAT\",\"LSTAT\",\"LSTAT\",\"LSTAT\",\"LSTAT\",\"LSTAT\",\"LSTAT\",\"LSTAT\",\"LSTAT\",\"LSTAT\",\"LSTAT\",\"LSTAT\",\"LSTAT\",\"LSTAT\",\"LSTAT\",\"LSTAT\",\"LSTAT\",\"LSTAT\",\"LSTAT\",\"LSTAT\",\"LSTAT\",\"LSTAT\",\"LSTAT\",\"LSTAT\",\"LSTAT\",\"LSTAT\",\"LSTAT\",\"LSTAT\",\"LSTAT\",\"LSTAT\",\"LSTAT\",\"LSTAT\",\"LSTAT\",\"LSTAT\",\"LSTAT\",\"LSTAT\",\"LSTAT\",\"LSTAT\",\"LSTAT\",\"LSTAT\",\"LSTAT\",\"LSTAT\",\"LSTAT\",\"LSTAT\",\"LSTAT\",\"LSTAT\",\"LSTAT\",\"LSTAT\",\"LSTAT\",\"LSTAT\",\"LSTAT\",\"LSTAT\",\"LSTAT\",\"LSTAT\",\"LSTAT\",\"LSTAT\",\"LSTAT\",\"LSTAT\",\"LSTAT\",\"LSTAT\",\"LSTAT\",\"LSTAT\",\"LSTAT\",\"LSTAT\",\"LSTAT\",\"LSTAT\",\"LSTAT\",\"LSTAT\",\"LSTAT\",\"LSTAT\",\"LSTAT\",\"LSTAT\",\"LSTAT\",\"LSTAT\",\"LSTAT\",\"LSTAT\",\"LSTAT\",\"LSTAT\",\"LSTAT\",\"LSTAT\",\"LSTAT\",\"LSTAT\",\"LSTAT\",\"LSTAT\",\"LSTAT\",\"LSTAT\",\"LSTAT\",\"LSTAT\",\"LSTAT\",\"LSTAT\",\"LSTAT\",\"LSTAT\",\"LSTAT\",\"LSTAT\",\"LSTAT\",\"LSTAT\",\"LSTAT\",\"LSTAT\",\"LSTAT\",\"LSTAT\",\"LSTAT\",\"LSTAT\",\"LSTAT\",\"LSTAT\",\"LSTAT\",\"LSTAT\",\"LSTAT\",\"LSTAT\",\"LSTAT\",\"LSTAT\",\"LSTAT\",\"LSTAT\",\"LSTAT\",\"LSTAT\",\"LSTAT\",\"LSTAT\",\"LSTAT\",\"LSTAT\",\"LSTAT\",\"LSTAT\",\"LSTAT\",\"LSTAT\",\"LSTAT\",\"LSTAT\",\"LSTAT\",\"LSTAT\",\"LSTAT\",\"LSTAT\",\"LSTAT\",\"LSTAT\",\"LSTAT\",\"LSTAT\",\"LSTAT\",\"LSTAT\",\"LSTAT\",\"LSTAT\",\"LSTAT\",\"LSTAT\",\"LSTAT\",\"LSTAT\",\"LSTAT\",\"LSTAT\",\"LSTAT\",\"LSTAT\",\"LSTAT\",\"LSTAT\",\"LSTAT\",\"LSTAT\",\"LSTAT\",\"LSTAT\",\"LSTAT\",\"LSTAT\",\"LSTAT\",\"LSTAT\",\"LSTAT\",\"LSTAT\",\"LSTAT\",\"LSTAT\",\"LSTAT\",\"LSTAT\",\"LSTAT\",\"LSTAT\",\"LSTAT\",\"LSTAT\",\"LSTAT\",\"LSTAT\",\"LSTAT\",\"LSTAT\",\"LSTAT\",\"LSTAT\",\"LSTAT\",\"LSTAT\",\"LSTAT\",\"LSTAT\",\"LSTAT\",\"LSTAT\",\"LSTAT\",\"LSTAT\",\"LSTAT\",\"LSTAT\",\"LSTAT\",\"LSTAT\",\"LSTAT\",\"LSTAT\",\"LSTAT\",\"LSTAT\",\"LSTAT\",\"LSTAT\",\"LSTAT\",\"LSTAT\",\"LSTAT\",\"LSTAT\",\"LSTAT\",\"LSTAT\",\"LSTAT\",\"LSTAT\",\"LSTAT\",\"LSTAT\",\"LSTAT\",\"LSTAT\",\"LSTAT\",\"LSTAT\",\"LSTAT\",\"LSTAT\",\"LSTAT\",\"LSTAT\",\"LSTAT\",\"LSTAT\",\"LSTAT\",\"LSTAT\",\"LSTAT\",\"LSTAT\",\"LSTAT\",\"LSTAT\",\"LSTAT\",\"LSTAT\",\"LSTAT\",\"LSTAT\",\"LSTAT\",\"LSTAT\",\"LSTAT\",\"LSTAT\",\"LSTAT\",\"LSTAT\",\"LSTAT\",\"LSTAT\",\"LSTAT\",\"LSTAT\",\"LSTAT\",\"LSTAT\",\"LSTAT\",\"LSTAT\",\"LSTAT\",\"LSTAT\",\"LSTAT\",\"LSTAT\",\"LSTAT\",\"LSTAT\",\"LSTAT\",\"LSTAT\",\"LSTAT\",\"LSTAT\",\"LSTAT\",\"LSTAT\",\"LSTAT\",\"LSTAT\",\"LSTAT\",\"LSTAT\",\"LSTAT\",\"LSTAT\",\"LSTAT\",\"LSTAT\",\"LSTAT\",\"LSTAT\",\"LSTAT\",\"LSTAT\",\"LSTAT\",\"LSTAT\",\"LSTAT\",\"LSTAT\",\"LSTAT\",\"LSTAT\",\"LSTAT\",\"LSTAT\",\"LSTAT\",\"LSTAT\",\"LSTAT\",\"LSTAT\",\"LSTAT\",\"LSTAT\",\"LSTAT\",\"LSTAT\",\"LSTAT\",\"LSTAT\",\"LSTAT\",\"LSTAT\",\"LSTAT\",\"LSTAT\",\"LSTAT\",\"LSTAT\",\"LSTAT\",\"LSTAT\",\"LSTAT\",\"LSTAT\",\"LSTAT\",\"LSTAT\",\"LSTAT\",\"LSTAT\",\"LSTAT\",\"LSTAT\",\"LSTAT\",\"LSTAT\",\"LSTAT\",\"LSTAT\",\"LSTAT\",\"LSTAT\",\"LSTAT\",\"LSTAT\",\"LSTAT\",\"LSTAT\",\"LSTAT\",\"LSTAT\",\"LSTAT\",\"LSTAT\",\"LSTAT\",\"LSTAT\",\"LSTAT\",\"LSTAT\",\"LSTAT\",\"LSTAT\",\"LSTAT\",\"LSTAT\",\"LSTAT\",\"LSTAT\",\"LSTAT\",\"LSTAT\",\"LSTAT\",\"LSTAT\",\"LSTAT\",\"LSTAT\",\"LSTAT\",\"LSTAT\",\"LSTAT\",\"LSTAT\",\"LSTAT\",\"LSTAT\",\"LSTAT\",\"LSTAT\",\"LSTAT\",\"LSTAT\",\"LSTAT\",\"LSTAT\",\"LSTAT\",\"LSTAT\",\"LSTAT\",\"LSTAT\",\"LSTAT\",\"LSTAT\",\"LSTAT\",\"LSTAT\",\"LSTAT\",\"LSTAT\",\"LSTAT\",\"LSTAT\",\"LSTAT\",\"LSTAT\",\"LSTAT\",\"LSTAT\",\"LSTAT\",\"LSTAT\",\"LSTAT\",\"LSTAT\",\"LSTAT\",\"LSTAT\",\"LSTAT\",\"LSTAT\",\"LSTAT\",\"LSTAT\",\"LSTAT\",\"LSTAT\",\"LSTAT\",\"LSTAT\",\"LSTAT\",\"LSTAT\",\"LSTAT\",\"LSTAT\",\"LSTAT\",\"LSTAT\",\"LSTAT\",\"LSTAT\",\"LSTAT\",\"LSTAT\",\"LSTAT\",\"LSTAT\",\"LSTAT\",\"LSTAT\",\"LSTAT\",\"LSTAT\",\"LSTAT\",\"LSTAT\",\"LSTAT\",\"LSTAT\",\"LSTAT\",\"LSTAT\",\"LSTAT\",\"LSTAT\",\"LSTAT\",\"LSTAT\",\"LSTAT\",\"LSTAT\",\"LSTAT\",\"LSTAT\",\"LSTAT\",\"LSTAT\",\"LSTAT\",\"LSTAT\",\"LSTAT\",\"LSTAT\",\"LSTAT\",\"LSTAT\",\"LSTAT\",\"LSTAT\",\"LSTAT\",\"LSTAT\",\"LSTAT\",\"LSTAT\",\"LSTAT\",\"LSTAT\",\"LSTAT\",\"LSTAT\"],\"x0\":\" \",\"xaxis\":\"x\",\"y\":[4.98,9.14,4.03,2.94,5.33,5.21,12.43,19.15,29.93,17.1,20.45,13.27,15.71,8.26,10.26,8.47,6.58,14.67,11.69,11.28,21.02,13.83,18.72,19.88,16.3,16.51,14.81,17.28,12.8,11.98,22.6,13.04,27.71,18.35,20.34,9.68,11.41,8.77,10.13,4.32,1.98,4.84,5.81,7.44,9.55,10.21,14.15,18.8,30.81,16.2,13.45,9.43,5.28,8.43,14.8,4.81,5.77,3.95,6.86,9.22,13.15,14.44,6.73,9.5,8.05,4.67,10.24,8.1,13.09,8.79,6.72,9.88,5.52,7.54,6.78,8.94,11.97,10.27,12.34,9.1,5.29,7.22,6.72,7.51,9.62,6.53,12.86,8.44,5.5,5.7,8.81,8.2,8.16,6.21,10.59,6.65,11.34,4.21,3.57,6.19,9.42,7.67,10.63,13.44,12.33,16.47,18.66,14.09,12.27,15.55,13.0,10.16,16.21,17.09,10.45,15.76,12.04,10.3,15.37,13.61,14.37,14.27,17.93,25.41,17.58,14.81,27.26,17.19,15.39,18.34,12.6,12.26,11.12,15.03,17.31,16.96,16.9,14.59,21.32,18.46,24.16,34.41,26.82,26.42,29.29,27.8,16.65,29.53,28.32,21.45,14.1,13.28,12.12,15.79,15.12,15.02,16.14,4.59,6.43,7.39,5.5,11.64,9.81,12.14,11.1,11.32,14.43,12.03,14.69,9.04,9.64,5.33,10.11,6.29,6.92,5.04,7.56,9.45,4.82,5.68,13.98,13.15,6.68,4.56,5.39,5.1,4.69,2.87,5.03,4.38,4.08,8.61,6.62,4.56,4.45,7.43,3.11,3.81,10.87,10.97,18.06,14.66,23.09,17.27,23.98,16.03,9.38,29.55,9.47,13.51,9.69,17.92,10.5,9.71,21.46,9.93,7.6,4.14,3.13,6.36,3.92,3.76,11.65,5.25,2.47,3.95,8.05,10.88,9.54,4.73,6.36,7.37,11.38,12.4,11.22,5.19,12.5,18.46,9.16,10.15,9.52,6.56,5.9,3.59,3.53,3.54,6.57,9.25,3.11,7.79,6.9,9.59,7.26,5.91,11.25,8.1,10.45,14.79,3.16,13.65,13.0,6.59,7.73,6.58,3.53,2.98,6.05,4.16,7.19,4.85,3.76,4.59,3.01,7.85,8.23,12.93,7.14,7.6,9.51,3.33,3.56,4.7,8.58,10.4,6.27,7.39,15.84,4.97,4.74,6.07,9.5,8.67,4.86,6.93,8.93,6.47,7.53,4.54,9.97,12.64,5.98,11.72,7.9,9.28,11.5,18.33,15.94,10.36,12.73,7.2,6.87,7.7,11.74,6.12,5.08,6.15,12.79,9.97,7.34,9.09,12.43,7.83,5.68,6.75,8.01,9.8,10.56,8.51,9.74,9.29,5.49,8.65,7.18,4.61,10.53,12.67,6.36,5.99,5.89,5.98,5.49,7.79,4.5,8.05,5.57,17.6,13.27,11.48,12.67,7.79,14.19,10.19,14.64,7.12,14.0,13.33,34.77,37.97,13.44,23.24,21.24,23.69,21.78,17.21,21.08,23.6,24.56,30.63,30.81,28.28,31.99,30.62,20.85,17.11,18.76,25.68,15.17,16.35,17.12,19.37,19.92,30.59,29.97,26.77,20.32,20.31,19.77,27.38,22.98,23.34,12.13,26.4,19.78,10.11,21.22,34.37,20.08,36.98,29.05,25.79,26.64,20.62,22.74,15.02,15.7,14.1,23.29,17.16,24.39,15.69,14.52,21.52,24.08,17.64,19.69,12.03,16.22,15.17,23.27,18.05,26.45,34.02,22.88,22.11,19.52,16.59,18.85,23.79,23.98,17.79,16.44,18.13,19.31,17.44,17.73,17.27,16.74,18.71,18.13,19.01,16.94,16.23,14.7,16.42,14.65,13.99,10.29,13.22,14.13,17.15,21.32,18.13,14.76,16.29,12.87,14.36,11.66,18.14,24.1,18.68,24.91,18.03,13.11,10.74,7.74,7.01,10.42,13.34,10.58,14.98,11.45,18.06,23.97,29.68,18.07,13.35,12.01,13.59,17.6,21.14,14.1,12.92,15.1,14.33,9.67,9.08,5.64,6.48,7.88],\"y0\":\" \",\"yaxis\":\"y\",\"type\":\"box\"}],                        {\"template\":{\"data\":{\"barpolar\":[{\"marker\":{\"line\":{\"color\":\"rgb(17,17,17)\",\"width\":0.5},\"pattern\":{\"fillmode\":\"overlay\",\"size\":10,\"solidity\":0.2}},\"type\":\"barpolar\"}],\"bar\":[{\"error_x\":{\"color\":\"#f2f5fa\"},\"error_y\":{\"color\":\"#f2f5fa\"},\"marker\":{\"line\":{\"color\":\"rgb(17,17,17)\",\"width\":0.5},\"pattern\":{\"fillmode\":\"overlay\",\"size\":10,\"solidity\":0.2}},\"type\":\"bar\"}],\"carpet\":[{\"aaxis\":{\"endlinecolor\":\"#A2B1C6\",\"gridcolor\":\"#506784\",\"linecolor\":\"#506784\",\"minorgridcolor\":\"#506784\",\"startlinecolor\":\"#A2B1C6\"},\"baxis\":{\"endlinecolor\":\"#A2B1C6\",\"gridcolor\":\"#506784\",\"linecolor\":\"#506784\",\"minorgridcolor\":\"#506784\",\"startlinecolor\":\"#A2B1C6\"},\"type\":\"carpet\"}],\"choropleth\":[{\"colorbar\":{\"outlinewidth\":0,\"ticks\":\"\"},\"type\":\"choropleth\"}],\"contourcarpet\":[{\"colorbar\":{\"outlinewidth\":0,\"ticks\":\"\"},\"type\":\"contourcarpet\"}],\"contour\":[{\"colorbar\":{\"outlinewidth\":0,\"ticks\":\"\"},\"colorscale\":[[0.0,\"#0d0887\"],[0.1111111111111111,\"#46039f\"],[0.2222222222222222,\"#7201a8\"],[0.3333333333333333,\"#9c179e\"],[0.4444444444444444,\"#bd3786\"],[0.5555555555555556,\"#d8576b\"],[0.6666666666666666,\"#ed7953\"],[0.7777777777777778,\"#fb9f3a\"],[0.8888888888888888,\"#fdca26\"],[1.0,\"#f0f921\"]],\"type\":\"contour\"}],\"heatmapgl\":[{\"colorbar\":{\"outlinewidth\":0,\"ticks\":\"\"},\"colorscale\":[[0.0,\"#0d0887\"],[0.1111111111111111,\"#46039f\"],[0.2222222222222222,\"#7201a8\"],[0.3333333333333333,\"#9c179e\"],[0.4444444444444444,\"#bd3786\"],[0.5555555555555556,\"#d8576b\"],[0.6666666666666666,\"#ed7953\"],[0.7777777777777778,\"#fb9f3a\"],[0.8888888888888888,\"#fdca26\"],[1.0,\"#f0f921\"]],\"type\":\"heatmapgl\"}],\"heatmap\":[{\"colorbar\":{\"outlinewidth\":0,\"ticks\":\"\"},\"colorscale\":[[0.0,\"#0d0887\"],[0.1111111111111111,\"#46039f\"],[0.2222222222222222,\"#7201a8\"],[0.3333333333333333,\"#9c179e\"],[0.4444444444444444,\"#bd3786\"],[0.5555555555555556,\"#d8576b\"],[0.6666666666666666,\"#ed7953\"],[0.7777777777777778,\"#fb9f3a\"],[0.8888888888888888,\"#fdca26\"],[1.0,\"#f0f921\"]],\"type\":\"heatmap\"}],\"histogram2dcontour\":[{\"colorbar\":{\"outlinewidth\":0,\"ticks\":\"\"},\"colorscale\":[[0.0,\"#0d0887\"],[0.1111111111111111,\"#46039f\"],[0.2222222222222222,\"#7201a8\"],[0.3333333333333333,\"#9c179e\"],[0.4444444444444444,\"#bd3786\"],[0.5555555555555556,\"#d8576b\"],[0.6666666666666666,\"#ed7953\"],[0.7777777777777778,\"#fb9f3a\"],[0.8888888888888888,\"#fdca26\"],[1.0,\"#f0f921\"]],\"type\":\"histogram2dcontour\"}],\"histogram2d\":[{\"colorbar\":{\"outlinewidth\":0,\"ticks\":\"\"},\"colorscale\":[[0.0,\"#0d0887\"],[0.1111111111111111,\"#46039f\"],[0.2222222222222222,\"#7201a8\"],[0.3333333333333333,\"#9c179e\"],[0.4444444444444444,\"#bd3786\"],[0.5555555555555556,\"#d8576b\"],[0.6666666666666666,\"#ed7953\"],[0.7777777777777778,\"#fb9f3a\"],[0.8888888888888888,\"#fdca26\"],[1.0,\"#f0f921\"]],\"type\":\"histogram2d\"}],\"histogram\":[{\"marker\":{\"pattern\":{\"fillmode\":\"overlay\",\"size\":10,\"solidity\":0.2}},\"type\":\"histogram\"}],\"mesh3d\":[{\"colorbar\":{\"outlinewidth\":0,\"ticks\":\"\"},\"type\":\"mesh3d\"}],\"parcoords\":[{\"line\":{\"colorbar\":{\"outlinewidth\":0,\"ticks\":\"\"}},\"type\":\"parcoords\"}],\"pie\":[{\"automargin\":true,\"type\":\"pie\"}],\"scatter3d\":[{\"line\":{\"colorbar\":{\"outlinewidth\":0,\"ticks\":\"\"}},\"marker\":{\"colorbar\":{\"outlinewidth\":0,\"ticks\":\"\"}},\"type\":\"scatter3d\"}],\"scattercarpet\":[{\"marker\":{\"colorbar\":{\"outlinewidth\":0,\"ticks\":\"\"}},\"type\":\"scattercarpet\"}],\"scattergeo\":[{\"marker\":{\"colorbar\":{\"outlinewidth\":0,\"ticks\":\"\"}},\"type\":\"scattergeo\"}],\"scattergl\":[{\"marker\":{\"line\":{\"color\":\"#283442\"}},\"type\":\"scattergl\"}],\"scattermapbox\":[{\"marker\":{\"colorbar\":{\"outlinewidth\":0,\"ticks\":\"\"}},\"type\":\"scattermapbox\"}],\"scatterpolargl\":[{\"marker\":{\"colorbar\":{\"outlinewidth\":0,\"ticks\":\"\"}},\"type\":\"scatterpolargl\"}],\"scatterpolar\":[{\"marker\":{\"colorbar\":{\"outlinewidth\":0,\"ticks\":\"\"}},\"type\":\"scatterpolar\"}],\"scatter\":[{\"marker\":{\"line\":{\"color\":\"#283442\"}},\"type\":\"scatter\"}],\"scatterternary\":[{\"marker\":{\"colorbar\":{\"outlinewidth\":0,\"ticks\":\"\"}},\"type\":\"scatterternary\"}],\"surface\":[{\"colorbar\":{\"outlinewidth\":0,\"ticks\":\"\"},\"colorscale\":[[0.0,\"#0d0887\"],[0.1111111111111111,\"#46039f\"],[0.2222222222222222,\"#7201a8\"],[0.3333333333333333,\"#9c179e\"],[0.4444444444444444,\"#bd3786\"],[0.5555555555555556,\"#d8576b\"],[0.6666666666666666,\"#ed7953\"],[0.7777777777777778,\"#fb9f3a\"],[0.8888888888888888,\"#fdca26\"],[1.0,\"#f0f921\"]],\"type\":\"surface\"}],\"table\":[{\"cells\":{\"fill\":{\"color\":\"#506784\"},\"line\":{\"color\":\"rgb(17,17,17)\"}},\"header\":{\"fill\":{\"color\":\"#2a3f5f\"},\"line\":{\"color\":\"rgb(17,17,17)\"}},\"type\":\"table\"}]},\"layout\":{\"annotationdefaults\":{\"arrowcolor\":\"#f2f5fa\",\"arrowhead\":0,\"arrowwidth\":1},\"autotypenumbers\":\"strict\",\"coloraxis\":{\"colorbar\":{\"outlinewidth\":0,\"ticks\":\"\"}},\"colorscale\":{\"diverging\":[[0,\"#8e0152\"],[0.1,\"#c51b7d\"],[0.2,\"#de77ae\"],[0.3,\"#f1b6da\"],[0.4,\"#fde0ef\"],[0.5,\"#f7f7f7\"],[0.6,\"#e6f5d0\"],[0.7,\"#b8e186\"],[0.8,\"#7fbc41\"],[0.9,\"#4d9221\"],[1,\"#276419\"]],\"sequential\":[[0.0,\"#0d0887\"],[0.1111111111111111,\"#46039f\"],[0.2222222222222222,\"#7201a8\"],[0.3333333333333333,\"#9c179e\"],[0.4444444444444444,\"#bd3786\"],[0.5555555555555556,\"#d8576b\"],[0.6666666666666666,\"#ed7953\"],[0.7777777777777778,\"#fb9f3a\"],[0.8888888888888888,\"#fdca26\"],[1.0,\"#f0f921\"]],\"sequentialminus\":[[0.0,\"#0d0887\"],[0.1111111111111111,\"#46039f\"],[0.2222222222222222,\"#7201a8\"],[0.3333333333333333,\"#9c179e\"],[0.4444444444444444,\"#bd3786\"],[0.5555555555555556,\"#d8576b\"],[0.6666666666666666,\"#ed7953\"],[0.7777777777777778,\"#fb9f3a\"],[0.8888888888888888,\"#fdca26\"],[1.0,\"#f0f921\"]]},\"colorway\":[\"#636efa\",\"#EF553B\",\"#00cc96\",\"#ab63fa\",\"#FFA15A\",\"#19d3f3\",\"#FF6692\",\"#B6E880\",\"#FF97FF\",\"#FECB52\"],\"font\":{\"color\":\"#f2f5fa\"},\"geo\":{\"bgcolor\":\"rgb(17,17,17)\",\"lakecolor\":\"rgb(17,17,17)\",\"landcolor\":\"rgb(17,17,17)\",\"showlakes\":true,\"showland\":true,\"subunitcolor\":\"#506784\"},\"hoverlabel\":{\"align\":\"left\"},\"hovermode\":\"closest\",\"mapbox\":{\"style\":\"dark\"},\"paper_bgcolor\":\"rgb(17,17,17)\",\"plot_bgcolor\":\"rgb(17,17,17)\",\"polar\":{\"angularaxis\":{\"gridcolor\":\"#506784\",\"linecolor\":\"#506784\",\"ticks\":\"\"},\"bgcolor\":\"rgb(17,17,17)\",\"radialaxis\":{\"gridcolor\":\"#506784\",\"linecolor\":\"#506784\",\"ticks\":\"\"}},\"scene\":{\"xaxis\":{\"backgroundcolor\":\"rgb(17,17,17)\",\"gridcolor\":\"#506784\",\"gridwidth\":2,\"linecolor\":\"#506784\",\"showbackground\":true,\"ticks\":\"\",\"zerolinecolor\":\"#C8D4E3\"},\"yaxis\":{\"backgroundcolor\":\"rgb(17,17,17)\",\"gridcolor\":\"#506784\",\"gridwidth\":2,\"linecolor\":\"#506784\",\"showbackground\":true,\"ticks\":\"\",\"zerolinecolor\":\"#C8D4E3\"},\"zaxis\":{\"backgroundcolor\":\"rgb(17,17,17)\",\"gridcolor\":\"#506784\",\"gridwidth\":2,\"linecolor\":\"#506784\",\"showbackground\":true,\"ticks\":\"\",\"zerolinecolor\":\"#C8D4E3\"}},\"shapedefaults\":{\"line\":{\"color\":\"#f2f5fa\"}},\"sliderdefaults\":{\"bgcolor\":\"#C8D4E3\",\"bordercolor\":\"rgb(17,17,17)\",\"borderwidth\":1,\"tickwidth\":0},\"ternary\":{\"aaxis\":{\"gridcolor\":\"#506784\",\"linecolor\":\"#506784\",\"ticks\":\"\"},\"baxis\":{\"gridcolor\":\"#506784\",\"linecolor\":\"#506784\",\"ticks\":\"\"},\"bgcolor\":\"rgb(17,17,17)\",\"caxis\":{\"gridcolor\":\"#506784\",\"linecolor\":\"#506784\",\"ticks\":\"\"}},\"title\":{\"x\":0.05},\"updatemenudefaults\":{\"bgcolor\":\"#506784\",\"borderwidth\":0},\"xaxis\":{\"automargin\":true,\"gridcolor\":\"#283442\",\"linecolor\":\"#506784\",\"ticks\":\"\",\"title\":{\"standoff\":15},\"zerolinecolor\":\"#283442\",\"zerolinewidth\":2},\"yaxis\":{\"automargin\":true,\"gridcolor\":\"#283442\",\"linecolor\":\"#506784\",\"ticks\":\"\",\"title\":{\"standoff\":15},\"zerolinecolor\":\"#283442\",\"zerolinewidth\":2}}},\"xaxis\":{\"anchor\":\"y\",\"domain\":[0.0,1.0],\"title\":{\"text\":\"variable\"},\"showgrid\":false},\"yaxis\":{\"anchor\":\"x\",\"domain\":[0.0,1.0],\"title\":{\"text\":\"value\"},\"showgrid\":false},\"legend\":{\"tracegroupgap\":0},\"margin\":{\"t\":60},\"boxmode\":\"group\",\"title\":{\"text\":\"Boxplot da coluna LSTAT\"}},                        {\"responsive\": true}                    ).then(function(){\n",
              "                            \n",
              "var gd = document.getElementById('4b1403bb-0778-4169-bb24-4bd81724ee13');\n",
              "var x = new MutationObserver(function (mutations, observer) {{\n",
              "        var display = window.getComputedStyle(gd).display;\n",
              "        if (!display || display === 'none') {{\n",
              "            console.log([gd, 'removed!']);\n",
              "            Plotly.purge(gd);\n",
              "            observer.disconnect();\n",
              "        }}\n",
              "}});\n",
              "\n",
              "// Listen for the removal of the full notebook cells\n",
              "var notebookContainer = gd.closest('#notebook-container');\n",
              "if (notebookContainer) {{\n",
              "    x.observe(notebookContainer, {childList: true});\n",
              "}}\n",
              "\n",
              "// Listen for the clearing of the current output cell\n",
              "var outputEl = gd.closest('.output');\n",
              "if (outputEl) {{\n",
              "    x.observe(outputEl, {childList: true});\n",
              "}}\n",
              "\n",
              "                        })                };                            </script>        </div>\n",
              "</body>\n",
              "</html>"
            ]
          },
          "metadata": {}
        },
        {
          "output_type": "stream",
          "name": "stdout",
          "text": [
            "\n",
            " Nome da coluna:\n",
            " PTRATIO\n",
            "\n",
            " Tipo da coluna:\n",
            " float64\n",
            "\n",
            " Tipo da coluna:\n",
            "                RM     LSTAT   PTRATIO      MEDV\n",
            "RM       1.000000 -0.612033 -0.304559  0.697209\n",
            "LSTAT   -0.612033  1.000000  0.360445 -0.760670\n",
            "PTRATIO -0.304559  0.360445  1.000000 -0.519034\n",
            "MEDV     0.697209 -0.760670 -0.519034  1.000000\n",
            "\n",
            " Valor media da coluna:\n",
            " 18.52\n",
            "\n",
            " Quantidade de linhas da coluna:\n",
            " (489,)\n",
            "\n",
            " Valores unicos da coluna:\n",
            " 0\n",
            "\n",
            " Valores nulos da coluna:\n",
            " count    489.000000\n",
            "mean      18.516564\n",
            "std        2.111268\n",
            "min       12.600000\n",
            "25%       17.400000\n",
            "50%       19.100000\n",
            "75%       20.200000\n",
            "max       22.000000\n",
            "Name: PTRATIO, dtype: float64\n"
          ]
        },
        {
          "output_type": "display_data",
          "data": {
            "text/html": [
              "<html>\n",
              "<head><meta charset=\"utf-8\" /></head>\n",
              "<body>\n",
              "    <div>            <script src=\"https://cdnjs.cloudflare.com/ajax/libs/mathjax/2.7.5/MathJax.js?config=TeX-AMS-MML_SVG\"></script><script type=\"text/javascript\">if (window.MathJax && window.MathJax.Hub && window.MathJax.Hub.Config) {window.MathJax.Hub.Config({SVG: {font: \"STIX-Web\"}});}</script>                <script type=\"text/javascript\">window.PlotlyConfig = {MathJaxConfig: 'local'};</script>\n",
              "        <script charset=\"utf-8\" src=\"https://cdn.plot.ly/plotly-2.24.1.min.js\"></script>                <div id=\"74804bde-f014-45b1-aac3-27a72213d2a2\" class=\"plotly-graph-div\" style=\"height:525px; width:100%;\"></div>            <script type=\"text/javascript\">                                    window.PLOTLYENV=window.PLOTLYENV || {};                                    if (document.getElementById(\"74804bde-f014-45b1-aac3-27a72213d2a2\")) {                    Plotly.newPlot(                        \"74804bde-f014-45b1-aac3-27a72213d2a2\",                        [{\"alignmentgroup\":\"True\",\"hovertemplate\":\"variable=%{x}\\u003cbr\\u003evalue=%{y}\\u003cextra\\u003e\\u003c\\u002fextra\\u003e\",\"legendgroup\":\"\",\"marker\":{\"color\":\"#636efa\"},\"name\":\"\",\"notched\":false,\"offsetgroup\":\"\",\"orientation\":\"v\",\"showlegend\":false,\"x\":[\"PTRATIO\",\"PTRATIO\",\"PTRATIO\",\"PTRATIO\",\"PTRATIO\",\"PTRATIO\",\"PTRATIO\",\"PTRATIO\",\"PTRATIO\",\"PTRATIO\",\"PTRATIO\",\"PTRATIO\",\"PTRATIO\",\"PTRATIO\",\"PTRATIO\",\"PTRATIO\",\"PTRATIO\",\"PTRATIO\",\"PTRATIO\",\"PTRATIO\",\"PTRATIO\",\"PTRATIO\",\"PTRATIO\",\"PTRATIO\",\"PTRATIO\",\"PTRATIO\",\"PTRATIO\",\"PTRATIO\",\"PTRATIO\",\"PTRATIO\",\"PTRATIO\",\"PTRATIO\",\"PTRATIO\",\"PTRATIO\",\"PTRATIO\",\"PTRATIO\",\"PTRATIO\",\"PTRATIO\",\"PTRATIO\",\"PTRATIO\",\"PTRATIO\",\"PTRATIO\",\"PTRATIO\",\"PTRATIO\",\"PTRATIO\",\"PTRATIO\",\"PTRATIO\",\"PTRATIO\",\"PTRATIO\",\"PTRATIO\",\"PTRATIO\",\"PTRATIO\",\"PTRATIO\",\"PTRATIO\",\"PTRATIO\",\"PTRATIO\",\"PTRATIO\",\"PTRATIO\",\"PTRATIO\",\"PTRATIO\",\"PTRATIO\",\"PTRATIO\",\"PTRATIO\",\"PTRATIO\",\"PTRATIO\",\"PTRATIO\",\"PTRATIO\",\"PTRATIO\",\"PTRATIO\",\"PTRATIO\",\"PTRATIO\",\"PTRATIO\",\"PTRATIO\",\"PTRATIO\",\"PTRATIO\",\"PTRATIO\",\"PTRATIO\",\"PTRATIO\",\"PTRATIO\",\"PTRATIO\",\"PTRATIO\",\"PTRATIO\",\"PTRATIO\",\"PTRATIO\",\"PTRATIO\",\"PTRATIO\",\"PTRATIO\",\"PTRATIO\",\"PTRATIO\",\"PTRATIO\",\"PTRATIO\",\"PTRATIO\",\"PTRATIO\",\"PTRATIO\",\"PTRATIO\",\"PTRATIO\",\"PTRATIO\",\"PTRATIO\",\"PTRATIO\",\"PTRATIO\",\"PTRATIO\",\"PTRATIO\",\"PTRATIO\",\"PTRATIO\",\"PTRATIO\",\"PTRATIO\",\"PTRATIO\",\"PTRATIO\",\"PTRATIO\",\"PTRATIO\",\"PTRATIO\",\"PTRATIO\",\"PTRATIO\",\"PTRATIO\",\"PTRATIO\",\"PTRATIO\",\"PTRATIO\",\"PTRATIO\",\"PTRATIO\",\"PTRATIO\",\"PTRATIO\",\"PTRATIO\",\"PTRATIO\",\"PTRATIO\",\"PTRATIO\",\"PTRATIO\",\"PTRATIO\",\"PTRATIO\",\"PTRATIO\",\"PTRATIO\",\"PTRATIO\",\"PTRATIO\",\"PTRATIO\",\"PTRATIO\",\"PTRATIO\",\"PTRATIO\",\"PTRATIO\",\"PTRATIO\",\"PTRATIO\",\"PTRATIO\",\"PTRATIO\",\"PTRATIO\",\"PTRATIO\",\"PTRATIO\",\"PTRATIO\",\"PTRATIO\",\"PTRATIO\",\"PTRATIO\",\"PTRATIO\",\"PTRATIO\",\"PTRATIO\",\"PTRATIO\",\"PTRATIO\",\"PTRATIO\",\"PTRATIO\",\"PTRATIO\",\"PTRATIO\",\"PTRATIO\",\"PTRATIO\",\"PTRATIO\",\"PTRATIO\",\"PTRATIO\",\"PTRATIO\",\"PTRATIO\",\"PTRATIO\",\"PTRATIO\",\"PTRATIO\",\"PTRATIO\",\"PTRATIO\",\"PTRATIO\",\"PTRATIO\",\"PTRATIO\",\"PTRATIO\",\"PTRATIO\",\"PTRATIO\",\"PTRATIO\",\"PTRATIO\",\"PTRATIO\",\"PTRATIO\",\"PTRATIO\",\"PTRATIO\",\"PTRATIO\",\"PTRATIO\",\"PTRATIO\",\"PTRATIO\",\"PTRATIO\",\"PTRATIO\",\"PTRATIO\",\"PTRATIO\",\"PTRATIO\",\"PTRATIO\",\"PTRATIO\",\"PTRATIO\",\"PTRATIO\",\"PTRATIO\",\"PTRATIO\",\"PTRATIO\",\"PTRATIO\",\"PTRATIO\",\"PTRATIO\",\"PTRATIO\",\"PTRATIO\",\"PTRATIO\",\"PTRATIO\",\"PTRATIO\",\"PTRATIO\",\"PTRATIO\",\"PTRATIO\",\"PTRATIO\",\"PTRATIO\",\"PTRATIO\",\"PTRATIO\",\"PTRATIO\",\"PTRATIO\",\"PTRATIO\",\"PTRATIO\",\"PTRATIO\",\"PTRATIO\",\"PTRATIO\",\"PTRATIO\",\"PTRATIO\",\"PTRATIO\",\"PTRATIO\",\"PTRATIO\",\"PTRATIO\",\"PTRATIO\",\"PTRATIO\",\"PTRATIO\",\"PTRATIO\",\"PTRATIO\",\"PTRATIO\",\"PTRATIO\",\"PTRATIO\",\"PTRATIO\",\"PTRATIO\",\"PTRATIO\",\"PTRATIO\",\"PTRATIO\",\"PTRATIO\",\"PTRATIO\",\"PTRATIO\",\"PTRATIO\",\"PTRATIO\",\"PTRATIO\",\"PTRATIO\",\"PTRATIO\",\"PTRATIO\",\"PTRATIO\",\"PTRATIO\",\"PTRATIO\",\"PTRATIO\",\"PTRATIO\",\"PTRATIO\",\"PTRATIO\",\"PTRATIO\",\"PTRATIO\",\"PTRATIO\",\"PTRATIO\",\"PTRATIO\",\"PTRATIO\",\"PTRATIO\",\"PTRATIO\",\"PTRATIO\",\"PTRATIO\",\"PTRATIO\",\"PTRATIO\",\"PTRATIO\",\"PTRATIO\",\"PTRATIO\",\"PTRATIO\",\"PTRATIO\",\"PTRATIO\",\"PTRATIO\",\"PTRATIO\",\"PTRATIO\",\"PTRATIO\",\"PTRATIO\",\"PTRATIO\",\"PTRATIO\",\"PTRATIO\",\"PTRATIO\",\"PTRATIO\",\"PTRATIO\",\"PTRATIO\",\"PTRATIO\",\"PTRATIO\",\"PTRATIO\",\"PTRATIO\",\"PTRATIO\",\"PTRATIO\",\"PTRATIO\",\"PTRATIO\",\"PTRATIO\",\"PTRATIO\",\"PTRATIO\",\"PTRATIO\",\"PTRATIO\",\"PTRATIO\",\"PTRATIO\",\"PTRATIO\",\"PTRATIO\",\"PTRATIO\",\"PTRATIO\",\"PTRATIO\",\"PTRATIO\",\"PTRATIO\",\"PTRATIO\",\"PTRATIO\",\"PTRATIO\",\"PTRATIO\",\"PTRATIO\",\"PTRATIO\",\"PTRATIO\",\"PTRATIO\",\"PTRATIO\",\"PTRATIO\",\"PTRATIO\",\"PTRATIO\",\"PTRATIO\",\"PTRATIO\",\"PTRATIO\",\"PTRATIO\",\"PTRATIO\",\"PTRATIO\",\"PTRATIO\",\"PTRATIO\",\"PTRATIO\",\"PTRATIO\",\"PTRATIO\",\"PTRATIO\",\"PTRATIO\",\"PTRATIO\",\"PTRATIO\",\"PTRATIO\",\"PTRATIO\",\"PTRATIO\",\"PTRATIO\",\"PTRATIO\",\"PTRATIO\",\"PTRATIO\",\"PTRATIO\",\"PTRATIO\",\"PTRATIO\",\"PTRATIO\",\"PTRATIO\",\"PTRATIO\",\"PTRATIO\",\"PTRATIO\",\"PTRATIO\",\"PTRATIO\",\"PTRATIO\",\"PTRATIO\",\"PTRATIO\",\"PTRATIO\",\"PTRATIO\",\"PTRATIO\",\"PTRATIO\",\"PTRATIO\",\"PTRATIO\",\"PTRATIO\",\"PTRATIO\",\"PTRATIO\",\"PTRATIO\",\"PTRATIO\",\"PTRATIO\",\"PTRATIO\",\"PTRATIO\",\"PTRATIO\",\"PTRATIO\",\"PTRATIO\",\"PTRATIO\",\"PTRATIO\",\"PTRATIO\",\"PTRATIO\",\"PTRATIO\",\"PTRATIO\",\"PTRATIO\",\"PTRATIO\",\"PTRATIO\",\"PTRATIO\",\"PTRATIO\",\"PTRATIO\",\"PTRATIO\",\"PTRATIO\",\"PTRATIO\",\"PTRATIO\",\"PTRATIO\",\"PTRATIO\",\"PTRATIO\",\"PTRATIO\",\"PTRATIO\",\"PTRATIO\",\"PTRATIO\",\"PTRATIO\",\"PTRATIO\",\"PTRATIO\",\"PTRATIO\",\"PTRATIO\",\"PTRATIO\",\"PTRATIO\",\"PTRATIO\",\"PTRATIO\",\"PTRATIO\",\"PTRATIO\",\"PTRATIO\",\"PTRATIO\",\"PTRATIO\",\"PTRATIO\",\"PTRATIO\",\"PTRATIO\",\"PTRATIO\",\"PTRATIO\",\"PTRATIO\",\"PTRATIO\",\"PTRATIO\",\"PTRATIO\",\"PTRATIO\",\"PTRATIO\",\"PTRATIO\",\"PTRATIO\",\"PTRATIO\",\"PTRATIO\",\"PTRATIO\",\"PTRATIO\",\"PTRATIO\",\"PTRATIO\",\"PTRATIO\",\"PTRATIO\",\"PTRATIO\",\"PTRATIO\",\"PTRATIO\",\"PTRATIO\",\"PTRATIO\",\"PTRATIO\",\"PTRATIO\",\"PTRATIO\",\"PTRATIO\",\"PTRATIO\",\"PTRATIO\",\"PTRATIO\",\"PTRATIO\",\"PTRATIO\",\"PTRATIO\",\"PTRATIO\",\"PTRATIO\",\"PTRATIO\",\"PTRATIO\",\"PTRATIO\",\"PTRATIO\",\"PTRATIO\",\"PTRATIO\",\"PTRATIO\",\"PTRATIO\",\"PTRATIO\",\"PTRATIO\",\"PTRATIO\",\"PTRATIO\",\"PTRATIO\",\"PTRATIO\",\"PTRATIO\",\"PTRATIO\",\"PTRATIO\",\"PTRATIO\",\"PTRATIO\",\"PTRATIO\",\"PTRATIO\",\"PTRATIO\",\"PTRATIO\",\"PTRATIO\",\"PTRATIO\",\"PTRATIO\",\"PTRATIO\",\"PTRATIO\",\"PTRATIO\",\"PTRATIO\",\"PTRATIO\",\"PTRATIO\",\"PTRATIO\",\"PTRATIO\",\"PTRATIO\",\"PTRATIO\",\"PTRATIO\",\"PTRATIO\",\"PTRATIO\",\"PTRATIO\",\"PTRATIO\",\"PTRATIO\",\"PTRATIO\",\"PTRATIO\"],\"x0\":\" \",\"xaxis\":\"x\",\"y\":[15.3,17.8,17.8,18.7,18.7,18.7,15.2,15.2,15.2,15.2,15.2,15.2,15.2,21.0,21.0,21.0,21.0,21.0,21.0,21.0,21.0,21.0,21.0,21.0,21.0,21.0,21.0,21.0,21.0,21.0,21.0,21.0,21.0,21.0,21.0,19.2,19.2,19.2,19.2,18.3,18.3,17.9,17.9,17.9,17.9,17.9,17.9,17.9,17.9,17.9,16.8,16.8,16.8,16.8,21.1,17.9,17.3,15.1,19.7,19.7,19.7,19.7,19.7,19.7,18.6,16.1,16.1,18.9,18.9,18.9,19.2,19.2,19.2,19.2,18.7,18.7,18.7,18.7,18.7,18.7,19.0,19.0,19.0,19.0,18.5,18.5,18.5,18.5,17.8,17.8,17.8,17.8,18.2,18.2,18.2,18.0,18.0,18.0,18.0,18.0,20.9,20.9,20.9,20.9,20.9,20.9,20.9,20.9,20.9,20.9,20.9,17.8,17.8,17.8,17.8,17.8,17.8,17.8,17.8,17.8,19.1,19.1,19.1,19.1,19.1,19.1,19.1,21.2,21.2,21.2,21.2,21.2,21.2,21.2,21.2,21.2,21.2,21.2,21.2,21.2,21.2,21.2,14.7,14.7,14.7,14.7,14.7,14.7,14.7,14.7,14.7,14.7,14.7,14.7,14.7,14.7,14.7,14.7,14.7,14.7,14.7,14.7,14.7,14.7,14.7,14.7,14.7,14.7,16.6,16.6,16.6,16.6,16.6,16.6,16.6,17.8,17.8,17.8,17.8,17.8,17.8,17.8,15.2,15.2,15.2,15.2,15.2,15.2,15.6,15.6,12.6,12.6,12.6,17.0,17.0,14.7,14.7,14.7,18.6,18.6,18.6,18.6,18.6,18.6,18.6,18.6,18.6,18.6,18.6,16.4,16.4,16.4,16.4,17.4,17.4,17.4,17.4,17.4,17.4,17.4,17.4,17.4,17.4,17.4,17.4,17.4,17.4,17.4,17.4,17.4,16.6,16.6,16.6,16.6,16.6,16.6,19.1,19.1,19.1,19.1,19.1,19.1,19.1,19.1,19.1,19.1,16.4,16.4,15.9,13.0,13.0,13.0,13.0,13.0,13.0,13.0,13.0,13.0,13.0,18.6,18.6,18.6,18.6,18.6,17.6,17.6,17.6,17.6,17.6,14.9,14.9,14.9,14.9,15.3,15.3,18.2,16.6,16.6,16.6,19.2,19.2,19.2,16.0,16.0,16.0,16.0,16.0,14.8,14.8,14.8,16.1,16.1,16.1,18.4,18.4,18.4,18.4,18.4,18.4,18.4,18.4,18.4,18.4,18.4,18.4,18.4,18.4,18.4,18.4,19.6,19.6,19.6,19.6,19.6,19.6,19.6,19.6,16.9,16.9,16.9,16.9,16.9,20.2,20.2,20.2,20.2,20.2,20.2,20.2,20.2,15.5,15.9,17.6,17.6,18.8,18.8,17.9,17.0,19.7,19.7,18.3,18.3,17.0,22.0,22.0,20.2,20.2,20.2,20.2,20.2,20.2,20.2,20.2,20.2,20.2,20.2,20.2,20.2,20.2,20.2,20.2,20.2,20.2,20.2,20.2,20.2,20.2,20.2,20.2,20.2,20.2,20.2,20.2,20.2,20.2,20.2,20.2,20.2,20.2,20.2,20.2,20.2,20.2,20.2,20.2,20.2,20.2,20.2,20.2,20.2,20.2,20.2,20.2,20.2,20.2,20.2,20.2,20.2,20.2,20.2,20.2,20.2,20.2,20.2,20.2,20.2,20.2,20.2,20.2,20.2,20.2,20.2,20.2,20.2,20.2,20.2,20.2,20.2,20.2,20.2,20.2,20.2,20.2,20.2,20.2,20.2,20.2,20.2,20.2,20.2,20.2,20.2,20.2,20.2,20.2,20.2,20.2,20.2,20.2,20.2,20.2,20.2,20.2,20.2,20.2,20.2,20.2,20.2,20.2,20.2,20.2,20.2,20.2,20.2,20.2,20.2,20.2,20.2,20.2,20.2,20.2,20.2,20.2,20.2,20.2,20.2,20.2,20.2,20.2,20.2,20.2,20.1,20.1,20.1,20.1,20.1,19.2,19.2,19.2,19.2,19.2,19.2,19.2,19.2,21.0,21.0,21.0,21.0,21.0],\"y0\":\" \",\"yaxis\":\"y\",\"type\":\"box\"}],                        {\"template\":{\"data\":{\"barpolar\":[{\"marker\":{\"line\":{\"color\":\"rgb(17,17,17)\",\"width\":0.5},\"pattern\":{\"fillmode\":\"overlay\",\"size\":10,\"solidity\":0.2}},\"type\":\"barpolar\"}],\"bar\":[{\"error_x\":{\"color\":\"#f2f5fa\"},\"error_y\":{\"color\":\"#f2f5fa\"},\"marker\":{\"line\":{\"color\":\"rgb(17,17,17)\",\"width\":0.5},\"pattern\":{\"fillmode\":\"overlay\",\"size\":10,\"solidity\":0.2}},\"type\":\"bar\"}],\"carpet\":[{\"aaxis\":{\"endlinecolor\":\"#A2B1C6\",\"gridcolor\":\"#506784\",\"linecolor\":\"#506784\",\"minorgridcolor\":\"#506784\",\"startlinecolor\":\"#A2B1C6\"},\"baxis\":{\"endlinecolor\":\"#A2B1C6\",\"gridcolor\":\"#506784\",\"linecolor\":\"#506784\",\"minorgridcolor\":\"#506784\",\"startlinecolor\":\"#A2B1C6\"},\"type\":\"carpet\"}],\"choropleth\":[{\"colorbar\":{\"outlinewidth\":0,\"ticks\":\"\"},\"type\":\"choropleth\"}],\"contourcarpet\":[{\"colorbar\":{\"outlinewidth\":0,\"ticks\":\"\"},\"type\":\"contourcarpet\"}],\"contour\":[{\"colorbar\":{\"outlinewidth\":0,\"ticks\":\"\"},\"colorscale\":[[0.0,\"#0d0887\"],[0.1111111111111111,\"#46039f\"],[0.2222222222222222,\"#7201a8\"],[0.3333333333333333,\"#9c179e\"],[0.4444444444444444,\"#bd3786\"],[0.5555555555555556,\"#d8576b\"],[0.6666666666666666,\"#ed7953\"],[0.7777777777777778,\"#fb9f3a\"],[0.8888888888888888,\"#fdca26\"],[1.0,\"#f0f921\"]],\"type\":\"contour\"}],\"heatmapgl\":[{\"colorbar\":{\"outlinewidth\":0,\"ticks\":\"\"},\"colorscale\":[[0.0,\"#0d0887\"],[0.1111111111111111,\"#46039f\"],[0.2222222222222222,\"#7201a8\"],[0.3333333333333333,\"#9c179e\"],[0.4444444444444444,\"#bd3786\"],[0.5555555555555556,\"#d8576b\"],[0.6666666666666666,\"#ed7953\"],[0.7777777777777778,\"#fb9f3a\"],[0.8888888888888888,\"#fdca26\"],[1.0,\"#f0f921\"]],\"type\":\"heatmapgl\"}],\"heatmap\":[{\"colorbar\":{\"outlinewidth\":0,\"ticks\":\"\"},\"colorscale\":[[0.0,\"#0d0887\"],[0.1111111111111111,\"#46039f\"],[0.2222222222222222,\"#7201a8\"],[0.3333333333333333,\"#9c179e\"],[0.4444444444444444,\"#bd3786\"],[0.5555555555555556,\"#d8576b\"],[0.6666666666666666,\"#ed7953\"],[0.7777777777777778,\"#fb9f3a\"],[0.8888888888888888,\"#fdca26\"],[1.0,\"#f0f921\"]],\"type\":\"heatmap\"}],\"histogram2dcontour\":[{\"colorbar\":{\"outlinewidth\":0,\"ticks\":\"\"},\"colorscale\":[[0.0,\"#0d0887\"],[0.1111111111111111,\"#46039f\"],[0.2222222222222222,\"#7201a8\"],[0.3333333333333333,\"#9c179e\"],[0.4444444444444444,\"#bd3786\"],[0.5555555555555556,\"#d8576b\"],[0.6666666666666666,\"#ed7953\"],[0.7777777777777778,\"#fb9f3a\"],[0.8888888888888888,\"#fdca26\"],[1.0,\"#f0f921\"]],\"type\":\"histogram2dcontour\"}],\"histogram2d\":[{\"colorbar\":{\"outlinewidth\":0,\"ticks\":\"\"},\"colorscale\":[[0.0,\"#0d0887\"],[0.1111111111111111,\"#46039f\"],[0.2222222222222222,\"#7201a8\"],[0.3333333333333333,\"#9c179e\"],[0.4444444444444444,\"#bd3786\"],[0.5555555555555556,\"#d8576b\"],[0.6666666666666666,\"#ed7953\"],[0.7777777777777778,\"#fb9f3a\"],[0.8888888888888888,\"#fdca26\"],[1.0,\"#f0f921\"]],\"type\":\"histogram2d\"}],\"histogram\":[{\"marker\":{\"pattern\":{\"fillmode\":\"overlay\",\"size\":10,\"solidity\":0.2}},\"type\":\"histogram\"}],\"mesh3d\":[{\"colorbar\":{\"outlinewidth\":0,\"ticks\":\"\"},\"type\":\"mesh3d\"}],\"parcoords\":[{\"line\":{\"colorbar\":{\"outlinewidth\":0,\"ticks\":\"\"}},\"type\":\"parcoords\"}],\"pie\":[{\"automargin\":true,\"type\":\"pie\"}],\"scatter3d\":[{\"line\":{\"colorbar\":{\"outlinewidth\":0,\"ticks\":\"\"}},\"marker\":{\"colorbar\":{\"outlinewidth\":0,\"ticks\":\"\"}},\"type\":\"scatter3d\"}],\"scattercarpet\":[{\"marker\":{\"colorbar\":{\"outlinewidth\":0,\"ticks\":\"\"}},\"type\":\"scattercarpet\"}],\"scattergeo\":[{\"marker\":{\"colorbar\":{\"outlinewidth\":0,\"ticks\":\"\"}},\"type\":\"scattergeo\"}],\"scattergl\":[{\"marker\":{\"line\":{\"color\":\"#283442\"}},\"type\":\"scattergl\"}],\"scattermapbox\":[{\"marker\":{\"colorbar\":{\"outlinewidth\":0,\"ticks\":\"\"}},\"type\":\"scattermapbox\"}],\"scatterpolargl\":[{\"marker\":{\"colorbar\":{\"outlinewidth\":0,\"ticks\":\"\"}},\"type\":\"scatterpolargl\"}],\"scatterpolar\":[{\"marker\":{\"colorbar\":{\"outlinewidth\":0,\"ticks\":\"\"}},\"type\":\"scatterpolar\"}],\"scatter\":[{\"marker\":{\"line\":{\"color\":\"#283442\"}},\"type\":\"scatter\"}],\"scatterternary\":[{\"marker\":{\"colorbar\":{\"outlinewidth\":0,\"ticks\":\"\"}},\"type\":\"scatterternary\"}],\"surface\":[{\"colorbar\":{\"outlinewidth\":0,\"ticks\":\"\"},\"colorscale\":[[0.0,\"#0d0887\"],[0.1111111111111111,\"#46039f\"],[0.2222222222222222,\"#7201a8\"],[0.3333333333333333,\"#9c179e\"],[0.4444444444444444,\"#bd3786\"],[0.5555555555555556,\"#d8576b\"],[0.6666666666666666,\"#ed7953\"],[0.7777777777777778,\"#fb9f3a\"],[0.8888888888888888,\"#fdca26\"],[1.0,\"#f0f921\"]],\"type\":\"surface\"}],\"table\":[{\"cells\":{\"fill\":{\"color\":\"#506784\"},\"line\":{\"color\":\"rgb(17,17,17)\"}},\"header\":{\"fill\":{\"color\":\"#2a3f5f\"},\"line\":{\"color\":\"rgb(17,17,17)\"}},\"type\":\"table\"}]},\"layout\":{\"annotationdefaults\":{\"arrowcolor\":\"#f2f5fa\",\"arrowhead\":0,\"arrowwidth\":1},\"autotypenumbers\":\"strict\",\"coloraxis\":{\"colorbar\":{\"outlinewidth\":0,\"ticks\":\"\"}},\"colorscale\":{\"diverging\":[[0,\"#8e0152\"],[0.1,\"#c51b7d\"],[0.2,\"#de77ae\"],[0.3,\"#f1b6da\"],[0.4,\"#fde0ef\"],[0.5,\"#f7f7f7\"],[0.6,\"#e6f5d0\"],[0.7,\"#b8e186\"],[0.8,\"#7fbc41\"],[0.9,\"#4d9221\"],[1,\"#276419\"]],\"sequential\":[[0.0,\"#0d0887\"],[0.1111111111111111,\"#46039f\"],[0.2222222222222222,\"#7201a8\"],[0.3333333333333333,\"#9c179e\"],[0.4444444444444444,\"#bd3786\"],[0.5555555555555556,\"#d8576b\"],[0.6666666666666666,\"#ed7953\"],[0.7777777777777778,\"#fb9f3a\"],[0.8888888888888888,\"#fdca26\"],[1.0,\"#f0f921\"]],\"sequentialminus\":[[0.0,\"#0d0887\"],[0.1111111111111111,\"#46039f\"],[0.2222222222222222,\"#7201a8\"],[0.3333333333333333,\"#9c179e\"],[0.4444444444444444,\"#bd3786\"],[0.5555555555555556,\"#d8576b\"],[0.6666666666666666,\"#ed7953\"],[0.7777777777777778,\"#fb9f3a\"],[0.8888888888888888,\"#fdca26\"],[1.0,\"#f0f921\"]]},\"colorway\":[\"#636efa\",\"#EF553B\",\"#00cc96\",\"#ab63fa\",\"#FFA15A\",\"#19d3f3\",\"#FF6692\",\"#B6E880\",\"#FF97FF\",\"#FECB52\"],\"font\":{\"color\":\"#f2f5fa\"},\"geo\":{\"bgcolor\":\"rgb(17,17,17)\",\"lakecolor\":\"rgb(17,17,17)\",\"landcolor\":\"rgb(17,17,17)\",\"showlakes\":true,\"showland\":true,\"subunitcolor\":\"#506784\"},\"hoverlabel\":{\"align\":\"left\"},\"hovermode\":\"closest\",\"mapbox\":{\"style\":\"dark\"},\"paper_bgcolor\":\"rgb(17,17,17)\",\"plot_bgcolor\":\"rgb(17,17,17)\",\"polar\":{\"angularaxis\":{\"gridcolor\":\"#506784\",\"linecolor\":\"#506784\",\"ticks\":\"\"},\"bgcolor\":\"rgb(17,17,17)\",\"radialaxis\":{\"gridcolor\":\"#506784\",\"linecolor\":\"#506784\",\"ticks\":\"\"}},\"scene\":{\"xaxis\":{\"backgroundcolor\":\"rgb(17,17,17)\",\"gridcolor\":\"#506784\",\"gridwidth\":2,\"linecolor\":\"#506784\",\"showbackground\":true,\"ticks\":\"\",\"zerolinecolor\":\"#C8D4E3\"},\"yaxis\":{\"backgroundcolor\":\"rgb(17,17,17)\",\"gridcolor\":\"#506784\",\"gridwidth\":2,\"linecolor\":\"#506784\",\"showbackground\":true,\"ticks\":\"\",\"zerolinecolor\":\"#C8D4E3\"},\"zaxis\":{\"backgroundcolor\":\"rgb(17,17,17)\",\"gridcolor\":\"#506784\",\"gridwidth\":2,\"linecolor\":\"#506784\",\"showbackground\":true,\"ticks\":\"\",\"zerolinecolor\":\"#C8D4E3\"}},\"shapedefaults\":{\"line\":{\"color\":\"#f2f5fa\"}},\"sliderdefaults\":{\"bgcolor\":\"#C8D4E3\",\"bordercolor\":\"rgb(17,17,17)\",\"borderwidth\":1,\"tickwidth\":0},\"ternary\":{\"aaxis\":{\"gridcolor\":\"#506784\",\"linecolor\":\"#506784\",\"ticks\":\"\"},\"baxis\":{\"gridcolor\":\"#506784\",\"linecolor\":\"#506784\",\"ticks\":\"\"},\"bgcolor\":\"rgb(17,17,17)\",\"caxis\":{\"gridcolor\":\"#506784\",\"linecolor\":\"#506784\",\"ticks\":\"\"}},\"title\":{\"x\":0.05},\"updatemenudefaults\":{\"bgcolor\":\"#506784\",\"borderwidth\":0},\"xaxis\":{\"automargin\":true,\"gridcolor\":\"#283442\",\"linecolor\":\"#506784\",\"ticks\":\"\",\"title\":{\"standoff\":15},\"zerolinecolor\":\"#283442\",\"zerolinewidth\":2},\"yaxis\":{\"automargin\":true,\"gridcolor\":\"#283442\",\"linecolor\":\"#506784\",\"ticks\":\"\",\"title\":{\"standoff\":15},\"zerolinecolor\":\"#283442\",\"zerolinewidth\":2}}},\"xaxis\":{\"anchor\":\"y\",\"domain\":[0.0,1.0],\"title\":{\"text\":\"variable\"},\"showgrid\":false},\"yaxis\":{\"anchor\":\"x\",\"domain\":[0.0,1.0],\"title\":{\"text\":\"value\"},\"showgrid\":false},\"legend\":{\"tracegroupgap\":0},\"margin\":{\"t\":60},\"boxmode\":\"group\",\"title\":{\"text\":\"Boxplot da coluna PTRATIO\"}},                        {\"responsive\": true}                    ).then(function(){\n",
              "                            \n",
              "var gd = document.getElementById('74804bde-f014-45b1-aac3-27a72213d2a2');\n",
              "var x = new MutationObserver(function (mutations, observer) {{\n",
              "        var display = window.getComputedStyle(gd).display;\n",
              "        if (!display || display === 'none') {{\n",
              "            console.log([gd, 'removed!']);\n",
              "            Plotly.purge(gd);\n",
              "            observer.disconnect();\n",
              "        }}\n",
              "}});\n",
              "\n",
              "// Listen for the removal of the full notebook cells\n",
              "var notebookContainer = gd.closest('#notebook-container');\n",
              "if (notebookContainer) {{\n",
              "    x.observe(notebookContainer, {childList: true});\n",
              "}}\n",
              "\n",
              "// Listen for the clearing of the current output cell\n",
              "var outputEl = gd.closest('.output');\n",
              "if (outputEl) {{\n",
              "    x.observe(outputEl, {childList: true});\n",
              "}}\n",
              "\n",
              "                        })                };                            </script>        </div>\n",
              "</body>\n",
              "</html>"
            ]
          },
          "metadata": {}
        },
        {
          "output_type": "stream",
          "name": "stdout",
          "text": [
            "\n",
            " Nome da coluna:\n",
            " MEDV\n",
            "\n",
            " Tipo da coluna:\n",
            " float64\n",
            "\n",
            " Tipo da coluna:\n",
            "                RM     LSTAT   PTRATIO      MEDV\n",
            "RM       1.000000 -0.612033 -0.304559  0.697209\n",
            "LSTAT   -0.612033  1.000000  0.360445 -0.760670\n",
            "PTRATIO -0.304559  0.360445  1.000000 -0.519034\n",
            "MEDV     0.697209 -0.760670 -0.519034  1.000000\n",
            "\n",
            " Valor media da coluna:\n",
            " 454342.94\n",
            "\n",
            " Quantidade de linhas da coluna:\n",
            " (489,)\n",
            "\n",
            " Valores unicos da coluna:\n",
            " 0\n",
            "\n",
            " Valores nulos da coluna:\n",
            " count    4.890000e+02\n",
            "mean     4.543429e+05\n",
            "std      1.653403e+05\n",
            "min      1.050000e+05\n",
            "25%      3.507000e+05\n",
            "50%      4.389000e+05\n",
            "75%      5.187000e+05\n",
            "max      1.024800e+06\n",
            "Name: MEDV, dtype: float64\n"
          ]
        },
        {
          "output_type": "display_data",
          "data": {
            "text/html": [
              "<html>\n",
              "<head><meta charset=\"utf-8\" /></head>\n",
              "<body>\n",
              "    <div>            <script src=\"https://cdnjs.cloudflare.com/ajax/libs/mathjax/2.7.5/MathJax.js?config=TeX-AMS-MML_SVG\"></script><script type=\"text/javascript\">if (window.MathJax && window.MathJax.Hub && window.MathJax.Hub.Config) {window.MathJax.Hub.Config({SVG: {font: \"STIX-Web\"}});}</script>                <script type=\"text/javascript\">window.PlotlyConfig = {MathJaxConfig: 'local'};</script>\n",
              "        <script charset=\"utf-8\" src=\"https://cdn.plot.ly/plotly-2.24.1.min.js\"></script>                <div id=\"a88be85e-5e9a-4b35-b3f9-e8c29a82fb52\" class=\"plotly-graph-div\" style=\"height:525px; width:100%;\"></div>            <script type=\"text/javascript\">                                    window.PLOTLYENV=window.PLOTLYENV || {};                                    if (document.getElementById(\"a88be85e-5e9a-4b35-b3f9-e8c29a82fb52\")) {                    Plotly.newPlot(                        \"a88be85e-5e9a-4b35-b3f9-e8c29a82fb52\",                        [{\"alignmentgroup\":\"True\",\"hovertemplate\":\"variable=%{x}\\u003cbr\\u003evalue=%{y}\\u003cextra\\u003e\\u003c\\u002fextra\\u003e\",\"legendgroup\":\"\",\"marker\":{\"color\":\"#636efa\"},\"name\":\"\",\"notched\":false,\"offsetgroup\":\"\",\"orientation\":\"v\",\"showlegend\":false,\"x\":[\"MEDV\",\"MEDV\",\"MEDV\",\"MEDV\",\"MEDV\",\"MEDV\",\"MEDV\",\"MEDV\",\"MEDV\",\"MEDV\",\"MEDV\",\"MEDV\",\"MEDV\",\"MEDV\",\"MEDV\",\"MEDV\",\"MEDV\",\"MEDV\",\"MEDV\",\"MEDV\",\"MEDV\",\"MEDV\",\"MEDV\",\"MEDV\",\"MEDV\",\"MEDV\",\"MEDV\",\"MEDV\",\"MEDV\",\"MEDV\",\"MEDV\",\"MEDV\",\"MEDV\",\"MEDV\",\"MEDV\",\"MEDV\",\"MEDV\",\"MEDV\",\"MEDV\",\"MEDV\",\"MEDV\",\"MEDV\",\"MEDV\",\"MEDV\",\"MEDV\",\"MEDV\",\"MEDV\",\"MEDV\",\"MEDV\",\"MEDV\",\"MEDV\",\"MEDV\",\"MEDV\",\"MEDV\",\"MEDV\",\"MEDV\",\"MEDV\",\"MEDV\",\"MEDV\",\"MEDV\",\"MEDV\",\"MEDV\",\"MEDV\",\"MEDV\",\"MEDV\",\"MEDV\",\"MEDV\",\"MEDV\",\"MEDV\",\"MEDV\",\"MEDV\",\"MEDV\",\"MEDV\",\"MEDV\",\"MEDV\",\"MEDV\",\"MEDV\",\"MEDV\",\"MEDV\",\"MEDV\",\"MEDV\",\"MEDV\",\"MEDV\",\"MEDV\",\"MEDV\",\"MEDV\",\"MEDV\",\"MEDV\",\"MEDV\",\"MEDV\",\"MEDV\",\"MEDV\",\"MEDV\",\"MEDV\",\"MEDV\",\"MEDV\",\"MEDV\",\"MEDV\",\"MEDV\",\"MEDV\",\"MEDV\",\"MEDV\",\"MEDV\",\"MEDV\",\"MEDV\",\"MEDV\",\"MEDV\",\"MEDV\",\"MEDV\",\"MEDV\",\"MEDV\",\"MEDV\",\"MEDV\",\"MEDV\",\"MEDV\",\"MEDV\",\"MEDV\",\"MEDV\",\"MEDV\",\"MEDV\",\"MEDV\",\"MEDV\",\"MEDV\",\"MEDV\",\"MEDV\",\"MEDV\",\"MEDV\",\"MEDV\",\"MEDV\",\"MEDV\",\"MEDV\",\"MEDV\",\"MEDV\",\"MEDV\",\"MEDV\",\"MEDV\",\"MEDV\",\"MEDV\",\"MEDV\",\"MEDV\",\"MEDV\",\"MEDV\",\"MEDV\",\"MEDV\",\"MEDV\",\"MEDV\",\"MEDV\",\"MEDV\",\"MEDV\",\"MEDV\",\"MEDV\",\"MEDV\",\"MEDV\",\"MEDV\",\"MEDV\",\"MEDV\",\"MEDV\",\"MEDV\",\"MEDV\",\"MEDV\",\"MEDV\",\"MEDV\",\"MEDV\",\"MEDV\",\"MEDV\",\"MEDV\",\"MEDV\",\"MEDV\",\"MEDV\",\"MEDV\",\"MEDV\",\"MEDV\",\"MEDV\",\"MEDV\",\"MEDV\",\"MEDV\",\"MEDV\",\"MEDV\",\"MEDV\",\"MEDV\",\"MEDV\",\"MEDV\",\"MEDV\",\"MEDV\",\"MEDV\",\"MEDV\",\"MEDV\",\"MEDV\",\"MEDV\",\"MEDV\",\"MEDV\",\"MEDV\",\"MEDV\",\"MEDV\",\"MEDV\",\"MEDV\",\"MEDV\",\"MEDV\",\"MEDV\",\"MEDV\",\"MEDV\",\"MEDV\",\"MEDV\",\"MEDV\",\"MEDV\",\"MEDV\",\"MEDV\",\"MEDV\",\"MEDV\",\"MEDV\",\"MEDV\",\"MEDV\",\"MEDV\",\"MEDV\",\"MEDV\",\"MEDV\",\"MEDV\",\"MEDV\",\"MEDV\",\"MEDV\",\"MEDV\",\"MEDV\",\"MEDV\",\"MEDV\",\"MEDV\",\"MEDV\",\"MEDV\",\"MEDV\",\"MEDV\",\"MEDV\",\"MEDV\",\"MEDV\",\"MEDV\",\"MEDV\",\"MEDV\",\"MEDV\",\"MEDV\",\"MEDV\",\"MEDV\",\"MEDV\",\"MEDV\",\"MEDV\",\"MEDV\",\"MEDV\",\"MEDV\",\"MEDV\",\"MEDV\",\"MEDV\",\"MEDV\",\"MEDV\",\"MEDV\",\"MEDV\",\"MEDV\",\"MEDV\",\"MEDV\",\"MEDV\",\"MEDV\",\"MEDV\",\"MEDV\",\"MEDV\",\"MEDV\",\"MEDV\",\"MEDV\",\"MEDV\",\"MEDV\",\"MEDV\",\"MEDV\",\"MEDV\",\"MEDV\",\"MEDV\",\"MEDV\",\"MEDV\",\"MEDV\",\"MEDV\",\"MEDV\",\"MEDV\",\"MEDV\",\"MEDV\",\"MEDV\",\"MEDV\",\"MEDV\",\"MEDV\",\"MEDV\",\"MEDV\",\"MEDV\",\"MEDV\",\"MEDV\",\"MEDV\",\"MEDV\",\"MEDV\",\"MEDV\",\"MEDV\",\"MEDV\",\"MEDV\",\"MEDV\",\"MEDV\",\"MEDV\",\"MEDV\",\"MEDV\",\"MEDV\",\"MEDV\",\"MEDV\",\"MEDV\",\"MEDV\",\"MEDV\",\"MEDV\",\"MEDV\",\"MEDV\",\"MEDV\",\"MEDV\",\"MEDV\",\"MEDV\",\"MEDV\",\"MEDV\",\"MEDV\",\"MEDV\",\"MEDV\",\"MEDV\",\"MEDV\",\"MEDV\",\"MEDV\",\"MEDV\",\"MEDV\",\"MEDV\",\"MEDV\",\"MEDV\",\"MEDV\",\"MEDV\",\"MEDV\",\"MEDV\",\"MEDV\",\"MEDV\",\"MEDV\",\"MEDV\",\"MEDV\",\"MEDV\",\"MEDV\",\"MEDV\",\"MEDV\",\"MEDV\",\"MEDV\",\"MEDV\",\"MEDV\",\"MEDV\",\"MEDV\",\"MEDV\",\"MEDV\",\"MEDV\",\"MEDV\",\"MEDV\",\"MEDV\",\"MEDV\",\"MEDV\",\"MEDV\",\"MEDV\",\"MEDV\",\"MEDV\",\"MEDV\",\"MEDV\",\"MEDV\",\"MEDV\",\"MEDV\",\"MEDV\",\"MEDV\",\"MEDV\",\"MEDV\",\"MEDV\",\"MEDV\",\"MEDV\",\"MEDV\",\"MEDV\",\"MEDV\",\"MEDV\",\"MEDV\",\"MEDV\",\"MEDV\",\"MEDV\",\"MEDV\",\"MEDV\",\"MEDV\",\"MEDV\",\"MEDV\",\"MEDV\",\"MEDV\",\"MEDV\",\"MEDV\",\"MEDV\",\"MEDV\",\"MEDV\",\"MEDV\",\"MEDV\",\"MEDV\",\"MEDV\",\"MEDV\",\"MEDV\",\"MEDV\",\"MEDV\",\"MEDV\",\"MEDV\",\"MEDV\",\"MEDV\",\"MEDV\",\"MEDV\",\"MEDV\",\"MEDV\",\"MEDV\",\"MEDV\",\"MEDV\",\"MEDV\",\"MEDV\",\"MEDV\",\"MEDV\",\"MEDV\",\"MEDV\",\"MEDV\",\"MEDV\",\"MEDV\",\"MEDV\",\"MEDV\",\"MEDV\",\"MEDV\",\"MEDV\",\"MEDV\",\"MEDV\",\"MEDV\",\"MEDV\",\"MEDV\",\"MEDV\",\"MEDV\",\"MEDV\",\"MEDV\",\"MEDV\",\"MEDV\",\"MEDV\",\"MEDV\",\"MEDV\",\"MEDV\",\"MEDV\",\"MEDV\",\"MEDV\",\"MEDV\",\"MEDV\",\"MEDV\",\"MEDV\",\"MEDV\",\"MEDV\",\"MEDV\",\"MEDV\",\"MEDV\",\"MEDV\",\"MEDV\",\"MEDV\",\"MEDV\",\"MEDV\",\"MEDV\",\"MEDV\",\"MEDV\",\"MEDV\",\"MEDV\",\"MEDV\",\"MEDV\",\"MEDV\",\"MEDV\",\"MEDV\",\"MEDV\",\"MEDV\",\"MEDV\",\"MEDV\",\"MEDV\",\"MEDV\",\"MEDV\",\"MEDV\",\"MEDV\",\"MEDV\",\"MEDV\",\"MEDV\",\"MEDV\",\"MEDV\",\"MEDV\",\"MEDV\",\"MEDV\",\"MEDV\",\"MEDV\",\"MEDV\",\"MEDV\",\"MEDV\",\"MEDV\",\"MEDV\",\"MEDV\"],\"x0\":\" \",\"xaxis\":\"x\",\"y\":[504000.0,453600.0,728700.0,701400.0,760200.0,602700.0,480900.0,569100.0,346500.0,396900.0,315000.0,396900.0,455700.0,428400.0,382200.0,417900.0,485100.0,367500.0,424200.0,382200.0,285600.0,411600.0,319200.0,304500.0,327600.0,291900.0,348600.0,310800.0,386400.0,441000.0,266700.0,304500.0,277200.0,275100.0,283500.0,396900.0,420000.0,441000.0,518700.0,646800.0,732900.0,558600.0,531300.0,518700.0,445200.0,405300.0,420000.0,348600.0,302400.0,407400.0,413700.0,430500.0,525000.0,491400.0,396900.0,743400.0,518700.0,663600.0,489300.0,411600.0,392700.0,336000.0,466200.0,525000.0,693000.0,493500.0,407400.0,462000.0,365400.0,438900.0,508200.0,455700.0,478800.0,491400.0,506100.0,449400.0,420000.0,436800.0,445200.0,426300.0,588000.0,501900.0,520800.0,480900.0,501900.0,558600.0,472500.0,466200.0,495600.0,602700.0,474600.0,462000.0,480900.0,525000.0,432600.0,596400.0,449400.0,812700.0,919800.0,697200.0,577500.0,556500.0,390600.0,405300.0,422100.0,409500.0,409500.0,428400.0,415800.0,407400.0,455700.0,478800.0,394800.0,392700.0,388500.0,384300.0,445200.0,403200.0,428400.0,405300.0,462000.0,426300.0,430500.0,363300.0,394800.0,449400.0,329700.0,340200.0,378000.0,300300.0,403200.0,411600.0,483000.0,386400.0,327600.0,380100.0,365400.0,359100.0,279300.0,373800.0,294000.0,302400.0,281400.0,327600.0,247800.0,289800.0,327600.0,306600.0,373800.0,323400.0,451500.0,411600.0,321300.0,407400.0,357000.0,327600.0,275100.0,867300.0,510300.0,489300.0,567000.0,476700.0,525000.0,499800.0,499800.0,468300.0,365400.0,401100.0,485100.0,495600.0,474600.0,617400.0,487200.0,516600.0,627900.0,781200.0,835800.0,760200.0,795900.0,682500.0,554400.0,621600.0,672000.0,625800.0,732900.0,777000.0,640500.0,764400.0,653100.0,611100.0,699300.0,636300.0,726600.0,732900.0,690900.0,506100.0,888300.0,1018500.0,474600.0,512400.0,472500.0,512400.0,420000.0,455700.0,405300.0,470400.0,590100.0,497700.0,525000.0,489300.0,602700.0,451500.0,483000.0,560700.0,455700.0,577500.0,632100.0,940800.0,789600.0,663600.0,980700.0,661500.0,510300.0,665700.0,875700.0,1014300.0,609000.0,504000.0,527100.0,661500.0,497700.0,489300.0,462000.0,422100.0,466200.0,497700.0,369600.0,388500.0,510300.0,430500.0,514500.0,550200.0,512400.0,520800.0,621600.0,898800.0,459900.0,438900.0,924000.0,756000.0,632100.0,709800.0,905100.0,1024800.0,651000.0,766500.0,478800.0,644700.0,913500.0,434700.0,443100.0,529200.0,512400.0,739200.0,680400.0,672000.0,697200.0,695100.0,611100.0,737100.0,953400.0,743400.0,966000.0,676200.0,462000.0,422100.0,487200.0,468300.0,520800.0,598500.0,783300.0,585900.0,501900.0,455700.0,600600.0,569100.0,426300.0,472500.0,609000.0,520800.0,462000.0,554400.0,695100.0,758100.0,596400.0,701400.0,592200.0,478800.0,426300.0,338100.0,464100.0,407400.0,453600.0,499800.0,340200.0,373800.0,415800.0,485100.0,441000.0,499800.0,485100.0,428400.0,388500.0,525000.0,516600.0,483000.0,466200.0,405300.0,474600.0,415800.0,359100.0,407400.0,466200.0,434700.0,443100.0,409500.0,388500.0,432600.0,399000.0,392700.0,686700.0,346500.0,501900.0,655200.0,367500.0,361200.0,485100.0,514500.0,558600.0,480900.0,506100.0,390600.0,632100.0,382200.0,432600.0,373800.0,455700.0,476700.0,474600.0,525000.0,417900.0,436800.0,352800.0,577500.0,459900.0,485100.0,289800.0,289800.0,315000.0,291900.0,279300.0,275100.0,214200.0,218400.0,228900.0,237300.0,258300.0,184800.0,151200.0,220500.0,155400.0,214200.0,241500.0,317100.0,487200.0,203700.0,289800.0,266700.0,275100.0,262500.0,178500.0,105000.0,132300.0,117600.0,151200.0,254100.0,174300.0,178500.0,105000.0,249900.0,585900.0,361200.0,577500.0,315000.0,361200.0,375900.0,342300.0,147000.0,151200.0,157500.0,218400.0,184800.0,176400.0,350700.0,298200.0,436800.0,281400.0,245700.0,174300.0,214200.0,228900.0,231000.0,199500.0,304500.0,296100.0,338100.0,300300.0,245700.0,281400.0,201600.0,182700.0,176400.0,268800.0,220500.0,359100.0,386400.0,323400.0,226800.0,247800.0,312900.0,264600.0,296100.0,273000.0,281400.0,319200.0,338100.0,373800.0,312900.0,296100.0,266700.0,283500.0,312900.0,420000.0,344400.0,371700.0,409500.0,424200.0,449400.0,417900.0,399000.0,401100.0,401100.0,422100.0,417900.0,411600.0,487200.0,625800.0,289800.0,279300.0,350700.0,252000.0,306600.0,449400.0,483000.0,497700.0,525000.0,457800.0,432600.0,445200.0,401100.0,432600.0,319200.0,147000.0,170100.0,285600.0,422100.0,457800.0,514500.0,485100.0,413700.0,384300.0,445200.0,367500.0,352800.0,470400.0,432600.0,501900.0,462000.0,249900.0],\"y0\":\" \",\"yaxis\":\"y\",\"type\":\"box\"}],                        {\"template\":{\"data\":{\"barpolar\":[{\"marker\":{\"line\":{\"color\":\"rgb(17,17,17)\",\"width\":0.5},\"pattern\":{\"fillmode\":\"overlay\",\"size\":10,\"solidity\":0.2}},\"type\":\"barpolar\"}],\"bar\":[{\"error_x\":{\"color\":\"#f2f5fa\"},\"error_y\":{\"color\":\"#f2f5fa\"},\"marker\":{\"line\":{\"color\":\"rgb(17,17,17)\",\"width\":0.5},\"pattern\":{\"fillmode\":\"overlay\",\"size\":10,\"solidity\":0.2}},\"type\":\"bar\"}],\"carpet\":[{\"aaxis\":{\"endlinecolor\":\"#A2B1C6\",\"gridcolor\":\"#506784\",\"linecolor\":\"#506784\",\"minorgridcolor\":\"#506784\",\"startlinecolor\":\"#A2B1C6\"},\"baxis\":{\"endlinecolor\":\"#A2B1C6\",\"gridcolor\":\"#506784\",\"linecolor\":\"#506784\",\"minorgridcolor\":\"#506784\",\"startlinecolor\":\"#A2B1C6\"},\"type\":\"carpet\"}],\"choropleth\":[{\"colorbar\":{\"outlinewidth\":0,\"ticks\":\"\"},\"type\":\"choropleth\"}],\"contourcarpet\":[{\"colorbar\":{\"outlinewidth\":0,\"ticks\":\"\"},\"type\":\"contourcarpet\"}],\"contour\":[{\"colorbar\":{\"outlinewidth\":0,\"ticks\":\"\"},\"colorscale\":[[0.0,\"#0d0887\"],[0.1111111111111111,\"#46039f\"],[0.2222222222222222,\"#7201a8\"],[0.3333333333333333,\"#9c179e\"],[0.4444444444444444,\"#bd3786\"],[0.5555555555555556,\"#d8576b\"],[0.6666666666666666,\"#ed7953\"],[0.7777777777777778,\"#fb9f3a\"],[0.8888888888888888,\"#fdca26\"],[1.0,\"#f0f921\"]],\"type\":\"contour\"}],\"heatmapgl\":[{\"colorbar\":{\"outlinewidth\":0,\"ticks\":\"\"},\"colorscale\":[[0.0,\"#0d0887\"],[0.1111111111111111,\"#46039f\"],[0.2222222222222222,\"#7201a8\"],[0.3333333333333333,\"#9c179e\"],[0.4444444444444444,\"#bd3786\"],[0.5555555555555556,\"#d8576b\"],[0.6666666666666666,\"#ed7953\"],[0.7777777777777778,\"#fb9f3a\"],[0.8888888888888888,\"#fdca26\"],[1.0,\"#f0f921\"]],\"type\":\"heatmapgl\"}],\"heatmap\":[{\"colorbar\":{\"outlinewidth\":0,\"ticks\":\"\"},\"colorscale\":[[0.0,\"#0d0887\"],[0.1111111111111111,\"#46039f\"],[0.2222222222222222,\"#7201a8\"],[0.3333333333333333,\"#9c179e\"],[0.4444444444444444,\"#bd3786\"],[0.5555555555555556,\"#d8576b\"],[0.6666666666666666,\"#ed7953\"],[0.7777777777777778,\"#fb9f3a\"],[0.8888888888888888,\"#fdca26\"],[1.0,\"#f0f921\"]],\"type\":\"heatmap\"}],\"histogram2dcontour\":[{\"colorbar\":{\"outlinewidth\":0,\"ticks\":\"\"},\"colorscale\":[[0.0,\"#0d0887\"],[0.1111111111111111,\"#46039f\"],[0.2222222222222222,\"#7201a8\"],[0.3333333333333333,\"#9c179e\"],[0.4444444444444444,\"#bd3786\"],[0.5555555555555556,\"#d8576b\"],[0.6666666666666666,\"#ed7953\"],[0.7777777777777778,\"#fb9f3a\"],[0.8888888888888888,\"#fdca26\"],[1.0,\"#f0f921\"]],\"type\":\"histogram2dcontour\"}],\"histogram2d\":[{\"colorbar\":{\"outlinewidth\":0,\"ticks\":\"\"},\"colorscale\":[[0.0,\"#0d0887\"],[0.1111111111111111,\"#46039f\"],[0.2222222222222222,\"#7201a8\"],[0.3333333333333333,\"#9c179e\"],[0.4444444444444444,\"#bd3786\"],[0.5555555555555556,\"#d8576b\"],[0.6666666666666666,\"#ed7953\"],[0.7777777777777778,\"#fb9f3a\"],[0.8888888888888888,\"#fdca26\"],[1.0,\"#f0f921\"]],\"type\":\"histogram2d\"}],\"histogram\":[{\"marker\":{\"pattern\":{\"fillmode\":\"overlay\",\"size\":10,\"solidity\":0.2}},\"type\":\"histogram\"}],\"mesh3d\":[{\"colorbar\":{\"outlinewidth\":0,\"ticks\":\"\"},\"type\":\"mesh3d\"}],\"parcoords\":[{\"line\":{\"colorbar\":{\"outlinewidth\":0,\"ticks\":\"\"}},\"type\":\"parcoords\"}],\"pie\":[{\"automargin\":true,\"type\":\"pie\"}],\"scatter3d\":[{\"line\":{\"colorbar\":{\"outlinewidth\":0,\"ticks\":\"\"}},\"marker\":{\"colorbar\":{\"outlinewidth\":0,\"ticks\":\"\"}},\"type\":\"scatter3d\"}],\"scattercarpet\":[{\"marker\":{\"colorbar\":{\"outlinewidth\":0,\"ticks\":\"\"}},\"type\":\"scattercarpet\"}],\"scattergeo\":[{\"marker\":{\"colorbar\":{\"outlinewidth\":0,\"ticks\":\"\"}},\"type\":\"scattergeo\"}],\"scattergl\":[{\"marker\":{\"line\":{\"color\":\"#283442\"}},\"type\":\"scattergl\"}],\"scattermapbox\":[{\"marker\":{\"colorbar\":{\"outlinewidth\":0,\"ticks\":\"\"}},\"type\":\"scattermapbox\"}],\"scatterpolargl\":[{\"marker\":{\"colorbar\":{\"outlinewidth\":0,\"ticks\":\"\"}},\"type\":\"scatterpolargl\"}],\"scatterpolar\":[{\"marker\":{\"colorbar\":{\"outlinewidth\":0,\"ticks\":\"\"}},\"type\":\"scatterpolar\"}],\"scatter\":[{\"marker\":{\"line\":{\"color\":\"#283442\"}},\"type\":\"scatter\"}],\"scatterternary\":[{\"marker\":{\"colorbar\":{\"outlinewidth\":0,\"ticks\":\"\"}},\"type\":\"scatterternary\"}],\"surface\":[{\"colorbar\":{\"outlinewidth\":0,\"ticks\":\"\"},\"colorscale\":[[0.0,\"#0d0887\"],[0.1111111111111111,\"#46039f\"],[0.2222222222222222,\"#7201a8\"],[0.3333333333333333,\"#9c179e\"],[0.4444444444444444,\"#bd3786\"],[0.5555555555555556,\"#d8576b\"],[0.6666666666666666,\"#ed7953\"],[0.7777777777777778,\"#fb9f3a\"],[0.8888888888888888,\"#fdca26\"],[1.0,\"#f0f921\"]],\"type\":\"surface\"}],\"table\":[{\"cells\":{\"fill\":{\"color\":\"#506784\"},\"line\":{\"color\":\"rgb(17,17,17)\"}},\"header\":{\"fill\":{\"color\":\"#2a3f5f\"},\"line\":{\"color\":\"rgb(17,17,17)\"}},\"type\":\"table\"}]},\"layout\":{\"annotationdefaults\":{\"arrowcolor\":\"#f2f5fa\",\"arrowhead\":0,\"arrowwidth\":1},\"autotypenumbers\":\"strict\",\"coloraxis\":{\"colorbar\":{\"outlinewidth\":0,\"ticks\":\"\"}},\"colorscale\":{\"diverging\":[[0,\"#8e0152\"],[0.1,\"#c51b7d\"],[0.2,\"#de77ae\"],[0.3,\"#f1b6da\"],[0.4,\"#fde0ef\"],[0.5,\"#f7f7f7\"],[0.6,\"#e6f5d0\"],[0.7,\"#b8e186\"],[0.8,\"#7fbc41\"],[0.9,\"#4d9221\"],[1,\"#276419\"]],\"sequential\":[[0.0,\"#0d0887\"],[0.1111111111111111,\"#46039f\"],[0.2222222222222222,\"#7201a8\"],[0.3333333333333333,\"#9c179e\"],[0.4444444444444444,\"#bd3786\"],[0.5555555555555556,\"#d8576b\"],[0.6666666666666666,\"#ed7953\"],[0.7777777777777778,\"#fb9f3a\"],[0.8888888888888888,\"#fdca26\"],[1.0,\"#f0f921\"]],\"sequentialminus\":[[0.0,\"#0d0887\"],[0.1111111111111111,\"#46039f\"],[0.2222222222222222,\"#7201a8\"],[0.3333333333333333,\"#9c179e\"],[0.4444444444444444,\"#bd3786\"],[0.5555555555555556,\"#d8576b\"],[0.6666666666666666,\"#ed7953\"],[0.7777777777777778,\"#fb9f3a\"],[0.8888888888888888,\"#fdca26\"],[1.0,\"#f0f921\"]]},\"colorway\":[\"#636efa\",\"#EF553B\",\"#00cc96\",\"#ab63fa\",\"#FFA15A\",\"#19d3f3\",\"#FF6692\",\"#B6E880\",\"#FF97FF\",\"#FECB52\"],\"font\":{\"color\":\"#f2f5fa\"},\"geo\":{\"bgcolor\":\"rgb(17,17,17)\",\"lakecolor\":\"rgb(17,17,17)\",\"landcolor\":\"rgb(17,17,17)\",\"showlakes\":true,\"showland\":true,\"subunitcolor\":\"#506784\"},\"hoverlabel\":{\"align\":\"left\"},\"hovermode\":\"closest\",\"mapbox\":{\"style\":\"dark\"},\"paper_bgcolor\":\"rgb(17,17,17)\",\"plot_bgcolor\":\"rgb(17,17,17)\",\"polar\":{\"angularaxis\":{\"gridcolor\":\"#506784\",\"linecolor\":\"#506784\",\"ticks\":\"\"},\"bgcolor\":\"rgb(17,17,17)\",\"radialaxis\":{\"gridcolor\":\"#506784\",\"linecolor\":\"#506784\",\"ticks\":\"\"}},\"scene\":{\"xaxis\":{\"backgroundcolor\":\"rgb(17,17,17)\",\"gridcolor\":\"#506784\",\"gridwidth\":2,\"linecolor\":\"#506784\",\"showbackground\":true,\"ticks\":\"\",\"zerolinecolor\":\"#C8D4E3\"},\"yaxis\":{\"backgroundcolor\":\"rgb(17,17,17)\",\"gridcolor\":\"#506784\",\"gridwidth\":2,\"linecolor\":\"#506784\",\"showbackground\":true,\"ticks\":\"\",\"zerolinecolor\":\"#C8D4E3\"},\"zaxis\":{\"backgroundcolor\":\"rgb(17,17,17)\",\"gridcolor\":\"#506784\",\"gridwidth\":2,\"linecolor\":\"#506784\",\"showbackground\":true,\"ticks\":\"\",\"zerolinecolor\":\"#C8D4E3\"}},\"shapedefaults\":{\"line\":{\"color\":\"#f2f5fa\"}},\"sliderdefaults\":{\"bgcolor\":\"#C8D4E3\",\"bordercolor\":\"rgb(17,17,17)\",\"borderwidth\":1,\"tickwidth\":0},\"ternary\":{\"aaxis\":{\"gridcolor\":\"#506784\",\"linecolor\":\"#506784\",\"ticks\":\"\"},\"baxis\":{\"gridcolor\":\"#506784\",\"linecolor\":\"#506784\",\"ticks\":\"\"},\"bgcolor\":\"rgb(17,17,17)\",\"caxis\":{\"gridcolor\":\"#506784\",\"linecolor\":\"#506784\",\"ticks\":\"\"}},\"title\":{\"x\":0.05},\"updatemenudefaults\":{\"bgcolor\":\"#506784\",\"borderwidth\":0},\"xaxis\":{\"automargin\":true,\"gridcolor\":\"#283442\",\"linecolor\":\"#506784\",\"ticks\":\"\",\"title\":{\"standoff\":15},\"zerolinecolor\":\"#283442\",\"zerolinewidth\":2},\"yaxis\":{\"automargin\":true,\"gridcolor\":\"#283442\",\"linecolor\":\"#506784\",\"ticks\":\"\",\"title\":{\"standoff\":15},\"zerolinecolor\":\"#283442\",\"zerolinewidth\":2}}},\"xaxis\":{\"anchor\":\"y\",\"domain\":[0.0,1.0],\"title\":{\"text\":\"variable\"},\"showgrid\":false},\"yaxis\":{\"anchor\":\"x\",\"domain\":[0.0,1.0],\"title\":{\"text\":\"value\"},\"showgrid\":false},\"legend\":{\"tracegroupgap\":0},\"margin\":{\"t\":60},\"boxmode\":\"group\",\"title\":{\"text\":\"Boxplot da coluna MEDV\"}},                        {\"responsive\": true}                    ).then(function(){\n",
              "                            \n",
              "var gd = document.getElementById('a88be85e-5e9a-4b35-b3f9-e8c29a82fb52');\n",
              "var x = new MutationObserver(function (mutations, observer) {{\n",
              "        var display = window.getComputedStyle(gd).display;\n",
              "        if (!display || display === 'none') {{\n",
              "            console.log([gd, 'removed!']);\n",
              "            Plotly.purge(gd);\n",
              "            observer.disconnect();\n",
              "        }}\n",
              "}});\n",
              "\n",
              "// Listen for the removal of the full notebook cells\n",
              "var notebookContainer = gd.closest('#notebook-container');\n",
              "if (notebookContainer) {{\n",
              "    x.observe(notebookContainer, {childList: true});\n",
              "}}\n",
              "\n",
              "// Listen for the clearing of the current output cell\n",
              "var outputEl = gd.closest('.output');\n",
              "if (outputEl) {{\n",
              "    x.observe(outputEl, {childList: true});\n",
              "}}\n",
              "\n",
              "                        })                };                            </script>        </div>\n",
              "</body>\n",
              "</html>"
            ]
          },
          "metadata": {}
        }
      ],
      "source": [
        "Analise.analise()"
      ]
    },
    {
      "cell_type": "code",
      "execution_count": 21,
      "metadata": {
        "id": "g1xNZ2PoR-Qw",
        "colab": {
          "base_uri": "https://localhost:8080/",
          "height": 817
        },
        "outputId": "f18e5b2b-e3ab-41e4-d0b1-3b546026fbe1"
      },
      "outputs": [
        {
          "output_type": "display_data",
          "data": {
            "text/html": [
              "<html>\n",
              "<head><meta charset=\"utf-8\" /></head>\n",
              "<body>\n",
              "    <div>            <script src=\"https://cdnjs.cloudflare.com/ajax/libs/mathjax/2.7.5/MathJax.js?config=TeX-AMS-MML_SVG\"></script><script type=\"text/javascript\">if (window.MathJax && window.MathJax.Hub && window.MathJax.Hub.Config) {window.MathJax.Hub.Config({SVG: {font: \"STIX-Web\"}});}</script>                <script type=\"text/javascript\">window.PlotlyConfig = {MathJaxConfig: 'local'};</script>\n",
              "        <script charset=\"utf-8\" src=\"https://cdn.plot.ly/plotly-2.24.1.min.js\"></script>                <div id=\"87975ff5-4ea0-4c59-8cb6-ecfdf79bfafe\" class=\"plotly-graph-div\" style=\"height:800px; width:800px;\"></div>            <script type=\"text/javascript\">                                    window.PLOTLYENV=window.PLOTLYENV || {};                                    if (document.getElementById(\"87975ff5-4ea0-4c59-8cb6-ecfdf79bfafe\")) {                    Plotly.newPlot(                        \"87975ff5-4ea0-4c59-8cb6-ecfdf79bfafe\",                        [{\"dimensions\":[{\"axis\":{\"matches\":true},\"label\":\"RM\",\"values\":[6.575,6.421,7.185,6.998,7.147,6.43,6.012,6.172,5.631,6.004,6.377,6.009,5.889,5.949,6.096,5.834,5.935,5.99,5.456,5.727,5.57,5.965,6.142,5.813,5.924,5.599,5.813,6.047,6.495,6.674,5.713,6.072,5.95,5.701,6.096,5.933,5.841,5.85,5.966,6.595,7.024,6.77,6.169,6.211,6.069,5.682,5.786,6.03,5.399,5.602,5.963,6.115,6.511,5.998,5.888,7.249,6.383,6.816,6.145,5.927,5.741,5.966,6.456,6.762,7.104,6.29,5.787,5.878,5.594,5.885,6.417,5.961,6.065,6.245,6.273,6.286,6.279,6.14,6.232,5.874,6.727,6.619,6.302,6.167,6.389,6.63,6.015,6.121,7.007,7.079,6.417,6.405,6.442,6.211,6.249,6.625,6.163,8.069,7.82,7.416,6.727,6.781,6.405,6.137,6.167,5.851,5.836,6.127,6.474,6.229,6.195,6.715,5.913,6.092,6.254,5.928,6.176,6.021,5.872,5.731,5.87,6.004,5.961,5.856,5.879,5.986,5.613,5.693,6.431,5.637,6.458,6.326,6.372,5.822,5.757,6.335,5.942,6.454,5.857,6.151,6.174,5.019,5.403,5.468,4.903,6.13,5.628,4.926,5.186,5.597,6.122,5.404,5.012,5.709,6.129,6.152,5.272,6.943,6.066,6.51,6.25,5.854,6.101,5.877,6.319,6.402,5.875,5.88,5.572,6.416,5.859,6.546,6.02,6.315,6.86,6.98,7.765,6.144,7.155,6.563,5.604,6.153,6.782,6.556,7.185,6.951,6.739,7.178,6.8,6.604,7.287,7.107,7.274,6.975,7.135,6.162,7.61,7.853,5.891,6.326,5.783,6.064,5.344,5.96,5.404,5.807,6.375,5.412,6.182,5.888,6.642,5.951,6.373,6.951,6.164,6.879,6.618,8.266,8.04,7.163,7.686,6.552,5.981,7.412,8.337,8.247,6.726,6.086,6.631,7.358,6.481,6.606,6.897,6.095,6.358,6.393,5.593,5.605,6.108,6.226,6.433,6.718,6.487,6.438,6.957,8.259,6.108,5.876,7.454,7.333,6.842,7.203,7.52,8.398,7.327,7.206,5.56,7.014,7.47,5.92,5.856,6.24,6.538,7.691,6.758,6.854,7.267,6.826,6.482,6.812,7.82,6.968,7.645,7.088,6.453,6.23,6.209,6.315,6.565,6.861,7.148,6.63,6.127,6.009,6.678,6.549,5.79,6.345,7.041,6.871,6.59,6.495,6.982,7.236,6.616,7.42,6.849,6.635,5.972,4.973,6.122,6.023,6.266,6.567,5.705,5.914,5.782,6.382,6.113,6.426,6.376,6.041,5.708,6.415,6.431,6.312,6.083,5.868,6.333,6.144,5.706,6.031,6.316,6.31,6.037,5.869,5.895,6.059,5.985,5.968,7.241,6.54,6.696,6.874,6.014,5.898,6.516,6.635,6.939,6.49,6.579,5.884,6.728,5.663,5.936,6.212,6.395,6.127,6.112,6.398,6.251,5.362,5.803,3.561,4.963,3.863,4.906,4.138,7.313,6.649,6.794,6.38,6.223,6.968,6.545,5.536,5.52,4.368,5.277,4.652,5.0,4.88,5.39,5.713,6.051,5.036,6.193,5.887,6.471,6.405,5.747,5.453,5.852,5.987,6.343,6.404,5.349,5.531,5.683,4.138,5.608,5.617,6.852,5.757,6.657,4.628,5.155,4.519,6.434,6.782,5.304,5.957,6.824,6.411,6.006,5.648,6.103,5.565,5.896,5.837,6.202,6.193,6.38,6.348,6.833,6.425,6.436,6.208,6.629,6.461,6.152,5.935,5.627,5.818,6.406,6.219,6.485,5.854,6.459,6.341,6.251,6.185,6.417,6.749,6.655,6.297,7.393,6.728,6.525,5.976,5.936,6.301,6.081,6.701,6.376,6.317,6.513,6.209,5.759,5.952,6.003,5.926,5.713,6.167,6.229,6.437,6.98,5.427,6.162,6.484,5.304,6.185,6.229,6.242,6.75,7.061,5.762,5.871,6.312,6.114,5.905,5.454,5.414,5.093,5.983,5.983,5.707,5.926,5.67,5.39,5.794,6.019,5.569,6.027,6.593,6.12,6.976,6.794,6.03]},{\"axis\":{\"matches\":true},\"label\":\"LSTAT\",\"values\":[4.98,9.14,4.03,2.94,5.33,5.21,12.43,19.15,29.93,17.1,20.45,13.27,15.71,8.26,10.26,8.47,6.58,14.67,11.69,11.28,21.02,13.83,18.72,19.88,16.3,16.51,14.81,17.28,12.8,11.98,22.6,13.04,27.71,18.35,20.34,9.68,11.41,8.77,10.13,4.32,1.98,4.84,5.81,7.44,9.55,10.21,14.15,18.8,30.81,16.2,13.45,9.43,5.28,8.43,14.8,4.81,5.77,3.95,6.86,9.22,13.15,14.44,6.73,9.5,8.05,4.67,10.24,8.1,13.09,8.79,6.72,9.88,5.52,7.54,6.78,8.94,11.97,10.27,12.34,9.1,5.29,7.22,6.72,7.51,9.62,6.53,12.86,8.44,5.5,5.7,8.81,8.2,8.16,6.21,10.59,6.65,11.34,4.21,3.57,6.19,9.42,7.67,10.63,13.44,12.33,16.47,18.66,14.09,12.27,15.55,13.0,10.16,16.21,17.09,10.45,15.76,12.04,10.3,15.37,13.61,14.37,14.27,17.93,25.41,17.58,14.81,27.26,17.19,15.39,18.34,12.6,12.26,11.12,15.03,17.31,16.96,16.9,14.59,21.32,18.46,24.16,34.41,26.82,26.42,29.29,27.8,16.65,29.53,28.32,21.45,14.1,13.28,12.12,15.79,15.12,15.02,16.14,4.59,6.43,7.39,5.5,11.64,9.81,12.14,11.1,11.32,14.43,12.03,14.69,9.04,9.64,5.33,10.11,6.29,6.92,5.04,7.56,9.45,4.82,5.68,13.98,13.15,6.68,4.56,5.39,5.1,4.69,2.87,5.03,4.38,4.08,8.61,6.62,4.56,4.45,7.43,3.11,3.81,10.87,10.97,18.06,14.66,23.09,17.27,23.98,16.03,9.38,29.55,9.47,13.51,9.69,17.92,10.5,9.71,21.46,9.93,7.6,4.14,3.13,6.36,3.92,3.76,11.65,5.25,2.47,3.95,8.05,10.88,9.54,4.73,6.36,7.37,11.38,12.4,11.22,5.19,12.5,18.46,9.16,10.15,9.52,6.56,5.9,3.59,3.53,3.54,6.57,9.25,3.11,7.79,6.9,9.59,7.26,5.91,11.25,8.1,10.45,14.79,3.16,13.65,13.0,6.59,7.73,6.58,3.53,2.98,6.05,4.16,7.19,4.85,3.76,4.59,3.01,7.85,8.23,12.93,7.14,7.6,9.51,3.33,3.56,4.7,8.58,10.4,6.27,7.39,15.84,4.97,4.74,6.07,9.5,8.67,4.86,6.93,8.93,6.47,7.53,4.54,9.97,12.64,5.98,11.72,7.9,9.28,11.5,18.33,15.94,10.36,12.73,7.2,6.87,7.7,11.74,6.12,5.08,6.15,12.79,9.97,7.34,9.09,12.43,7.83,5.68,6.75,8.01,9.8,10.56,8.51,9.74,9.29,5.49,8.65,7.18,4.61,10.53,12.67,6.36,5.99,5.89,5.98,5.49,7.79,4.5,8.05,5.57,17.6,13.27,11.48,12.67,7.79,14.19,10.19,14.64,7.12,14.0,13.33,34.77,37.97,13.44,23.24,21.24,23.69,21.78,17.21,21.08,23.6,24.56,30.63,30.81,28.28,31.99,30.62,20.85,17.11,18.76,25.68,15.17,16.35,17.12,19.37,19.92,30.59,29.97,26.77,20.32,20.31,19.77,27.38,22.98,23.34,12.13,26.4,19.78,10.11,21.22,34.37,20.08,36.98,29.05,25.79,26.64,20.62,22.74,15.02,15.7,14.1,23.29,17.16,24.39,15.69,14.52,21.52,24.08,17.64,19.69,12.03,16.22,15.17,23.27,18.05,26.45,34.02,22.88,22.11,19.52,16.59,18.85,23.79,23.98,17.79,16.44,18.13,19.31,17.44,17.73,17.27,16.74,18.71,18.13,19.01,16.94,16.23,14.7,16.42,14.65,13.99,10.29,13.22,14.13,17.15,21.32,18.13,14.76,16.29,12.87,14.36,11.66,18.14,24.1,18.68,24.91,18.03,13.11,10.74,7.74,7.01,10.42,13.34,10.58,14.98,11.45,18.06,23.97,29.68,18.07,13.35,12.01,13.59,17.6,21.14,14.1,12.92,15.1,14.33,9.67,9.08,5.64,6.48,7.88]},{\"axis\":{\"matches\":true},\"label\":\"PTRATIO\",\"values\":[15.3,17.8,17.8,18.7,18.7,18.7,15.2,15.2,15.2,15.2,15.2,15.2,15.2,21.0,21.0,21.0,21.0,21.0,21.0,21.0,21.0,21.0,21.0,21.0,21.0,21.0,21.0,21.0,21.0,21.0,21.0,21.0,21.0,21.0,21.0,19.2,19.2,19.2,19.2,18.3,18.3,17.9,17.9,17.9,17.9,17.9,17.9,17.9,17.9,17.9,16.8,16.8,16.8,16.8,21.1,17.9,17.3,15.1,19.7,19.7,19.7,19.7,19.7,19.7,18.6,16.1,16.1,18.9,18.9,18.9,19.2,19.2,19.2,19.2,18.7,18.7,18.7,18.7,18.7,18.7,19.0,19.0,19.0,19.0,18.5,18.5,18.5,18.5,17.8,17.8,17.8,17.8,18.2,18.2,18.2,18.0,18.0,18.0,18.0,18.0,20.9,20.9,20.9,20.9,20.9,20.9,20.9,20.9,20.9,20.9,20.9,17.8,17.8,17.8,17.8,17.8,17.8,17.8,17.8,17.8,19.1,19.1,19.1,19.1,19.1,19.1,19.1,21.2,21.2,21.2,21.2,21.2,21.2,21.2,21.2,21.2,21.2,21.2,21.2,21.2,21.2,21.2,14.7,14.7,14.7,14.7,14.7,14.7,14.7,14.7,14.7,14.7,14.7,14.7,14.7,14.7,14.7,14.7,14.7,14.7,14.7,14.7,14.7,14.7,14.7,14.7,14.7,14.7,16.6,16.6,16.6,16.6,16.6,16.6,16.6,17.8,17.8,17.8,17.8,17.8,17.8,17.8,15.2,15.2,15.2,15.2,15.2,15.2,15.6,15.6,12.6,12.6,12.6,17.0,17.0,14.7,14.7,14.7,18.6,18.6,18.6,18.6,18.6,18.6,18.6,18.6,18.6,18.6,18.6,16.4,16.4,16.4,16.4,17.4,17.4,17.4,17.4,17.4,17.4,17.4,17.4,17.4,17.4,17.4,17.4,17.4,17.4,17.4,17.4,17.4,16.6,16.6,16.6,16.6,16.6,16.6,19.1,19.1,19.1,19.1,19.1,19.1,19.1,19.1,19.1,19.1,16.4,16.4,15.9,13.0,13.0,13.0,13.0,13.0,13.0,13.0,13.0,13.0,13.0,18.6,18.6,18.6,18.6,18.6,17.6,17.6,17.6,17.6,17.6,14.9,14.9,14.9,14.9,15.3,15.3,18.2,16.6,16.6,16.6,19.2,19.2,19.2,16.0,16.0,16.0,16.0,16.0,14.8,14.8,14.8,16.1,16.1,16.1,18.4,18.4,18.4,18.4,18.4,18.4,18.4,18.4,18.4,18.4,18.4,18.4,18.4,18.4,18.4,18.4,19.6,19.6,19.6,19.6,19.6,19.6,19.6,19.6,16.9,16.9,16.9,16.9,16.9,20.2,20.2,20.2,20.2,20.2,20.2,20.2,20.2,15.5,15.9,17.6,17.6,18.8,18.8,17.9,17.0,19.7,19.7,18.3,18.3,17.0,22.0,22.0,20.2,20.2,20.2,20.2,20.2,20.2,20.2,20.2,20.2,20.2,20.2,20.2,20.2,20.2,20.2,20.2,20.2,20.2,20.2,20.2,20.2,20.2,20.2,20.2,20.2,20.2,20.2,20.2,20.2,20.2,20.2,20.2,20.2,20.2,20.2,20.2,20.2,20.2,20.2,20.2,20.2,20.2,20.2,20.2,20.2,20.2,20.2,20.2,20.2,20.2,20.2,20.2,20.2,20.2,20.2,20.2,20.2,20.2,20.2,20.2,20.2,20.2,20.2,20.2,20.2,20.2,20.2,20.2,20.2,20.2,20.2,20.2,20.2,20.2,20.2,20.2,20.2,20.2,20.2,20.2,20.2,20.2,20.2,20.2,20.2,20.2,20.2,20.2,20.2,20.2,20.2,20.2,20.2,20.2,20.2,20.2,20.2,20.2,20.2,20.2,20.2,20.2,20.2,20.2,20.2,20.2,20.2,20.2,20.2,20.2,20.2,20.2,20.2,20.2,20.2,20.2,20.2,20.2,20.2,20.2,20.2,20.2,20.2,20.2,20.2,20.2,20.1,20.1,20.1,20.1,20.1,19.2,19.2,19.2,19.2,19.2,19.2,19.2,19.2,21.0,21.0,21.0,21.0,21.0]},{\"axis\":{\"matches\":true},\"label\":\"MEDV\",\"values\":[504000.0,453600.0,728700.0,701400.0,760200.0,602700.0,480900.0,569100.0,346500.0,396900.0,315000.0,396900.0,455700.0,428400.0,382200.0,417900.0,485100.0,367500.0,424200.0,382200.0,285600.0,411600.0,319200.0,304500.0,327600.0,291900.0,348600.0,310800.0,386400.0,441000.0,266700.0,304500.0,277200.0,275100.0,283500.0,396900.0,420000.0,441000.0,518700.0,646800.0,732900.0,558600.0,531300.0,518700.0,445200.0,405300.0,420000.0,348600.0,302400.0,407400.0,413700.0,430500.0,525000.0,491400.0,396900.0,743400.0,518700.0,663600.0,489300.0,411600.0,392700.0,336000.0,466200.0,525000.0,693000.0,493500.0,407400.0,462000.0,365400.0,438900.0,508200.0,455700.0,478800.0,491400.0,506100.0,449400.0,420000.0,436800.0,445200.0,426300.0,588000.0,501900.0,520800.0,480900.0,501900.0,558600.0,472500.0,466200.0,495600.0,602700.0,474600.0,462000.0,480900.0,525000.0,432600.0,596400.0,449400.0,812700.0,919800.0,697200.0,577500.0,556500.0,390600.0,405300.0,422100.0,409500.0,409500.0,428400.0,415800.0,407400.0,455700.0,478800.0,394800.0,392700.0,388500.0,384300.0,445200.0,403200.0,428400.0,405300.0,462000.0,426300.0,430500.0,363300.0,394800.0,449400.0,329700.0,340200.0,378000.0,300300.0,403200.0,411600.0,483000.0,386400.0,327600.0,380100.0,365400.0,359100.0,279300.0,373800.0,294000.0,302400.0,281400.0,327600.0,247800.0,289800.0,327600.0,306600.0,373800.0,323400.0,451500.0,411600.0,321300.0,407400.0,357000.0,327600.0,275100.0,867300.0,510300.0,489300.0,567000.0,476700.0,525000.0,499800.0,499800.0,468300.0,365400.0,401100.0,485100.0,495600.0,474600.0,617400.0,487200.0,516600.0,627900.0,781200.0,835800.0,760200.0,795900.0,682500.0,554400.0,621600.0,672000.0,625800.0,732900.0,777000.0,640500.0,764400.0,653100.0,611100.0,699300.0,636300.0,726600.0,732900.0,690900.0,506100.0,888300.0,1018500.0,474600.0,512400.0,472500.0,512400.0,420000.0,455700.0,405300.0,470400.0,590100.0,497700.0,525000.0,489300.0,602700.0,451500.0,483000.0,560700.0,455700.0,577500.0,632100.0,940800.0,789600.0,663600.0,980700.0,661500.0,510300.0,665700.0,875700.0,1014300.0,609000.0,504000.0,527100.0,661500.0,497700.0,489300.0,462000.0,422100.0,466200.0,497700.0,369600.0,388500.0,510300.0,430500.0,514500.0,550200.0,512400.0,520800.0,621600.0,898800.0,459900.0,438900.0,924000.0,756000.0,632100.0,709800.0,905100.0,1024800.0,651000.0,766500.0,478800.0,644700.0,913500.0,434700.0,443100.0,529200.0,512400.0,739200.0,680400.0,672000.0,697200.0,695100.0,611100.0,737100.0,953400.0,743400.0,966000.0,676200.0,462000.0,422100.0,487200.0,468300.0,520800.0,598500.0,783300.0,585900.0,501900.0,455700.0,600600.0,569100.0,426300.0,472500.0,609000.0,520800.0,462000.0,554400.0,695100.0,758100.0,596400.0,701400.0,592200.0,478800.0,426300.0,338100.0,464100.0,407400.0,453600.0,499800.0,340200.0,373800.0,415800.0,485100.0,441000.0,499800.0,485100.0,428400.0,388500.0,525000.0,516600.0,483000.0,466200.0,405300.0,474600.0,415800.0,359100.0,407400.0,466200.0,434700.0,443100.0,409500.0,388500.0,432600.0,399000.0,392700.0,686700.0,346500.0,501900.0,655200.0,367500.0,361200.0,485100.0,514500.0,558600.0,480900.0,506100.0,390600.0,632100.0,382200.0,432600.0,373800.0,455700.0,476700.0,474600.0,525000.0,417900.0,436800.0,352800.0,577500.0,459900.0,485100.0,289800.0,289800.0,315000.0,291900.0,279300.0,275100.0,214200.0,218400.0,228900.0,237300.0,258300.0,184800.0,151200.0,220500.0,155400.0,214200.0,241500.0,317100.0,487200.0,203700.0,289800.0,266700.0,275100.0,262500.0,178500.0,105000.0,132300.0,117600.0,151200.0,254100.0,174300.0,178500.0,105000.0,249900.0,585900.0,361200.0,577500.0,315000.0,361200.0,375900.0,342300.0,147000.0,151200.0,157500.0,218400.0,184800.0,176400.0,350700.0,298200.0,436800.0,281400.0,245700.0,174300.0,214200.0,228900.0,231000.0,199500.0,304500.0,296100.0,338100.0,300300.0,245700.0,281400.0,201600.0,182700.0,176400.0,268800.0,220500.0,359100.0,386400.0,323400.0,226800.0,247800.0,312900.0,264600.0,296100.0,273000.0,281400.0,319200.0,338100.0,373800.0,312900.0,296100.0,266700.0,283500.0,312900.0,420000.0,344400.0,371700.0,409500.0,424200.0,449400.0,417900.0,399000.0,401100.0,401100.0,422100.0,417900.0,411600.0,487200.0,625800.0,289800.0,279300.0,350700.0,252000.0,306600.0,449400.0,483000.0,497700.0,525000.0,457800.0,432600.0,445200.0,401100.0,432600.0,319200.0,147000.0,170100.0,285600.0,422100.0,457800.0,514500.0,485100.0,413700.0,384300.0,445200.0,367500.0,352800.0,470400.0,432600.0,501900.0,462000.0,249900.0]}],\"hovertemplate\":\"%{xaxis.title.text}=%{x}\\u003cbr\\u003e%{yaxis.title.text}=%{y}\\u003cextra\\u003e\\u003c\\u002fextra\\u003e\",\"legendgroup\":\"\",\"marker\":{\"color\":\"#636efa\",\"symbol\":\"circle\"},\"name\":\"\",\"showlegend\":false,\"type\":\"splom\"}],                        {\"template\":{\"data\":{\"barpolar\":[{\"marker\":{\"line\":{\"color\":\"rgb(17,17,17)\",\"width\":0.5},\"pattern\":{\"fillmode\":\"overlay\",\"size\":10,\"solidity\":0.2}},\"type\":\"barpolar\"}],\"bar\":[{\"error_x\":{\"color\":\"#f2f5fa\"},\"error_y\":{\"color\":\"#f2f5fa\"},\"marker\":{\"line\":{\"color\":\"rgb(17,17,17)\",\"width\":0.5},\"pattern\":{\"fillmode\":\"overlay\",\"size\":10,\"solidity\":0.2}},\"type\":\"bar\"}],\"carpet\":[{\"aaxis\":{\"endlinecolor\":\"#A2B1C6\",\"gridcolor\":\"#506784\",\"linecolor\":\"#506784\",\"minorgridcolor\":\"#506784\",\"startlinecolor\":\"#A2B1C6\"},\"baxis\":{\"endlinecolor\":\"#A2B1C6\",\"gridcolor\":\"#506784\",\"linecolor\":\"#506784\",\"minorgridcolor\":\"#506784\",\"startlinecolor\":\"#A2B1C6\"},\"type\":\"carpet\"}],\"choropleth\":[{\"colorbar\":{\"outlinewidth\":0,\"ticks\":\"\"},\"type\":\"choropleth\"}],\"contourcarpet\":[{\"colorbar\":{\"outlinewidth\":0,\"ticks\":\"\"},\"type\":\"contourcarpet\"}],\"contour\":[{\"colorbar\":{\"outlinewidth\":0,\"ticks\":\"\"},\"colorscale\":[[0.0,\"#0d0887\"],[0.1111111111111111,\"#46039f\"],[0.2222222222222222,\"#7201a8\"],[0.3333333333333333,\"#9c179e\"],[0.4444444444444444,\"#bd3786\"],[0.5555555555555556,\"#d8576b\"],[0.6666666666666666,\"#ed7953\"],[0.7777777777777778,\"#fb9f3a\"],[0.8888888888888888,\"#fdca26\"],[1.0,\"#f0f921\"]],\"type\":\"contour\"}],\"heatmapgl\":[{\"colorbar\":{\"outlinewidth\":0,\"ticks\":\"\"},\"colorscale\":[[0.0,\"#0d0887\"],[0.1111111111111111,\"#46039f\"],[0.2222222222222222,\"#7201a8\"],[0.3333333333333333,\"#9c179e\"],[0.4444444444444444,\"#bd3786\"],[0.5555555555555556,\"#d8576b\"],[0.6666666666666666,\"#ed7953\"],[0.7777777777777778,\"#fb9f3a\"],[0.8888888888888888,\"#fdca26\"],[1.0,\"#f0f921\"]],\"type\":\"heatmapgl\"}],\"heatmap\":[{\"colorbar\":{\"outlinewidth\":0,\"ticks\":\"\"},\"colorscale\":[[0.0,\"#0d0887\"],[0.1111111111111111,\"#46039f\"],[0.2222222222222222,\"#7201a8\"],[0.3333333333333333,\"#9c179e\"],[0.4444444444444444,\"#bd3786\"],[0.5555555555555556,\"#d8576b\"],[0.6666666666666666,\"#ed7953\"],[0.7777777777777778,\"#fb9f3a\"],[0.8888888888888888,\"#fdca26\"],[1.0,\"#f0f921\"]],\"type\":\"heatmap\"}],\"histogram2dcontour\":[{\"colorbar\":{\"outlinewidth\":0,\"ticks\":\"\"},\"colorscale\":[[0.0,\"#0d0887\"],[0.1111111111111111,\"#46039f\"],[0.2222222222222222,\"#7201a8\"],[0.3333333333333333,\"#9c179e\"],[0.4444444444444444,\"#bd3786\"],[0.5555555555555556,\"#d8576b\"],[0.6666666666666666,\"#ed7953\"],[0.7777777777777778,\"#fb9f3a\"],[0.8888888888888888,\"#fdca26\"],[1.0,\"#f0f921\"]],\"type\":\"histogram2dcontour\"}],\"histogram2d\":[{\"colorbar\":{\"outlinewidth\":0,\"ticks\":\"\"},\"colorscale\":[[0.0,\"#0d0887\"],[0.1111111111111111,\"#46039f\"],[0.2222222222222222,\"#7201a8\"],[0.3333333333333333,\"#9c179e\"],[0.4444444444444444,\"#bd3786\"],[0.5555555555555556,\"#d8576b\"],[0.6666666666666666,\"#ed7953\"],[0.7777777777777778,\"#fb9f3a\"],[0.8888888888888888,\"#fdca26\"],[1.0,\"#f0f921\"]],\"type\":\"histogram2d\"}],\"histogram\":[{\"marker\":{\"pattern\":{\"fillmode\":\"overlay\",\"size\":10,\"solidity\":0.2}},\"type\":\"histogram\"}],\"mesh3d\":[{\"colorbar\":{\"outlinewidth\":0,\"ticks\":\"\"},\"type\":\"mesh3d\"}],\"parcoords\":[{\"line\":{\"colorbar\":{\"outlinewidth\":0,\"ticks\":\"\"}},\"type\":\"parcoords\"}],\"pie\":[{\"automargin\":true,\"type\":\"pie\"}],\"scatter3d\":[{\"line\":{\"colorbar\":{\"outlinewidth\":0,\"ticks\":\"\"}},\"marker\":{\"colorbar\":{\"outlinewidth\":0,\"ticks\":\"\"}},\"type\":\"scatter3d\"}],\"scattercarpet\":[{\"marker\":{\"colorbar\":{\"outlinewidth\":0,\"ticks\":\"\"}},\"type\":\"scattercarpet\"}],\"scattergeo\":[{\"marker\":{\"colorbar\":{\"outlinewidth\":0,\"ticks\":\"\"}},\"type\":\"scattergeo\"}],\"scattergl\":[{\"marker\":{\"line\":{\"color\":\"#283442\"}},\"type\":\"scattergl\"}],\"scattermapbox\":[{\"marker\":{\"colorbar\":{\"outlinewidth\":0,\"ticks\":\"\"}},\"type\":\"scattermapbox\"}],\"scatterpolargl\":[{\"marker\":{\"colorbar\":{\"outlinewidth\":0,\"ticks\":\"\"}},\"type\":\"scatterpolargl\"}],\"scatterpolar\":[{\"marker\":{\"colorbar\":{\"outlinewidth\":0,\"ticks\":\"\"}},\"type\":\"scatterpolar\"}],\"scatter\":[{\"marker\":{\"line\":{\"color\":\"#283442\"}},\"type\":\"scatter\"}],\"scatterternary\":[{\"marker\":{\"colorbar\":{\"outlinewidth\":0,\"ticks\":\"\"}},\"type\":\"scatterternary\"}],\"surface\":[{\"colorbar\":{\"outlinewidth\":0,\"ticks\":\"\"},\"colorscale\":[[0.0,\"#0d0887\"],[0.1111111111111111,\"#46039f\"],[0.2222222222222222,\"#7201a8\"],[0.3333333333333333,\"#9c179e\"],[0.4444444444444444,\"#bd3786\"],[0.5555555555555556,\"#d8576b\"],[0.6666666666666666,\"#ed7953\"],[0.7777777777777778,\"#fb9f3a\"],[0.8888888888888888,\"#fdca26\"],[1.0,\"#f0f921\"]],\"type\":\"surface\"}],\"table\":[{\"cells\":{\"fill\":{\"color\":\"#506784\"},\"line\":{\"color\":\"rgb(17,17,17)\"}},\"header\":{\"fill\":{\"color\":\"#2a3f5f\"},\"line\":{\"color\":\"rgb(17,17,17)\"}},\"type\":\"table\"}]},\"layout\":{\"annotationdefaults\":{\"arrowcolor\":\"#f2f5fa\",\"arrowhead\":0,\"arrowwidth\":1},\"autotypenumbers\":\"strict\",\"coloraxis\":{\"colorbar\":{\"outlinewidth\":0,\"ticks\":\"\"}},\"colorscale\":{\"diverging\":[[0,\"#8e0152\"],[0.1,\"#c51b7d\"],[0.2,\"#de77ae\"],[0.3,\"#f1b6da\"],[0.4,\"#fde0ef\"],[0.5,\"#f7f7f7\"],[0.6,\"#e6f5d0\"],[0.7,\"#b8e186\"],[0.8,\"#7fbc41\"],[0.9,\"#4d9221\"],[1,\"#276419\"]],\"sequential\":[[0.0,\"#0d0887\"],[0.1111111111111111,\"#46039f\"],[0.2222222222222222,\"#7201a8\"],[0.3333333333333333,\"#9c179e\"],[0.4444444444444444,\"#bd3786\"],[0.5555555555555556,\"#d8576b\"],[0.6666666666666666,\"#ed7953\"],[0.7777777777777778,\"#fb9f3a\"],[0.8888888888888888,\"#fdca26\"],[1.0,\"#f0f921\"]],\"sequentialminus\":[[0.0,\"#0d0887\"],[0.1111111111111111,\"#46039f\"],[0.2222222222222222,\"#7201a8\"],[0.3333333333333333,\"#9c179e\"],[0.4444444444444444,\"#bd3786\"],[0.5555555555555556,\"#d8576b\"],[0.6666666666666666,\"#ed7953\"],[0.7777777777777778,\"#fb9f3a\"],[0.8888888888888888,\"#fdca26\"],[1.0,\"#f0f921\"]]},\"colorway\":[\"#636efa\",\"#EF553B\",\"#00cc96\",\"#ab63fa\",\"#FFA15A\",\"#19d3f3\",\"#FF6692\",\"#B6E880\",\"#FF97FF\",\"#FECB52\"],\"font\":{\"color\":\"#f2f5fa\"},\"geo\":{\"bgcolor\":\"rgb(17,17,17)\",\"lakecolor\":\"rgb(17,17,17)\",\"landcolor\":\"rgb(17,17,17)\",\"showlakes\":true,\"showland\":true,\"subunitcolor\":\"#506784\"},\"hoverlabel\":{\"align\":\"left\"},\"hovermode\":\"closest\",\"mapbox\":{\"style\":\"dark\"},\"paper_bgcolor\":\"rgb(17,17,17)\",\"plot_bgcolor\":\"rgb(17,17,17)\",\"polar\":{\"angularaxis\":{\"gridcolor\":\"#506784\",\"linecolor\":\"#506784\",\"ticks\":\"\"},\"bgcolor\":\"rgb(17,17,17)\",\"radialaxis\":{\"gridcolor\":\"#506784\",\"linecolor\":\"#506784\",\"ticks\":\"\"}},\"scene\":{\"xaxis\":{\"backgroundcolor\":\"rgb(17,17,17)\",\"gridcolor\":\"#506784\",\"gridwidth\":2,\"linecolor\":\"#506784\",\"showbackground\":true,\"ticks\":\"\",\"zerolinecolor\":\"#C8D4E3\"},\"yaxis\":{\"backgroundcolor\":\"rgb(17,17,17)\",\"gridcolor\":\"#506784\",\"gridwidth\":2,\"linecolor\":\"#506784\",\"showbackground\":true,\"ticks\":\"\",\"zerolinecolor\":\"#C8D4E3\"},\"zaxis\":{\"backgroundcolor\":\"rgb(17,17,17)\",\"gridcolor\":\"#506784\",\"gridwidth\":2,\"linecolor\":\"#506784\",\"showbackground\":true,\"ticks\":\"\",\"zerolinecolor\":\"#C8D4E3\"}},\"shapedefaults\":{\"line\":{\"color\":\"#f2f5fa\"}},\"sliderdefaults\":{\"bgcolor\":\"#C8D4E3\",\"bordercolor\":\"rgb(17,17,17)\",\"borderwidth\":1,\"tickwidth\":0},\"ternary\":{\"aaxis\":{\"gridcolor\":\"#506784\",\"linecolor\":\"#506784\",\"ticks\":\"\"},\"baxis\":{\"gridcolor\":\"#506784\",\"linecolor\":\"#506784\",\"ticks\":\"\"},\"bgcolor\":\"rgb(17,17,17)\",\"caxis\":{\"gridcolor\":\"#506784\",\"linecolor\":\"#506784\",\"ticks\":\"\"}},\"title\":{\"x\":0.05},\"updatemenudefaults\":{\"bgcolor\":\"#506784\",\"borderwidth\":0},\"xaxis\":{\"automargin\":true,\"gridcolor\":\"#283442\",\"linecolor\":\"#506784\",\"ticks\":\"\",\"title\":{\"standoff\":15},\"zerolinecolor\":\"#283442\",\"zerolinewidth\":2},\"yaxis\":{\"automargin\":true,\"gridcolor\":\"#283442\",\"linecolor\":\"#506784\",\"ticks\":\"\",\"title\":{\"standoff\":15},\"zerolinecolor\":\"#283442\",\"zerolinewidth\":2}}},\"legend\":{\"tracegroupgap\":0},\"margin\":{\"t\":60},\"dragmode\":\"select\",\"height\":800,\"width\":800,\"title\":{\"text\":\"Correla\\u00e7\\u00e3o\"}},                        {\"responsive\": true}                    ).then(function(){\n",
              "                            \n",
              "var gd = document.getElementById('87975ff5-4ea0-4c59-8cb6-ecfdf79bfafe');\n",
              "var x = new MutationObserver(function (mutations, observer) {{\n",
              "        var display = window.getComputedStyle(gd).display;\n",
              "        if (!display || display === 'none') {{\n",
              "            console.log([gd, 'removed!']);\n",
              "            Plotly.purge(gd);\n",
              "            observer.disconnect();\n",
              "        }}\n",
              "}});\n",
              "\n",
              "// Listen for the removal of the full notebook cells\n",
              "var notebookContainer = gd.closest('#notebook-container');\n",
              "if (notebookContainer) {{\n",
              "    x.observe(notebookContainer, {childList: true});\n",
              "}}\n",
              "\n",
              "// Listen for the clearing of the current output cell\n",
              "var outputEl = gd.closest('.output');\n",
              "if (outputEl) {{\n",
              "    x.observe(outputEl, {childList: true});\n",
              "}}\n",
              "\n",
              "                        })                };                            </script>        </div>\n",
              "</body>\n",
              "</html>"
            ]
          },
          "metadata": {}
        }
      ],
      "source": [
        "fig = px.scatter_matrix(df,dimensions=[\"RM\", \"LSTAT\", \"PTRATIO\", \"MEDV\"])\n",
        "fig.update_layout(height=800,width=800,title='Correlação',template='plotly_dark')\n",
        "fig.show()"
      ]
    },
    {
      "cell_type": "markdown",
      "source": [
        "# **Análise da Normalidade**\n",
        "\n",
        "Gráfico QQ-Plot"
      ],
      "metadata": {
        "id": "R8i_ox-GWZri"
      }
    },
    {
      "cell_type": "code",
      "execution_count": 84,
      "metadata": {
        "id": "41Ph-pVeR-Qw",
        "colab": {
          "base_uri": "https://localhost:8080/",
          "height": 480
        },
        "outputId": "6f82495b-5e3a-48cb-cb73-78e65b9ebfb2"
      },
      "outputs": [
        {
          "output_type": "display_data",
          "data": {
            "text/plain": [
              "<Figure size 640x480 with 1 Axes>"
            ],
            "image/png": "[encoded data removed]"
          },
          "metadata": {}
        }
      ],
      "source": [
        "probplot(df.MEDV,dist='norm',plot=plt)\n",
        "plt.style.use('dark_background')\n",
        "plt.title('Normal Q-Q plot')\n",
        "plt.show()"
      ]
    },
    {
      "cell_type": "code",
      "source": [
        "df.columns"
      ],
      "metadata": {
        "id": "SvzBD8fnXggg",
        "colab": {
          "base_uri": "https://localhost:8080/"
        },
        "outputId": "d1b6581c-a008-453e-8493-175ebcfe1672"
      },
      "execution_count": 23,
      "outputs": [
        {
          "output_type": "execute_result",
          "data": {
            "text/plain": [
              "Index(['RM', 'LSTAT', 'PTRATIO', 'MEDV'], dtype='object')"
            ]
          },
          "metadata": {},
          "execution_count": 23
        }
      ]
    },
    {
      "cell_type": "code",
      "execution_count": 24,
      "metadata": {
        "id": "1D7hD-7KR-Qx",
        "colab": {
          "base_uri": "https://localhost:8080/",
          "height": 542
        },
        "outputId": "6172afa2-b925-4e99-cc59-105cdc8458ee"
      },
      "outputs": [
        {
          "output_type": "display_data",
          "data": {
            "text/html": [
              "<html>\n",
              "<head><meta charset=\"utf-8\" /></head>\n",
              "<body>\n",
              "    <div>            <script src=\"https://cdnjs.cloudflare.com/ajax/libs/mathjax/2.7.5/MathJax.js?config=TeX-AMS-MML_SVG\"></script><script type=\"text/javascript\">if (window.MathJax && window.MathJax.Hub && window.MathJax.Hub.Config) {window.MathJax.Hub.Config({SVG: {font: \"STIX-Web\"}});}</script>                <script type=\"text/javascript\">window.PlotlyConfig = {MathJaxConfig: 'local'};</script>\n",
              "        <script charset=\"utf-8\" src=\"https://cdn.plot.ly/plotly-2.24.1.min.js\"></script>                <div id=\"457366e6-116d-475b-bed1-be4026db3ac8\" class=\"plotly-graph-div\" style=\"height:525px; width:100%;\"></div>            <script type=\"text/javascript\">                                    window.PLOTLYENV=window.PLOTLYENV || {};                                    if (document.getElementById(\"457366e6-116d-475b-bed1-be4026db3ac8\")) {                    Plotly.newPlot(                        \"457366e6-116d-475b-bed1-be4026db3ac8\",                        [{\"alignmentgroup\":\"True\",\"bingroup\":\"x\",\"hovertemplate\":\"MEDV=%{x}\\u003cbr\\u003ecount=%{y}\\u003cextra\\u003e\\u003c\\u002fextra\\u003e\",\"legendgroup\":\"\",\"marker\":{\"color\":\"#636efa\",\"pattern\":{\"shape\":\"\"}},\"name\":\"\",\"nbinsx\":50,\"offsetgroup\":\"\",\"orientation\":\"v\",\"showlegend\":false,\"x\":[504000.0,453600.0,728700.0,701400.0,760200.0,602700.0,480900.0,569100.0,346500.0,396900.0,315000.0,396900.0,455700.0,428400.0,382200.0,417900.0,485100.0,367500.0,424200.0,382200.0,285600.0,411600.0,319200.0,304500.0,327600.0,291900.0,348600.0,310800.0,386400.0,441000.0,266700.0,304500.0,277200.0,275100.0,283500.0,396900.0,420000.0,441000.0,518700.0,646800.0,732900.0,558600.0,531300.0,518700.0,445200.0,405300.0,420000.0,348600.0,302400.0,407400.0,413700.0,430500.0,525000.0,491400.0,396900.0,743400.0,518700.0,663600.0,489300.0,411600.0,392700.0,336000.0,466200.0,525000.0,693000.0,493500.0,407400.0,462000.0,365400.0,438900.0,508200.0,455700.0,478800.0,491400.0,506100.0,449400.0,420000.0,436800.0,445200.0,426300.0,588000.0,501900.0,520800.0,480900.0,501900.0,558600.0,472500.0,466200.0,495600.0,602700.0,474600.0,462000.0,480900.0,525000.0,432600.0,596400.0,449400.0,812700.0,919800.0,697200.0,577500.0,556500.0,390600.0,405300.0,422100.0,409500.0,409500.0,428400.0,415800.0,407400.0,455700.0,478800.0,394800.0,392700.0,388500.0,384300.0,445200.0,403200.0,428400.0,405300.0,462000.0,426300.0,430500.0,363300.0,394800.0,449400.0,329700.0,340200.0,378000.0,300300.0,403200.0,411600.0,483000.0,386400.0,327600.0,380100.0,365400.0,359100.0,279300.0,373800.0,294000.0,302400.0,281400.0,327600.0,247800.0,289800.0,327600.0,306600.0,373800.0,323400.0,451500.0,411600.0,321300.0,407400.0,357000.0,327600.0,275100.0,867300.0,510300.0,489300.0,567000.0,476700.0,525000.0,499800.0,499800.0,468300.0,365400.0,401100.0,485100.0,495600.0,474600.0,617400.0,487200.0,516600.0,627900.0,781200.0,835800.0,760200.0,795900.0,682500.0,554400.0,621600.0,672000.0,625800.0,732900.0,777000.0,640500.0,764400.0,653100.0,611100.0,699300.0,636300.0,726600.0,732900.0,690900.0,506100.0,888300.0,1018500.0,474600.0,512400.0,472500.0,512400.0,420000.0,455700.0,405300.0,470400.0,590100.0,497700.0,525000.0,489300.0,602700.0,451500.0,483000.0,560700.0,455700.0,577500.0,632100.0,940800.0,789600.0,663600.0,980700.0,661500.0,510300.0,665700.0,875700.0,1014300.0,609000.0,504000.0,527100.0,661500.0,497700.0,489300.0,462000.0,422100.0,466200.0,497700.0,369600.0,388500.0,510300.0,430500.0,514500.0,550200.0,512400.0,520800.0,621600.0,898800.0,459900.0,438900.0,924000.0,756000.0,632100.0,709800.0,905100.0,1024800.0,651000.0,766500.0,478800.0,644700.0,913500.0,434700.0,443100.0,529200.0,512400.0,739200.0,680400.0,672000.0,697200.0,695100.0,611100.0,737100.0,953400.0,743400.0,966000.0,676200.0,462000.0,422100.0,487200.0,468300.0,520800.0,598500.0,783300.0,585900.0,501900.0,455700.0,600600.0,569100.0,426300.0,472500.0,609000.0,520800.0,462000.0,554400.0,695100.0,758100.0,596400.0,701400.0,592200.0,478800.0,426300.0,338100.0,464100.0,407400.0,453600.0,499800.0,340200.0,373800.0,415800.0,485100.0,441000.0,499800.0,485100.0,428400.0,388500.0,525000.0,516600.0,483000.0,466200.0,405300.0,474600.0,415800.0,359100.0,407400.0,466200.0,434700.0,443100.0,409500.0,388500.0,432600.0,399000.0,392700.0,686700.0,346500.0,501900.0,655200.0,367500.0,361200.0,485100.0,514500.0,558600.0,480900.0,506100.0,390600.0,632100.0,382200.0,432600.0,373800.0,455700.0,476700.0,474600.0,525000.0,417900.0,436800.0,352800.0,577500.0,459900.0,485100.0,289800.0,289800.0,315000.0,291900.0,279300.0,275100.0,214200.0,218400.0,228900.0,237300.0,258300.0,184800.0,151200.0,220500.0,155400.0,214200.0,241500.0,317100.0,487200.0,203700.0,289800.0,266700.0,275100.0,262500.0,178500.0,105000.0,132300.0,117600.0,151200.0,254100.0,174300.0,178500.0,105000.0,249900.0,585900.0,361200.0,577500.0,315000.0,361200.0,375900.0,342300.0,147000.0,151200.0,157500.0,218400.0,184800.0,176400.0,350700.0,298200.0,436800.0,281400.0,245700.0,174300.0,214200.0,228900.0,231000.0,199500.0,304500.0,296100.0,338100.0,300300.0,245700.0,281400.0,201600.0,182700.0,176400.0,268800.0,220500.0,359100.0,386400.0,323400.0,226800.0,247800.0,312900.0,264600.0,296100.0,273000.0,281400.0,319200.0,338100.0,373800.0,312900.0,296100.0,266700.0,283500.0,312900.0,420000.0,344400.0,371700.0,409500.0,424200.0,449400.0,417900.0,399000.0,401100.0,401100.0,422100.0,417900.0,411600.0,487200.0,625800.0,289800.0,279300.0,350700.0,252000.0,306600.0,449400.0,483000.0,497700.0,525000.0,457800.0,432600.0,445200.0,401100.0,432600.0,319200.0,147000.0,170100.0,285600.0,422100.0,457800.0,514500.0,485100.0,413700.0,384300.0,445200.0,367500.0,352800.0,470400.0,432600.0,501900.0,462000.0,249900.0],\"xaxis\":\"x\",\"yaxis\":\"y\",\"type\":\"histogram\"}],                        {\"template\":{\"data\":{\"barpolar\":[{\"marker\":{\"line\":{\"color\":\"rgb(17,17,17)\",\"width\":0.5},\"pattern\":{\"fillmode\":\"overlay\",\"size\":10,\"solidity\":0.2}},\"type\":\"barpolar\"}],\"bar\":[{\"error_x\":{\"color\":\"#f2f5fa\"},\"error_y\":{\"color\":\"#f2f5fa\"},\"marker\":{\"line\":{\"color\":\"rgb(17,17,17)\",\"width\":0.5},\"pattern\":{\"fillmode\":\"overlay\",\"size\":10,\"solidity\":0.2}},\"type\":\"bar\"}],\"carpet\":[{\"aaxis\":{\"endlinecolor\":\"#A2B1C6\",\"gridcolor\":\"#506784\",\"linecolor\":\"#506784\",\"minorgridcolor\":\"#506784\",\"startlinecolor\":\"#A2B1C6\"},\"baxis\":{\"endlinecolor\":\"#A2B1C6\",\"gridcolor\":\"#506784\",\"linecolor\":\"#506784\",\"minorgridcolor\":\"#506784\",\"startlinecolor\":\"#A2B1C6\"},\"type\":\"carpet\"}],\"choropleth\":[{\"colorbar\":{\"outlinewidth\":0,\"ticks\":\"\"},\"type\":\"choropleth\"}],\"contourcarpet\":[{\"colorbar\":{\"outlinewidth\":0,\"ticks\":\"\"},\"type\":\"contourcarpet\"}],\"contour\":[{\"colorbar\":{\"outlinewidth\":0,\"ticks\":\"\"},\"colorscale\":[[0.0,\"#0d0887\"],[0.1111111111111111,\"#46039f\"],[0.2222222222222222,\"#7201a8\"],[0.3333333333333333,\"#9c179e\"],[0.4444444444444444,\"#bd3786\"],[0.5555555555555556,\"#d8576b\"],[0.6666666666666666,\"#ed7953\"],[0.7777777777777778,\"#fb9f3a\"],[0.8888888888888888,\"#fdca26\"],[1.0,\"#f0f921\"]],\"type\":\"contour\"}],\"heatmapgl\":[{\"colorbar\":{\"outlinewidth\":0,\"ticks\":\"\"},\"colorscale\":[[0.0,\"#0d0887\"],[0.1111111111111111,\"#46039f\"],[0.2222222222222222,\"#7201a8\"],[0.3333333333333333,\"#9c179e\"],[0.4444444444444444,\"#bd3786\"],[0.5555555555555556,\"#d8576b\"],[0.6666666666666666,\"#ed7953\"],[0.7777777777777778,\"#fb9f3a\"],[0.8888888888888888,\"#fdca26\"],[1.0,\"#f0f921\"]],\"type\":\"heatmapgl\"}],\"heatmap\":[{\"colorbar\":{\"outlinewidth\":0,\"ticks\":\"\"},\"colorscale\":[[0.0,\"#0d0887\"],[0.1111111111111111,\"#46039f\"],[0.2222222222222222,\"#7201a8\"],[0.3333333333333333,\"#9c179e\"],[0.4444444444444444,\"#bd3786\"],[0.5555555555555556,\"#d8576b\"],[0.6666666666666666,\"#ed7953\"],[0.7777777777777778,\"#fb9f3a\"],[0.8888888888888888,\"#fdca26\"],[1.0,\"#f0f921\"]],\"type\":\"heatmap\"}],\"histogram2dcontour\":[{\"colorbar\":{\"outlinewidth\":0,\"ticks\":\"\"},\"colorscale\":[[0.0,\"#0d0887\"],[0.1111111111111111,\"#46039f\"],[0.2222222222222222,\"#7201a8\"],[0.3333333333333333,\"#9c179e\"],[0.4444444444444444,\"#bd3786\"],[0.5555555555555556,\"#d8576b\"],[0.6666666666666666,\"#ed7953\"],[0.7777777777777778,\"#fb9f3a\"],[0.8888888888888888,\"#fdca26\"],[1.0,\"#f0f921\"]],\"type\":\"histogram2dcontour\"}],\"histogram2d\":[{\"colorbar\":{\"outlinewidth\":0,\"ticks\":\"\"},\"colorscale\":[[0.0,\"#0d0887\"],[0.1111111111111111,\"#46039f\"],[0.2222222222222222,\"#7201a8\"],[0.3333333333333333,\"#9c179e\"],[0.4444444444444444,\"#bd3786\"],[0.5555555555555556,\"#d8576b\"],[0.6666666666666666,\"#ed7953\"],[0.7777777777777778,\"#fb9f3a\"],[0.8888888888888888,\"#fdca26\"],[1.0,\"#f0f921\"]],\"type\":\"histogram2d\"}],\"histogram\":[{\"marker\":{\"pattern\":{\"fillmode\":\"overlay\",\"size\":10,\"solidity\":0.2}},\"type\":\"histogram\"}],\"mesh3d\":[{\"colorbar\":{\"outlinewidth\":0,\"ticks\":\"\"},\"type\":\"mesh3d\"}],\"parcoords\":[{\"line\":{\"colorbar\":{\"outlinewidth\":0,\"ticks\":\"\"}},\"type\":\"parcoords\"}],\"pie\":[{\"automargin\":true,\"type\":\"pie\"}],\"scatter3d\":[{\"line\":{\"colorbar\":{\"outlinewidth\":0,\"ticks\":\"\"}},\"marker\":{\"colorbar\":{\"outlinewidth\":0,\"ticks\":\"\"}},\"type\":\"scatter3d\"}],\"scattercarpet\":[{\"marker\":{\"colorbar\":{\"outlinewidth\":0,\"ticks\":\"\"}},\"type\":\"scattercarpet\"}],\"scattergeo\":[{\"marker\":{\"colorbar\":{\"outlinewidth\":0,\"ticks\":\"\"}},\"type\":\"scattergeo\"}],\"scattergl\":[{\"marker\":{\"line\":{\"color\":\"#283442\"}},\"type\":\"scattergl\"}],\"scattermapbox\":[{\"marker\":{\"colorbar\":{\"outlinewidth\":0,\"ticks\":\"\"}},\"type\":\"scattermapbox\"}],\"scatterpolargl\":[{\"marker\":{\"colorbar\":{\"outlinewidth\":0,\"ticks\":\"\"}},\"type\":\"scatterpolargl\"}],\"scatterpolar\":[{\"marker\":{\"colorbar\":{\"outlinewidth\":0,\"ticks\":\"\"}},\"type\":\"scatterpolar\"}],\"scatter\":[{\"marker\":{\"line\":{\"color\":\"#283442\"}},\"type\":\"scatter\"}],\"scatterternary\":[{\"marker\":{\"colorbar\":{\"outlinewidth\":0,\"ticks\":\"\"}},\"type\":\"scatterternary\"}],\"surface\":[{\"colorbar\":{\"outlinewidth\":0,\"ticks\":\"\"},\"colorscale\":[[0.0,\"#0d0887\"],[0.1111111111111111,\"#46039f\"],[0.2222222222222222,\"#7201a8\"],[0.3333333333333333,\"#9c179e\"],[0.4444444444444444,\"#bd3786\"],[0.5555555555555556,\"#d8576b\"],[0.6666666666666666,\"#ed7953\"],[0.7777777777777778,\"#fb9f3a\"],[0.8888888888888888,\"#fdca26\"],[1.0,\"#f0f921\"]],\"type\":\"surface\"}],\"table\":[{\"cells\":{\"fill\":{\"color\":\"#506784\"},\"line\":{\"color\":\"rgb(17,17,17)\"}},\"header\":{\"fill\":{\"color\":\"#2a3f5f\"},\"line\":{\"color\":\"rgb(17,17,17)\"}},\"type\":\"table\"}]},\"layout\":{\"annotationdefaults\":{\"arrowcolor\":\"#f2f5fa\",\"arrowhead\":0,\"arrowwidth\":1},\"autotypenumbers\":\"strict\",\"coloraxis\":{\"colorbar\":{\"outlinewidth\":0,\"ticks\":\"\"}},\"colorscale\":{\"diverging\":[[0,\"#8e0152\"],[0.1,\"#c51b7d\"],[0.2,\"#de77ae\"],[0.3,\"#f1b6da\"],[0.4,\"#fde0ef\"],[0.5,\"#f7f7f7\"],[0.6,\"#e6f5d0\"],[0.7,\"#b8e186\"],[0.8,\"#7fbc41\"],[0.9,\"#4d9221\"],[1,\"#276419\"]],\"sequential\":[[0.0,\"#0d0887\"],[0.1111111111111111,\"#46039f\"],[0.2222222222222222,\"#7201a8\"],[0.3333333333333333,\"#9c179e\"],[0.4444444444444444,\"#bd3786\"],[0.5555555555555556,\"#d8576b\"],[0.6666666666666666,\"#ed7953\"],[0.7777777777777778,\"#fb9f3a\"],[0.8888888888888888,\"#fdca26\"],[1.0,\"#f0f921\"]],\"sequentialminus\":[[0.0,\"#0d0887\"],[0.1111111111111111,\"#46039f\"],[0.2222222222222222,\"#7201a8\"],[0.3333333333333333,\"#9c179e\"],[0.4444444444444444,\"#bd3786\"],[0.5555555555555556,\"#d8576b\"],[0.6666666666666666,\"#ed7953\"],[0.7777777777777778,\"#fb9f3a\"],[0.8888888888888888,\"#fdca26\"],[1.0,\"#f0f921\"]]},\"colorway\":[\"#636efa\",\"#EF553B\",\"#00cc96\",\"#ab63fa\",\"#FFA15A\",\"#19d3f3\",\"#FF6692\",\"#B6E880\",\"#FF97FF\",\"#FECB52\"],\"font\":{\"color\":\"#f2f5fa\"},\"geo\":{\"bgcolor\":\"rgb(17,17,17)\",\"lakecolor\":\"rgb(17,17,17)\",\"landcolor\":\"rgb(17,17,17)\",\"showlakes\":true,\"showland\":true,\"subunitcolor\":\"#506784\"},\"hoverlabel\":{\"align\":\"left\"},\"hovermode\":\"closest\",\"mapbox\":{\"style\":\"dark\"},\"paper_bgcolor\":\"rgb(17,17,17)\",\"plot_bgcolor\":\"rgb(17,17,17)\",\"polar\":{\"angularaxis\":{\"gridcolor\":\"#506784\",\"linecolor\":\"#506784\",\"ticks\":\"\"},\"bgcolor\":\"rgb(17,17,17)\",\"radialaxis\":{\"gridcolor\":\"#506784\",\"linecolor\":\"#506784\",\"ticks\":\"\"}},\"scene\":{\"xaxis\":{\"backgroundcolor\":\"rgb(17,17,17)\",\"gridcolor\":\"#506784\",\"gridwidth\":2,\"linecolor\":\"#506784\",\"showbackground\":true,\"ticks\":\"\",\"zerolinecolor\":\"#C8D4E3\"},\"yaxis\":{\"backgroundcolor\":\"rgb(17,17,17)\",\"gridcolor\":\"#506784\",\"gridwidth\":2,\"linecolor\":\"#506784\",\"showbackground\":true,\"ticks\":\"\",\"zerolinecolor\":\"#C8D4E3\"},\"zaxis\":{\"backgroundcolor\":\"rgb(17,17,17)\",\"gridcolor\":\"#506784\",\"gridwidth\":2,\"linecolor\":\"#506784\",\"showbackground\":true,\"ticks\":\"\",\"zerolinecolor\":\"#C8D4E3\"}},\"shapedefaults\":{\"line\":{\"color\":\"#f2f5fa\"}},\"sliderdefaults\":{\"bgcolor\":\"#C8D4E3\",\"bordercolor\":\"rgb(17,17,17)\",\"borderwidth\":1,\"tickwidth\":0},\"ternary\":{\"aaxis\":{\"gridcolor\":\"#506784\",\"linecolor\":\"#506784\",\"ticks\":\"\"},\"baxis\":{\"gridcolor\":\"#506784\",\"linecolor\":\"#506784\",\"ticks\":\"\"},\"bgcolor\":\"rgb(17,17,17)\",\"caxis\":{\"gridcolor\":\"#506784\",\"linecolor\":\"#506784\",\"ticks\":\"\"}},\"title\":{\"x\":0.05},\"updatemenudefaults\":{\"bgcolor\":\"#506784\",\"borderwidth\":0},\"xaxis\":{\"automargin\":true,\"gridcolor\":\"#283442\",\"linecolor\":\"#506784\",\"ticks\":\"\",\"title\":{\"standoff\":15},\"zerolinecolor\":\"#283442\",\"zerolinewidth\":2},\"yaxis\":{\"automargin\":true,\"gridcolor\":\"#283442\",\"linecolor\":\"#506784\",\"ticks\":\"\",\"title\":{\"standoff\":15},\"zerolinecolor\":\"#283442\",\"zerolinewidth\":2}}},\"xaxis\":{\"anchor\":\"y\",\"domain\":[0.0,1.0],\"title\":{\"text\":\"MEDV\"}},\"yaxis\":{\"anchor\":\"x\",\"domain\":[0.0,1.0],\"title\":{\"text\":\"count\"}},\"legend\":{\"tracegroupgap\":0},\"margin\":{\"t\":60},\"barmode\":\"relative\",\"title\":{\"text\":\"M\\u00e9dia dos valores\"}},                        {\"responsive\": true}                    ).then(function(){\n",
              "                            \n",
              "var gd = document.getElementById('457366e6-116d-475b-bed1-be4026db3ac8');\n",
              "var x = new MutationObserver(function (mutations, observer) {{\n",
              "        var display = window.getComputedStyle(gd).display;\n",
              "        if (!display || display === 'none') {{\n",
              "            console.log([gd, 'removed!']);\n",
              "            Plotly.purge(gd);\n",
              "            observer.disconnect();\n",
              "        }}\n",
              "}});\n",
              "\n",
              "// Listen for the removal of the full notebook cells\n",
              "var notebookContainer = gd.closest('#notebook-container');\n",
              "if (notebookContainer) {{\n",
              "    x.observe(notebookContainer, {childList: true});\n",
              "}}\n",
              "\n",
              "// Listen for the clearing of the current output cell\n",
              "var outputEl = gd.closest('.output');\n",
              "if (outputEl) {{\n",
              "    x.observe(outputEl, {childList: true});\n",
              "}}\n",
              "\n",
              "                        })                };                            </script>        </div>\n",
              "</body>\n",
              "</html>"
            ]
          },
          "metadata": {}
        }
      ],
      "source": [
        "fig1 = px.histogram(df,x='MEDV',nbins=50,template='plotly_dark')\n",
        "fig1.update_layout(title_text='Média dos valores')\n",
        "fig1.show()"
      ]
    },
    {
      "cell_type": "code",
      "execution_count": 25,
      "metadata": {
        "id": "yQvlb4n7R-Qy",
        "colab": {
          "base_uri": "https://localhost:8080/",
          "height": 472
        },
        "outputId": "1545ed92-9858-41d3-cb48-98ac6ac3fe34"
      },
      "outputs": [
        {
          "output_type": "display_data",
          "data": {
            "text/plain": [
              "<Figure size 640x480 with 1 Axes>"
            ],
            "image/png": "[encoded data removed]"
          },
          "metadata": {}
        }
      ],
      "source": [
        "probplot(df.RM,dist='norm',plot=plt)\n",
        "plt.style.use('dark_background')\n",
        "plt.title('Normal Q-Q plot')\n",
        "plt.show()"
      ]
    },
    {
      "cell_type": "code",
      "execution_count": 26,
      "metadata": {
        "id": "Rl9J3qJHR-Qy",
        "colab": {
          "base_uri": "https://localhost:8080/",
          "height": 542
        },
        "outputId": "79a9b2ff-053b-47b9-9818-ab8e2fccd54f"
      },
      "outputs": [
        {
          "output_type": "display_data",
          "data": {
            "text/html": [
              "<html>\n",
              "<head><meta charset=\"utf-8\" /></head>\n",
              "<body>\n",
              "    <div>            <script src=\"https://cdnjs.cloudflare.com/ajax/libs/mathjax/2.7.5/MathJax.js?config=TeX-AMS-MML_SVG\"></script><script type=\"text/javascript\">if (window.MathJax && window.MathJax.Hub && window.MathJax.Hub.Config) {window.MathJax.Hub.Config({SVG: {font: \"STIX-Web\"}});}</script>                <script type=\"text/javascript\">window.PlotlyConfig = {MathJaxConfig: 'local'};</script>\n",
              "        <script charset=\"utf-8\" src=\"https://cdn.plot.ly/plotly-2.24.1.min.js\"></script>                <div id=\"f1b8ff5f-4ee2-4a7f-b27b-c53417af274b\" class=\"plotly-graph-div\" style=\"height:525px; width:100%;\"></div>            <script type=\"text/javascript\">                                    window.PLOTLYENV=window.PLOTLYENV || {};                                    if (document.getElementById(\"f1b8ff5f-4ee2-4a7f-b27b-c53417af274b\")) {                    Plotly.newPlot(                        \"f1b8ff5f-4ee2-4a7f-b27b-c53417af274b\",                        [{\"alignmentgroup\":\"True\",\"bingroup\":\"x\",\"hovertemplate\":\"RM=%{x}\\u003cbr\\u003ecount=%{y}\\u003cextra\\u003e\\u003c\\u002fextra\\u003e\",\"legendgroup\":\"\",\"marker\":{\"color\":\"#636efa\",\"pattern\":{\"shape\":\"\"}},\"name\":\"\",\"nbinsx\":40,\"offsetgroup\":\"\",\"orientation\":\"v\",\"showlegend\":false,\"x\":[6.575,6.421,7.185,6.998,7.147,6.43,6.012,6.172,5.631,6.004,6.377,6.009,5.889,5.949,6.096,5.834,5.935,5.99,5.456,5.727,5.57,5.965,6.142,5.813,5.924,5.599,5.813,6.047,6.495,6.674,5.713,6.072,5.95,5.701,6.096,5.933,5.841,5.85,5.966,6.595,7.024,6.77,6.169,6.211,6.069,5.682,5.786,6.03,5.399,5.602,5.963,6.115,6.511,5.998,5.888,7.249,6.383,6.816,6.145,5.927,5.741,5.966,6.456,6.762,7.104,6.29,5.787,5.878,5.594,5.885,6.417,5.961,6.065,6.245,6.273,6.286,6.279,6.14,6.232,5.874,6.727,6.619,6.302,6.167,6.389,6.63,6.015,6.121,7.007,7.079,6.417,6.405,6.442,6.211,6.249,6.625,6.163,8.069,7.82,7.416,6.727,6.781,6.405,6.137,6.167,5.851,5.836,6.127,6.474,6.229,6.195,6.715,5.913,6.092,6.254,5.928,6.176,6.021,5.872,5.731,5.87,6.004,5.961,5.856,5.879,5.986,5.613,5.693,6.431,5.637,6.458,6.326,6.372,5.822,5.757,6.335,5.942,6.454,5.857,6.151,6.174,5.019,5.403,5.468,4.903,6.13,5.628,4.926,5.186,5.597,6.122,5.404,5.012,5.709,6.129,6.152,5.272,6.943,6.066,6.51,6.25,5.854,6.101,5.877,6.319,6.402,5.875,5.88,5.572,6.416,5.859,6.546,6.02,6.315,6.86,6.98,7.765,6.144,7.155,6.563,5.604,6.153,6.782,6.556,7.185,6.951,6.739,7.178,6.8,6.604,7.287,7.107,7.274,6.975,7.135,6.162,7.61,7.853,5.891,6.326,5.783,6.064,5.344,5.96,5.404,5.807,6.375,5.412,6.182,5.888,6.642,5.951,6.373,6.951,6.164,6.879,6.618,8.266,8.04,7.163,7.686,6.552,5.981,7.412,8.337,8.247,6.726,6.086,6.631,7.358,6.481,6.606,6.897,6.095,6.358,6.393,5.593,5.605,6.108,6.226,6.433,6.718,6.487,6.438,6.957,8.259,6.108,5.876,7.454,7.333,6.842,7.203,7.52,8.398,7.327,7.206,5.56,7.014,7.47,5.92,5.856,6.24,6.538,7.691,6.758,6.854,7.267,6.826,6.482,6.812,7.82,6.968,7.645,7.088,6.453,6.23,6.209,6.315,6.565,6.861,7.148,6.63,6.127,6.009,6.678,6.549,5.79,6.345,7.041,6.871,6.59,6.495,6.982,7.236,6.616,7.42,6.849,6.635,5.972,4.973,6.122,6.023,6.266,6.567,5.705,5.914,5.782,6.382,6.113,6.426,6.376,6.041,5.708,6.415,6.431,6.312,6.083,5.868,6.333,6.144,5.706,6.031,6.316,6.31,6.037,5.869,5.895,6.059,5.985,5.968,7.241,6.54,6.696,6.874,6.014,5.898,6.516,6.635,6.939,6.49,6.579,5.884,6.728,5.663,5.936,6.212,6.395,6.127,6.112,6.398,6.251,5.362,5.803,3.561,4.963,3.863,4.906,4.138,7.313,6.649,6.794,6.38,6.223,6.968,6.545,5.536,5.52,4.368,5.277,4.652,5.0,4.88,5.39,5.713,6.051,5.036,6.193,5.887,6.471,6.405,5.747,5.453,5.852,5.987,6.343,6.404,5.349,5.531,5.683,4.138,5.608,5.617,6.852,5.757,6.657,4.628,5.155,4.519,6.434,6.782,5.304,5.957,6.824,6.411,6.006,5.648,6.103,5.565,5.896,5.837,6.202,6.193,6.38,6.348,6.833,6.425,6.436,6.208,6.629,6.461,6.152,5.935,5.627,5.818,6.406,6.219,6.485,5.854,6.459,6.341,6.251,6.185,6.417,6.749,6.655,6.297,7.393,6.728,6.525,5.976,5.936,6.301,6.081,6.701,6.376,6.317,6.513,6.209,5.759,5.952,6.003,5.926,5.713,6.167,6.229,6.437,6.98,5.427,6.162,6.484,5.304,6.185,6.229,6.242,6.75,7.061,5.762,5.871,6.312,6.114,5.905,5.454,5.414,5.093,5.983,5.983,5.707,5.926,5.67,5.39,5.794,6.019,5.569,6.027,6.593,6.12,6.976,6.794,6.03],\"xaxis\":\"x\",\"yaxis\":\"y\",\"type\":\"histogram\"}],                        {\"template\":{\"data\":{\"barpolar\":[{\"marker\":{\"line\":{\"color\":\"rgb(17,17,17)\",\"width\":0.5},\"pattern\":{\"fillmode\":\"overlay\",\"size\":10,\"solidity\":0.2}},\"type\":\"barpolar\"}],\"bar\":[{\"error_x\":{\"color\":\"#f2f5fa\"},\"error_y\":{\"color\":\"#f2f5fa\"},\"marker\":{\"line\":{\"color\":\"rgb(17,17,17)\",\"width\":0.5},\"pattern\":{\"fillmode\":\"overlay\",\"size\":10,\"solidity\":0.2}},\"type\":\"bar\"}],\"carpet\":[{\"aaxis\":{\"endlinecolor\":\"#A2B1C6\",\"gridcolor\":\"#506784\",\"linecolor\":\"#506784\",\"minorgridcolor\":\"#506784\",\"startlinecolor\":\"#A2B1C6\"},\"baxis\":{\"endlinecolor\":\"#A2B1C6\",\"gridcolor\":\"#506784\",\"linecolor\":\"#506784\",\"minorgridcolor\":\"#506784\",\"startlinecolor\":\"#A2B1C6\"},\"type\":\"carpet\"}],\"choropleth\":[{\"colorbar\":{\"outlinewidth\":0,\"ticks\":\"\"},\"type\":\"choropleth\"}],\"contourcarpet\":[{\"colorbar\":{\"outlinewidth\":0,\"ticks\":\"\"},\"type\":\"contourcarpet\"}],\"contour\":[{\"colorbar\":{\"outlinewidth\":0,\"ticks\":\"\"},\"colorscale\":[[0.0,\"#0d0887\"],[0.1111111111111111,\"#46039f\"],[0.2222222222222222,\"#7201a8\"],[0.3333333333333333,\"#9c179e\"],[0.4444444444444444,\"#bd3786\"],[0.5555555555555556,\"#d8576b\"],[0.6666666666666666,\"#ed7953\"],[0.7777777777777778,\"#fb9f3a\"],[0.8888888888888888,\"#fdca26\"],[1.0,\"#f0f921\"]],\"type\":\"contour\"}],\"heatmapgl\":[{\"colorbar\":{\"outlinewidth\":0,\"ticks\":\"\"},\"colorscale\":[[0.0,\"#0d0887\"],[0.1111111111111111,\"#46039f\"],[0.2222222222222222,\"#7201a8\"],[0.3333333333333333,\"#9c179e\"],[0.4444444444444444,\"#bd3786\"],[0.5555555555555556,\"#d8576b\"],[0.6666666666666666,\"#ed7953\"],[0.7777777777777778,\"#fb9f3a\"],[0.8888888888888888,\"#fdca26\"],[1.0,\"#f0f921\"]],\"type\":\"heatmapgl\"}],\"heatmap\":[{\"colorbar\":{\"outlinewidth\":0,\"ticks\":\"\"},\"colorscale\":[[0.0,\"#0d0887\"],[0.1111111111111111,\"#46039f\"],[0.2222222222222222,\"#7201a8\"],[0.3333333333333333,\"#9c179e\"],[0.4444444444444444,\"#bd3786\"],[0.5555555555555556,\"#d8576b\"],[0.6666666666666666,\"#ed7953\"],[0.7777777777777778,\"#fb9f3a\"],[0.8888888888888888,\"#fdca26\"],[1.0,\"#f0f921\"]],\"type\":\"heatmap\"}],\"histogram2dcontour\":[{\"colorbar\":{\"outlinewidth\":0,\"ticks\":\"\"},\"colorscale\":[[0.0,\"#0d0887\"],[0.1111111111111111,\"#46039f\"],[0.2222222222222222,\"#7201a8\"],[0.3333333333333333,\"#9c179e\"],[0.4444444444444444,\"#bd3786\"],[0.5555555555555556,\"#d8576b\"],[0.6666666666666666,\"#ed7953\"],[0.7777777777777778,\"#fb9f3a\"],[0.8888888888888888,\"#fdca26\"],[1.0,\"#f0f921\"]],\"type\":\"histogram2dcontour\"}],\"histogram2d\":[{\"colorbar\":{\"outlinewidth\":0,\"ticks\":\"\"},\"colorscale\":[[0.0,\"#0d0887\"],[0.1111111111111111,\"#46039f\"],[0.2222222222222222,\"#7201a8\"],[0.3333333333333333,\"#9c179e\"],[0.4444444444444444,\"#bd3786\"],[0.5555555555555556,\"#d8576b\"],[0.6666666666666666,\"#ed7953\"],[0.7777777777777778,\"#fb9f3a\"],[0.8888888888888888,\"#fdca26\"],[1.0,\"#f0f921\"]],\"type\":\"histogram2d\"}],\"histogram\":[{\"marker\":{\"pattern\":{\"fillmode\":\"overlay\",\"size\":10,\"solidity\":0.2}},\"type\":\"histogram\"}],\"mesh3d\":[{\"colorbar\":{\"outlinewidth\":0,\"ticks\":\"\"},\"type\":\"mesh3d\"}],\"parcoords\":[{\"line\":{\"colorbar\":{\"outlinewidth\":0,\"ticks\":\"\"}},\"type\":\"parcoords\"}],\"pie\":[{\"automargin\":true,\"type\":\"pie\"}],\"scatter3d\":[{\"line\":{\"colorbar\":{\"outlinewidth\":0,\"ticks\":\"\"}},\"marker\":{\"colorbar\":{\"outlinewidth\":0,\"ticks\":\"\"}},\"type\":\"scatter3d\"}],\"scattercarpet\":[{\"marker\":{\"colorbar\":{\"outlinewidth\":0,\"ticks\":\"\"}},\"type\":\"scattercarpet\"}],\"scattergeo\":[{\"marker\":{\"colorbar\":{\"outlinewidth\":0,\"ticks\":\"\"}},\"type\":\"scattergeo\"}],\"scattergl\":[{\"marker\":{\"line\":{\"color\":\"#283442\"}},\"type\":\"scattergl\"}],\"scattermapbox\":[{\"marker\":{\"colorbar\":{\"outlinewidth\":0,\"ticks\":\"\"}},\"type\":\"scattermapbox\"}],\"scatterpolargl\":[{\"marker\":{\"colorbar\":{\"outlinewidth\":0,\"ticks\":\"\"}},\"type\":\"scatterpolargl\"}],\"scatterpolar\":[{\"marker\":{\"colorbar\":{\"outlinewidth\":0,\"ticks\":\"\"}},\"type\":\"scatterpolar\"}],\"scatter\":[{\"marker\":{\"line\":{\"color\":\"#283442\"}},\"type\":\"scatter\"}],\"scatterternary\":[{\"marker\":{\"colorbar\":{\"outlinewidth\":0,\"ticks\":\"\"}},\"type\":\"scatterternary\"}],\"surface\":[{\"colorbar\":{\"outlinewidth\":0,\"ticks\":\"\"},\"colorscale\":[[0.0,\"#0d0887\"],[0.1111111111111111,\"#46039f\"],[0.2222222222222222,\"#7201a8\"],[0.3333333333333333,\"#9c179e\"],[0.4444444444444444,\"#bd3786\"],[0.5555555555555556,\"#d8576b\"],[0.6666666666666666,\"#ed7953\"],[0.7777777777777778,\"#fb9f3a\"],[0.8888888888888888,\"#fdca26\"],[1.0,\"#f0f921\"]],\"type\":\"surface\"}],\"table\":[{\"cells\":{\"fill\":{\"color\":\"#506784\"},\"line\":{\"color\":\"rgb(17,17,17)\"}},\"header\":{\"fill\":{\"color\":\"#2a3f5f\"},\"line\":{\"color\":\"rgb(17,17,17)\"}},\"type\":\"table\"}]},\"layout\":{\"annotationdefaults\":{\"arrowcolor\":\"#f2f5fa\",\"arrowhead\":0,\"arrowwidth\":1},\"autotypenumbers\":\"strict\",\"coloraxis\":{\"colorbar\":{\"outlinewidth\":0,\"ticks\":\"\"}},\"colorscale\":{\"diverging\":[[0,\"#8e0152\"],[0.1,\"#c51b7d\"],[0.2,\"#de77ae\"],[0.3,\"#f1b6da\"],[0.4,\"#fde0ef\"],[0.5,\"#f7f7f7\"],[0.6,\"#e6f5d0\"],[0.7,\"#b8e186\"],[0.8,\"#7fbc41\"],[0.9,\"#4d9221\"],[1,\"#276419\"]],\"sequential\":[[0.0,\"#0d0887\"],[0.1111111111111111,\"#46039f\"],[0.2222222222222222,\"#7201a8\"],[0.3333333333333333,\"#9c179e\"],[0.4444444444444444,\"#bd3786\"],[0.5555555555555556,\"#d8576b\"],[0.6666666666666666,\"#ed7953\"],[0.7777777777777778,\"#fb9f3a\"],[0.8888888888888888,\"#fdca26\"],[1.0,\"#f0f921\"]],\"sequentialminus\":[[0.0,\"#0d0887\"],[0.1111111111111111,\"#46039f\"],[0.2222222222222222,\"#7201a8\"],[0.3333333333333333,\"#9c179e\"],[0.4444444444444444,\"#bd3786\"],[0.5555555555555556,\"#d8576b\"],[0.6666666666666666,\"#ed7953\"],[0.7777777777777778,\"#fb9f3a\"],[0.8888888888888888,\"#fdca26\"],[1.0,\"#f0f921\"]]},\"colorway\":[\"#636efa\",\"#EF553B\",\"#00cc96\",\"#ab63fa\",\"#FFA15A\",\"#19d3f3\",\"#FF6692\",\"#B6E880\",\"#FF97FF\",\"#FECB52\"],\"font\":{\"color\":\"#f2f5fa\"},\"geo\":{\"bgcolor\":\"rgb(17,17,17)\",\"lakecolor\":\"rgb(17,17,17)\",\"landcolor\":\"rgb(17,17,17)\",\"showlakes\":true,\"showland\":true,\"subunitcolor\":\"#506784\"},\"hoverlabel\":{\"align\":\"left\"},\"hovermode\":\"closest\",\"mapbox\":{\"style\":\"dark\"},\"paper_bgcolor\":\"rgb(17,17,17)\",\"plot_bgcolor\":\"rgb(17,17,17)\",\"polar\":{\"angularaxis\":{\"gridcolor\":\"#506784\",\"linecolor\":\"#506784\",\"ticks\":\"\"},\"bgcolor\":\"rgb(17,17,17)\",\"radialaxis\":{\"gridcolor\":\"#506784\",\"linecolor\":\"#506784\",\"ticks\":\"\"}},\"scene\":{\"xaxis\":{\"backgroundcolor\":\"rgb(17,17,17)\",\"gridcolor\":\"#506784\",\"gridwidth\":2,\"linecolor\":\"#506784\",\"showbackground\":true,\"ticks\":\"\",\"zerolinecolor\":\"#C8D4E3\"},\"yaxis\":{\"backgroundcolor\":\"rgb(17,17,17)\",\"gridcolor\":\"#506784\",\"gridwidth\":2,\"linecolor\":\"#506784\",\"showbackground\":true,\"ticks\":\"\",\"zerolinecolor\":\"#C8D4E3\"},\"zaxis\":{\"backgroundcolor\":\"rgb(17,17,17)\",\"gridcolor\":\"#506784\",\"gridwidth\":2,\"linecolor\":\"#506784\",\"showbackground\":true,\"ticks\":\"\",\"zerolinecolor\":\"#C8D4E3\"}},\"shapedefaults\":{\"line\":{\"color\":\"#f2f5fa\"}},\"sliderdefaults\":{\"bgcolor\":\"#C8D4E3\",\"bordercolor\":\"rgb(17,17,17)\",\"borderwidth\":1,\"tickwidth\":0},\"ternary\":{\"aaxis\":{\"gridcolor\":\"#506784\",\"linecolor\":\"#506784\",\"ticks\":\"\"},\"baxis\":{\"gridcolor\":\"#506784\",\"linecolor\":\"#506784\",\"ticks\":\"\"},\"bgcolor\":\"rgb(17,17,17)\",\"caxis\":{\"gridcolor\":\"#506784\",\"linecolor\":\"#506784\",\"ticks\":\"\"}},\"title\":{\"x\":0.05},\"updatemenudefaults\":{\"bgcolor\":\"#506784\",\"borderwidth\":0},\"xaxis\":{\"automargin\":true,\"gridcolor\":\"#283442\",\"linecolor\":\"#506784\",\"ticks\":\"\",\"title\":{\"standoff\":15},\"zerolinecolor\":\"#283442\",\"zerolinewidth\":2},\"yaxis\":{\"automargin\":true,\"gridcolor\":\"#283442\",\"linecolor\":\"#506784\",\"ticks\":\"\",\"title\":{\"standoff\":15},\"zerolinecolor\":\"#283442\",\"zerolinewidth\":2}}},\"xaxis\":{\"anchor\":\"y\",\"domain\":[0.0,1.0],\"title\":{\"text\":\"RM\"}},\"yaxis\":{\"anchor\":\"x\",\"domain\":[0.0,1.0],\"title\":{\"text\":\"count\"}},\"legend\":{\"tracegroupgap\":0},\"margin\":{\"t\":60},\"barmode\":\"relative\",\"title\":{\"text\":\"M\\u00e9dia dos quartos\"}},                        {\"responsive\": true}                    ).then(function(){\n",
              "                            \n",
              "var gd = document.getElementById('f1b8ff5f-4ee2-4a7f-b27b-c53417af274b');\n",
              "var x = new MutationObserver(function (mutations, observer) {{\n",
              "        var display = window.getComputedStyle(gd).display;\n",
              "        if (!display || display === 'none') {{\n",
              "            console.log([gd, 'removed!']);\n",
              "            Plotly.purge(gd);\n",
              "            observer.disconnect();\n",
              "        }}\n",
              "}});\n",
              "\n",
              "// Listen for the removal of the full notebook cells\n",
              "var notebookContainer = gd.closest('#notebook-container');\n",
              "if (notebookContainer) {{\n",
              "    x.observe(notebookContainer, {childList: true});\n",
              "}}\n",
              "\n",
              "// Listen for the clearing of the current output cell\n",
              "var outputEl = gd.closest('.output');\n",
              "if (outputEl) {{\n",
              "    x.observe(outputEl, {childList: true});\n",
              "}}\n",
              "\n",
              "                        })                };                            </script>        </div>\n",
              "</body>\n",
              "</html>"
            ]
          },
          "metadata": {}
        }
      ],
      "source": [
        "fig2 = px.histogram(df,x='RM',nbins=40,template='plotly_dark')\n",
        "fig2.update_layout(title_text='Média dos quartos')\n",
        "fig2.show()"
      ]
    },
    {
      "cell_type": "code",
      "execution_count": 27,
      "metadata": {
        "id": "zIRwymgRR-Qy",
        "colab": {
          "base_uri": "https://localhost:8080/",
          "height": 472
        },
        "outputId": "01367675-9dd2-4d66-c24a-1d72b89454ad"
      },
      "outputs": [
        {
          "output_type": "display_data",
          "data": {
            "text/plain": [
              "<Figure size 640x480 with 1 Axes>"
            ],
            "image/png": "[encoded data removed]"
          },
          "metadata": {}
        }
      ],
      "source": [
        "probplot(df.LSTAT,dist='norm',plot=plt)\n",
        "plt.style.use('dark_background')\n",
        "plt.title('Normal Q-Q plot')\n",
        "plt.show()"
      ]
    },
    {
      "cell_type": "code",
      "execution_count": 28,
      "metadata": {
        "id": "hD0psUYDR-Qy",
        "colab": {
          "base_uri": "https://localhost:8080/",
          "height": 542
        },
        "outputId": "f3d27dbb-6c2b-428e-db14-f63edcadc4d1"
      },
      "outputs": [
        {
          "output_type": "display_data",
          "data": {
            "text/html": [
              "<html>\n",
              "<head><meta charset=\"utf-8\" /></head>\n",
              "<body>\n",
              "    <div>            <script src=\"https://cdnjs.cloudflare.com/ajax/libs/mathjax/2.7.5/MathJax.js?config=TeX-AMS-MML_SVG\"></script><script type=\"text/javascript\">if (window.MathJax && window.MathJax.Hub && window.MathJax.Hub.Config) {window.MathJax.Hub.Config({SVG: {font: \"STIX-Web\"}});}</script>                <script type=\"text/javascript\">window.PlotlyConfig = {MathJaxConfig: 'local'};</script>\n",
              "        <script charset=\"utf-8\" src=\"https://cdn.plot.ly/plotly-2.24.1.min.js\"></script>                <div id=\"3c7b0fa4-f2df-44e4-b9b5-7a60f7eaca76\" class=\"plotly-graph-div\" style=\"height:525px; width:100%;\"></div>            <script type=\"text/javascript\">                                    window.PLOTLYENV=window.PLOTLYENV || {};                                    if (document.getElementById(\"3c7b0fa4-f2df-44e4-b9b5-7a60f7eaca76\")) {                    Plotly.newPlot(                        \"3c7b0fa4-f2df-44e4-b9b5-7a60f7eaca76\",                        [{\"alignmentgroup\":\"True\",\"bingroup\":\"x\",\"hovertemplate\":\"LSTAT=%{x}\\u003cbr\\u003ecount=%{y}\\u003cextra\\u003e\\u003c\\u002fextra\\u003e\",\"legendgroup\":\"\",\"marker\":{\"color\":\"#636efa\",\"pattern\":{\"shape\":\"\"}},\"name\":\"\",\"nbinsx\":40,\"offsetgroup\":\"\",\"orientation\":\"v\",\"showlegend\":false,\"x\":[4.98,9.14,4.03,2.94,5.33,5.21,12.43,19.15,29.93,17.1,20.45,13.27,15.71,8.26,10.26,8.47,6.58,14.67,11.69,11.28,21.02,13.83,18.72,19.88,16.3,16.51,14.81,17.28,12.8,11.98,22.6,13.04,27.71,18.35,20.34,9.68,11.41,8.77,10.13,4.32,1.98,4.84,5.81,7.44,9.55,10.21,14.15,18.8,30.81,16.2,13.45,9.43,5.28,8.43,14.8,4.81,5.77,3.95,6.86,9.22,13.15,14.44,6.73,9.5,8.05,4.67,10.24,8.1,13.09,8.79,6.72,9.88,5.52,7.54,6.78,8.94,11.97,10.27,12.34,9.1,5.29,7.22,6.72,7.51,9.62,6.53,12.86,8.44,5.5,5.7,8.81,8.2,8.16,6.21,10.59,6.65,11.34,4.21,3.57,6.19,9.42,7.67,10.63,13.44,12.33,16.47,18.66,14.09,12.27,15.55,13.0,10.16,16.21,17.09,10.45,15.76,12.04,10.3,15.37,13.61,14.37,14.27,17.93,25.41,17.58,14.81,27.26,17.19,15.39,18.34,12.6,12.26,11.12,15.03,17.31,16.96,16.9,14.59,21.32,18.46,24.16,34.41,26.82,26.42,29.29,27.8,16.65,29.53,28.32,21.45,14.1,13.28,12.12,15.79,15.12,15.02,16.14,4.59,6.43,7.39,5.5,11.64,9.81,12.14,11.1,11.32,14.43,12.03,14.69,9.04,9.64,5.33,10.11,6.29,6.92,5.04,7.56,9.45,4.82,5.68,13.98,13.15,6.68,4.56,5.39,5.1,4.69,2.87,5.03,4.38,4.08,8.61,6.62,4.56,4.45,7.43,3.11,3.81,10.87,10.97,18.06,14.66,23.09,17.27,23.98,16.03,9.38,29.55,9.47,13.51,9.69,17.92,10.5,9.71,21.46,9.93,7.6,4.14,3.13,6.36,3.92,3.76,11.65,5.25,2.47,3.95,8.05,10.88,9.54,4.73,6.36,7.37,11.38,12.4,11.22,5.19,12.5,18.46,9.16,10.15,9.52,6.56,5.9,3.59,3.53,3.54,6.57,9.25,3.11,7.79,6.9,9.59,7.26,5.91,11.25,8.1,10.45,14.79,3.16,13.65,13.0,6.59,7.73,6.58,3.53,2.98,6.05,4.16,7.19,4.85,3.76,4.59,3.01,7.85,8.23,12.93,7.14,7.6,9.51,3.33,3.56,4.7,8.58,10.4,6.27,7.39,15.84,4.97,4.74,6.07,9.5,8.67,4.86,6.93,8.93,6.47,7.53,4.54,9.97,12.64,5.98,11.72,7.9,9.28,11.5,18.33,15.94,10.36,12.73,7.2,6.87,7.7,11.74,6.12,5.08,6.15,12.79,9.97,7.34,9.09,12.43,7.83,5.68,6.75,8.01,9.8,10.56,8.51,9.74,9.29,5.49,8.65,7.18,4.61,10.53,12.67,6.36,5.99,5.89,5.98,5.49,7.79,4.5,8.05,5.57,17.6,13.27,11.48,12.67,7.79,14.19,10.19,14.64,7.12,14.0,13.33,34.77,37.97,13.44,23.24,21.24,23.69,21.78,17.21,21.08,23.6,24.56,30.63,30.81,28.28,31.99,30.62,20.85,17.11,18.76,25.68,15.17,16.35,17.12,19.37,19.92,30.59,29.97,26.77,20.32,20.31,19.77,27.38,22.98,23.34,12.13,26.4,19.78,10.11,21.22,34.37,20.08,36.98,29.05,25.79,26.64,20.62,22.74,15.02,15.7,14.1,23.29,17.16,24.39,15.69,14.52,21.52,24.08,17.64,19.69,12.03,16.22,15.17,23.27,18.05,26.45,34.02,22.88,22.11,19.52,16.59,18.85,23.79,23.98,17.79,16.44,18.13,19.31,17.44,17.73,17.27,16.74,18.71,18.13,19.01,16.94,16.23,14.7,16.42,14.65,13.99,10.29,13.22,14.13,17.15,21.32,18.13,14.76,16.29,12.87,14.36,11.66,18.14,24.1,18.68,24.91,18.03,13.11,10.74,7.74,7.01,10.42,13.34,10.58,14.98,11.45,18.06,23.97,29.68,18.07,13.35,12.01,13.59,17.6,21.14,14.1,12.92,15.1,14.33,9.67,9.08,5.64,6.48,7.88],\"xaxis\":\"x\",\"yaxis\":\"y\",\"type\":\"histogram\"}],                        {\"template\":{\"data\":{\"barpolar\":[{\"marker\":{\"line\":{\"color\":\"rgb(17,17,17)\",\"width\":0.5},\"pattern\":{\"fillmode\":\"overlay\",\"size\":10,\"solidity\":0.2}},\"type\":\"barpolar\"}],\"bar\":[{\"error_x\":{\"color\":\"#f2f5fa\"},\"error_y\":{\"color\":\"#f2f5fa\"},\"marker\":{\"line\":{\"color\":\"rgb(17,17,17)\",\"width\":0.5},\"pattern\":{\"fillmode\":\"overlay\",\"size\":10,\"solidity\":0.2}},\"type\":\"bar\"}],\"carpet\":[{\"aaxis\":{\"endlinecolor\":\"#A2B1C6\",\"gridcolor\":\"#506784\",\"linecolor\":\"#506784\",\"minorgridcolor\":\"#506784\",\"startlinecolor\":\"#A2B1C6\"},\"baxis\":{\"endlinecolor\":\"#A2B1C6\",\"gridcolor\":\"#506784\",\"linecolor\":\"#506784\",\"minorgridcolor\":\"#506784\",\"startlinecolor\":\"#A2B1C6\"},\"type\":\"carpet\"}],\"choropleth\":[{\"colorbar\":{\"outlinewidth\":0,\"ticks\":\"\"},\"type\":\"choropleth\"}],\"contourcarpet\":[{\"colorbar\":{\"outlinewidth\":0,\"ticks\":\"\"},\"type\":\"contourcarpet\"}],\"contour\":[{\"colorbar\":{\"outlinewidth\":0,\"ticks\":\"\"},\"colorscale\":[[0.0,\"#0d0887\"],[0.1111111111111111,\"#46039f\"],[0.2222222222222222,\"#7201a8\"],[0.3333333333333333,\"#9c179e\"],[0.4444444444444444,\"#bd3786\"],[0.5555555555555556,\"#d8576b\"],[0.6666666666666666,\"#ed7953\"],[0.7777777777777778,\"#fb9f3a\"],[0.8888888888888888,\"#fdca26\"],[1.0,\"#f0f921\"]],\"type\":\"contour\"}],\"heatmapgl\":[{\"colorbar\":{\"outlinewidth\":0,\"ticks\":\"\"},\"colorscale\":[[0.0,\"#0d0887\"],[0.1111111111111111,\"#46039f\"],[0.2222222222222222,\"#7201a8\"],[0.3333333333333333,\"#9c179e\"],[0.4444444444444444,\"#bd3786\"],[0.5555555555555556,\"#d8576b\"],[0.6666666666666666,\"#ed7953\"],[0.7777777777777778,\"#fb9f3a\"],[0.8888888888888888,\"#fdca26\"],[1.0,\"#f0f921\"]],\"type\":\"heatmapgl\"}],\"heatmap\":[{\"colorbar\":{\"outlinewidth\":0,\"ticks\":\"\"},\"colorscale\":[[0.0,\"#0d0887\"],[0.1111111111111111,\"#46039f\"],[0.2222222222222222,\"#7201a8\"],[0.3333333333333333,\"#9c179e\"],[0.4444444444444444,\"#bd3786\"],[0.5555555555555556,\"#d8576b\"],[0.6666666666666666,\"#ed7953\"],[0.7777777777777778,\"#fb9f3a\"],[0.8888888888888888,\"#fdca26\"],[1.0,\"#f0f921\"]],\"type\":\"heatmap\"}],\"histogram2dcontour\":[{\"colorbar\":{\"outlinewidth\":0,\"ticks\":\"\"},\"colorscale\":[[0.0,\"#0d0887\"],[0.1111111111111111,\"#46039f\"],[0.2222222222222222,\"#7201a8\"],[0.3333333333333333,\"#9c179e\"],[0.4444444444444444,\"#bd3786\"],[0.5555555555555556,\"#d8576b\"],[0.6666666666666666,\"#ed7953\"],[0.7777777777777778,\"#fb9f3a\"],[0.8888888888888888,\"#fdca26\"],[1.0,\"#f0f921\"]],\"type\":\"histogram2dcontour\"}],\"histogram2d\":[{\"colorbar\":{\"outlinewidth\":0,\"ticks\":\"\"},\"colorscale\":[[0.0,\"#0d0887\"],[0.1111111111111111,\"#46039f\"],[0.2222222222222222,\"#7201a8\"],[0.3333333333333333,\"#9c179e\"],[0.4444444444444444,\"#bd3786\"],[0.5555555555555556,\"#d8576b\"],[0.6666666666666666,\"#ed7953\"],[0.7777777777777778,\"#fb9f3a\"],[0.8888888888888888,\"#fdca26\"],[1.0,\"#f0f921\"]],\"type\":\"histogram2d\"}],\"histogram\":[{\"marker\":{\"pattern\":{\"fillmode\":\"overlay\",\"size\":10,\"solidity\":0.2}},\"type\":\"histogram\"}],\"mesh3d\":[{\"colorbar\":{\"outlinewidth\":0,\"ticks\":\"\"},\"type\":\"mesh3d\"}],\"parcoords\":[{\"line\":{\"colorbar\":{\"outlinewidth\":0,\"ticks\":\"\"}},\"type\":\"parcoords\"}],\"pie\":[{\"automargin\":true,\"type\":\"pie\"}],\"scatter3d\":[{\"line\":{\"colorbar\":{\"outlinewidth\":0,\"ticks\":\"\"}},\"marker\":{\"colorbar\":{\"outlinewidth\":0,\"ticks\":\"\"}},\"type\":\"scatter3d\"}],\"scattercarpet\":[{\"marker\":{\"colorbar\":{\"outlinewidth\":0,\"ticks\":\"\"}},\"type\":\"scattercarpet\"}],\"scattergeo\":[{\"marker\":{\"colorbar\":{\"outlinewidth\":0,\"ticks\":\"\"}},\"type\":\"scattergeo\"}],\"scattergl\":[{\"marker\":{\"line\":{\"color\":\"#283442\"}},\"type\":\"scattergl\"}],\"scattermapbox\":[{\"marker\":{\"colorbar\":{\"outlinewidth\":0,\"ticks\":\"\"}},\"type\":\"scattermapbox\"}],\"scatterpolargl\":[{\"marker\":{\"colorbar\":{\"outlinewidth\":0,\"ticks\":\"\"}},\"type\":\"scatterpolargl\"}],\"scatterpolar\":[{\"marker\":{\"colorbar\":{\"outlinewidth\":0,\"ticks\":\"\"}},\"type\":\"scatterpolar\"}],\"scatter\":[{\"marker\":{\"line\":{\"color\":\"#283442\"}},\"type\":\"scatter\"}],\"scatterternary\":[{\"marker\":{\"colorbar\":{\"outlinewidth\":0,\"ticks\":\"\"}},\"type\":\"scatterternary\"}],\"surface\":[{\"colorbar\":{\"outlinewidth\":0,\"ticks\":\"\"},\"colorscale\":[[0.0,\"#0d0887\"],[0.1111111111111111,\"#46039f\"],[0.2222222222222222,\"#7201a8\"],[0.3333333333333333,\"#9c179e\"],[0.4444444444444444,\"#bd3786\"],[0.5555555555555556,\"#d8576b\"],[0.6666666666666666,\"#ed7953\"],[0.7777777777777778,\"#fb9f3a\"],[0.8888888888888888,\"#fdca26\"],[1.0,\"#f0f921\"]],\"type\":\"surface\"}],\"table\":[{\"cells\":{\"fill\":{\"color\":\"#506784\"},\"line\":{\"color\":\"rgb(17,17,17)\"}},\"header\":{\"fill\":{\"color\":\"#2a3f5f\"},\"line\":{\"color\":\"rgb(17,17,17)\"}},\"type\":\"table\"}]},\"layout\":{\"annotationdefaults\":{\"arrowcolor\":\"#f2f5fa\",\"arrowhead\":0,\"arrowwidth\":1},\"autotypenumbers\":\"strict\",\"coloraxis\":{\"colorbar\":{\"outlinewidth\":0,\"ticks\":\"\"}},\"colorscale\":{\"diverging\":[[0,\"#8e0152\"],[0.1,\"#c51b7d\"],[0.2,\"#de77ae\"],[0.3,\"#f1b6da\"],[0.4,\"#fde0ef\"],[0.5,\"#f7f7f7\"],[0.6,\"#e6f5d0\"],[0.7,\"#b8e186\"],[0.8,\"#7fbc41\"],[0.9,\"#4d9221\"],[1,\"#276419\"]],\"sequential\":[[0.0,\"#0d0887\"],[0.1111111111111111,\"#46039f\"],[0.2222222222222222,\"#7201a8\"],[0.3333333333333333,\"#9c179e\"],[0.4444444444444444,\"#bd3786\"],[0.5555555555555556,\"#d8576b\"],[0.6666666666666666,\"#ed7953\"],[0.7777777777777778,\"#fb9f3a\"],[0.8888888888888888,\"#fdca26\"],[1.0,\"#f0f921\"]],\"sequentialminus\":[[0.0,\"#0d0887\"],[0.1111111111111111,\"#46039f\"],[0.2222222222222222,\"#7201a8\"],[0.3333333333333333,\"#9c179e\"],[0.4444444444444444,\"#bd3786\"],[0.5555555555555556,\"#d8576b\"],[0.6666666666666666,\"#ed7953\"],[0.7777777777777778,\"#fb9f3a\"],[0.8888888888888888,\"#fdca26\"],[1.0,\"#f0f921\"]]},\"colorway\":[\"#636efa\",\"#EF553B\",\"#00cc96\",\"#ab63fa\",\"#FFA15A\",\"#19d3f3\",\"#FF6692\",\"#B6E880\",\"#FF97FF\",\"#FECB52\"],\"font\":{\"color\":\"#f2f5fa\"},\"geo\":{\"bgcolor\":\"rgb(17,17,17)\",\"lakecolor\":\"rgb(17,17,17)\",\"landcolor\":\"rgb(17,17,17)\",\"showlakes\":true,\"showland\":true,\"subunitcolor\":\"#506784\"},\"hoverlabel\":{\"align\":\"left\"},\"hovermode\":\"closest\",\"mapbox\":{\"style\":\"dark\"},\"paper_bgcolor\":\"rgb(17,17,17)\",\"plot_bgcolor\":\"rgb(17,17,17)\",\"polar\":{\"angularaxis\":{\"gridcolor\":\"#506784\",\"linecolor\":\"#506784\",\"ticks\":\"\"},\"bgcolor\":\"rgb(17,17,17)\",\"radialaxis\":{\"gridcolor\":\"#506784\",\"linecolor\":\"#506784\",\"ticks\":\"\"}},\"scene\":{\"xaxis\":{\"backgroundcolor\":\"rgb(17,17,17)\",\"gridcolor\":\"#506784\",\"gridwidth\":2,\"linecolor\":\"#506784\",\"showbackground\":true,\"ticks\":\"\",\"zerolinecolor\":\"#C8D4E3\"},\"yaxis\":{\"backgroundcolor\":\"rgb(17,17,17)\",\"gridcolor\":\"#506784\",\"gridwidth\":2,\"linecolor\":\"#506784\",\"showbackground\":true,\"ticks\":\"\",\"zerolinecolor\":\"#C8D4E3\"},\"zaxis\":{\"backgroundcolor\":\"rgb(17,17,17)\",\"gridcolor\":\"#506784\",\"gridwidth\":2,\"linecolor\":\"#506784\",\"showbackground\":true,\"ticks\":\"\",\"zerolinecolor\":\"#C8D4E3\"}},\"shapedefaults\":{\"line\":{\"color\":\"#f2f5fa\"}},\"sliderdefaults\":{\"bgcolor\":\"#C8D4E3\",\"bordercolor\":\"rgb(17,17,17)\",\"borderwidth\":1,\"tickwidth\":0},\"ternary\":{\"aaxis\":{\"gridcolor\":\"#506784\",\"linecolor\":\"#506784\",\"ticks\":\"\"},\"baxis\":{\"gridcolor\":\"#506784\",\"linecolor\":\"#506784\",\"ticks\":\"\"},\"bgcolor\":\"rgb(17,17,17)\",\"caxis\":{\"gridcolor\":\"#506784\",\"linecolor\":\"#506784\",\"ticks\":\"\"}},\"title\":{\"x\":0.05},\"updatemenudefaults\":{\"bgcolor\":\"#506784\",\"borderwidth\":0},\"xaxis\":{\"automargin\":true,\"gridcolor\":\"#283442\",\"linecolor\":\"#506784\",\"ticks\":\"\",\"title\":{\"standoff\":15},\"zerolinecolor\":\"#283442\",\"zerolinewidth\":2},\"yaxis\":{\"automargin\":true,\"gridcolor\":\"#283442\",\"linecolor\":\"#506784\",\"ticks\":\"\",\"title\":{\"standoff\":15},\"zerolinecolor\":\"#283442\",\"zerolinewidth\":2}}},\"xaxis\":{\"anchor\":\"y\",\"domain\":[0.0,1.0],\"title\":{\"text\":\"LSTAT\"}},\"yaxis\":{\"anchor\":\"x\",\"domain\":[0.0,1.0],\"title\":{\"text\":\"count\"}},\"legend\":{\"tracegroupgap\":0},\"margin\":{\"t\":60},\"barmode\":\"relative\",\"title\":{\"text\":\"Porcentagem de moradores de classe baixa\"}},                        {\"responsive\": true}                    ).then(function(){\n",
              "                            \n",
              "var gd = document.getElementById('3c7b0fa4-f2df-44e4-b9b5-7a60f7eaca76');\n",
              "var x = new MutationObserver(function (mutations, observer) {{\n",
              "        var display = window.getComputedStyle(gd).display;\n",
              "        if (!display || display === 'none') {{\n",
              "            console.log([gd, 'removed!']);\n",
              "            Plotly.purge(gd);\n",
              "            observer.disconnect();\n",
              "        }}\n",
              "}});\n",
              "\n",
              "// Listen for the removal of the full notebook cells\n",
              "var notebookContainer = gd.closest('#notebook-container');\n",
              "if (notebookContainer) {{\n",
              "    x.observe(notebookContainer, {childList: true});\n",
              "}}\n",
              "\n",
              "// Listen for the clearing of the current output cell\n",
              "var outputEl = gd.closest('.output');\n",
              "if (outputEl) {{\n",
              "    x.observe(outputEl, {childList: true});\n",
              "}}\n",
              "\n",
              "                        })                };                            </script>        </div>\n",
              "</body>\n",
              "</html>"
            ]
          },
          "metadata": {}
        }
      ],
      "source": [
        "fig3 = px.histogram(df,x='LSTAT', nbins=40,template='plotly_dark')\n",
        "fig3.update_layout(title_text='Porcentagem de moradores de classe baixa')\n",
        "fig3.show()"
      ]
    },
    {
      "cell_type": "code",
      "execution_count": 29,
      "metadata": {
        "id": "SE6GbACXR-Qz",
        "colab": {
          "base_uri": "https://localhost:8080/",
          "height": 472
        },
        "outputId": "d6c7894e-8617-484e-c1a1-caa690fba0b6"
      },
      "outputs": [
        {
          "output_type": "display_data",
          "data": {
            "text/plain": [
              "<Figure size 640x480 with 1 Axes>"
            ],
            "image/png": "[encoded data removed]"
          },
          "metadata": {}
        }
      ],
      "source": [
        "probplot(df.PTRATIO,dist='norm',plot=plt)\n",
        "plt.style.use('dark_background')\n",
        "plt.title('Normal Q-Q plot')\n",
        "plt.show()"
      ]
    },
    {
      "cell_type": "code",
      "execution_count": 30,
      "metadata": {
        "id": "K4gmccNUR-Q0",
        "colab": {
          "base_uri": "https://localhost:8080/",
          "height": 542
        },
        "outputId": "7480a86d-4737-4a35-d5fe-a5855abb7a19"
      },
      "outputs": [
        {
          "output_type": "display_data",
          "data": {
            "text/html": [
              "<html>\n",
              "<head><meta charset=\"utf-8\" /></head>\n",
              "<body>\n",
              "    <div>            <script src=\"https://cdnjs.cloudflare.com/ajax/libs/mathjax/2.7.5/MathJax.js?config=TeX-AMS-MML_SVG\"></script><script type=\"text/javascript\">if (window.MathJax && window.MathJax.Hub && window.MathJax.Hub.Config) {window.MathJax.Hub.Config({SVG: {font: \"STIX-Web\"}});}</script>                <script type=\"text/javascript\">window.PlotlyConfig = {MathJaxConfig: 'local'};</script>\n",
              "        <script charset=\"utf-8\" src=\"https://cdn.plot.ly/plotly-2.24.1.min.js\"></script>                <div id=\"c11da034-942f-44e5-99d9-71274b2c51fc\" class=\"plotly-graph-div\" style=\"height:525px; width:100%;\"></div>            <script type=\"text/javascript\">                                    window.PLOTLYENV=window.PLOTLYENV || {};                                    if (document.getElementById(\"c11da034-942f-44e5-99d9-71274b2c51fc\")) {                    Plotly.newPlot(                        \"c11da034-942f-44e5-99d9-71274b2c51fc\",                        [{\"alignmentgroup\":\"True\",\"bingroup\":\"x\",\"hovertemplate\":\"PTRATIO=%{x}\\u003cbr\\u003ecount=%{y}\\u003cextra\\u003e\\u003c\\u002fextra\\u003e\",\"legendgroup\":\"\",\"marker\":{\"color\":\"#636efa\",\"pattern\":{\"shape\":\"\"}},\"name\":\"\",\"nbinsx\":40,\"offsetgroup\":\"\",\"orientation\":\"v\",\"showlegend\":false,\"x\":[15.3,17.8,17.8,18.7,18.7,18.7,15.2,15.2,15.2,15.2,15.2,15.2,15.2,21.0,21.0,21.0,21.0,21.0,21.0,21.0,21.0,21.0,21.0,21.0,21.0,21.0,21.0,21.0,21.0,21.0,21.0,21.0,21.0,21.0,21.0,19.2,19.2,19.2,19.2,18.3,18.3,17.9,17.9,17.9,17.9,17.9,17.9,17.9,17.9,17.9,16.8,16.8,16.8,16.8,21.1,17.9,17.3,15.1,19.7,19.7,19.7,19.7,19.7,19.7,18.6,16.1,16.1,18.9,18.9,18.9,19.2,19.2,19.2,19.2,18.7,18.7,18.7,18.7,18.7,18.7,19.0,19.0,19.0,19.0,18.5,18.5,18.5,18.5,17.8,17.8,17.8,17.8,18.2,18.2,18.2,18.0,18.0,18.0,18.0,18.0,20.9,20.9,20.9,20.9,20.9,20.9,20.9,20.9,20.9,20.9,20.9,17.8,17.8,17.8,17.8,17.8,17.8,17.8,17.8,17.8,19.1,19.1,19.1,19.1,19.1,19.1,19.1,21.2,21.2,21.2,21.2,21.2,21.2,21.2,21.2,21.2,21.2,21.2,21.2,21.2,21.2,21.2,14.7,14.7,14.7,14.7,14.7,14.7,14.7,14.7,14.7,14.7,14.7,14.7,14.7,14.7,14.7,14.7,14.7,14.7,14.7,14.7,14.7,14.7,14.7,14.7,14.7,14.7,16.6,16.6,16.6,16.6,16.6,16.6,16.6,17.8,17.8,17.8,17.8,17.8,17.8,17.8,15.2,15.2,15.2,15.2,15.2,15.2,15.6,15.6,12.6,12.6,12.6,17.0,17.0,14.7,14.7,14.7,18.6,18.6,18.6,18.6,18.6,18.6,18.6,18.6,18.6,18.6,18.6,16.4,16.4,16.4,16.4,17.4,17.4,17.4,17.4,17.4,17.4,17.4,17.4,17.4,17.4,17.4,17.4,17.4,17.4,17.4,17.4,17.4,16.6,16.6,16.6,16.6,16.6,16.6,19.1,19.1,19.1,19.1,19.1,19.1,19.1,19.1,19.1,19.1,16.4,16.4,15.9,13.0,13.0,13.0,13.0,13.0,13.0,13.0,13.0,13.0,13.0,18.6,18.6,18.6,18.6,18.6,17.6,17.6,17.6,17.6,17.6,14.9,14.9,14.9,14.9,15.3,15.3,18.2,16.6,16.6,16.6,19.2,19.2,19.2,16.0,16.0,16.0,16.0,16.0,14.8,14.8,14.8,16.1,16.1,16.1,18.4,18.4,18.4,18.4,18.4,18.4,18.4,18.4,18.4,18.4,18.4,18.4,18.4,18.4,18.4,18.4,19.6,19.6,19.6,19.6,19.6,19.6,19.6,19.6,16.9,16.9,16.9,16.9,16.9,20.2,20.2,20.2,20.2,20.2,20.2,20.2,20.2,15.5,15.9,17.6,17.6,18.8,18.8,17.9,17.0,19.7,19.7,18.3,18.3,17.0,22.0,22.0,20.2,20.2,20.2,20.2,20.2,20.2,20.2,20.2,20.2,20.2,20.2,20.2,20.2,20.2,20.2,20.2,20.2,20.2,20.2,20.2,20.2,20.2,20.2,20.2,20.2,20.2,20.2,20.2,20.2,20.2,20.2,20.2,20.2,20.2,20.2,20.2,20.2,20.2,20.2,20.2,20.2,20.2,20.2,20.2,20.2,20.2,20.2,20.2,20.2,20.2,20.2,20.2,20.2,20.2,20.2,20.2,20.2,20.2,20.2,20.2,20.2,20.2,20.2,20.2,20.2,20.2,20.2,20.2,20.2,20.2,20.2,20.2,20.2,20.2,20.2,20.2,20.2,20.2,20.2,20.2,20.2,20.2,20.2,20.2,20.2,20.2,20.2,20.2,20.2,20.2,20.2,20.2,20.2,20.2,20.2,20.2,20.2,20.2,20.2,20.2,20.2,20.2,20.2,20.2,20.2,20.2,20.2,20.2,20.2,20.2,20.2,20.2,20.2,20.2,20.2,20.2,20.2,20.2,20.2,20.2,20.2,20.2,20.2,20.2,20.2,20.2,20.1,20.1,20.1,20.1,20.1,19.2,19.2,19.2,19.2,19.2,19.2,19.2,19.2,21.0,21.0,21.0,21.0,21.0],\"xaxis\":\"x\",\"yaxis\":\"y\",\"type\":\"histogram\"}],                        {\"template\":{\"data\":{\"barpolar\":[{\"marker\":{\"line\":{\"color\":\"rgb(17,17,17)\",\"width\":0.5},\"pattern\":{\"fillmode\":\"overlay\",\"size\":10,\"solidity\":0.2}},\"type\":\"barpolar\"}],\"bar\":[{\"error_x\":{\"color\":\"#f2f5fa\"},\"error_y\":{\"color\":\"#f2f5fa\"},\"marker\":{\"line\":{\"color\":\"rgb(17,17,17)\",\"width\":0.5},\"pattern\":{\"fillmode\":\"overlay\",\"size\":10,\"solidity\":0.2}},\"type\":\"bar\"}],\"carpet\":[{\"aaxis\":{\"endlinecolor\":\"#A2B1C6\",\"gridcolor\":\"#506784\",\"linecolor\":\"#506784\",\"minorgridcolor\":\"#506784\",\"startlinecolor\":\"#A2B1C6\"},\"baxis\":{\"endlinecolor\":\"#A2B1C6\",\"gridcolor\":\"#506784\",\"linecolor\":\"#506784\",\"minorgridcolor\":\"#506784\",\"startlinecolor\":\"#A2B1C6\"},\"type\":\"carpet\"}],\"choropleth\":[{\"colorbar\":{\"outlinewidth\":0,\"ticks\":\"\"},\"type\":\"choropleth\"}],\"contourcarpet\":[{\"colorbar\":{\"outlinewidth\":0,\"ticks\":\"\"},\"type\":\"contourcarpet\"}],\"contour\":[{\"colorbar\":{\"outlinewidth\":0,\"ticks\":\"\"},\"colorscale\":[[0.0,\"#0d0887\"],[0.1111111111111111,\"#46039f\"],[0.2222222222222222,\"#7201a8\"],[0.3333333333333333,\"#9c179e\"],[0.4444444444444444,\"#bd3786\"],[0.5555555555555556,\"#d8576b\"],[0.6666666666666666,\"#ed7953\"],[0.7777777777777778,\"#fb9f3a\"],[0.8888888888888888,\"#fdca26\"],[1.0,\"#f0f921\"]],\"type\":\"contour\"}],\"heatmapgl\":[{\"colorbar\":{\"outlinewidth\":0,\"ticks\":\"\"},\"colorscale\":[[0.0,\"#0d0887\"],[0.1111111111111111,\"#46039f\"],[0.2222222222222222,\"#7201a8\"],[0.3333333333333333,\"#9c179e\"],[0.4444444444444444,\"#bd3786\"],[0.5555555555555556,\"#d8576b\"],[0.6666666666666666,\"#ed7953\"],[0.7777777777777778,\"#fb9f3a\"],[0.8888888888888888,\"#fdca26\"],[1.0,\"#f0f921\"]],\"type\":\"heatmapgl\"}],\"heatmap\":[{\"colorbar\":{\"outlinewidth\":0,\"ticks\":\"\"},\"colorscale\":[[0.0,\"#0d0887\"],[0.1111111111111111,\"#46039f\"],[0.2222222222222222,\"#7201a8\"],[0.3333333333333333,\"#9c179e\"],[0.4444444444444444,\"#bd3786\"],[0.5555555555555556,\"#d8576b\"],[0.6666666666666666,\"#ed7953\"],[0.7777777777777778,\"#fb9f3a\"],[0.8888888888888888,\"#fdca26\"],[1.0,\"#f0f921\"]],\"type\":\"heatmap\"}],\"histogram2dcontour\":[{\"colorbar\":{\"outlinewidth\":0,\"ticks\":\"\"},\"colorscale\":[[0.0,\"#0d0887\"],[0.1111111111111111,\"#46039f\"],[0.2222222222222222,\"#7201a8\"],[0.3333333333333333,\"#9c179e\"],[0.4444444444444444,\"#bd3786\"],[0.5555555555555556,\"#d8576b\"],[0.6666666666666666,\"#ed7953\"],[0.7777777777777778,\"#fb9f3a\"],[0.8888888888888888,\"#fdca26\"],[1.0,\"#f0f921\"]],\"type\":\"histogram2dcontour\"}],\"histogram2d\":[{\"colorbar\":{\"outlinewidth\":0,\"ticks\":\"\"},\"colorscale\":[[0.0,\"#0d0887\"],[0.1111111111111111,\"#46039f\"],[0.2222222222222222,\"#7201a8\"],[0.3333333333333333,\"#9c179e\"],[0.4444444444444444,\"#bd3786\"],[0.5555555555555556,\"#d8576b\"],[0.6666666666666666,\"#ed7953\"],[0.7777777777777778,\"#fb9f3a\"],[0.8888888888888888,\"#fdca26\"],[1.0,\"#f0f921\"]],\"type\":\"histogram2d\"}],\"histogram\":[{\"marker\":{\"pattern\":{\"fillmode\":\"overlay\",\"size\":10,\"solidity\":0.2}},\"type\":\"histogram\"}],\"mesh3d\":[{\"colorbar\":{\"outlinewidth\":0,\"ticks\":\"\"},\"type\":\"mesh3d\"}],\"parcoords\":[{\"line\":{\"colorbar\":{\"outlinewidth\":0,\"ticks\":\"\"}},\"type\":\"parcoords\"}],\"pie\":[{\"automargin\":true,\"type\":\"pie\"}],\"scatter3d\":[{\"line\":{\"colorbar\":{\"outlinewidth\":0,\"ticks\":\"\"}},\"marker\":{\"colorbar\":{\"outlinewidth\":0,\"ticks\":\"\"}},\"type\":\"scatter3d\"}],\"scattercarpet\":[{\"marker\":{\"colorbar\":{\"outlinewidth\":0,\"ticks\":\"\"}},\"type\":\"scattercarpet\"}],\"scattergeo\":[{\"marker\":{\"colorbar\":{\"outlinewidth\":0,\"ticks\":\"\"}},\"type\":\"scattergeo\"}],\"scattergl\":[{\"marker\":{\"line\":{\"color\":\"#283442\"}},\"type\":\"scattergl\"}],\"scattermapbox\":[{\"marker\":{\"colorbar\":{\"outlinewidth\":0,\"ticks\":\"\"}},\"type\":\"scattermapbox\"}],\"scatterpolargl\":[{\"marker\":{\"colorbar\":{\"outlinewidth\":0,\"ticks\":\"\"}},\"type\":\"scatterpolargl\"}],\"scatterpolar\":[{\"marker\":{\"colorbar\":{\"outlinewidth\":0,\"ticks\":\"\"}},\"type\":\"scatterpolar\"}],\"scatter\":[{\"marker\":{\"line\":{\"color\":\"#283442\"}},\"type\":\"scatter\"}],\"scatterternary\":[{\"marker\":{\"colorbar\":{\"outlinewidth\":0,\"ticks\":\"\"}},\"type\":\"scatterternary\"}],\"surface\":[{\"colorbar\":{\"outlinewidth\":0,\"ticks\":\"\"},\"colorscale\":[[0.0,\"#0d0887\"],[0.1111111111111111,\"#46039f\"],[0.2222222222222222,\"#7201a8\"],[0.3333333333333333,\"#9c179e\"],[0.4444444444444444,\"#bd3786\"],[0.5555555555555556,\"#d8576b\"],[0.6666666666666666,\"#ed7953\"],[0.7777777777777778,\"#fb9f3a\"],[0.8888888888888888,\"#fdca26\"],[1.0,\"#f0f921\"]],\"type\":\"surface\"}],\"table\":[{\"cells\":{\"fill\":{\"color\":\"#506784\"},\"line\":{\"color\":\"rgb(17,17,17)\"}},\"header\":{\"fill\":{\"color\":\"#2a3f5f\"},\"line\":{\"color\":\"rgb(17,17,17)\"}},\"type\":\"table\"}]},\"layout\":{\"annotationdefaults\":{\"arrowcolor\":\"#f2f5fa\",\"arrowhead\":0,\"arrowwidth\":1},\"autotypenumbers\":\"strict\",\"coloraxis\":{\"colorbar\":{\"outlinewidth\":0,\"ticks\":\"\"}},\"colorscale\":{\"diverging\":[[0,\"#8e0152\"],[0.1,\"#c51b7d\"],[0.2,\"#de77ae\"],[0.3,\"#f1b6da\"],[0.4,\"#fde0ef\"],[0.5,\"#f7f7f7\"],[0.6,\"#e6f5d0\"],[0.7,\"#b8e186\"],[0.8,\"#7fbc41\"],[0.9,\"#4d9221\"],[1,\"#276419\"]],\"sequential\":[[0.0,\"#0d0887\"],[0.1111111111111111,\"#46039f\"],[0.2222222222222222,\"#7201a8\"],[0.3333333333333333,\"#9c179e\"],[0.4444444444444444,\"#bd3786\"],[0.5555555555555556,\"#d8576b\"],[0.6666666666666666,\"#ed7953\"],[0.7777777777777778,\"#fb9f3a\"],[0.8888888888888888,\"#fdca26\"],[1.0,\"#f0f921\"]],\"sequentialminus\":[[0.0,\"#0d0887\"],[0.1111111111111111,\"#46039f\"],[0.2222222222222222,\"#7201a8\"],[0.3333333333333333,\"#9c179e\"],[0.4444444444444444,\"#bd3786\"],[0.5555555555555556,\"#d8576b\"],[0.6666666666666666,\"#ed7953\"],[0.7777777777777778,\"#fb9f3a\"],[0.8888888888888888,\"#fdca26\"],[1.0,\"#f0f921\"]]},\"colorway\":[\"#636efa\",\"#EF553B\",\"#00cc96\",\"#ab63fa\",\"#FFA15A\",\"#19d3f3\",\"#FF6692\",\"#B6E880\",\"#FF97FF\",\"#FECB52\"],\"font\":{\"color\":\"#f2f5fa\"},\"geo\":{\"bgcolor\":\"rgb(17,17,17)\",\"lakecolor\":\"rgb(17,17,17)\",\"landcolor\":\"rgb(17,17,17)\",\"showlakes\":true,\"showland\":true,\"subunitcolor\":\"#506784\"},\"hoverlabel\":{\"align\":\"left\"},\"hovermode\":\"closest\",\"mapbox\":{\"style\":\"dark\"},\"paper_bgcolor\":\"rgb(17,17,17)\",\"plot_bgcolor\":\"rgb(17,17,17)\",\"polar\":{\"angularaxis\":{\"gridcolor\":\"#506784\",\"linecolor\":\"#506784\",\"ticks\":\"\"},\"bgcolor\":\"rgb(17,17,17)\",\"radialaxis\":{\"gridcolor\":\"#506784\",\"linecolor\":\"#506784\",\"ticks\":\"\"}},\"scene\":{\"xaxis\":{\"backgroundcolor\":\"rgb(17,17,17)\",\"gridcolor\":\"#506784\",\"gridwidth\":2,\"linecolor\":\"#506784\",\"showbackground\":true,\"ticks\":\"\",\"zerolinecolor\":\"#C8D4E3\"},\"yaxis\":{\"backgroundcolor\":\"rgb(17,17,17)\",\"gridcolor\":\"#506784\",\"gridwidth\":2,\"linecolor\":\"#506784\",\"showbackground\":true,\"ticks\":\"\",\"zerolinecolor\":\"#C8D4E3\"},\"zaxis\":{\"backgroundcolor\":\"rgb(17,17,17)\",\"gridcolor\":\"#506784\",\"gridwidth\":2,\"linecolor\":\"#506784\",\"showbackground\":true,\"ticks\":\"\",\"zerolinecolor\":\"#C8D4E3\"}},\"shapedefaults\":{\"line\":{\"color\":\"#f2f5fa\"}},\"sliderdefaults\":{\"bgcolor\":\"#C8D4E3\",\"bordercolor\":\"rgb(17,17,17)\",\"borderwidth\":1,\"tickwidth\":0},\"ternary\":{\"aaxis\":{\"gridcolor\":\"#506784\",\"linecolor\":\"#506784\",\"ticks\":\"\"},\"baxis\":{\"gridcolor\":\"#506784\",\"linecolor\":\"#506784\",\"ticks\":\"\"},\"bgcolor\":\"rgb(17,17,17)\",\"caxis\":{\"gridcolor\":\"#506784\",\"linecolor\":\"#506784\",\"ticks\":\"\"}},\"title\":{\"x\":0.05},\"updatemenudefaults\":{\"bgcolor\":\"#506784\",\"borderwidth\":0},\"xaxis\":{\"automargin\":true,\"gridcolor\":\"#283442\",\"linecolor\":\"#506784\",\"ticks\":\"\",\"title\":{\"standoff\":15},\"zerolinecolor\":\"#283442\",\"zerolinewidth\":2},\"yaxis\":{\"automargin\":true,\"gridcolor\":\"#283442\",\"linecolor\":\"#506784\",\"ticks\":\"\",\"title\":{\"standoff\":15},\"zerolinecolor\":\"#283442\",\"zerolinewidth\":2}}},\"xaxis\":{\"anchor\":\"y\",\"domain\":[0.0,1.0],\"title\":{\"text\":\"PTRATIO\"}},\"yaxis\":{\"anchor\":\"x\",\"domain\":[0.0,1.0],\"title\":{\"text\":\"count\"}},\"legend\":{\"tracegroupgap\":0},\"margin\":{\"t\":60},\"barmode\":\"relative\",\"title\":{\"text\":\"Raz\\u00e3o entre estudante e professores\"}},                        {\"responsive\": true}                    ).then(function(){\n",
              "                            \n",
              "var gd = document.getElementById('c11da034-942f-44e5-99d9-71274b2c51fc');\n",
              "var x = new MutationObserver(function (mutations, observer) {{\n",
              "        var display = window.getComputedStyle(gd).display;\n",
              "        if (!display || display === 'none') {{\n",
              "            console.log([gd, 'removed!']);\n",
              "            Plotly.purge(gd);\n",
              "            observer.disconnect();\n",
              "        }}\n",
              "}});\n",
              "\n",
              "// Listen for the removal of the full notebook cells\n",
              "var notebookContainer = gd.closest('#notebook-container');\n",
              "if (notebookContainer) {{\n",
              "    x.observe(notebookContainer, {childList: true});\n",
              "}}\n",
              "\n",
              "// Listen for the clearing of the current output cell\n",
              "var outputEl = gd.closest('.output');\n",
              "if (outputEl) {{\n",
              "    x.observe(outputEl, {childList: true});\n",
              "}}\n",
              "\n",
              "                        })                };                            </script>        </div>\n",
              "</body>\n",
              "</html>"
            ]
          },
          "metadata": {}
        }
      ],
      "source": [
        "fig4 = px.histogram(df,x='PTRATIO',nbins=40,template='plotly_dark')\n",
        "fig4.update_layout(title_text='Razão entre estudante e professores')\n",
        "fig4.show()"
      ]
    },
    {
      "cell_type": "markdown",
      "source": [
        "##Teste de Shapiro-Wilk\n",
        "Shapiro-Wilk pode ser usado no maximo 5000 linhas\n",
        "\n",
        "Ho = distribuição normal: p > 0.05\n",
        "\n",
        "Ha = distribuição != normal: p <= 0.05"
      ],
      "metadata": {
        "id": "5w-pWrZqePSp"
      }
    },
    {
      "cell_type": "code",
      "execution_count": 31,
      "metadata": {
        "id": "cpNWc_u2R-Q0",
        "colab": {
          "base_uri": "https://localhost:8080/"
        },
        "outputId": "89647e29-e590-4ddf-b8b3-f5a75bbd4c41"
      },
      "outputs": [
        {
          "output_type": "execute_result",
          "data": {
            "text/plain": [
              "ShapiroResult(statistic=0.9596619009971619, pvalue=2.5762864064304836e-10)"
            ]
          },
          "metadata": {},
          "execution_count": 31
        }
      ],
      "source": [
        "shapiro(df.MEDV)"
      ]
    },
    {
      "cell_type": "code",
      "execution_count": 32,
      "metadata": {
        "id": "29gTLMALR-Q0",
        "colab": {
          "base_uri": "https://localhost:8080/"
        },
        "outputId": "6900a167-f203-4ad6-ab10-24075a94439a"
      },
      "outputs": [
        {
          "output_type": "stream",
          "name": "stdout",
          "text": [
            "Shapiro-Wilk\n",
            "Estatisca do teste: 0.96\n",
            "P-valor: 0.0\n"
          ]
        }
      ],
      "source": [
        "estatistica,p =shapiro(df.MEDV)\n",
        "print('Shapiro-Wilk')\n",
        "print(f'Estatisca do teste: {round(estatistica,2)}')\n",
        "print(f'P-valor: {round(p,4)}')"
      ]
    },
    {
      "cell_type": "code",
      "execution_count": 33,
      "metadata": {
        "id": "cAV1puQoR-Q0",
        "colab": {
          "base_uri": "https://localhost:8080/"
        },
        "outputId": "0324fb54-fef9-4756-8d74-801a565efdb3"
      },
      "outputs": [
        {
          "output_type": "stream",
          "name": "stdout",
          "text": [
            "Shapiro-Wilk\n",
            "Estatisca do teste: 0.97\n",
            "P-valor: 0.0\n"
          ]
        }
      ],
      "source": [
        "estatistica,p =shapiro(df.RM)\n",
        "print('Shapiro-Wilk')\n",
        "print(f'Estatisca do teste: {round(estatistica,2)}')\n",
        "print(f'P-valor: {round(p,4)}')"
      ]
    },
    {
      "cell_type": "code",
      "execution_count": 34,
      "metadata": {
        "id": "eWzFd8ZlR-Q0",
        "colab": {
          "base_uri": "https://localhost:8080/"
        },
        "outputId": "6f0e3510-2860-4caf-d0bc-7ce9edfbefc6"
      },
      "outputs": [
        {
          "output_type": "stream",
          "name": "stdout",
          "text": [
            "Shapiro-Wilk\n",
            "Estatisca do teste: 0.94\n",
            "P-valor: 0.0\n"
          ]
        }
      ],
      "source": [
        "estatistica,p =shapiro(df.LSTAT)\n",
        "print('Shapiro-Wilk')\n",
        "print(f'Estatisca do teste: {round(estatistica,2)}')\n",
        "print(f'P-valor: {round(p,4)}')"
      ]
    },
    {
      "cell_type": "code",
      "execution_count": 35,
      "metadata": {
        "id": "5KW9SF81R-Q0",
        "colab": {
          "base_uri": "https://localhost:8080/"
        },
        "outputId": "9426b678-ddd5-40e4-f9b4-750589baba0e"
      },
      "outputs": [
        {
          "output_type": "stream",
          "name": "stdout",
          "text": [
            "Shapiro-Wilk\n",
            "Estatisca do teste: 0.91\n",
            "P-valor: 0.0\n"
          ]
        }
      ],
      "source": [
        "estatistica,p =shapiro(df.PTRATIO)\n",
        "print('Shapiro-Wilk')\n",
        "print(f'Estatisca do teste: {round(estatistica,2)}')\n",
        "print(f'P-valor: {round(p,2)}')"
      ]
    },
    {
      "cell_type": "markdown",
      "source": [
        "# **Teste lilliefors (Kolmogorov_Sminov)**\n",
        "##Lilliefors pode ser usado com mais de 5000 linhas\n",
        "\n",
        "Ho = distribuição normal: p > 0.05\n",
        "\n",
        "Ha = distribuição normal: p<= 0.05"
      ],
      "metadata": {
        "id": "BnRoJVaXA6_m"
      }
    },
    {
      "cell_type": "code",
      "execution_count": 36,
      "metadata": {
        "id": "Hhmqo9u3R-Q0",
        "colab": {
          "base_uri": "https://localhost:8080/"
        },
        "outputId": "2f4c9f5f-fde2-4a52-dab5-b6a70c7995c2"
      },
      "outputs": [
        {
          "output_type": "stream",
          "name": "stdout",
          "text": [
            "Lilliefors\n",
            "Estatisca do teste: 0.11\n",
            "P-valor: 0.0\n"
          ]
        }
      ],
      "source": [
        "estatistica,p =statsmodels.stats.diagnostic.lilliefors(df.MEDV,dist='norm')\n",
        "print('Lilliefors')\n",
        "print(f'Estatisca do teste: {round(estatistica,2)}')\n",
        "print(f'P-valor: {round(p,2)}')"
      ]
    },
    {
      "cell_type": "code",
      "execution_count": 37,
      "metadata": {
        "id": "yCxZU0y7R-Q0",
        "colab": {
          "base_uri": "https://localhost:8080/"
        },
        "outputId": "2a1ea681-db96-4180-ae1f-20ece406d556"
      },
      "outputs": [
        {
          "output_type": "stream",
          "name": "stdout",
          "text": [
            "Lilliefors\n",
            "Estatisca do teste: 0.06\n",
            "P-valor: 0.0\n"
          ]
        }
      ],
      "source": [
        "estatistica,p =statsmodels.stats.diagnostic.lilliefors(df.RM,dist='norm')\n",
        "print('Lilliefors')\n",
        "print(f'Estatisca do teste: {round(estatistica,2)}')\n",
        "print(f'P-valor: {round(p,2)}')"
      ]
    },
    {
      "cell_type": "code",
      "execution_count": 38,
      "metadata": {
        "id": "dy817UfQR-Q1",
        "colab": {
          "base_uri": "https://localhost:8080/"
        },
        "outputId": "2ebe3510-3469-4ca3-eabf-f1aa816979d2"
      },
      "outputs": [
        {
          "output_type": "stream",
          "name": "stdout",
          "text": [
            "Lilliefors\n",
            "Estatisca do teste: 0.09\n",
            "P-valor: 0.0\n"
          ]
        }
      ],
      "source": [
        "estatistica,p =statsmodels.stats.diagnostic.lilliefors(df.LSTAT,dist='norm')\n",
        "print('Lilliefors')\n",
        "print(f'Estatisca do teste: {round(estatistica,2)}')\n",
        "print(f'P-valor: {round(p,2)}')"
      ]
    },
    {
      "cell_type": "code",
      "execution_count": 39,
      "metadata": {
        "id": "BnjahTf4R-Q1",
        "colab": {
          "base_uri": "https://localhost:8080/"
        },
        "outputId": "cfc7eb87-db73-4f24-9a8f-fe2645a498f2"
      },
      "outputs": [
        {
          "output_type": "stream",
          "name": "stdout",
          "text": [
            "Lilliefors\n",
            "Estatisca do teste: 0.18\n",
            "P-valor: 0.0\n"
          ]
        }
      ],
      "source": [
        "estatistica,p =statsmodels.stats.diagnostic.lilliefors(df.PTRATIO,dist='norm')\n",
        "print('Lilliefors')\n",
        "print(f'Estatisca do teste: {round(estatistica,2)}')\n",
        "print(f'P-valor: {round(p,2)}')"
      ]
    },
    {
      "cell_type": "markdown",
      "source": [
        "# **Correlação Linear**\n",
        "##Pearson (distribuição normal)\n",
        "\n",
        "##Spearman (distribuição não normal)\n",
        "\n",
        "##Kendall (distribuição não normal com quantidade pequena de amostras)\n",
        "\n",
        "Ho = Não há correlação linear: p > 0.05\n",
        "\n",
        "Ha = existe correlação linear: p <= 0.05"
      ],
      "metadata": {
        "id": "FzjCAI__LDvL"
      }
    },
    {
      "cell_type": "markdown",
      "source": [
        "**Pearson**"
      ],
      "metadata": {
        "id": "G_c32qV4NVJi"
      }
    },
    {
      "cell_type": "code",
      "source": [
        "coef,p = pearsonr(df.MEDV,df.RM)\n",
        "print('Pearson')\n",
        "print(f'Coeficiente de correlação: {round(coef,2)}')\n",
        "print(f'p-valor: {round(p,2)}')"
      ],
      "metadata": {
        "id": "otXMZ1v9Dyaj",
        "colab": {
          "base_uri": "https://localhost:8080/"
        },
        "outputId": "0883cc3e-7cd2-4d19-ccaa-a143ed6a4cd1"
      },
      "execution_count": 40,
      "outputs": [
        {
          "output_type": "stream",
          "name": "stdout",
          "text": [
            "Pearson\n",
            "Coeficiente de correlação: 0.7\n",
            "p-valor: 0.0\n"
          ]
        }
      ]
    },
    {
      "cell_type": "code",
      "source": [
        "coef,p = spearmanr(df.MEDV,df.PTRATIO)\n",
        "print('Spearman')\n",
        "print(f'Coeficiente de correlação: {round(coef,2)}')\n",
        "print(f'p-valor: {round(p,2)}')"
      ],
      "metadata": {
        "id": "No6dl71aDyed",
        "colab": {
          "base_uri": "https://localhost:8080/"
        },
        "outputId": "90dde5a0-0550-4d91-ec0e-377c23352e78"
      },
      "execution_count": 41,
      "outputs": [
        {
          "output_type": "stream",
          "name": "stdout",
          "text": [
            "Spearman\n",
            "Coeficiente de correlação: -0.56\n",
            "p-valor: 0.0\n"
          ]
        }
      ]
    },
    {
      "cell_type": "code",
      "source": [
        "coef,p = kendalltau(df.MEDV,df.RM)\n",
        "print('Kendall')\n",
        "print(f'Coeficiente de correlação: {round(coef,2)}')\n",
        "print(f'p-valor: {round(p,2)}')"
      ],
      "metadata": {
        "id": "Q9b-1h51Dyhz",
        "colab": {
          "base_uri": "https://localhost:8080/"
        },
        "outputId": "f1ab4969-78de-4235-df85-74b8b088e5fc"
      },
      "execution_count": 42,
      "outputs": [
        {
          "output_type": "stream",
          "name": "stdout",
          "text": [
            "Kendall\n",
            "Coeficiente de correlação: 0.47\n",
            "p-valor: 0.0\n"
          ]
        }
      ]
    },
    {
      "cell_type": "code",
      "source": [
        "correlacoes = df.corr(method='spearman')\n",
        "correlacoes"
      ],
      "metadata": {
        "id": "pL6qxoyIDykj",
        "colab": {
          "base_uri": "https://localhost:8080/",
          "height": 175
        },
        "outputId": "71da8476-2e0b-4993-f3ab-705cdd699967"
      },
      "execution_count": 43,
      "outputs": [
        {
          "output_type": "execute_result",
          "data": {
            "text/plain": [
              "               RM     LSTAT   PTRATIO      MEDV\n",
              "RM       1.000000 -0.624700 -0.282053  0.624057\n",
              "LSTAT   -0.624700  1.000000  0.461739 -0.845527\n",
              "PTRATIO -0.282053  0.461739  1.000000 -0.559276\n",
              "MEDV     0.624057 -0.845527 -0.559276  1.000000"
            ],
            "text/html": [
              "\n",
              "  <div id=\"df-0ba99e78-76f8-4059-869e-6e573c543c08\" class=\"colab-df-container\">\n",
              "    <div>\n",
              "<style scoped>\n",
              "    .dataframe tbody tr th:only-of-type {\n",
              "        vertical-align: middle;\n",
              "    }\n",
              "\n",
              "    .dataframe tbody tr th {\n",
              "        vertical-align: top;\n",
              "    }\n",
              "\n",
              "    .dataframe thead th {\n",
              "        text-align: right;\n",
              "    }\n",
              "</style>\n",
              "<table border=\"1\" class=\"dataframe\">\n",
              "  <thead>\n",
              "    <tr style=\"text-align: right;\">\n",
              "      <th></th>\n",
              "      <th>RM</th>\n",
              "      <th>LSTAT</th>\n",
              "      <th>PTRATIO</th>\n",
              "      <th>MEDV</th>\n",
              "    </tr>\n",
              "  </thead>\n",
              "  <tbody>\n",
              "    <tr>\n",
              "      <th>RM</th>\n",
              "      <td>1.000000</td>\n",
              "      <td>-0.624700</td>\n",
              "      <td>-0.282053</td>\n",
              "      <td>0.624057</td>\n",
              "    </tr>\n",
              "    <tr>\n",
              "      <th>LSTAT</th>\n",
              "      <td>-0.624700</td>\n",
              "      <td>1.000000</td>\n",
              "      <td>0.461739</td>\n",
              "      <td>-0.845527</td>\n",
              "    </tr>\n",
              "    <tr>\n",
              "      <th>PTRATIO</th>\n",
              "      <td>-0.282053</td>\n",
              "      <td>0.461739</td>\n",
              "      <td>1.000000</td>\n",
              "      <td>-0.559276</td>\n",
              "    </tr>\n",
              "    <tr>\n",
              "      <th>MEDV</th>\n",
              "      <td>0.624057</td>\n",
              "      <td>-0.845527</td>\n",
              "      <td>-0.559276</td>\n",
              "      <td>1.000000</td>\n",
              "    </tr>\n",
              "  </tbody>\n",
              "</table>\n",
              "</div>\n",
              "    <div class=\"colab-df-buttons\">\n",
              "\n",
              "  <div class=\"colab-df-container\">\n",
              "    <button class=\"colab-df-convert\" onclick=\"convertToInteractive('df-0ba99e78-76f8-4059-869e-6e573c543c08')\"\n",
              "            title=\"Convert this dataframe to an interactive table.\"\n",
              "            style=\"display:none;\">\n",
              "\n",
              "  <svg xmlns=\"http://www.w3.org/2000/svg\" height=\"24px\" viewBox=\"0 -960 960 960\">\n",
              "    <path d=\"M120-120v-720h720v720H120Zm60-500h600v-160H180v160Zm220 220h160v-160H400v160Zm0 220h160v-160H400v160ZM180-400h160v-160H180v160Zm440 0h160v-160H620v160ZM180-180h160v-160H180v160Zm440 0h160v-160H620v160Z\"/>\n",
              "  </svg>\n",
              "    </button>\n",
              "\n",
              "  <style>\n",
              "    .colab-df-container {\n",
              "      display:flex;\n",
              "      gap: 12px;\n",
              "    }\n",
              "\n",
              "    .colab-df-convert {\n",
              "      background-color: #E8F0FE;\n",
              "      border: none;\n",
              "      border-radius: 50%;\n",
              "      cursor: pointer;\n",
              "      display: none;\n",
              "      fill: #1967D2;\n",
              "      height: 32px;\n",
              "      padding: 0 0 0 0;\n",
              "      width: 32px;\n",
              "    }\n",
              "\n",
              "    .colab-df-convert:hover {\n",
              "      background-color: #E2EBFA;\n",
              "      box-shadow: 0px 1px 2px rgba(60, 64, 67, 0.3), 0px 1px 3px 1px rgba(60, 64, 67, 0.15);\n",
              "      fill: #174EA6;\n",
              "    }\n",
              "\n",
              "    .colab-df-buttons div {\n",
              "      margin-bottom: 4px;\n",
              "    }\n",
              "\n",
              "    [theme=dark] .colab-df-convert {\n",
              "      background-color: #3B4455;\n",
              "      fill: #D2E3FC;\n",
              "    }\n",
              "\n",
              "    [theme=dark] .colab-df-convert:hover {\n",
              "      background-color: #434B5C;\n",
              "      box-shadow: 0px 1px 3px 1px rgba(0, 0, 0, 0.15);\n",
              "      filter: drop-shadow(0px 1px 2px rgba(0, 0, 0, 0.3));\n",
              "      fill: #FFFFFF;\n",
              "    }\n",
              "  </style>\n",
              "\n",
              "    <script>\n",
              "      const buttonEl =\n",
              "        document.querySelector('#df-0ba99e78-76f8-4059-869e-6e573c543c08 button.colab-df-convert');\n",
              "      buttonEl.style.display =\n",
              "        google.colab.kernel.accessAllowed ? 'block' : 'none';\n",
              "\n",
              "      async function convertToInteractive(key) {\n",
              "        const element = document.querySelector('#df-0ba99e78-76f8-4059-869e-6e573c543c08');\n",
              "        const dataTable =\n",
              "          await google.colab.kernel.invokeFunction('convertToInteractive',\n",
              "                                                    [key], {});\n",
              "        if (!dataTable) return;\n",
              "\n",
              "        const docLinkHtml = 'Like what you see? Visit the ' +\n",
              "          '<a target=\"_blank\" href=https://colab.research.google.com/notebooks/data_table.ipynb>data table notebook</a>'\n",
              "          + ' to learn more about interactive tables.';\n",
              "        element.innerHTML = '';\n",
              "        dataTable['output_type'] = 'display_data';\n",
              "        await google.colab.output.renderOutput(dataTable, element);\n",
              "        const docLink = document.createElement('div');\n",
              "        docLink.innerHTML = docLinkHtml;\n",
              "        element.appendChild(docLink);\n",
              "      }\n",
              "    </script>\n",
              "  </div>\n",
              "\n",
              "\n",
              "<div id=\"df-29ca4889-0c6d-4edd-9ccb-2a5789902dfd\">\n",
              "  <button class=\"colab-df-quickchart\" onclick=\"quickchart('df-29ca4889-0c6d-4edd-9ccb-2a5789902dfd')\"\n",
              "            title=\"Suggest charts\"\n",
              "            style=\"display:none;\">\n",
              "\n",
              "<svg xmlns=\"http://www.w3.org/2000/svg\" height=\"24px\"viewBox=\"0 0 24 24\"\n",
              "     width=\"24px\">\n",
              "    <g>\n",
              "        <path d=\"M19 3H5c-1.1 0-2 .9-2 2v14c0 1.1.9 2 2 2h14c1.1 0 2-.9 2-2V5c0-1.1-.9-2-2-2zM9 17H7v-7h2v7zm4 0h-2V7h2v10zm4 0h-2v-4h2v4z\"/>\n",
              "    </g>\n",
              "</svg>\n",
              "  </button>\n",
              "\n",
              "<style>\n",
              "  .colab-df-quickchart {\n",
              "      --bg-color: #E8F0FE;\n",
              "      --fill-color: #1967D2;\n",
              "      --hover-bg-color: #E2EBFA;\n",
              "      --hover-fill-color: #174EA6;\n",
              "      --disabled-fill-color: #AAA;\n",
              "      --disabled-bg-color: #DDD;\n",
              "  }\n",
              "\n",
              "  [theme=dark] .colab-df-quickchart {\n",
              "      --bg-color: #3B4455;\n",
              "      --fill-color: #D2E3FC;\n",
              "      --hover-bg-color: #434B5C;\n",
              "      --hover-fill-color: #FFFFFF;\n",
              "      --disabled-bg-color: #3B4455;\n",
              "      --disabled-fill-color: #666;\n",
              "  }\n",
              "\n",
              "  .colab-df-quickchart {\n",
              "    background-color: var(--bg-color);\n",
              "    border: none;\n",
              "    border-radius: 50%;\n",
              "    cursor: pointer;\n",
              "    display: none;\n",
              "    fill: var(--fill-color);\n",
              "    height: 32px;\n",
              "    padding: 0;\n",
              "    width: 32px;\n",
              "  }\n",
              "\n",
              "  .colab-df-quickchart:hover {\n",
              "    background-color: var(--hover-bg-color);\n",
              "    box-shadow: 0 1px 2px rgba(60, 64, 67, 0.3), 0 1px 3px 1px rgba(60, 64, 67, 0.15);\n",
              "    fill: var(--button-hover-fill-color);\n",
              "  }\n",
              "\n",
              "  .colab-df-quickchart-complete:disabled,\n",
              "  .colab-df-quickchart-complete:disabled:hover {\n",
              "    background-color: var(--disabled-bg-color);\n",
              "    fill: var(--disabled-fill-color);\n",
              "    box-shadow: none;\n",
              "  }\n",
              "\n",
              "  .colab-df-spinner {\n",
              "    border: 2px solid var(--fill-color);\n",
              "    border-color: transparent;\n",
              "    border-bottom-color: var(--fill-color);\n",
              "    animation:\n",
              "      spin 1s steps(1) infinite;\n",
              "  }\n",
              "\n",
              "  @keyframes spin {\n",
              "    0% {\n",
              "      border-color: transparent;\n",
              "      border-bottom-color: var(--fill-color);\n",
              "      border-left-color: var(--fill-color);\n",
              "    }\n",
              "    20% {\n",
              "      border-color: transparent;\n",
              "      border-left-color: var(--fill-color);\n",
              "      border-top-color: var(--fill-color);\n",
              "    }\n",
              "    30% {\n",
              "      border-color: transparent;\n",
              "      border-left-color: var(--fill-color);\n",
              "      border-top-color: var(--fill-color);\n",
              "      border-right-color: var(--fill-color);\n",
              "    }\n",
              "    40% {\n",
              "      border-color: transparent;\n",
              "      border-right-color: var(--fill-color);\n",
              "      border-top-color: var(--fill-color);\n",
              "    }\n",
              "    60% {\n",
              "      border-color: transparent;\n",
              "      border-right-color: var(--fill-color);\n",
              "    }\n",
              "    80% {\n",
              "      border-color: transparent;\n",
              "      border-right-color: var(--fill-color);\n",
              "      border-bottom-color: var(--fill-color);\n",
              "    }\n",
              "    90% {\n",
              "      border-color: transparent;\n",
              "      border-bottom-color: var(--fill-color);\n",
              "    }\n",
              "  }\n",
              "</style>\n",
              "\n",
              "  <script>\n",
              "    async function quickchart(key) {\n",
              "      const quickchartButtonEl =\n",
              "        document.querySelector('#' + key + ' button');\n",
              "      quickchartButtonEl.disabled = true;  // To prevent multiple clicks.\n",
              "      quickchartButtonEl.classList.add('colab-df-spinner');\n",
              "      try {\n",
              "        const charts = await google.colab.kernel.invokeFunction(\n",
              "            'suggestCharts', [key], {});\n",
              "      } catch (error) {\n",
              "        console.error('Error during call to suggestCharts:', error);\n",
              "      }\n",
              "      quickchartButtonEl.classList.remove('colab-df-spinner');\n",
              "      quickchartButtonEl.classList.add('colab-df-quickchart-complete');\n",
              "    }\n",
              "    (() => {\n",
              "      let quickchartButtonEl =\n",
              "        document.querySelector('#df-29ca4889-0c6d-4edd-9ccb-2a5789902dfd button');\n",
              "      quickchartButtonEl.style.display =\n",
              "        google.colab.kernel.accessAllowed ? 'block' : 'none';\n",
              "    })();\n",
              "  </script>\n",
              "</div>\n",
              "\n",
              "  <div id=\"id_4b7224bc-8dab-498c-b83f-d14cad321758\">\n",
              "    <style>\n",
              "      .colab-df-generate {\n",
              "        background-color: #E8F0FE;\n",
              "        border: none;\n",
              "        border-radius: 50%;\n",
              "        cursor: pointer;\n",
              "        display: none;\n",
              "        fill: #1967D2;\n",
              "        height: 32px;\n",
              "        padding: 0 0 0 0;\n",
              "        width: 32px;\n",
              "      }\n",
              "\n",
              "      .colab-df-generate:hover {\n",
              "        background-color: #E2EBFA;\n",
              "        box-shadow: 0px 1px 2px rgba(60, 64, 67, 0.3), 0px 1px 3px 1px rgba(60, 64, 67, 0.15);\n",
              "        fill: #174EA6;\n",
              "      }\n",
              "\n",
              "      [theme=dark] .colab-df-generate {\n",
              "        background-color: #3B4455;\n",
              "        fill: #D2E3FC;\n",
              "      }\n",
              "\n",
              "      [theme=dark] .colab-df-generate:hover {\n",
              "        background-color: #434B5C;\n",
              "        box-shadow: 0px 1px 3px 1px rgba(0, 0, 0, 0.15);\n",
              "        filter: drop-shadow(0px 1px 2px rgba(0, 0, 0, 0.3));\n",
              "        fill: #FFFFFF;\n",
              "      }\n",
              "    </style>\n",
              "    <button class=\"colab-df-generate\" onclick=\"generateWithVariable('correlacoes')\"\n",
              "            title=\"Generate code using this dataframe.\"\n",
              "            style=\"display:none;\">\n",
              "\n",
              "  <svg xmlns=\"http://www.w3.org/2000/svg\" height=\"24px\"viewBox=\"0 0 24 24\"\n",
              "       width=\"24px\">\n",
              "    <path d=\"M7,19H8.4L18.45,9,17,7.55,7,17.6ZM5,21V16.75L18.45,3.32a2,2,0,0,1,2.83,0l1.4,1.43a1.91,1.91,0,0,1,.58,1.4,1.91,1.91,0,0,1-.58,1.4L9.25,21ZM18.45,9,17,7.55Zm-12,3A5.31,5.31,0,0,0,4.9,8.1,5.31,5.31,0,0,0,1,6.5,5.31,5.31,0,0,0,4.9,4.9,5.31,5.31,0,0,0,6.5,1,5.31,5.31,0,0,0,8.1,4.9,5.31,5.31,0,0,0,12,6.5,5.46,5.46,0,0,0,6.5,12Z\"/>\n",
              "  </svg>\n",
              "    </button>\n",
              "    <script>\n",
              "      (() => {\n",
              "      const buttonEl =\n",
              "        document.querySelector('#id_4b7224bc-8dab-498c-b83f-d14cad321758 button.colab-df-generate');\n",
              "      buttonEl.style.display =\n",
              "        google.colab.kernel.accessAllowed ? 'block' : 'none';\n",
              "\n",
              "      buttonEl.onclick = () => {\n",
              "        google.colab.notebook.generateWithVariable('correlacoes');\n",
              "      }\n",
              "      })();\n",
              "    </script>\n",
              "  </div>\n",
              "\n",
              "    </div>\n",
              "  </div>\n"
            ],
            "application/vnd.google.colaboratory.intrinsic+json": {
              "type": "dataframe",
              "variable_name": "correlacoes",
              "summary": "{\n  \"name\": \"correlacoes\",\n  \"rows\": 4,\n  \"fields\": [\n    {\n      \"column\": \"RM\",\n      \"properties\": {\n        \"dtype\": \"number\",\n        \"std\": 0.7595219478370283,\n        \"min\": -0.6247003317287115,\n        \"max\": 1.0,\n        \"num_unique_values\": 4,\n        \"samples\": [\n          -0.6247003317287115,\n          0.6240572939087418,\n          1.0\n        ],\n        \"semantic_type\": \"\",\n        \"description\": \"\"\n      }\n    },\n    {\n      \"column\": \"LSTAT\",\n      \"properties\": {\n        \"dtype\": \"number\",\n        \"std\": 0.8790811292186367,\n        \"min\": -0.8455267494054258,\n        \"max\": 1.0,\n        \"num_unique_values\": 4,\n        \"samples\": [\n          1.0,\n          -0.8455267494054258,\n          -0.6247003317287115\n        ],\n        \"semantic_type\": \"\",\n        \"description\": \"\"\n      }\n    },\n    {\n      \"column\": \"PTRATIO\",\n      \"properties\": {\n        \"dtype\": \"number\",\n        \"std\": 0.7093000252401486,\n        \"min\": -0.5592761164167336,\n        \"max\": 1.0,\n        \"num_unique_values\": 4,\n        \"samples\": [\n          0.4617390157182937,\n          -0.5592761164167336,\n          -0.2820531147934576\n        ],\n        \"semantic_type\": \"\",\n        \"description\": \"\"\n      }\n    },\n    {\n      \"column\": \"MEDV\",\n      \"properties\": {\n        \"dtype\": \"number\",\n        \"std\": 0.8953834631739441,\n        \"min\": -0.8455267494054258,\n        \"max\": 1.0,\n        \"num_unique_values\": 4,\n        \"samples\": [\n          -0.8455267494054258,\n          1.0,\n          0.6240572939087418\n        ],\n        \"semantic_type\": \"\",\n        \"description\": \"\"\n      }\n    }\n  ]\n}"
            }
          },
          "metadata": {},
          "execution_count": 43
        }
      ]
    },
    {
      "cell_type": "code",
      "source": [
        "plt.figure()\n",
        "sns.heatmap(correlacoes,annot=True)\n",
        "sns.set_theme(style='darkgrid')"
      ],
      "metadata": {
        "id": "xPvOfwS_QwDf",
        "colab": {
          "base_uri": "https://localhost:8080/",
          "height": 435
        },
        "outputId": "8f1b703f-7fe2-452e-ad56-dbc43d54c094"
      },
      "execution_count": 44,
      "outputs": [
        {
          "output_type": "display_data",
          "data": {
            "text/plain": [
              "<Figure size 640x480 with 2 Axes>"
            ],
            "image/png": "[encoded data removed]"
          },
          "metadata": {}
        }
      ]
    },
    {
      "cell_type": "markdown",
      "source": [
        "# **Regressão Linear Simples**\n",
        "\n",
        "##Valor médio (MEDV) em função do número de cômodos (RM)"
      ],
      "metadata": {
        "id": "kVmyYvlHXORu"
      }
    },
    {
      "cell_type": "code",
      "source": [
        "df.head(2)"
      ],
      "metadata": {
        "id": "iQy9wdJ7DynG",
        "colab": {
          "base_uri": "https://localhost:8080/",
          "height": 112
        },
        "outputId": "13a6127a-dcf6-47c4-8692-7f62d91f4c1c"
      },
      "execution_count": 45,
      "outputs": [
        {
          "output_type": "execute_result",
          "data": {
            "text/plain": [
              "      RM  LSTAT  PTRATIO      MEDV\n",
              "0  6.575   4.98     15.3  504000.0\n",
              "1  6.421   9.14     17.8  453600.0"
            ],
            "text/html": [
              "\n",
              "  <div id=\"df-227acca2-bf33-41fa-8f91-05e4361a4dba\" class=\"colab-df-container\">\n",
              "    <div>\n",
              "<style scoped>\n",
              "    .dataframe tbody tr th:only-of-type {\n",
              "        vertical-align: middle;\n",
              "    }\n",
              "\n",
              "    .dataframe tbody tr th {\n",
              "        vertical-align: top;\n",
              "    }\n",
              "\n",
              "    .dataframe thead th {\n",
              "        text-align: right;\n",
              "    }\n",
              "</style>\n",
              "<table border=\"1\" class=\"dataframe\">\n",
              "  <thead>\n",
              "    <tr style=\"text-align: right;\">\n",
              "      <th></th>\n",
              "      <th>RM</th>\n",
              "      <th>LSTAT</th>\n",
              "      <th>PTRATIO</th>\n",
              "      <th>MEDV</th>\n",
              "    </tr>\n",
              "  </thead>\n",
              "  <tbody>\n",
              "    <tr>\n",
              "      <th>0</th>\n",
              "      <td>6.575</td>\n",
              "      <td>4.98</td>\n",
              "      <td>15.3</td>\n",
              "      <td>504000.0</td>\n",
              "    </tr>\n",
              "    <tr>\n",
              "      <th>1</th>\n",
              "      <td>6.421</td>\n",
              "      <td>9.14</td>\n",
              "      <td>17.8</td>\n",
              "      <td>453600.0</td>\n",
              "    </tr>\n",
              "  </tbody>\n",
              "</table>\n",
              "</div>\n",
              "    <div class=\"colab-df-buttons\">\n",
              "\n",
              "  <div class=\"colab-df-container\">\n",
              "    <button class=\"colab-df-convert\" onclick=\"convertToInteractive('df-227acca2-bf33-41fa-8f91-05e4361a4dba')\"\n",
              "            title=\"Convert this dataframe to an interactive table.\"\n",
              "            style=\"display:none;\">\n",
              "\n",
              "  <svg xmlns=\"http://www.w3.org/2000/svg\" height=\"24px\" viewBox=\"0 -960 960 960\">\n",
              "    <path d=\"M120-120v-720h720v720H120Zm60-500h600v-160H180v160Zm220 220h160v-160H400v160Zm0 220h160v-160H400v160ZM180-400h160v-160H180v160Zm440 0h160v-160H620v160ZM180-180h160v-160H180v160Zm440 0h160v-160H620v160Z\"/>\n",
              "  </svg>\n",
              "    </button>\n",
              "\n",
              "  <style>\n",
              "    .colab-df-container {\n",
              "      display:flex;\n",
              "      gap: 12px;\n",
              "    }\n",
              "\n",
              "    .colab-df-convert {\n",
              "      background-color: #E8F0FE;\n",
              "      border: none;\n",
              "      border-radius: 50%;\n",
              "      cursor: pointer;\n",
              "      display: none;\n",
              "      fill: #1967D2;\n",
              "      height: 32px;\n",
              "      padding: 0 0 0 0;\n",
              "      width: 32px;\n",
              "    }\n",
              "\n",
              "    .colab-df-convert:hover {\n",
              "      background-color: #E2EBFA;\n",
              "      box-shadow: 0px 1px 2px rgba(60, 64, 67, 0.3), 0px 1px 3px 1px rgba(60, 64, 67, 0.15);\n",
              "      fill: #174EA6;\n",
              "    }\n",
              "\n",
              "    .colab-df-buttons div {\n",
              "      margin-bottom: 4px;\n",
              "    }\n",
              "\n",
              "    [theme=dark] .colab-df-convert {\n",
              "      background-color: #3B4455;\n",
              "      fill: #D2E3FC;\n",
              "    }\n",
              "\n",
              "    [theme=dark] .colab-df-convert:hover {\n",
              "      background-color: #434B5C;\n",
              "      box-shadow: 0px 1px 3px 1px rgba(0, 0, 0, 0.15);\n",
              "      filter: drop-shadow(0px 1px 2px rgba(0, 0, 0, 0.3));\n",
              "      fill: #FFFFFF;\n",
              "    }\n",
              "  </style>\n",
              "\n",
              "    <script>\n",
              "      const buttonEl =\n",
              "        document.querySelector('#df-227acca2-bf33-41fa-8f91-05e4361a4dba button.colab-df-convert');\n",
              "      buttonEl.style.display =\n",
              "        google.colab.kernel.accessAllowed ? 'block' : 'none';\n",
              "\n",
              "      async function convertToInteractive(key) {\n",
              "        const element = document.querySelector('#df-227acca2-bf33-41fa-8f91-05e4361a4dba');\n",
              "        const dataTable =\n",
              "          await google.colab.kernel.invokeFunction('convertToInteractive',\n",
              "                                                    [key], {});\n",
              "        if (!dataTable) return;\n",
              "\n",
              "        const docLinkHtml = 'Like what you see? Visit the ' +\n",
              "          '<a target=\"_blank\" href=https://colab.research.google.com/notebooks/data_table.ipynb>data table notebook</a>'\n",
              "          + ' to learn more about interactive tables.';\n",
              "        element.innerHTML = '';\n",
              "        dataTable['output_type'] = 'display_data';\n",
              "        await google.colab.output.renderOutput(dataTable, element);\n",
              "        const docLink = document.createElement('div');\n",
              "        docLink.innerHTML = docLinkHtml;\n",
              "        element.appendChild(docLink);\n",
              "      }\n",
              "    </script>\n",
              "  </div>\n",
              "\n",
              "\n",
              "<div id=\"df-b335b4df-df68-4d77-9abf-50d8620c0d16\">\n",
              "  <button class=\"colab-df-quickchart\" onclick=\"quickchart('df-b335b4df-df68-4d77-9abf-50d8620c0d16')\"\n",
              "            title=\"Suggest charts\"\n",
              "            style=\"display:none;\">\n",
              "\n",
              "<svg xmlns=\"http://www.w3.org/2000/svg\" height=\"24px\"viewBox=\"0 0 24 24\"\n",
              "     width=\"24px\">\n",
              "    <g>\n",
              "        <path d=\"M19 3H5c-1.1 0-2 .9-2 2v14c0 1.1.9 2 2 2h14c1.1 0 2-.9 2-2V5c0-1.1-.9-2-2-2zM9 17H7v-7h2v7zm4 0h-2V7h2v10zm4 0h-2v-4h2v4z\"/>\n",
              "    </g>\n",
              "</svg>\n",
              "  </button>\n",
              "\n",
              "<style>\n",
              "  .colab-df-quickchart {\n",
              "      --bg-color: #E8F0FE;\n",
              "      --fill-color: #1967D2;\n",
              "      --hover-bg-color: #E2EBFA;\n",
              "      --hover-fill-color: #174EA6;\n",
              "      --disabled-fill-color: #AAA;\n",
              "      --disabled-bg-color: #DDD;\n",
              "  }\n",
              "\n",
              "  [theme=dark] .colab-df-quickchart {\n",
              "      --bg-color: #3B4455;\n",
              "      --fill-color: #D2E3FC;\n",
              "      --hover-bg-color: #434B5C;\n",
              "      --hover-fill-color: #FFFFFF;\n",
              "      --disabled-bg-color: #3B4455;\n",
              "      --disabled-fill-color: #666;\n",
              "  }\n",
              "\n",
              "  .colab-df-quickchart {\n",
              "    background-color: var(--bg-color);\n",
              "    border: none;\n",
              "    border-radius: 50%;\n",
              "    cursor: pointer;\n",
              "    display: none;\n",
              "    fill: var(--fill-color);\n",
              "    height: 32px;\n",
              "    padding: 0;\n",
              "    width: 32px;\n",
              "  }\n",
              "\n",
              "  .colab-df-quickchart:hover {\n",
              "    background-color: var(--hover-bg-color);\n",
              "    box-shadow: 0 1px 2px rgba(60, 64, 67, 0.3), 0 1px 3px 1px rgba(60, 64, 67, 0.15);\n",
              "    fill: var(--button-hover-fill-color);\n",
              "  }\n",
              "\n",
              "  .colab-df-quickchart-complete:disabled,\n",
              "  .colab-df-quickchart-complete:disabled:hover {\n",
              "    background-color: var(--disabled-bg-color);\n",
              "    fill: var(--disabled-fill-color);\n",
              "    box-shadow: none;\n",
              "  }\n",
              "\n",
              "  .colab-df-spinner {\n",
              "    border: 2px solid var(--fill-color);\n",
              "    border-color: transparent;\n",
              "    border-bottom-color: var(--fill-color);\n",
              "    animation:\n",
              "      spin 1s steps(1) infinite;\n",
              "  }\n",
              "\n",
              "  @keyframes spin {\n",
              "    0% {\n",
              "      border-color: transparent;\n",
              "      border-bottom-color: var(--fill-color);\n",
              "      border-left-color: var(--fill-color);\n",
              "    }\n",
              "    20% {\n",
              "      border-color: transparent;\n",
              "      border-left-color: var(--fill-color);\n",
              "      border-top-color: var(--fill-color);\n",
              "    }\n",
              "    30% {\n",
              "      border-color: transparent;\n",
              "      border-left-color: var(--fill-color);\n",
              "      border-top-color: var(--fill-color);\n",
              "      border-right-color: var(--fill-color);\n",
              "    }\n",
              "    40% {\n",
              "      border-color: transparent;\n",
              "      border-right-color: var(--fill-color);\n",
              "      border-top-color: var(--fill-color);\n",
              "    }\n",
              "    60% {\n",
              "      border-color: transparent;\n",
              "      border-right-color: var(--fill-color);\n",
              "    }\n",
              "    80% {\n",
              "      border-color: transparent;\n",
              "      border-right-color: var(--fill-color);\n",
              "      border-bottom-color: var(--fill-color);\n",
              "    }\n",
              "    90% {\n",
              "      border-color: transparent;\n",
              "      border-bottom-color: var(--fill-color);\n",
              "    }\n",
              "  }\n",
              "</style>\n",
              "\n",
              "  <script>\n",
              "    async function quickchart(key) {\n",
              "      const quickchartButtonEl =\n",
              "        document.querySelector('#' + key + ' button');\n",
              "      quickchartButtonEl.disabled = true;  // To prevent multiple clicks.\n",
              "      quickchartButtonEl.classList.add('colab-df-spinner');\n",
              "      try {\n",
              "        const charts = await google.colab.kernel.invokeFunction(\n",
              "            'suggestCharts', [key], {});\n",
              "      } catch (error) {\n",
              "        console.error('Error during call to suggestCharts:', error);\n",
              "      }\n",
              "      quickchartButtonEl.classList.remove('colab-df-spinner');\n",
              "      quickchartButtonEl.classList.add('colab-df-quickchart-complete');\n",
              "    }\n",
              "    (() => {\n",
              "      let quickchartButtonEl =\n",
              "        document.querySelector('#df-b335b4df-df68-4d77-9abf-50d8620c0d16 button');\n",
              "      quickchartButtonEl.style.display =\n",
              "        google.colab.kernel.accessAllowed ? 'block' : 'none';\n",
              "    })();\n",
              "  </script>\n",
              "</div>\n",
              "\n",
              "    </div>\n",
              "  </div>\n"
            ],
            "application/vnd.google.colaboratory.intrinsic+json": {
              "type": "dataframe",
              "variable_name": "df",
              "summary": "{\n  \"name\": \"df\",\n  \"rows\": 489,\n  \"fields\": [\n    {\n      \"column\": \"RM\",\n      \"properties\": {\n        \"dtype\": \"number\",\n        \"std\": 0.6436497627572433,\n        \"min\": 3.561,\n        \"max\": 8.398,\n        \"num_unique_values\": 430,\n        \"samples\": [\n          5.67,\n          6.232,\n          6.8\n        ],\n        \"semantic_type\": \"\",\n        \"description\": \"\"\n      }\n    },\n    {\n      \"column\": \"LSTAT\",\n      \"properties\": {\n        \"dtype\": \"number\",\n        \"std\": 7.081989789065133,\n        \"min\": 1.98,\n        \"max\": 37.97,\n        \"num_unique_values\": 442,\n        \"samples\": [\n          12.73,\n          4.14,\n          5.52\n        ],\n        \"semantic_type\": \"\",\n        \"description\": \"\"\n      }\n    },\n    {\n      \"column\": \"PTRATIO\",\n      \"properties\": {\n        \"dtype\": \"number\",\n        \"std\": 2.111267502630989,\n        \"min\": 12.6,\n        \"max\": 22.0,\n        \"num_unique_values\": 44,\n        \"samples\": [\n          19.6,\n          16.6,\n          15.6\n        ],\n        \"semantic_type\": \"\",\n        \"description\": \"\"\n      }\n    },\n    {\n      \"column\": \"MEDV\",\n      \"properties\": {\n        \"dtype\": \"number\",\n        \"std\": 165340.27765266784,\n        \"min\": 105000.0,\n        \"max\": 1024800.0,\n        \"num_unique_values\": 228,\n        \"samples\": [\n          296100.0,\n          472500.0,\n          396900.0\n        ],\n        \"semantic_type\": \"\",\n        \"description\": \"\"\n      }\n    }\n  ]\n}"
            }
          },
          "metadata": {},
          "execution_count": 45
        }
      ]
    },
    {
      "cell_type": "code",
      "source": [
        "x1 = df.iloc[:,0:1].values\n",
        "x1"
      ],
      "metadata": {
        "id": "yR_3yFFZXNWW",
        "colab": {
          "base_uri": "https://localhost:8080/"
        },
        "outputId": "ee3e446e-77c8-4a73-a36b-38caf3035c11"
      },
      "execution_count": 46,
      "outputs": [
        {
          "output_type": "execute_result",
          "data": {
            "text/plain": [
              "array([[6.575],\n",
              "       [6.421],\n",
              "       [7.185],\n",
              "       [6.998],\n",
              "       [7.147],\n",
              "       [6.43 ],\n",
              "       [6.012],\n",
              "       [6.172],\n",
              "       [5.631],\n",
              "       [6.004],\n",
              "       [6.377],\n",
              "       [6.009],\n",
              "       [5.889],\n",
              "       [5.949],\n",
              "       [6.096],\n",
              "       [5.834],\n",
              "       [5.935],\n",
              "       [5.99 ],\n",
              "       [5.456],\n",
              "       [5.727],\n",
              "       [5.57 ],\n",
              "       [5.965],\n",
              "       [6.142],\n",
              "       [5.813],\n",
              "       [5.924],\n",
              "       [5.599],\n",
              "       [5.813],\n",
              "       [6.047],\n",
              "       [6.495],\n",
              "       [6.674],\n",
              "       [5.713],\n",
              "       [6.072],\n",
              "       [5.95 ],\n",
              "       [5.701],\n",
              "       [6.096],\n",
              "       [5.933],\n",
              "       [5.841],\n",
              "       [5.85 ],\n",
              "       [5.966],\n",
              "       [6.595],\n",
              "       [7.024],\n",
              "       [6.77 ],\n",
              "       [6.169],\n",
              "       [6.211],\n",
              "       [6.069],\n",
              "       [5.682],\n",
              "       [5.786],\n",
              "       [6.03 ],\n",
              "       [5.399],\n",
              "       [5.602],\n",
              "       [5.963],\n",
              "       [6.115],\n",
              "       [6.511],\n",
              "       [5.998],\n",
              "       [5.888],\n",
              "       [7.249],\n",
              "       [6.383],\n",
              "       [6.816],\n",
              "       [6.145],\n",
              "       [5.927],\n",
              "       [5.741],\n",
              "       [5.966],\n",
              "       [6.456],\n",
              "       [6.762],\n",
              "       [7.104],\n",
              "       [6.29 ],\n",
              "       [5.787],\n",
              "       [5.878],\n",
              "       [5.594],\n",
              "       [5.885],\n",
              "       [6.417],\n",
              "       [5.961],\n",
              "       [6.065],\n",
              "       [6.245],\n",
              "       [6.273],\n",
              "       [6.286],\n",
              "       [6.279],\n",
              "       [6.14 ],\n",
              "       [6.232],\n",
              "       [5.874],\n",
              "       [6.727],\n",
              "       [6.619],\n",
              "       [6.302],\n",
              "       [6.167],\n",
              "       [6.389],\n",
              "       [6.63 ],\n",
              "       [6.015],\n",
              "       [6.121],\n",
              "       [7.007],\n",
              "       [7.079],\n",
              "       [6.417],\n",
              "       [6.405],\n",
              "       [6.442],\n",
              "       [6.211],\n",
              "       [6.249],\n",
              "       [6.625],\n",
              "       [6.163],\n",
              "       [8.069],\n",
              "       [7.82 ],\n",
              "       [7.416],\n",
              "       [6.727],\n",
              "       [6.781],\n",
              "       [6.405],\n",
              "       [6.137],\n",
              "       [6.167],\n",
              "       [5.851],\n",
              "       [5.836],\n",
              "       [6.127],\n",
              "       [6.474],\n",
              "       [6.229],\n",
              "       [6.195],\n",
              "       [6.715],\n",
              "       [5.913],\n",
              "       [6.092],\n",
              "       [6.254],\n",
              "       [5.928],\n",
              "       [6.176],\n",
              "       [6.021],\n",
              "       [5.872],\n",
              "       [5.731],\n",
              "       [5.87 ],\n",
              "       [6.004],\n",
              "       [5.961],\n",
              "       [5.856],\n",
              "       [5.879],\n",
              "       [5.986],\n",
              "       [5.613],\n",
              "       [5.693],\n",
              "       [6.431],\n",
              "       [5.637],\n",
              "       [6.458],\n",
              "       [6.326],\n",
              "       [6.372],\n",
              "       [5.822],\n",
              "       [5.757],\n",
              "       [6.335],\n",
              "       [5.942],\n",
              "       [6.454],\n",
              "       [5.857],\n",
              "       [6.151],\n",
              "       [6.174],\n",
              "       [5.019],\n",
              "       [5.403],\n",
              "       [5.468],\n",
              "       [4.903],\n",
              "       [6.13 ],\n",
              "       [5.628],\n",
              "       [4.926],\n",
              "       [5.186],\n",
              "       [5.597],\n",
              "       [6.122],\n",
              "       [5.404],\n",
              "       [5.012],\n",
              "       [5.709],\n",
              "       [6.129],\n",
              "       [6.152],\n",
              "       [5.272],\n",
              "       [6.943],\n",
              "       [6.066],\n",
              "       [6.51 ],\n",
              "       [6.25 ],\n",
              "       [5.854],\n",
              "       [6.101],\n",
              "       [5.877],\n",
              "       [6.319],\n",
              "       [6.402],\n",
              "       [5.875],\n",
              "       [5.88 ],\n",
              "       [5.572],\n",
              "       [6.416],\n",
              "       [5.859],\n",
              "       [6.546],\n",
              "       [6.02 ],\n",
              "       [6.315],\n",
              "       [6.86 ],\n",
              "       [6.98 ],\n",
              "       [7.765],\n",
              "       [6.144],\n",
              "       [7.155],\n",
              "       [6.563],\n",
              "       [5.604],\n",
              "       [6.153],\n",
              "       [6.782],\n",
              "       [6.556],\n",
              "       [7.185],\n",
              "       [6.951],\n",
              "       [6.739],\n",
              "       [7.178],\n",
              "       [6.8  ],\n",
              "       [6.604],\n",
              "       [7.287],\n",
              "       [7.107],\n",
              "       [7.274],\n",
              "       [6.975],\n",
              "       [7.135],\n",
              "       [6.162],\n",
              "       [7.61 ],\n",
              "       [7.853],\n",
              "       [5.891],\n",
              "       [6.326],\n",
              "       [5.783],\n",
              "       [6.064],\n",
              "       [5.344],\n",
              "       [5.96 ],\n",
              "       [5.404],\n",
              "       [5.807],\n",
              "       [6.375],\n",
              "       [5.412],\n",
              "       [6.182],\n",
              "       [5.888],\n",
              "       [6.642],\n",
              "       [5.951],\n",
              "       [6.373],\n",
              "       [6.951],\n",
              "       [6.164],\n",
              "       [6.879],\n",
              "       [6.618],\n",
              "       [8.266],\n",
              "       [8.04 ],\n",
              "       [7.163],\n",
              "       [7.686],\n",
              "       [6.552],\n",
              "       [5.981],\n",
              "       [7.412],\n",
              "       [8.337],\n",
              "       [8.247],\n",
              "       [6.726],\n",
              "       [6.086],\n",
              "       [6.631],\n",
              "       [7.358],\n",
              "       [6.481],\n",
              "       [6.606],\n",
              "       [6.897],\n",
              "       [6.095],\n",
              "       [6.358],\n",
              "       [6.393],\n",
              "       [5.593],\n",
              "       [5.605],\n",
              "       [6.108],\n",
              "       [6.226],\n",
              "       [6.433],\n",
              "       [6.718],\n",
              "       [6.487],\n",
              "       [6.438],\n",
              "       [6.957],\n",
              "       [8.259],\n",
              "       [6.108],\n",
              "       [5.876],\n",
              "       [7.454],\n",
              "       [7.333],\n",
              "       [6.842],\n",
              "       [7.203],\n",
              "       [7.52 ],\n",
              "       [8.398],\n",
              "       [7.327],\n",
              "       [7.206],\n",
              "       [5.56 ],\n",
              "       [7.014],\n",
              "       [7.47 ],\n",
              "       [5.92 ],\n",
              "       [5.856],\n",
              "       [6.24 ],\n",
              "       [6.538],\n",
              "       [7.691],\n",
              "       [6.758],\n",
              "       [6.854],\n",
              "       [7.267],\n",
              "       [6.826],\n",
              "       [6.482],\n",
              "       [6.812],\n",
              "       [7.82 ],\n",
              "       [6.968],\n",
              "       [7.645],\n",
              "       [7.088],\n",
              "       [6.453],\n",
              "       [6.23 ],\n",
              "       [6.209],\n",
              "       [6.315],\n",
              "       [6.565],\n",
              "       [6.861],\n",
              "       [7.148],\n",
              "       [6.63 ],\n",
              "       [6.127],\n",
              "       [6.009],\n",
              "       [6.678],\n",
              "       [6.549],\n",
              "       [5.79 ],\n",
              "       [6.345],\n",
              "       [7.041],\n",
              "       [6.871],\n",
              "       [6.59 ],\n",
              "       [6.495],\n",
              "       [6.982],\n",
              "       [7.236],\n",
              "       [6.616],\n",
              "       [7.42 ],\n",
              "       [6.849],\n",
              "       [6.635],\n",
              "       [5.972],\n",
              "       [4.973],\n",
              "       [6.122],\n",
              "       [6.023],\n",
              "       [6.266],\n",
              "       [6.567],\n",
              "       [5.705],\n",
              "       [5.914],\n",
              "       [5.782],\n",
              "       [6.382],\n",
              "       [6.113],\n",
              "       [6.426],\n",
              "       [6.376],\n",
              "       [6.041],\n",
              "       [5.708],\n",
              "       [6.415],\n",
              "       [6.431],\n",
              "       [6.312],\n",
              "       [6.083],\n",
              "       [5.868],\n",
              "       [6.333],\n",
              "       [6.144],\n",
              "       [5.706],\n",
              "       [6.031],\n",
              "       [6.316],\n",
              "       [6.31 ],\n",
              "       [6.037],\n",
              "       [5.869],\n",
              "       [5.895],\n",
              "       [6.059],\n",
              "       [5.985],\n",
              "       [5.968],\n",
              "       [7.241],\n",
              "       [6.54 ],\n",
              "       [6.696],\n",
              "       [6.874],\n",
              "       [6.014],\n",
              "       [5.898],\n",
              "       [6.516],\n",
              "       [6.635],\n",
              "       [6.939],\n",
              "       [6.49 ],\n",
              "       [6.579],\n",
              "       [5.884],\n",
              "       [6.728],\n",
              "       [5.663],\n",
              "       [5.936],\n",
              "       [6.212],\n",
              "       [6.395],\n",
              "       [6.127],\n",
              "       [6.112],\n",
              "       [6.398],\n",
              "       [6.251],\n",
              "       [5.362],\n",
              "       [5.803],\n",
              "       [3.561],\n",
              "       [4.963],\n",
              "       [3.863],\n",
              "       [4.906],\n",
              "       [4.138],\n",
              "       [7.313],\n",
              "       [6.649],\n",
              "       [6.794],\n",
              "       [6.38 ],\n",
              "       [6.223],\n",
              "       [6.968],\n",
              "       [6.545],\n",
              "       [5.536],\n",
              "       [5.52 ],\n",
              "       [4.368],\n",
              "       [5.277],\n",
              "       [4.652],\n",
              "       [5.   ],\n",
              "       [4.88 ],\n",
              "       [5.39 ],\n",
              "       [5.713],\n",
              "       [6.051],\n",
              "       [5.036],\n",
              "       [6.193],\n",
              "       [5.887],\n",
              "       [6.471],\n",
              "       [6.405],\n",
              "       [5.747],\n",
              "       [5.453],\n",
              "       [5.852],\n",
              "       [5.987],\n",
              "       [6.343],\n",
              "       [6.404],\n",
              "       [5.349],\n",
              "       [5.531],\n",
              "       [5.683],\n",
              "       [4.138],\n",
              "       [5.608],\n",
              "       [5.617],\n",
              "       [6.852],\n",
              "       [5.757],\n",
              "       [6.657],\n",
              "       [4.628],\n",
              "       [5.155],\n",
              "       [4.519],\n",
              "       [6.434],\n",
              "       [6.782],\n",
              "       [5.304],\n",
              "       [5.957],\n",
              "       [6.824],\n",
              "       [6.411],\n",
              "       [6.006],\n",
              "       [5.648],\n",
              "       [6.103],\n",
              "       [5.565],\n",
              "       [5.896],\n",
              "       [5.837],\n",
              "       [6.202],\n",
              "       [6.193],\n",
              "       [6.38 ],\n",
              "       [6.348],\n",
              "       [6.833],\n",
              "       [6.425],\n",
              "       [6.436],\n",
              "       [6.208],\n",
              "       [6.629],\n",
              "       [6.461],\n",
              "       [6.152],\n",
              "       [5.935],\n",
              "       [5.627],\n",
              "       [5.818],\n",
              "       [6.406],\n",
              "       [6.219],\n",
              "       [6.485],\n",
              "       [5.854],\n",
              "       [6.459],\n",
              "       [6.341],\n",
              "       [6.251],\n",
              "       [6.185],\n",
              "       [6.417],\n",
              "       [6.749],\n",
              "       [6.655],\n",
              "       [6.297],\n",
              "       [7.393],\n",
              "       [6.728],\n",
              "       [6.525],\n",
              "       [5.976],\n",
              "       [5.936],\n",
              "       [6.301],\n",
              "       [6.081],\n",
              "       [6.701],\n",
              "       [6.376],\n",
              "       [6.317],\n",
              "       [6.513],\n",
              "       [6.209],\n",
              "       [5.759],\n",
              "       [5.952],\n",
              "       [6.003],\n",
              "       [5.926],\n",
              "       [5.713],\n",
              "       [6.167],\n",
              "       [6.229],\n",
              "       [6.437],\n",
              "       [6.98 ],\n",
              "       [5.427],\n",
              "       [6.162],\n",
              "       [6.484],\n",
              "       [5.304],\n",
              "       [6.185],\n",
              "       [6.229],\n",
              "       [6.242],\n",
              "       [6.75 ],\n",
              "       [7.061],\n",
              "       [5.762],\n",
              "       [5.871],\n",
              "       [6.312],\n",
              "       [6.114],\n",
              "       [5.905],\n",
              "       [5.454],\n",
              "       [5.414],\n",
              "       [5.093],\n",
              "       [5.983],\n",
              "       [5.983],\n",
              "       [5.707],\n",
              "       [5.926],\n",
              "       [5.67 ],\n",
              "       [5.39 ],\n",
              "       [5.794],\n",
              "       [6.019],\n",
              "       [5.569],\n",
              "       [6.027],\n",
              "       [6.593],\n",
              "       [6.12 ],\n",
              "       [6.976],\n",
              "       [6.794],\n",
              "       [6.03 ]])"
            ]
          },
          "metadata": {},
          "execution_count": 46
        }
      ]
    },
    {
      "cell_type": "code",
      "source": [
        "y = df.iloc[:,3].values\n",
        "y"
      ],
      "metadata": {
        "id": "DkwBgDi3XNZK",
        "colab": {
          "base_uri": "https://localhost:8080/"
        },
        "outputId": "dda79489-da2c-4e26-eba8-a96718a26bb7"
      },
      "execution_count": 47,
      "outputs": [
        {
          "output_type": "execute_result",
          "data": {
            "text/plain": [
              "array([ 504000.,  453600.,  728700.,  701400.,  760200.,  602700.,\n",
              "        480900.,  569100.,  346500.,  396900.,  315000.,  396900.,\n",
              "        455700.,  428400.,  382200.,  417900.,  485100.,  367500.,\n",
              "        424200.,  382200.,  285600.,  411600.,  319200.,  304500.,\n",
              "        327600.,  291900.,  348600.,  310800.,  386400.,  441000.,\n",
              "        266700.,  304500.,  277200.,  275100.,  283500.,  396900.,\n",
              "        420000.,  441000.,  518700.,  646800.,  732900.,  558600.,\n",
              "        531300.,  518700.,  445200.,  405300.,  420000.,  348600.,\n",
              "        302400.,  407400.,  413700.,  430500.,  525000.,  491400.,\n",
              "        396900.,  743400.,  518700.,  663600.,  489300.,  411600.,\n",
              "        392700.,  336000.,  466200.,  525000.,  693000.,  493500.,\n",
              "        407400.,  462000.,  365400.,  438900.,  508200.,  455700.,\n",
              "        478800.,  491400.,  506100.,  449400.,  420000.,  436800.,\n",
              "        445200.,  426300.,  588000.,  501900.,  520800.,  480900.,\n",
              "        501900.,  558600.,  472500.,  466200.,  495600.,  602700.,\n",
              "        474600.,  462000.,  480900.,  525000.,  432600.,  596400.,\n",
              "        449400.,  812700.,  919800.,  697200.,  577500.,  556500.,\n",
              "        390600.,  405300.,  422100.,  409500.,  409500.,  428400.,\n",
              "        415800.,  407400.,  455700.,  478800.,  394800.,  392700.,\n",
              "        388500.,  384300.,  445200.,  403200.,  428400.,  405300.,\n",
              "        462000.,  426300.,  430500.,  363300.,  394800.,  449400.,\n",
              "        329700.,  340200.,  378000.,  300300.,  403200.,  411600.,\n",
              "        483000.,  386400.,  327600.,  380100.,  365400.,  359100.,\n",
              "        279300.,  373800.,  294000.,  302400.,  281400.,  327600.,\n",
              "        247800.,  289800.,  327600.,  306600.,  373800.,  323400.,\n",
              "        451500.,  411600.,  321300.,  407400.,  357000.,  327600.,\n",
              "        275100.,  867300.,  510300.,  489300.,  567000.,  476700.,\n",
              "        525000.,  499800.,  499800.,  468300.,  365400.,  401100.,\n",
              "        485100.,  495600.,  474600.,  617400.,  487200.,  516600.,\n",
              "        627900.,  781200.,  835800.,  760200.,  795900.,  682500.,\n",
              "        554400.,  621600.,  672000.,  625800.,  732900.,  777000.,\n",
              "        640500.,  764400.,  653100.,  611100.,  699300.,  636300.,\n",
              "        726600.,  732900.,  690900.,  506100.,  888300., 1018500.,\n",
              "        474600.,  512400.,  472500.,  512400.,  420000.,  455700.,\n",
              "        405300.,  470400.,  590100.,  497700.,  525000.,  489300.,\n",
              "        602700.,  451500.,  483000.,  560700.,  455700.,  577500.,\n",
              "        632100.,  940800.,  789600.,  663600.,  980700.,  661500.,\n",
              "        510300.,  665700.,  875700., 1014300.,  609000.,  504000.,\n",
              "        527100.,  661500.,  497700.,  489300.,  462000.,  422100.,\n",
              "        466200.,  497700.,  369600.,  388500.,  510300.,  430500.,\n",
              "        514500.,  550200.,  512400.,  520800.,  621600.,  898800.,\n",
              "        459900.,  438900.,  924000.,  756000.,  632100.,  709800.,\n",
              "        905100., 1024800.,  651000.,  766500.,  478800.,  644700.,\n",
              "        913500.,  434700.,  443100.,  529200.,  512400.,  739200.,\n",
              "        680400.,  672000.,  697200.,  695100.,  611100.,  737100.,\n",
              "        953400.,  743400.,  966000.,  676200.,  462000.,  422100.,\n",
              "        487200.,  468300.,  520800.,  598500.,  783300.,  585900.,\n",
              "        501900.,  455700.,  600600.,  569100.,  426300.,  472500.,\n",
              "        609000.,  520800.,  462000.,  554400.,  695100.,  758100.,\n",
              "        596400.,  701400.,  592200.,  478800.,  426300.,  338100.,\n",
              "        464100.,  407400.,  453600.,  499800.,  340200.,  373800.,\n",
              "        415800.,  485100.,  441000.,  499800.,  485100.,  428400.,\n",
              "        388500.,  525000.,  516600.,  483000.,  466200.,  405300.,\n",
              "        474600.,  415800.,  359100.,  407400.,  466200.,  434700.,\n",
              "        443100.,  409500.,  388500.,  432600.,  399000.,  392700.,\n",
              "        686700.,  346500.,  501900.,  655200.,  367500.,  361200.,\n",
              "        485100.,  514500.,  558600.,  480900.,  506100.,  390600.,\n",
              "        632100.,  382200.,  432600.,  373800.,  455700.,  476700.,\n",
              "        474600.,  525000.,  417900.,  436800.,  352800.,  577500.,\n",
              "        459900.,  485100.,  289800.,  289800.,  315000.,  291900.,\n",
              "        279300.,  275100.,  214200.,  218400.,  228900.,  237300.,\n",
              "        258300.,  184800.,  151200.,  220500.,  155400.,  214200.,\n",
              "        241500.,  317100.,  487200.,  203700.,  289800.,  266700.,\n",
              "        275100.,  262500.,  178500.,  105000.,  132300.,  117600.,\n",
              "        151200.,  254100.,  174300.,  178500.,  105000.,  249900.,\n",
              "        585900.,  361200.,  577500.,  315000.,  361200.,  375900.,\n",
              "        342300.,  147000.,  151200.,  157500.,  218400.,  184800.,\n",
              "        176400.,  350700.,  298200.,  436800.,  281400.,  245700.,\n",
              "        174300.,  214200.,  228900.,  231000.,  199500.,  304500.,\n",
              "        296100.,  338100.,  300300.,  245700.,  281400.,  201600.,\n",
              "        182700.,  176400.,  268800.,  220500.,  359100.,  386400.,\n",
              "        323400.,  226800.,  247800.,  312900.,  264600.,  296100.,\n",
              "        273000.,  281400.,  319200.,  338100.,  373800.,  312900.,\n",
              "        296100.,  266700.,  283500.,  312900.,  420000.,  344400.,\n",
              "        371700.,  409500.,  424200.,  449400.,  417900.,  399000.,\n",
              "        401100.,  401100.,  422100.,  417900.,  411600.,  487200.,\n",
              "        625800.,  289800.,  279300.,  350700.,  252000.,  306600.,\n",
              "        449400.,  483000.,  497700.,  525000.,  457800.,  432600.,\n",
              "        445200.,  401100.,  432600.,  319200.,  147000.,  170100.,\n",
              "        285600.,  422100.,  457800.,  514500.,  485100.,  413700.,\n",
              "        384300.,  445200.,  367500.,  352800.,  470400.,  432600.,\n",
              "        501900.,  462000.,  249900.])"
            ]
          },
          "metadata": {},
          "execution_count": 47
        }
      ]
    },
    {
      "cell_type": "code",
      "source": [
        "x_treino,x_teste,y_treino,y_teste = train_test_split(x1,y, test_size=0.3, random_state=10,)"
      ],
      "metadata": {
        "id": "wrbj3pRJXNcL"
      },
      "execution_count": 48,
      "outputs": []
    },
    {
      "cell_type": "code",
      "source": [
        "x_treino.shape,y_treino.shape"
      ],
      "metadata": {
        "id": "1GpzAU5BXNfa",
        "colab": {
          "base_uri": "https://localhost:8080/"
        },
        "outputId": "35f27083-4053-4f36-c4aa-8f5ab1a09482"
      },
      "execution_count": 49,
      "outputs": [
        {
          "output_type": "execute_result",
          "data": {
            "text/plain": [
              "((342, 1), (342,))"
            ]
          },
          "metadata": {},
          "execution_count": 49
        }
      ]
    },
    {
      "cell_type": "code",
      "source": [
        "x_teste.shape,y_teste.shape"
      ],
      "metadata": {
        "id": "3yX4B7cwXNiL",
        "colab": {
          "base_uri": "https://localhost:8080/"
        },
        "outputId": "4769c6e3-b1ce-4427-da33-dea1c0cb2fe9"
      },
      "execution_count": 50,
      "outputs": [
        {
          "output_type": "execute_result",
          "data": {
            "text/plain": [
              "((147, 1), (147,))"
            ]
          },
          "metadata": {},
          "execution_count": 50
        }
      ]
    },
    {
      "cell_type": "code",
      "source": [
        "reg_linear1 = LinearRegression()\n",
        "reg_linear1.fit(x_treino,y_treino)"
      ],
      "metadata": {
        "id": "eZl8eNwwXNlV",
        "colab": {
          "base_uri": "https://localhost:8080/",
          "height": 75
        },
        "outputId": "3fff7267-c3a6-43f3-afa5-aea8dff35ddb"
      },
      "execution_count": 51,
      "outputs": [
        {
          "output_type": "execute_result",
          "data": {
            "text/plain": [
              "LinearRegression()"
            ],
            "text/html": [
              "<style>#sk-container-id-1 {color: black;background-color: white;}#sk-container-id-1 pre{padding: 0;}#sk-container-id-1 div.sk-toggleable {background-color: white;}#sk-container-id-1 label.sk-toggleable__label {cursor: pointer;display: block;width: 100%;margin-bottom: 0;padding: 0.3em;box-sizing: border-box;text-align: center;}#sk-container-id-1 label.sk-toggleable__label-arrow:before {content: \"▸\";float: left;margin-right: 0.25em;color: #696969;}#sk-container-id-1 label.sk-toggleable__label-arrow:hover:before {color: black;}#sk-container-id-1 div.sk-estimator:hover label.sk-toggleable__label-arrow:before {color: black;}#sk-container-id-1 div.sk-toggleable__content {max-height: 0;max-width: 0;overflow: hidden;text-align: left;background-color: #f0f8ff;}#sk-container-id-1 div.sk-toggleable__content pre {margin: 0.2em;color: black;border-radius: 0.25em;background-color: #f0f8ff;}#sk-container-id-1 input.sk-toggleable__control:checked~div.sk-toggleable__content {max-height: 200px;max-width: 100%;overflow: auto;}#sk-container-id-1 input.sk-toggleable__control:checked~label.sk-toggleable__label-arrow:before {content: \"▾\";}#sk-container-id-1 div.sk-estimator input.sk-toggleable__control:checked~label.sk-toggleable__label {background-color: #d4ebff;}#sk-container-id-1 div.sk-label input.sk-toggleable__control:checked~label.sk-toggleable__label {background-color: #d4ebff;}#sk-container-id-1 input.sk-hidden--visually {border: 0;clip: rect(1px 1px 1px 1px);clip: rect(1px, 1px, 1px, 1px);height: 1px;margin: -1px;overflow: hidden;padding: 0;position: absolute;width: 1px;}#sk-container-id-1 div.sk-estimator {font-family: monospace;background-color: #f0f8ff;border: 1px dotted black;border-radius: 0.25em;box-sizing: border-box;margin-bottom: 0.5em;}#sk-container-id-1 div.sk-estimator:hover {background-color: #d4ebff;}#sk-container-id-1 div.sk-parallel-item::after {content: \"\";width: 100%;border-bottom: 1px solid gray;flex-grow: 1;}#sk-container-id-1 div.sk-label:hover label.sk-toggleable__label {background-color: #d4ebff;}#sk-container-id-1 div.sk-serial::before {content: \"\";position: absolute;border-left: 1px solid gray;box-sizing: border-box;top: 0;bottom: 0;left: 50%;z-index: 0;}#sk-container-id-1 div.sk-serial {display: flex;flex-direction: column;align-items: center;background-color: white;padding-right: 0.2em;padding-left: 0.2em;position: relative;}#sk-container-id-1 div.sk-item {position: relative;z-index: 1;}#sk-container-id-1 div.sk-parallel {display: flex;align-items: stretch;justify-content: center;background-color: white;position: relative;}#sk-container-id-1 div.sk-item::before, #sk-container-id-1 div.sk-parallel-item::before {content: \"\";position: absolute;border-left: 1px solid gray;box-sizing: border-box;top: 0;bottom: 0;left: 50%;z-index: -1;}#sk-container-id-1 div.sk-parallel-item {display: flex;flex-direction: column;z-index: 1;position: relative;background-color: white;}#sk-container-id-1 div.sk-parallel-item:first-child::after {align-self: flex-end;width: 50%;}#sk-container-id-1 div.sk-parallel-item:last-child::after {align-self: flex-start;width: 50%;}#sk-container-id-1 div.sk-parallel-item:only-child::after {width: 0;}#sk-container-id-1 div.sk-dashed-wrapped {border: 1px dashed gray;margin: 0 0.4em 0.5em 0.4em;box-sizing: border-box;padding-bottom: 0.4em;background-color: white;}#sk-container-id-1 div.sk-label label {font-family: monospace;font-weight: bold;display: inline-block;line-height: 1.2em;}#sk-container-id-1 div.sk-label-container {text-align: center;}#sk-container-id-1 div.sk-container {/* jupyter's `normalize.less` sets `[hidden] { display: none; }` but bootstrap.min.css set `[hidden] { display: none !important; }` so we also need the `!important` here to be able to override the default hidden behavior on the sphinx rendered scikit-learn.org. See: https://github.com/scikit-learn/scikit-learn/issues/21755 */display: inline-block !important;position: relative;}#sk-container-id-1 div.sk-text-repr-fallback {display: none;}</style><div id=\"sk-container-id-1\" class=\"sk-top-container\"><div class=\"sk-text-repr-fallback\"><pre>LinearRegression()</pre><b>In a Jupyter environment, please rerun this cell to show the HTML representation or trust the notebook. <br />On GitHub, the HTML representation is unable to render, please try loading this page with nbviewer.org.</b></div><div class=\"sk-container\" hidden><div class=\"sk-item\"><div class=\"sk-estimator sk-toggleable\"><input class=\"sk-toggleable__control sk-hidden--visually\" id=\"sk-estimator-id-1\" type=\"checkbox\" checked><label for=\"sk-estimator-id-1\" class=\"sk-toggleable__label sk-toggleable__label-arrow\">LinearRegression</label><div class=\"sk-toggleable__content\"><pre>LinearRegression()</pre></div></div></div></div></div>"
            ]
          },
          "metadata": {},
          "execution_count": 51
        }
      ]
    },
    {
      "cell_type": "markdown",
      "source": [
        "Intercepto (coeficiente linear)"
      ],
      "metadata": {
        "id": "29Q6Loy5blex"
      }
    },
    {
      "cell_type": "code",
      "source": [
        "reg_linear1.intercept_"
      ],
      "metadata": {
        "id": "sMV-OaxtasWA",
        "colab": {
          "base_uri": "https://localhost:8080/"
        },
        "outputId": "dc5e460a-c922-4d35-f320-08c553f01e86"
      },
      "execution_count": 52,
      "outputs": [
        {
          "output_type": "execute_result",
          "data": {
            "text/plain": [
              "-626510.2699464143"
            ]
          },
          "metadata": {},
          "execution_count": 52
        }
      ]
    },
    {
      "cell_type": "markdown",
      "source": [
        "Coeficiente Angular"
      ],
      "metadata": {
        "id": "3AdR9YeUcQ_Q"
      }
    },
    {
      "cell_type": "code",
      "source": [
        "reg_linear1.coef_"
      ],
      "metadata": {
        "id": "YubAWffkasbh",
        "colab": {
          "base_uri": "https://localhost:8080/"
        },
        "outputId": "12869fc3-36e2-48a6-f009-a7296d9c38e0"
      },
      "execution_count": 53,
      "outputs": [
        {
          "output_type": "execute_result",
          "data": {
            "text/plain": [
              "array([173771.45170999])"
            ]
          },
          "metadata": {},
          "execution_count": 53
        }
      ]
    },
    {
      "cell_type": "markdown",
      "source": [
        "###**Equação: Valor = -626510.26 + 173771.45 vezes o número cômodos**"
      ],
      "metadata": {
        "id": "RbvZ0XGCc11J"
      }
    },
    {
      "cell_type": "markdown",
      "source": [
        "Coeficiente de Determinação dados de treino"
      ],
      "metadata": {
        "id": "21un89XAdfpz"
      }
    },
    {
      "cell_type": "code",
      "source": [
        "reg_linear1.score(x_treino,y_treino)"
      ],
      "metadata": {
        "id": "s9U4qxfqaseh",
        "colab": {
          "base_uri": "https://localhost:8080/"
        },
        "outputId": "a919d2f9-58e2-4beb-d0dd-b84006b2f6ba"
      },
      "execution_count": 54,
      "outputs": [
        {
          "output_type": "execute_result",
          "data": {
            "text/plain": [
              "0.46368351515551953"
            ]
          },
          "metadata": {},
          "execution_count": 54
        }
      ]
    },
    {
      "cell_type": "code",
      "source": [
        "reg_linear1.score(x_teste,y_teste)"
      ],
      "metadata": {
        "id": "Xlk_CUNiashr",
        "colab": {
          "base_uri": "https://localhost:8080/"
        },
        "outputId": "c92b5310-25c0-4969-afdb-5d7351303f79"
      },
      "execution_count": 55,
      "outputs": [
        {
          "output_type": "execute_result",
          "data": {
            "text/plain": [
              "0.5426573915930195"
            ]
          },
          "metadata": {},
          "execution_count": 55
        }
      ]
    },
    {
      "cell_type": "code",
      "source": [
        "previsoes_treino = reg_linear1.predict(x_treino)\n",
        "previsoes_treino"
      ],
      "metadata": {
        "id": "sbo1N0EweX9J",
        "colab": {
          "base_uri": "https://localhost:8080/"
        },
        "outputId": "e98148dc-e7c9-45ec-d83e-1e922a4d41c2"
      },
      "execution_count": 56,
      "outputs": [
        {
          "output_type": "execute_result",
          "data": {
            "text/plain": [
              "array([551833.94409904, 468423.64727824, 647755.78544295, 658182.07254555,\n",
              "       586414.46298932, 464600.67534062, 395265.86610833, 229487.901177  ,\n",
              "       441141.52935977, 424980.78435074, 523161.65456689, 432105.41387085,\n",
              "       555135.60168153,  44768.84800928, 504915.65213734, 424285.6985439 ,\n",
              "       565735.66023583, 607962.12300136, 455912.10275512, 442531.70097345,\n",
              "       505784.50939589, 450003.87339698, 410210.21095539, 390226.49400874,\n",
              "       472767.93357099, 809884.54988837, 401174.09546647, 639762.29866429,\n",
              "       465817.07550259, 491882.79325909, 437318.55742215, 416813.52612037,\n",
              "       413164.32563446, 560870.05958796, 396134.72336688, 459561.30324103,\n",
              "       335488.4867201 , 521423.94004979, 441315.30081148, 630899.95462708,\n",
              "       452262.90226921, 557915.94490889, 437144.78597044, 391616.66562242,\n",
              "       525420.68343912, 459735.07469274, 397872.43788398, 492925.42196935,\n",
              "       387619.92223309, 533240.39876607, 487538.50696634, 608483.43735649,\n",
              "       832822.38151409, 457823.58872393, 414380.72579643, 430193.92790204,\n",
              "       622037.61058987, 403433.1243387 , 548532.28651655, 346436.08817783,\n",
              "       295173.50992338, 410557.75385881, 348000.03124322, 481456.50615649,\n",
              "       618214.63865225, 341396.71607824, 438187.4146807 , 620821.2104279 ,\n",
              "       313940.82670806, 507348.45246128, 394397.00884978, 806582.89230588,\n",
              "       485279.47809411, 395092.09465662, 444269.41549055, 430541.47080546,\n",
              "        92555.99722953, 445138.2727491 , 486495.87825608, 808668.1497264 ,\n",
              "       501266.45165143, 420115.18370286, 514299.31052968, 388488.77949164,\n",
              "       391269.122719  , 680251.04691272, 235917.44489027, 434885.75709821,\n",
              "       403259.35288699, 527679.71231135, 586414.46298932, 500223.82294117,\n",
              "       500397.59439288, 290481.68072721, 302993.22525033, 393528.15159123,\n",
              "       404475.75304896, 528896.11247332, 269281.56361859, 368678.8339967 ,\n",
              "       482499.13486675, 480761.42034965, 302124.36799178, 557220.85910205,\n",
              "       486322.10680437, 521076.39714637, 397177.35207714, 498486.10842407,\n",
              "       394570.78030149, 490840.16454883, 274668.4786216 , 332708.14349274,\n",
              "       454869.47404486, 496227.07955184, 312550.65509438, 366246.03367277,\n",
              "       410036.43950368, 473984.33373296, 362770.60463857, 346957.40253296,\n",
              "       423243.06983364, 358773.86124924, 305252.25412256, 380321.52126127,\n",
              "       625165.49672065, 470856.44760218, 374239.52045142, 475722.04825006,\n",
              "       419767.64079944, 732382.48242572, 476069.59115348, 516037.02504678,\n",
              "       364855.86205909, 633158.98349931, 552007.71555075, 481456.50615649,\n",
              "       449656.33049356, 445138.2727491 , 597014.52154363, 382580.5501335 ,\n",
              "       482151.59196333, 486669.64970779, 544535.54312722, 418725.01208918,\n",
              "       378931.34964759, 426370.95596442, 433669.35693624, 310117.85477044,\n",
              "       449656.33049356, 407777.41063145, 418551.24063747, 671562.47432722,\n",
              "       495010.67938987, 372154.2630309 , 471203.9905056 , 695890.47756662,\n",
              "       347304.94543638, 416813.52612037, 402216.72417673, 407429.86772803,\n",
              "       530286.284087  , 709965.96515513, 421331.58386483, 439925.1291978 ,\n",
              "       519512.45408098, 502135.30890998, 568863.54636661, 451220.27355895,\n",
              "       488407.36422489, 455912.10275512, 469987.59034363, 481282.73470478,\n",
              "       365550.94786592, 341222.94462653, 366246.03367277, 625686.81107578,\n",
              "       581375.09088973, 406039.69611435, 403259.35288699, 321065.45622817,\n",
              "       341744.25898166, 413164.32563446, 652100.0717357 , 822222.32295978,\n",
              "       510997.65294719, 395960.95191517, 559653.65942599, 403606.89579041,\n",
              "       413859.4114413 , 311681.79783583, 467728.5614714 , 158762.92033104,\n",
              "        92555.99722953, 468597.41872995, 524725.59763228, 394918.32320491,\n",
              "       471030.21905389, 444443.18694226, 440793.98645635, 646713.15673269,\n",
              "       582417.71959999, 396482.2662703 , 504741.88068563, 248602.7608651 ,\n",
              "       225491.15778767, 396656.03772201, 505263.19504076, 349563.97430861,\n",
              "       488581.1356766 , 549922.45813023, 432626.72822598, 526463.31214938,\n",
              "       546447.02909603, 314288.36961148, 415770.89741011, 616824.46703857,\n",
              "       605181.779774  , 366246.03367277, 334619.62946155, 436102.15726018,\n",
              "       432800.49967769, 564171.71717045, 579289.83346921, 516732.11085362,\n",
              "       701972.47837647, 511518.96730232, 589542.3491201 , 383623.17884376,\n",
              "       491013.93600054, 485974.56390095, 427239.81322297, 360859.11866976,\n",
              "       529938.74118358,  -7710.13040714, 484410.62083556, 404997.06740409,\n",
              "       347478.71688809, 445485.81565252, 571991.43249739, 354950.88931162,\n",
              "       394223.23739807, 581375.09088973, 455912.10275512, 709097.10789658,\n",
              "       499876.28003775, 401000.32401476, 417682.38337892, 437318.55742215,\n",
              "       478328.62002571, 525594.45489083, 434885.75709821, 373891.977548  ,\n",
              "       323672.02800382, 546273.25764432, 584329.2055688 , 554092.97297127,\n",
              "       518643.59682243, 552007.71555075, 510823.88149548, 378236.26384075,\n",
              "       398046.20933569, 404823.29595238, 351301.68882571, 615434.29542489,\n",
              "       385187.12190915, 428108.67048152, 381885.46432666, 562434.00265334,\n",
              "       567473.37475293, 533935.48457291, 409167.58224513, 474331.87663638,\n",
              "       438708.72903583, 459735.07469274, 600489.95057783, 409341.35369684,\n",
              "       393875.69449465, 542624.05715841, 436971.01451873, 373891.977548  ,\n",
              "       523509.19747031, 463558.04663036, 419420.09789602, 393701.92304294,\n",
              "       668782.13109986, 459387.53178932, 340527.85881969, 434016.89983966,\n",
              "       492056.5647108 , 452784.21662434, 321586.7705833 , 417682.38337892,\n",
              "       586762.00589274, 488233.59277318, 428629.98483665, 421505.35531654,\n",
              "       446354.67291107, 603617.83670861, 427587.35612639, 379626.43545443,\n",
              "       542624.05715841, 435580.84290505, 245648.64618603, 390400.26546045,\n",
              "       387793.6936848 , 492230.33616251, 407256.09627632, 445138.2727491 ,\n",
              "       440446.44355293, 374760.83480655, 513951.76762626, 441141.52935977,\n",
              "       435928.38580847, 378410.03529246, 364160.77625225, 495358.22229329,\n",
              "       409341.35369684, 584329.2055688 , 404997.06740409, 396656.03772201,\n",
              "       177704.00856742, 455390.78839999, 226012.4721428 , 404823.29595238,\n",
              "       221494.41439834, 442531.70097345, 594060.40686456, 339659.00156114,\n",
              "       458692.44598248, 351996.77463255, 420810.2695097 , 476590.90550861,\n",
              "       512040.28165745, 258507.73361257, 289612.82346866, 391095.35126729,\n",
              "       181874.52340846, 365029.6335108 , 387272.37932967, 519164.91117756,\n",
              "       413685.63998959, 564519.26007386])"
            ]
          },
          "metadata": {},
          "execution_count": 56
        }
      ]
    },
    {
      "cell_type": "code",
      "source": [
        "plt.scatter(y=y_treino,x=x_treino,color='orange', s=10, alpha=0.9)\n",
        "x_plot = np.linspace(3,9)\n",
        "plt.plot(x_plot,x_plot*reg_linear1.coef_ + reg_linear1.intercept_,color='r')\n",
        "plt.style.use('dark_background')\n",
        "plt.title('Reta de regressão')\n",
        "plt.ylabel('Valor médio')\n",
        "plt.xlabel('Quantidades de cômodos')\n",
        "plt.show()"
      ],
      "metadata": {
        "id": "qPpRk51ceYAf",
        "colab": {
          "base_uri": "https://localhost:8080/",
          "height": 480
        },
        "outputId": "104cff59-000c-4dc5-e1eb-17036678890e"
      },
      "execution_count": 57,
      "outputs": [
        {
          "output_type": "display_data",
          "data": {
            "text/plain": [
              "<Figure size 640x480 with 1 Axes>"
            ],
            "image/png": "[encoded data removed]"
          },
          "metadata": {}
        }
      ]
    },
    {
      "cell_type": "code",
      "source": [
        "previsoes_teste = reg_linear1.predict(x_teste)\n",
        "previsoes_teste"
      ],
      "metadata": {
        "id": "K0VtGHV2eYDh",
        "colab": {
          "base_uri": "https://localhost:8080/"
        },
        "outputId": "8518f6ea-c391-4470-a534-aeb255e758ff"
      },
      "execution_count": 58,
      "outputs": [
        {
          "output_type": "execute_result",
          "data": {
            "text/plain": [
              "array([419593.86934773, 438187.4146807 , 447744.84452475, 480935.19180136,\n",
              "       491013.93600054, 494836.90793816, 563650.40281531, 438187.4146807 ,\n",
              "       500745.1372963 , 482151.59196333, 452436.67372092, 452784.21662434,\n",
              "       585719.37718248, 394744.5517532 , 321239.22767988, 442705.47242516,\n",
              "       458171.13162735, 446702.21581449, 442357.92952174, 488581.1356766 ,\n",
              "       592322.69234746, 244432.24602406, 412816.78273104, 540365.02828618,\n",
              "       421331.58386483, 554092.97297127, 470856.44760218, 369373.91980354,\n",
              "       732382.48242572, 411947.92547249, 484758.16373898, 514646.8534331 ,\n",
              "       565561.88878412, 438534.95758412, 661483.73012804, 452957.98807605,\n",
              "       579984.91927605, 402911.80998357, 351475.46027742, 537063.37070369,\n",
              "       491535.25035567, 490145.07874199, 637503.26979206, 512735.36746429,\n",
              "       722825.05258167, 631768.81188563, 489971.30729028, 353039.40334281,\n",
              "       471551.53340902, 466512.16130943, 446007.13000765, 384492.03610231,\n",
              "       390747.80836387, 312550.65509438, 526463.31214938, 310117.85477044,\n",
              "       567994.68910806, 399610.15240108, 435754.61435676, 393180.60868781,\n",
              "       486495.87825608, 295173.50992338, 591106.29218549, 542450.2857067 ,\n",
              "       509607.48133351, 371111.63432064, 444269.41549055, 418203.69773405,\n",
              "       499702.50858604, 502135.30890998, 413511.86853788, 345393.45946757,\n",
              "       644280.35640875, 470335.13324705, 525594.45489083, 361032.89012147,\n",
              "       365377.17641422, 489276.22148344, 475374.50534664, 410210.21095539,\n",
              "       481630.2776082 , 523682.96892202, 346088.54527441, 390747.80836387,\n",
              "       357557.46108727, 542276.51425499, 486495.87825608, 409688.89660026,\n",
              "       411252.83966565, 432800.49967769, 456433.41711025, 407603.63917974,\n",
              "       525768.22634254, 460256.38904787, 452436.67372092, 431062.78516059,\n",
              "       622037.61058987, 391095.35126729, 540886.34264131, 132523.43112283,\n",
              "       738116.94033215, 345567.23091928, 422547.9840268 , 393354.38013952,\n",
              "       770612.20180191, 613349.03800437, 365203.4049625 , 448266.15887988,\n",
              "       383623.17884376, 509955.02423693, 559306.11652257, 237655.15940737,\n",
              "       537932.22796224, 416639.75466866, 662178.81593488, 398393.75223911,\n",
              "       472767.93357099, 547837.20070971, 585545.60573077, 491361.47890396,\n",
              "       462341.64646839, 427413.58467468, 316547.39848371, 662873.90174172,\n",
              "       488581.1356766 , 444616.95839397, 417161.06902379, 636286.86963009,\n",
              "       456085.87420683, 470335.13324705, 542450.2857067 , 454174.38823802,\n",
              "       495879.53664842, 312376.88364267, 615608.0668766 , 348868.88850177,\n",
              "       408646.26789   , 482672.90631846, 390052.72255703, 379105.1210993 ,\n",
              "       242346.98860354, 396829.80917372, 775651.5739015 , 495705.76519671,\n",
              "       448266.15887988, 483715.53502872, 497964.79406894])"
            ]
          },
          "metadata": {},
          "execution_count": 58
        }
      ]
    },
    {
      "cell_type": "code",
      "source": [
        "y_teste"
      ],
      "metadata": {
        "id": "gJxl83xXeYGL",
        "colab": {
          "base_uri": "https://localhost:8080/"
        },
        "outputId": "37aa9492-a44c-4b8a-fba9-33e63e559c94"
      },
      "execution_count": 59,
      "outputs": [
        {
          "output_type": "execute_result",
          "data": {
            "text/plain": [
              "array([ 487200.,  428400.,  525000.,  483000.,  516600.,  462000.,\n",
              "        592200.,  476700.,  512400.,  275100.,  487200.,  518700.,\n",
              "        501900.,  499800.,  319200.,  621600.,  483000.,  445200.,\n",
              "        373800.,  273000.,  644700.,  321300.,  510300.,  478800.,\n",
              "        348600.,  462000.,  516600.,  405300.,  919800.,  266700.,\n",
              "        455700.,  499800.,  627900.,  357000.,  665700.,  373800.,\n",
              "        867300.,  327600.,  327600.,  501900.,  151200.,  499800.,\n",
              "        726600.,  625800.,  835800.,  686700.,  338100.,  300300.,\n",
              "        499800.,  493500.,  569100.,  220500.,  226800.,  411600.,\n",
              "        478800.,  241500.,  655200.,  432600.,  441000.,  405300.,\n",
              "        462000.,  252000.,  495600.,  577500.,  512400.,  392700.,\n",
              "        279300.,  480900.,  497700.,  554400.,  399000.,  369600.,\n",
              "        315000.,  445200.,  585900.,  105000.,  388500.,  453600.,\n",
              "        312900.,  336000.,  315000.,  501900.,  323400.,  476700.,\n",
              "        382200.,  609000.,  390600.,  413700.,  426300.,  283500.,\n",
              "        445200.,  451500.,  527100.,  388500.,  449400.,  504000.,\n",
              "        732900.,  443100.,  550200.,  184800., 1018500.,  365400.,\n",
              "        443100.,  409500.,  789600.,  690900.,  457800.,  296100.,\n",
              "        348600.,  346500.,  176400.,  338100.,  344400.,  401100.,\n",
              "        697200.,  361200.,  411600.,  680400.,  732900.,  514500.,\n",
              "        453600.,  478800.,  289800.,  701400.,  508200.,  455700.,\n",
              "        298200.,  697200.,  422100.,  483000.,  588000.,  386400.,\n",
              "        247800.,  281400.,  783300.,  329700.,  184800.,  518700.,\n",
              "        441000.,  407400.,  155400.,  455700.,  812700.,  403200.,\n",
              "        306600.,  501900.,  275100.])"
            ]
          },
          "metadata": {},
          "execution_count": 59
        }
      ]
    },
    {
      "cell_type": "code",
      "source": [
        "plt.scatter(y=y_teste,x=x_teste, color='orange', s=10, alpha=0.9)\n",
        "x_plot = np.linspace(3,9)\n",
        "plt.plot(x_plot,x_plot*reg_linear1.coef_ + reg_linear1.intercept_,color='r')\n",
        "plt.style.use('dark_background')\n",
        "plt.title('Reta de regressão')\n",
        "plt.ylabel('Valor médio')\n",
        "plt.xlabel('Quantidades de cômodos')\n",
        "plt.show()"
      ],
      "metadata": {
        "id": "zEx7OR8TeYJG",
        "colab": {
          "base_uri": "https://localhost:8080/",
          "height": 480
        },
        "outputId": "b0d1078a-202d-4207-9bd1-e1d67e0b6859"
      },
      "execution_count": 60,
      "outputs": [
        {
          "output_type": "display_data",
          "data": {
            "text/plain": [
              "<Figure size 640x480 with 1 Axes>"
            ],
            "image/png": "[encoded data removed]"
          },
          "metadata": {}
        }
      ]
    },
    {
      "cell_type": "markdown",
      "source": [
        "Fazendo previsões para valores distintos"
      ],
      "metadata": {
        "id": "wXiXRq6OjgcH"
      }
    },
    {
      "cell_type": "code",
      "source": [
        "valor_casa =reg_linear1.predict([[4]])\n",
        "valor_casa"
      ],
      "metadata": {
        "id": "s4eqb8L1eYL3",
        "colab": {
          "base_uri": "https://localhost:8080/"
        },
        "outputId": "64487cde-dfe6-43f3-80ba-2e7fef2c6a55"
      },
      "execution_count": 61,
      "outputs": [
        {
          "output_type": "execute_result",
          "data": {
            "text/plain": [
              "array([68575.53689355])"
            ]
          },
          "metadata": {},
          "execution_count": 61
        }
      ]
    },
    {
      "cell_type": "markdown",
      "source": [
        "# **Métricas de Desempenho**"
      ],
      "metadata": {
        "id": "9XR_vovfkKm6"
      }
    },
    {
      "cell_type": "markdown",
      "source": [
        "Erro absoluto"
      ],
      "metadata": {
        "id": "NXQKxy7pkvGv"
      }
    },
    {
      "cell_type": "code",
      "source": [
        "abs(y_teste - previsoes_teste).mean()"
      ],
      "metadata": {
        "id": "RZ1JKJB0eYPL",
        "colab": {
          "base_uri": "https://localhost:8080/"
        },
        "outputId": "9d1bff3c-fcef-44a0-c207-da6c376fca39"
      },
      "execution_count": 62,
      "outputs": [
        {
          "output_type": "execute_result",
          "data": {
            "text/plain": [
              "76063.99733079868"
            ]
          },
          "metadata": {},
          "execution_count": 62
        }
      ]
    },
    {
      "cell_type": "markdown",
      "source": [
        "Erro médio absoluto"
      ],
      "metadata": {
        "id": "i_LUI9Xwlzf7"
      }
    },
    {
      "cell_type": "code",
      "source": [
        "mean_absolute_error(y_teste,previsoes_teste)"
      ],
      "metadata": {
        "id": "D-TaXhxoeYRj",
        "colab": {
          "base_uri": "https://localhost:8080/"
        },
        "outputId": "a94d200a-6afe-47da-fa69-ab241a13d66d"
      },
      "execution_count": 63,
      "outputs": [
        {
          "output_type": "execute_result",
          "data": {
            "text/plain": [
              "76063.99733079868"
            ]
          },
          "metadata": {},
          "execution_count": 63
        }
      ]
    },
    {
      "cell_type": "markdown",
      "source": [
        "Erro quadrádico médio"
      ],
      "metadata": {
        "id": "-O-cxkCRmYvC"
      }
    },
    {
      "cell_type": "code",
      "source": [
        "mean_squared_error(y_teste,previsoes_teste)"
      ],
      "metadata": {
        "id": "-EdyX2WcmW2W",
        "colab": {
          "base_uri": "https://localhost:8080/"
        },
        "outputId": "67d25309-6bbb-477a-c417-15a53b486ff4"
      },
      "execution_count": 64,
      "outputs": [
        {
          "output_type": "execute_result",
          "data": {
            "text/plain": [
              "11294624525.740473"
            ]
          },
          "metadata": {},
          "execution_count": 64
        }
      ]
    },
    {
      "cell_type": "markdown",
      "source": [
        "Raiz do erro quadrático médio"
      ],
      "metadata": {
        "id": "rzIXLqhfmuZ7"
      }
    },
    {
      "cell_type": "code",
      "source": [
        "np.sqrt(mean_squared_error(y_teste,previsoes_teste))"
      ],
      "metadata": {
        "id": "dlDC7htrmXHZ",
        "colab": {
          "base_uri": "https://localhost:8080/"
        },
        "outputId": "3ba7dfc1-531f-4ad2-867f-efb8f272a507"
      },
      "execution_count": 65,
      "outputs": [
        {
          "output_type": "execute_result",
          "data": {
            "text/plain": [
              "106276.17101561607"
            ]
          },
          "metadata": {},
          "execution_count": 65
        }
      ]
    },
    {
      "cell_type": "markdown",
      "source": [
        "### **Valor médio (MEDV) em função da classe social (LSTAT)**"
      ],
      "metadata": {
        "id": "tKa4PqRQo1Dc"
      }
    },
    {
      "cell_type": "code",
      "source": [
        "df.head(2)"
      ],
      "metadata": {
        "id": "9HhZ_DyfmXRY",
        "colab": {
          "base_uri": "https://localhost:8080/",
          "height": 112
        },
        "outputId": "7e6fbe07-d575-4f91-ce60-95e4284512e1"
      },
      "execution_count": 66,
      "outputs": [
        {
          "output_type": "execute_result",
          "data": {
            "text/plain": [
              "      RM  LSTAT  PTRATIO      MEDV\n",
              "0  6.575   4.98     15.3  504000.0\n",
              "1  6.421   9.14     17.8  453600.0"
            ],
            "text/html": [
              "\n",
              "  <div id=\"df-00c2b2a2-eae3-47e9-86a8-41205f46ca3d\" class=\"colab-df-container\">\n",
              "    <div>\n",
              "<style scoped>\n",
              "    .dataframe tbody tr th:only-of-type {\n",
              "        vertical-align: middle;\n",
              "    }\n",
              "\n",
              "    .dataframe tbody tr th {\n",
              "        vertical-align: top;\n",
              "    }\n",
              "\n",
              "    .dataframe thead th {\n",
              "        text-align: right;\n",
              "    }\n",
              "</style>\n",
              "<table border=\"1\" class=\"dataframe\">\n",
              "  <thead>\n",
              "    <tr style=\"text-align: right;\">\n",
              "      <th></th>\n",
              "      <th>RM</th>\n",
              "      <th>LSTAT</th>\n",
              "      <th>PTRATIO</th>\n",
              "      <th>MEDV</th>\n",
              "    </tr>\n",
              "  </thead>\n",
              "  <tbody>\n",
              "    <tr>\n",
              "      <th>0</th>\n",
              "      <td>6.575</td>\n",
              "      <td>4.98</td>\n",
              "      <td>15.3</td>\n",
              "      <td>504000.0</td>\n",
              "    </tr>\n",
              "    <tr>\n",
              "      <th>1</th>\n",
              "      <td>6.421</td>\n",
              "      <td>9.14</td>\n",
              "      <td>17.8</td>\n",
              "      <td>453600.0</td>\n",
              "    </tr>\n",
              "  </tbody>\n",
              "</table>\n",
              "</div>\n",
              "    <div class=\"colab-df-buttons\">\n",
              "\n",
              "  <div class=\"colab-df-container\">\n",
              "    <button class=\"colab-df-convert\" onclick=\"convertToInteractive('df-00c2b2a2-eae3-47e9-86a8-41205f46ca3d')\"\n",
              "            title=\"Convert this dataframe to an interactive table.\"\n",
              "            style=\"display:none;\">\n",
              "\n",
              "  <svg xmlns=\"http://www.w3.org/2000/svg\" height=\"24px\" viewBox=\"0 -960 960 960\">\n",
              "    <path d=\"M120-120v-720h720v720H120Zm60-500h600v-160H180v160Zm220 220h160v-160H400v160Zm0 220h160v-160H400v160ZM180-400h160v-160H180v160Zm440 0h160v-160H620v160ZM180-180h160v-160H180v160Zm440 0h160v-160H620v160Z\"/>\n",
              "  </svg>\n",
              "    </button>\n",
              "\n",
              "  <style>\n",
              "    .colab-df-container {\n",
              "      display:flex;\n",
              "      gap: 12px;\n",
              "    }\n",
              "\n",
              "    .colab-df-convert {\n",
              "      background-color: #E8F0FE;\n",
              "      border: none;\n",
              "      border-radius: 50%;\n",
              "      cursor: pointer;\n",
              "      display: none;\n",
              "      fill: #1967D2;\n",
              "      height: 32px;\n",
              "      padding: 0 0 0 0;\n",
              "      width: 32px;\n",
              "    }\n",
              "\n",
              "    .colab-df-convert:hover {\n",
              "      background-color: #E2EBFA;\n",
              "      box-shadow: 0px 1px 2px rgba(60, 64, 67, 0.3), 0px 1px 3px 1px rgba(60, 64, 67, 0.15);\n",
              "      fill: #174EA6;\n",
              "    }\n",
              "\n",
              "    .colab-df-buttons div {\n",
              "      margin-bottom: 4px;\n",
              "    }\n",
              "\n",
              "    [theme=dark] .colab-df-convert {\n",
              "      background-color: #3B4455;\n",
              "      fill: #D2E3FC;\n",
              "    }\n",
              "\n",
              "    [theme=dark] .colab-df-convert:hover {\n",
              "      background-color: #434B5C;\n",
              "      box-shadow: 0px 1px 3px 1px rgba(0, 0, 0, 0.15);\n",
              "      filter: drop-shadow(0px 1px 2px rgba(0, 0, 0, 0.3));\n",
              "      fill: #FFFFFF;\n",
              "    }\n",
              "  </style>\n",
              "\n",
              "    <script>\n",
              "      const buttonEl =\n",
              "        document.querySelector('#df-00c2b2a2-eae3-47e9-86a8-41205f46ca3d button.colab-df-convert');\n",
              "      buttonEl.style.display =\n",
              "        google.colab.kernel.accessAllowed ? 'block' : 'none';\n",
              "\n",
              "      async function convertToInteractive(key) {\n",
              "        const element = document.querySelector('#df-00c2b2a2-eae3-47e9-86a8-41205f46ca3d');\n",
              "        const dataTable =\n",
              "          await google.colab.kernel.invokeFunction('convertToInteractive',\n",
              "                                                    [key], {});\n",
              "        if (!dataTable) return;\n",
              "\n",
              "        const docLinkHtml = 'Like what you see? Visit the ' +\n",
              "          '<a target=\"_blank\" href=https://colab.research.google.com/notebooks/data_table.ipynb>data table notebook</a>'\n",
              "          + ' to learn more about interactive tables.';\n",
              "        element.innerHTML = '';\n",
              "        dataTable['output_type'] = 'display_data';\n",
              "        await google.colab.output.renderOutput(dataTable, element);\n",
              "        const docLink = document.createElement('div');\n",
              "        docLink.innerHTML = docLinkHtml;\n",
              "        element.appendChild(docLink);\n",
              "      }\n",
              "    </script>\n",
              "  </div>\n",
              "\n",
              "\n",
              "<div id=\"df-cd2b6d64-688b-4f8f-8562-6d2c59673e88\">\n",
              "  <button class=\"colab-df-quickchart\" onclick=\"quickchart('df-cd2b6d64-688b-4f8f-8562-6d2c59673e88')\"\n",
              "            title=\"Suggest charts\"\n",
              "            style=\"display:none;\">\n",
              "\n",
              "<svg xmlns=\"http://www.w3.org/2000/svg\" height=\"24px\"viewBox=\"0 0 24 24\"\n",
              "     width=\"24px\">\n",
              "    <g>\n",
              "        <path d=\"M19 3H5c-1.1 0-2 .9-2 2v14c0 1.1.9 2 2 2h14c1.1 0 2-.9 2-2V5c0-1.1-.9-2-2-2zM9 17H7v-7h2v7zm4 0h-2V7h2v10zm4 0h-2v-4h2v4z\"/>\n",
              "    </g>\n",
              "</svg>\n",
              "  </button>\n",
              "\n",
              "<style>\n",
              "  .colab-df-quickchart {\n",
              "      --bg-color: #E8F0FE;\n",
              "      --fill-color: #1967D2;\n",
              "      --hover-bg-color: #E2EBFA;\n",
              "      --hover-fill-color: #174EA6;\n",
              "      --disabled-fill-color: #AAA;\n",
              "      --disabled-bg-color: #DDD;\n",
              "  }\n",
              "\n",
              "  [theme=dark] .colab-df-quickchart {\n",
              "      --bg-color: #3B4455;\n",
              "      --fill-color: #D2E3FC;\n",
              "      --hover-bg-color: #434B5C;\n",
              "      --hover-fill-color: #FFFFFF;\n",
              "      --disabled-bg-color: #3B4455;\n",
              "      --disabled-fill-color: #666;\n",
              "  }\n",
              "\n",
              "  .colab-df-quickchart {\n",
              "    background-color: var(--bg-color);\n",
              "    border: none;\n",
              "    border-radius: 50%;\n",
              "    cursor: pointer;\n",
              "    display: none;\n",
              "    fill: var(--fill-color);\n",
              "    height: 32px;\n",
              "    padding: 0;\n",
              "    width: 32px;\n",
              "  }\n",
              "\n",
              "  .colab-df-quickchart:hover {\n",
              "    background-color: var(--hover-bg-color);\n",
              "    box-shadow: 0 1px 2px rgba(60, 64, 67, 0.3), 0 1px 3px 1px rgba(60, 64, 67, 0.15);\n",
              "    fill: var(--button-hover-fill-color);\n",
              "  }\n",
              "\n",
              "  .colab-df-quickchart-complete:disabled,\n",
              "  .colab-df-quickchart-complete:disabled:hover {\n",
              "    background-color: var(--disabled-bg-color);\n",
              "    fill: var(--disabled-fill-color);\n",
              "    box-shadow: none;\n",
              "  }\n",
              "\n",
              "  .colab-df-spinner {\n",
              "    border: 2px solid var(--fill-color);\n",
              "    border-color: transparent;\n",
              "    border-bottom-color: var(--fill-color);\n",
              "    animation:\n",
              "      spin 1s steps(1) infinite;\n",
              "  }\n",
              "\n",
              "  @keyframes spin {\n",
              "    0% {\n",
              "      border-color: transparent;\n",
              "      border-bottom-color: var(--fill-color);\n",
              "      border-left-color: var(--fill-color);\n",
              "    }\n",
              "    20% {\n",
              "      border-color: transparent;\n",
              "      border-left-color: var(--fill-color);\n",
              "      border-top-color: var(--fill-color);\n",
              "    }\n",
              "    30% {\n",
              "      border-color: transparent;\n",
              "      border-left-color: var(--fill-color);\n",
              "      border-top-color: var(--fill-color);\n",
              "      border-right-color: var(--fill-color);\n",
              "    }\n",
              "    40% {\n",
              "      border-color: transparent;\n",
              "      border-right-color: var(--fill-color);\n",
              "      border-top-color: var(--fill-color);\n",
              "    }\n",
              "    60% {\n",
              "      border-color: transparent;\n",
              "      border-right-color: var(--fill-color);\n",
              "    }\n",
              "    80% {\n",
              "      border-color: transparent;\n",
              "      border-right-color: var(--fill-color);\n",
              "      border-bottom-color: var(--fill-color);\n",
              "    }\n",
              "    90% {\n",
              "      border-color: transparent;\n",
              "      border-bottom-color: var(--fill-color);\n",
              "    }\n",
              "  }\n",
              "</style>\n",
              "\n",
              "  <script>\n",
              "    async function quickchart(key) {\n",
              "      const quickchartButtonEl =\n",
              "        document.querySelector('#' + key + ' button');\n",
              "      quickchartButtonEl.disabled = true;  // To prevent multiple clicks.\n",
              "      quickchartButtonEl.classList.add('colab-df-spinner');\n",
              "      try {\n",
              "        const charts = await google.colab.kernel.invokeFunction(\n",
              "            'suggestCharts', [key], {});\n",
              "      } catch (error) {\n",
              "        console.error('Error during call to suggestCharts:', error);\n",
              "      }\n",
              "      quickchartButtonEl.classList.remove('colab-df-spinner');\n",
              "      quickchartButtonEl.classList.add('colab-df-quickchart-complete');\n",
              "    }\n",
              "    (() => {\n",
              "      let quickchartButtonEl =\n",
              "        document.querySelector('#df-cd2b6d64-688b-4f8f-8562-6d2c59673e88 button');\n",
              "      quickchartButtonEl.style.display =\n",
              "        google.colab.kernel.accessAllowed ? 'block' : 'none';\n",
              "    })();\n",
              "  </script>\n",
              "</div>\n",
              "\n",
              "    </div>\n",
              "  </div>\n"
            ],
            "application/vnd.google.colaboratory.intrinsic+json": {
              "type": "dataframe",
              "variable_name": "df",
              "summary": "{\n  \"name\": \"df\",\n  \"rows\": 489,\n  \"fields\": [\n    {\n      \"column\": \"RM\",\n      \"properties\": {\n        \"dtype\": \"number\",\n        \"std\": 0.6436497627572433,\n        \"min\": 3.561,\n        \"max\": 8.398,\n        \"num_unique_values\": 430,\n        \"samples\": [\n          5.67,\n          6.232,\n          6.8\n        ],\n        \"semantic_type\": \"\",\n        \"description\": \"\"\n      }\n    },\n    {\n      \"column\": \"LSTAT\",\n      \"properties\": {\n        \"dtype\": \"number\",\n        \"std\": 7.081989789065133,\n        \"min\": 1.98,\n        \"max\": 37.97,\n        \"num_unique_values\": 442,\n        \"samples\": [\n          12.73,\n          4.14,\n          5.52\n        ],\n        \"semantic_type\": \"\",\n        \"description\": \"\"\n      }\n    },\n    {\n      \"column\": \"PTRATIO\",\n      \"properties\": {\n        \"dtype\": \"number\",\n        \"std\": 2.111267502630989,\n        \"min\": 12.6,\n        \"max\": 22.0,\n        \"num_unique_values\": 44,\n        \"samples\": [\n          19.6,\n          16.6,\n          15.6\n        ],\n        \"semantic_type\": \"\",\n        \"description\": \"\"\n      }\n    },\n    {\n      \"column\": \"MEDV\",\n      \"properties\": {\n        \"dtype\": \"number\",\n        \"std\": 165340.27765266784,\n        \"min\": 105000.0,\n        \"max\": 1024800.0,\n        \"num_unique_values\": 228,\n        \"samples\": [\n          296100.0,\n          472500.0,\n          396900.0\n        ],\n        \"semantic_type\": \"\",\n        \"description\": \"\"\n      }\n    }\n  ]\n}"
            }
          },
          "metadata": {},
          "execution_count": 66
        }
      ]
    },
    {
      "cell_type": "code",
      "source": [
        "x2 = df.iloc[:,1:2].values"
      ],
      "metadata": {
        "id": "sHQwfmvZ8-mP"
      },
      "execution_count": 67,
      "outputs": []
    },
    {
      "cell_type": "code",
      "source": [
        "y = df.iloc[:,3].values"
      ],
      "metadata": {
        "id": "dZDXXN1b8-jX"
      },
      "execution_count": 68,
      "outputs": []
    },
    {
      "cell_type": "code",
      "source": [
        "x_treino,x_teste,y_treino,y_teste = train_test_split(x2,y,test_size=0.3,random_state=10)\n"
      ],
      "metadata": {
        "id": "lc2aelpj8-fi"
      },
      "execution_count": 69,
      "outputs": []
    },
    {
      "cell_type": "code",
      "source": [
        "x_treino.shape,y_treino.shape"
      ],
      "metadata": {
        "id": "VqhUshCJ8-cs",
        "colab": {
          "base_uri": "https://localhost:8080/"
        },
        "outputId": "3c6b5600-0541-4df4-d93e-3af58014707d"
      },
      "execution_count": 70,
      "outputs": [
        {
          "output_type": "execute_result",
          "data": {
            "text/plain": [
              "((342, 1), (342,))"
            ]
          },
          "metadata": {},
          "execution_count": 70
        }
      ]
    },
    {
      "cell_type": "code",
      "source": [
        "x_teste.shape,y_teste.shape"
      ],
      "metadata": {
        "id": "P7qkXpRF8-aQ",
        "colab": {
          "base_uri": "https://localhost:8080/"
        },
        "outputId": "6d8b2ee5-7b66-4398-afc0-30cdfad72872"
      },
      "execution_count": 71,
      "outputs": [
        {
          "output_type": "execute_result",
          "data": {
            "text/plain": [
              "((147, 1), (147,))"
            ]
          },
          "metadata": {},
          "execution_count": 71
        }
      ]
    },
    {
      "cell_type": "code",
      "source": [
        "reg_linear2 = LinearRegression()\n",
        "reg_linear2.fit(x_treino,y_treino)"
      ],
      "metadata": {
        "id": "RwQSGWf38-XK",
        "colab": {
          "base_uri": "https://localhost:8080/",
          "height": 75
        },
        "outputId": "bb6412ad-c2f9-48d9-e821-646948a6da13"
      },
      "execution_count": 72,
      "outputs": [
        {
          "output_type": "execute_result",
          "data": {
            "text/plain": [
              "LinearRegression()"
            ],
            "text/html": [
              "<style>#sk-container-id-2 {color: black;background-color: white;}#sk-container-id-2 pre{padding: 0;}#sk-container-id-2 div.sk-toggleable {background-color: white;}#sk-container-id-2 label.sk-toggleable__label {cursor: pointer;display: block;width: 100%;margin-bottom: 0;padding: 0.3em;box-sizing: border-box;text-align: center;}#sk-container-id-2 label.sk-toggleable__label-arrow:before {content: \"▸\";float: left;margin-right: 0.25em;color: #696969;}#sk-container-id-2 label.sk-toggleable__label-arrow:hover:before {color: black;}#sk-container-id-2 div.sk-estimator:hover label.sk-toggleable__label-arrow:before {color: black;}#sk-container-id-2 div.sk-toggleable__content {max-height: 0;max-width: 0;overflow: hidden;text-align: left;background-color: #f0f8ff;}#sk-container-id-2 div.sk-toggleable__content pre {margin: 0.2em;color: black;border-radius: 0.25em;background-color: #f0f8ff;}#sk-container-id-2 input.sk-toggleable__control:checked~div.sk-toggleable__content {max-height: 200px;max-width: 100%;overflow: auto;}#sk-container-id-2 input.sk-toggleable__control:checked~label.sk-toggleable__label-arrow:before {content: \"▾\";}#sk-container-id-2 div.sk-estimator input.sk-toggleable__control:checked~label.sk-toggleable__label {background-color: #d4ebff;}#sk-container-id-2 div.sk-label input.sk-toggleable__control:checked~label.sk-toggleable__label {background-color: #d4ebff;}#sk-container-id-2 input.sk-hidden--visually {border: 0;clip: rect(1px 1px 1px 1px);clip: rect(1px, 1px, 1px, 1px);height: 1px;margin: -1px;overflow: hidden;padding: 0;position: absolute;width: 1px;}#sk-container-id-2 div.sk-estimator {font-family: monospace;background-color: #f0f8ff;border: 1px dotted black;border-radius: 0.25em;box-sizing: border-box;margin-bottom: 0.5em;}#sk-container-id-2 div.sk-estimator:hover {background-color: #d4ebff;}#sk-container-id-2 div.sk-parallel-item::after {content: \"\";width: 100%;border-bottom: 1px solid gray;flex-grow: 1;}#sk-container-id-2 div.sk-label:hover label.sk-toggleable__label {background-color: #d4ebff;}#sk-container-id-2 div.sk-serial::before {content: \"\";position: absolute;border-left: 1px solid gray;box-sizing: border-box;top: 0;bottom: 0;left: 50%;z-index: 0;}#sk-container-id-2 div.sk-serial {display: flex;flex-direction: column;align-items: center;background-color: white;padding-right: 0.2em;padding-left: 0.2em;position: relative;}#sk-container-id-2 div.sk-item {position: relative;z-index: 1;}#sk-container-id-2 div.sk-parallel {display: flex;align-items: stretch;justify-content: center;background-color: white;position: relative;}#sk-container-id-2 div.sk-item::before, #sk-container-id-2 div.sk-parallel-item::before {content: \"\";position: absolute;border-left: 1px solid gray;box-sizing: border-box;top: 0;bottom: 0;left: 50%;z-index: -1;}#sk-container-id-2 div.sk-parallel-item {display: flex;flex-direction: column;z-index: 1;position: relative;background-color: white;}#sk-container-id-2 div.sk-parallel-item:first-child::after {align-self: flex-end;width: 50%;}#sk-container-id-2 div.sk-parallel-item:last-child::after {align-self: flex-start;width: 50%;}#sk-container-id-2 div.sk-parallel-item:only-child::after {width: 0;}#sk-container-id-2 div.sk-dashed-wrapped {border: 1px dashed gray;margin: 0 0.4em 0.5em 0.4em;box-sizing: border-box;padding-bottom: 0.4em;background-color: white;}#sk-container-id-2 div.sk-label label {font-family: monospace;font-weight: bold;display: inline-block;line-height: 1.2em;}#sk-container-id-2 div.sk-label-container {text-align: center;}#sk-container-id-2 div.sk-container {/* jupyter's `normalize.less` sets `[hidden] { display: none; }` but bootstrap.min.css set `[hidden] { display: none !important; }` so we also need the `!important` here to be able to override the default hidden behavior on the sphinx rendered scikit-learn.org. See: https://github.com/scikit-learn/scikit-learn/issues/21755 */display: inline-block !important;position: relative;}#sk-container-id-2 div.sk-text-repr-fallback {display: none;}</style><div id=\"sk-container-id-2\" class=\"sk-top-container\"><div class=\"sk-text-repr-fallback\"><pre>LinearRegression()</pre><b>In a Jupyter environment, please rerun this cell to show the HTML representation or trust the notebook. <br />On GitHub, the HTML representation is unable to render, please try loading this page with nbviewer.org.</b></div><div class=\"sk-container\" hidden><div class=\"sk-item\"><div class=\"sk-estimator sk-toggleable\"><input class=\"sk-toggleable__control sk-hidden--visually\" id=\"sk-estimator-id-2\" type=\"checkbox\" checked><label for=\"sk-estimator-id-2\" class=\"sk-toggleable__label sk-toggleable__label-arrow\">LinearRegression</label><div class=\"sk-toggleable__content\"><pre>LinearRegression()</pre></div></div></div></div></div>"
            ]
          },
          "metadata": {},
          "execution_count": 72
        }
      ]
    },
    {
      "cell_type": "markdown",
      "source": [
        "Intercepto (coeficinte linear)"
      ],
      "metadata": {
        "id": "koyD8839_dU5"
      }
    },
    {
      "cell_type": "code",
      "source": [
        "reg_linear2.intercept_"
      ],
      "metadata": {
        "id": "RHDZa1Sn8-UJ",
        "colab": {
          "base_uri": "https://localhost:8080/"
        },
        "outputId": "248486b1-b362-4040-d3bd-880d7f4d201a"
      },
      "execution_count": 73,
      "outputs": [
        {
          "output_type": "execute_result",
          "data": {
            "text/plain": [
              "681977.7451055486"
            ]
          },
          "metadata": {},
          "execution_count": 73
        }
      ]
    },
    {
      "cell_type": "markdown",
      "source": [
        "Coeficiente Angular"
      ],
      "metadata": {
        "id": "APSYkLBS_wa-"
      }
    },
    {
      "cell_type": "code",
      "source": [
        "reg_linear2.coef_"
      ],
      "metadata": {
        "id": "b1BwKVDH8-RM",
        "colab": {
          "base_uri": "https://localhost:8080/"
        },
        "outputId": "72f15dc8-f4af-4f6a-a335-9573ef66befb"
      },
      "execution_count": 74,
      "outputs": [
        {
          "output_type": "execute_result",
          "data": {
            "text/plain": [
              "array([-17263.75010515])"
            ]
          },
          "metadata": {},
          "execution_count": 74
        }
      ]
    },
    {
      "cell_type": "markdown",
      "source": [
        "### **Equação: Valor = 683187.41 - 17660.54 . LSTAT**"
      ],
      "metadata": {
        "id": "E2YxHNyJynYU"
      }
    },
    {
      "cell_type": "markdown",
      "source": [
        "Coeficiente de Determinacão dados de treino"
      ],
      "metadata": {
        "id": "UnkzzjVPAPC2"
      }
    },
    {
      "cell_type": "code",
      "source": [
        "reg_linear2.score(x_treino,y_treino)"
      ],
      "metadata": {
        "id": "jFsa0XEv8-HV",
        "colab": {
          "base_uri": "https://localhost:8080/"
        },
        "outputId": "bb7f7757-08b4-400a-acb1-20fc49786d53"
      },
      "execution_count": 75,
      "outputs": [
        {
          "output_type": "execute_result",
          "data": {
            "text/plain": [
              "0.5688289563355992"
            ]
          },
          "metadata": {},
          "execution_count": 75
        }
      ]
    },
    {
      "cell_type": "markdown",
      "source": [
        "Previsão"
      ],
      "metadata": {
        "id": "C7DXWa0SA2aa"
      }
    },
    {
      "cell_type": "code",
      "source": [
        "previsoes_treino1 = reg_linear2.predict(x_treino)\n",
        "previsoes_treino1"
      ],
      "metadata": {
        "id": "CjiwYZ-rAARG",
        "colab": {
          "base_uri": "https://localhost:8080/"
        },
        "outputId": "7c3d35b5-29e8-402a-cfbc-627c78cb8208"
      },
      "execution_count": 76,
      "outputs": [
        {
          "output_type": "execute_result",
          "data": {
            "text/plain": [
              "array([549564.78179906, 401787.080899  , 547493.13178645, 392982.56834537,\n",
              "       594968.4445756 , 475330.65634693, 474294.83134062, 172179.20450053,\n",
              "       525050.25664975, 358109.79313297, 527812.45666658, 386940.25580857,\n",
              "       595141.08207665, 451851.95620393, 590825.14455037, 383660.14328859,\n",
              "       624489.45725541, 543004.55675911, 413526.4309705 , 422676.21852623,\n",
              "       572180.29443681, 457548.99373862, 507095.9565404 , 397643.78087376,\n",
              "       492594.40645207, 610505.81967024, 365533.20567819, 611541.64467654,\n",
              "       527639.81916553, 401959.71840005, 578740.51947676, 435624.03110509,\n",
              "       370021.78070552, 342054.50553518, 530229.3816813 , 587027.11952723,\n",
              "       274553.24262406, 554743.90683061, 563548.41938423, 562339.95687687,\n",
              "       420086.65601045, 613785.93219021, 536271.6942181 , 515555.19409192,\n",
              "       280250.28015875, 437005.1311135 , 499672.54399519, 541105.54424754,\n",
              "       359836.16814349, 475158.01884588, 422676.21852623, 533336.85670022,\n",
              "       579948.98198412, 568209.63191262, 428718.53106303, 428200.61855987,\n",
              "       612404.8321818 , 522805.96913608, 517972.11910664, 396953.23086955,\n",
              "       222071.44230441, 521597.50662872, 472568.4563301 , 429063.80606513,\n",
              "       572180.29443681, 319093.71789534, 533854.76920338, 632430.78230377,\n",
              "       171833.92949842, 368985.95569922, 432861.83108826, 613785.93219021,\n",
              "       547493.13178645, 378481.01825705, 553708.0818243 , 461174.38126071,\n",
              "        26473.15361308, 469115.70630907, 347578.90556883, 620864.06973332,\n",
              "       578740.51947676, 479646.59387321, 517799.48160559, 484998.35640581,\n",
              "       313914.59286379, 556642.91934217, 440285.24363348, 523841.79414239,\n",
              "       447363.38117659, 514692.00658666, 480682.41887952, 359490.89314138,\n",
              "       356556.05562351, 150081.60436594, 340673.40552677, 433897.65609457,\n",
              "       514864.64408772, 280768.19266191, 335321.64299418, 487242.64391948,\n",
              "       503125.29401622, 490004.8439363 , 283357.75517768, 598248.55709558,\n",
              "       331350.98046999, 606362.519645  , 494320.78146259, 470151.53131538,\n",
              "       522288.05663293, 592033.60705773, 193068.34212776, 257980.04252311,\n",
              "       305973.26781542, 370367.05570763, 267993.0175841 , 386594.98080647,\n",
              "       443220.08115135, 555261.81933376, 385213.88079805, 402304.99340215,\n",
              "       549046.86929591, 378135.74325494, 506060.13153409, 438558.86862296,\n",
              "       516418.38159718, 550773.24430642, 438040.95611981, 331178.34296894,\n",
              "       504161.11902252, 617066.04471019, 596176.90708296, 596004.26958191,\n",
              "       483444.61889635, 598939.10709979, 236745.62989378, 563375.78188318,\n",
              "       420086.65601045, 552326.98181589, 600147.56960715, 405239.83092003,\n",
              "       266266.64257358, 344989.34305306, 601010.7571124 , 459965.91875335,\n",
              "       437695.6811177 , 535063.23171074, 512620.35657405, 317022.06788272,\n",
              "       310461.84284276, 385904.43080226, 500190.45649834, 627424.29477328,\n",
              "       430099.63107144, 338083.843011  , 440457.88113453, 628287.48227854,\n",
              "       440630.51863558, 386767.61830752, 446327.55617028, 203599.2296919 ,\n",
              "       315640.96787431, 568382.26941367, 545939.39427698, 449952.94369236,\n",
              "       607398.34465131, 461001.74375965, 510548.70656143, 431308.0935788 ,\n",
              "       525913.44415501, 459793.28125229, 565447.4318958 , 520043.76911926,\n",
              "       409383.13094526, 421295.11851781, 291816.9927292 , 542141.36925385,\n",
              "       514346.73158456, 390220.36832855, 368985.95569922, 153879.62938907,\n",
              "       428373.25606092, 451506.68120182, 600320.2071082 , 639336.28234583,\n",
              "       589961.95704511, 547493.13178645, 610160.54466813, 409901.04344842,\n",
              "       219827.15479074, 150081.60436594, 383832.78078964,  43564.26621717,\n",
              "       279041.81765139, 565965.34439895, 567173.80690631, 542141.36925385,\n",
              "       583919.64450831, 486206.81891317, 358800.34313718, 487760.55642263,\n",
              "       621036.70723438, 399715.43088638, 554398.6318285 , 238644.64240535,\n",
              "       176322.50452576, 448744.481185  , 504333.75652358, 226214.74232964,\n",
              "       529884.10667919, 598421.19459663, 467907.24380171, 578567.88197571,\n",
              "       548356.3192917 , 268165.65508515, 536444.33171915, 598766.46959874,\n",
              "       546457.30678014, 427164.79355356, 209296.2672266 , 519180.581614  ,\n",
              "       504851.66902673, 340500.76802572, 580294.25698623, 587199.75702829,\n",
              "       630013.85728905, 554398.6318285 , 631222.31979641, 338774.39301521,\n",
              "       416288.63098732, 486552.09391527, 428891.16856408, 505714.85653199,\n",
              "       375891.45574127, 559059.84435689, 592378.88205983, 389529.81832434,\n",
              "       363288.91816452, 581675.35699464, 485516.26890896, 438558.86862296,\n",
              "       524877.6191487 , 593932.61956929, 455649.98122706, 614303.84469337,\n",
              "       557851.38184953, 402132.3559011 , 452887.78121023, 438558.86862296,\n",
              "       488278.46892579, 569245.45691893, 568554.90691473, 383142.23078544,\n",
              "       225869.46732754, 380897.94327177, 602737.13212292, 315295.6928722 ,\n",
              "       517972.11910664, 566655.89440316, 318057.89288903, 406793.56842949,\n",
              "       260914.88004099,  94664.96652841, 286983.14269976, 589961.95704511,\n",
              "       422503.58102517, 517108.93160139, 429236.44356618, 562857.86938003,\n",
              "       577186.7819673 , 573734.03194627, 383832.78078964, 389184.54332224,\n",
              "       202045.49218243, 398161.69337692, 560958.85686846, 511411.89406669,\n",
              "       416633.90598942, 358972.98063823, 525222.8941508 , 507441.2315425 ,\n",
              "       550773.24430642, 564929.51939265, 458930.09374704, 451679.31870287,\n",
              "       628287.48227854, 499154.63149203, 385731.79330121, 279905.00515665,\n",
              "       434070.29359562, 574769.85695258, 480164.50637637, 502434.74401201,\n",
              "       598075.91959453, 576323.59446204, 456858.44373442, 546802.58178224,\n",
              "       264885.54256517, 583574.3695062 , 570971.83192945, 408519.94344   ,\n",
              "       604290.86963238, 463246.03127332,  87932.10398741, 164583.15445426,\n",
              "       411109.50595578, 620000.88222807, 539379.16923703, 400751.25589269,\n",
              "       504679.03152568, 502089.46900991, 583919.64450831, 518835.3066119 ,\n",
              "       423366.76853043, 370194.41820658, 365187.93067608, 565792.7068979 ,\n",
              "       372438.70572024, 384868.60579595, 585818.65701987, 426474.24354936,\n",
              "        88622.65399161, 506750.6815383 ,  81717.15394955, 568382.26941367,\n",
              "       153361.71688592, 225351.55482438, 647795.51989736, 501571.55650675,\n",
              "       551809.06931273, 165273.70445847, 434588.20609878, 377445.19325074,\n",
              "       617066.04471019, 169589.64198476, 403340.81840846, 243305.85493374,\n",
              "       193758.89213196, 467389.33129856, 535753.78171494, 515037.28158877,\n",
              "       426301.60604831, 630531.76979221])"
            ]
          },
          "metadata": {},
          "execution_count": 76
        }
      ]
    },
    {
      "cell_type": "code",
      "source": [
        "plt.scatter(y=y_treino,x=x_treino, color='orange', s=10, alpha=0.9)\n",
        "x_plot = np.linspace(0,40)\n",
        "plt.plot(x_plot,x_plot*reg_linear2.coef_ + reg_linear2.intercept_,color='r')\n",
        "plt.style.use('dark_background')\n",
        "plt.title('Reta de regressão')\n",
        "plt.ylabel('Valor médio')\n",
        "plt.xlabel('Quantidades de Proprietários de Classe baixa (%)')\n",
        "plt.show()"
      ],
      "metadata": {
        "id": "FyS0EScjAAO9",
        "colab": {
          "base_uri": "https://localhost:8080/",
          "height": 481
        },
        "outputId": "5564f2f1-60bc-4387-c4e2-e125d179aefd"
      },
      "execution_count": 77,
      "outputs": [
        {
          "output_type": "display_data",
          "data": {
            "text/plain": [
              "<Figure size 640x480 with 1 Axes>"
            ],
            "image/png": "[encoded data removed]"
          },
          "metadata": {}
        }
      ]
    },
    {
      "cell_type": "code",
      "source": [
        "# Prevendo os dados de teste\n",
        "previsoes_teste = reg_linear2.predict(x_teste)\n",
        "previsoes_teste"
      ],
      "metadata": {
        "id": "LeRDE7DHAAM-",
        "colab": {
          "base_uri": "https://localhost:8080/"
        },
        "outputId": "da9c9b72-e5e8-4005-ee14-fd402ce53f4f"
      },
      "execution_count": 78,
      "outputs": [
        {
          "output_type": "execute_result",
          "data": {
            "text/plain": [
              "array([507441.2315425 , 438731.50612401, 518490.0316098 , 500708.36900149,\n",
              "       594277.8945714 , 539897.08174018, 551981.70681378, 483789.89389845,\n",
              "       580121.61948518, 272999.50511459, 558714.56935479, 553535.44432325,\n",
              "       584610.19451251, 472395.81882905, 370194.41820658, 454959.43122285,\n",
              "       496565.06897626, 474122.19383957, 363288.91816452, 348614.73057514,\n",
              "       426646.88105041, 472741.09383115, 480855.05638057, 506578.04403724,\n",
              "       357419.24312877, 570108.64442419, 573388.75694417, 447018.10617448,\n",
              "       620346.15723017, 353793.85560668, 452887.78121023, 521770.14412977,\n",
              "       562512.59437792, 420949.84351571, 591343.05705352, 378135.74325494,\n",
              "       602737.13212292, 400578.61839164, 394536.30585483, 558024.01935059,\n",
              "       180465.804551  , 557678.74434848, 567691.71940947, 603255.04462607,\n",
              "       551463.79431063, 587199.75702829, 474294.83134062, 365360.56817713,\n",
              "       490350.11893841, 601356.03211451, 351376.93059196, 300276.23028073,\n",
              "       271273.13010408, 452715.14370918, 603600.31962818, 322028.55541321,\n",
              "       602391.85712082, 484307.8064016 , 462210.20626701, 509858.15655722,\n",
              "       540414.99424333, 251937.72998631, 587027.11952723, 519353.21911505,\n",
              "       548528.95679275, 454959.43122285, 265921.36757148, 467389.33129856,\n",
              "       572180.29443681, 532301.03169392, 513828.81908141, 466180.8687912 ,\n",
              "       449952.94369236, 499327.26899308, 600838.11961135, 285256.76768925,\n",
              "       479301.31887111, 524187.0691445 , 374855.63073497, 432689.19358721,\n",
              "       328934.05545527, 557333.46934638, 311670.30535012, 481027.69388163,\n",
              "       543004.55675911, 543004.55675911, 498464.08148783, 449780.30619131,\n",
              "       509858.15655722, 330833.06796684, 468943.06880802, 372611.3432213 ,\n",
              "       517281.56910244, 501571.55650675, 453750.96871549, 494148.14396154,\n",
              "       588926.1320388 , 457548.99373862, 568727.54441578, 153189.07938486,\n",
              "       616202.85720493, 455995.25622916, 543695.10676331, 512792.9940751 ,\n",
              "       627942.20727644, 605154.05713764, 474640.10634272, 368985.95569922,\n",
              "       426301.60604831, 532646.30669602, 289400.06771448, 463763.94377648,\n",
              "       398506.96837902, 313914.59286379, 575115.13195468, 463246.03127332,\n",
              "       470324.16881643, 621036.70723438, 603255.04462607, 517626.84410454,\n",
              "       545594.11927488, 586681.84452513, 368813.31819816, 570281.28192524,\n",
              "       565965.34439895, 311497.66784907, 410936.86845472, 577532.0569694 ,\n",
              "       458757.45624598, 575805.68195889, 590652.50704932, 395572.13086114,\n",
              "       267993.0175841 , 218963.96728548, 620518.79473122, 211367.91723921,\n",
              "       325999.2179374 , 582365.90699884, 530574.6566834 , 505196.94402883,\n",
              "       129710.37924186, 410764.23095367, 609297.35716288, 464454.49378068,\n",
              "       370712.33070973, 515900.46909402, 386422.34330541])"
            ]
          },
          "metadata": {},
          "execution_count": 78
        }
      ]
    },
    {
      "cell_type": "code",
      "source": [
        "# Analisando o score\n",
        "reg_linear2.score(x_teste,y_teste)"
      ],
      "metadata": {
        "id": "UgJAp5gvAAK9",
        "colab": {
          "base_uri": "https://localhost:8080/"
        },
        "outputId": "98e99ad7-36e1-4d78-c131-700e92c4cab2"
      },
      "execution_count": 79,
      "outputs": [
        {
          "output_type": "execute_result",
          "data": {
            "text/plain": [
              "0.6006038196307664"
            ]
          },
          "metadata": {},
          "execution_count": 79
        }
      ]
    },
    {
      "cell_type": "code",
      "source": [
        "plt.scatter(y=y_teste,x=x_teste, color='orange', s=10, alpha=0.9)\n",
        "x_plot = np.linspace(2,35)\n",
        "plt.plot(x_plot,x_plot*reg_linear2.coef_ + reg_linear2.intercept_,color='r')\n",
        "plt.style.use('dark_background')\n",
        "plt.title('Reta de regressão')\n",
        "plt.ylabel('Valor médio')\n",
        "plt.xlabel('Quantidades de Proprietários de Classe baixa (%)')\n",
        "plt.show()"
      ],
      "metadata": {
        "id": "YaQFAVnPAAGB",
        "colab": {
          "base_uri": "https://localhost:8080/",
          "height": 481
        },
        "outputId": "1c07673d-3869-419a-e74a-8124c90c4e96"
      },
      "execution_count": 80,
      "outputs": [
        {
          "output_type": "display_data",
          "data": {
            "text/plain": [
              "<Figure size 640x480 with 1 Axes>"
            ],
            "image/png": "[encoded data removed]"
          },
          "metadata": {}
        }
      ]
    },
    {
      "cell_type": "code",
      "source": [
        "# Fazendo previsões para valores distintos\n",
        "valor_casa = reg_linear2.predict([[32]])\n",
        "valor_casa"
      ],
      "metadata": {
        "id": "VVEhlk4pAADE",
        "colab": {
          "base_uri": "https://localhost:8080/"
        },
        "outputId": "d5f256e4-cf1b-47ca-a2cd-26ee802893e5"
      },
      "execution_count": 81,
      "outputs": [
        {
          "output_type": "execute_result",
          "data": {
            "text/plain": [
              "array([129537.74174081])"
            ]
          },
          "metadata": {},
          "execution_count": 81
        }
      ]
    },
    {
      "cell_type": "markdown",
      "source": [
        "### Métricas de Desempenho"
      ],
      "metadata": {
        "id": "L4klzOPW3DBY"
      }
    },
    {
      "cell_type": "code",
      "source": [
        "abs(y_teste - previsoes_teste).mean()"
      ],
      "metadata": {
        "id": "syboMKmZ___0",
        "colab": {
          "base_uri": "https://localhost:8080/"
        },
        "outputId": "aead7adb-2e1e-4bcd-aadb-8f067b706906"
      },
      "execution_count": 82,
      "outputs": [
        {
          "output_type": "execute_result",
          "data": {
            "text/plain": [
              "76340.55192245146"
            ]
          },
          "metadata": {},
          "execution_count": 82
        }
      ]
    },
    {
      "cell_type": "code",
      "source": [
        "# Erro médio absoluto\n",
        "mean_absolute_error(y_teste, previsoes_teste)"
      ],
      "metadata": {
        "id": "FEkIFtQg0SKX",
        "colab": {
          "base_uri": "https://localhost:8080/"
        },
        "outputId": "6b9c4178-a17e-40ac-a4ca-f797c04d5e04"
      },
      "execution_count": 83,
      "outputs": [
        {
          "output_type": "execute_result",
          "data": {
            "text/plain": [
              "76340.55192245146"
            ]
          },
          "metadata": {},
          "execution_count": 83
        }
      ]
    }
  ],
  "metadata": {
    "kernelspec": {
      "display_name": "Python 3 (ipykernel)",
      "language": "python",
      "name": "python3"
    },
    "language_info": {
      "codemirror_mode": {
        "name": "ipython",
        "version": 3
      },
      "file_extension": ".py",
      "mimetype": "text/x-python",
      "name": "python",
      "nbconvert_exporter": "python",
      "pygments_lexer": "ipython3",
      "version": "3.10.12"
    },
    "colab": {
      "provenance": [],
      "include_colab_link": true
    }
  },
  "nbformat": 4,
  "nbformat_minor": 0
}