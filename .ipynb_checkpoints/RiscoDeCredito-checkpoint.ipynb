{
 "cells": [
  {
   "cell_type": "markdown",
   "id": "c2b93667-759a-48e8-804b-f833e2a4f9fb",
   "metadata": {},
   "source": [
    "## **Base de dados de crédito**\n",
    "\n",
    "**Dados coletados:** https://www.kaggle.com/laotse/credit-risk-dataset\n",
    "\n",
    "**Sobre o conjunto de dados**\n",
    "\n",
    "Descrição detalhada dos dados do conjunto de dados de Risco de Crédito:\n",
    "\n",
    "Nome do recurso\tDescrição\n",
    "\n",
    "person_age:\tIdade\n",
    "\n",
    "person_income:\tRenda Anual\n",
    "\n",
    "person_home_ownership:\tCasa própria\n",
    "\n",
    "person_emp_length:\tDuração do emprego (em anos)\n",
    "\n",
    "loan_intent:\tIntenção de empréstimo\n",
    "\n",
    "loan_grade:\tGrau de empréstimo\n",
    "\n",
    "loan_amnt:\tValor do empréstimo\n",
    "\n",
    "loan_int_rate:\tTaxa de juros\n",
    "\n",
    "loan_status:\tStatus do empréstimo (0 é não inadimplência, 1 é inadimplência)\n",
    "\n",
    "loan_percent_income:\tPercentual de renda\n",
    "\n",
    "cb_person_default_on_file:\tInadimplência histórica\n",
    "\n",
    "cb_preson_cred_hist_length:\tDuração do histórico de crédito"
   ]
  },
  {
   "cell_type": "markdown",
   "id": "63ee2fde-78e2-4ae9-914a-34ed31344d05",
   "metadata": {
    "jp-MarkdownHeadingCollapsed": true
   },
   "source": [
    "### **Importação das Bibliotecas e carregamento dos dados** "
   ]
  },
  {
   "cell_type": "code",
   "execution_count": null,
   "id": "ff896a6d-3379-4ce5-a769-193876f76f00",
   "metadata": {},
   "outputs": [],
   "source": [
    "import pandas as pd\n",
    "import numpy as np \n",
    "import seaborn as sns\n",
    "import matplotlib.pyplot as plt\n",
    "import plotly.express as px\n",
    "\n",
    "\n",
    "import warnings\n",
    "\n",
    "warnings.filterwarnings('ignore')\n",
    "plt.style.use('dark_background')\n",
    "\n",
    "df = pd.read_csv('/Users/diogomonteiro/credit_risk.csv')\n",
    "df"
   ]
  },
  {
   "cell_type": "markdown",
   "id": "c80beb32-e67c-4422-bacb-25b7f69c7261",
   "metadata": {},
   "source": [
    "### **Análise Exploratória dos dados** "
   ]
  },
  {
   "cell_type": "code",
   "execution_count": null,
   "id": "7c8f6a5f-9af1-49ce-bbbb-8a2f9db01af3",
   "metadata": {},
   "outputs": [],
   "source": [
    "# Função para analise das colunas\n",
    "\n",
    "def analise(df):\n",
    "    for i in df.columns:\n",
    "        if df[i].dtypes == 'int64' or df[i].dtypes == 'float64':\n",
    "            print('_______________________________________________________')\n",
    "            print(f'COLUNA: {df[i].name}')\n",
    "            print('-------------------------------------------------------')\n",
    "            print(f'Tipo da coluna: {df[i].dtypes}')\n",
    "            print('-------------------------------------------------------')\n",
    "            print(f'Valores unicos: {df[i].nunique()}')\n",
    "            print('-------------------------------------------------------')\n",
    "            print(f'Valores nulos:{df[i].isna().sum()}')\n",
    "            print('-------------------------------------------------------')\n",
    "            print(f'Analisando a média, mediana, desvio padrão e quartis:\\n{df[i].describe()}')\n",
    "            print('-------------------------------------------------------')\n",
    "            # Crie a figura e os eixos\n",
    "            fig, axs = plt.subplots(1, 3, figsize=(16, 8))\n",
    "    \n",
    "            # Plotando o boxplot no primeiro eixo\n",
    "            sns.boxplot(y=df[i], ax=axs[0])\n",
    "            axs[0].set_title(f'Boxplot de {df[i].name}')\n",
    "    \n",
    "            # Plotando o histograma no segundo eixo\n",
    "            sns.histplot(df[i], kde=True, ax=axs[1])\n",
    "            axs[1].set_title(f'Histograma de {df[i].name}')\n",
    "\n",
    "            sns.heatmap(df[[i,'loan_status']].corr(),annot=True ,ax=axs[2])\n",
    "            axs[2].set_title(f'Heatmap das {df[i].name} e {df.loan_status.name}')\n",
    "    \n",
    "            # Mostrando os plots\n",
    "            plt.show();\n",
    "\n",
    "        else:\n",
    "\n",
    "            print('_________________________________________________')\n",
    "            print(f'COLUNA: {df[i].name}')\n",
    "            print('-------------------------------------------------')\n",
    "            print(f'Tipo da coluna: {df[i].dtypes}')\n",
    "            print('-------------------------------------------------')\n",
    "            print(f'Valores unicos: {df[i].nunique()}')\n",
    "            print('-------------------------------------------------')\n",
    "            print(f'Valores nulos:{df[i].isna().sum()}')\n",
    "            print('-------------------------------------------------')\n",
    "            print(f'Contagem de valores:\\n{df[i].value_counts()}')\n",
    "            print('-------------------------------------------------')\n",
    "            plt.figure(figsize=(16,8))\n",
    "            sns.histplot(df[i])\n",
    "            plt.show();\n",
    "\n",
    "# Função para analise das colunas individual\n",
    "def analise_ind(df):\n",
    "\n",
    "    if df.dtypes == 'int64' or df.dtypes == 'float64':\n",
    "        print('_______________________________________________________')\n",
    "        print(f'COLUNA: {df.name}')\n",
    "        print('-------------------------------------------------------')\n",
    "        print(f'Tipo da coluna: {df.dtypes}')\n",
    "        print('-------------------------------------------------------')\n",
    "        print(f'Valores unicos: {df.nunique()}')\n",
    "        print('-------------------------------------------------------')\n",
    "        print(f'Valores nulos:{df.isna().sum()}')\n",
    "        print('-------------------------------------------------------')\n",
    "        print(f'Analisando a média, mediana, desvio padrão e quartis:\\n{df.describe()}')\n",
    "        print('-------------------------------------------------------')\n",
    "        # Crie a figura e os eixos\n",
    "        fig, axs = plt.subplots(1, 2, figsize=(16, 8))\n",
    "\n",
    "        # Plotando o boxplot no primeiro eixo\n",
    "        sns.boxplot(y=df[i], ax=axs[0])\n",
    "        axs[0].set_title(f'Boxplot de {df[i].name}')\n",
    "\n",
    "        # Plotando o histograma no segundo eixo\n",
    "        sns.histplot(df[i], kde=True, ax=axs[1])\n",
    "        axs[1].set_title(f'Histograma de {df[i].name}')\n",
    "\n",
    "        # Mostrando os plots\n",
    "        plt.show();\n",
    "\n",
    "    else:\n",
    "        print('_________________________________________________')\n",
    "        print(f'COLUNA: {df.name}')\n",
    "        print('-------------------------------------------------')\n",
    "        print(f'Tipo da coluna: {df.dtypes}')\n",
    "        print('-------------------------------------------------')\n",
    "        print(f'Valores unicos: {df.nunique()}')\n",
    "        print('-------------------------------------------------')\n",
    "        print(f'Valores nulos:{df.isna().sum()}')\n",
    "        print('-------------------------------------------------')\n",
    "        print(f'Contagem de valores:\\n{df.value_counts()}')\n",
    "        print('-------------------------------------------------')\n",
    "        plt.figure(figsize=(16,8))\n",
    "        sns.histplot(df)\n",
    "        plt.show();\n",
    "\n",
    "analise(df)"
   ]
  },
  {
   "cell_type": "markdown",
   "id": "752e96ff-d7d4-49f9-99ab-eef4d276e4a3",
   "metadata": {},
   "source": [
    "Analisando as variáveis, percebi que temos dados nulos e outliers.\n",
    "\n",
    "Outliers na idade e no tempo de trabalho na empresa."
   ]
  },
  {
   "cell_type": "markdown",
   "id": "a85ba642-8d2d-4ccd-a31b-323bb30f4269",
   "metadata": {},
   "source": [
    "### **Tratamento dos dados**"
   ]
  },
  {
   "cell_type": "code",
   "execution_count": null,
   "id": "c8065598-a749-4a79-87ab-749d0a370ed6",
   "metadata": {},
   "outputs": [],
   "source": [
    "df1 = df.copy()\n",
    "df1 = df1.loc[df1['person_age'] < 90,:]\n",
    "df1"
   ]
  },
  {
   "cell_type": "code",
   "execution_count": null,
   "id": "5c8f9a50-b62a-4b61-9b3d-5bc4b447f0d3",
   "metadata": {},
   "outputs": [],
   "source": [
    "df1 = df1.dropna()\n",
    "df1.isna().sum()"
   ]
  },
  {
   "cell_type": "code",
   "execution_count": null,
   "id": "0f52e7d5-087e-4300-9221-fea820b7939b",
   "metadata": {},
   "outputs": [],
   "source": [
    "df1 = df1.loc[df1.person_emp_length <= 35,:]\n",
    "df1"
   ]
  },
  {
   "cell_type": "code",
   "execution_count": null,
   "id": "066e9f02-35a8-4e1a-af2c-8622e289c5ff",
   "metadata": {},
   "outputs": [],
   "source": [
    "analise(df1)"
   ]
  },
  {
   "cell_type": "code",
   "execution_count": null,
   "id": "6655d2f0-c090-422e-ba2e-99f4eab3ecb4",
   "metadata": {},
   "outputs": [],
   "source": [
    "df1[['loan_status','cb_person_cred_hist_length']]"
   ]
  },
  {
   "cell_type": "code",
   "execution_count": null,
   "id": "d6b1cdfd-aa2c-4c5f-995b-4be9e111c688",
   "metadata": {},
   "outputs": [],
   "source": []
  },
  {
   "cell_type": "code",
   "execution_count": null,
   "id": "f6ca013d-aad2-49cc-91da-1c9e24898892",
   "metadata": {},
   "outputs": [],
   "source": []
  },
  {
   "cell_type": "code",
   "execution_count": null,
   "id": "1ddb8a90-d5b3-49d5-81e6-1534864c37f7",
   "metadata": {},
   "outputs": [],
   "source": []
  },
  {
   "cell_type": "code",
   "execution_count": null,
   "id": "c3f149b7-f3f9-4e1b-8155-07f92bef2204",
   "metadata": {},
   "outputs": [],
   "source": []
  },
  {
   "cell_type": "code",
   "execution_count": null,
   "id": "78ab4949-f3e7-4b2b-b991-489d15298d3d",
   "metadata": {},
   "outputs": [],
   "source": []
  },
  {
   "cell_type": "code",
   "execution_count": null,
   "id": "0b71e0dd-25e0-4138-881c-27e2ee57c91f",
   "metadata": {},
   "outputs": [],
   "source": []
  },
  {
   "cell_type": "code",
   "execution_count": null,
   "id": "b1a885f3-175a-4e23-9826-7ded8c07911c",
   "metadata": {},
   "outputs": [],
   "source": []
  },
  {
   "cell_type": "code",
   "execution_count": null,
   "id": "8ce80fc8-44ed-4433-bae1-555c1037c089",
   "metadata": {},
   "outputs": [],
   "source": []
  },
  {
   "cell_type": "code",
   "execution_count": null,
   "id": "4beccdb3-dd94-450c-8214-df6ee6b12832",
   "metadata": {},
   "outputs": [],
   "source": []
  },
  {
   "cell_type": "code",
   "execution_count": null,
   "id": "3d23f06d-e33c-4556-be35-5013b8c7c961",
   "metadata": {},
   "outputs": [],
   "source": []
  },
  {
   "cell_type": "code",
   "execution_count": null,
   "id": "ba4b6e6c-eabc-4b5d-82dd-069187198438",
   "metadata": {},
   "outputs": [],
   "source": []
  },
  {
   "cell_type": "code",
   "execution_count": null,
   "id": "8f7433b0-8df3-4330-a12c-1a65fc942736",
   "metadata": {},
   "outputs": [],
   "source": []
  },
  {
   "cell_type": "markdown",
   "id": "b1f82146-eba0-4f3c-b834-478aa8154803",
   "metadata": {},
   "source": [
    "### **Pré-Processamento dos dados**"
   ]
  },
  {
   "cell_type": "code",
   "execution_count": null,
   "id": "e004d080-ce5f-4acb-bea7-72a389b40294",
   "metadata": {},
   "outputs": [],
   "source": []
  },
  {
   "cell_type": "code",
   "execution_count": null,
   "id": "1e73aab1-5469-49ec-9b5d-1cbb6df866c9",
   "metadata": {},
   "outputs": [],
   "source": []
  },
  {
   "cell_type": "code",
   "execution_count": null,
   "id": "569b79ec-db29-41ec-ac9d-7084caba45f6",
   "metadata": {},
   "outputs": [],
   "source": []
  },
  {
   "cell_type": "code",
   "execution_count": null,
   "id": "11e4c276-71b8-48f7-979b-538f9abb0022",
   "metadata": {},
   "outputs": [],
   "source": []
  },
  {
   "cell_type": "code",
   "execution_count": null,
   "id": "4f5fdaa4-ad82-4caa-8965-1c228246d155",
   "metadata": {},
   "outputs": [],
   "source": []
  },
  {
   "cell_type": "code",
   "execution_count": null,
   "id": "f6493a15-5a71-4b0b-993b-5aa89e8d6db9",
   "metadata": {},
   "outputs": [],
   "source": []
  },
  {
   "cell_type": "code",
   "execution_count": null,
   "id": "3a3cbe04-a4d9-4cbb-8f29-97a057308507",
   "metadata": {},
   "outputs": [],
   "source": []
  },
  {
   "cell_type": "code",
   "execution_count": null,
   "id": "388bc393-141b-461d-ba7e-d8ad4c72ecd7",
   "metadata": {},
   "outputs": [],
   "source": []
  },
  {
   "cell_type": "markdown",
   "id": "2baa0b4e-704c-42e4-8594-43c0338baf77",
   "metadata": {},
   "source": [
    "### **Criando os Modelos de Machine Learning**"
   ]
  },
  {
   "cell_type": "code",
   "execution_count": null,
   "id": "b39815b5-65fa-402c-abc9-e1a7be604ffe",
   "metadata": {},
   "outputs": [],
   "source": []
  },
  {
   "cell_type": "code",
   "execution_count": null,
   "id": "305c85b8-1fd9-46f5-bd83-f3ffa6a132b7",
   "metadata": {},
   "outputs": [],
   "source": []
  },
  {
   "cell_type": "code",
   "execution_count": null,
   "id": "ccd5c882-606d-4919-ab1e-582ad8485625",
   "metadata": {},
   "outputs": [],
   "source": []
  },
  {
   "cell_type": "code",
   "execution_count": null,
   "id": "12f574e6-2b7f-448e-af51-8a4c5541b5fe",
   "metadata": {},
   "outputs": [],
   "source": []
  },
  {
   "cell_type": "code",
   "execution_count": null,
   "id": "d47c26b8-5a52-4d88-9421-0084ca1e02b8",
   "metadata": {},
   "outputs": [],
   "source": []
  },
  {
   "cell_type": "code",
   "execution_count": null,
   "id": "3872cc83-e46e-4e10-b2be-55ae807e311e",
   "metadata": {},
   "outputs": [],
   "source": []
  }
 ],
 "metadata": {
  "kernelspec": {
   "display_name": "Python 3 (ipykernel)",
   "language": "python",
   "name": "python3"
  },
  "language_info": {
   "codemirror_mode": {
    "name": "ipython",
    "version": 3
   },
   "file_extension": ".py",
   "mimetype": "text/x-python",
   "name": "python",
   "nbconvert_exporter": "python",
   "pygments_lexer": "ipython3",
   "version": "3.11.7"
  }
 },
 "nbformat": 4,
 "nbformat_minor": 5
}
