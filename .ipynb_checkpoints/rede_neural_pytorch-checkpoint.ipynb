{
 "cells": [
  {
   "cell_type": "markdown",
   "id": "a8b3b348-babd-40a0-b783-8f524d65eb4d",
   "metadata": {},
   "source": [
    "## **Redes neurais com PyTorch**\n",
    "\n",
    "**Classificação**\n",
    "\n",
    "Base dados de câncer"
   ]
  },
  {
   "cell_type": "markdown",
   "id": "c362360b-aefd-4b2d-9367-42663c98c025",
   "metadata": {},
   "source": [
    "### **Importando as Bibliotecas e carregando os dados**"
   ]
  },
  {
   "cell_type": "code",
   "execution_count": 206,
   "id": "e05a56df-cd72-4e9f-8542-cdc5e526ca7b",
   "metadata": {},
   "outputs": [
    {
     "data": {
      "text/html": [
       "<div>\n",
       "<style scoped>\n",
       "    .dataframe tbody tr th:only-of-type {\n",
       "        vertical-align: middle;\n",
       "    }\n",
       "\n",
       "    .dataframe tbody tr th {\n",
       "        vertical-align: top;\n",
       "    }\n",
       "\n",
       "    .dataframe thead th {\n",
       "        text-align: right;\n",
       "    }\n",
       "</style>\n",
       "<table border=\"1\" class=\"dataframe\">\n",
       "  <thead>\n",
       "    <tr style=\"text-align: right;\">\n",
       "      <th></th>\n",
       "      <th>radius_mean</th>\n",
       "      <th>texture_mean</th>\n",
       "      <th>perimeter_mean</th>\n",
       "      <th>area_mean</th>\n",
       "      <th>smoothness_mean</th>\n",
       "      <th>compactness_mean</th>\n",
       "      <th>concavity_mean</th>\n",
       "      <th>concave_points_mean</th>\n",
       "      <th>symmetry_mean</th>\n",
       "      <th>fractal_dimension_mean</th>\n",
       "      <th>...</th>\n",
       "      <th>radius_worst</th>\n",
       "      <th>texture_worst</th>\n",
       "      <th>perimeter_worst</th>\n",
       "      <th>area_worst</th>\n",
       "      <th>smoothness_worst</th>\n",
       "      <th>compactness_worst</th>\n",
       "      <th>concavity_worst</th>\n",
       "      <th>concave_points_worst</th>\n",
       "      <th>symmetry_worst</th>\n",
       "      <th>fractal_dimension_worst</th>\n",
       "    </tr>\n",
       "  </thead>\n",
       "  <tbody>\n",
       "    <tr>\n",
       "      <th>0</th>\n",
       "      <td>17.99</td>\n",
       "      <td>10.38</td>\n",
       "      <td>122.80</td>\n",
       "      <td>1001.0</td>\n",
       "      <td>0.11840</td>\n",
       "      <td>0.27760</td>\n",
       "      <td>0.30010</td>\n",
       "      <td>0.14710</td>\n",
       "      <td>0.2419</td>\n",
       "      <td>0.07871</td>\n",
       "      <td>...</td>\n",
       "      <td>25.38</td>\n",
       "      <td>17.33</td>\n",
       "      <td>184.60</td>\n",
       "      <td>2019.0</td>\n",
       "      <td>0.16220</td>\n",
       "      <td>0.66560</td>\n",
       "      <td>0.7119</td>\n",
       "      <td>0.2654</td>\n",
       "      <td>0.4601</td>\n",
       "      <td>0.11890</td>\n",
       "    </tr>\n",
       "    <tr>\n",
       "      <th>1</th>\n",
       "      <td>20.57</td>\n",
       "      <td>17.77</td>\n",
       "      <td>132.90</td>\n",
       "      <td>1326.0</td>\n",
       "      <td>0.08474</td>\n",
       "      <td>0.07864</td>\n",
       "      <td>0.08690</td>\n",
       "      <td>0.07017</td>\n",
       "      <td>0.1812</td>\n",
       "      <td>0.05667</td>\n",
       "      <td>...</td>\n",
       "      <td>24.99</td>\n",
       "      <td>23.41</td>\n",
       "      <td>158.80</td>\n",
       "      <td>1956.0</td>\n",
       "      <td>0.12380</td>\n",
       "      <td>0.18660</td>\n",
       "      <td>0.2416</td>\n",
       "      <td>186.0000</td>\n",
       "      <td>275.0000</td>\n",
       "      <td>0.08902</td>\n",
       "    </tr>\n",
       "    <tr>\n",
       "      <th>2</th>\n",
       "      <td>19.69</td>\n",
       "      <td>21.25</td>\n",
       "      <td>130.00</td>\n",
       "      <td>1203.0</td>\n",
       "      <td>0.10960</td>\n",
       "      <td>0.15990</td>\n",
       "      <td>0.19740</td>\n",
       "      <td>0.12790</td>\n",
       "      <td>0.2069</td>\n",
       "      <td>0.05999</td>\n",
       "      <td>...</td>\n",
       "      <td>23.57</td>\n",
       "      <td>25.53</td>\n",
       "      <td>152.50</td>\n",
       "      <td>1709.0</td>\n",
       "      <td>0.14440</td>\n",
       "      <td>0.42450</td>\n",
       "      <td>0.4504</td>\n",
       "      <td>243.0000</td>\n",
       "      <td>0.3613</td>\n",
       "      <td>0.08758</td>\n",
       "    </tr>\n",
       "    <tr>\n",
       "      <th>3</th>\n",
       "      <td>11.42</td>\n",
       "      <td>20.38</td>\n",
       "      <td>77.58</td>\n",
       "      <td>386.1</td>\n",
       "      <td>0.14250</td>\n",
       "      <td>0.28390</td>\n",
       "      <td>0.24140</td>\n",
       "      <td>0.10520</td>\n",
       "      <td>0.2597</td>\n",
       "      <td>0.09744</td>\n",
       "      <td>...</td>\n",
       "      <td>14.91</td>\n",
       "      <td>26.50</td>\n",
       "      <td>98.87</td>\n",
       "      <td>567.7</td>\n",
       "      <td>0.20980</td>\n",
       "      <td>0.86630</td>\n",
       "      <td>0.6869</td>\n",
       "      <td>0.2575</td>\n",
       "      <td>0.6638</td>\n",
       "      <td>173.00000</td>\n",
       "    </tr>\n",
       "    <tr>\n",
       "      <th>4</th>\n",
       "      <td>20.29</td>\n",
       "      <td>14.34</td>\n",
       "      <td>135.10</td>\n",
       "      <td>1297.0</td>\n",
       "      <td>0.10030</td>\n",
       "      <td>0.13280</td>\n",
       "      <td>198.00000</td>\n",
       "      <td>0.10430</td>\n",
       "      <td>0.1809</td>\n",
       "      <td>0.05883</td>\n",
       "      <td>...</td>\n",
       "      <td>22.54</td>\n",
       "      <td>16.67</td>\n",
       "      <td>152.20</td>\n",
       "      <td>1575.0</td>\n",
       "      <td>0.13740</td>\n",
       "      <td>205.00000</td>\n",
       "      <td>0.4000</td>\n",
       "      <td>0.1625</td>\n",
       "      <td>0.2364</td>\n",
       "      <td>0.07678</td>\n",
       "    </tr>\n",
       "    <tr>\n",
       "      <th>...</th>\n",
       "      <td>...</td>\n",
       "      <td>...</td>\n",
       "      <td>...</td>\n",
       "      <td>...</td>\n",
       "      <td>...</td>\n",
       "      <td>...</td>\n",
       "      <td>...</td>\n",
       "      <td>...</td>\n",
       "      <td>...</td>\n",
       "      <td>...</td>\n",
       "      <td>...</td>\n",
       "      <td>...</td>\n",
       "      <td>...</td>\n",
       "      <td>...</td>\n",
       "      <td>...</td>\n",
       "      <td>...</td>\n",
       "      <td>...</td>\n",
       "      <td>...</td>\n",
       "      <td>...</td>\n",
       "      <td>...</td>\n",
       "      <td>...</td>\n",
       "    </tr>\n",
       "    <tr>\n",
       "      <th>564</th>\n",
       "      <td>21.56</td>\n",
       "      <td>22.39</td>\n",
       "      <td>142.00</td>\n",
       "      <td>1479.0</td>\n",
       "      <td>111.00000</td>\n",
       "      <td>0.11590</td>\n",
       "      <td>0.24390</td>\n",
       "      <td>0.13890</td>\n",
       "      <td>0.1726</td>\n",
       "      <td>0.05623</td>\n",
       "      <td>...</td>\n",
       "      <td>25.45</td>\n",
       "      <td>26.40</td>\n",
       "      <td>166.10</td>\n",
       "      <td>2027.0</td>\n",
       "      <td>141.00000</td>\n",
       "      <td>0.21130</td>\n",
       "      <td>0.4107</td>\n",
       "      <td>0.2216</td>\n",
       "      <td>206.0000</td>\n",
       "      <td>0.07115</td>\n",
       "    </tr>\n",
       "    <tr>\n",
       "      <th>565</th>\n",
       "      <td>20.13</td>\n",
       "      <td>28.25</td>\n",
       "      <td>131.20</td>\n",
       "      <td>1261.0</td>\n",
       "      <td>0.09780</td>\n",
       "      <td>0.10340</td>\n",
       "      <td>144.00000</td>\n",
       "      <td>0.09791</td>\n",
       "      <td>0.1752</td>\n",
       "      <td>0.05533</td>\n",
       "      <td>...</td>\n",
       "      <td>23.69</td>\n",
       "      <td>38.25</td>\n",
       "      <td>155.00</td>\n",
       "      <td>1731.0</td>\n",
       "      <td>0.11660</td>\n",
       "      <td>0.19220</td>\n",
       "      <td>0.3215</td>\n",
       "      <td>0.1628</td>\n",
       "      <td>0.2572</td>\n",
       "      <td>0.06637</td>\n",
       "    </tr>\n",
       "    <tr>\n",
       "      <th>566</th>\n",
       "      <td>16.60</td>\n",
       "      <td>28.08</td>\n",
       "      <td>108.30</td>\n",
       "      <td>858.1</td>\n",
       "      <td>0.08455</td>\n",
       "      <td>0.10230</td>\n",
       "      <td>0.09251</td>\n",
       "      <td>0.05302</td>\n",
       "      <td>159.0000</td>\n",
       "      <td>0.05648</td>\n",
       "      <td>...</td>\n",
       "      <td>18.98</td>\n",
       "      <td>34.12</td>\n",
       "      <td>126.70</td>\n",
       "      <td>1124.0</td>\n",
       "      <td>0.11390</td>\n",
       "      <td>0.30940</td>\n",
       "      <td>0.3403</td>\n",
       "      <td>0.1418</td>\n",
       "      <td>0.2218</td>\n",
       "      <td>0.07820</td>\n",
       "    </tr>\n",
       "    <tr>\n",
       "      <th>567</th>\n",
       "      <td>20.60</td>\n",
       "      <td>29.33</td>\n",
       "      <td>140.10</td>\n",
       "      <td>1265.0</td>\n",
       "      <td>0.11780</td>\n",
       "      <td>277.00000</td>\n",
       "      <td>0.35140</td>\n",
       "      <td>152.00000</td>\n",
       "      <td>0.2397</td>\n",
       "      <td>0.07016</td>\n",
       "      <td>...</td>\n",
       "      <td>25.74</td>\n",
       "      <td>39.42</td>\n",
       "      <td>184.60</td>\n",
       "      <td>1821.0</td>\n",
       "      <td>165.00000</td>\n",
       "      <td>0.86810</td>\n",
       "      <td>0.9387</td>\n",
       "      <td>265.0000</td>\n",
       "      <td>0.4087</td>\n",
       "      <td>124.00000</td>\n",
       "    </tr>\n",
       "    <tr>\n",
       "      <th>568</th>\n",
       "      <td>7.76</td>\n",
       "      <td>24.54</td>\n",
       "      <td>47.92</td>\n",
       "      <td>181.0</td>\n",
       "      <td>0.05263</td>\n",
       "      <td>0.04362</td>\n",
       "      <td>0.00000</td>\n",
       "      <td>0.00000</td>\n",
       "      <td>0.1587</td>\n",
       "      <td>0.05884</td>\n",
       "      <td>...</td>\n",
       "      <td>9456.00</td>\n",
       "      <td>30.37</td>\n",
       "      <td>59.16</td>\n",
       "      <td>268.6</td>\n",
       "      <td>0.08996</td>\n",
       "      <td>0.06444</td>\n",
       "      <td>0.0000</td>\n",
       "      <td>0.0000</td>\n",
       "      <td>0.2871</td>\n",
       "      <td>0.07039</td>\n",
       "    </tr>\n",
       "  </tbody>\n",
       "</table>\n",
       "<p>569 rows × 30 columns</p>\n",
       "</div>"
      ],
      "text/plain": [
       "      radius_mean   texture_mean   perimeter_mean   area_mean  \\\n",
       "0           17.99          10.38           122.80      1001.0   \n",
       "1           20.57          17.77           132.90      1326.0   \n",
       "2           19.69          21.25           130.00      1203.0   \n",
       "3           11.42          20.38            77.58       386.1   \n",
       "4           20.29          14.34           135.10      1297.0   \n",
       "..            ...            ...              ...         ...   \n",
       "564         21.56          22.39           142.00      1479.0   \n",
       "565         20.13          28.25           131.20      1261.0   \n",
       "566         16.60          28.08           108.30       858.1   \n",
       "567         20.60          29.33           140.10      1265.0   \n",
       "568          7.76          24.54            47.92       181.0   \n",
       "\n",
       "      smoothness_mean   compactness_mean   concavity_mean  \\\n",
       "0             0.11840            0.27760          0.30010   \n",
       "1             0.08474            0.07864          0.08690   \n",
       "2             0.10960            0.15990          0.19740   \n",
       "3             0.14250            0.28390          0.24140   \n",
       "4             0.10030            0.13280        198.00000   \n",
       "..                ...                ...              ...   \n",
       "564         111.00000            0.11590          0.24390   \n",
       "565           0.09780            0.10340        144.00000   \n",
       "566           0.08455            0.10230          0.09251   \n",
       "567           0.11780          277.00000          0.35140   \n",
       "568           0.05263            0.04362          0.00000   \n",
       "\n",
       "     concave_points_mean   symmetry_mean   fractal_dimension_mean  ...  \\\n",
       "0                0.14710          0.2419                  0.07871  ...   \n",
       "1                0.07017          0.1812                  0.05667  ...   \n",
       "2                0.12790          0.2069                  0.05999  ...   \n",
       "3                0.10520          0.2597                  0.09744  ...   \n",
       "4                0.10430          0.1809                  0.05883  ...   \n",
       "..                   ...             ...                      ...  ...   \n",
       "564              0.13890          0.1726                  0.05623  ...   \n",
       "565              0.09791          0.1752                  0.05533  ...   \n",
       "566              0.05302        159.0000                  0.05648  ...   \n",
       "567            152.00000          0.2397                  0.07016  ...   \n",
       "568              0.00000          0.1587                  0.05884  ...   \n",
       "\n",
       "      radius_worst   texture_worst   perimeter_worst   area_worst  \\\n",
       "0            25.38           17.33            184.60       2019.0   \n",
       "1            24.99           23.41            158.80       1956.0   \n",
       "2            23.57           25.53            152.50       1709.0   \n",
       "3            14.91           26.50             98.87        567.7   \n",
       "4            22.54           16.67            152.20       1575.0   \n",
       "..             ...             ...               ...          ...   \n",
       "564          25.45           26.40            166.10       2027.0   \n",
       "565          23.69           38.25            155.00       1731.0   \n",
       "566          18.98           34.12            126.70       1124.0   \n",
       "567          25.74           39.42            184.60       1821.0   \n",
       "568        9456.00           30.37             59.16        268.6   \n",
       "\n",
       "      smoothness_worst   compactness_worst   concavity_worst  \\\n",
       "0              0.16220             0.66560            0.7119   \n",
       "1              0.12380             0.18660            0.2416   \n",
       "2              0.14440             0.42450            0.4504   \n",
       "3              0.20980             0.86630            0.6869   \n",
       "4              0.13740           205.00000            0.4000   \n",
       "..                 ...                 ...               ...   \n",
       "564          141.00000             0.21130            0.4107   \n",
       "565            0.11660             0.19220            0.3215   \n",
       "566            0.11390             0.30940            0.3403   \n",
       "567          165.00000             0.86810            0.9387   \n",
       "568            0.08996             0.06444            0.0000   \n",
       "\n",
       "      concave_points_worst   symmetry_worst   fractal_dimension_worst  \n",
       "0                   0.2654           0.4601                   0.11890  \n",
       "1                 186.0000         275.0000                   0.08902  \n",
       "2                 243.0000           0.3613                   0.08758  \n",
       "3                   0.2575           0.6638                 173.00000  \n",
       "4                   0.1625           0.2364                   0.07678  \n",
       "..                     ...              ...                       ...  \n",
       "564                 0.2216         206.0000                   0.07115  \n",
       "565                 0.1628           0.2572                   0.06637  \n",
       "566                 0.1418           0.2218                   0.07820  \n",
       "567               265.0000           0.4087                 124.00000  \n",
       "568                 0.0000           0.2871                   0.07039  \n",
       "\n",
       "[569 rows x 30 columns]"
      ]
     },
     "execution_count": 206,
     "metadata": {},
     "output_type": "execute_result"
    }
   ],
   "source": [
    "import pandas as pd \n",
    "import numpy as np \n",
    "import matplotlib.pyplot as plt\n",
    "import seaborn as sns\n",
    "import torch\n",
    "import torch.nn as nn\n",
    "import warnings\n",
    "from sklearn.model_selection import train_test_split, cross_val_score\n",
    "from sklearn.metrics import confusion_matrix, accuracy_score, classification_report\n",
    "from skorch import NeuralNetBinaryClassifier\n",
    "\n",
    "warnings.filterwarnings('ignore')\n",
    "plt.style.use('dark_background')\n",
    "\n",
    "df_previsores = pd.read_csv('/Users/diogomonteiro/Datasets/entradas_breast.csv')\n",
    "\n",
    "df_classe = pd.read_csv('/Users/diogomonteiro/Datasets/saidas_breast.csv')\n",
    "\n",
    "np.random.seed(123)\n",
    "\n",
    "torch.manual_seed(123)\n",
    "\n",
    "df_previsores"
   ]
  },
  {
   "cell_type": "code",
   "execution_count": 207,
   "id": "43b4dac8-cfa9-4811-869b-11f20416f6bd",
   "metadata": {},
   "outputs": [
    {
     "data": {
      "text/html": [
       "<div>\n",
       "<style scoped>\n",
       "    .dataframe tbody tr th:only-of-type {\n",
       "        vertical-align: middle;\n",
       "    }\n",
       "\n",
       "    .dataframe tbody tr th {\n",
       "        vertical-align: top;\n",
       "    }\n",
       "\n",
       "    .dataframe thead th {\n",
       "        text-align: right;\n",
       "    }\n",
       "</style>\n",
       "<table border=\"1\" class=\"dataframe\">\n",
       "  <thead>\n",
       "    <tr style=\"text-align: right;\">\n",
       "      <th></th>\n",
       "      <th>0</th>\n",
       "    </tr>\n",
       "  </thead>\n",
       "  <tbody>\n",
       "    <tr>\n",
       "      <th>0</th>\n",
       "      <td>0</td>\n",
       "    </tr>\n",
       "    <tr>\n",
       "      <th>1</th>\n",
       "      <td>0</td>\n",
       "    </tr>\n",
       "    <tr>\n",
       "      <th>2</th>\n",
       "      <td>0</td>\n",
       "    </tr>\n",
       "    <tr>\n",
       "      <th>3</th>\n",
       "      <td>0</td>\n",
       "    </tr>\n",
       "    <tr>\n",
       "      <th>4</th>\n",
       "      <td>0</td>\n",
       "    </tr>\n",
       "    <tr>\n",
       "      <th>...</th>\n",
       "      <td>...</td>\n",
       "    </tr>\n",
       "    <tr>\n",
       "      <th>564</th>\n",
       "      <td>0</td>\n",
       "    </tr>\n",
       "    <tr>\n",
       "      <th>565</th>\n",
       "      <td>0</td>\n",
       "    </tr>\n",
       "    <tr>\n",
       "      <th>566</th>\n",
       "      <td>0</td>\n",
       "    </tr>\n",
       "    <tr>\n",
       "      <th>567</th>\n",
       "      <td>0</td>\n",
       "    </tr>\n",
       "    <tr>\n",
       "      <th>568</th>\n",
       "      <td>1</td>\n",
       "    </tr>\n",
       "  </tbody>\n",
       "</table>\n",
       "<p>569 rows × 1 columns</p>\n",
       "</div>"
      ],
      "text/plain": [
       "     0\n",
       "0    0\n",
       "1    0\n",
       "2    0\n",
       "3    0\n",
       "4    0\n",
       "..  ..\n",
       "564  0\n",
       "565  0\n",
       "566  0\n",
       "567  0\n",
       "568  1\n",
       "\n",
       "[569 rows x 1 columns]"
      ]
     },
     "execution_count": 207,
     "metadata": {},
     "output_type": "execute_result"
    }
   ],
   "source": [
    "df_classe"
   ]
  },
  {
   "cell_type": "markdown",
   "id": "81d66e88-512e-4d5e-ba7a-6fab7bf6cac7",
   "metadata": {},
   "source": [
    "### **Análise Exploratória e tratamento dos dados**"
   ]
  },
  {
   "cell_type": "code",
   "execution_count": 209,
   "id": "7fba9892-4ad4-4128-ba5d-bed0d59f5578",
   "metadata": {},
   "outputs": [
    {
     "data": {
      "text/plain": [
       " radius_mean                0\n",
       " texture_mean               0\n",
       " perimeter_mean             0\n",
       " area_mean                  0\n",
       " smoothness_mean            0\n",
       " compactness_mean           0\n",
       " concavity_mean             0\n",
       "concave_points_mean         0\n",
       " symmetry_mean              0\n",
       " fractal_dimension_mean     0\n",
       " radius_se                  0\n",
       " texture_se                 0\n",
       " perimeter_se               0\n",
       " area_se                    0\n",
       " smoothness_se              0\n",
       " compactness_se             0\n",
       " concavity_se               0\n",
       " concave_points_se          0\n",
       " symmetry_se                0\n",
       " fractal_dimension_se       0\n",
       " radius_worst               0\n",
       " texture_worst              0\n",
       " perimeter_worst            0\n",
       " area_worst                 0\n",
       " smoothness_worst           0\n",
       " compactness_worst          0\n",
       " concavity_worst            0\n",
       " concave_points_worst       0\n",
       " symmetry_worst             0\n",
       " fractal_dimension_worst    0\n",
       "dtype: int64"
      ]
     },
     "execution_count": 209,
     "metadata": {},
     "output_type": "execute_result"
    }
   ],
   "source": [
    "df_previsores.isnull().sum()"
   ]
  },
  {
   "cell_type": "code",
   "execution_count": 210,
   "id": "26ec4561-a59e-47a7-a413-7a0e6e952fff",
   "metadata": {},
   "outputs": [
    {
     "data": {
      "text/plain": [
       "0    0\n",
       "dtype: int64"
      ]
     },
     "execution_count": 210,
     "metadata": {},
     "output_type": "execute_result"
    }
   ],
   "source": [
    "df_classe.isna().sum()"
   ]
  },
  {
   "cell_type": "code",
   "execution_count": 211,
   "id": "039afe79-4f42-4e22-94f3-ae527fb06b3a",
   "metadata": {},
   "outputs": [
    {
     "data": {
      "text/plain": [
       "0\n",
       "1    357\n",
       "0    212\n",
       "Name: count, dtype: int64"
      ]
     },
     "execution_count": 211,
     "metadata": {},
     "output_type": "execute_result"
    }
   ],
   "source": [
    "df_classe.value_counts()"
   ]
  },
  {
   "cell_type": "code",
   "execution_count": 212,
   "id": "e0dcbc76-3c53-4021-87cf-4fc59c74076c",
   "metadata": {},
   "outputs": [
    {
     "data": {
      "image/png": "[encoded data removed]",
      "text/plain": [
       "<Figure size 640x480 with 1 Axes>"
      ]
     },
     "metadata": {},
     "output_type": "display_data"
    }
   ],
   "source": [
    "sns.histplot(df_classe);"
   ]
  },
  {
   "cell_type": "code",
   "execution_count": 213,
   "id": "121b58bf-54d0-4ca9-a42c-375d15251152",
   "metadata": {},
   "outputs": [],
   "source": [
    "x_treino,x_teste, y_treino, y_teste  = train_test_split(df_previsores,df_classe, test_size=0.25)"
   ]
  },
  {
   "cell_type": "code",
   "execution_count": 214,
   "id": "547d0e3c-16ab-4cd5-b2db-e37aa6120743",
   "metadata": {},
   "outputs": [
    {
     "data": {
      "text/plain": [
       "((143, 30), (143, 1))"
      ]
     },
     "execution_count": 214,
     "metadata": {},
     "output_type": "execute_result"
    }
   ],
   "source": [
    "x_teste.shape, y_teste.shape"
   ]
  },
  {
   "cell_type": "code",
   "execution_count": 215,
   "id": "24e037e7-56ef-489b-b065-a0be8da20212",
   "metadata": {},
   "outputs": [
    {
     "data": {
      "text/plain": [
       "((426, 30), (426, 1))"
      ]
     },
     "execution_count": 215,
     "metadata": {},
     "output_type": "execute_result"
    }
   ],
   "source": [
    "x_treino.shape, y_treino.shape"
   ]
  },
  {
   "cell_type": "markdown",
   "id": "fdc4eb78-e880-49fb-b00b-d8969f84821f",
   "metadata": {},
   "source": [
    "### **Transformando os dados para tensores**"
   ]
  },
  {
   "cell_type": "code",
   "execution_count": 217,
   "id": "6d81e69e-b758-4483-864c-7ce2a5e0bf16",
   "metadata": {},
   "outputs": [
    {
     "data": {
      "text/plain": [
       "pandas.core.frame.DataFrame"
      ]
     },
     "execution_count": 217,
     "metadata": {},
     "output_type": "execute_result"
    }
   ],
   "source": [
    "type(x_teste)"
   ]
  },
  {
   "cell_type": "code",
   "execution_count": 218,
   "id": "9197fb46-546e-480e-a42a-e9082a65556d",
   "metadata": {},
   "outputs": [
    {
     "data": {
      "text/plain": [
       "numpy.ndarray"
      ]
     },
     "execution_count": 218,
     "metadata": {},
     "output_type": "execute_result"
    }
   ],
   "source": [
    "type(np.array(x_treino))"
   ]
  },
  {
   "cell_type": "code",
   "execution_count": 219,
   "id": "aaf6ab9f-2c2d-419e-ace8-9e2fbd0f966f",
   "metadata": {},
   "outputs": [],
   "source": [
    "x_treino = torch.tensor(np.array(x_treino), dtype=torch.float)\n",
    "y_treino = torch.tensor(np.array(y_treino), dtype=torch.float)"
   ]
  },
  {
   "cell_type": "code",
   "execution_count": 220,
   "id": "d65b2767-5eda-4a33-9ee7-ce17de5023f0",
   "metadata": {},
   "outputs": [
    {
     "data": {
      "text/plain": [
       "torch.Tensor"
      ]
     },
     "execution_count": 220,
     "metadata": {},
     "output_type": "execute_result"
    }
   ],
   "source": [
    "type(x_treino)"
   ]
  },
  {
   "cell_type": "code",
   "execution_count": 221,
   "id": "ebdf751f-c4c7-452e-83f1-2d5196981306",
   "metadata": {},
   "outputs": [
    {
     "data": {
      "text/plain": [
       "torch.Tensor"
      ]
     },
     "execution_count": 221,
     "metadata": {},
     "output_type": "execute_result"
    }
   ],
   "source": [
    "type(y_treino)"
   ]
  },
  {
   "cell_type": "code",
   "execution_count": 222,
   "id": "84fa694a-b67b-4ee5-9cb6-2e1841f3378e",
   "metadata": {},
   "outputs": [
    {
     "data": {
      "text/plain": [
       "torch.utils.data.dataset.TensorDataset"
      ]
     },
     "execution_count": 222,
     "metadata": {},
     "output_type": "execute_result"
    }
   ],
   "source": [
    "df = torch.utils.data.TensorDataset(x_treino,y_treino)\n",
    "type(df)"
   ]
  },
  {
   "cell_type": "code",
   "execution_count": 223,
   "id": "80788741-e410-457c-bcd0-e6264f8afdd3",
   "metadata": {},
   "outputs": [
    {
     "data": {
      "text/plain": [
       "<torch.utils.data.dataloader.DataLoader at 0x151ac7bd0>"
      ]
     },
     "execution_count": 223,
     "metadata": {},
     "output_type": "execute_result"
    }
   ],
   "source": [
    "df1 = torch.utils.data.DataLoader(df, batch_size=10, shuffle=True)\n",
    "df1"
   ]
  },
  {
   "cell_type": "markdown",
   "id": "40c4bbcd-fd49-48c7-87cd-edab8cf03b5c",
   "metadata": {},
   "source": [
    "### **Construção do modelo**\n",
    "\n",
    "Calculo para saber a estrutura da rede\n",
    "\n",
    "(30 + 1)/2 = 15,5\n",
    "\n",
    "Vamos ter uma 30 camadas de entrada, 2 camadas escondida, com 16 neuronios cada um e 1 camada de saída."
   ]
  },
  {
   "cell_type": "code",
   "execution_count": 225,
   "id": "19bd648e-76f5-4a37-b139-f2465f8e0091",
   "metadata": {},
   "outputs": [
    {
     "data": {
      "text/plain": [
       "<bound method Module.parameters of Sequential(\n",
       "  (0): Linear(in_features=30, out_features=16, bias=True)\n",
       "  (1): ReLU()\n",
       "  (2): Linear(in_features=16, out_features=16, bias=True)\n",
       "  (3): ReLU()\n",
       "  (4): Linear(in_features=16, out_features=1, bias=True)\n",
       "  (5): Sigmoid()\n",
       ")>"
      ]
     },
     "execution_count": 225,
     "metadata": {},
     "output_type": "execute_result"
    }
   ],
   "source": [
    "classificador = nn.Sequential(\n",
    "    nn.Linear(in_features=30, out_features=16),\n",
    "    nn.ReLU(),\n",
    "    nn.Linear(16,16),\n",
    "    nn.ReLU(),\n",
    "    nn.Linear(16,1),\n",
    "    nn.Sigmoid()\n",
    ")\n",
    "classificador.parameters"
   ]
  },
  {
   "cell_type": "code",
   "execution_count": 226,
   "id": "c3bfec5e-9e23-429a-bb2c-46832fe3938e",
   "metadata": {},
   "outputs": [],
   "source": [
    "criterio = nn.BCELoss()"
   ]
  },
  {
   "cell_type": "code",
   "execution_count": 227,
   "id": "5caa1ec8-5e45-41c3-99dc-d13f22212950",
   "metadata": {},
   "outputs": [],
   "source": [
    "otimizador = torch.optim.Adam(classificador.parameters(), lr= 0.001, weight_decay=0.0001)"
   ]
  },
  {
   "cell_type": "markdown",
   "id": "0fb6c825-1da0-4ee7-ac4d-36844a9e9868",
   "metadata": {},
   "source": [
    "### **Treinando o modelo**"
   ]
  },
  {
   "cell_type": "code",
   "execution_count": 345,
   "id": "c8b1e968-d50f-4097-840c-5de3b23bfcb9",
   "metadata": {
    "scrolled": true
   },
   "outputs": [
    {
     "name": "stdout",
     "output_type": "stream",
     "text": [
      "Época 1: Perda: 0.058\n",
      "Época 2: Perda: 0.047\n",
      "Época 3: Perda: 0.042\n",
      "Época 4: Perda: 0.067\n",
      "Época 5: Perda: 0.077\n",
      "Época 6: Perda: 0.04\n",
      "Época 7: Perda: 0.034\n",
      "Época 8: Perda: 0.034\n",
      "Época 9: Perda: 0.044\n",
      "Época 10: Perda: 0.055\n",
      "Época 11: Perda: 0.073\n",
      "Época 12: Perda: 0.037\n",
      "Época 13: Perda: 0.037\n",
      "Época 14: Perda: 0.042\n",
      "Época 15: Perda: 0.039\n",
      "Época 16: Perda: 0.057\n",
      "Época 17: Perda: 0.061\n",
      "Época 18: Perda: 0.035\n",
      "Época 19: Perda: 0.038\n",
      "Época 20: Perda: 0.036\n",
      "Época 21: Perda: 0.045\n",
      "Época 22: Perda: 0.063\n",
      "Época 23: Perda: 0.077\n",
      "Época 24: Perda: 0.039\n",
      "Época 25: Perda: 0.031\n",
      "Época 26: Perda: 0.036\n",
      "Época 27: Perda: 0.06\n",
      "Época 28: Perda: 0.064\n",
      "Época 29: Perda: 0.054\n",
      "Época 30: Perda: 0.076\n",
      "Época 31: Perda: 0.034\n",
      "Época 32: Perda: 0.033\n",
      "Época 33: Perda: 0.045\n",
      "Época 34: Perda: 0.046\n",
      "Época 35: Perda: 0.042\n",
      "Época 36: Perda: 0.059\n",
      "Época 37: Perda: 0.111\n",
      "Época 38: Perda: 0.091\n",
      "Época 39: Perda: 0.054\n",
      "Época 40: Perda: 0.061\n",
      "Época 41: Perda: 0.038\n",
      "Época 42: Perda: 0.049\n",
      "Época 43: Perda: 0.037\n",
      "Época 44: Perda: 0.039\n",
      "Época 45: Perda: 0.068\n",
      "Época 46: Perda: 0.099\n",
      "Época 47: Perda: 0.042\n",
      "Época 48: Perda: 0.032\n",
      "Época 49: Perda: 0.035\n",
      "Época 50: Perda: 0.044\n",
      "Época 51: Perda: 0.032\n",
      "Época 52: Perda: 0.039\n",
      "Época 53: Perda: 0.034\n",
      "Época 54: Perda: 0.046\n",
      "Época 55: Perda: 0.049\n",
      "Época 56: Perda: 0.027\n",
      "Época 57: Perda: 0.065\n",
      "Época 58: Perda: 0.092\n",
      "Época 59: Perda: 0.075\n",
      "Época 60: Perda: 0.129\n",
      "Época 61: Perda: 0.062\n",
      "Época 62: Perda: 0.041\n",
      "Época 63: Perda: 0.03\n",
      "Época 64: Perda: 0.066\n",
      "Época 65: Perda: 0.045\n",
      "Época 66: Perda: 0.098\n",
      "Época 67: Perda: 0.093\n",
      "Época 68: Perda: 0.046\n",
      "Época 69: Perda: 0.033\n",
      "Época 70: Perda: 0.048\n",
      "Época 71: Perda: 0.039\n",
      "Época 72: Perda: 0.056\n",
      "Época 73: Perda: 0.042\n",
      "Época 74: Perda: 0.039\n",
      "Época 75: Perda: 0.029\n",
      "Época 76: Perda: 0.026\n",
      "Época 77: Perda: 0.067\n",
      "Época 78: Perda: 0.069\n",
      "Época 79: Perda: 0.033\n",
      "Época 80: Perda: 0.036\n",
      "Época 81: Perda: 0.033\n",
      "Época 82: Perda: 0.026\n",
      "Época 83: Perda: 0.03\n",
      "Época 84: Perda: 0.027\n",
      "Época 85: Perda: 0.024\n",
      "Época 86: Perda: 0.032\n",
      "Época 87: Perda: 0.031\n",
      "Época 88: Perda: 0.036\n",
      "Época 89: Perda: 0.04\n",
      "Época 90: Perda: 0.045\n",
      "Época 91: Perda: 0.1\n",
      "Época 92: Perda: 0.046\n",
      "Época 93: Perda: 0.037\n",
      "Época 94: Perda: 0.05\n",
      "Época 95: Perda: 0.04\n",
      "Época 96: Perda: 0.035\n",
      "Época 97: Perda: 0.03\n",
      "Época 98: Perda: 0.021\n",
      "Época 99: Perda: 0.041\n",
      "Época 100: Perda: 0.051\n"
     ]
    }
   ],
   "source": [
    "for epoch in range(100):\n",
    "    Loss = 0.\n",
    "\n",
    "    for data in df1:\n",
    "        inputs, labels = data\n",
    "        #print('--------')\n",
    "        #print(inputs)\n",
    "        #print('--------')\n",
    "        #print(labels)\n",
    "\n",
    "        otimizador.zero_grad()\n",
    "\n",
    "        outputs = classificador(inputs)\n",
    "\n",
    "        loss = criterio(outputs,labels)\n",
    "        \n",
    "        loss.backward()\n",
    "        otimizador.step()\n",
    "        \n",
    "        Loss += loss.item()\n",
    "\n",
    "    print(f'Época {round((epoch+1),3)}: Perda: {round((Loss/len(df1)),3)}')\n"
   ]
  },
  {
   "cell_type": "markdown",
   "id": "c0c64569-5451-4e9d-ae53-e453d39e557a",
   "metadata": {},
   "source": [
    "### **Visualização dos pesos**"
   ]
  },
  {
   "cell_type": "code",
   "execution_count": 347,
   "id": "031c16d5-c205-4d22-95df-ced7c81755a4",
   "metadata": {
    "scrolled": true
   },
   "outputs": [
    {
     "data": {
      "text/plain": [
       "[Parameter containing:\n",
       " tensor([[-2.9141e-01, -5.6799e-01, -3.8054e-01,  1.2031e-01, -1.2694e-02,\n",
       "           1.3416e-01,  1.1076e-01,  2.7101e-02, -2.0617e-02,  1.5675e-01,\n",
       "           1.2795e-01,  8.2858e-02, -1.4284e-01,  4.1693e-02,  6.1887e-04,\n",
       "          -4.9206e-03, -4.0144e-02,  2.4192e-03,  3.5694e-01,  9.1609e-04,\n",
       "          -1.3495e-01, -6.1043e-01, -2.7327e-01,  1.2424e-01,  8.4364e-01,\n",
       "           1.5523e-01, -4.0022e-01,  1.1122e-01,  2.7476e-01,  6.6703e-02],\n",
       "         [ 5.4235e-01,  1.3527e-01,  6.2182e-01,  1.0638e-01, -7.3324e-01,\n",
       "           4.6269e-02,  5.3901e-02, -8.7322e-02, -2.4635e-01,  9.1526e-02,\n",
       "           4.3624e-02, -6.4740e-02, -3.1907e-02,  1.3359e-01, -7.2965e-03,\n",
       "          -4.2663e-02, -6.1417e-02, -1.6561e-02, -3.5159e-01, -1.2914e-02,\n",
       "           4.6008e-01, -2.5126e-01,  4.4460e-01,  9.2887e-03, -2.0681e-01,\n",
       "          -2.3968e-01, -2.9566e-01,  2.4877e-02, -1.4493e-01, -1.6276e-01],\n",
       "         [-5.7356e-02, -1.5463e-01, -3.2050e-01, -1.1485e-01, -2.4086e-05,\n",
       "           8.3462e-05,  2.3833e-05,  1.5200e-07, -6.4996e-04,  5.3969e-01,\n",
       "           4.1149e-01,  9.0256e-02, -1.1669e-01,  3.9223e-02,  4.4704e-11,\n",
       "          -1.0077e-01, -4.3288e-09, -1.2222e-08, -2.6546e-08,  2.2663e-10,\n",
       "          -2.1303e-02, -2.8442e-01, -1.5236e-01, -2.4716e-04, -3.4128e-01,\n",
       "          -3.3722e-02, -1.6397e-03,  1.9529e-01, -1.9106e-02, -3.6512e-05],\n",
       "         [-5.8157e-01,  2.3073e-01, -3.0860e-01,  1.3604e-01, -2.3923e-01,\n",
       "          -1.8390e-01,  1.8254e-01,  6.7858e-02, -2.7454e-02, -3.3843e-01,\n",
       "           3.1079e-01, -1.7573e-01,  1.2714e-02,  4.0930e-02,  3.0369e-03,\n",
       "           2.4394e-02,  3.1603e-02,  9.1389e-03, -3.4982e-02,  4.3633e-03,\n",
       "          -1.3025e-01,  2.2122e-01, -2.0460e-01,  8.7006e-02,  7.8551e-02,\n",
       "           9.6691e-02, -6.3116e-02,  4.2541e-01,  3.8758e-01,  3.1365e-01],\n",
       "         [-8.1134e-01,  1.3929e-01, -3.8837e-01, -1.9655e-01,  5.0137e-01,\n",
       "           2.5683e-01,  3.6162e-01, -3.1073e-01, -6.8057e-01,  3.7620e-01,\n",
       "          -2.5241e-01,  1.8520e-02, -1.5358e-02,  5.1428e-02,  2.0168e-02,\n",
       "          -9.6809e-03, -5.7342e-01,  3.7191e-02,  6.4982e-01,  1.0181e-01,\n",
       "          -5.5105e-01,  6.8051e-01, -2.3444e-01,  3.3194e-01,  9.3926e-02,\n",
       "          -1.5781e-01, -5.5940e-01, -2.0494e-01,  8.9732e-02,  6.0917e-01],\n",
       "         [ 1.3922e-01, -2.1041e-01,  1.0822e-01,  1.3958e-01,  5.8594e-02,\n",
       "           6.1099e-01,  4.6191e-01,  3.0944e-01,  5.9787e-01, -2.7800e-01,\n",
       "           3.2841e-01,  2.3695e-01, -1.4009e-01,  3.2492e-01,  7.3952e-04,\n",
       "          -2.9581e-02,  4.4799e-01, -1.1339e-02, -5.1456e-01, -7.3089e-02,\n",
       "           9.7725e-02, -6.3392e-01, -1.0416e-01, -6.2178e-02, -1.5679e-01,\n",
       "           3.1302e-02, -2.0614e-01,  3.3546e-01,  1.0111e-01, -2.5509e-01],\n",
       "         [ 2.7582e-01, -4.0551e-02,  5.6787e-01, -2.0983e-01, -3.2927e-02,\n",
       "          -5.9992e-01, -2.1958e-01, -9.1895e-02,  4.3341e-01,  1.1687e-02,\n",
       "          -1.3470e-01, -6.2365e-01,  7.6236e-02, -3.5224e-02,  1.5259e-03,\n",
       "          -2.3249e-02,  5.2953e-03, -3.5286e-03,  2.0167e-01, -4.9382e-03,\n",
       "           3.7257e-01, -3.3393e-01,  4.7711e-01, -1.5285e-01, -5.1013e-01,\n",
       "           1.3291e-01,  3.4880e-01, -1.8269e-01, -3.1408e-01, -1.8232e-01],\n",
       "         [-6.6093e-01,  4.1376e-01, -4.4806e-01, -1.8921e-01,  6.9110e-01,\n",
       "           2.4060e-01, -3.3805e-01,  2.8068e-01,  2.5635e-01, -2.6072e-02,\n",
       "          -7.6626e-02, -1.6365e-01,  8.9291e-02,  2.6613e-01, -4.5953e-03,\n",
       "           1.9955e-02, -2.0266e-02, -1.7170e-03, -3.1828e-02,  3.0054e-03,\n",
       "          -5.3473e-01,  7.6255e-01, -5.4293e-01,  1.2479e-01, -1.4581e-02,\n",
       "          -3.9691e-01, -8.5558e-02,  4.2470e-01, -1.5319e-01,  2.4614e-01],\n",
       "         [-3.8139e-01, -2.2186e-01, -7.6961e-01, -2.5638e-02,  2.1965e-01,\n",
       "           2.6416e-01, -5.9413e-01,  2.2464e-01,  7.3784e-02,  3.7441e-01,\n",
       "           1.7777e-01,  1.1690e-02,  2.1943e-02,  2.3693e-01,  6.2238e-03,\n",
       "           6.3756e-02,  7.6602e-02,  1.6345e-02,  7.5848e-01,  3.1339e-02,\n",
       "          -7.1865e-01,  1.5042e-01, -6.0254e-01,  2.3726e-01,  2.4447e-01,\n",
       "           1.1748e-01, -1.2340e-03,  2.5773e-01, -6.2278e-02,  3.6478e-01],\n",
       "         [ 2.8025e-01, -4.3399e-01,  5.4694e-01,  3.1319e-02, -3.5685e-01,\n",
       "           2.2420e-01, -1.7468e-01,  1.9328e-03,  2.0194e-01, -8.5826e-03,\n",
       "           3.2594e-02, -1.4281e-01,  1.1448e-01, -1.7664e-01, -7.1475e-03,\n",
       "          -7.3106e-02,  4.5364e-01, -1.6467e-02,  1.0974e-01, -9.5392e-02,\n",
       "           4.3765e-01, -1.0608e+00,  4.6336e-01, -1.2266e-01,  4.9018e-01,\n",
       "           2.8001e-02, -1.8091e-02, -2.1630e-01,  1.2528e-01, -5.4316e-01],\n",
       "         [-2.9571e-01, -8.6144e-02, -1.7021e-01, -2.3322e-02, -7.1594e-03,\n",
       "          -9.2448e-02, -4.8364e-01, -1.0099e-03,  7.8925e-01,  2.3902e-02,\n",
       "          -1.8170e-02, -2.8582e-02, -1.1310e-01,  1.1227e-01,  7.1141e-04,\n",
       "          -6.7993e-03, -1.8709e-03, -5.6284e-04, -8.9417e-02,  3.2556e-04,\n",
       "          -3.1606e-01,  5.9323e-02, -9.8470e-02,  1.6152e-01,  2.7654e-02,\n",
       "          -1.0122e-01,  4.7730e-01,  6.7483e-02, -3.9750e-02, -5.1609e-03],\n",
       "         [ 2.9972e-01,  3.6291e-01,  4.0683e-01,  1.1866e-01,  2.1707e-01,\n",
       "           3.8184e-01, -1.7617e-01,  7.0464e-02,  2.6815e-01, -2.9622e-01,\n",
       "           8.8342e-02,  5.2383e-02, -4.4559e-02, -5.4875e-01, -8.6814e-03,\n",
       "           4.6803e-02,  2.6239e-02,  6.5415e-04, -4.6140e-01, -2.7902e-02,\n",
       "           4.5542e-01,  2.0384e-01,  4.9418e-01, -2.2136e-01, -3.5954e-01,\n",
       "           6.2427e-02,  2.7571e-01, -5.9107e-03,  2.5136e-01, -9.4667e-03],\n",
       "         [ 8.4905e-02,  6.8862e-01, -3.0480e-01, -2.2789e-01,  4.5336e-02,\n",
       "           1.1786e-01,  6.0665e-01, -1.6719e-02, -2.2850e-01,  3.7191e-02,\n",
       "           4.0280e-02, -3.7466e-02,  8.6725e-02, -1.7507e-01,  4.8537e-03,\n",
       "           2.1272e-02, -7.8594e-02,  7.6835e-03, -6.1982e-02,  4.3772e-02,\n",
       "           8.5762e-02,  1.0890e+00,  4.8469e-02,  7.9133e-03, -5.6101e-01,\n",
       "           4.9540e-01,  4.3628e-01, -1.1009e-01,  7.0898e-02,  2.8725e-01],\n",
       "         [ 1.9809e-03, -1.5722e-01, -2.0547e-01, -4.8202e-02, -7.9513e-04,\n",
       "           1.6570e-01, -3.1137e-03, -5.4728e-04,  1.3792e-01,  8.9226e-02,\n",
       "          -2.5885e-03,  2.9472e-03, -5.4733e-02,  1.7996e-01,  1.8159e-05,\n",
       "          -3.3468e-04, -5.1560e-04, -3.0973e-05,  4.4873e-03,  1.0682e-05,\n",
       "           1.8915e-02, -1.4269e-01, -1.8264e-01,  9.1329e-02,  7.6505e-02,\n",
       "           1.0149e-01, -1.9587e-02, -1.5439e-03,  2.4509e-01, -1.1846e-03],\n",
       "         [-2.4328e-02, -8.6713e-03, -1.2710e-02, -2.4313e-02,  1.4858e-08,\n",
       "           1.4735e-02, -2.0869e-02,  5.8131e-09, -8.9871e-03, -5.4319e-02,\n",
       "           5.0751e-03,  7.0030e-03, -4.8049e-02, -2.8397e-02, -1.2029e-09,\n",
       "           7.7598e-09,  7.4636e-09, -8.4357e-11,  6.6935e-09,  6.9014e-11,\n",
       "          -1.9195e-02, -1.4587e-02, -1.2707e-02, -2.4474e-02, -3.1468e-02,\n",
       "          -6.6854e-03,  4.1968e-02, -4.5931e-09,  8.0068e-02,  1.3548e-08],\n",
       "         [-1.1886e-02, -1.6709e-02, -3.0720e-02, -2.7648e-02, -1.4385e-39,\n",
       "          -3.2076e-06,  1.2345e-39,  1.7298e-39, -6.5219e-39, -1.4957e-39,\n",
       "           2.2617e-02, -4.6107e-02, -1.5288e-02, -1.4694e-02, -2.9376e-40,\n",
       "           3.9270e-39,  1.0533e-39,  4.6810e-39,  2.6530e-39, -1.6092e-39,\n",
       "          -1.3848e-02, -1.7522e-02, -3.1582e-02, -2.8723e-02, -2.4711e-02,\n",
       "           2.0131e-02,  5.0898e-06, -1.6455e-39, -2.9939e-04,  6.5164e-39]],\n",
       "        requires_grad=True),\n",
       " Parameter containing:\n",
       " tensor([-3.1089e-01,  7.4266e-01, -1.2229e-02, -2.7659e-01, -9.6908e-01,\n",
       "          1.7998e-01,  5.0610e-01, -5.9293e-01, -8.4552e-01,  6.4129e-01,\n",
       "         -6.7942e-02,  2.8380e-01, -2.7508e-02, -1.2598e-02,  4.0873e-04,\n",
       "         -1.1054e-09], requires_grad=True),\n",
       " Parameter containing:\n",
       " tensor([[-8.7339e-02,  5.5317e-03,  2.0515e-05, -6.5048e-03,  1.0527e-01,\n",
       "          -1.6113e-02,  6.0126e-02, -5.0388e-09, -2.0352e-01, -3.1814e-01,\n",
       "          -1.3056e-01,  1.1531e-01,  2.7841e-01, -5.7894e-05,  1.2318e-02,\n",
       "           4.3545e-38],\n",
       "         [ 7.3090e-02, -3.4876e-01,  1.3130e-01,  3.9203e-02, -4.8947e-02,\n",
       "           1.1141e-01, -3.3868e-39, -8.8441e-02,  9.2545e-02, -3.9967e-01,\n",
       "          -1.0741e-01,  1.1379e-02, -5.3154e-01,  2.0464e-01,  4.4730e-03,\n",
       "          -2.4935e-03],\n",
       "         [ 3.5463e-01, -3.2669e-02,  1.7172e-01,  1.4389e-01,  3.7777e-01,\n",
       "          -2.4347e-01, -2.4461e-01, -1.2636e-01,  1.9766e-01, -3.5735e-02,\n",
       "           6.0531e-02, -5.6540e-02,  2.2373e-01,  4.5110e-02, -3.7474e-03,\n",
       "          -2.0405e-02],\n",
       "         [-4.6850e-01,  3.5534e-02, -4.1959e-03, -2.3147e-01, -9.5278e-02,\n",
       "           3.3942e-01,  1.9961e-01, -4.9990e-02,  1.8003e-01,  1.0148e-01,\n",
       "          -3.0824e-01,  2.7305e-01,  8.4175e-02,  2.1092e-01, -9.5232e-04,\n",
       "           2.0811e-02],\n",
       "         [ 9.5161e-04, -2.9210e-01, -1.6899e-39, -2.5318e-01,  4.8021e-02,\n",
       "          -9.3965e-01,  1.0571e-01,  4.4994e-01,  1.6320e-01, -4.1279e-02,\n",
       "           1.3457e-01,  2.8657e-01, -7.7507e-02,  1.3800e-16, -7.7779e-03,\n",
       "          -8.9078e-03],\n",
       "         [ 8.2026e-03, -2.6178e-02, -7.3029e-03, -5.9544e-02, -4.3898e-02,\n",
       "           3.5144e-02, -8.7662e-03, -1.0426e-02, -8.9469e-02, -5.6197e-02,\n",
       "           3.0822e-03,  4.7692e-03, -6.7720e-03, -2.9637e-02,  1.0345e-02,\n",
       "           4.3873e-39],\n",
       "         [-2.5127e-02, -6.6419e-02,  7.1408e-02,  4.3204e-02,  2.4605e-01,\n",
       "           1.8037e-01, -5.1010e-11, -1.7518e-01, -7.5087e-02, -8.6713e-01,\n",
       "           8.9063e-02,  1.3768e-01,  1.8678e-01,  1.8102e-01,  4.7178e-03,\n",
       "          -6.8928e-03],\n",
       "         [-1.8931e-02, -5.9166e-02, -4.6731e-02, -5.3943e-02, -6.2292e-02,\n",
       "           3.3364e-02, -1.5969e-02, -4.5543e-02, -9.0217e-02, -6.6356e-03,\n",
       "          -4.1520e-03,  4.4244e-02, -3.7018e-02,  1.3922e-02,  3.7919e-03,\n",
       "           2.6695e-39],\n",
       "         [-2.1309e-01,  1.8784e-01, -1.4271e-01, -1.7345e-01,  6.7974e-02,\n",
       "           1.9589e-01,  1.4571e-10,  1.7398e-01, -2.6080e-01, -3.1983e-01,\n",
       "           4.4881e-02,  6.5476e-02, -8.3365e-02,  2.2965e-01, -7.6757e-03,\n",
       "          -1.9686e-02],\n",
       "         [ 1.9827e-01,  6.7960e-02, -2.2638e-01,  1.9056e-02, -3.4083e-01,\n",
       "           6.2422e-02,  3.4398e-01, -2.9770e-01, -2.0910e-01,  2.0951e-01,\n",
       "          -2.6881e-01,  1.3869e-01, -1.2843e-01, -1.4115e-01,  6.1825e-02,\n",
       "          -3.2267e-02],\n",
       "         [-1.0203e-01, -3.8150e-01, -4.8972e-02, -5.2633e-01, -5.5474e-01,\n",
       "           6.3478e-02, -3.4407e-39, -1.4468e-01, -9.9731e-02,  5.4434e-05,\n",
       "           7.3269e-02,  9.6839e-02,  2.6552e-01,  3.2542e-03,  3.9455e-02,\n",
       "           3.0438e-02],\n",
       "         [ 7.6753e-02, -1.1018e-01, -2.6322e-01,  2.2241e-02, -1.1489e-01,\n",
       "           1.4415e-01, -4.6745e-38,  1.0090e-37, -4.4044e-01, -1.9119e-01,\n",
       "          -1.0615e-01,  1.9327e-01, -9.3201e-03, -3.1879e-01,  1.0097e-01,\n",
       "          -7.4334e-14],\n",
       "         [ 1.8888e-01, -3.1292e-02, -1.7542e-20, -4.7766e-02, -6.8693e-02,\n",
       "          -4.8291e-01, -1.3083e-01, -4.8352e-02,  2.5359e-01, -1.2783e-01,\n",
       "           3.1594e-01,  2.0002e-01,  7.3963e-02, -5.0442e-03, -1.7903e-02,\n",
       "          -3.6008e-02],\n",
       "         [-2.2858e-01,  3.1292e-01,  3.9232e-02, -1.9365e-01, -2.5107e-02,\n",
       "           9.1731e-02,  5.6305e-04, -4.3351e-02, -1.4509e-01, -3.3240e-02,\n",
       "           2.8581e-02,  1.6875e-01, -5.1950e-01,  1.0366e-01,  7.8818e-02,\n",
       "           4.5500e-02],\n",
       "         [-3.8131e-02,  1.8215e-01,  9.9883e-27, -1.0184e-01, -1.8228e-01,\n",
       "          -4.1261e-01,  1.2345e-01, -1.6164e-01, -2.9058e-01,  2.6092e-01,\n",
       "           1.4878e-01,  2.1557e-01, -6.0086e-01, -1.7918e-01,  4.9337e-02,\n",
       "           4.1597e-02],\n",
       "         [-8.4807e-03, -2.6914e-02, -1.7365e-39, -1.1438e-03, -5.0788e-02,\n",
       "          -1.5744e-02,  1.5048e-02,  8.5773e-04, -1.1279e-02, -1.2286e-02,\n",
       "           5.1444e-03, -4.6742e-03,  5.5895e-03,  2.5863e-06, -2.1940e-39,\n",
       "          -4.3618e-39]], requires_grad=True),\n",
       " Parameter containing:\n",
       " tensor([ 2.6312e-01, -2.2224e-01, -1.1792e+00,  8.7291e-01, -5.9597e-01,\n",
       "          2.3229e-03, -1.9434e-01, -2.7205e-03,  2.6595e-01,  9.4539e-01,\n",
       "          4.2247e-01,  6.1678e-02, -6.2943e-01,  6.4879e-01,  2.2636e-01,\n",
       "         -1.1376e-06], requires_grad=True),\n",
       " Parameter containing:\n",
       " tensor([[-0.3540, -0.2313, -0.1009,  0.1272, -0.2098,  0.0083, -0.1457,  0.0160,\n",
       "           0.1954,  0.3001,  0.3673,  0.1943, -0.0948,  0.2271,  0.2243,  0.0093]],\n",
       "        requires_grad=True),\n",
       " Parameter containing:\n",
       " tensor([1.4500], requires_grad=True)]"
      ]
     },
     "execution_count": 347,
     "metadata": {},
     "output_type": "execute_result"
    }
   ],
   "source": [
    "# 30 -> 16 -> 16 -> 1\n",
    "params = list(classificador.parameters())\n",
    "params"
   ]
  },
  {
   "cell_type": "code",
   "execution_count": 348,
   "id": "a64433d6-d7eb-4f3d-94c9-2a31fcba61e8",
   "metadata": {},
   "outputs": [
    {
     "data": {
      "text/plain": [
       "torch.Size([16, 30])"
      ]
     },
     "execution_count": 348,
     "metadata": {},
     "output_type": "execute_result"
    }
   ],
   "source": [
    "# 30 -> 16 -> 16 -> 1\n",
    "pesos = params[0]\n",
    "pesos.shape"
   ]
  },
  {
   "cell_type": "code",
   "execution_count": 349,
   "id": "8fcaaa8a-89f8-4191-8c46-ed0fc4b57bd0",
   "metadata": {},
   "outputs": [
    {
     "data": {
      "text/plain": [
       "torch.Size([16])"
      ]
     },
     "execution_count": 349,
     "metadata": {},
     "output_type": "execute_result"
    }
   ],
   "source": [
    "bias0 = params[1]\n",
    "bias0.shape"
   ]
  },
  {
   "cell_type": "code",
   "execution_count": 350,
   "id": "a1b01a9a-9cb9-4c9f-81d8-654e8a1fa176",
   "metadata": {},
   "outputs": [
    {
     "data": {
      "text/plain": [
       "torch.Size([16, 16])"
      ]
     },
     "execution_count": 350,
     "metadata": {},
     "output_type": "execute_result"
    }
   ],
   "source": [
    "pesos1 = params[2]\n",
    "pesos1.shape"
   ]
  },
  {
   "cell_type": "code",
   "execution_count": 351,
   "id": "bba50f97-475f-49bd-817a-6821feb3fc8a",
   "metadata": {},
   "outputs": [
    {
     "data": {
      "text/plain": [
       "torch.Size([16])"
      ]
     },
     "execution_count": 351,
     "metadata": {},
     "output_type": "execute_result"
    }
   ],
   "source": [
    "pesos1 = params[3]\n",
    "pesos1.shape"
   ]
  },
  {
   "cell_type": "markdown",
   "id": "89e72f71-4c98-4c8f-927a-26e8fc74e13e",
   "metadata": {},
   "source": [
    "### **Avaliação do modelo**"
   ]
  },
  {
   "cell_type": "code",
   "execution_count": 353,
   "id": "d5365f0e-1432-4a14-9b11-7dcb9b0c8015",
   "metadata": {},
   "outputs": [
    {
     "data": {
      "text/plain": [
       "Sequential(\n",
       "  (0): Linear(in_features=30, out_features=16, bias=True)\n",
       "  (1): ReLU()\n",
       "  (2): Linear(in_features=16, out_features=16, bias=True)\n",
       "  (3): ReLU()\n",
       "  (4): Linear(in_features=16, out_features=1, bias=True)\n",
       "  (5): Sigmoid()\n",
       ")"
      ]
     },
     "execution_count": 353,
     "metadata": {},
     "output_type": "execute_result"
    }
   ],
   "source": [
    "classificador.eval()"
   ]
  },
  {
   "cell_type": "code",
   "execution_count": 354,
   "id": "70578623-d0ab-4e0b-bad9-7c275f44075c",
   "metadata": {},
   "outputs": [
    {
     "data": {
      "text/plain": [
       "torch.Tensor"
      ]
     },
     "execution_count": 354,
     "metadata": {},
     "output_type": "execute_result"
    }
   ],
   "source": [
    "type(x_teste)"
   ]
  },
  {
   "cell_type": "code",
   "execution_count": 355,
   "id": "4e522ab2-ec9d-4255-846c-498f728ec543",
   "metadata": {},
   "outputs": [
    {
     "data": {
      "text/plain": [
       "torch.Tensor"
      ]
     },
     "execution_count": 355,
     "metadata": {},
     "output_type": "execute_result"
    }
   ],
   "source": [
    "x_teste = torch.tensor(np.array(x_teste),dtype=torch.float)\n",
    "type(x_teste)"
   ]
  },
  {
   "cell_type": "code",
   "execution_count": 356,
   "id": "b6b880da-1c73-4f46-9692-a64a0747babe",
   "metadata": {
    "scrolled": true
   },
   "outputs": [
    {
     "data": {
      "text/plain": [
       "tensor([[9.9951e-01],\n",
       "        [1.0000e+00],\n",
       "        [1.3227e-02],\n",
       "        [1.0000e+00],\n",
       "        [1.0543e-07],\n",
       "        [6.2287e-01],\n",
       "        [9.4790e-01],\n",
       "        [1.0000e+00],\n",
       "        [9.5572e-01],\n",
       "        [3.7168e-02],\n",
       "        [9.9992e-01],\n",
       "        [1.0000e+00],\n",
       "        [4.6407e-20],\n",
       "        [9.9996e-01],\n",
       "        [9.9997e-01],\n",
       "        [9.1218e-01],\n",
       "        [9.9999e-01],\n",
       "        [1.0000e+00],\n",
       "        [6.4684e-01],\n",
       "        [1.0000e+00],\n",
       "        [2.2235e-12],\n",
       "        [2.6046e-07],\n",
       "        [7.8175e-01],\n",
       "        [1.0000e+00],\n",
       "        [9.8805e-01],\n",
       "        [1.7951e-03],\n",
       "        [9.9997e-01],\n",
       "        [1.0000e+00],\n",
       "        [2.8151e-08],\n",
       "        [1.0000e+00],\n",
       "        [6.9256e-01],\n",
       "        [9.9998e-01],\n",
       "        [9.6270e-01],\n",
       "        [9.9978e-01],\n",
       "        [3.1617e-01],\n",
       "        [1.0000e+00],\n",
       "        [9.9332e-01],\n",
       "        [1.0000e+00],\n",
       "        [1.0000e+00],\n",
       "        [7.0085e-05],\n",
       "        [5.1132e-03],\n",
       "        [9.9699e-01],\n",
       "        [9.7338e-10],\n",
       "        [3.8910e-01],\n",
       "        [3.8444e-09],\n",
       "        [6.4556e-01],\n",
       "        [3.2296e-06],\n",
       "        [0.0000e+00],\n",
       "        [8.7364e-01],\n",
       "        [4.9629e-02],\n",
       "        [5.0684e-01],\n",
       "        [6.7498e-26],\n",
       "        [9.9741e-01],\n",
       "        [9.7546e-01],\n",
       "        [1.0000e+00],\n",
       "        [6.6895e-01],\n",
       "        [1.0000e+00],\n",
       "        [1.2324e-08],\n",
       "        [4.7373e-16],\n",
       "        [9.9472e-01],\n",
       "        [2.0313e-04],\n",
       "        [9.9998e-01],\n",
       "        [1.0000e+00],\n",
       "        [9.9944e-01],\n",
       "        [8.0425e-01],\n",
       "        [3.6781e-12],\n",
       "        [1.0000e+00],\n",
       "        [1.0000e+00],\n",
       "        [1.0000e+00],\n",
       "        [5.9744e-01],\n",
       "        [1.0000e+00],\n",
       "        [9.9995e-01],\n",
       "        [1.5810e-02],\n",
       "        [9.7508e-01],\n",
       "        [9.1516e-05],\n",
       "        [9.9999e-01],\n",
       "        [9.8829e-01],\n",
       "        [3.8783e-13],\n",
       "        [4.2059e-11],\n",
       "        [2.4812e-03],\n",
       "        [8.0962e-01],\n",
       "        [4.4673e-07],\n",
       "        [2.2634e-10],\n",
       "        [1.0000e+00],\n",
       "        [1.0000e+00],\n",
       "        [1.0000e+00],\n",
       "        [1.0035e-01],\n",
       "        [9.9999e-01],\n",
       "        [1.0634e-03],\n",
       "        [5.3328e-01],\n",
       "        [8.2684e-04],\n",
       "        [9.9994e-01],\n",
       "        [9.9997e-01],\n",
       "        [2.0205e-04],\n",
       "        [1.0000e+00],\n",
       "        [1.0000e+00],\n",
       "        [1.0000e+00],\n",
       "        [1.0000e+00],\n",
       "        [3.8255e-07],\n",
       "        [1.0000e+00],\n",
       "        [1.0000e+00],\n",
       "        [1.0000e+00],\n",
       "        [9.9998e-01],\n",
       "        [9.9999e-01],\n",
       "        [1.0000e+00],\n",
       "        [1.0000e+00],\n",
       "        [1.0000e+00],\n",
       "        [1.0000e+00],\n",
       "        [1.0000e+00],\n",
       "        [1.0000e+00],\n",
       "        [1.0000e+00],\n",
       "        [1.0000e+00],\n",
       "        [9.8519e-01],\n",
       "        [6.0636e-13],\n",
       "        [1.5241e-01],\n",
       "        [1.9728e-05],\n",
       "        [1.0000e+00],\n",
       "        [2.4509e-04],\n",
       "        [1.0000e+00],\n",
       "        [1.0000e+00],\n",
       "        [1.0514e-01],\n",
       "        [9.9989e-01],\n",
       "        [1.0000e+00],\n",
       "        [1.0000e+00],\n",
       "        [6.5656e-16],\n",
       "        [1.0000e+00],\n",
       "        [2.0510e-04],\n",
       "        [9.6481e-03],\n",
       "        [1.0000e+00],\n",
       "        [1.0000e+00],\n",
       "        [2.6623e-23],\n",
       "        [1.0000e+00],\n",
       "        [1.0000e+00],\n",
       "        [2.3365e-04],\n",
       "        [9.2145e-16],\n",
       "        [9.9300e-01],\n",
       "        [1.0000e+00],\n",
       "        [1.0000e+00],\n",
       "        [3.2882e-04],\n",
       "        [4.9681e-07],\n",
       "        [2.0150e-06],\n",
       "        [9.9998e-01],\n",
       "        [2.0098e-15]], grad_fn=<SigmoidBackward0>)"
      ]
     },
     "execution_count": 356,
     "metadata": {},
     "output_type": "execute_result"
    }
   ],
   "source": [
    "previsoes = classificador.forward(x_teste)\n",
    "previsoes"
   ]
  },
  {
   "cell_type": "code",
   "execution_count": 357,
   "id": "934b23b0-ad83-4940-accd-614a44f22c53",
   "metadata": {
    "scrolled": true
   },
   "outputs": [
    {
     "data": {
      "text/plain": [
       "array([[ True],\n",
       "       [ True],\n",
       "       [False],\n",
       "       [ True],\n",
       "       [False],\n",
       "       [ True],\n",
       "       [ True],\n",
       "       [ True],\n",
       "       [ True],\n",
       "       [False],\n",
       "       [ True],\n",
       "       [ True],\n",
       "       [False],\n",
       "       [ True],\n",
       "       [ True],\n",
       "       [ True],\n",
       "       [ True],\n",
       "       [ True],\n",
       "       [ True],\n",
       "       [ True],\n",
       "       [False],\n",
       "       [False],\n",
       "       [ True],\n",
       "       [ True],\n",
       "       [ True],\n",
       "       [False],\n",
       "       [ True],\n",
       "       [ True],\n",
       "       [False],\n",
       "       [ True],\n",
       "       [ True],\n",
       "       [ True],\n",
       "       [ True],\n",
       "       [ True],\n",
       "       [False],\n",
       "       [ True],\n",
       "       [ True],\n",
       "       [ True],\n",
       "       [ True],\n",
       "       [False],\n",
       "       [False],\n",
       "       [ True],\n",
       "       [False],\n",
       "       [False],\n",
       "       [False],\n",
       "       [ True],\n",
       "       [False],\n",
       "       [False],\n",
       "       [ True],\n",
       "       [False],\n",
       "       [ True],\n",
       "       [False],\n",
       "       [ True],\n",
       "       [ True],\n",
       "       [ True],\n",
       "       [ True],\n",
       "       [ True],\n",
       "       [False],\n",
       "       [False],\n",
       "       [ True],\n",
       "       [False],\n",
       "       [ True],\n",
       "       [ True],\n",
       "       [ True],\n",
       "       [ True],\n",
       "       [False],\n",
       "       [ True],\n",
       "       [ True],\n",
       "       [ True],\n",
       "       [ True],\n",
       "       [ True],\n",
       "       [ True],\n",
       "       [False],\n",
       "       [ True],\n",
       "       [False],\n",
       "       [ True],\n",
       "       [ True],\n",
       "       [False],\n",
       "       [False],\n",
       "       [False],\n",
       "       [ True],\n",
       "       [False],\n",
       "       [False],\n",
       "       [ True],\n",
       "       [ True],\n",
       "       [ True],\n",
       "       [False],\n",
       "       [ True],\n",
       "       [False],\n",
       "       [ True],\n",
       "       [False],\n",
       "       [ True],\n",
       "       [ True],\n",
       "       [False],\n",
       "       [ True],\n",
       "       [ True],\n",
       "       [ True],\n",
       "       [ True],\n",
       "       [False],\n",
       "       [ True],\n",
       "       [ True],\n",
       "       [ True],\n",
       "       [ True],\n",
       "       [ True],\n",
       "       [ True],\n",
       "       [ True],\n",
       "       [ True],\n",
       "       [ True],\n",
       "       [ True],\n",
       "       [ True],\n",
       "       [ True],\n",
       "       [ True],\n",
       "       [ True],\n",
       "       [False],\n",
       "       [False],\n",
       "       [False],\n",
       "       [ True],\n",
       "       [False],\n",
       "       [ True],\n",
       "       [ True],\n",
       "       [False],\n",
       "       [ True],\n",
       "       [ True],\n",
       "       [ True],\n",
       "       [False],\n",
       "       [ True],\n",
       "       [False],\n",
       "       [False],\n",
       "       [ True],\n",
       "       [ True],\n",
       "       [False],\n",
       "       [ True],\n",
       "       [ True],\n",
       "       [False],\n",
       "       [False],\n",
       "       [ True],\n",
       "       [ True],\n",
       "       [ True],\n",
       "       [False],\n",
       "       [False],\n",
       "       [False],\n",
       "       [ True],\n",
       "       [False]])"
      ]
     },
     "execution_count": 357,
     "metadata": {},
     "output_type": "execute_result"
    }
   ],
   "source": [
    "previsoes = np.array(previsoes > 0.5)\n",
    "previsoes"
   ]
  },
  {
   "cell_type": "code",
   "execution_count": 358,
   "id": "8478b768-3b53-4dd4-a497-0bcd04e7d21e",
   "metadata": {},
   "outputs": [
    {
     "data": {
      "text/html": [
       "<div>\n",
       "<style scoped>\n",
       "    .dataframe tbody tr th:only-of-type {\n",
       "        vertical-align: middle;\n",
       "    }\n",
       "\n",
       "    .dataframe tbody tr th {\n",
       "        vertical-align: top;\n",
       "    }\n",
       "\n",
       "    .dataframe thead th {\n",
       "        text-align: right;\n",
       "    }\n",
       "</style>\n",
       "<table border=\"1\" class=\"dataframe\">\n",
       "  <thead>\n",
       "    <tr style=\"text-align: right;\">\n",
       "      <th></th>\n",
       "      <th>0</th>\n",
       "    </tr>\n",
       "  </thead>\n",
       "  <tbody>\n",
       "    <tr>\n",
       "      <th>333</th>\n",
       "      <td>1</td>\n",
       "    </tr>\n",
       "    <tr>\n",
       "      <th>273</th>\n",
       "      <td>1</td>\n",
       "    </tr>\n",
       "    <tr>\n",
       "      <th>201</th>\n",
       "      <td>0</td>\n",
       "    </tr>\n",
       "    <tr>\n",
       "      <th>178</th>\n",
       "      <td>1</td>\n",
       "    </tr>\n",
       "    <tr>\n",
       "      <th>85</th>\n",
       "      <td>0</td>\n",
       "    </tr>\n",
       "    <tr>\n",
       "      <th>...</th>\n",
       "      <td>...</td>\n",
       "    </tr>\n",
       "    <tr>\n",
       "      <th>230</th>\n",
       "      <td>0</td>\n",
       "    </tr>\n",
       "    <tr>\n",
       "      <th>282</th>\n",
       "      <td>0</td>\n",
       "    </tr>\n",
       "    <tr>\n",
       "      <th>535</th>\n",
       "      <td>0</td>\n",
       "    </tr>\n",
       "    <tr>\n",
       "      <th>436</th>\n",
       "      <td>1</td>\n",
       "    </tr>\n",
       "    <tr>\n",
       "      <th>236</th>\n",
       "      <td>0</td>\n",
       "    </tr>\n",
       "  </tbody>\n",
       "</table>\n",
       "<p>143 rows × 1 columns</p>\n",
       "</div>"
      ],
      "text/plain": [
       "     0\n",
       "333  1\n",
       "273  1\n",
       "201  0\n",
       "178  1\n",
       "85   0\n",
       "..  ..\n",
       "230  0\n",
       "282  0\n",
       "535  0\n",
       "436  1\n",
       "236  0\n",
       "\n",
       "[143 rows x 1 columns]"
      ]
     },
     "execution_count": 358,
     "metadata": {},
     "output_type": "execute_result"
    }
   ],
   "source": [
    "y_teste"
   ]
  },
  {
   "cell_type": "code",
   "execution_count": 359,
   "id": "c1def30b-7107-4a7c-8990-08a59a098514",
   "metadata": {},
   "outputs": [
    {
     "name": "stdout",
     "output_type": "stream",
     "text": [
      "Acurácia: 0.909%\n"
     ]
    }
   ],
   "source": [
    "taxa_acerto = accuracy_score(y_teste,previsoes)\n",
    "print(f'Acurácia: {round(taxa_acerto,3)}%')"
   ]
  }
 ],
 "metadata": {
  "kernelspec": {
   "display_name": "Python 3 (ipykernel)",
   "language": "python",
   "name": "python3"
  },
  "language_info": {
   "codemirror_mode": {
    "name": "ipython",
    "version": 3
   },
   "file_extension": ".py",
   "mimetype": "text/x-python",
   "name": "python",
   "nbconvert_exporter": "python",
   "pygments_lexer": "ipython3",
   "version": "3.11.7"
  }
 },
 "nbformat": 4,
 "nbformat_minor": 5
}
