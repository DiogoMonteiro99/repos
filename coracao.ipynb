{
  "cells": [
    {
      "cell_type": "code",
      "source": [
        "from google.colab import drive\n",
        "drive.mount('/content/drive')"
      ],
      "metadata": {
        "id": "VH8K2NgCZTIy",
        "outputId": "404998db-1dd3-4bb5-e277-663978f60e37",
        "colab": {
          "base_uri": "https://localhost:8080/"
        }
      },
      "execution_count": 59,
      "outputs": [
        {
          "output_type": "stream",
          "name": "stdout",
          "text": [
            "Drive already mounted at /content/drive; to attempt to forcibly remount, call drive.mount(\"/content/drive\", force_remount=True).\n"
          ]
        }
      ]
    },
    {
      "cell_type": "code",
      "execution_count": 60,
      "metadata": {
        "id": "J2O3RKh1Xzih"
      },
      "outputs": [],
      "source": [
        "import pandas as pd\n",
        "import numpy as np\n",
        "import plotly.express as px\n",
        "import matplotlib.pyplot as plt\n",
        "import seaborn as sns\n",
        "from sklearn.preprocessing import StandardScaler\n",
        "from sklearn.preprocessing import LabelEncoder\n",
        "from sklearn.preprocessing import OneHotEncoder\n",
        "from sklearn.compose import ColumnTransformer\n",
        "from sklearn.discriminant_analysis import LinearDiscriminantAnalysis\n",
        "from sklearn.decomposition import PCA\n",
        "from sklearn.model_selection import train_test_split\n",
        "from sklearn.naive_bayes import GaussianNB\n",
        "from sklearn.metrics import accuracy_score,confusion_matrix,classification_report\n",
        "from sklearn.model_selection import KFold\n",
        "from sklearn.model_selection import cross_val_score\n",
        "from sklearn.svm import SVC\n",
        "from sklearn.linear_model import LogisticRegression\n",
        "from sklearn.neighbors import KNeighborsClassifier\n",
        "from sklearn.tree import DecisionTreeClassifier\n",
        "from sklearn.ensemble import RandomForestClassifier\n",
        "from xgboost import XGBClassifier\n",
        "import lightgbm as lgb\n",
        "from catboost import CatBoostClassifier\n",
        "\n",
        "import pickle\n",
        "\n",
        "\n",
        "import warnings\n",
        "warnings.filterwarnings('ignore')"
      ]
    },
    {
      "cell_type": "code",
      "execution_count": 61,
      "metadata": {
        "id": "W45nBE0jXzij",
        "outputId": "6233b0b8-a9ca-41d3-d327-667f47d22a50",
        "colab": {
          "base_uri": "https://localhost:8080/",
          "height": 206
        }
      },
      "outputs": [
        {
          "output_type": "execute_result",
          "data": {
            "text/plain": [
              "   Age Sex ChestPainType  RestingBP  Cholesterol  FastingBS RestingECG  MaxHR  \\\n",
              "0   40   M           ATA      140.0        289.0          0     Normal    172   \n",
              "1   49   F           NAP      160.0        180.0          0     Normal    156   \n",
              "2   37   M           ATA      130.0        283.0          0         ST     98   \n",
              "3   48   F           ASY      138.0        214.0          0     Normal    108   \n",
              "4   54   M           NAP      150.0        195.0          0     Normal    122   \n",
              "\n",
              "  ExerciseAngina  Oldpeak ST_Slope  HeartDisease  \n",
              "0              N      0.0       Up             0  \n",
              "1              N      1.0     Flat             1  \n",
              "2              N      0.0       Up             0  \n",
              "3              Y      1.5     Flat             1  \n",
              "4              N      0.0       Up             0  "
            ],
            "text/html": [
              "\n",
              "  <div id=\"df-65e6b169-006a-43bc-8ff4-85c876616262\" class=\"colab-df-container\">\n",
              "    <div>\n",
              "<style scoped>\n",
              "    .dataframe tbody tr th:only-of-type {\n",
              "        vertical-align: middle;\n",
              "    }\n",
              "\n",
              "    .dataframe tbody tr th {\n",
              "        vertical-align: top;\n",
              "    }\n",
              "\n",
              "    .dataframe thead th {\n",
              "        text-align: right;\n",
              "    }\n",
              "</style>\n",
              "<table border=\"1\" class=\"dataframe\">\n",
              "  <thead>\n",
              "    <tr style=\"text-align: right;\">\n",
              "      <th></th>\n",
              "      <th>Age</th>\n",
              "      <th>Sex</th>\n",
              "      <th>ChestPainType</th>\n",
              "      <th>RestingBP</th>\n",
              "      <th>Cholesterol</th>\n",
              "      <th>FastingBS</th>\n",
              "      <th>RestingECG</th>\n",
              "      <th>MaxHR</th>\n",
              "      <th>ExerciseAngina</th>\n",
              "      <th>Oldpeak</th>\n",
              "      <th>ST_Slope</th>\n",
              "      <th>HeartDisease</th>\n",
              "    </tr>\n",
              "  </thead>\n",
              "  <tbody>\n",
              "    <tr>\n",
              "      <th>0</th>\n",
              "      <td>40</td>\n",
              "      <td>M</td>\n",
              "      <td>ATA</td>\n",
              "      <td>140.0</td>\n",
              "      <td>289.0</td>\n",
              "      <td>0</td>\n",
              "      <td>Normal</td>\n",
              "      <td>172</td>\n",
              "      <td>N</td>\n",
              "      <td>0.0</td>\n",
              "      <td>Up</td>\n",
              "      <td>0</td>\n",
              "    </tr>\n",
              "    <tr>\n",
              "      <th>1</th>\n",
              "      <td>49</td>\n",
              "      <td>F</td>\n",
              "      <td>NAP</td>\n",
              "      <td>160.0</td>\n",
              "      <td>180.0</td>\n",
              "      <td>0</td>\n",
              "      <td>Normal</td>\n",
              "      <td>156</td>\n",
              "      <td>N</td>\n",
              "      <td>1.0</td>\n",
              "      <td>Flat</td>\n",
              "      <td>1</td>\n",
              "    </tr>\n",
              "    <tr>\n",
              "      <th>2</th>\n",
              "      <td>37</td>\n",
              "      <td>M</td>\n",
              "      <td>ATA</td>\n",
              "      <td>130.0</td>\n",
              "      <td>283.0</td>\n",
              "      <td>0</td>\n",
              "      <td>ST</td>\n",
              "      <td>98</td>\n",
              "      <td>N</td>\n",
              "      <td>0.0</td>\n",
              "      <td>Up</td>\n",
              "      <td>0</td>\n",
              "    </tr>\n",
              "    <tr>\n",
              "      <th>3</th>\n",
              "      <td>48</td>\n",
              "      <td>F</td>\n",
              "      <td>ASY</td>\n",
              "      <td>138.0</td>\n",
              "      <td>214.0</td>\n",
              "      <td>0</td>\n",
              "      <td>Normal</td>\n",
              "      <td>108</td>\n",
              "      <td>Y</td>\n",
              "      <td>1.5</td>\n",
              "      <td>Flat</td>\n",
              "      <td>1</td>\n",
              "    </tr>\n",
              "    <tr>\n",
              "      <th>4</th>\n",
              "      <td>54</td>\n",
              "      <td>M</td>\n",
              "      <td>NAP</td>\n",
              "      <td>150.0</td>\n",
              "      <td>195.0</td>\n",
              "      <td>0</td>\n",
              "      <td>Normal</td>\n",
              "      <td>122</td>\n",
              "      <td>N</td>\n",
              "      <td>0.0</td>\n",
              "      <td>Up</td>\n",
              "      <td>0</td>\n",
              "    </tr>\n",
              "  </tbody>\n",
              "</table>\n",
              "</div>\n",
              "    <div class=\"colab-df-buttons\">\n",
              "\n",
              "  <div class=\"colab-df-container\">\n",
              "    <button class=\"colab-df-convert\" onclick=\"convertToInteractive('df-65e6b169-006a-43bc-8ff4-85c876616262')\"\n",
              "            title=\"Convert this dataframe to an interactive table.\"\n",
              "            style=\"display:none;\">\n",
              "\n",
              "  <svg xmlns=\"http://www.w3.org/2000/svg\" height=\"24px\" viewBox=\"0 -960 960 960\">\n",
              "    <path d=\"M120-120v-720h720v720H120Zm60-500h600v-160H180v160Zm220 220h160v-160H400v160Zm0 220h160v-160H400v160ZM180-400h160v-160H180v160Zm440 0h160v-160H620v160ZM180-180h160v-160H180v160Zm440 0h160v-160H620v160Z\"/>\n",
              "  </svg>\n",
              "    </button>\n",
              "\n",
              "  <style>\n",
              "    .colab-df-container {\n",
              "      display:flex;\n",
              "      gap: 12px;\n",
              "    }\n",
              "\n",
              "    .colab-df-convert {\n",
              "      background-color: #E8F0FE;\n",
              "      border: none;\n",
              "      border-radius: 50%;\n",
              "      cursor: pointer;\n",
              "      display: none;\n",
              "      fill: #1967D2;\n",
              "      height: 32px;\n",
              "      padding: 0 0 0 0;\n",
              "      width: 32px;\n",
              "    }\n",
              "\n",
              "    .colab-df-convert:hover {\n",
              "      background-color: #E2EBFA;\n",
              "      box-shadow: 0px 1px 2px rgba(60, 64, 67, 0.3), 0px 1px 3px 1px rgba(60, 64, 67, 0.15);\n",
              "      fill: #174EA6;\n",
              "    }\n",
              "\n",
              "    .colab-df-buttons div {\n",
              "      margin-bottom: 4px;\n",
              "    }\n",
              "\n",
              "    [theme=dark] .colab-df-convert {\n",
              "      background-color: #3B4455;\n",
              "      fill: #D2E3FC;\n",
              "    }\n",
              "\n",
              "    [theme=dark] .colab-df-convert:hover {\n",
              "      background-color: #434B5C;\n",
              "      box-shadow: 0px 1px 3px 1px rgba(0, 0, 0, 0.15);\n",
              "      filter: drop-shadow(0px 1px 2px rgba(0, 0, 0, 0.3));\n",
              "      fill: #FFFFFF;\n",
              "    }\n",
              "  </style>\n",
              "\n",
              "    <script>\n",
              "      const buttonEl =\n",
              "        document.querySelector('#df-65e6b169-006a-43bc-8ff4-85c876616262 button.colab-df-convert');\n",
              "      buttonEl.style.display =\n",
              "        google.colab.kernel.accessAllowed ? 'block' : 'none';\n",
              "\n",
              "      async function convertToInteractive(key) {\n",
              "        const element = document.querySelector('#df-65e6b169-006a-43bc-8ff4-85c876616262');\n",
              "        const dataTable =\n",
              "          await google.colab.kernel.invokeFunction('convertToInteractive',\n",
              "                                                    [key], {});\n",
              "        if (!dataTable) return;\n",
              "\n",
              "        const docLinkHtml = 'Like what you see? Visit the ' +\n",
              "          '<a target=\"_blank\" href=https://colab.research.google.com/notebooks/data_table.ipynb>data table notebook</a>'\n",
              "          + ' to learn more about interactive tables.';\n",
              "        element.innerHTML = '';\n",
              "        dataTable['output_type'] = 'display_data';\n",
              "        await google.colab.output.renderOutput(dataTable, element);\n",
              "        const docLink = document.createElement('div');\n",
              "        docLink.innerHTML = docLinkHtml;\n",
              "        element.appendChild(docLink);\n",
              "      }\n",
              "    </script>\n",
              "  </div>\n",
              "\n",
              "\n",
              "<div id=\"df-71a32cf8-c229-4907-8570-98d5f249333a\">\n",
              "  <button class=\"colab-df-quickchart\" onclick=\"quickchart('df-71a32cf8-c229-4907-8570-98d5f249333a')\"\n",
              "            title=\"Suggest charts\"\n",
              "            style=\"display:none;\">\n",
              "\n",
              "<svg xmlns=\"http://www.w3.org/2000/svg\" height=\"24px\"viewBox=\"0 0 24 24\"\n",
              "     width=\"24px\">\n",
              "    <g>\n",
              "        <path d=\"M19 3H5c-1.1 0-2 .9-2 2v14c0 1.1.9 2 2 2h14c1.1 0 2-.9 2-2V5c0-1.1-.9-2-2-2zM9 17H7v-7h2v7zm4 0h-2V7h2v10zm4 0h-2v-4h2v4z\"/>\n",
              "    </g>\n",
              "</svg>\n",
              "  </button>\n",
              "\n",
              "<style>\n",
              "  .colab-df-quickchart {\n",
              "      --bg-color: #E8F0FE;\n",
              "      --fill-color: #1967D2;\n",
              "      --hover-bg-color: #E2EBFA;\n",
              "      --hover-fill-color: #174EA6;\n",
              "      --disabled-fill-color: #AAA;\n",
              "      --disabled-bg-color: #DDD;\n",
              "  }\n",
              "\n",
              "  [theme=dark] .colab-df-quickchart {\n",
              "      --bg-color: #3B4455;\n",
              "      --fill-color: #D2E3FC;\n",
              "      --hover-bg-color: #434B5C;\n",
              "      --hover-fill-color: #FFFFFF;\n",
              "      --disabled-bg-color: #3B4455;\n",
              "      --disabled-fill-color: #666;\n",
              "  }\n",
              "\n",
              "  .colab-df-quickchart {\n",
              "    background-color: var(--bg-color);\n",
              "    border: none;\n",
              "    border-radius: 50%;\n",
              "    cursor: pointer;\n",
              "    display: none;\n",
              "    fill: var(--fill-color);\n",
              "    height: 32px;\n",
              "    padding: 0;\n",
              "    width: 32px;\n",
              "  }\n",
              "\n",
              "  .colab-df-quickchart:hover {\n",
              "    background-color: var(--hover-bg-color);\n",
              "    box-shadow: 0 1px 2px rgba(60, 64, 67, 0.3), 0 1px 3px 1px rgba(60, 64, 67, 0.15);\n",
              "    fill: var(--button-hover-fill-color);\n",
              "  }\n",
              "\n",
              "  .colab-df-quickchart-complete:disabled,\n",
              "  .colab-df-quickchart-complete:disabled:hover {\n",
              "    background-color: var(--disabled-bg-color);\n",
              "    fill: var(--disabled-fill-color);\n",
              "    box-shadow: none;\n",
              "  }\n",
              "\n",
              "  .colab-df-spinner {\n",
              "    border: 2px solid var(--fill-color);\n",
              "    border-color: transparent;\n",
              "    border-bottom-color: var(--fill-color);\n",
              "    animation:\n",
              "      spin 1s steps(1) infinite;\n",
              "  }\n",
              "\n",
              "  @keyframes spin {\n",
              "    0% {\n",
              "      border-color: transparent;\n",
              "      border-bottom-color: var(--fill-color);\n",
              "      border-left-color: var(--fill-color);\n",
              "    }\n",
              "    20% {\n",
              "      border-color: transparent;\n",
              "      border-left-color: var(--fill-color);\n",
              "      border-top-color: var(--fill-color);\n",
              "    }\n",
              "    30% {\n",
              "      border-color: transparent;\n",
              "      border-left-color: var(--fill-color);\n",
              "      border-top-color: var(--fill-color);\n",
              "      border-right-color: var(--fill-color);\n",
              "    }\n",
              "    40% {\n",
              "      border-color: transparent;\n",
              "      border-right-color: var(--fill-color);\n",
              "      border-top-color: var(--fill-color);\n",
              "    }\n",
              "    60% {\n",
              "      border-color: transparent;\n",
              "      border-right-color: var(--fill-color);\n",
              "    }\n",
              "    80% {\n",
              "      border-color: transparent;\n",
              "      border-right-color: var(--fill-color);\n",
              "      border-bottom-color: var(--fill-color);\n",
              "    }\n",
              "    90% {\n",
              "      border-color: transparent;\n",
              "      border-bottom-color: var(--fill-color);\n",
              "    }\n",
              "  }\n",
              "</style>\n",
              "\n",
              "  <script>\n",
              "    async function quickchart(key) {\n",
              "      const quickchartButtonEl =\n",
              "        document.querySelector('#' + key + ' button');\n",
              "      quickchartButtonEl.disabled = true;  // To prevent multiple clicks.\n",
              "      quickchartButtonEl.classList.add('colab-df-spinner');\n",
              "      try {\n",
              "        const charts = await google.colab.kernel.invokeFunction(\n",
              "            'suggestCharts', [key], {});\n",
              "      } catch (error) {\n",
              "        console.error('Error during call to suggestCharts:', error);\n",
              "      }\n",
              "      quickchartButtonEl.classList.remove('colab-df-spinner');\n",
              "      quickchartButtonEl.classList.add('colab-df-quickchart-complete');\n",
              "    }\n",
              "    (() => {\n",
              "      let quickchartButtonEl =\n",
              "        document.querySelector('#df-71a32cf8-c229-4907-8570-98d5f249333a button');\n",
              "      quickchartButtonEl.style.display =\n",
              "        google.colab.kernel.accessAllowed ? 'block' : 'none';\n",
              "    })();\n",
              "  </script>\n",
              "</div>\n",
              "\n",
              "    </div>\n",
              "  </div>\n"
            ],
            "application/vnd.google.colaboratory.intrinsic+json": {
              "type": "dataframe",
              "variable_name": "df",
              "summary": "{\n  \"name\": \"df\",\n  \"rows\": 918,\n  \"fields\": [\n    {\n      \"column\": \"Age\",\n      \"properties\": {\n        \"dtype\": \"number\",\n        \"std\": 9,\n        \"min\": 28,\n        \"max\": 77,\n        \"num_unique_values\": 50,\n        \"samples\": [\n          44,\n          68,\n          66\n        ],\n        \"semantic_type\": \"\",\n        \"description\": \"\"\n      }\n    },\n    {\n      \"column\": \"Sex\",\n      \"properties\": {\n        \"dtype\": \"category\",\n        \"num_unique_values\": 2,\n        \"samples\": [\n          \"F\",\n          \"M\"\n        ],\n        \"semantic_type\": \"\",\n        \"description\": \"\"\n      }\n    },\n    {\n      \"column\": \"ChestPainType\",\n      \"properties\": {\n        \"dtype\": \"category\",\n        \"num_unique_values\": 4,\n        \"samples\": [\n          \"NAP\",\n          \"TA\"\n        ],\n        \"semantic_type\": \"\",\n        \"description\": \"\"\n      }\n    },\n    {\n      \"column\": \"RestingBP\",\n      \"properties\": {\n        \"dtype\": \"number\",\n        \"std\": 17.989931696967748,\n        \"min\": 80.0,\n        \"max\": 200.0,\n        \"num_unique_values\": 67,\n        \"samples\": [\n          165.0,\n          118.0\n        ],\n        \"semantic_type\": \"\",\n        \"description\": \"\"\n      }\n    },\n    {\n      \"column\": \"Cholesterol\",\n      \"properties\": {\n        \"dtype\": \"number\",\n        \"std\": 53.318031027957794,\n        \"min\": 85.0,\n        \"max\": 603.0,\n        \"num_unique_values\": 222,\n        \"samples\": [\n          305.0,\n          321.0\n        ],\n        \"semantic_type\": \"\",\n        \"description\": \"\"\n      }\n    },\n    {\n      \"column\": \"FastingBS\",\n      \"properties\": {\n        \"dtype\": \"number\",\n        \"std\": 0,\n        \"min\": 0,\n        \"max\": 1,\n        \"num_unique_values\": 2,\n        \"samples\": [\n          1,\n          0\n        ],\n        \"semantic_type\": \"\",\n        \"description\": \"\"\n      }\n    },\n    {\n      \"column\": \"RestingECG\",\n      \"properties\": {\n        \"dtype\": \"category\",\n        \"num_unique_values\": 3,\n        \"samples\": [\n          \"Normal\",\n          \"ST\"\n        ],\n        \"semantic_type\": \"\",\n        \"description\": \"\"\n      }\n    },\n    {\n      \"column\": \"MaxHR\",\n      \"properties\": {\n        \"dtype\": \"number\",\n        \"std\": 25,\n        \"min\": 60,\n        \"max\": 202,\n        \"num_unique_values\": 119,\n        \"samples\": [\n          132,\n          157\n        ],\n        \"semantic_type\": \"\",\n        \"description\": \"\"\n      }\n    },\n    {\n      \"column\": \"ExerciseAngina\",\n      \"properties\": {\n        \"dtype\": \"category\",\n        \"num_unique_values\": 2,\n        \"samples\": [\n          \"Y\",\n          \"N\"\n        ],\n        \"semantic_type\": \"\",\n        \"description\": \"\"\n      }\n    },\n    {\n      \"column\": \"Oldpeak\",\n      \"properties\": {\n        \"dtype\": \"number\",\n        \"std\": 1.0665701510493257,\n        \"min\": -2.6,\n        \"max\": 6.2,\n        \"num_unique_values\": 53,\n        \"samples\": [\n          1.3,\n          0.6\n        ],\n        \"semantic_type\": \"\",\n        \"description\": \"\"\n      }\n    },\n    {\n      \"column\": \"ST_Slope\",\n      \"properties\": {\n        \"dtype\": \"category\",\n        \"num_unique_values\": 3,\n        \"samples\": [\n          \"Up\",\n          \"Flat\"\n        ],\n        \"semantic_type\": \"\",\n        \"description\": \"\"\n      }\n    },\n    {\n      \"column\": \"HeartDisease\",\n      \"properties\": {\n        \"dtype\": \"number\",\n        \"std\": 0,\n        \"min\": 0,\n        \"max\": 1,\n        \"num_unique_values\": 2,\n        \"samples\": [\n          1,\n          0\n        ],\n        \"semantic_type\": \"\",\n        \"description\": \"\"\n      }\n    }\n  ]\n}"
            }
          },
          "metadata": {},
          "execution_count": 61
        }
      ],
      "source": [
        "df = pd.read_csv('/content/drive/MyDrive/Colab Notebooks/Coracao.csv')\n",
        "df.head()"
      ]
    },
    {
      "cell_type": "code",
      "execution_count": 62,
      "metadata": {
        "id": "aDt32X7NXzij",
        "outputId": "a4cbd597-4da5-45d5-e1f1-0d7f1b47f3b7",
        "colab": {
          "base_uri": "https://localhost:8080/",
          "height": 1000
        }
      },
      "outputs": [
        {
          "output_type": "stream",
          "name": "stdout",
          "text": [
            "Tipo da coluna:\n",
            " int64\n",
            "Valores unicos:\n",
            " [40 49 37 48 54 39 45 58 42 38 43 60 36 44 53 52 51 56 41 32 65 35 59 50\n",
            " 47 31 46 57 55 63 66 34 33 61 29 62 28 30 74 68 72 64 69 67 73 70 77 75\n",
            " 76 71]\n",
            "\n",
            "Quantidades de unicos:\n",
            " 50\n",
            "\n",
            "Quantidades de valores nulos:\n",
            " 0\n",
            "\n",
            "Analisando a media:\n",
            " count    918.000000\n",
            "mean      53.510893\n",
            "std        9.432617\n",
            "min       28.000000\n",
            "25%       47.000000\n",
            "50%       54.000000\n",
            "75%       60.000000\n",
            "max       77.000000\n",
            "Name: Age, dtype: float64\n",
            "\n",
            "Quantidades por opcao:\n",
            " Age\n",
            "28     1\n",
            "29     3\n",
            "30     1\n",
            "31     2\n",
            "32     5\n",
            "33     2\n",
            "34     7\n",
            "35    11\n",
            "36     6\n",
            "37    11\n",
            "38    16\n",
            "39    15\n",
            "40    13\n",
            "41    24\n",
            "42    18\n",
            "43    24\n",
            "44    19\n",
            "45    18\n",
            "46    24\n",
            "47    19\n",
            "48    31\n",
            "49    21\n",
            "50    25\n",
            "51    35\n",
            "52    36\n",
            "53    33\n",
            "54    51\n",
            "55    41\n",
            "56    38\n",
            "57    38\n",
            "58    42\n",
            "59    35\n",
            "60    32\n",
            "61    31\n",
            "62    35\n",
            "63    30\n",
            "64    22\n",
            "65    21\n",
            "66    13\n",
            "67    15\n",
            "68    10\n",
            "69    13\n",
            "70     7\n",
            "71     5\n",
            "72     4\n",
            "73     1\n",
            "74     7\n",
            "75     3\n",
            "76     2\n",
            "77     2\n",
            "Name: count, dtype: int64\n"
          ]
        },
        {
          "output_type": "display_data",
          "data": {
            "text/html": [
              "<html>\n",
              "<head><meta charset=\"utf-8\" /></head>\n",
              "<body>\n",
              "    <div>            <script src=\"https://cdnjs.cloudflare.com/ajax/libs/mathjax/2.7.5/MathJax.js?config=TeX-AMS-MML_SVG\"></script><script type=\"text/javascript\">if (window.MathJax && window.MathJax.Hub && window.MathJax.Hub.Config) {window.MathJax.Hub.Config({SVG: {font: \"STIX-Web\"}});}</script>                <script type=\"text/javascript\">window.PlotlyConfig = {MathJaxConfig: 'local'};</script>\n",
              "        <script charset=\"utf-8\" src=\"https://cdn.plot.ly/plotly-2.24.1.min.js\"></script>                <div id=\"af387e82-b990-42b7-a04a-df540301e85c\" class=\"plotly-graph-div\" style=\"height:525px; width:100%;\"></div>            <script type=\"text/javascript\">                                    window.PLOTLYENV=window.PLOTLYENV || {};                                    if (document.getElementById(\"af387e82-b990-42b7-a04a-df540301e85c\")) {                    Plotly.newPlot(                        \"af387e82-b990-42b7-a04a-df540301e85c\",                        [{\"alignmentgroup\":\"True\",\"hovertemplate\":\"Age=%{y}\\u003cextra\\u003e\\u003c\\u002fextra\\u003e\",\"legendgroup\":\"\",\"marker\":{\"color\":\"#636efa\"},\"name\":\"\",\"notched\":false,\"offsetgroup\":\"\",\"orientation\":\"v\",\"showlegend\":false,\"x0\":\" \",\"xaxis\":\"x\",\"y\":[40,49,37,48,54,39,45,54,37,48,37,58,39,49,42,54,38,43,60,36,43,44,49,44,40,36,53,52,53,51,53,56,54,41,43,32,65,41,48,48,54,54,35,52,43,59,37,50,36,41,50,47,45,41,52,51,31,58,54,52,49,43,45,46,50,37,45,32,52,44,57,44,52,44,55,46,32,35,52,49,55,54,63,52,56,66,65,53,43,55,49,39,52,48,39,58,43,39,56,41,65,51,40,40,46,57,48,34,50,39,59,57,47,38,49,33,38,59,35,34,47,52,46,58,58,54,34,48,54,42,38,46,56,56,61,49,43,39,54,43,52,50,47,53,56,39,42,43,50,54,39,48,40,55,41,56,38,49,44,54,59,49,47,42,52,46,50,48,58,58,29,40,53,49,52,43,54,59,37,46,52,51,52,46,54,58,58,41,50,53,46,50,48,45,41,62,49,42,53,57,47,46,42,31,56,50,35,35,28,54,48,50,56,56,47,30,39,54,55,29,46,51,48,33,55,50,53,38,41,37,37,40,38,41,54,39,41,55,48,48,55,54,55,43,48,54,54,48,45,49,44,48,61,62,55,53,55,36,51,55,46,54,46,59,47,54,52,34,54,47,45,32,55,55,45,59,51,52,57,54,60,49,51,55,42,51,59,53,48,36,48,47,53,65,32,61,50,57,51,47,60,55,53,62,51,51,55,53,58,57,65,60,41,34,53,74,57,56,61,68,59,63,38,62,46,42,45,59,52,60,60,56,38,40,51,62,72,63,63,64,43,64,61,52,51,69,59,48,69,36,53,43,56,58,55,67,46,53,38,53,62,47,56,56,56,64,61,68,57,63,60,66,63,59,61,73,47,65,70,50,60,50,43,38,54,61,42,53,55,61,51,70,61,38,57,38,62,58,52,61,50,51,65,52,47,35,57,62,59,53,62,54,56,56,54,66,63,44,60,55,66,66,65,60,60,60,56,59,62,63,57,62,63,46,63,60,58,64,63,74,52,69,51,60,56,55,54,77,63,55,52,64,60,60,58,59,61,40,61,41,57,63,59,51,59,42,55,63,62,56,53,68,53,60,62,59,51,61,57,56,58,69,67,58,65,63,55,57,65,54,72,75,49,51,60,64,58,61,67,62,65,63,69,51,62,55,75,40,67,58,60,63,35,62,43,63,68,65,48,63,64,61,50,59,55,45,65,61,49,72,50,64,55,63,59,56,62,74,54,57,62,76,54,70,61,48,48,61,66,68,55,62,71,74,53,58,75,56,58,64,54,54,59,55,57,61,41,71,38,55,56,69,64,72,69,56,62,67,57,69,51,48,69,69,64,57,53,37,67,74,63,58,61,64,58,60,57,55,55,56,57,61,61,74,68,51,62,53,62,46,54,62,55,58,62,70,67,57,64,74,65,56,59,60,63,59,53,44,61,57,71,46,53,64,40,67,48,43,47,54,48,46,51,58,71,57,66,37,59,50,48,61,59,42,48,40,62,44,46,59,58,49,44,66,65,42,52,65,63,45,41,61,60,59,62,57,51,44,60,63,57,51,58,44,47,61,57,70,76,67,45,45,39,42,56,58,35,58,41,57,42,62,59,41,50,59,61,54,54,52,47,66,58,64,50,44,67,49,57,63,48,51,60,59,45,55,41,60,54,42,49,46,56,66,56,49,54,57,65,54,54,62,52,52,60,63,66,42,64,54,46,67,56,34,57,64,59,50,51,54,53,52,40,58,41,41,50,54,64,51,46,55,45,56,66,38,62,55,58,43,64,50,53,45,65,69,69,67,68,34,62,51,46,67,50,42,56,41,42,53,43,56,52,62,70,54,70,54,35,48,55,58,54,69,77,68,58,60,51,55,52,60,58,64,37,59,51,43,58,29,41,63,51,54,44,54,65,57,63,35,41,62,43,58,52,61,39,45,52,62,62,53,43,47,52,68,39,53,62,51,60,65,65,60,60,54,44,44,51,59,71,61,55,64,43,58,60,58,49,48,52,44,56,57,67,53,52,43,52,59,64,66,39,57,58,57,47,55,35,61,58,58,58,56,56,67,55,44,63,63,41,59,57,45,68,57,57,38],\"y0\":\" \",\"yaxis\":\"y\",\"type\":\"box\"}],                        {\"template\":{\"data\":{\"histogram2dcontour\":[{\"type\":\"histogram2dcontour\",\"colorbar\":{\"outlinewidth\":0,\"ticks\":\"\"},\"colorscale\":[[0.0,\"#0d0887\"],[0.1111111111111111,\"#46039f\"],[0.2222222222222222,\"#7201a8\"],[0.3333333333333333,\"#9c179e\"],[0.4444444444444444,\"#bd3786\"],[0.5555555555555556,\"#d8576b\"],[0.6666666666666666,\"#ed7953\"],[0.7777777777777778,\"#fb9f3a\"],[0.8888888888888888,\"#fdca26\"],[1.0,\"#f0f921\"]]}],\"choropleth\":[{\"type\":\"choropleth\",\"colorbar\":{\"outlinewidth\":0,\"ticks\":\"\"}}],\"histogram2d\":[{\"type\":\"histogram2d\",\"colorbar\":{\"outlinewidth\":0,\"ticks\":\"\"},\"colorscale\":[[0.0,\"#0d0887\"],[0.1111111111111111,\"#46039f\"],[0.2222222222222222,\"#7201a8\"],[0.3333333333333333,\"#9c179e\"],[0.4444444444444444,\"#bd3786\"],[0.5555555555555556,\"#d8576b\"],[0.6666666666666666,\"#ed7953\"],[0.7777777777777778,\"#fb9f3a\"],[0.8888888888888888,\"#fdca26\"],[1.0,\"#f0f921\"]]}],\"heatmap\":[{\"type\":\"heatmap\",\"colorbar\":{\"outlinewidth\":0,\"ticks\":\"\"},\"colorscale\":[[0.0,\"#0d0887\"],[0.1111111111111111,\"#46039f\"],[0.2222222222222222,\"#7201a8\"],[0.3333333333333333,\"#9c179e\"],[0.4444444444444444,\"#bd3786\"],[0.5555555555555556,\"#d8576b\"],[0.6666666666666666,\"#ed7953\"],[0.7777777777777778,\"#fb9f3a\"],[0.8888888888888888,\"#fdca26\"],[1.0,\"#f0f921\"]]}],\"heatmapgl\":[{\"type\":\"heatmapgl\",\"colorbar\":{\"outlinewidth\":0,\"ticks\":\"\"},\"colorscale\":[[0.0,\"#0d0887\"],[0.1111111111111111,\"#46039f\"],[0.2222222222222222,\"#7201a8\"],[0.3333333333333333,\"#9c179e\"],[0.4444444444444444,\"#bd3786\"],[0.5555555555555556,\"#d8576b\"],[0.6666666666666666,\"#ed7953\"],[0.7777777777777778,\"#fb9f3a\"],[0.8888888888888888,\"#fdca26\"],[1.0,\"#f0f921\"]]}],\"contourcarpet\":[{\"type\":\"contourcarpet\",\"colorbar\":{\"outlinewidth\":0,\"ticks\":\"\"}}],\"contour\":[{\"type\":\"contour\",\"colorbar\":{\"outlinewidth\":0,\"ticks\":\"\"},\"colorscale\":[[0.0,\"#0d0887\"],[0.1111111111111111,\"#46039f\"],[0.2222222222222222,\"#7201a8\"],[0.3333333333333333,\"#9c179e\"],[0.4444444444444444,\"#bd3786\"],[0.5555555555555556,\"#d8576b\"],[0.6666666666666666,\"#ed7953\"],[0.7777777777777778,\"#fb9f3a\"],[0.8888888888888888,\"#fdca26\"],[1.0,\"#f0f921\"]]}],\"surface\":[{\"type\":\"surface\",\"colorbar\":{\"outlinewidth\":0,\"ticks\":\"\"},\"colorscale\":[[0.0,\"#0d0887\"],[0.1111111111111111,\"#46039f\"],[0.2222222222222222,\"#7201a8\"],[0.3333333333333333,\"#9c179e\"],[0.4444444444444444,\"#bd3786\"],[0.5555555555555556,\"#d8576b\"],[0.6666666666666666,\"#ed7953\"],[0.7777777777777778,\"#fb9f3a\"],[0.8888888888888888,\"#fdca26\"],[1.0,\"#f0f921\"]]}],\"mesh3d\":[{\"type\":\"mesh3d\",\"colorbar\":{\"outlinewidth\":0,\"ticks\":\"\"}}],\"scatter\":[{\"fillpattern\":{\"fillmode\":\"overlay\",\"size\":10,\"solidity\":0.2},\"type\":\"scatter\"}],\"parcoords\":[{\"type\":\"parcoords\",\"line\":{\"colorbar\":{\"outlinewidth\":0,\"ticks\":\"\"}}}],\"scatterpolargl\":[{\"type\":\"scatterpolargl\",\"marker\":{\"colorbar\":{\"outlinewidth\":0,\"ticks\":\"\"}}}],\"bar\":[{\"error_x\":{\"color\":\"#2a3f5f\"},\"error_y\":{\"color\":\"#2a3f5f\"},\"marker\":{\"line\":{\"color\":\"#E5ECF6\",\"width\":0.5},\"pattern\":{\"fillmode\":\"overlay\",\"size\":10,\"solidity\":0.2}},\"type\":\"bar\"}],\"scattergeo\":[{\"type\":\"scattergeo\",\"marker\":{\"colorbar\":{\"outlinewidth\":0,\"ticks\":\"\"}}}],\"scatterpolar\":[{\"type\":\"scatterpolar\",\"marker\":{\"colorbar\":{\"outlinewidth\":0,\"ticks\":\"\"}}}],\"histogram\":[{\"marker\":{\"pattern\":{\"fillmode\":\"overlay\",\"size\":10,\"solidity\":0.2}},\"type\":\"histogram\"}],\"scattergl\":[{\"type\":\"scattergl\",\"marker\":{\"colorbar\":{\"outlinewidth\":0,\"ticks\":\"\"}}}],\"scatter3d\":[{\"type\":\"scatter3d\",\"line\":{\"colorbar\":{\"outlinewidth\":0,\"ticks\":\"\"}},\"marker\":{\"colorbar\":{\"outlinewidth\":0,\"ticks\":\"\"}}}],\"scattermapbox\":[{\"type\":\"scattermapbox\",\"marker\":{\"colorbar\":{\"outlinewidth\":0,\"ticks\":\"\"}}}],\"scatterternary\":[{\"type\":\"scatterternary\",\"marker\":{\"colorbar\":{\"outlinewidth\":0,\"ticks\":\"\"}}}],\"scattercarpet\":[{\"type\":\"scattercarpet\",\"marker\":{\"colorbar\":{\"outlinewidth\":0,\"ticks\":\"\"}}}],\"carpet\":[{\"aaxis\":{\"endlinecolor\":\"#2a3f5f\",\"gridcolor\":\"white\",\"linecolor\":\"white\",\"minorgridcolor\":\"white\",\"startlinecolor\":\"#2a3f5f\"},\"baxis\":{\"endlinecolor\":\"#2a3f5f\",\"gridcolor\":\"white\",\"linecolor\":\"white\",\"minorgridcolor\":\"white\",\"startlinecolor\":\"#2a3f5f\"},\"type\":\"carpet\"}],\"table\":[{\"cells\":{\"fill\":{\"color\":\"#EBF0F8\"},\"line\":{\"color\":\"white\"}},\"header\":{\"fill\":{\"color\":\"#C8D4E3\"},\"line\":{\"color\":\"white\"}},\"type\":\"table\"}],\"barpolar\":[{\"marker\":{\"line\":{\"color\":\"#E5ECF6\",\"width\":0.5},\"pattern\":{\"fillmode\":\"overlay\",\"size\":10,\"solidity\":0.2}},\"type\":\"barpolar\"}],\"pie\":[{\"automargin\":true,\"type\":\"pie\"}]},\"layout\":{\"autotypenumbers\":\"strict\",\"colorway\":[\"#636efa\",\"#EF553B\",\"#00cc96\",\"#ab63fa\",\"#FFA15A\",\"#19d3f3\",\"#FF6692\",\"#B6E880\",\"#FF97FF\",\"#FECB52\"],\"font\":{\"color\":\"#2a3f5f\"},\"hovermode\":\"closest\",\"hoverlabel\":{\"align\":\"left\"},\"paper_bgcolor\":\"white\",\"plot_bgcolor\":\"#E5ECF6\",\"polar\":{\"bgcolor\":\"#E5ECF6\",\"angularaxis\":{\"gridcolor\":\"white\",\"linecolor\":\"white\",\"ticks\":\"\"},\"radialaxis\":{\"gridcolor\":\"white\",\"linecolor\":\"white\",\"ticks\":\"\"}},\"ternary\":{\"bgcolor\":\"#E5ECF6\",\"aaxis\":{\"gridcolor\":\"white\",\"linecolor\":\"white\",\"ticks\":\"\"},\"baxis\":{\"gridcolor\":\"white\",\"linecolor\":\"white\",\"ticks\":\"\"},\"caxis\":{\"gridcolor\":\"white\",\"linecolor\":\"white\",\"ticks\":\"\"}},\"coloraxis\":{\"colorbar\":{\"outlinewidth\":0,\"ticks\":\"\"}},\"colorscale\":{\"sequential\":[[0.0,\"#0d0887\"],[0.1111111111111111,\"#46039f\"],[0.2222222222222222,\"#7201a8\"],[0.3333333333333333,\"#9c179e\"],[0.4444444444444444,\"#bd3786\"],[0.5555555555555556,\"#d8576b\"],[0.6666666666666666,\"#ed7953\"],[0.7777777777777778,\"#fb9f3a\"],[0.8888888888888888,\"#fdca26\"],[1.0,\"#f0f921\"]],\"sequentialminus\":[[0.0,\"#0d0887\"],[0.1111111111111111,\"#46039f\"],[0.2222222222222222,\"#7201a8\"],[0.3333333333333333,\"#9c179e\"],[0.4444444444444444,\"#bd3786\"],[0.5555555555555556,\"#d8576b\"],[0.6666666666666666,\"#ed7953\"],[0.7777777777777778,\"#fb9f3a\"],[0.8888888888888888,\"#fdca26\"],[1.0,\"#f0f921\"]],\"diverging\":[[0,\"#8e0152\"],[0.1,\"#c51b7d\"],[0.2,\"#de77ae\"],[0.3,\"#f1b6da\"],[0.4,\"#fde0ef\"],[0.5,\"#f7f7f7\"],[0.6,\"#e6f5d0\"],[0.7,\"#b8e186\"],[0.8,\"#7fbc41\"],[0.9,\"#4d9221\"],[1,\"#276419\"]]},\"xaxis\":{\"gridcolor\":\"white\",\"linecolor\":\"white\",\"ticks\":\"\",\"title\":{\"standoff\":15},\"zerolinecolor\":\"white\",\"automargin\":true,\"zerolinewidth\":2},\"yaxis\":{\"gridcolor\":\"white\",\"linecolor\":\"white\",\"ticks\":\"\",\"title\":{\"standoff\":15},\"zerolinecolor\":\"white\",\"automargin\":true,\"zerolinewidth\":2},\"scene\":{\"xaxis\":{\"backgroundcolor\":\"#E5ECF6\",\"gridcolor\":\"white\",\"linecolor\":\"white\",\"showbackground\":true,\"ticks\":\"\",\"zerolinecolor\":\"white\",\"gridwidth\":2},\"yaxis\":{\"backgroundcolor\":\"#E5ECF6\",\"gridcolor\":\"white\",\"linecolor\":\"white\",\"showbackground\":true,\"ticks\":\"\",\"zerolinecolor\":\"white\",\"gridwidth\":2},\"zaxis\":{\"backgroundcolor\":\"#E5ECF6\",\"gridcolor\":\"white\",\"linecolor\":\"white\",\"showbackground\":true,\"ticks\":\"\",\"zerolinecolor\":\"white\",\"gridwidth\":2}},\"shapedefaults\":{\"line\":{\"color\":\"#2a3f5f\"}},\"annotationdefaults\":{\"arrowcolor\":\"#2a3f5f\",\"arrowhead\":0,\"arrowwidth\":1},\"geo\":{\"bgcolor\":\"white\",\"landcolor\":\"#E5ECF6\",\"subunitcolor\":\"white\",\"showland\":true,\"showlakes\":true,\"lakecolor\":\"white\"},\"title\":{\"x\":0.05},\"mapbox\":{\"style\":\"light\"}}},\"xaxis\":{\"anchor\":\"y\",\"domain\":[0.0,1.0]},\"yaxis\":{\"anchor\":\"x\",\"domain\":[0.0,1.0],\"title\":{\"text\":\"Age\"}},\"legend\":{\"tracegroupgap\":0},\"margin\":{\"t\":60},\"boxmode\":\"group\"},                        {\"responsive\": true}                    ).then(function(){\n",
              "                            \n",
              "var gd = document.getElementById('af387e82-b990-42b7-a04a-df540301e85c');\n",
              "var x = new MutationObserver(function (mutations, observer) {{\n",
              "        var display = window.getComputedStyle(gd).display;\n",
              "        if (!display || display === 'none') {{\n",
              "            console.log([gd, 'removed!']);\n",
              "            Plotly.purge(gd);\n",
              "            observer.disconnect();\n",
              "        }}\n",
              "}});\n",
              "\n",
              "// Listen for the removal of the full notebook cells\n",
              "var notebookContainer = gd.closest('#notebook-container');\n",
              "if (notebookContainer) {{\n",
              "    x.observe(notebookContainer, {childList: true});\n",
              "}}\n",
              "\n",
              "// Listen for the clearing of the current output cell\n",
              "var outputEl = gd.closest('.output');\n",
              "if (outputEl) {{\n",
              "    x.observe(outputEl, {childList: true});\n",
              "}}\n",
              "\n",
              "                        })                };                            </script>        </div>\n",
              "</body>\n",
              "</html>"
            ]
          },
          "metadata": {}
        },
        {
          "output_type": "stream",
          "name": "stdout",
          "text": [
            "Tipo da coluna:\n",
            " object\n",
            "Valores unicos:\n",
            " ['M' 'F']\n",
            "\n",
            "Quantidades de unicos:\n",
            " 2\n",
            "\n",
            "Quantidades de valores nulos:\n",
            " 0\n",
            "\n",
            "Analisando a media:\n",
            " count     918\n",
            "unique      2\n",
            "top         M\n",
            "freq      725\n",
            "Name: Sex, dtype: object\n",
            "\n",
            "Quantidades por opcao:\n",
            " Sex\n",
            "F    193\n",
            "M    725\n",
            "Name: count, dtype: int64\n"
          ]
        },
        {
          "output_type": "display_data",
          "data": {
            "text/html": [
              "<html>\n",
              "<head><meta charset=\"utf-8\" /></head>\n",
              "<body>\n",
              "    <div>            <script src=\"https://cdnjs.cloudflare.com/ajax/libs/mathjax/2.7.5/MathJax.js?config=TeX-AMS-MML_SVG\"></script><script type=\"text/javascript\">if (window.MathJax && window.MathJax.Hub && window.MathJax.Hub.Config) {window.MathJax.Hub.Config({SVG: {font: \"STIX-Web\"}});}</script>                <script type=\"text/javascript\">window.PlotlyConfig = {MathJaxConfig: 'local'};</script>\n",
              "        <script charset=\"utf-8\" src=\"https://cdn.plot.ly/plotly-2.24.1.min.js\"></script>                <div id=\"fb4f94ed-d21c-4240-9321-d4cad3d2c0bf\" class=\"plotly-graph-div\" style=\"height:525px; width:100%;\"></div>            <script type=\"text/javascript\">                                    window.PLOTLYENV=window.PLOTLYENV || {};                                    if (document.getElementById(\"fb4f94ed-d21c-4240-9321-d4cad3d2c0bf\")) {                    Plotly.newPlot(                        \"fb4f94ed-d21c-4240-9321-d4cad3d2c0bf\",                        [{\"alignmentgroup\":\"True\",\"hovertemplate\":\"Sex=%{x}\\u003cbr\\u003ecount=%{y}\\u003cextra\\u003e\\u003c\\u002fextra\\u003e\",\"legendgroup\":\"\",\"marker\":{\"color\":\"#636efa\",\"pattern\":{\"shape\":\"\"}},\"name\":\"\",\"offsetgroup\":\"\",\"orientation\":\"v\",\"showlegend\":false,\"textposition\":\"auto\",\"x\":[\"M\",\"F\",\"M\",\"F\",\"M\",\"M\",\"F\",\"M\",\"M\",\"F\",\"F\",\"M\",\"M\",\"M\",\"F\",\"F\",\"M\",\"F\",\"M\",\"M\",\"F\",\"M\",\"F\",\"M\",\"M\",\"M\",\"M\",\"M\",\"F\",\"M\",\"M\",\"M\",\"M\",\"M\",\"F\",\"M\",\"M\",\"F\",\"F\",\"F\",\"F\",\"F\",\"M\",\"M\",\"M\",\"M\",\"M\",\"M\",\"M\",\"M\",\"M\",\"F\",\"M\",\"F\",\"F\",\"F\",\"M\",\"M\",\"M\",\"M\",\"M\",\"F\",\"M\",\"M\",\"F\",\"F\",\"F\",\"M\",\"M\",\"M\",\"M\",\"M\",\"M\",\"F\",\"M\",\"M\",\"M\",\"F\",\"M\",\"M\",\"M\",\"M\",\"M\",\"M\",\"M\",\"M\",\"M\",\"F\",\"M\",\"M\",\"F\",\"M\",\"F\",\"M\",\"F\",\"M\",\"M\",\"M\",\"M\",\"M\",\"M\",\"M\",\"F\",\"M\",\"M\",\"M\",\"F\",\"M\",\"M\",\"M\",\"F\",\"M\",\"M\",\"M\",\"F\",\"F\",\"M\",\"F\",\"F\",\"M\",\"F\",\"F\",\"M\",\"F\",\"M\",\"M\",\"F\",\"F\",\"F\",\"M\",\"M\",\"M\",\"M\",\"M\",\"F\",\"M\",\"F\",\"M\",\"M\",\"M\",\"M\",\"M\",\"M\",\"M\",\"F\",\"M\",\"M\",\"F\",\"M\",\"M\",\"M\",\"M\",\"M\",\"M\",\"M\",\"M\",\"M\",\"M\",\"M\",\"M\",\"M\",\"M\",\"M\",\"M\",\"F\",\"M\",\"M\",\"M\",\"M\",\"M\",\"M\",\"M\",\"M\",\"M\",\"M\",\"M\",\"M\",\"M\",\"M\",\"F\",\"M\",\"M\",\"M\",\"M\",\"F\",\"M\",\"M\",\"M\",\"F\",\"M\",\"M\",\"M\",\"M\",\"M\",\"F\",\"F\",\"M\",\"M\",\"M\",\"F\",\"M\",\"M\",\"M\",\"F\",\"M\",\"M\",\"M\",\"M\",\"M\",\"M\",\"M\",\"F\",\"M\",\"F\",\"M\",\"F\",\"M\",\"M\",\"M\",\"M\",\"M\",\"F\",\"F\",\"M\",\"M\",\"M\",\"M\",\"M\",\"M\",\"F\",\"M\",\"M\",\"F\",\"M\",\"F\",\"M\",\"M\",\"M\",\"M\",\"M\",\"M\",\"M\",\"M\",\"F\",\"M\",\"M\",\"M\",\"M\",\"M\",\"M\",\"M\",\"M\",\"M\",\"M\",\"M\",\"F\",\"F\",\"M\",\"F\",\"F\",\"M\",\"F\",\"M\",\"M\",\"M\",\"M\",\"M\",\"M\",\"M\",\"F\",\"M\",\"F\",\"M\",\"M\",\"F\",\"M\",\"M\",\"M\",\"F\",\"F\",\"M\",\"M\",\"F\",\"F\",\"M\",\"F\",\"M\",\"M\",\"F\",\"M\",\"M\",\"F\",\"M\",\"M\",\"M\",\"M\",\"M\",\"M\",\"M\",\"M\",\"M\",\"M\",\"M\",\"F\",\"M\",\"F\",\"M\",\"M\",\"M\",\"M\",\"M\",\"M\",\"M\",\"M\",\"M\",\"M\",\"M\",\"M\",\"M\",\"M\",\"M\",\"M\",\"F\",\"M\",\"M\",\"M\",\"M\",\"M\",\"M\",\"M\",\"M\",\"M\",\"M\",\"M\",\"M\",\"M\",\"M\",\"M\",\"M\",\"F\",\"M\",\"M\",\"M\",\"M\",\"M\",\"M\",\"M\",\"M\",\"M\",\"M\",\"M\",\"M\",\"M\",\"M\",\"M\",\"M\",\"M\",\"M\",\"M\",\"M\",\"M\",\"M\",\"M\",\"M\",\"M\",\"F\",\"M\",\"M\",\"M\",\"M\",\"M\",\"M\",\"M\",\"M\",\"M\",\"F\",\"M\",\"M\",\"M\",\"M\",\"M\",\"M\",\"M\",\"F\",\"M\",\"M\",\"M\",\"M\",\"M\",\"M\",\"M\",\"M\",\"M\",\"M\",\"M\",\"M\",\"F\",\"M\",\"M\",\"M\",\"F\",\"M\",\"M\",\"M\",\"M\",\"M\",\"M\",\"M\",\"M\",\"M\",\"M\",\"M\",\"M\",\"M\",\"M\",\"F\",\"M\",\"M\",\"M\",\"M\",\"M\",\"M\",\"M\",\"M\",\"M\",\"M\",\"M\",\"M\",\"M\",\"M\",\"M\",\"M\",\"M\",\"M\",\"M\",\"M\",\"M\",\"M\",\"M\",\"M\",\"M\",\"M\",\"M\",\"M\",\"M\",\"M\",\"M\",\"M\",\"M\",\"M\",\"M\",\"M\",\"M\",\"M\",\"M\",\"M\",\"M\",\"M\",\"M\",\"M\",\"M\",\"M\",\"M\",\"M\",\"M\",\"M\",\"M\",\"F\",\"M\",\"M\",\"M\",\"M\",\"M\",\"M\",\"M\",\"M\",\"M\",\"M\",\"M\",\"M\",\"M\",\"M\",\"M\",\"M\",\"M\",\"M\",\"M\",\"M\",\"M\",\"M\",\"M\",\"M\",\"M\",\"M\",\"M\",\"F\",\"M\",\"M\",\"M\",\"M\",\"M\",\"M\",\"M\",\"M\",\"M\",\"M\",\"M\",\"M\",\"M\",\"M\",\"M\",\"M\",\"M\",\"M\",\"M\",\"M\",\"M\",\"M\",\"M\",\"M\",\"M\",\"M\",\"M\",\"M\",\"M\",\"M\",\"M\",\"M\",\"M\",\"M\",\"M\",\"M\",\"M\",\"M\",\"M\",\"M\",\"M\",\"M\",\"M\",\"M\",\"M\",\"M\",\"F\",\"M\",\"F\",\"M\",\"M\",\"M\",\"M\",\"M\",\"M\",\"M\",\"M\",\"M\",\"M\",\"M\",\"M\",\"M\",\"M\",\"M\",\"M\",\"M\",\"M\",\"M\",\"M\",\"M\",\"M\",\"M\",\"M\",\"M\",\"M\",\"M\",\"M\",\"M\",\"M\",\"M\",\"M\",\"M\",\"M\",\"M\",\"M\",\"M\",\"M\",\"M\",\"M\",\"M\",\"M\",\"M\",\"M\",\"M\",\"M\",\"M\",\"M\",\"M\",\"M\",\"M\",\"M\",\"M\",\"M\",\"M\",\"M\",\"M\",\"M\",\"M\",\"M\",\"F\",\"M\",\"M\",\"M\",\"M\",\"F\",\"M\",\"M\",\"M\",\"M\",\"M\",\"F\",\"M\",\"M\",\"F\",\"M\",\"M\",\"M\",\"M\",\"F\",\"M\",\"M\",\"M\",\"M\",\"F\",\"F\",\"M\",\"M\",\"M\",\"M\",\"M\",\"M\",\"M\",\"M\",\"F\",\"F\",\"F\",\"F\",\"M\",\"F\",\"M\",\"M\",\"F\",\"M\",\"M\",\"M\",\"M\",\"M\",\"M\",\"M\",\"M\",\"F\",\"M\",\"M\",\"M\",\"M\",\"M\",\"M\",\"M\",\"F\",\"M\",\"M\",\"F\",\"F\",\"F\",\"F\",\"M\",\"F\",\"F\",\"M\",\"M\",\"F\",\"M\",\"F\",\"M\",\"M\",\"M\",\"F\",\"F\",\"M\",\"M\",\"F\",\"M\",\"F\",\"F\",\"M\",\"M\",\"F\",\"F\",\"M\",\"M\",\"M\",\"M\",\"M\",\"M\",\"M\",\"M\",\"M\",\"F\",\"M\",\"M\",\"F\",\"M\",\"M\",\"M\",\"M\",\"M\",\"M\",\"F\",\"F\",\"F\",\"M\",\"F\",\"M\",\"M\",\"M\",\"M\",\"F\",\"M\",\"F\",\"F\",\"M\",\"F\",\"F\",\"M\",\"F\",\"M\",\"F\",\"F\",\"M\",\"M\",\"M\",\"M\",\"F\",\"M\",\"F\",\"M\",\"F\",\"M\",\"M\",\"F\",\"M\",\"M\",\"M\",\"M\",\"F\",\"F\",\"M\",\"F\",\"M\",\"M\",\"M\",\"M\",\"M\",\"M\",\"M\",\"M\",\"M\",\"M\",\"F\",\"M\",\"F\",\"F\",\"F\",\"F\",\"F\",\"M\",\"M\",\"M\",\"F\",\"M\",\"F\",\"M\",\"M\",\"M\",\"F\",\"F\",\"M\",\"F\",\"M\",\"M\",\"M\",\"M\",\"F\",\"M\",\"F\",\"M\",\"M\",\"M\",\"M\",\"M\",\"F\",\"M\",\"F\",\"M\",\"M\",\"M\",\"M\",\"F\",\"M\",\"M\",\"M\",\"M\",\"M\",\"M\",\"F\",\"F\",\"F\",\"F\",\"M\",\"M\",\"M\",\"M\",\"M\",\"M\",\"M\",\"F\",\"M\",\"M\",\"M\",\"M\",\"M\",\"F\",\"M\",\"M\",\"F\",\"F\",\"M\",\"M\",\"M\",\"M\",\"M\",\"M\",\"M\",\"F\",\"M\",\"F\",\"F\",\"F\",\"M\",\"F\",\"M\",\"M\",\"M\",\"M\",\"F\",\"F\",\"M\",\"M\",\"M\",\"M\",\"M\",\"F\",\"F\",\"F\",\"M\",\"M\",\"F\",\"M\",\"M\",\"M\",\"M\",\"M\",\"M\",\"M\",\"F\",\"M\",\"M\",\"M\",\"M\",\"F\",\"M\",\"M\",\"M\",\"M\",\"M\",\"M\",\"F\",\"M\",\"M\",\"F\",\"M\",\"M\",\"M\",\"M\",\"M\",\"F\",\"F\",\"M\",\"F\",\"M\",\"M\",\"F\",\"M\",\"M\",\"M\",\"F\",\"M\",\"M\",\"M\",\"M\",\"F\",\"M\",\"M\",\"F\",\"M\",\"M\",\"F\",\"M\",\"M\",\"M\",\"F\",\"M\"],\"xaxis\":\"x\",\"y\":[1,1,1,1,1,1,1,1,1,1,1,1,1,1,1,1,1,1,1,1,1,1,1,1,1,1,1,1,1,1,1,1,1,1,1,1,1,1,1,1,1,1,1,1,1,1,1,1,1,1,1,1,1,1,1,1,1,1,1,1,1,1,1,1,1,1,1,1,1,1,1,1,1,1,1,1,1,1,1,1,1,1,1,1,1,1,1,1,1,1,1,1,1,1,1,1,1,1,1,1,1,1,1,1,1,1,1,1,1,1,1,1,1,1,1,1,1,1,1,1,1,1,1,1,1,1,1,1,1,1,1,1,1,1,1,1,1,1,1,1,1,1,1,1,1,1,1,1,1,1,1,1,1,1,1,1,1,1,1,1,1,1,1,1,1,1,1,1,1,1,1,1,1,1,1,1,1,1,1,1,1,1,1,1,1,1,1,1,1,1,1,1,1,1,1,1,1,1,1,1,1,1,1,1,1,1,1,1,1,1,1,1,1,1,1,1,1,1,1,1,1,1,1,1,1,1,1,1,1,1,1,1,1,1,1,1,1,1,1,1,1,1,1,1,1,1,1,1,1,1,1,1,1,1,1,1,1,1,1,1,1,1,1,1,1,1,1,1,1,1,1,1,1,1,1,1,1,1,1,1,1,1,1,1,1,1,1,1,1,1,1,1,1,1,1,1,1,1,1,1,1,1,1,1,1,1,1,1,1,1,1,1,1,1,1,1,1,1,1,1,1,1,1,1,1,1,1,1,1,1,1,1,1,1,1,1,1,1,1,1,1,1,1,1,1,1,1,1,1,1,1,1,1,1,1,1,1,1,1,1,1,1,1,1,1,1,1,1,1,1,1,1,1,1,1,1,1,1,1,1,1,1,1,1,1,1,1,1,1,1,1,1,1,1,1,1,1,1,1,1,1,1,1,1,1,1,1,1,1,1,1,1,1,1,1,1,1,1,1,1,1,1,1,1,1,1,1,1,1,1,1,1,1,1,1,1,1,1,1,1,1,1,1,1,1,1,1,1,1,1,1,1,1,1,1,1,1,1,1,1,1,1,1,1,1,1,1,1,1,1,1,1,1,1,1,1,1,1,1,1,1,1,1,1,1,1,1,1,1,1,1,1,1,1,1,1,1,1,1,1,1,1,1,1,1,1,1,1,1,1,1,1,1,1,1,1,1,1,1,1,1,1,1,1,1,1,1,1,1,1,1,1,1,1,1,1,1,1,1,1,1,1,1,1,1,1,1,1,1,1,1,1,1,1,1,1,1,1,1,1,1,1,1,1,1,1,1,1,1,1,1,1,1,1,1,1,1,1,1,1,1,1,1,1,1,1,1,1,1,1,1,1,1,1,1,1,1,1,1,1,1,1,1,1,1,1,1,1,1,1,1,1,1,1,1,1,1,1,1,1,1,1,1,1,1,1,1,1,1,1,1,1,1,1,1,1,1,1,1,1,1,1,1,1,1,1,1,1,1,1,1,1,1,1,1,1,1,1,1,1,1,1,1,1,1,1,1,1,1,1,1,1,1,1,1,1,1,1,1,1,1,1,1,1,1,1,1,1,1,1,1,1,1,1,1,1,1,1,1,1,1,1,1,1,1,1,1,1,1,1,1,1,1,1,1,1,1,1,1,1,1,1,1,1,1,1,1,1,1,1,1,1,1,1,1,1,1,1,1,1,1,1,1,1,1,1,1,1,1,1,1,1,1,1,1,1,1,1,1,1,1,1,1,1,1,1,1,1,1,1,1,1,1,1,1,1,1,1,1,1,1,1,1,1,1,1,1,1,1,1,1,1,1,1,1,1,1,1,1,1,1,1,1,1,1,1,1,1,1,1,1,1,1,1,1,1,1,1,1,1,1,1,1,1,1,1,1,1,1,1,1,1,1,1,1,1,1,1,1,1,1,1,1,1,1,1,1,1,1,1,1,1,1,1,1,1,1,1,1,1,1,1,1,1,1,1,1,1,1,1,1,1,1,1,1,1,1,1,1,1,1,1,1,1,1,1,1,1,1,1,1,1,1,1,1,1,1,1,1,1,1,1,1,1,1,1,1,1,1,1,1,1,1,1,1,1,1,1],\"yaxis\":\"y\",\"type\":\"bar\"}],                        {\"template\":{\"data\":{\"histogram2dcontour\":[{\"type\":\"histogram2dcontour\",\"colorbar\":{\"outlinewidth\":0,\"ticks\":\"\"},\"colorscale\":[[0.0,\"#0d0887\"],[0.1111111111111111,\"#46039f\"],[0.2222222222222222,\"#7201a8\"],[0.3333333333333333,\"#9c179e\"],[0.4444444444444444,\"#bd3786\"],[0.5555555555555556,\"#d8576b\"],[0.6666666666666666,\"#ed7953\"],[0.7777777777777778,\"#fb9f3a\"],[0.8888888888888888,\"#fdca26\"],[1.0,\"#f0f921\"]]}],\"choropleth\":[{\"type\":\"choropleth\",\"colorbar\":{\"outlinewidth\":0,\"ticks\":\"\"}}],\"histogram2d\":[{\"type\":\"histogram2d\",\"colorbar\":{\"outlinewidth\":0,\"ticks\":\"\"},\"colorscale\":[[0.0,\"#0d0887\"],[0.1111111111111111,\"#46039f\"],[0.2222222222222222,\"#7201a8\"],[0.3333333333333333,\"#9c179e\"],[0.4444444444444444,\"#bd3786\"],[0.5555555555555556,\"#d8576b\"],[0.6666666666666666,\"#ed7953\"],[0.7777777777777778,\"#fb9f3a\"],[0.8888888888888888,\"#fdca26\"],[1.0,\"#f0f921\"]]}],\"heatmap\":[{\"type\":\"heatmap\",\"colorbar\":{\"outlinewidth\":0,\"ticks\":\"\"},\"colorscale\":[[0.0,\"#0d0887\"],[0.1111111111111111,\"#46039f\"],[0.2222222222222222,\"#7201a8\"],[0.3333333333333333,\"#9c179e\"],[0.4444444444444444,\"#bd3786\"],[0.5555555555555556,\"#d8576b\"],[0.6666666666666666,\"#ed7953\"],[0.7777777777777778,\"#fb9f3a\"],[0.8888888888888888,\"#fdca26\"],[1.0,\"#f0f921\"]]}],\"heatmapgl\":[{\"type\":\"heatmapgl\",\"colorbar\":{\"outlinewidth\":0,\"ticks\":\"\"},\"colorscale\":[[0.0,\"#0d0887\"],[0.1111111111111111,\"#46039f\"],[0.2222222222222222,\"#7201a8\"],[0.3333333333333333,\"#9c179e\"],[0.4444444444444444,\"#bd3786\"],[0.5555555555555556,\"#d8576b\"],[0.6666666666666666,\"#ed7953\"],[0.7777777777777778,\"#fb9f3a\"],[0.8888888888888888,\"#fdca26\"],[1.0,\"#f0f921\"]]}],\"contourcarpet\":[{\"type\":\"contourcarpet\",\"colorbar\":{\"outlinewidth\":0,\"ticks\":\"\"}}],\"contour\":[{\"type\":\"contour\",\"colorbar\":{\"outlinewidth\":0,\"ticks\":\"\"},\"colorscale\":[[0.0,\"#0d0887\"],[0.1111111111111111,\"#46039f\"],[0.2222222222222222,\"#7201a8\"],[0.3333333333333333,\"#9c179e\"],[0.4444444444444444,\"#bd3786\"],[0.5555555555555556,\"#d8576b\"],[0.6666666666666666,\"#ed7953\"],[0.7777777777777778,\"#fb9f3a\"],[0.8888888888888888,\"#fdca26\"],[1.0,\"#f0f921\"]]}],\"surface\":[{\"type\":\"surface\",\"colorbar\":{\"outlinewidth\":0,\"ticks\":\"\"},\"colorscale\":[[0.0,\"#0d0887\"],[0.1111111111111111,\"#46039f\"],[0.2222222222222222,\"#7201a8\"],[0.3333333333333333,\"#9c179e\"],[0.4444444444444444,\"#bd3786\"],[0.5555555555555556,\"#d8576b\"],[0.6666666666666666,\"#ed7953\"],[0.7777777777777778,\"#fb9f3a\"],[0.8888888888888888,\"#fdca26\"],[1.0,\"#f0f921\"]]}],\"mesh3d\":[{\"type\":\"mesh3d\",\"colorbar\":{\"outlinewidth\":0,\"ticks\":\"\"}}],\"scatter\":[{\"fillpattern\":{\"fillmode\":\"overlay\",\"size\":10,\"solidity\":0.2},\"type\":\"scatter\"}],\"parcoords\":[{\"type\":\"parcoords\",\"line\":{\"colorbar\":{\"outlinewidth\":0,\"ticks\":\"\"}}}],\"scatterpolargl\":[{\"type\":\"scatterpolargl\",\"marker\":{\"colorbar\":{\"outlinewidth\":0,\"ticks\":\"\"}}}],\"bar\":[{\"error_x\":{\"color\":\"#2a3f5f\"},\"error_y\":{\"color\":\"#2a3f5f\"},\"marker\":{\"line\":{\"color\":\"#E5ECF6\",\"width\":0.5},\"pattern\":{\"fillmode\":\"overlay\",\"size\":10,\"solidity\":0.2}},\"type\":\"bar\"}],\"scattergeo\":[{\"type\":\"scattergeo\",\"marker\":{\"colorbar\":{\"outlinewidth\":0,\"ticks\":\"\"}}}],\"scatterpolar\":[{\"type\":\"scatterpolar\",\"marker\":{\"colorbar\":{\"outlinewidth\":0,\"ticks\":\"\"}}}],\"histogram\":[{\"marker\":{\"pattern\":{\"fillmode\":\"overlay\",\"size\":10,\"solidity\":0.2}},\"type\":\"histogram\"}],\"scattergl\":[{\"type\":\"scattergl\",\"marker\":{\"colorbar\":{\"outlinewidth\":0,\"ticks\":\"\"}}}],\"scatter3d\":[{\"type\":\"scatter3d\",\"line\":{\"colorbar\":{\"outlinewidth\":0,\"ticks\":\"\"}},\"marker\":{\"colorbar\":{\"outlinewidth\":0,\"ticks\":\"\"}}}],\"scattermapbox\":[{\"type\":\"scattermapbox\",\"marker\":{\"colorbar\":{\"outlinewidth\":0,\"ticks\":\"\"}}}],\"scatterternary\":[{\"type\":\"scatterternary\",\"marker\":{\"colorbar\":{\"outlinewidth\":0,\"ticks\":\"\"}}}],\"scattercarpet\":[{\"type\":\"scattercarpet\",\"marker\":{\"colorbar\":{\"outlinewidth\":0,\"ticks\":\"\"}}}],\"carpet\":[{\"aaxis\":{\"endlinecolor\":\"#2a3f5f\",\"gridcolor\":\"white\",\"linecolor\":\"white\",\"minorgridcolor\":\"white\",\"startlinecolor\":\"#2a3f5f\"},\"baxis\":{\"endlinecolor\":\"#2a3f5f\",\"gridcolor\":\"white\",\"linecolor\":\"white\",\"minorgridcolor\":\"white\",\"startlinecolor\":\"#2a3f5f\"},\"type\":\"carpet\"}],\"table\":[{\"cells\":{\"fill\":{\"color\":\"#EBF0F8\"},\"line\":{\"color\":\"white\"}},\"header\":{\"fill\":{\"color\":\"#C8D4E3\"},\"line\":{\"color\":\"white\"}},\"type\":\"table\"}],\"barpolar\":[{\"marker\":{\"line\":{\"color\":\"#E5ECF6\",\"width\":0.5},\"pattern\":{\"fillmode\":\"overlay\",\"size\":10,\"solidity\":0.2}},\"type\":\"barpolar\"}],\"pie\":[{\"automargin\":true,\"type\":\"pie\"}]},\"layout\":{\"autotypenumbers\":\"strict\",\"colorway\":[\"#636efa\",\"#EF553B\",\"#00cc96\",\"#ab63fa\",\"#FFA15A\",\"#19d3f3\",\"#FF6692\",\"#B6E880\",\"#FF97FF\",\"#FECB52\"],\"font\":{\"color\":\"#2a3f5f\"},\"hovermode\":\"closest\",\"hoverlabel\":{\"align\":\"left\"},\"paper_bgcolor\":\"white\",\"plot_bgcolor\":\"#E5ECF6\",\"polar\":{\"bgcolor\":\"#E5ECF6\",\"angularaxis\":{\"gridcolor\":\"white\",\"linecolor\":\"white\",\"ticks\":\"\"},\"radialaxis\":{\"gridcolor\":\"white\",\"linecolor\":\"white\",\"ticks\":\"\"}},\"ternary\":{\"bgcolor\":\"#E5ECF6\",\"aaxis\":{\"gridcolor\":\"white\",\"linecolor\":\"white\",\"ticks\":\"\"},\"baxis\":{\"gridcolor\":\"white\",\"linecolor\":\"white\",\"ticks\":\"\"},\"caxis\":{\"gridcolor\":\"white\",\"linecolor\":\"white\",\"ticks\":\"\"}},\"coloraxis\":{\"colorbar\":{\"outlinewidth\":0,\"ticks\":\"\"}},\"colorscale\":{\"sequential\":[[0.0,\"#0d0887\"],[0.1111111111111111,\"#46039f\"],[0.2222222222222222,\"#7201a8\"],[0.3333333333333333,\"#9c179e\"],[0.4444444444444444,\"#bd3786\"],[0.5555555555555556,\"#d8576b\"],[0.6666666666666666,\"#ed7953\"],[0.7777777777777778,\"#fb9f3a\"],[0.8888888888888888,\"#fdca26\"],[1.0,\"#f0f921\"]],\"sequentialminus\":[[0.0,\"#0d0887\"],[0.1111111111111111,\"#46039f\"],[0.2222222222222222,\"#7201a8\"],[0.3333333333333333,\"#9c179e\"],[0.4444444444444444,\"#bd3786\"],[0.5555555555555556,\"#d8576b\"],[0.6666666666666666,\"#ed7953\"],[0.7777777777777778,\"#fb9f3a\"],[0.8888888888888888,\"#fdca26\"],[1.0,\"#f0f921\"]],\"diverging\":[[0,\"#8e0152\"],[0.1,\"#c51b7d\"],[0.2,\"#de77ae\"],[0.3,\"#f1b6da\"],[0.4,\"#fde0ef\"],[0.5,\"#f7f7f7\"],[0.6,\"#e6f5d0\"],[0.7,\"#b8e186\"],[0.8,\"#7fbc41\"],[0.9,\"#4d9221\"],[1,\"#276419\"]]},\"xaxis\":{\"gridcolor\":\"white\",\"linecolor\":\"white\",\"ticks\":\"\",\"title\":{\"standoff\":15},\"zerolinecolor\":\"white\",\"automargin\":true,\"zerolinewidth\":2},\"yaxis\":{\"gridcolor\":\"white\",\"linecolor\":\"white\",\"ticks\":\"\",\"title\":{\"standoff\":15},\"zerolinecolor\":\"white\",\"automargin\":true,\"zerolinewidth\":2},\"scene\":{\"xaxis\":{\"backgroundcolor\":\"#E5ECF6\",\"gridcolor\":\"white\",\"linecolor\":\"white\",\"showbackground\":true,\"ticks\":\"\",\"zerolinecolor\":\"white\",\"gridwidth\":2},\"yaxis\":{\"backgroundcolor\":\"#E5ECF6\",\"gridcolor\":\"white\",\"linecolor\":\"white\",\"showbackground\":true,\"ticks\":\"\",\"zerolinecolor\":\"white\",\"gridwidth\":2},\"zaxis\":{\"backgroundcolor\":\"#E5ECF6\",\"gridcolor\":\"white\",\"linecolor\":\"white\",\"showbackground\":true,\"ticks\":\"\",\"zerolinecolor\":\"white\",\"gridwidth\":2}},\"shapedefaults\":{\"line\":{\"color\":\"#2a3f5f\"}},\"annotationdefaults\":{\"arrowcolor\":\"#2a3f5f\",\"arrowhead\":0,\"arrowwidth\":1},\"geo\":{\"bgcolor\":\"white\",\"landcolor\":\"#E5ECF6\",\"subunitcolor\":\"white\",\"showland\":true,\"showlakes\":true,\"lakecolor\":\"white\"},\"title\":{\"x\":0.05},\"mapbox\":{\"style\":\"light\"}}},\"xaxis\":{\"anchor\":\"y\",\"domain\":[0.0,1.0],\"title\":{\"text\":\"Sex\"}},\"yaxis\":{\"anchor\":\"x\",\"domain\":[0.0,1.0],\"title\":{\"text\":\"count\"}},\"legend\":{\"tracegroupgap\":0},\"margin\":{\"t\":60},\"barmode\":\"relative\"},                        {\"responsive\": true}                    ).then(function(){\n",
              "                            \n",
              "var gd = document.getElementById('fb4f94ed-d21c-4240-9321-d4cad3d2c0bf');\n",
              "var x = new MutationObserver(function (mutations, observer) {{\n",
              "        var display = window.getComputedStyle(gd).display;\n",
              "        if (!display || display === 'none') {{\n",
              "            console.log([gd, 'removed!']);\n",
              "            Plotly.purge(gd);\n",
              "            observer.disconnect();\n",
              "        }}\n",
              "}});\n",
              "\n",
              "// Listen for the removal of the full notebook cells\n",
              "var notebookContainer = gd.closest('#notebook-container');\n",
              "if (notebookContainer) {{\n",
              "    x.observe(notebookContainer, {childList: true});\n",
              "}}\n",
              "\n",
              "// Listen for the clearing of the current output cell\n",
              "var outputEl = gd.closest('.output');\n",
              "if (outputEl) {{\n",
              "    x.observe(outputEl, {childList: true});\n",
              "}}\n",
              "\n",
              "                        })                };                            </script>        </div>\n",
              "</body>\n",
              "</html>"
            ]
          },
          "metadata": {}
        },
        {
          "output_type": "stream",
          "name": "stdout",
          "text": [
            "Tipo da coluna:\n",
            " object\n",
            "Valores unicos:\n",
            " ['ATA' 'NAP' 'ASY' 'TA']\n",
            "\n",
            "Quantidades de unicos:\n",
            " 4\n",
            "\n",
            "Quantidades de valores nulos:\n",
            " 0\n",
            "\n",
            "Analisando a media:\n",
            " count     918\n",
            "unique      4\n",
            "top       ASY\n",
            "freq      496\n",
            "Name: ChestPainType, dtype: object\n",
            "\n",
            "Quantidades por opcao:\n",
            " ChestPainType\n",
            "ASY    496\n",
            "ATA    173\n",
            "NAP    203\n",
            "TA      46\n",
            "Name: count, dtype: int64\n"
          ]
        },
        {
          "output_type": "display_data",
          "data": {
            "text/html": [
              "<html>\n",
              "<head><meta charset=\"utf-8\" /></head>\n",
              "<body>\n",
              "    <div>            <script src=\"https://cdnjs.cloudflare.com/ajax/libs/mathjax/2.7.5/MathJax.js?config=TeX-AMS-MML_SVG\"></script><script type=\"text/javascript\">if (window.MathJax && window.MathJax.Hub && window.MathJax.Hub.Config) {window.MathJax.Hub.Config({SVG: {font: \"STIX-Web\"}});}</script>                <script type=\"text/javascript\">window.PlotlyConfig = {MathJaxConfig: 'local'};</script>\n",
              "        <script charset=\"utf-8\" src=\"https://cdn.plot.ly/plotly-2.24.1.min.js\"></script>                <div id=\"41b0b16a-da76-42fa-837e-1670dd73cca2\" class=\"plotly-graph-div\" style=\"height:525px; width:100%;\"></div>            <script type=\"text/javascript\">                                    window.PLOTLYENV=window.PLOTLYENV || {};                                    if (document.getElementById(\"41b0b16a-da76-42fa-837e-1670dd73cca2\")) {                    Plotly.newPlot(                        \"41b0b16a-da76-42fa-837e-1670dd73cca2\",                        [{\"alignmentgroup\":\"True\",\"hovertemplate\":\"ChestPainType=%{x}\\u003cbr\\u003ecount=%{y}\\u003cextra\\u003e\\u003c\\u002fextra\\u003e\",\"legendgroup\":\"\",\"marker\":{\"color\":\"#636efa\",\"pattern\":{\"shape\":\"\"}},\"name\":\"\",\"offsetgroup\":\"\",\"orientation\":\"v\",\"showlegend\":false,\"textposition\":\"auto\",\"x\":[\"ATA\",\"NAP\",\"ATA\",\"ASY\",\"NAP\",\"NAP\",\"ATA\",\"ATA\",\"ASY\",\"ATA\",\"NAP\",\"ATA\",\"ATA\",\"ASY\",\"NAP\",\"ATA\",\"ASY\",\"ATA\",\"ASY\",\"ATA\",\"TA\",\"ATA\",\"ATA\",\"ATA\",\"NAP\",\"NAP\",\"ASY\",\"ATA\",\"ATA\",\"ATA\",\"NAP\",\"NAP\",\"ASY\",\"ASY\",\"ATA\",\"ATA\",\"ASY\",\"ATA\",\"ATA\",\"ASY\",\"ATA\",\"NAP\",\"ATA\",\"NAP\",\"ASY\",\"NAP\",\"ASY\",\"ATA\",\"NAP\",\"ASY\",\"ASY\",\"ASY\",\"ATA\",\"ATA\",\"ASY\",\"ATA\",\"ASY\",\"NAP\",\"ASY\",\"ASY\",\"ATA\",\"NAP\",\"ASY\",\"ASY\",\"ATA\",\"ATA\",\"ASY\",\"ATA\",\"ASY\",\"ASY\",\"ATA\",\"ATA\",\"ASY\",\"ASY\",\"ASY\",\"NAP\",\"ASY\",\"ASY\",\"ATA\",\"ASY\",\"NAP\",\"ATA\",\"ASY\",\"ATA\",\"ASY\",\"ASY\",\"ASY\",\"ATA\",\"TA\",\"ASY\",\"ATA\",\"ASY\",\"ATA\",\"ASY\",\"NAP\",\"ASY\",\"ATA\",\"NAP\",\"ASY\",\"ATA\",\"ASY\",\"ASY\",\"ASY\",\"ASY\",\"ASY\",\"ATA\",\"ASY\",\"ATA\",\"ASY\",\"ATA\",\"ATA\",\"ASY\",\"ASY\",\"ATA\",\"NAP\",\"ASY\",\"ASY\",\"ASY\",\"TA\",\"TA\",\"NAP\",\"NAP\",\"ASY\",\"ATA\",\"ATA\",\"ATA\",\"ATA\",\"ASY\",\"ATA\",\"NAP\",\"NAP\",\"ASY\",\"ASY\",\"ASY\",\"ASY\",\"NAP\",\"ATA\",\"ATA\",\"ASY\",\"ASY\",\"ASY\",\"ASY\",\"ASY\",\"ASY\",\"ATA\",\"ASY\",\"ATA\",\"ATA\",\"ATA\",\"ASY\",\"ATA\",\"ATA\",\"ATA\",\"ASY\",\"ATA\",\"ASY\",\"ASY\",\"ASY\",\"ASY\",\"ATA\",\"ASY\",\"ASY\",\"ATA\",\"ATA\",\"ATA\",\"TA\",\"ASY\",\"ATA\",\"ASY\",\"NAP\",\"ATA\",\"NAP\",\"ATA\",\"NAP\",\"ASY\",\"ASY\",\"ASY\",\"ATA\",\"NAP\",\"ASY\",\"ASY\",\"ATA\",\"ASY\",\"ASY\",\"ATA\",\"NAP\",\"ATA\",\"ASY\",\"ASY\",\"ASY\",\"ASY\",\"ATA\",\"ATA\",\"NAP\",\"ATA\",\"TA\",\"ASY\",\"ATA\",\"ASY\",\"TA\",\"TA\",\"NAP\",\"NAP\",\"ATA\",\"ATA\",\"ASY\",\"ATA\",\"ATA\",\"ATA\",\"ASY\",\"ASY\",\"NAP\",\"NAP\",\"NAP\",\"ASY\",\"TA\",\"ASY\",\"NAP\",\"ATA\",\"ATA\",\"ASY\",\"ASY\",\"NAP\",\"NAP\",\"ATA\",\"ASY\",\"NAP\",\"ASY\",\"ATA\",\"ASY\",\"ASY\",\"NAP\",\"ATA\",\"ASY\",\"ATA\",\"ATA\",\"ASY\",\"TA\",\"ASY\",\"ASY\",\"ATA\",\"ASY\",\"ATA\",\"ATA\",\"ASY\",\"TA\",\"NAP\",\"ASY\",\"ASY\",\"ASY\",\"ASY\",\"ASY\",\"ASY\",\"ATA\",\"ASY\",\"NAP\",\"ATA\",\"NAP\",\"NAP\",\"ATA\",\"ATA\",\"ATA\",\"ASY\",\"ASY\",\"NAP\",\"ATA\",\"ASY\",\"ATA\",\"ASY\",\"NAP\",\"ASY\",\"ATA\",\"ASY\",\"NAP\",\"ATA\",\"NAP\",\"NAP\",\"ASY\",\"ASY\",\"ATA\",\"NAP\",\"ASY\",\"NAP\",\"ATA\",\"ASY\",\"NAP\",\"ASY\",\"ATA\",\"ATA\",\"ATA\",\"NAP\",\"ATA\",\"ASY\",\"ASY\",\"TA\",\"ASY\",\"ASY\",\"ASY\",\"ASY\",\"ASY\",\"ASY\",\"ATA\",\"ASY\",\"ASY\",\"ASY\",\"ASY\",\"ASY\",\"ATA\",\"ASY\",\"ASY\",\"ASY\",\"ASY\",\"ASY\",\"ASY\",\"ASY\",\"ATA\",\"NAP\",\"ASY\",\"ASY\",\"ASY\",\"NAP\",\"ASY\",\"ASY\",\"ASY\",\"ASY\",\"ASY\",\"NAP\",\"ASY\",\"ASY\",\"ASY\",\"NAP\",\"ASY\",\"NAP\",\"ASY\",\"ASY\",\"TA\",\"NAP\",\"ASY\",\"ASY\",\"ASY\",\"ASY\",\"ASY\",\"ASY\",\"ASY\",\"ASY\",\"ASY\",\"ASY\",\"ASY\",\"ASY\",\"ASY\",\"ASY\",\"ASY\",\"ASY\",\"ASY\",\"ASY\",\"TA\",\"ASY\",\"ATA\",\"NAP\",\"NAP\",\"NAP\",\"ASY\",\"NAP\",\"ASY\",\"NAP\",\"ASY\",\"ASY\",\"ASY\",\"ASY\",\"ASY\",\"ASY\",\"ASY\",\"ASY\",\"ASY\",\"ASY\",\"NAP\",\"NAP\",\"ASY\",\"ASY\",\"ASY\",\"ASY\",\"ASY\",\"ASY\",\"ASY\",\"ASY\",\"ASY\",\"ASY\",\"ASY\",\"ASY\",\"ASY\",\"ASY\",\"ASY\",\"ASY\",\"ASY\",\"ASY\",\"ASY\",\"TA\",\"ASY\",\"ASY\",\"NAP\",\"ASY\",\"ASY\",\"ASY\",\"ASY\",\"NAP\",\"ASY\",\"ASY\",\"ASY\",\"ASY\",\"NAP\",\"ASY\",\"ASY\",\"ASY\",\"NAP\",\"ASY\",\"ASY\",\"ASY\",\"ASY\",\"ASY\",\"ASY\",\"NAP\",\"NAP\",\"ASY\",\"NAP\",\"NAP\",\"ATA\",\"ATA\",\"ASY\",\"ASY\",\"NAP\",\"ASY\",\"ASY\",\"ASY\",\"ASY\",\"ASY\",\"ASY\",\"ASY\",\"ASY\",\"NAP\",\"NAP\",\"NAP\",\"ASY\",\"ASY\",\"ASY\",\"ASY\",\"NAP\",\"ASY\",\"ASY\",\"ASY\",\"NAP\",\"NAP\",\"ASY\",\"ASY\",\"ASY\",\"ASY\",\"ASY\",\"NAP\",\"ASY\",\"ASY\",\"ASY\",\"ASY\",\"ASY\",\"ASY\",\"ASY\",\"NAP\",\"NAP\",\"NAP\",\"ATA\",\"ASY\",\"ATA\",\"ASY\",\"ASY\",\"ASY\",\"NAP\",\"ATA\",\"ASY\",\"ASY\",\"ASY\",\"ASY\",\"NAP\",\"ATA\",\"NAP\",\"TA\",\"ASY\",\"ASY\",\"ATA\",\"ATA\",\"ASY\",\"TA\",\"ASY\",\"NAP\",\"ASY\",\"TA\",\"NAP\",\"ASY\",\"ASY\",\"ASY\",\"ASY\",\"ASY\",\"ASY\",\"ASY\",\"ASY\",\"ASY\",\"ASY\",\"ASY\",\"NAP\",\"ASY\",\"NAP\",\"ASY\",\"ASY\",\"ASY\",\"ASY\",\"NAP\",\"TA\",\"ASY\",\"NAP\",\"NAP\",\"ASY\",\"NAP\",\"ASY\",\"ASY\",\"ASY\",\"ASY\",\"ASY\",\"ASY\",\"NAP\",\"ASY\",\"ATA\",\"NAP\",\"ASY\",\"ASY\",\"ASY\",\"ASY\",\"ASY\",\"ASY\",\"ASY\",\"NAP\",\"ASY\",\"ASY\",\"ASY\",\"NAP\",\"NAP\",\"ASY\",\"ASY\",\"ATA\",\"ASY\",\"NAP\",\"TA\",\"ASY\",\"TA\",\"ASY\",\"NAP\",\"NAP\",\"TA\",\"NAP\",\"NAP\",\"ASY\",\"NAP\",\"NAP\",\"ASY\",\"NAP\",\"ATA\",\"ASY\",\"ASY\",\"ASY\",\"ASY\",\"ASY\",\"ASY\",\"ASY\",\"ASY\",\"ASY\",\"ASY\",\"ASY\",\"ASY\",\"ASY\",\"ASY\",\"ASY\",\"ASY\",\"ASY\",\"ASY\",\"ASY\",\"ASY\",\"ASY\",\"NAP\",\"ASY\",\"ATA\",\"ASY\",\"NAP\",\"ASY\",\"NAP\",\"ATA\",\"ASY\",\"ASY\",\"ASY\",\"ASY\",\"ASY\",\"ASY\",\"NAP\",\"ASY\",\"ASY\",\"ASY\",\"NAP\",\"NAP\",\"ASY\",\"NAP\",\"ASY\",\"ASY\",\"ASY\",\"ASY\",\"ASY\",\"ASY\",\"TA\",\"ASY\",\"ASY\",\"ATA\",\"ASY\",\"NAP\",\"ATA\",\"ASY\",\"ATA\",\"ASY\",\"NAP\",\"ASY\",\"ASY\",\"ASY\",\"ASY\",\"ASY\",\"NAP\",\"TA\",\"ASY\",\"ASY\",\"ASY\",\"ASY\",\"TA\",\"TA\",\"ASY\",\"ATA\",\"ASY\",\"ASY\",\"ATA\",\"NAP\",\"ASY\",\"NAP\",\"NAP\",\"NAP\",\"NAP\",\"ASY\",\"NAP\",\"ASY\",\"ASY\",\"ASY\",\"ASY\",\"TA\",\"NAP\",\"ASY\",\"ASY\",\"ASY\",\"NAP\",\"ATA\",\"NAP\",\"NAP\",\"NAP\",\"ASY\",\"ATA\",\"ASY\",\"ASY\",\"ATA\",\"NAP\",\"ATA\",\"ATA\",\"ATA\",\"ASY\",\"NAP\",\"ASY\",\"ATA\",\"NAP\",\"ASY\",\"NAP\",\"TA\",\"TA\",\"ASY\",\"ASY\",\"ATA\",\"NAP\",\"NAP\",\"ASY\",\"ASY\",\"ATA\",\"NAP\",\"ASY\",\"ASY\",\"ASY\",\"NAP\",\"NAP\",\"ATA\",\"ASY\",\"ASY\",\"ASY\",\"NAP\",\"ASY\",\"TA\",\"ATA\",\"TA\",\"ATA\",\"ASY\",\"ATA\",\"ASY\",\"ASY\",\"ASY\",\"ASY\",\"ASY\",\"ASY\",\"ASY\",\"NAP\",\"ATA\",\"NAP\",\"ASY\",\"ASY\",\"ASY\",\"ASY\",\"ASY\",\"NAP\",\"ASY\",\"ASY\",\"ATA\",\"ASY\",\"ATA\",\"ASY\",\"NAP\",\"ATA\",\"ATA\",\"ASY\",\"ASY\",\"TA\",\"ASY\",\"NAP\",\"ASY\",\"ASY\",\"NAP\",\"NAP\",\"NAP\",\"ASY\",\"NAP\",\"ATA\",\"ASY\",\"ASY\",\"ASY\",\"ASY\",\"ASY\",\"NAP\",\"NAP\",\"NAP\",\"ASY\",\"ATA\",\"ASY\",\"ASY\",\"ASY\",\"NAP\",\"TA\",\"ATA\",\"ASY\",\"ASY\",\"ASY\",\"NAP\",\"NAP\",\"NAP\",\"NAP\",\"NAP\",\"ASY\",\"NAP\",\"ATA\",\"ASY\",\"ATA\",\"TA\",\"ASY\",\"TA\",\"ASY\",\"ATA\",\"ASY\",\"ASY\",\"ASY\",\"ASY\",\"NAP\",\"ASY\",\"TA\",\"TA\",\"NAP\",\"ASY\",\"NAP\",\"TA\",\"ASY\",\"ASY\",\"NAP\",\"ASY\",\"NAP\",\"NAP\",\"ASY\",\"ASY\",\"ASY\",\"NAP\",\"NAP\",\"ASY\",\"ASY\",\"ASY\",\"NAP\",\"ASY\",\"ASY\",\"ATA\",\"ASY\",\"NAP\",\"ATA\",\"ASY\",\"NAP\",\"TA\",\"ASY\",\"NAP\",\"ASY\",\"ASY\",\"ASY\",\"ASY\",\"TA\",\"NAP\",\"NAP\",\"NAP\",\"NAP\",\"TA\",\"NAP\",\"NAP\",\"ASY\",\"ATA\",\"ATA\",\"NAP\",\"NAP\",\"NAP\",\"ATA\",\"ASY\",\"ASY\",\"NAP\",\"ASY\",\"ASY\",\"ATA\",\"NAP\",\"ASY\",\"TA\",\"TA\",\"ASY\",\"ASY\",\"ASY\",\"ASY\",\"NAP\",\"ASY\",\"ASY\",\"ASY\",\"NAP\",\"ATA\",\"NAP\",\"NAP\",\"ASY\",\"ASY\",\"NAP\",\"ASY\",\"ASY\",\"NAP\",\"NAP\",\"ASY\",\"ASY\",\"ATA\",\"ASY\",\"NAP\",\"NAP\",\"ATA\",\"NAP\",\"ASY\",\"NAP\",\"ASY\",\"NAP\",\"ASY\",\"ATA\",\"ATA\",\"ATA\",\"NAP\",\"ATA\",\"ATA\",\"ASY\",\"ASY\",\"NAP\",\"NAP\",\"ASY\",\"ASY\",\"TA\",\"TA\",\"NAP\",\"NAP\",\"ATA\",\"ASY\",\"ASY\",\"NAP\",\"ASY\",\"ATA\",\"ASY\",\"ASY\",\"ASY\",\"ATA\",\"ATA\",\"ATA\",\"NAP\",\"ATA\",\"ASY\",\"ASY\",\"ASY\",\"ATA\",\"ASY\",\"ASY\",\"TA\",\"ASY\",\"ASY\",\"ATA\",\"NAP\"],\"xaxis\":\"x\",\"y\":[1,1,1,1,1,1,1,1,1,1,1,1,1,1,1,1,1,1,1,1,1,1,1,1,1,1,1,1,1,1,1,1,1,1,1,1,1,1,1,1,1,1,1,1,1,1,1,1,1,1,1,1,1,1,1,1,1,1,1,1,1,1,1,1,1,1,1,1,1,1,1,1,1,1,1,1,1,1,1,1,1,1,1,1,1,1,1,1,1,1,1,1,1,1,1,1,1,1,1,1,1,1,1,1,1,1,1,1,1,1,1,1,1,1,1,1,1,1,1,1,1,1,1,1,1,1,1,1,1,1,1,1,1,1,1,1,1,1,1,1,1,1,1,1,1,1,1,1,1,1,1,1,1,1,1,1,1,1,1,1,1,1,1,1,1,1,1,1,1,1,1,1,1,1,1,1,1,1,1,1,1,1,1,1,1,1,1,1,1,1,1,1,1,1,1,1,1,1,1,1,1,1,1,1,1,1,1,1,1,1,1,1,1,1,1,1,1,1,1,1,1,1,1,1,1,1,1,1,1,1,1,1,1,1,1,1,1,1,1,1,1,1,1,1,1,1,1,1,1,1,1,1,1,1,1,1,1,1,1,1,1,1,1,1,1,1,1,1,1,1,1,1,1,1,1,1,1,1,1,1,1,1,1,1,1,1,1,1,1,1,1,1,1,1,1,1,1,1,1,1,1,1,1,1,1,1,1,1,1,1,1,1,1,1,1,1,1,1,1,1,1,1,1,1,1,1,1,1,1,1,1,1,1,1,1,1,1,1,1,1,1,1,1,1,1,1,1,1,1,1,1,1,1,1,1,1,1,1,1,1,1,1,1,1,1,1,1,1,1,1,1,1,1,1,1,1,1,1,1,1,1,1,1,1,1,1,1,1,1,1,1,1,1,1,1,1,1,1,1,1,1,1,1,1,1,1,1,1,1,1,1,1,1,1,1,1,1,1,1,1,1,1,1,1,1,1,1,1,1,1,1,1,1,1,1,1,1,1,1,1,1,1,1,1,1,1,1,1,1,1,1,1,1,1,1,1,1,1,1,1,1,1,1,1,1,1,1,1,1,1,1,1,1,1,1,1,1,1,1,1,1,1,1,1,1,1,1,1,1,1,1,1,1,1,1,1,1,1,1,1,1,1,1,1,1,1,1,1,1,1,1,1,1,1,1,1,1,1,1,1,1,1,1,1,1,1,1,1,1,1,1,1,1,1,1,1,1,1,1,1,1,1,1,1,1,1,1,1,1,1,1,1,1,1,1,1,1,1,1,1,1,1,1,1,1,1,1,1,1,1,1,1,1,1,1,1,1,1,1,1,1,1,1,1,1,1,1,1,1,1,1,1,1,1,1,1,1,1,1,1,1,1,1,1,1,1,1,1,1,1,1,1,1,1,1,1,1,1,1,1,1,1,1,1,1,1,1,1,1,1,1,1,1,1,1,1,1,1,1,1,1,1,1,1,1,1,1,1,1,1,1,1,1,1,1,1,1,1,1,1,1,1,1,1,1,1,1,1,1,1,1,1,1,1,1,1,1,1,1,1,1,1,1,1,1,1,1,1,1,1,1,1,1,1,1,1,1,1,1,1,1,1,1,1,1,1,1,1,1,1,1,1,1,1,1,1,1,1,1,1,1,1,1,1,1,1,1,1,1,1,1,1,1,1,1,1,1,1,1,1,1,1,1,1,1,1,1,1,1,1,1,1,1,1,1,1,1,1,1,1,1,1,1,1,1,1,1,1,1,1,1,1,1,1,1,1,1,1,1,1,1,1,1,1,1,1,1,1,1,1,1,1,1,1,1,1,1,1,1,1,1,1,1,1,1,1,1,1,1,1,1,1,1,1,1,1,1,1,1,1,1,1,1,1,1,1,1,1,1,1,1,1,1,1,1,1,1,1,1,1,1,1,1,1,1,1,1,1,1,1,1,1,1,1,1,1,1,1,1,1,1,1,1,1,1,1,1,1,1,1,1,1,1,1,1,1,1,1,1,1,1,1,1,1,1,1,1,1,1,1,1,1,1,1,1,1,1,1,1,1,1,1,1,1,1,1,1,1,1,1,1,1,1,1,1,1,1,1],\"yaxis\":\"y\",\"type\":\"bar\"}],                        {\"template\":{\"data\":{\"histogram2dcontour\":[{\"type\":\"histogram2dcontour\",\"colorbar\":{\"outlinewidth\":0,\"ticks\":\"\"},\"colorscale\":[[0.0,\"#0d0887\"],[0.1111111111111111,\"#46039f\"],[0.2222222222222222,\"#7201a8\"],[0.3333333333333333,\"#9c179e\"],[0.4444444444444444,\"#bd3786\"],[0.5555555555555556,\"#d8576b\"],[0.6666666666666666,\"#ed7953\"],[0.7777777777777778,\"#fb9f3a\"],[0.8888888888888888,\"#fdca26\"],[1.0,\"#f0f921\"]]}],\"choropleth\":[{\"type\":\"choropleth\",\"colorbar\":{\"outlinewidth\":0,\"ticks\":\"\"}}],\"histogram2d\":[{\"type\":\"histogram2d\",\"colorbar\":{\"outlinewidth\":0,\"ticks\":\"\"},\"colorscale\":[[0.0,\"#0d0887\"],[0.1111111111111111,\"#46039f\"],[0.2222222222222222,\"#7201a8\"],[0.3333333333333333,\"#9c179e\"],[0.4444444444444444,\"#bd3786\"],[0.5555555555555556,\"#d8576b\"],[0.6666666666666666,\"#ed7953\"],[0.7777777777777778,\"#fb9f3a\"],[0.8888888888888888,\"#fdca26\"],[1.0,\"#f0f921\"]]}],\"heatmap\":[{\"type\":\"heatmap\",\"colorbar\":{\"outlinewidth\":0,\"ticks\":\"\"},\"colorscale\":[[0.0,\"#0d0887\"],[0.1111111111111111,\"#46039f\"],[0.2222222222222222,\"#7201a8\"],[0.3333333333333333,\"#9c179e\"],[0.4444444444444444,\"#bd3786\"],[0.5555555555555556,\"#d8576b\"],[0.6666666666666666,\"#ed7953\"],[0.7777777777777778,\"#fb9f3a\"],[0.8888888888888888,\"#fdca26\"],[1.0,\"#f0f921\"]]}],\"heatmapgl\":[{\"type\":\"heatmapgl\",\"colorbar\":{\"outlinewidth\":0,\"ticks\":\"\"},\"colorscale\":[[0.0,\"#0d0887\"],[0.1111111111111111,\"#46039f\"],[0.2222222222222222,\"#7201a8\"],[0.3333333333333333,\"#9c179e\"],[0.4444444444444444,\"#bd3786\"],[0.5555555555555556,\"#d8576b\"],[0.6666666666666666,\"#ed7953\"],[0.7777777777777778,\"#fb9f3a\"],[0.8888888888888888,\"#fdca26\"],[1.0,\"#f0f921\"]]}],\"contourcarpet\":[{\"type\":\"contourcarpet\",\"colorbar\":{\"outlinewidth\":0,\"ticks\":\"\"}}],\"contour\":[{\"type\":\"contour\",\"colorbar\":{\"outlinewidth\":0,\"ticks\":\"\"},\"colorscale\":[[0.0,\"#0d0887\"],[0.1111111111111111,\"#46039f\"],[0.2222222222222222,\"#7201a8\"],[0.3333333333333333,\"#9c179e\"],[0.4444444444444444,\"#bd3786\"],[0.5555555555555556,\"#d8576b\"],[0.6666666666666666,\"#ed7953\"],[0.7777777777777778,\"#fb9f3a\"],[0.8888888888888888,\"#fdca26\"],[1.0,\"#f0f921\"]]}],\"surface\":[{\"type\":\"surface\",\"colorbar\":{\"outlinewidth\":0,\"ticks\":\"\"},\"colorscale\":[[0.0,\"#0d0887\"],[0.1111111111111111,\"#46039f\"],[0.2222222222222222,\"#7201a8\"],[0.3333333333333333,\"#9c179e\"],[0.4444444444444444,\"#bd3786\"],[0.5555555555555556,\"#d8576b\"],[0.6666666666666666,\"#ed7953\"],[0.7777777777777778,\"#fb9f3a\"],[0.8888888888888888,\"#fdca26\"],[1.0,\"#f0f921\"]]}],\"mesh3d\":[{\"type\":\"mesh3d\",\"colorbar\":{\"outlinewidth\":0,\"ticks\":\"\"}}],\"scatter\":[{\"fillpattern\":{\"fillmode\":\"overlay\",\"size\":10,\"solidity\":0.2},\"type\":\"scatter\"}],\"parcoords\":[{\"type\":\"parcoords\",\"line\":{\"colorbar\":{\"outlinewidth\":0,\"ticks\":\"\"}}}],\"scatterpolargl\":[{\"type\":\"scatterpolargl\",\"marker\":{\"colorbar\":{\"outlinewidth\":0,\"ticks\":\"\"}}}],\"bar\":[{\"error_x\":{\"color\":\"#2a3f5f\"},\"error_y\":{\"color\":\"#2a3f5f\"},\"marker\":{\"line\":{\"color\":\"#E5ECF6\",\"width\":0.5},\"pattern\":{\"fillmode\":\"overlay\",\"size\":10,\"solidity\":0.2}},\"type\":\"bar\"}],\"scattergeo\":[{\"type\":\"scattergeo\",\"marker\":{\"colorbar\":{\"outlinewidth\":0,\"ticks\":\"\"}}}],\"scatterpolar\":[{\"type\":\"scatterpolar\",\"marker\":{\"colorbar\":{\"outlinewidth\":0,\"ticks\":\"\"}}}],\"histogram\":[{\"marker\":{\"pattern\":{\"fillmode\":\"overlay\",\"size\":10,\"solidity\":0.2}},\"type\":\"histogram\"}],\"scattergl\":[{\"type\":\"scattergl\",\"marker\":{\"colorbar\":{\"outlinewidth\":0,\"ticks\":\"\"}}}],\"scatter3d\":[{\"type\":\"scatter3d\",\"line\":{\"colorbar\":{\"outlinewidth\":0,\"ticks\":\"\"}},\"marker\":{\"colorbar\":{\"outlinewidth\":0,\"ticks\":\"\"}}}],\"scattermapbox\":[{\"type\":\"scattermapbox\",\"marker\":{\"colorbar\":{\"outlinewidth\":0,\"ticks\":\"\"}}}],\"scatterternary\":[{\"type\":\"scatterternary\",\"marker\":{\"colorbar\":{\"outlinewidth\":0,\"ticks\":\"\"}}}],\"scattercarpet\":[{\"type\":\"scattercarpet\",\"marker\":{\"colorbar\":{\"outlinewidth\":0,\"ticks\":\"\"}}}],\"carpet\":[{\"aaxis\":{\"endlinecolor\":\"#2a3f5f\",\"gridcolor\":\"white\",\"linecolor\":\"white\",\"minorgridcolor\":\"white\",\"startlinecolor\":\"#2a3f5f\"},\"baxis\":{\"endlinecolor\":\"#2a3f5f\",\"gridcolor\":\"white\",\"linecolor\":\"white\",\"minorgridcolor\":\"white\",\"startlinecolor\":\"#2a3f5f\"},\"type\":\"carpet\"}],\"table\":[{\"cells\":{\"fill\":{\"color\":\"#EBF0F8\"},\"line\":{\"color\":\"white\"}},\"header\":{\"fill\":{\"color\":\"#C8D4E3\"},\"line\":{\"color\":\"white\"}},\"type\":\"table\"}],\"barpolar\":[{\"marker\":{\"line\":{\"color\":\"#E5ECF6\",\"width\":0.5},\"pattern\":{\"fillmode\":\"overlay\",\"size\":10,\"solidity\":0.2}},\"type\":\"barpolar\"}],\"pie\":[{\"automargin\":true,\"type\":\"pie\"}]},\"layout\":{\"autotypenumbers\":\"strict\",\"colorway\":[\"#636efa\",\"#EF553B\",\"#00cc96\",\"#ab63fa\",\"#FFA15A\",\"#19d3f3\",\"#FF6692\",\"#B6E880\",\"#FF97FF\",\"#FECB52\"],\"font\":{\"color\":\"#2a3f5f\"},\"hovermode\":\"closest\",\"hoverlabel\":{\"align\":\"left\"},\"paper_bgcolor\":\"white\",\"plot_bgcolor\":\"#E5ECF6\",\"polar\":{\"bgcolor\":\"#E5ECF6\",\"angularaxis\":{\"gridcolor\":\"white\",\"linecolor\":\"white\",\"ticks\":\"\"},\"radialaxis\":{\"gridcolor\":\"white\",\"linecolor\":\"white\",\"ticks\":\"\"}},\"ternary\":{\"bgcolor\":\"#E5ECF6\",\"aaxis\":{\"gridcolor\":\"white\",\"linecolor\":\"white\",\"ticks\":\"\"},\"baxis\":{\"gridcolor\":\"white\",\"linecolor\":\"white\",\"ticks\":\"\"},\"caxis\":{\"gridcolor\":\"white\",\"linecolor\":\"white\",\"ticks\":\"\"}},\"coloraxis\":{\"colorbar\":{\"outlinewidth\":0,\"ticks\":\"\"}},\"colorscale\":{\"sequential\":[[0.0,\"#0d0887\"],[0.1111111111111111,\"#46039f\"],[0.2222222222222222,\"#7201a8\"],[0.3333333333333333,\"#9c179e\"],[0.4444444444444444,\"#bd3786\"],[0.5555555555555556,\"#d8576b\"],[0.6666666666666666,\"#ed7953\"],[0.7777777777777778,\"#fb9f3a\"],[0.8888888888888888,\"#fdca26\"],[1.0,\"#f0f921\"]],\"sequentialminus\":[[0.0,\"#0d0887\"],[0.1111111111111111,\"#46039f\"],[0.2222222222222222,\"#7201a8\"],[0.3333333333333333,\"#9c179e\"],[0.4444444444444444,\"#bd3786\"],[0.5555555555555556,\"#d8576b\"],[0.6666666666666666,\"#ed7953\"],[0.7777777777777778,\"#fb9f3a\"],[0.8888888888888888,\"#fdca26\"],[1.0,\"#f0f921\"]],\"diverging\":[[0,\"#8e0152\"],[0.1,\"#c51b7d\"],[0.2,\"#de77ae\"],[0.3,\"#f1b6da\"],[0.4,\"#fde0ef\"],[0.5,\"#f7f7f7\"],[0.6,\"#e6f5d0\"],[0.7,\"#b8e186\"],[0.8,\"#7fbc41\"],[0.9,\"#4d9221\"],[1,\"#276419\"]]},\"xaxis\":{\"gridcolor\":\"white\",\"linecolor\":\"white\",\"ticks\":\"\",\"title\":{\"standoff\":15},\"zerolinecolor\":\"white\",\"automargin\":true,\"zerolinewidth\":2},\"yaxis\":{\"gridcolor\":\"white\",\"linecolor\":\"white\",\"ticks\":\"\",\"title\":{\"standoff\":15},\"zerolinecolor\":\"white\",\"automargin\":true,\"zerolinewidth\":2},\"scene\":{\"xaxis\":{\"backgroundcolor\":\"#E5ECF6\",\"gridcolor\":\"white\",\"linecolor\":\"white\",\"showbackground\":true,\"ticks\":\"\",\"zerolinecolor\":\"white\",\"gridwidth\":2},\"yaxis\":{\"backgroundcolor\":\"#E5ECF6\",\"gridcolor\":\"white\",\"linecolor\":\"white\",\"showbackground\":true,\"ticks\":\"\",\"zerolinecolor\":\"white\",\"gridwidth\":2},\"zaxis\":{\"backgroundcolor\":\"#E5ECF6\",\"gridcolor\":\"white\",\"linecolor\":\"white\",\"showbackground\":true,\"ticks\":\"\",\"zerolinecolor\":\"white\",\"gridwidth\":2}},\"shapedefaults\":{\"line\":{\"color\":\"#2a3f5f\"}},\"annotationdefaults\":{\"arrowcolor\":\"#2a3f5f\",\"arrowhead\":0,\"arrowwidth\":1},\"geo\":{\"bgcolor\":\"white\",\"landcolor\":\"#E5ECF6\",\"subunitcolor\":\"white\",\"showland\":true,\"showlakes\":true,\"lakecolor\":\"white\"},\"title\":{\"x\":0.05},\"mapbox\":{\"style\":\"light\"}}},\"xaxis\":{\"anchor\":\"y\",\"domain\":[0.0,1.0],\"title\":{\"text\":\"ChestPainType\"}},\"yaxis\":{\"anchor\":\"x\",\"domain\":[0.0,1.0],\"title\":{\"text\":\"count\"}},\"legend\":{\"tracegroupgap\":0},\"margin\":{\"t\":60},\"barmode\":\"relative\"},                        {\"responsive\": true}                    ).then(function(){\n",
              "                            \n",
              "var gd = document.getElementById('41b0b16a-da76-42fa-837e-1670dd73cca2');\n",
              "var x = new MutationObserver(function (mutations, observer) {{\n",
              "        var display = window.getComputedStyle(gd).display;\n",
              "        if (!display || display === 'none') {{\n",
              "            console.log([gd, 'removed!']);\n",
              "            Plotly.purge(gd);\n",
              "            observer.disconnect();\n",
              "        }}\n",
              "}});\n",
              "\n",
              "// Listen for the removal of the full notebook cells\n",
              "var notebookContainer = gd.closest('#notebook-container');\n",
              "if (notebookContainer) {{\n",
              "    x.observe(notebookContainer, {childList: true});\n",
              "}}\n",
              "\n",
              "// Listen for the clearing of the current output cell\n",
              "var outputEl = gd.closest('.output');\n",
              "if (outputEl) {{\n",
              "    x.observe(outputEl, {childList: true});\n",
              "}}\n",
              "\n",
              "                        })                };                            </script>        </div>\n",
              "</body>\n",
              "</html>"
            ]
          },
          "metadata": {}
        },
        {
          "output_type": "stream",
          "name": "stdout",
          "text": [
            "Tipo da coluna:\n",
            " float64\n",
            "Valores unicos:\n",
            " [140.  160.  130.  138.  150.  120.  110.  136.  115.  100.  124.  113.\n",
            " 125.  145.  112.  132.  118.  170.  142.  190.  135.  180.  108.  155.\n",
            " 128.  106.   92.  200.  122.   98.  105.  133.   95.   80.  137.  185.\n",
            " 165.  126.  152.  116.  132.5 144.  154.  134.  104.  139.  131.  141.\n",
            " 178.  146.  158.  123.  102.   96.  143.  172.  156.  114.  127.  101.\n",
            " 174.   94.  148.  117.  192.  129.  164. ]\n",
            "\n",
            "Quantidades de unicos:\n",
            " 67\n",
            "\n",
            "Quantidades de valores nulos:\n",
            " 0\n",
            "\n",
            "Analisando a media:\n",
            " count    918.000000\n",
            "mean     132.540850\n",
            "std       17.989932\n",
            "min       80.000000\n",
            "25%      120.000000\n",
            "50%      130.000000\n",
            "75%      140.000000\n",
            "max      200.000000\n",
            "Name: RestingBP, dtype: float64\n",
            "\n",
            "Quantidades por opcao:\n",
            " RestingBP\n",
            "80.0      1\n",
            "92.0      1\n",
            "94.0      2\n",
            "95.0      6\n",
            "96.0      1\n",
            "         ..\n",
            "180.0    12\n",
            "185.0     1\n",
            "190.0     2\n",
            "192.0     1\n",
            "200.0     4\n",
            "Name: count, Length: 67, dtype: int64\n"
          ]
        },
        {
          "output_type": "display_data",
          "data": {
            "text/html": [
              "<html>\n",
              "<head><meta charset=\"utf-8\" /></head>\n",
              "<body>\n",
              "    <div>            <script src=\"https://cdnjs.cloudflare.com/ajax/libs/mathjax/2.7.5/MathJax.js?config=TeX-AMS-MML_SVG\"></script><script type=\"text/javascript\">if (window.MathJax && window.MathJax.Hub && window.MathJax.Hub.Config) {window.MathJax.Hub.Config({SVG: {font: \"STIX-Web\"}});}</script>                <script type=\"text/javascript\">window.PlotlyConfig = {MathJaxConfig: 'local'};</script>\n",
              "        <script charset=\"utf-8\" src=\"https://cdn.plot.ly/plotly-2.24.1.min.js\"></script>                <div id=\"e9c3e1ac-9858-4547-b3b0-eb83e0883aca\" class=\"plotly-graph-div\" style=\"height:525px; width:100%;\"></div>            <script type=\"text/javascript\">                                    window.PLOTLYENV=window.PLOTLYENV || {};                                    if (document.getElementById(\"e9c3e1ac-9858-4547-b3b0-eb83e0883aca\")) {                    Plotly.newPlot(                        \"e9c3e1ac-9858-4547-b3b0-eb83e0883aca\",                        [{\"alignmentgroup\":\"True\",\"hovertemplate\":\"RestingBP=%{y}\\u003cextra\\u003e\\u003c\\u002fextra\\u003e\",\"legendgroup\":\"\",\"marker\":{\"color\":\"#636efa\"},\"name\":\"\",\"notched\":false,\"offsetgroup\":\"\",\"orientation\":\"v\",\"showlegend\":false,\"x0\":\" \",\"xaxis\":\"x\",\"y\":[140.0,160.0,130.0,138.0,150.0,120.0,130.0,110.0,140.0,120.0,130.0,136.0,120.0,140.0,115.0,120.0,110.0,120.0,100.0,120.0,100.0,120.0,124.0,150.0,130.0,130.0,124.0,120.0,113.0,125.0,145.0,130.0,125.0,130.0,150.0,125.0,140.0,110.0,120.0,150.0,150.0,130.0,150.0,140.0,120.0,130.0,120.0,140.0,112.0,110.0,130.0,120.0,140.0,130.0,130.0,160.0,120.0,130.0,150.0,112.0,100.0,150.0,140.0,120.0,110.0,120.0,132.0,110.0,160.0,150.0,140.0,130.0,120.0,120.0,140.0,150.0,118.0,140.0,140.0,130.0,110.0,120.0,150.0,160.0,150.0,140.0,170.0,140.0,120.0,140.0,110.0,130.0,120.0,160.0,110.0,130.0,142.0,160.0,120.0,125.0,130.0,130.0,150.0,120.0,118.0,140.0,120.0,150.0,140.0,190.0,130.0,150.0,140.0,140.0,130.0,100.0,120.0,130.0,120.0,140.0,135.0,125.0,110.0,180.0,130.0,120.0,130.0,108.0,120.0,120.0,145.0,110.0,170.0,150.0,130.0,115.0,120.0,120.0,140.0,150.0,160.0,140.0,160.0,140.0,120.0,110.0,120.0,120.0,120.0,130.0,130.0,100.0,130.0,120.0,120.0,155.0,110.0,140.0,130.0,160.0,140.0,128.0,160.0,120.0,140.0,140.0,140.0,140.0,135.0,140.0,120.0,140.0,140.0,140.0,140.0,140.0,140.0,140.0,130.0,130.0,130.0,130.0,140.0,110.0,160.0,160.0,130.0,120.0,120.0,180.0,180.0,170.0,130.0,135.0,125.0,160.0,120.0,150.0,120.0,130.0,110.0,120.0,160.0,100.0,130.0,150.0,120.0,110.0,130.0,125.0,106.0,140.0,130.0,130.0,150.0,170.0,110.0,120.0,140.0,140.0,130.0,160.0,120.0,120.0,120.0,145.0,120.0,92.0,120.0,130.0,130.0,130.0,120.0,112.0,140.0,120.0,120.0,140.0,160.0,160.0,145.0,200.0,160.0,120.0,160.0,120.0,120.0,122.0,130.0,130.0,135.0,120.0,125.0,140.0,145.0,120.0,130.0,150.0,150.0,122.0,140.0,120.0,120.0,130.0,140.0,160.0,130.0,98.0,130.0,130.0,120.0,105.0,140.0,120.0,180.0,180.0,135.0,170.0,180.0,130.0,120.0,150.0,130.0,110.0,140.0,110.0,140.0,120.0,133.0,120.0,110.0,140.0,130.0,115.0,95.0,105.0,145.0,110.0,110.0,110.0,160.0,140.0,125.0,120.0,95.0,120.0,115.0,130.0,115.0,95.0,155.0,125.0,125.0,115.0,80.0,145.0,105.0,140.0,130.0,145.0,125.0,100.0,105.0,115.0,100.0,105.0,110.0,125.0,95.0,130.0,115.0,115.0,100.0,95.0,130.0,120.0,160.0,150.0,140.0,95.0,100.0,110.0,110.0,130.0,120.0,135.0,120.0,115.0,137.0,110.0,120.0,140.0,120.0,130.0,120.0,145.0,115.0,120.0,115.0,105.0,160.0,160.0,155.0,120.0,120.0,200.0,150.0,135.0,140.0,150.0,135.0,150.0,185.0,135.0,125.0,160.0,155.0,160.0,140.0,120.0,160.0,115.0,115.0,110.0,120.0,150.0,145.0,130.0,140.0,160.0,140.0,115.0,130.0,150.0,160.0,135.0,140.0,170.0,165.0,200.0,160.0,130.0,145.0,135.0,110.0,120.0,140.0,115.0,110.0,160.0,150.0,180.0,125.0,125.0,130.0,155.0,140.0,130.0,132.0,142.0,110.0,120.0,150.0,180.0,120.0,160.0,126.0,140.0,110.0,133.0,128.0,120.0,170.0,110.0,126.0,152.0,116.0,120.0,130.0,138.0,128.0,130.0,128.0,130.0,120.0,136.0,130.0,124.0,160.0,132.5,122.0,144.0,140.0,120.0,136.0,154.0,120.0,125.0,134.0,104.0,139.0,136.0,122.0,128.0,131.0,134.0,120.0,132.0,152.0,124.0,126.0,138.0,154.0,141.0,131.0,178.0,132.0,110.0,130.0,170.0,126.0,140.0,142.0,120.0,134.0,139.0,110.0,140.0,140.0,136.0,120.0,170.0,130.0,137.0,142.0,142.0,132.0,146.0,160.0,135.0,136.0,130.0,140.0,132.0,158.0,136.0,136.0,106.0,120.0,110.0,136.0,160.0,123.0,112.0,122.0,130.0,150.0,150.0,102.0,96.0,130.0,120.0,144.0,124.0,150.0,130.0,144.0,139.0,131.0,143.0,133.0,143.0,116.0,110.0,125.0,130.0,133.0,150.0,130.0,110.0,138.0,104.0,138.0,170.0,140.0,132.0,132.0,142.0,112.0,139.0,172.0,120.0,144.0,145.0,155.0,150.0,160.0,137.0,137.0,134.0,133.0,132.0,140.0,135.0,144.0,141.0,150.0,130.0,110.0,158.0,128.0,140.0,150.0,160.0,142.0,137.0,139.0,146.0,156.0,145.0,131.0,140.0,122.0,142.0,141.0,180.0,124.0,118.0,140.0,140.0,136.0,100.0,190.0,130.0,160.0,130.0,122.0,133.0,120.0,130.0,130.0,140.0,120.0,155.0,134.0,114.0,160.0,144.0,158.0,134.0,127.0,135.0,122.0,140.0,120.0,130.0,115.0,124.0,128.0,120.0,120.0,130.0,110.0,140.0,150.0,135.0,142.0,140.0,134.0,128.0,112.0,140.0,140.0,110.0,140.0,120.0,130.0,115.0,112.0,132.0,130.0,138.0,120.0,112.0,110.0,128.0,160.0,120.0,170.0,144.0,130.0,140.0,160.0,130.0,122.0,152.0,124.0,130.0,101.0,126.0,140.0,118.0,110.0,160.0,150.0,136.0,128.0,140.0,140.0,130.0,105.0,138.0,120.0,174.0,120.0,150.0,130.0,120.0,150.0,145.0,150.0,140.0,136.0,118.0,108.0,120.0,120.0,156.0,140.0,106.0,142.0,104.0,94.0,120.0,120.0,146.0,120.0,150.0,130.0,110.0,148.0,128.0,178.0,126.0,150.0,140.0,130.0,124.0,110.0,125.0,110.0,120.0,100.0,140.0,120.0,108.0,120.0,130.0,165.0,130.0,124.0,100.0,150.0,140.0,112.0,180.0,110.0,158.0,135.0,120.0,134.0,120.0,200.0,150.0,130.0,120.0,122.0,152.0,160.0,125.0,160.0,120.0,136.0,134.0,117.0,108.0,112.0,140.0,120.0,150.0,142.0,152.0,125.0,118.0,132.0,145.0,138.0,140.0,125.0,192.0,123.0,112.0,110.0,132.0,112.0,112.0,120.0,108.0,130.0,130.0,105.0,140.0,128.0,120.0,178.0,120.0,150.0,130.0,128.0,110.0,180.0,110.0,130.0,138.0,138.0,160.0,140.0,100.0,120.0,118.0,138.0,140.0,150.0,125.0,129.0,120.0,134.0,110.0,102.0,130.0,130.0,132.0,108.0,140.0,160.0,140.0,145.0,108.0,126.0,124.0,135.0,100.0,110.0,140.0,125.0,118.0,125.0,125.0,140.0,160.0,152.0,102.0,105.0,125.0,130.0,170.0,125.0,122.0,128.0,130.0,130.0,135.0,94.0,120.0,120.0,110.0,135.0,150.0,130.0,138.0,135.0,130.0,132.0,150.0,118.0,145.0,118.0,115.0,128.0,130.0,160.0,138.0,120.0,138.0,120.0,180.0,140.0,130.0,140.0,140.0,130.0,110.0,155.0,140.0,145.0,120.0,130.0,112.0,110.0,150.0,160.0,150.0,132.0,140.0,150.0,120.0,130.0,120.0,130.0,110.0,172.0,120.0,140.0,140.0,160.0,128.0,138.0,132.0,128.0,134.0,170.0,146.0,138.0,154.0,130.0,110.0,130.0,128.0,122.0,148.0,114.0,170.0,125.0,130.0,120.0,152.0,132.0,120.0,140.0,124.0,120.0,164.0,140.0,110.0,144.0,130.0,130.0,138.0],\"y0\":\" \",\"yaxis\":\"y\",\"type\":\"box\"}],                        {\"template\":{\"data\":{\"histogram2dcontour\":[{\"type\":\"histogram2dcontour\",\"colorbar\":{\"outlinewidth\":0,\"ticks\":\"\"},\"colorscale\":[[0.0,\"#0d0887\"],[0.1111111111111111,\"#46039f\"],[0.2222222222222222,\"#7201a8\"],[0.3333333333333333,\"#9c179e\"],[0.4444444444444444,\"#bd3786\"],[0.5555555555555556,\"#d8576b\"],[0.6666666666666666,\"#ed7953\"],[0.7777777777777778,\"#fb9f3a\"],[0.8888888888888888,\"#fdca26\"],[1.0,\"#f0f921\"]]}],\"choropleth\":[{\"type\":\"choropleth\",\"colorbar\":{\"outlinewidth\":0,\"ticks\":\"\"}}],\"histogram2d\":[{\"type\":\"histogram2d\",\"colorbar\":{\"outlinewidth\":0,\"ticks\":\"\"},\"colorscale\":[[0.0,\"#0d0887\"],[0.1111111111111111,\"#46039f\"],[0.2222222222222222,\"#7201a8\"],[0.3333333333333333,\"#9c179e\"],[0.4444444444444444,\"#bd3786\"],[0.5555555555555556,\"#d8576b\"],[0.6666666666666666,\"#ed7953\"],[0.7777777777777778,\"#fb9f3a\"],[0.8888888888888888,\"#fdca26\"],[1.0,\"#f0f921\"]]}],\"heatmap\":[{\"type\":\"heatmap\",\"colorbar\":{\"outlinewidth\":0,\"ticks\":\"\"},\"colorscale\":[[0.0,\"#0d0887\"],[0.1111111111111111,\"#46039f\"],[0.2222222222222222,\"#7201a8\"],[0.3333333333333333,\"#9c179e\"],[0.4444444444444444,\"#bd3786\"],[0.5555555555555556,\"#d8576b\"],[0.6666666666666666,\"#ed7953\"],[0.7777777777777778,\"#fb9f3a\"],[0.8888888888888888,\"#fdca26\"],[1.0,\"#f0f921\"]]}],\"heatmapgl\":[{\"type\":\"heatmapgl\",\"colorbar\":{\"outlinewidth\":0,\"ticks\":\"\"},\"colorscale\":[[0.0,\"#0d0887\"],[0.1111111111111111,\"#46039f\"],[0.2222222222222222,\"#7201a8\"],[0.3333333333333333,\"#9c179e\"],[0.4444444444444444,\"#bd3786\"],[0.5555555555555556,\"#d8576b\"],[0.6666666666666666,\"#ed7953\"],[0.7777777777777778,\"#fb9f3a\"],[0.8888888888888888,\"#fdca26\"],[1.0,\"#f0f921\"]]}],\"contourcarpet\":[{\"type\":\"contourcarpet\",\"colorbar\":{\"outlinewidth\":0,\"ticks\":\"\"}}],\"contour\":[{\"type\":\"contour\",\"colorbar\":{\"outlinewidth\":0,\"ticks\":\"\"},\"colorscale\":[[0.0,\"#0d0887\"],[0.1111111111111111,\"#46039f\"],[0.2222222222222222,\"#7201a8\"],[0.3333333333333333,\"#9c179e\"],[0.4444444444444444,\"#bd3786\"],[0.5555555555555556,\"#d8576b\"],[0.6666666666666666,\"#ed7953\"],[0.7777777777777778,\"#fb9f3a\"],[0.8888888888888888,\"#fdca26\"],[1.0,\"#f0f921\"]]}],\"surface\":[{\"type\":\"surface\",\"colorbar\":{\"outlinewidth\":0,\"ticks\":\"\"},\"colorscale\":[[0.0,\"#0d0887\"],[0.1111111111111111,\"#46039f\"],[0.2222222222222222,\"#7201a8\"],[0.3333333333333333,\"#9c179e\"],[0.4444444444444444,\"#bd3786\"],[0.5555555555555556,\"#d8576b\"],[0.6666666666666666,\"#ed7953\"],[0.7777777777777778,\"#fb9f3a\"],[0.8888888888888888,\"#fdca26\"],[1.0,\"#f0f921\"]]}],\"mesh3d\":[{\"type\":\"mesh3d\",\"colorbar\":{\"outlinewidth\":0,\"ticks\":\"\"}}],\"scatter\":[{\"fillpattern\":{\"fillmode\":\"overlay\",\"size\":10,\"solidity\":0.2},\"type\":\"scatter\"}],\"parcoords\":[{\"type\":\"parcoords\",\"line\":{\"colorbar\":{\"outlinewidth\":0,\"ticks\":\"\"}}}],\"scatterpolargl\":[{\"type\":\"scatterpolargl\",\"marker\":{\"colorbar\":{\"outlinewidth\":0,\"ticks\":\"\"}}}],\"bar\":[{\"error_x\":{\"color\":\"#2a3f5f\"},\"error_y\":{\"color\":\"#2a3f5f\"},\"marker\":{\"line\":{\"color\":\"#E5ECF6\",\"width\":0.5},\"pattern\":{\"fillmode\":\"overlay\",\"size\":10,\"solidity\":0.2}},\"type\":\"bar\"}],\"scattergeo\":[{\"type\":\"scattergeo\",\"marker\":{\"colorbar\":{\"outlinewidth\":0,\"ticks\":\"\"}}}],\"scatterpolar\":[{\"type\":\"scatterpolar\",\"marker\":{\"colorbar\":{\"outlinewidth\":0,\"ticks\":\"\"}}}],\"histogram\":[{\"marker\":{\"pattern\":{\"fillmode\":\"overlay\",\"size\":10,\"solidity\":0.2}},\"type\":\"histogram\"}],\"scattergl\":[{\"type\":\"scattergl\",\"marker\":{\"colorbar\":{\"outlinewidth\":0,\"ticks\":\"\"}}}],\"scatter3d\":[{\"type\":\"scatter3d\",\"line\":{\"colorbar\":{\"outlinewidth\":0,\"ticks\":\"\"}},\"marker\":{\"colorbar\":{\"outlinewidth\":0,\"ticks\":\"\"}}}],\"scattermapbox\":[{\"type\":\"scattermapbox\",\"marker\":{\"colorbar\":{\"outlinewidth\":0,\"ticks\":\"\"}}}],\"scatterternary\":[{\"type\":\"scatterternary\",\"marker\":{\"colorbar\":{\"outlinewidth\":0,\"ticks\":\"\"}}}],\"scattercarpet\":[{\"type\":\"scattercarpet\",\"marker\":{\"colorbar\":{\"outlinewidth\":0,\"ticks\":\"\"}}}],\"carpet\":[{\"aaxis\":{\"endlinecolor\":\"#2a3f5f\",\"gridcolor\":\"white\",\"linecolor\":\"white\",\"minorgridcolor\":\"white\",\"startlinecolor\":\"#2a3f5f\"},\"baxis\":{\"endlinecolor\":\"#2a3f5f\",\"gridcolor\":\"white\",\"linecolor\":\"white\",\"minorgridcolor\":\"white\",\"startlinecolor\":\"#2a3f5f\"},\"type\":\"carpet\"}],\"table\":[{\"cells\":{\"fill\":{\"color\":\"#EBF0F8\"},\"line\":{\"color\":\"white\"}},\"header\":{\"fill\":{\"color\":\"#C8D4E3\"},\"line\":{\"color\":\"white\"}},\"type\":\"table\"}],\"barpolar\":[{\"marker\":{\"line\":{\"color\":\"#E5ECF6\",\"width\":0.5},\"pattern\":{\"fillmode\":\"overlay\",\"size\":10,\"solidity\":0.2}},\"type\":\"barpolar\"}],\"pie\":[{\"automargin\":true,\"type\":\"pie\"}]},\"layout\":{\"autotypenumbers\":\"strict\",\"colorway\":[\"#636efa\",\"#EF553B\",\"#00cc96\",\"#ab63fa\",\"#FFA15A\",\"#19d3f3\",\"#FF6692\",\"#B6E880\",\"#FF97FF\",\"#FECB52\"],\"font\":{\"color\":\"#2a3f5f\"},\"hovermode\":\"closest\",\"hoverlabel\":{\"align\":\"left\"},\"paper_bgcolor\":\"white\",\"plot_bgcolor\":\"#E5ECF6\",\"polar\":{\"bgcolor\":\"#E5ECF6\",\"angularaxis\":{\"gridcolor\":\"white\",\"linecolor\":\"white\",\"ticks\":\"\"},\"radialaxis\":{\"gridcolor\":\"white\",\"linecolor\":\"white\",\"ticks\":\"\"}},\"ternary\":{\"bgcolor\":\"#E5ECF6\",\"aaxis\":{\"gridcolor\":\"white\",\"linecolor\":\"white\",\"ticks\":\"\"},\"baxis\":{\"gridcolor\":\"white\",\"linecolor\":\"white\",\"ticks\":\"\"},\"caxis\":{\"gridcolor\":\"white\",\"linecolor\":\"white\",\"ticks\":\"\"}},\"coloraxis\":{\"colorbar\":{\"outlinewidth\":0,\"ticks\":\"\"}},\"colorscale\":{\"sequential\":[[0.0,\"#0d0887\"],[0.1111111111111111,\"#46039f\"],[0.2222222222222222,\"#7201a8\"],[0.3333333333333333,\"#9c179e\"],[0.4444444444444444,\"#bd3786\"],[0.5555555555555556,\"#d8576b\"],[0.6666666666666666,\"#ed7953\"],[0.7777777777777778,\"#fb9f3a\"],[0.8888888888888888,\"#fdca26\"],[1.0,\"#f0f921\"]],\"sequentialminus\":[[0.0,\"#0d0887\"],[0.1111111111111111,\"#46039f\"],[0.2222222222222222,\"#7201a8\"],[0.3333333333333333,\"#9c179e\"],[0.4444444444444444,\"#bd3786\"],[0.5555555555555556,\"#d8576b\"],[0.6666666666666666,\"#ed7953\"],[0.7777777777777778,\"#fb9f3a\"],[0.8888888888888888,\"#fdca26\"],[1.0,\"#f0f921\"]],\"diverging\":[[0,\"#8e0152\"],[0.1,\"#c51b7d\"],[0.2,\"#de77ae\"],[0.3,\"#f1b6da\"],[0.4,\"#fde0ef\"],[0.5,\"#f7f7f7\"],[0.6,\"#e6f5d0\"],[0.7,\"#b8e186\"],[0.8,\"#7fbc41\"],[0.9,\"#4d9221\"],[1,\"#276419\"]]},\"xaxis\":{\"gridcolor\":\"white\",\"linecolor\":\"white\",\"ticks\":\"\",\"title\":{\"standoff\":15},\"zerolinecolor\":\"white\",\"automargin\":true,\"zerolinewidth\":2},\"yaxis\":{\"gridcolor\":\"white\",\"linecolor\":\"white\",\"ticks\":\"\",\"title\":{\"standoff\":15},\"zerolinecolor\":\"white\",\"automargin\":true,\"zerolinewidth\":2},\"scene\":{\"xaxis\":{\"backgroundcolor\":\"#E5ECF6\",\"gridcolor\":\"white\",\"linecolor\":\"white\",\"showbackground\":true,\"ticks\":\"\",\"zerolinecolor\":\"white\",\"gridwidth\":2},\"yaxis\":{\"backgroundcolor\":\"#E5ECF6\",\"gridcolor\":\"white\",\"linecolor\":\"white\",\"showbackground\":true,\"ticks\":\"\",\"zerolinecolor\":\"white\",\"gridwidth\":2},\"zaxis\":{\"backgroundcolor\":\"#E5ECF6\",\"gridcolor\":\"white\",\"linecolor\":\"white\",\"showbackground\":true,\"ticks\":\"\",\"zerolinecolor\":\"white\",\"gridwidth\":2}},\"shapedefaults\":{\"line\":{\"color\":\"#2a3f5f\"}},\"annotationdefaults\":{\"arrowcolor\":\"#2a3f5f\",\"arrowhead\":0,\"arrowwidth\":1},\"geo\":{\"bgcolor\":\"white\",\"landcolor\":\"#E5ECF6\",\"subunitcolor\":\"white\",\"showland\":true,\"showlakes\":true,\"lakecolor\":\"white\"},\"title\":{\"x\":0.05},\"mapbox\":{\"style\":\"light\"}}},\"xaxis\":{\"anchor\":\"y\",\"domain\":[0.0,1.0]},\"yaxis\":{\"anchor\":\"x\",\"domain\":[0.0,1.0],\"title\":{\"text\":\"RestingBP\"}},\"legend\":{\"tracegroupgap\":0},\"margin\":{\"t\":60},\"boxmode\":\"group\"},                        {\"responsive\": true}                    ).then(function(){\n",
              "                            \n",
              "var gd = document.getElementById('e9c3e1ac-9858-4547-b3b0-eb83e0883aca');\n",
              "var x = new MutationObserver(function (mutations, observer) {{\n",
              "        var display = window.getComputedStyle(gd).display;\n",
              "        if (!display || display === 'none') {{\n",
              "            console.log([gd, 'removed!']);\n",
              "            Plotly.purge(gd);\n",
              "            observer.disconnect();\n",
              "        }}\n",
              "}});\n",
              "\n",
              "// Listen for the removal of the full notebook cells\n",
              "var notebookContainer = gd.closest('#notebook-container');\n",
              "if (notebookContainer) {{\n",
              "    x.observe(notebookContainer, {childList: true});\n",
              "}}\n",
              "\n",
              "// Listen for the clearing of the current output cell\n",
              "var outputEl = gd.closest('.output');\n",
              "if (outputEl) {{\n",
              "    x.observe(outputEl, {childList: true});\n",
              "}}\n",
              "\n",
              "                        })                };                            </script>        </div>\n",
              "</body>\n",
              "</html>"
            ]
          },
          "metadata": {}
        },
        {
          "output_type": "stream",
          "name": "stdout",
          "text": [
            "Tipo da coluna:\n",
            " float64\n",
            "Valores unicos:\n",
            " [289.  180.  283.  214.  195.  339.  237.  208.  207.  284.  211.  164.\n",
            " 204.  234.  273.  196.  201.  248.  267.  223.  184.  288.  215.  209.\n",
            " 260.  468.  188.  518.  167.  224.  172.  186.  254.  306.  250.  177.\n",
            " 227.  230.  294.  264.  259.  175.  318.  216.  340.  233.  205.  245.\n",
            " 194.  270.  213.  365.  342.  253.  277.  202.  297.  225.  246.  412.\n",
            " 265.  182.  218.  268.  163.  529.  100.  206.  238.  139.  263.  291.\n",
            " 229.  307.  210.  329.  147.   85.  269.  275.  179.  392.  466.  129.\n",
            " 241.  255.  276.  282.  338.  160.  156.  272.  240.  393.  161.  228.\n",
            " 292.  388.  166.  247.  331.  341.  243.  279.  198.  249.  168.  603.\n",
            " 159.  190.  185.  290.  212.  231.  222.  235.  320.  187.  266.  287.\n",
            " 404.  312.  251.  328.  285.  280.  192.  193.  308.  219.  257.  132.\n",
            " 226.  217.  303.  298.  256.  117.  295.  173.  315.  281.  309.  200.\n",
            " 336.  355.  326.  171.  491.  271.  274.  394.  221.  126.  305.  220.\n",
            " 242.  347.  344.  358.  169.  181.  244.6 236.  203.  153.  316.  311.\n",
            " 252.  458.  384.  258.  349.  142.  197.  113.  261.  310.  232.  110.\n",
            " 123.  170.  369.  152.  244.  165.  337.  300.  333.  385.  322.  564.\n",
            " 239.  293.  407.  149.  199.  417.  178.  319.  354.  330.  302.  313.\n",
            " 141.  327.  304.  286.  360.  262.  325.  299.  409.  174.  183.  321.\n",
            " 353.  335.  278.  157.  176.  131. ]\n",
            "\n",
            "Quantidades de unicos:\n",
            " 222\n",
            "\n",
            "Quantidades de valores nulos:\n",
            " 0\n",
            "\n",
            "Analisando a media:\n",
            " count    918.000000\n",
            "mean     244.628758\n",
            "std       53.318031\n",
            "min       85.000000\n",
            "25%      214.000000\n",
            "50%      244.600000\n",
            "75%      267.000000\n",
            "max      603.000000\n",
            "Name: Cholesterol, dtype: float64\n",
            "\n",
            "Quantidades por opcao:\n",
            " Cholesterol\n",
            "85.0     1\n",
            "100.0    2\n",
            "110.0    1\n",
            "113.0    1\n",
            "117.0    1\n",
            "        ..\n",
            "491.0    1\n",
            "518.0    1\n",
            "529.0    1\n",
            "564.0    1\n",
            "603.0    1\n",
            "Name: count, Length: 222, dtype: int64\n"
          ]
        },
        {
          "output_type": "display_data",
          "data": {
            "text/html": [
              "<html>\n",
              "<head><meta charset=\"utf-8\" /></head>\n",
              "<body>\n",
              "    <div>            <script src=\"https://cdnjs.cloudflare.com/ajax/libs/mathjax/2.7.5/MathJax.js?config=TeX-AMS-MML_SVG\"></script><script type=\"text/javascript\">if (window.MathJax && window.MathJax.Hub && window.MathJax.Hub.Config) {window.MathJax.Hub.Config({SVG: {font: \"STIX-Web\"}});}</script>                <script type=\"text/javascript\">window.PlotlyConfig = {MathJaxConfig: 'local'};</script>\n",
              "        <script charset=\"utf-8\" src=\"https://cdn.plot.ly/plotly-2.24.1.min.js\"></script>                <div id=\"18fc4bee-bf89-4e01-8aa2-9ce7a6e207e4\" class=\"plotly-graph-div\" style=\"height:525px; width:100%;\"></div>            <script type=\"text/javascript\">                                    window.PLOTLYENV=window.PLOTLYENV || {};                                    if (document.getElementById(\"18fc4bee-bf89-4e01-8aa2-9ce7a6e207e4\")) {                    Plotly.newPlot(                        \"18fc4bee-bf89-4e01-8aa2-9ce7a6e207e4\",                        [{\"alignmentgroup\":\"True\",\"hovertemplate\":\"Cholesterol=%{y}\\u003cextra\\u003e\\u003c\\u002fextra\\u003e\",\"legendgroup\":\"\",\"marker\":{\"color\":\"#636efa\"},\"name\":\"\",\"notched\":false,\"offsetgroup\":\"\",\"orientation\":\"v\",\"showlegend\":false,\"x0\":\" \",\"xaxis\":\"x\",\"y\":[289.0,180.0,283.0,214.0,195.0,339.0,237.0,208.0,207.0,284.0,211.0,164.0,204.0,234.0,211.0,273.0,196.0,201.0,248.0,267.0,223.0,184.0,201.0,288.0,215.0,209.0,260.0,284.0,468.0,188.0,518.0,167.0,224.0,172.0,186.0,254.0,306.0,250.0,177.0,227.0,230.0,294.0,264.0,259.0,175.0,318.0,223.0,216.0,340.0,289.0,233.0,205.0,224.0,245.0,180.0,194.0,270.0,213.0,365.0,342.0,253.0,254.0,224.0,277.0,202.0,260.0,297.0,225.0,246.0,412.0,265.0,215.0,182.0,218.0,268.0,163.0,529.0,167.0,100.0,206.0,277.0,238.0,223.0,196.0,213.0,139.0,263.0,216.0,291.0,229.0,208.0,307.0,210.0,329.0,182.0,263.0,207.0,147.0,85.0,269.0,275.0,179.0,392.0,466.0,186.0,260.0,254.0,214.0,129.0,241.0,188.0,255.0,276.0,297.0,207.0,246.0,282.0,338.0,160.0,156.0,248.0,272.0,240.0,393.0,230.0,246.0,161.0,163.0,230.0,228.0,292.0,202.0,388.0,230.0,294.0,265.0,215.0,241.0,166.0,247.0,331.0,341.0,291.0,243.0,279.0,273.0,198.0,249.0,168.0,603.0,215.0,159.0,275.0,270.0,291.0,342.0,190.0,185.0,290.0,195.0,264.0,212.0,263.0,196.0,225.0,272.0,231.0,238.0,222.0,179.0,243.0,235.0,320.0,187.0,266.0,288.0,216.0,287.0,194.0,238.0,225.0,224.0,404.0,238.0,312.0,211.0,251.0,237.0,328.0,285.0,280.0,209.0,245.0,192.0,184.0,193.0,297.0,268.0,246.0,308.0,249.0,230.0,147.0,219.0,184.0,215.0,308.0,257.0,132.0,216.0,263.0,288.0,276.0,219.0,226.0,237.0,280.0,217.0,196.0,263.0,222.0,303.0,195.0,298.0,256.0,264.0,195.0,117.0,295.0,173.0,315.0,281.0,275.0,250.0,309.0,200.0,336.0,295.0,355.0,193.0,326.0,198.0,292.0,266.0,268.0,171.0,237.0,275.0,219.0,341.0,491.0,260.0,292.0,271.0,248.0,274.0,394.0,160.0,200.0,320.0,275.0,221.0,231.0,126.0,193.0,305.0,298.0,220.0,242.0,235.0,225.0,198.0,201.0,220.0,295.0,213.0,160.0,223.0,347.0,253.0,246.0,222.0,220.0,344.0,358.0,190.0,169.0,181.0,308.0,166.0,211.0,257.0,182.0,244.6,244.6,244.6,244.6,244.6,244.6,244.6,244.6,244.6,244.6,244.6,244.6,244.6,244.6,244.6,244.6,244.6,244.6,244.6,244.6,244.6,244.6,244.6,244.6,244.6,244.6,244.6,244.6,244.6,244.6,244.6,244.6,244.6,244.6,244.6,244.6,244.6,244.6,244.6,244.6,244.6,244.6,244.6,244.6,244.6,244.6,244.6,244.6,244.6,244.6,244.6,244.6,244.6,244.6,244.6,244.6,244.6,244.6,244.6,244.6,244.6,244.6,244.6,244.6,244.6,244.6,244.6,244.6,244.6,244.6,244.6,244.6,244.6,244.6,244.6,244.6,244.6,244.6,244.6,244.6,244.6,244.6,244.6,244.6,244.6,244.6,244.6,244.6,244.6,244.6,244.6,244.6,244.6,244.6,244.6,244.6,244.6,244.6,244.6,244.6,244.6,244.6,244.6,244.6,244.6,244.6,244.6,244.6,244.6,244.6,244.6,244.6,244.6,244.6,244.6,244.6,244.6,244.6,244.6,244.6,244.6,244.6,244.6,260.0,209.0,218.0,228.0,213.0,244.6,236.0,244.6,244.6,267.0,166.0,244.6,244.6,244.6,244.6,220.0,177.0,236.0,244.6,244.6,244.6,244.6,244.6,244.6,244.6,244.6,244.6,186.0,100.0,228.0,244.6,171.0,230.0,244.6,244.6,244.6,281.0,244.6,203.0,244.6,244.6,244.6,244.6,244.6,277.0,244.6,233.0,244.6,244.6,240.0,244.6,244.6,153.0,224.0,244.6,244.6,244.6,316.0,244.6,244.6,218.0,244.6,311.0,244.6,244.6,244.6,270.0,244.6,244.6,217.0,214.0,214.0,252.0,220.0,214.0,203.0,244.6,339.0,216.0,276.0,458.0,241.0,384.0,297.0,248.0,308.0,208.0,227.0,210.0,245.0,225.0,240.0,244.6,198.0,195.0,267.0,161.0,258.0,244.6,244.6,195.0,235.0,244.6,305.0,223.0,282.0,349.0,160.0,160.0,236.0,312.0,283.0,142.0,211.0,218.0,306.0,186.0,252.0,222.0,244.6,244.6,258.0,202.0,197.0,204.0,113.0,274.0,192.0,298.0,272.0,220.0,200.0,261.0,181.0,260.0,220.0,221.0,216.0,175.0,219.0,310.0,208.0,232.0,273.0,203.0,182.0,274.0,204.0,270.0,292.0,171.0,221.0,289.0,217.0,223.0,110.0,193.0,123.0,210.0,282.0,170.0,369.0,173.0,289.0,152.0,208.0,216.0,271.0,244.0,285.0,243.0,240.0,219.0,237.0,165.0,213.0,287.0,258.0,256.0,186.0,264.0,185.0,226.0,203.0,207.0,284.0,337.0,310.0,254.0,258.0,254.0,300.0,170.0,310.0,333.0,139.0,223.0,385.0,254.0,322.0,564.0,261.0,263.0,269.0,177.0,256.0,239.0,293.0,407.0,234.0,226.0,235.0,234.0,303.0,149.0,311.0,203.0,211.0,199.0,229.0,245.0,303.0,204.0,288.0,275.0,243.0,295.0,230.0,265.0,229.0,228.0,215.0,326.0,200.0,256.0,207.0,273.0,180.0,222.0,223.0,209.0,233.0,197.0,218.0,211.0,149.0,197.0,246.0,225.0,315.0,205.0,417.0,195.0,234.0,198.0,166.0,178.0,249.0,281.0,126.0,305.0,226.0,240.0,233.0,276.0,261.0,319.0,242.0,243.0,260.0,354.0,245.0,197.0,223.0,309.0,208.0,199.0,209.0,236.0,218.0,198.0,270.0,214.0,201.0,244.0,208.0,270.0,306.0,243.0,221.0,330.0,266.0,206.0,212.0,275.0,302.0,234.0,313.0,244.0,141.0,237.0,269.0,289.0,254.0,274.0,222.0,258.0,177.0,160.0,327.0,235.0,305.0,304.0,295.0,271.0,249.0,288.0,226.0,283.0,188.0,286.0,274.0,360.0,273.0,201.0,267.0,196.0,201.0,230.0,269.0,212.0,226.0,246.0,232.0,177.0,277.0,249.0,210.0,207.0,212.0,271.0,233.0,213.0,283.0,282.0,230.0,167.0,224.0,268.0,250.0,219.0,267.0,303.0,256.0,204.0,217.0,308.0,193.0,228.0,231.0,244.0,262.0,259.0,211.0,325.0,254.0,197.0,236.0,282.0,234.0,254.0,299.0,211.0,182.0,294.0,298.0,231.0,254.0,196.0,240.0,409.0,172.0,265.0,246.0,315.0,184.0,233.0,394.0,269.0,239.0,174.0,309.0,282.0,255.0,250.0,248.0,214.0,239.0,304.0,277.0,300.0,258.0,299.0,289.0,298.0,318.0,240.0,309.0,250.0,288.0,245.0,213.0,216.0,204.0,204.0,252.0,227.0,258.0,220.0,239.0,254.0,168.0,330.0,183.0,203.0,263.0,341.0,283.0,186.0,307.0,219.0,260.0,255.0,231.0,164.0,234.0,177.0,257.0,325.0,274.0,321.0,264.0,268.0,308.0,253.0,248.0,269.0,185.0,282.0,188.0,219.0,290.0,175.0,212.0,302.0,243.0,353.0,335.0,247.0,340.0,206.0,284.0,266.0,229.0,199.0,263.0,294.0,192.0,286.0,216.0,223.0,247.0,204.0,204.0,227.0,278.0,220.0,232.0,197.0,335.0,253.0,205.0,192.0,203.0,318.0,225.0,220.0,221.0,240.0,212.0,342.0,169.0,187.0,197.0,157.0,176.0,241.0,264.0,193.0,131.0,236.0,175.0],\"y0\":\" \",\"yaxis\":\"y\",\"type\":\"box\"}],                        {\"template\":{\"data\":{\"histogram2dcontour\":[{\"type\":\"histogram2dcontour\",\"colorbar\":{\"outlinewidth\":0,\"ticks\":\"\"},\"colorscale\":[[0.0,\"#0d0887\"],[0.1111111111111111,\"#46039f\"],[0.2222222222222222,\"#7201a8\"],[0.3333333333333333,\"#9c179e\"],[0.4444444444444444,\"#bd3786\"],[0.5555555555555556,\"#d8576b\"],[0.6666666666666666,\"#ed7953\"],[0.7777777777777778,\"#fb9f3a\"],[0.8888888888888888,\"#fdca26\"],[1.0,\"#f0f921\"]]}],\"choropleth\":[{\"type\":\"choropleth\",\"colorbar\":{\"outlinewidth\":0,\"ticks\":\"\"}}],\"histogram2d\":[{\"type\":\"histogram2d\",\"colorbar\":{\"outlinewidth\":0,\"ticks\":\"\"},\"colorscale\":[[0.0,\"#0d0887\"],[0.1111111111111111,\"#46039f\"],[0.2222222222222222,\"#7201a8\"],[0.3333333333333333,\"#9c179e\"],[0.4444444444444444,\"#bd3786\"],[0.5555555555555556,\"#d8576b\"],[0.6666666666666666,\"#ed7953\"],[0.7777777777777778,\"#fb9f3a\"],[0.8888888888888888,\"#fdca26\"],[1.0,\"#f0f921\"]]}],\"heatmap\":[{\"type\":\"heatmap\",\"colorbar\":{\"outlinewidth\":0,\"ticks\":\"\"},\"colorscale\":[[0.0,\"#0d0887\"],[0.1111111111111111,\"#46039f\"],[0.2222222222222222,\"#7201a8\"],[0.3333333333333333,\"#9c179e\"],[0.4444444444444444,\"#bd3786\"],[0.5555555555555556,\"#d8576b\"],[0.6666666666666666,\"#ed7953\"],[0.7777777777777778,\"#fb9f3a\"],[0.8888888888888888,\"#fdca26\"],[1.0,\"#f0f921\"]]}],\"heatmapgl\":[{\"type\":\"heatmapgl\",\"colorbar\":{\"outlinewidth\":0,\"ticks\":\"\"},\"colorscale\":[[0.0,\"#0d0887\"],[0.1111111111111111,\"#46039f\"],[0.2222222222222222,\"#7201a8\"],[0.3333333333333333,\"#9c179e\"],[0.4444444444444444,\"#bd3786\"],[0.5555555555555556,\"#d8576b\"],[0.6666666666666666,\"#ed7953\"],[0.7777777777777778,\"#fb9f3a\"],[0.8888888888888888,\"#fdca26\"],[1.0,\"#f0f921\"]]}],\"contourcarpet\":[{\"type\":\"contourcarpet\",\"colorbar\":{\"outlinewidth\":0,\"ticks\":\"\"}}],\"contour\":[{\"type\":\"contour\",\"colorbar\":{\"outlinewidth\":0,\"ticks\":\"\"},\"colorscale\":[[0.0,\"#0d0887\"],[0.1111111111111111,\"#46039f\"],[0.2222222222222222,\"#7201a8\"],[0.3333333333333333,\"#9c179e\"],[0.4444444444444444,\"#bd3786\"],[0.5555555555555556,\"#d8576b\"],[0.6666666666666666,\"#ed7953\"],[0.7777777777777778,\"#fb9f3a\"],[0.8888888888888888,\"#fdca26\"],[1.0,\"#f0f921\"]]}],\"surface\":[{\"type\":\"surface\",\"colorbar\":{\"outlinewidth\":0,\"ticks\":\"\"},\"colorscale\":[[0.0,\"#0d0887\"],[0.1111111111111111,\"#46039f\"],[0.2222222222222222,\"#7201a8\"],[0.3333333333333333,\"#9c179e\"],[0.4444444444444444,\"#bd3786\"],[0.5555555555555556,\"#d8576b\"],[0.6666666666666666,\"#ed7953\"],[0.7777777777777778,\"#fb9f3a\"],[0.8888888888888888,\"#fdca26\"],[1.0,\"#f0f921\"]]}],\"mesh3d\":[{\"type\":\"mesh3d\",\"colorbar\":{\"outlinewidth\":0,\"ticks\":\"\"}}],\"scatter\":[{\"fillpattern\":{\"fillmode\":\"overlay\",\"size\":10,\"solidity\":0.2},\"type\":\"scatter\"}],\"parcoords\":[{\"type\":\"parcoords\",\"line\":{\"colorbar\":{\"outlinewidth\":0,\"ticks\":\"\"}}}],\"scatterpolargl\":[{\"type\":\"scatterpolargl\",\"marker\":{\"colorbar\":{\"outlinewidth\":0,\"ticks\":\"\"}}}],\"bar\":[{\"error_x\":{\"color\":\"#2a3f5f\"},\"error_y\":{\"color\":\"#2a3f5f\"},\"marker\":{\"line\":{\"color\":\"#E5ECF6\",\"width\":0.5},\"pattern\":{\"fillmode\":\"overlay\",\"size\":10,\"solidity\":0.2}},\"type\":\"bar\"}],\"scattergeo\":[{\"type\":\"scattergeo\",\"marker\":{\"colorbar\":{\"outlinewidth\":0,\"ticks\":\"\"}}}],\"scatterpolar\":[{\"type\":\"scatterpolar\",\"marker\":{\"colorbar\":{\"outlinewidth\":0,\"ticks\":\"\"}}}],\"histogram\":[{\"marker\":{\"pattern\":{\"fillmode\":\"overlay\",\"size\":10,\"solidity\":0.2}},\"type\":\"histogram\"}],\"scattergl\":[{\"type\":\"scattergl\",\"marker\":{\"colorbar\":{\"outlinewidth\":0,\"ticks\":\"\"}}}],\"scatter3d\":[{\"type\":\"scatter3d\",\"line\":{\"colorbar\":{\"outlinewidth\":0,\"ticks\":\"\"}},\"marker\":{\"colorbar\":{\"outlinewidth\":0,\"ticks\":\"\"}}}],\"scattermapbox\":[{\"type\":\"scattermapbox\",\"marker\":{\"colorbar\":{\"outlinewidth\":0,\"ticks\":\"\"}}}],\"scatterternary\":[{\"type\":\"scatterternary\",\"marker\":{\"colorbar\":{\"outlinewidth\":0,\"ticks\":\"\"}}}],\"scattercarpet\":[{\"type\":\"scattercarpet\",\"marker\":{\"colorbar\":{\"outlinewidth\":0,\"ticks\":\"\"}}}],\"carpet\":[{\"aaxis\":{\"endlinecolor\":\"#2a3f5f\",\"gridcolor\":\"white\",\"linecolor\":\"white\",\"minorgridcolor\":\"white\",\"startlinecolor\":\"#2a3f5f\"},\"baxis\":{\"endlinecolor\":\"#2a3f5f\",\"gridcolor\":\"white\",\"linecolor\":\"white\",\"minorgridcolor\":\"white\",\"startlinecolor\":\"#2a3f5f\"},\"type\":\"carpet\"}],\"table\":[{\"cells\":{\"fill\":{\"color\":\"#EBF0F8\"},\"line\":{\"color\":\"white\"}},\"header\":{\"fill\":{\"color\":\"#C8D4E3\"},\"line\":{\"color\":\"white\"}},\"type\":\"table\"}],\"barpolar\":[{\"marker\":{\"line\":{\"color\":\"#E5ECF6\",\"width\":0.5},\"pattern\":{\"fillmode\":\"overlay\",\"size\":10,\"solidity\":0.2}},\"type\":\"barpolar\"}],\"pie\":[{\"automargin\":true,\"type\":\"pie\"}]},\"layout\":{\"autotypenumbers\":\"strict\",\"colorway\":[\"#636efa\",\"#EF553B\",\"#00cc96\",\"#ab63fa\",\"#FFA15A\",\"#19d3f3\",\"#FF6692\",\"#B6E880\",\"#FF97FF\",\"#FECB52\"],\"font\":{\"color\":\"#2a3f5f\"},\"hovermode\":\"closest\",\"hoverlabel\":{\"align\":\"left\"},\"paper_bgcolor\":\"white\",\"plot_bgcolor\":\"#E5ECF6\",\"polar\":{\"bgcolor\":\"#E5ECF6\",\"angularaxis\":{\"gridcolor\":\"white\",\"linecolor\":\"white\",\"ticks\":\"\"},\"radialaxis\":{\"gridcolor\":\"white\",\"linecolor\":\"white\",\"ticks\":\"\"}},\"ternary\":{\"bgcolor\":\"#E5ECF6\",\"aaxis\":{\"gridcolor\":\"white\",\"linecolor\":\"white\",\"ticks\":\"\"},\"baxis\":{\"gridcolor\":\"white\",\"linecolor\":\"white\",\"ticks\":\"\"},\"caxis\":{\"gridcolor\":\"white\",\"linecolor\":\"white\",\"ticks\":\"\"}},\"coloraxis\":{\"colorbar\":{\"outlinewidth\":0,\"ticks\":\"\"}},\"colorscale\":{\"sequential\":[[0.0,\"#0d0887\"],[0.1111111111111111,\"#46039f\"],[0.2222222222222222,\"#7201a8\"],[0.3333333333333333,\"#9c179e\"],[0.4444444444444444,\"#bd3786\"],[0.5555555555555556,\"#d8576b\"],[0.6666666666666666,\"#ed7953\"],[0.7777777777777778,\"#fb9f3a\"],[0.8888888888888888,\"#fdca26\"],[1.0,\"#f0f921\"]],\"sequentialminus\":[[0.0,\"#0d0887\"],[0.1111111111111111,\"#46039f\"],[0.2222222222222222,\"#7201a8\"],[0.3333333333333333,\"#9c179e\"],[0.4444444444444444,\"#bd3786\"],[0.5555555555555556,\"#d8576b\"],[0.6666666666666666,\"#ed7953\"],[0.7777777777777778,\"#fb9f3a\"],[0.8888888888888888,\"#fdca26\"],[1.0,\"#f0f921\"]],\"diverging\":[[0,\"#8e0152\"],[0.1,\"#c51b7d\"],[0.2,\"#de77ae\"],[0.3,\"#f1b6da\"],[0.4,\"#fde0ef\"],[0.5,\"#f7f7f7\"],[0.6,\"#e6f5d0\"],[0.7,\"#b8e186\"],[0.8,\"#7fbc41\"],[0.9,\"#4d9221\"],[1,\"#276419\"]]},\"xaxis\":{\"gridcolor\":\"white\",\"linecolor\":\"white\",\"ticks\":\"\",\"title\":{\"standoff\":15},\"zerolinecolor\":\"white\",\"automargin\":true,\"zerolinewidth\":2},\"yaxis\":{\"gridcolor\":\"white\",\"linecolor\":\"white\",\"ticks\":\"\",\"title\":{\"standoff\":15},\"zerolinecolor\":\"white\",\"automargin\":true,\"zerolinewidth\":2},\"scene\":{\"xaxis\":{\"backgroundcolor\":\"#E5ECF6\",\"gridcolor\":\"white\",\"linecolor\":\"white\",\"showbackground\":true,\"ticks\":\"\",\"zerolinecolor\":\"white\",\"gridwidth\":2},\"yaxis\":{\"backgroundcolor\":\"#E5ECF6\",\"gridcolor\":\"white\",\"linecolor\":\"white\",\"showbackground\":true,\"ticks\":\"\",\"zerolinecolor\":\"white\",\"gridwidth\":2},\"zaxis\":{\"backgroundcolor\":\"#E5ECF6\",\"gridcolor\":\"white\",\"linecolor\":\"white\",\"showbackground\":true,\"ticks\":\"\",\"zerolinecolor\":\"white\",\"gridwidth\":2}},\"shapedefaults\":{\"line\":{\"color\":\"#2a3f5f\"}},\"annotationdefaults\":{\"arrowcolor\":\"#2a3f5f\",\"arrowhead\":0,\"arrowwidth\":1},\"geo\":{\"bgcolor\":\"white\",\"landcolor\":\"#E5ECF6\",\"subunitcolor\":\"white\",\"showland\":true,\"showlakes\":true,\"lakecolor\":\"white\"},\"title\":{\"x\":0.05},\"mapbox\":{\"style\":\"light\"}}},\"xaxis\":{\"anchor\":\"y\",\"domain\":[0.0,1.0]},\"yaxis\":{\"anchor\":\"x\",\"domain\":[0.0,1.0],\"title\":{\"text\":\"Cholesterol\"}},\"legend\":{\"tracegroupgap\":0},\"margin\":{\"t\":60},\"boxmode\":\"group\"},                        {\"responsive\": true}                    ).then(function(){\n",
              "                            \n",
              "var gd = document.getElementById('18fc4bee-bf89-4e01-8aa2-9ce7a6e207e4');\n",
              "var x = new MutationObserver(function (mutations, observer) {{\n",
              "        var display = window.getComputedStyle(gd).display;\n",
              "        if (!display || display === 'none') {{\n",
              "            console.log([gd, 'removed!']);\n",
              "            Plotly.purge(gd);\n",
              "            observer.disconnect();\n",
              "        }}\n",
              "}});\n",
              "\n",
              "// Listen for the removal of the full notebook cells\n",
              "var notebookContainer = gd.closest('#notebook-container');\n",
              "if (notebookContainer) {{\n",
              "    x.observe(notebookContainer, {childList: true});\n",
              "}}\n",
              "\n",
              "// Listen for the clearing of the current output cell\n",
              "var outputEl = gd.closest('.output');\n",
              "if (outputEl) {{\n",
              "    x.observe(outputEl, {childList: true});\n",
              "}}\n",
              "\n",
              "                        })                };                            </script>        </div>\n",
              "</body>\n",
              "</html>"
            ]
          },
          "metadata": {}
        },
        {
          "output_type": "stream",
          "name": "stdout",
          "text": [
            "Tipo da coluna:\n",
            " int64\n",
            "Valores unicos:\n",
            " [0 1]\n",
            "\n",
            "Quantidades de unicos:\n",
            " 2\n",
            "\n",
            "Quantidades de valores nulos:\n",
            " 0\n",
            "\n",
            "Analisando a media:\n",
            " count    918.000000\n",
            "mean       0.233115\n",
            "std        0.423046\n",
            "min        0.000000\n",
            "25%        0.000000\n",
            "50%        0.000000\n",
            "75%        0.000000\n",
            "max        1.000000\n",
            "Name: FastingBS, dtype: float64\n",
            "\n",
            "Quantidades por opcao:\n",
            " FastingBS\n",
            "0    704\n",
            "1    214\n",
            "Name: count, dtype: int64\n"
          ]
        },
        {
          "output_type": "display_data",
          "data": {
            "text/html": [
              "<html>\n",
              "<head><meta charset=\"utf-8\" /></head>\n",
              "<body>\n",
              "    <div>            <script src=\"https://cdnjs.cloudflare.com/ajax/libs/mathjax/2.7.5/MathJax.js?config=TeX-AMS-MML_SVG\"></script><script type=\"text/javascript\">if (window.MathJax && window.MathJax.Hub && window.MathJax.Hub.Config) {window.MathJax.Hub.Config({SVG: {font: \"STIX-Web\"}});}</script>                <script type=\"text/javascript\">window.PlotlyConfig = {MathJaxConfig: 'local'};</script>\n",
              "        <script charset=\"utf-8\" src=\"https://cdn.plot.ly/plotly-2.24.1.min.js\"></script>                <div id=\"d92c8aa5-26ef-4e18-93b0-2e87b64222f0\" class=\"plotly-graph-div\" style=\"height:525px; width:100%;\"></div>            <script type=\"text/javascript\">                                    window.PLOTLYENV=window.PLOTLYENV || {};                                    if (document.getElementById(\"d92c8aa5-26ef-4e18-93b0-2e87b64222f0\")) {                    Plotly.newPlot(                        \"d92c8aa5-26ef-4e18-93b0-2e87b64222f0\",                        [{\"alignmentgroup\":\"True\",\"hovertemplate\":\"FastingBS=%{y}\\u003cextra\\u003e\\u003c\\u002fextra\\u003e\",\"legendgroup\":\"\",\"marker\":{\"color\":\"#636efa\"},\"name\":\"\",\"notched\":false,\"offsetgroup\":\"\",\"orientation\":\"v\",\"showlegend\":false,\"x0\":\" \",\"xaxis\":\"x\",\"y\":[0,0,0,0,0,0,0,0,0,0,0,0,0,0,0,0,0,0,0,0,0,0,0,0,0,0,0,0,0,0,0,0,0,0,0,0,1,0,1,0,0,0,0,0,0,0,0,0,0,0,0,0,1,0,0,0,0,0,0,0,0,0,0,0,0,0,0,0,0,0,0,0,0,0,0,0,0,0,0,0,0,0,0,0,1,0,1,0,0,0,0,0,0,0,0,0,0,1,0,0,0,0,0,1,0,1,0,0,0,0,0,0,1,0,0,0,0,1,0,0,1,0,0,0,0,0,0,0,1,0,0,0,0,0,0,0,0,0,0,0,0,0,0,0,0,0,0,0,0,1,0,0,0,0,0,1,0,0,0,0,1,0,0,0,0,1,0,0,0,0,0,0,0,0,0,0,0,0,0,0,0,0,0,0,0,1,0,1,0,0,0,0,0,0,0,0,0,0,0,0,0,0,0,0,0,0,0,0,0,0,1,0,0,0,0,0,0,0,0,0,0,0,0,0,1,0,0,0,0,0,0,0,0,0,0,0,0,0,0,0,0,0,1,0,0,0,0,1,0,0,0,0,0,0,0,0,0,0,0,0,0,0,0,0,0,0,0,0,0,0,0,0,0,0,0,0,0,0,0,0,0,0,0,0,0,0,0,0,0,0,0,0,0,0,1,1,1,1,1,1,1,0,1,1,1,1,1,0,1,1,0,1,1,1,0,1,1,1,1,1,1,1,1,1,1,1,0,1,1,1,1,1,0,1,1,1,0,1,1,1,1,1,1,1,1,0,0,1,0,1,1,0,0,0,0,0,0,0,0,0,0,0,0,0,0,0,0,0,0,0,0,0,0,0,0,0,0,1,1,0,0,0,0,0,0,0,0,0,0,1,0,0,0,1,1,1,1,1,1,1,1,1,1,1,1,1,1,1,1,1,1,1,1,1,1,1,0,0,0,0,1,0,1,0,1,1,0,0,0,0,1,0,0,0,0,0,0,1,0,0,0,1,1,1,0,0,0,0,1,0,0,0,0,0,1,0,0,1,1,0,1,0,0,0,0,0,0,0,0,1,0,0,1,1,0,1,1,1,1,0,1,1,1,0,0,1,1,0,0,0,0,1,0,0,0,0,1,0,1,0,0,0,0,1,1,1,0,0,1,0,0,1,0,0,0,1,1,0,1,0,0,0,0,0,0,0,0,0,0,0,0,1,1,0,0,0,1,1,1,0,0,0,0,0,1,0,1,1,0,1,0,0,0,1,1,0,1,1,0,0,0,0,0,1,1,0,0,0,0,0,0,1,0,1,1,1,0,0,0,1,1,0,1,0,1,1,0,0,0,1,0,0,1,1,1,1,0,0,0,1,0,0,0,0,1,1,1,1,0,0,1,0,1,1,0,0,0,0,0,0,0,1,0,0,0,0,0,0,0,0,0,0,1,0,0,0,0,0,0,1,0,0,0,0,1,0,0,0,0,0,1,0,0,0,0,0,0,0,1,1,1,0,0,0,0,0,1,1,0,0,0,0,1,0,0,1,0,0,0,1,0,0,1,0,0,0,0,0,0,0,0,0,0,0,0,0,0,0,0,0,0,1,0,0,0,0,0,0,0,0,0,0,0,0,0,0,0,0,1,0,0,0,0,0,0,0,0,0,1,0,0,0,1,0,1,0,0,0,0,0,0,0,0,0,1,0,0,0,0,0,0,0,1,0,0,0,0,0,0,0,0,0,0,0,0,0,0,0,0,0,0,0,0,0,1,0,0,0,0,0,0,0,1,0,1,1,0,0,0,0,1,0,0,1,0,1,0,0,0,1,0,0,1,0,0,0,0,0,0,1,0,0,0,0,0,0,0,0,0,0,1,0,0,0,0,0,1,0,0,0,0,0,0,0,0,0,0,0,1,0,0,0,1,1,0,0,0,0,0,0,0,0,0,0,0,1,0,0,0,0,0,0,0,0,0,0,0,0,0,1,0,1,0,0,0,0,0,0,0,0,1,0,0,0,0,0,0,1,1,0,0,0,0,0,0,0,0,0,0,0,0,1,0,0,0,0,0,0,0,0,0,1,0,0,1,0,0,0],\"y0\":\" \",\"yaxis\":\"y\",\"type\":\"box\"}],                        {\"template\":{\"data\":{\"histogram2dcontour\":[{\"type\":\"histogram2dcontour\",\"colorbar\":{\"outlinewidth\":0,\"ticks\":\"\"},\"colorscale\":[[0.0,\"#0d0887\"],[0.1111111111111111,\"#46039f\"],[0.2222222222222222,\"#7201a8\"],[0.3333333333333333,\"#9c179e\"],[0.4444444444444444,\"#bd3786\"],[0.5555555555555556,\"#d8576b\"],[0.6666666666666666,\"#ed7953\"],[0.7777777777777778,\"#fb9f3a\"],[0.8888888888888888,\"#fdca26\"],[1.0,\"#f0f921\"]]}],\"choropleth\":[{\"type\":\"choropleth\",\"colorbar\":{\"outlinewidth\":0,\"ticks\":\"\"}}],\"histogram2d\":[{\"type\":\"histogram2d\",\"colorbar\":{\"outlinewidth\":0,\"ticks\":\"\"},\"colorscale\":[[0.0,\"#0d0887\"],[0.1111111111111111,\"#46039f\"],[0.2222222222222222,\"#7201a8\"],[0.3333333333333333,\"#9c179e\"],[0.4444444444444444,\"#bd3786\"],[0.5555555555555556,\"#d8576b\"],[0.6666666666666666,\"#ed7953\"],[0.7777777777777778,\"#fb9f3a\"],[0.8888888888888888,\"#fdca26\"],[1.0,\"#f0f921\"]]}],\"heatmap\":[{\"type\":\"heatmap\",\"colorbar\":{\"outlinewidth\":0,\"ticks\":\"\"},\"colorscale\":[[0.0,\"#0d0887\"],[0.1111111111111111,\"#46039f\"],[0.2222222222222222,\"#7201a8\"],[0.3333333333333333,\"#9c179e\"],[0.4444444444444444,\"#bd3786\"],[0.5555555555555556,\"#d8576b\"],[0.6666666666666666,\"#ed7953\"],[0.7777777777777778,\"#fb9f3a\"],[0.8888888888888888,\"#fdca26\"],[1.0,\"#f0f921\"]]}],\"heatmapgl\":[{\"type\":\"heatmapgl\",\"colorbar\":{\"outlinewidth\":0,\"ticks\":\"\"},\"colorscale\":[[0.0,\"#0d0887\"],[0.1111111111111111,\"#46039f\"],[0.2222222222222222,\"#7201a8\"],[0.3333333333333333,\"#9c179e\"],[0.4444444444444444,\"#bd3786\"],[0.5555555555555556,\"#d8576b\"],[0.6666666666666666,\"#ed7953\"],[0.7777777777777778,\"#fb9f3a\"],[0.8888888888888888,\"#fdca26\"],[1.0,\"#f0f921\"]]}],\"contourcarpet\":[{\"type\":\"contourcarpet\",\"colorbar\":{\"outlinewidth\":0,\"ticks\":\"\"}}],\"contour\":[{\"type\":\"contour\",\"colorbar\":{\"outlinewidth\":0,\"ticks\":\"\"},\"colorscale\":[[0.0,\"#0d0887\"],[0.1111111111111111,\"#46039f\"],[0.2222222222222222,\"#7201a8\"],[0.3333333333333333,\"#9c179e\"],[0.4444444444444444,\"#bd3786\"],[0.5555555555555556,\"#d8576b\"],[0.6666666666666666,\"#ed7953\"],[0.7777777777777778,\"#fb9f3a\"],[0.8888888888888888,\"#fdca26\"],[1.0,\"#f0f921\"]]}],\"surface\":[{\"type\":\"surface\",\"colorbar\":{\"outlinewidth\":0,\"ticks\":\"\"},\"colorscale\":[[0.0,\"#0d0887\"],[0.1111111111111111,\"#46039f\"],[0.2222222222222222,\"#7201a8\"],[0.3333333333333333,\"#9c179e\"],[0.4444444444444444,\"#bd3786\"],[0.5555555555555556,\"#d8576b\"],[0.6666666666666666,\"#ed7953\"],[0.7777777777777778,\"#fb9f3a\"],[0.8888888888888888,\"#fdca26\"],[1.0,\"#f0f921\"]]}],\"mesh3d\":[{\"type\":\"mesh3d\",\"colorbar\":{\"outlinewidth\":0,\"ticks\":\"\"}}],\"scatter\":[{\"fillpattern\":{\"fillmode\":\"overlay\",\"size\":10,\"solidity\":0.2},\"type\":\"scatter\"}],\"parcoords\":[{\"type\":\"parcoords\",\"line\":{\"colorbar\":{\"outlinewidth\":0,\"ticks\":\"\"}}}],\"scatterpolargl\":[{\"type\":\"scatterpolargl\",\"marker\":{\"colorbar\":{\"outlinewidth\":0,\"ticks\":\"\"}}}],\"bar\":[{\"error_x\":{\"color\":\"#2a3f5f\"},\"error_y\":{\"color\":\"#2a3f5f\"},\"marker\":{\"line\":{\"color\":\"#E5ECF6\",\"width\":0.5},\"pattern\":{\"fillmode\":\"overlay\",\"size\":10,\"solidity\":0.2}},\"type\":\"bar\"}],\"scattergeo\":[{\"type\":\"scattergeo\",\"marker\":{\"colorbar\":{\"outlinewidth\":0,\"ticks\":\"\"}}}],\"scatterpolar\":[{\"type\":\"scatterpolar\",\"marker\":{\"colorbar\":{\"outlinewidth\":0,\"ticks\":\"\"}}}],\"histogram\":[{\"marker\":{\"pattern\":{\"fillmode\":\"overlay\",\"size\":10,\"solidity\":0.2}},\"type\":\"histogram\"}],\"scattergl\":[{\"type\":\"scattergl\",\"marker\":{\"colorbar\":{\"outlinewidth\":0,\"ticks\":\"\"}}}],\"scatter3d\":[{\"type\":\"scatter3d\",\"line\":{\"colorbar\":{\"outlinewidth\":0,\"ticks\":\"\"}},\"marker\":{\"colorbar\":{\"outlinewidth\":0,\"ticks\":\"\"}}}],\"scattermapbox\":[{\"type\":\"scattermapbox\",\"marker\":{\"colorbar\":{\"outlinewidth\":0,\"ticks\":\"\"}}}],\"scatterternary\":[{\"type\":\"scatterternary\",\"marker\":{\"colorbar\":{\"outlinewidth\":0,\"ticks\":\"\"}}}],\"scattercarpet\":[{\"type\":\"scattercarpet\",\"marker\":{\"colorbar\":{\"outlinewidth\":0,\"ticks\":\"\"}}}],\"carpet\":[{\"aaxis\":{\"endlinecolor\":\"#2a3f5f\",\"gridcolor\":\"white\",\"linecolor\":\"white\",\"minorgridcolor\":\"white\",\"startlinecolor\":\"#2a3f5f\"},\"baxis\":{\"endlinecolor\":\"#2a3f5f\",\"gridcolor\":\"white\",\"linecolor\":\"white\",\"minorgridcolor\":\"white\",\"startlinecolor\":\"#2a3f5f\"},\"type\":\"carpet\"}],\"table\":[{\"cells\":{\"fill\":{\"color\":\"#EBF0F8\"},\"line\":{\"color\":\"white\"}},\"header\":{\"fill\":{\"color\":\"#C8D4E3\"},\"line\":{\"color\":\"white\"}},\"type\":\"table\"}],\"barpolar\":[{\"marker\":{\"line\":{\"color\":\"#E5ECF6\",\"width\":0.5},\"pattern\":{\"fillmode\":\"overlay\",\"size\":10,\"solidity\":0.2}},\"type\":\"barpolar\"}],\"pie\":[{\"automargin\":true,\"type\":\"pie\"}]},\"layout\":{\"autotypenumbers\":\"strict\",\"colorway\":[\"#636efa\",\"#EF553B\",\"#00cc96\",\"#ab63fa\",\"#FFA15A\",\"#19d3f3\",\"#FF6692\",\"#B6E880\",\"#FF97FF\",\"#FECB52\"],\"font\":{\"color\":\"#2a3f5f\"},\"hovermode\":\"closest\",\"hoverlabel\":{\"align\":\"left\"},\"paper_bgcolor\":\"white\",\"plot_bgcolor\":\"#E5ECF6\",\"polar\":{\"bgcolor\":\"#E5ECF6\",\"angularaxis\":{\"gridcolor\":\"white\",\"linecolor\":\"white\",\"ticks\":\"\"},\"radialaxis\":{\"gridcolor\":\"white\",\"linecolor\":\"white\",\"ticks\":\"\"}},\"ternary\":{\"bgcolor\":\"#E5ECF6\",\"aaxis\":{\"gridcolor\":\"white\",\"linecolor\":\"white\",\"ticks\":\"\"},\"baxis\":{\"gridcolor\":\"white\",\"linecolor\":\"white\",\"ticks\":\"\"},\"caxis\":{\"gridcolor\":\"white\",\"linecolor\":\"white\",\"ticks\":\"\"}},\"coloraxis\":{\"colorbar\":{\"outlinewidth\":0,\"ticks\":\"\"}},\"colorscale\":{\"sequential\":[[0.0,\"#0d0887\"],[0.1111111111111111,\"#46039f\"],[0.2222222222222222,\"#7201a8\"],[0.3333333333333333,\"#9c179e\"],[0.4444444444444444,\"#bd3786\"],[0.5555555555555556,\"#d8576b\"],[0.6666666666666666,\"#ed7953\"],[0.7777777777777778,\"#fb9f3a\"],[0.8888888888888888,\"#fdca26\"],[1.0,\"#f0f921\"]],\"sequentialminus\":[[0.0,\"#0d0887\"],[0.1111111111111111,\"#46039f\"],[0.2222222222222222,\"#7201a8\"],[0.3333333333333333,\"#9c179e\"],[0.4444444444444444,\"#bd3786\"],[0.5555555555555556,\"#d8576b\"],[0.6666666666666666,\"#ed7953\"],[0.7777777777777778,\"#fb9f3a\"],[0.8888888888888888,\"#fdca26\"],[1.0,\"#f0f921\"]],\"diverging\":[[0,\"#8e0152\"],[0.1,\"#c51b7d\"],[0.2,\"#de77ae\"],[0.3,\"#f1b6da\"],[0.4,\"#fde0ef\"],[0.5,\"#f7f7f7\"],[0.6,\"#e6f5d0\"],[0.7,\"#b8e186\"],[0.8,\"#7fbc41\"],[0.9,\"#4d9221\"],[1,\"#276419\"]]},\"xaxis\":{\"gridcolor\":\"white\",\"linecolor\":\"white\",\"ticks\":\"\",\"title\":{\"standoff\":15},\"zerolinecolor\":\"white\",\"automargin\":true,\"zerolinewidth\":2},\"yaxis\":{\"gridcolor\":\"white\",\"linecolor\":\"white\",\"ticks\":\"\",\"title\":{\"standoff\":15},\"zerolinecolor\":\"white\",\"automargin\":true,\"zerolinewidth\":2},\"scene\":{\"xaxis\":{\"backgroundcolor\":\"#E5ECF6\",\"gridcolor\":\"white\",\"linecolor\":\"white\",\"showbackground\":true,\"ticks\":\"\",\"zerolinecolor\":\"white\",\"gridwidth\":2},\"yaxis\":{\"backgroundcolor\":\"#E5ECF6\",\"gridcolor\":\"white\",\"linecolor\":\"white\",\"showbackground\":true,\"ticks\":\"\",\"zerolinecolor\":\"white\",\"gridwidth\":2},\"zaxis\":{\"backgroundcolor\":\"#E5ECF6\",\"gridcolor\":\"white\",\"linecolor\":\"white\",\"showbackground\":true,\"ticks\":\"\",\"zerolinecolor\":\"white\",\"gridwidth\":2}},\"shapedefaults\":{\"line\":{\"color\":\"#2a3f5f\"}},\"annotationdefaults\":{\"arrowcolor\":\"#2a3f5f\",\"arrowhead\":0,\"arrowwidth\":1},\"geo\":{\"bgcolor\":\"white\",\"landcolor\":\"#E5ECF6\",\"subunitcolor\":\"white\",\"showland\":true,\"showlakes\":true,\"lakecolor\":\"white\"},\"title\":{\"x\":0.05},\"mapbox\":{\"style\":\"light\"}}},\"xaxis\":{\"anchor\":\"y\",\"domain\":[0.0,1.0]},\"yaxis\":{\"anchor\":\"x\",\"domain\":[0.0,1.0],\"title\":{\"text\":\"FastingBS\"}},\"legend\":{\"tracegroupgap\":0},\"margin\":{\"t\":60},\"boxmode\":\"group\"},                        {\"responsive\": true}                    ).then(function(){\n",
              "                            \n",
              "var gd = document.getElementById('d92c8aa5-26ef-4e18-93b0-2e87b64222f0');\n",
              "var x = new MutationObserver(function (mutations, observer) {{\n",
              "        var display = window.getComputedStyle(gd).display;\n",
              "        if (!display || display === 'none') {{\n",
              "            console.log([gd, 'removed!']);\n",
              "            Plotly.purge(gd);\n",
              "            observer.disconnect();\n",
              "        }}\n",
              "}});\n",
              "\n",
              "// Listen for the removal of the full notebook cells\n",
              "var notebookContainer = gd.closest('#notebook-container');\n",
              "if (notebookContainer) {{\n",
              "    x.observe(notebookContainer, {childList: true});\n",
              "}}\n",
              "\n",
              "// Listen for the clearing of the current output cell\n",
              "var outputEl = gd.closest('.output');\n",
              "if (outputEl) {{\n",
              "    x.observe(outputEl, {childList: true});\n",
              "}}\n",
              "\n",
              "                        })                };                            </script>        </div>\n",
              "</body>\n",
              "</html>"
            ]
          },
          "metadata": {}
        },
        {
          "output_type": "stream",
          "name": "stdout",
          "text": [
            "Tipo da coluna:\n",
            " object\n",
            "Valores unicos:\n",
            " ['Normal' 'ST' 'LVH']\n",
            "\n",
            "Quantidades de unicos:\n",
            " 3\n",
            "\n",
            "Quantidades de valores nulos:\n",
            " 0\n",
            "\n",
            "Analisando a media:\n",
            " count        918\n",
            "unique         3\n",
            "top       Normal\n",
            "freq         552\n",
            "Name: RestingECG, dtype: object\n",
            "\n",
            "Quantidades por opcao:\n",
            " RestingECG\n",
            "LVH       188\n",
            "Normal    552\n",
            "ST        178\n",
            "Name: count, dtype: int64\n"
          ]
        },
        {
          "output_type": "display_data",
          "data": {
            "text/html": [
              "<html>\n",
              "<head><meta charset=\"utf-8\" /></head>\n",
              "<body>\n",
              "    <div>            <script src=\"https://cdnjs.cloudflare.com/ajax/libs/mathjax/2.7.5/MathJax.js?config=TeX-AMS-MML_SVG\"></script><script type=\"text/javascript\">if (window.MathJax && window.MathJax.Hub && window.MathJax.Hub.Config) {window.MathJax.Hub.Config({SVG: {font: \"STIX-Web\"}});}</script>                <script type=\"text/javascript\">window.PlotlyConfig = {MathJaxConfig: 'local'};</script>\n",
              "        <script charset=\"utf-8\" src=\"https://cdn.plot.ly/plotly-2.24.1.min.js\"></script>                <div id=\"c491583e-3749-4fc8-9dd5-59dc48c5e9c3\" class=\"plotly-graph-div\" style=\"height:525px; width:100%;\"></div>            <script type=\"text/javascript\">                                    window.PLOTLYENV=window.PLOTLYENV || {};                                    if (document.getElementById(\"c491583e-3749-4fc8-9dd5-59dc48c5e9c3\")) {                    Plotly.newPlot(                        \"c491583e-3749-4fc8-9dd5-59dc48c5e9c3\",                        [{\"alignmentgroup\":\"True\",\"hovertemplate\":\"RestingECG=%{x}\\u003cbr\\u003ecount=%{y}\\u003cextra\\u003e\\u003c\\u002fextra\\u003e\",\"legendgroup\":\"\",\"marker\":{\"color\":\"#636efa\",\"pattern\":{\"shape\":\"\"}},\"name\":\"\",\"offsetgroup\":\"\",\"orientation\":\"v\",\"showlegend\":false,\"textposition\":\"auto\",\"x\":[\"Normal\",\"Normal\",\"ST\",\"Normal\",\"Normal\",\"Normal\",\"Normal\",\"Normal\",\"Normal\",\"Normal\",\"Normal\",\"ST\",\"Normal\",\"Normal\",\"ST\",\"Normal\",\"Normal\",\"Normal\",\"Normal\",\"Normal\",\"Normal\",\"Normal\",\"Normal\",\"Normal\",\"Normal\",\"Normal\",\"ST\",\"Normal\",\"Normal\",\"Normal\",\"Normal\",\"Normal\",\"Normal\",\"ST\",\"Normal\",\"Normal\",\"Normal\",\"ST\",\"ST\",\"Normal\",\"Normal\",\"ST\",\"Normal\",\"ST\",\"Normal\",\"Normal\",\"Normal\",\"Normal\",\"Normal\",\"Normal\",\"Normal\",\"Normal\",\"Normal\",\"Normal\",\"Normal\",\"Normal\",\"Normal\",\"ST\",\"ST\",\"ST\",\"Normal\",\"Normal\",\"Normal\",\"Normal\",\"Normal\",\"Normal\",\"Normal\",\"Normal\",\"ST\",\"Normal\",\"ST\",\"Normal\",\"Normal\",\"ST\",\"Normal\",\"Normal\",\"Normal\",\"Normal\",\"Normal\",\"Normal\",\"Normal\",\"Normal\",\"Normal\",\"Normal\",\"Normal\",\"Normal\",\"Normal\",\"Normal\",\"ST\",\"Normal\",\"Normal\",\"Normal\",\"Normal\",\"Normal\",\"ST\",\"Normal\",\"Normal\",\"Normal\",\"Normal\",\"Normal\",\"ST\",\"Normal\",\"Normal\",\"Normal\",\"Normal\",\"Normal\",\"ST\",\"ST\",\"Normal\",\"Normal\",\"Normal\",\"Normal\",\"Normal\",\"Normal\",\"ST\",\"Normal\",\"Normal\",\"ST\",\"ST\",\"Normal\",\"Normal\",\"Normal\",\"ST\",\"Normal\",\"Normal\",\"Normal\",\"Normal\",\"Normal\",\"Normal\",\"Normal\",\"Normal\",\"Normal\",\"ST\",\"ST\",\"ST\",\"Normal\",\"ST\",\"ST\",\"Normal\",\"Normal\",\"Normal\",\"ST\",\"ST\",\"Normal\",\"Normal\",\"Normal\",\"Normal\",\"ST\",\"Normal\",\"Normal\",\"Normal\",\"Normal\",\"Normal\",\"Normal\",\"ST\",\"Normal\",\"Normal\",\"Normal\",\"Normal\",\"ST\",\"LVH\",\"Normal\",\"Normal\",\"Normal\",\"Normal\",\"Normal\",\"ST\",\"Normal\",\"Normal\",\"Normal\",\"Normal\",\"Normal\",\"Normal\",\"Normal\",\"Normal\",\"Normal\",\"Normal\",\"Normal\",\"Normal\",\"Normal\",\"Normal\",\"Normal\",\"Normal\",\"ST\",\"Normal\",\"ST\",\"Normal\",\"Normal\",\"Normal\",\"ST\",\"ST\",\"ST\",\"Normal\",\"Normal\",\"Normal\",\"Normal\",\"Normal\",\"Normal\",\"Normal\",\"Normal\",\"Normal\",\"Normal\",\"Normal\",\"ST\",\"Normal\",\"Normal\",\"LVH\",\"Normal\",\"LVH\",\"Normal\",\"Normal\",\"Normal\",\"Normal\",\"ST\",\"Normal\",\"ST\",\"Normal\",\"Normal\",\"Normal\",\"Normal\",\"Normal\",\"Normal\",\"Normal\",\"Normal\",\"Normal\",\"Normal\",\"Normal\",\"Normal\",\"Normal\",\"ST\",\"Normal\",\"Normal\",\"Normal\",\"Normal\",\"ST\",\"Normal\",\"Normal\",\"Normal\",\"Normal\",\"Normal\",\"Normal\",\"Normal\",\"Normal\",\"Normal\",\"Normal\",\"Normal\",\"Normal\",\"ST\",\"ST\",\"Normal\",\"Normal\",\"Normal\",\"ST\",\"Normal\",\"Normal\",\"Normal\",\"LVH\",\"Normal\",\"Normal\",\"Normal\",\"Normal\",\"Normal\",\"Normal\",\"Normal\",\"Normal\",\"Normal\",\"Normal\",\"Normal\",\"Normal\",\"Normal\",\"Normal\",\"Normal\",\"Normal\",\"LVH\",\"Normal\",\"Normal\",\"Normal\",\"Normal\",\"ST\",\"ST\",\"LVH\",\"Normal\",\"Normal\",\"ST\",\"Normal\",\"Normal\",\"Normal\",\"Normal\",\"ST\",\"Normal\",\"Normal\",\"Normal\",\"Normal\",\"Normal\",\"Normal\",\"Normal\",\"Normal\",\"ST\",\"Normal\",\"ST\",\"Normal\",\"ST\",\"Normal\",\"ST\",\"Normal\",\"Normal\",\"Normal\",\"ST\",\"Normal\",\"Normal\",\"Normal\",\"Normal\",\"Normal\",\"Normal\",\"Normal\",\"ST\",\"Normal\",\"Normal\",\"Normal\",\"Normal\",\"Normal\",\"Normal\",\"Normal\",\"Normal\",\"ST\",\"Normal\",\"Normal\",\"Normal\",\"Normal\",\"ST\",\"Normal\",\"ST\",\"Normal\",\"ST\",\"Normal\",\"LVH\",\"LVH\",\"ST\",\"LVH\",\"Normal\",\"Normal\",\"Normal\",\"Normal\",\"Normal\",\"Normal\",\"Normal\",\"Normal\",\"Normal\",\"ST\",\"Normal\",\"Normal\",\"ST\",\"ST\",\"ST\",\"ST\",\"LVH\",\"Normal\",\"Normal\",\"Normal\",\"Normal\",\"Normal\",\"Normal\",\"ST\",\"ST\",\"Normal\",\"Normal\",\"Normal\",\"ST\",\"Normal\",\"Normal\",\"Normal\",\"Normal\",\"Normal\",\"Normal\",\"Normal\",\"ST\",\"Normal\",\"ST\",\"Normal\",\"ST\",\"ST\",\"Normal\",\"Normal\",\"Normal\",\"Normal\",\"Normal\",\"Normal\",\"LVH\",\"Normal\",\"ST\",\"Normal\",\"ST\",\"LVH\",\"Normal\",\"Normal\",\"Normal\",\"Normal\",\"ST\",\"Normal\",\"ST\",\"Normal\",\"ST\",\"ST\",\"Normal\",\"Normal\",\"Normal\",\"Normal\",\"Normal\",\"Normal\",\"LVH\",\"ST\",\"Normal\",\"Normal\",\"Normal\",\"Normal\",\"Normal\",\"ST\",\"ST\",\"ST\",\"ST\",\"LVH\",\"ST\",\"ST\",\"ST\",\"Normal\",\"ST\",\"ST\",\"ST\",\"Normal\",\"LVH\",\"ST\",\"ST\",\"Normal\",\"Normal\",\"ST\",\"ST\",\"Normal\",\"ST\",\"ST\",\"Normal\",\"ST\",\"ST\",\"ST\",\"ST\",\"Normal\",\"ST\",\"ST\",\"ST\",\"Normal\",\"Normal\",\"Normal\",\"ST\",\"ST\",\"Normal\",\"Normal\",\"ST\",\"Normal\",\"Normal\",\"ST\",\"ST\",\"ST\",\"Normal\",\"Normal\",\"Normal\",\"Normal\",\"Normal\",\"ST\",\"Normal\",\"ST\",\"Normal\",\"Normal\",\"Normal\",\"ST\",\"ST\",\"Normal\",\"LVH\",\"LVH\",\"Normal\",\"ST\",\"LVH\",\"Normal\",\"ST\",\"Normal\",\"LVH\",\"Normal\",\"ST\",\"ST\",\"ST\",\"Normal\",\"Normal\",\"Normal\",\"ST\",\"ST\",\"Normal\",\"Normal\",\"Normal\",\"Normal\",\"Normal\",\"ST\",\"Normal\",\"Normal\",\"Normal\",\"ST\",\"ST\",\"Normal\",\"ST\",\"Normal\",\"Normal\",\"Normal\",\"Normal\",\"Normal\",\"ST\",\"ST\",\"ST\",\"Normal\",\"ST\",\"Normal\",\"Normal\",\"ST\",\"ST\",\"ST\",\"ST\",\"LVH\",\"Normal\",\"ST\",\"Normal\",\"LVH\",\"Normal\",\"Normal\",\"Normal\",\"Normal\",\"ST\",\"ST\",\"ST\",\"Normal\",\"LVH\",\"ST\",\"ST\",\"Normal\",\"LVH\",\"ST\",\"LVH\",\"Normal\",\"ST\",\"Normal\",\"ST\",\"ST\",\"ST\",\"Normal\",\"ST\",\"Normal\",\"LVH\",\"Normal\",\"Normal\",\"ST\",\"ST\",\"Normal\",\"ST\",\"ST\",\"Normal\",\"ST\",\"ST\",\"Normal\",\"ST\",\"ST\",\"ST\",\"Normal\",\"ST\",\"Normal\",\"Normal\",\"ST\",\"Normal\",\"ST\",\"LVH\",\"ST\",\"Normal\",\"ST\",\"Normal\",\"LVH\",\"ST\",\"LVH\",\"Normal\",\"LVH\",\"LVH\",\"ST\",\"ST\",\"Normal\",\"LVH\",\"ST\",\"Normal\",\"ST\",\"ST\",\"LVH\",\"LVH\",\"LVH\",\"LVH\",\"LVH\",\"ST\",\"LVH\",\"Normal\",\"ST\",\"Normal\",\"Normal\",\"Normal\",\"Normal\",\"LVH\",\"ST\",\"ST\",\"ST\",\"Normal\",\"ST\",\"ST\",\"ST\",\"LVH\",\"LVH\",\"LVH\",\"LVH\",\"Normal\",\"Normal\",\"LVH\",\"Normal\",\"LVH\",\"LVH\",\"LVH\",\"LVH\",\"Normal\",\"LVH\",\"LVH\",\"Normal\",\"LVH\",\"Normal\",\"Normal\",\"LVH\",\"LVH\",\"Normal\",\"LVH\",\"LVH\",\"Normal\",\"Normal\",\"LVH\",\"Normal\",\"LVH\",\"LVH\",\"LVH\",\"LVH\",\"LVH\",\"LVH\",\"Normal\",\"LVH\",\"LVH\",\"LVH\",\"LVH\",\"LVH\",\"Normal\",\"LVH\",\"Normal\",\"Normal\",\"Normal\",\"Normal\",\"Normal\",\"LVH\",\"LVH\",\"LVH\",\"Normal\",\"LVH\",\"Normal\",\"Normal\",\"LVH\",\"Normal\",\"LVH\",\"Normal\",\"LVH\",\"Normal\",\"Normal\",\"LVH\",\"Normal\",\"Normal\",\"Normal\",\"Normal\",\"LVH\",\"LVH\",\"LVH\",\"LVH\",\"Normal\",\"Normal\",\"Normal\",\"Normal\",\"LVH\",\"ST\",\"Normal\",\"LVH\",\"LVH\",\"Normal\",\"Normal\",\"Normal\",\"Normal\",\"Normal\",\"LVH\",\"LVH\",\"Normal\",\"LVH\",\"LVH\",\"LVH\",\"Normal\",\"LVH\",\"Normal\",\"LVH\",\"LVH\",\"LVH\",\"Normal\",\"LVH\",\"LVH\",\"Normal\",\"Normal\",\"Normal\",\"Normal\",\"Normal\",\"Normal\",\"LVH\",\"LVH\",\"LVH\",\"Normal\",\"LVH\",\"Normal\",\"Normal\",\"ST\",\"Normal\",\"LVH\",\"Normal\",\"Normal\",\"Normal\",\"LVH\",\"LVH\",\"Normal\",\"LVH\",\"Normal\",\"LVH\",\"Normal\",\"LVH\",\"LVH\",\"Normal\",\"Normal\",\"LVH\",\"Normal\",\"Normal\",\"Normal\",\"LVH\",\"Normal\",\"LVH\",\"LVH\",\"LVH\",\"Normal\",\"LVH\",\"Normal\",\"Normal\",\"LVH\",\"LVH\",\"Normal\",\"LVH\",\"LVH\",\"Normal\",\"Normal\",\"LVH\",\"LVH\",\"LVH\",\"Normal\",\"Normal\",\"LVH\",\"Normal\",\"LVH\",\"Normal\",\"Normal\",\"LVH\",\"LVH\",\"Normal\",\"Normal\",\"Normal\",\"Normal\",\"LVH\",\"Normal\",\"Normal\",\"LVH\",\"LVH\",\"LVH\",\"LVH\",\"LVH\",\"LVH\",\"LVH\",\"LVH\",\"LVH\",\"Normal\",\"Normal\",\"Normal\",\"Normal\",\"Normal\",\"Normal\",\"LVH\",\"LVH\",\"LVH\",\"LVH\",\"Normal\",\"LVH\",\"Normal\",\"LVH\",\"Normal\",\"Normal\",\"Normal\",\"Normal\",\"LVH\",\"Normal\",\"LVH\",\"LVH\",\"Normal\",\"Normal\",\"LVH\",\"Normal\",\"LVH\",\"LVH\",\"Normal\",\"LVH\",\"Normal\",\"Normal\",\"LVH\",\"Normal\",\"Normal\",\"LVH\",\"LVH\",\"Normal\",\"LVH\",\"LVH\",\"LVH\",\"LVH\",\"Normal\",\"LVH\",\"Normal\",\"Normal\",\"LVH\",\"Normal\",\"LVH\",\"Normal\",\"Normal\",\"Normal\",\"LVH\",\"LVH\",\"LVH\",\"LVH\",\"Normal\",\"LVH\",\"Normal\",\"Normal\",\"LVH\",\"LVH\",\"LVH\",\"LVH\",\"Normal\",\"LVH\",\"LVH\",\"LVH\",\"LVH\",\"LVH\",\"Normal\",\"LVH\",\"Normal\",\"LVH\",\"LVH\",\"Normal\",\"LVH\",\"LVH\",\"Normal\",\"Normal\",\"Normal\",\"Normal\",\"Normal\",\"Normal\",\"Normal\",\"Normal\",\"LVH\",\"LVH\",\"Normal\",\"Normal\",\"Normal\",\"Normal\",\"LVH\",\"Normal\",\"LVH\",\"LVH\",\"Normal\",\"LVH\",\"Normal\",\"Normal\",\"LVH\",\"LVH\",\"Normal\",\"LVH\",\"Normal\",\"Normal\",\"Normal\",\"ST\",\"Normal\",\"Normal\",\"ST\",\"LVH\",\"Normal\",\"LVH\",\"Normal\",\"LVH\",\"Normal\",\"Normal\",\"LVH\",\"Normal\",\"Normal\",\"LVH\",\"Normal\",\"Normal\",\"Normal\",\"Normal\",\"LVH\",\"Normal\"],\"xaxis\":\"x\",\"y\":[1,1,1,1,1,1,1,1,1,1,1,1,1,1,1,1,1,1,1,1,1,1,1,1,1,1,1,1,1,1,1,1,1,1,1,1,1,1,1,1,1,1,1,1,1,1,1,1,1,1,1,1,1,1,1,1,1,1,1,1,1,1,1,1,1,1,1,1,1,1,1,1,1,1,1,1,1,1,1,1,1,1,1,1,1,1,1,1,1,1,1,1,1,1,1,1,1,1,1,1,1,1,1,1,1,1,1,1,1,1,1,1,1,1,1,1,1,1,1,1,1,1,1,1,1,1,1,1,1,1,1,1,1,1,1,1,1,1,1,1,1,1,1,1,1,1,1,1,1,1,1,1,1,1,1,1,1,1,1,1,1,1,1,1,1,1,1,1,1,1,1,1,1,1,1,1,1,1,1,1,1,1,1,1,1,1,1,1,1,1,1,1,1,1,1,1,1,1,1,1,1,1,1,1,1,1,1,1,1,1,1,1,1,1,1,1,1,1,1,1,1,1,1,1,1,1,1,1,1,1,1,1,1,1,1,1,1,1,1,1,1,1,1,1,1,1,1,1,1,1,1,1,1,1,1,1,1,1,1,1,1,1,1,1,1,1,1,1,1,1,1,1,1,1,1,1,1,1,1,1,1,1,1,1,1,1,1,1,1,1,1,1,1,1,1,1,1,1,1,1,1,1,1,1,1,1,1,1,1,1,1,1,1,1,1,1,1,1,1,1,1,1,1,1,1,1,1,1,1,1,1,1,1,1,1,1,1,1,1,1,1,1,1,1,1,1,1,1,1,1,1,1,1,1,1,1,1,1,1,1,1,1,1,1,1,1,1,1,1,1,1,1,1,1,1,1,1,1,1,1,1,1,1,1,1,1,1,1,1,1,1,1,1,1,1,1,1,1,1,1,1,1,1,1,1,1,1,1,1,1,1,1,1,1,1,1,1,1,1,1,1,1,1,1,1,1,1,1,1,1,1,1,1,1,1,1,1,1,1,1,1,1,1,1,1,1,1,1,1,1,1,1,1,1,1,1,1,1,1,1,1,1,1,1,1,1,1,1,1,1,1,1,1,1,1,1,1,1,1,1,1,1,1,1,1,1,1,1,1,1,1,1,1,1,1,1,1,1,1,1,1,1,1,1,1,1,1,1,1,1,1,1,1,1,1,1,1,1,1,1,1,1,1,1,1,1,1,1,1,1,1,1,1,1,1,1,1,1,1,1,1,1,1,1,1,1,1,1,1,1,1,1,1,1,1,1,1,1,1,1,1,1,1,1,1,1,1,1,1,1,1,1,1,1,1,1,1,1,1,1,1,1,1,1,1,1,1,1,1,1,1,1,1,1,1,1,1,1,1,1,1,1,1,1,1,1,1,1,1,1,1,1,1,1,1,1,1,1,1,1,1,1,1,1,1,1,1,1,1,1,1,1,1,1,1,1,1,1,1,1,1,1,1,1,1,1,1,1,1,1,1,1,1,1,1,1,1,1,1,1,1,1,1,1,1,1,1,1,1,1,1,1,1,1,1,1,1,1,1,1,1,1,1,1,1,1,1,1,1,1,1,1,1,1,1,1,1,1,1,1,1,1,1,1,1,1,1,1,1,1,1,1,1,1,1,1,1,1,1,1,1,1,1,1,1,1,1,1,1,1,1,1,1,1,1,1,1,1,1,1,1,1,1,1,1,1,1,1,1,1,1,1,1,1,1,1,1,1,1,1,1,1,1,1,1,1,1,1,1,1,1,1,1,1,1,1,1,1,1,1,1,1,1,1,1,1,1,1,1,1,1,1,1,1,1,1,1,1,1,1,1,1,1,1,1,1,1,1,1,1,1,1,1,1,1,1,1,1,1,1,1,1,1,1,1,1,1,1,1,1,1,1,1,1,1,1,1,1,1,1,1,1,1,1,1,1,1,1,1,1,1,1,1,1,1,1,1,1,1,1,1,1,1,1,1,1,1,1,1,1,1,1,1,1,1,1,1,1,1,1,1,1,1,1,1,1,1,1,1,1,1,1,1,1,1,1,1,1,1,1,1,1,1,1,1,1,1,1,1,1,1,1,1,1,1,1,1,1],\"yaxis\":\"y\",\"type\":\"bar\"}],                        {\"template\":{\"data\":{\"histogram2dcontour\":[{\"type\":\"histogram2dcontour\",\"colorbar\":{\"outlinewidth\":0,\"ticks\":\"\"},\"colorscale\":[[0.0,\"#0d0887\"],[0.1111111111111111,\"#46039f\"],[0.2222222222222222,\"#7201a8\"],[0.3333333333333333,\"#9c179e\"],[0.4444444444444444,\"#bd3786\"],[0.5555555555555556,\"#d8576b\"],[0.6666666666666666,\"#ed7953\"],[0.7777777777777778,\"#fb9f3a\"],[0.8888888888888888,\"#fdca26\"],[1.0,\"#f0f921\"]]}],\"choropleth\":[{\"type\":\"choropleth\",\"colorbar\":{\"outlinewidth\":0,\"ticks\":\"\"}}],\"histogram2d\":[{\"type\":\"histogram2d\",\"colorbar\":{\"outlinewidth\":0,\"ticks\":\"\"},\"colorscale\":[[0.0,\"#0d0887\"],[0.1111111111111111,\"#46039f\"],[0.2222222222222222,\"#7201a8\"],[0.3333333333333333,\"#9c179e\"],[0.4444444444444444,\"#bd3786\"],[0.5555555555555556,\"#d8576b\"],[0.6666666666666666,\"#ed7953\"],[0.7777777777777778,\"#fb9f3a\"],[0.8888888888888888,\"#fdca26\"],[1.0,\"#f0f921\"]]}],\"heatmap\":[{\"type\":\"heatmap\",\"colorbar\":{\"outlinewidth\":0,\"ticks\":\"\"},\"colorscale\":[[0.0,\"#0d0887\"],[0.1111111111111111,\"#46039f\"],[0.2222222222222222,\"#7201a8\"],[0.3333333333333333,\"#9c179e\"],[0.4444444444444444,\"#bd3786\"],[0.5555555555555556,\"#d8576b\"],[0.6666666666666666,\"#ed7953\"],[0.7777777777777778,\"#fb9f3a\"],[0.8888888888888888,\"#fdca26\"],[1.0,\"#f0f921\"]]}],\"heatmapgl\":[{\"type\":\"heatmapgl\",\"colorbar\":{\"outlinewidth\":0,\"ticks\":\"\"},\"colorscale\":[[0.0,\"#0d0887\"],[0.1111111111111111,\"#46039f\"],[0.2222222222222222,\"#7201a8\"],[0.3333333333333333,\"#9c179e\"],[0.4444444444444444,\"#bd3786\"],[0.5555555555555556,\"#d8576b\"],[0.6666666666666666,\"#ed7953\"],[0.7777777777777778,\"#fb9f3a\"],[0.8888888888888888,\"#fdca26\"],[1.0,\"#f0f921\"]]}],\"contourcarpet\":[{\"type\":\"contourcarpet\",\"colorbar\":{\"outlinewidth\":0,\"ticks\":\"\"}}],\"contour\":[{\"type\":\"contour\",\"colorbar\":{\"outlinewidth\":0,\"ticks\":\"\"},\"colorscale\":[[0.0,\"#0d0887\"],[0.1111111111111111,\"#46039f\"],[0.2222222222222222,\"#7201a8\"],[0.3333333333333333,\"#9c179e\"],[0.4444444444444444,\"#bd3786\"],[0.5555555555555556,\"#d8576b\"],[0.6666666666666666,\"#ed7953\"],[0.7777777777777778,\"#fb9f3a\"],[0.8888888888888888,\"#fdca26\"],[1.0,\"#f0f921\"]]}],\"surface\":[{\"type\":\"surface\",\"colorbar\":{\"outlinewidth\":0,\"ticks\":\"\"},\"colorscale\":[[0.0,\"#0d0887\"],[0.1111111111111111,\"#46039f\"],[0.2222222222222222,\"#7201a8\"],[0.3333333333333333,\"#9c179e\"],[0.4444444444444444,\"#bd3786\"],[0.5555555555555556,\"#d8576b\"],[0.6666666666666666,\"#ed7953\"],[0.7777777777777778,\"#fb9f3a\"],[0.8888888888888888,\"#fdca26\"],[1.0,\"#f0f921\"]]}],\"mesh3d\":[{\"type\":\"mesh3d\",\"colorbar\":{\"outlinewidth\":0,\"ticks\":\"\"}}],\"scatter\":[{\"fillpattern\":{\"fillmode\":\"overlay\",\"size\":10,\"solidity\":0.2},\"type\":\"scatter\"}],\"parcoords\":[{\"type\":\"parcoords\",\"line\":{\"colorbar\":{\"outlinewidth\":0,\"ticks\":\"\"}}}],\"scatterpolargl\":[{\"type\":\"scatterpolargl\",\"marker\":{\"colorbar\":{\"outlinewidth\":0,\"ticks\":\"\"}}}],\"bar\":[{\"error_x\":{\"color\":\"#2a3f5f\"},\"error_y\":{\"color\":\"#2a3f5f\"},\"marker\":{\"line\":{\"color\":\"#E5ECF6\",\"width\":0.5},\"pattern\":{\"fillmode\":\"overlay\",\"size\":10,\"solidity\":0.2}},\"type\":\"bar\"}],\"scattergeo\":[{\"type\":\"scattergeo\",\"marker\":{\"colorbar\":{\"outlinewidth\":0,\"ticks\":\"\"}}}],\"scatterpolar\":[{\"type\":\"scatterpolar\",\"marker\":{\"colorbar\":{\"outlinewidth\":0,\"ticks\":\"\"}}}],\"histogram\":[{\"marker\":{\"pattern\":{\"fillmode\":\"overlay\",\"size\":10,\"solidity\":0.2}},\"type\":\"histogram\"}],\"scattergl\":[{\"type\":\"scattergl\",\"marker\":{\"colorbar\":{\"outlinewidth\":0,\"ticks\":\"\"}}}],\"scatter3d\":[{\"type\":\"scatter3d\",\"line\":{\"colorbar\":{\"outlinewidth\":0,\"ticks\":\"\"}},\"marker\":{\"colorbar\":{\"outlinewidth\":0,\"ticks\":\"\"}}}],\"scattermapbox\":[{\"type\":\"scattermapbox\",\"marker\":{\"colorbar\":{\"outlinewidth\":0,\"ticks\":\"\"}}}],\"scatterternary\":[{\"type\":\"scatterternary\",\"marker\":{\"colorbar\":{\"outlinewidth\":0,\"ticks\":\"\"}}}],\"scattercarpet\":[{\"type\":\"scattercarpet\",\"marker\":{\"colorbar\":{\"outlinewidth\":0,\"ticks\":\"\"}}}],\"carpet\":[{\"aaxis\":{\"endlinecolor\":\"#2a3f5f\",\"gridcolor\":\"white\",\"linecolor\":\"white\",\"minorgridcolor\":\"white\",\"startlinecolor\":\"#2a3f5f\"},\"baxis\":{\"endlinecolor\":\"#2a3f5f\",\"gridcolor\":\"white\",\"linecolor\":\"white\",\"minorgridcolor\":\"white\",\"startlinecolor\":\"#2a3f5f\"},\"type\":\"carpet\"}],\"table\":[{\"cells\":{\"fill\":{\"color\":\"#EBF0F8\"},\"line\":{\"color\":\"white\"}},\"header\":{\"fill\":{\"color\":\"#C8D4E3\"},\"line\":{\"color\":\"white\"}},\"type\":\"table\"}],\"barpolar\":[{\"marker\":{\"line\":{\"color\":\"#E5ECF6\",\"width\":0.5},\"pattern\":{\"fillmode\":\"overlay\",\"size\":10,\"solidity\":0.2}},\"type\":\"barpolar\"}],\"pie\":[{\"automargin\":true,\"type\":\"pie\"}]},\"layout\":{\"autotypenumbers\":\"strict\",\"colorway\":[\"#636efa\",\"#EF553B\",\"#00cc96\",\"#ab63fa\",\"#FFA15A\",\"#19d3f3\",\"#FF6692\",\"#B6E880\",\"#FF97FF\",\"#FECB52\"],\"font\":{\"color\":\"#2a3f5f\"},\"hovermode\":\"closest\",\"hoverlabel\":{\"align\":\"left\"},\"paper_bgcolor\":\"white\",\"plot_bgcolor\":\"#E5ECF6\",\"polar\":{\"bgcolor\":\"#E5ECF6\",\"angularaxis\":{\"gridcolor\":\"white\",\"linecolor\":\"white\",\"ticks\":\"\"},\"radialaxis\":{\"gridcolor\":\"white\",\"linecolor\":\"white\",\"ticks\":\"\"}},\"ternary\":{\"bgcolor\":\"#E5ECF6\",\"aaxis\":{\"gridcolor\":\"white\",\"linecolor\":\"white\",\"ticks\":\"\"},\"baxis\":{\"gridcolor\":\"white\",\"linecolor\":\"white\",\"ticks\":\"\"},\"caxis\":{\"gridcolor\":\"white\",\"linecolor\":\"white\",\"ticks\":\"\"}},\"coloraxis\":{\"colorbar\":{\"outlinewidth\":0,\"ticks\":\"\"}},\"colorscale\":{\"sequential\":[[0.0,\"#0d0887\"],[0.1111111111111111,\"#46039f\"],[0.2222222222222222,\"#7201a8\"],[0.3333333333333333,\"#9c179e\"],[0.4444444444444444,\"#bd3786\"],[0.5555555555555556,\"#d8576b\"],[0.6666666666666666,\"#ed7953\"],[0.7777777777777778,\"#fb9f3a\"],[0.8888888888888888,\"#fdca26\"],[1.0,\"#f0f921\"]],\"sequentialminus\":[[0.0,\"#0d0887\"],[0.1111111111111111,\"#46039f\"],[0.2222222222222222,\"#7201a8\"],[0.3333333333333333,\"#9c179e\"],[0.4444444444444444,\"#bd3786\"],[0.5555555555555556,\"#d8576b\"],[0.6666666666666666,\"#ed7953\"],[0.7777777777777778,\"#fb9f3a\"],[0.8888888888888888,\"#fdca26\"],[1.0,\"#f0f921\"]],\"diverging\":[[0,\"#8e0152\"],[0.1,\"#c51b7d\"],[0.2,\"#de77ae\"],[0.3,\"#f1b6da\"],[0.4,\"#fde0ef\"],[0.5,\"#f7f7f7\"],[0.6,\"#e6f5d0\"],[0.7,\"#b8e186\"],[0.8,\"#7fbc41\"],[0.9,\"#4d9221\"],[1,\"#276419\"]]},\"xaxis\":{\"gridcolor\":\"white\",\"linecolor\":\"white\",\"ticks\":\"\",\"title\":{\"standoff\":15},\"zerolinecolor\":\"white\",\"automargin\":true,\"zerolinewidth\":2},\"yaxis\":{\"gridcolor\":\"white\",\"linecolor\":\"white\",\"ticks\":\"\",\"title\":{\"standoff\":15},\"zerolinecolor\":\"white\",\"automargin\":true,\"zerolinewidth\":2},\"scene\":{\"xaxis\":{\"backgroundcolor\":\"#E5ECF6\",\"gridcolor\":\"white\",\"linecolor\":\"white\",\"showbackground\":true,\"ticks\":\"\",\"zerolinecolor\":\"white\",\"gridwidth\":2},\"yaxis\":{\"backgroundcolor\":\"#E5ECF6\",\"gridcolor\":\"white\",\"linecolor\":\"white\",\"showbackground\":true,\"ticks\":\"\",\"zerolinecolor\":\"white\",\"gridwidth\":2},\"zaxis\":{\"backgroundcolor\":\"#E5ECF6\",\"gridcolor\":\"white\",\"linecolor\":\"white\",\"showbackground\":true,\"ticks\":\"\",\"zerolinecolor\":\"white\",\"gridwidth\":2}},\"shapedefaults\":{\"line\":{\"color\":\"#2a3f5f\"}},\"annotationdefaults\":{\"arrowcolor\":\"#2a3f5f\",\"arrowhead\":0,\"arrowwidth\":1},\"geo\":{\"bgcolor\":\"white\",\"landcolor\":\"#E5ECF6\",\"subunitcolor\":\"white\",\"showland\":true,\"showlakes\":true,\"lakecolor\":\"white\"},\"title\":{\"x\":0.05},\"mapbox\":{\"style\":\"light\"}}},\"xaxis\":{\"anchor\":\"y\",\"domain\":[0.0,1.0],\"title\":{\"text\":\"RestingECG\"}},\"yaxis\":{\"anchor\":\"x\",\"domain\":[0.0,1.0],\"title\":{\"text\":\"count\"}},\"legend\":{\"tracegroupgap\":0},\"margin\":{\"t\":60},\"barmode\":\"relative\"},                        {\"responsive\": true}                    ).then(function(){\n",
              "                            \n",
              "var gd = document.getElementById('c491583e-3749-4fc8-9dd5-59dc48c5e9c3');\n",
              "var x = new MutationObserver(function (mutations, observer) {{\n",
              "        var display = window.getComputedStyle(gd).display;\n",
              "        if (!display || display === 'none') {{\n",
              "            console.log([gd, 'removed!']);\n",
              "            Plotly.purge(gd);\n",
              "            observer.disconnect();\n",
              "        }}\n",
              "}});\n",
              "\n",
              "// Listen for the removal of the full notebook cells\n",
              "var notebookContainer = gd.closest('#notebook-container');\n",
              "if (notebookContainer) {{\n",
              "    x.observe(notebookContainer, {childList: true});\n",
              "}}\n",
              "\n",
              "// Listen for the clearing of the current output cell\n",
              "var outputEl = gd.closest('.output');\n",
              "if (outputEl) {{\n",
              "    x.observe(outputEl, {childList: true});\n",
              "}}\n",
              "\n",
              "                        })                };                            </script>        </div>\n",
              "</body>\n",
              "</html>"
            ]
          },
          "metadata": {}
        },
        {
          "output_type": "stream",
          "name": "stdout",
          "text": [
            "Tipo da coluna:\n",
            " int64\n",
            "Valores unicos:\n",
            " [172 156  98 108 122 170 142 130 120  99 145 140 137 150 166 165 125 160\n",
            " 164 138 178 112 118 127 114 154 155  87 148 100 168 184 121 153 134  96\n",
            " 174 175 144  82 135 115 128 116  94 110  92 180 152 124 106 185 139 190\n",
            " 146 158 132 176 119 188 162 105  90 136 167 129 102 143 103  91 126  93\n",
            " 131 149 123 182 141  77 109 133 179 113 104  95  72  97 117  86  63 157\n",
            "  83  60  70 163  67  78  84 111  80 107 161  69  88  73 159 151 181 186\n",
            " 177 173 169 171 147  71 192 195 194 187 202]\n",
            "\n",
            "Quantidades de unicos:\n",
            " 119\n",
            "\n",
            "Quantidades de valores nulos:\n",
            " 0\n",
            "\n",
            "Analisando a media:\n",
            " count    918.000000\n",
            "mean     136.809368\n",
            "std       25.460334\n",
            "min       60.000000\n",
            "25%      120.000000\n",
            "50%      138.000000\n",
            "75%      156.000000\n",
            "max      202.000000\n",
            "Name: MaxHR, dtype: float64\n",
            "\n",
            "Quantidades por opcao:\n",
            " MaxHR\n",
            "60     1\n",
            "63     1\n",
            "67     1\n",
            "69     1\n",
            "70     1\n",
            "      ..\n",
            "190    2\n",
            "192    1\n",
            "194    1\n",
            "195    1\n",
            "202    1\n",
            "Name: count, Length: 119, dtype: int64\n"
          ]
        },
        {
          "output_type": "display_data",
          "data": {
            "text/html": [
              "<html>\n",
              "<head><meta charset=\"utf-8\" /></head>\n",
              "<body>\n",
              "    <div>            <script src=\"https://cdnjs.cloudflare.com/ajax/libs/mathjax/2.7.5/MathJax.js?config=TeX-AMS-MML_SVG\"></script><script type=\"text/javascript\">if (window.MathJax && window.MathJax.Hub && window.MathJax.Hub.Config) {window.MathJax.Hub.Config({SVG: {font: \"STIX-Web\"}});}</script>                <script type=\"text/javascript\">window.PlotlyConfig = {MathJaxConfig: 'local'};</script>\n",
              "        <script charset=\"utf-8\" src=\"https://cdn.plot.ly/plotly-2.24.1.min.js\"></script>                <div id=\"f7d6723b-c69e-4440-9035-a80e5722108c\" class=\"plotly-graph-div\" style=\"height:525px; width:100%;\"></div>            <script type=\"text/javascript\">                                    window.PLOTLYENV=window.PLOTLYENV || {};                                    if (document.getElementById(\"f7d6723b-c69e-4440-9035-a80e5722108c\")) {                    Plotly.newPlot(                        \"f7d6723b-c69e-4440-9035-a80e5722108c\",                        [{\"alignmentgroup\":\"True\",\"hovertemplate\":\"MaxHR=%{y}\\u003cextra\\u003e\\u003c\\u002fextra\\u003e\",\"legendgroup\":\"\",\"marker\":{\"color\":\"#636efa\"},\"name\":\"\",\"notched\":false,\"offsetgroup\":\"\",\"orientation\":\"v\",\"showlegend\":false,\"x0\":\" \",\"xaxis\":\"x\",\"y\":[172,156,98,108,122,170,170,142,130,120,142,99,145,140,137,150,166,165,125,160,142,142,164,150,138,178,112,118,127,145,130,114,122,130,154,155,87,142,148,130,130,100,168,170,120,120,168,170,184,170,121,98,122,150,140,170,153,140,134,96,174,175,144,125,145,130,144,184,82,170,145,135,150,115,128,116,130,150,138,170,160,154,115,165,125,94,112,142,155,110,160,140,148,92,180,140,138,160,140,144,115,100,130,152,124,140,110,168,135,106,124,92,125,150,135,150,170,130,185,180,170,139,140,110,150,110,190,175,140,152,130,150,122,124,120,175,175,146,118,130,94,125,158,155,150,132,155,176,160,125,120,100,150,140,160,150,150,130,100,130,119,96,174,150,140,175,140,118,100,160,160,188,162,172,134,135,105,150,150,90,120,150,124,140,130,92,110,138,110,120,120,116,160,110,180,116,132,136,116,98,150,150,146,150,100,140,180,140,185,140,110,140,128,164,98,170,150,137,150,170,112,150,125,185,137,150,140,134,170,184,158,167,129,142,140,160,118,136,99,102,155,142,143,118,103,137,150,150,130,120,135,115,115,152,96,130,150,172,120,155,165,138,115,125,145,175,110,150,91,145,140,165,130,134,180,100,150,126,126,155,135,122,160,160,170,120,140,132,156,180,138,135,148,93,127,110,139,131,92,149,149,150,120,123,126,127,155,120,138,182,154,110,176,154,141,123,148,121,77,136,175,109,166,128,133,128,138,119,82,130,143,82,179,144,170,134,114,154,149,145,122,114,113,120,104,130,115,128,104,125,120,140,100,100,92,125,113,95,128,115,72,124,99,148,97,140,117,120,120,86,63,108,98,115,105,121,118,122,157,156,99,120,145,156,155,105,99,135,83,145,60,92,115,120,98,150,143,105,122,70,110,163,67,128,120,130,100,72,94,122,78,150,103,98,110,90,112,127,140,149,99,120,105,140,141,157,140,117,120,120,148,86,84,125,120,118,124,106,111,116,180,129,125,140,120,124,117,110,105,155,110,122,118,133,123,131,80,165,86,111,118,84,117,107,128,160,125,130,97,161,106,130,140,122,130,120,139,108,148,123,110,118,125,106,112,128,180,144,135,140,102,108,145,127,110,140,69,148,130,130,140,138,140,138,112,131,112,80,150,110,126,88,153,150,120,160,132,120,110,121,128,135,120,117,150,144,113,135,127,109,128,115,102,140,135,122,119,130,112,100,122,120,105,129,120,139,162,100,140,135,73,86,108,116,160,118,112,122,124,102,137,141,154,126,160,115,128,115,105,110,119,109,135,130,112,126,120,110,119,110,130,159,84,126,116,120,122,165,122,94,133,110,150,130,113,140,100,136,127,98,96,123,98,112,151,96,108,128,138,126,154,137,100,135,93,109,160,141,105,121,140,142,142,170,154,161,111,180,145,159,125,120,155,144,178,129,180,181,143,159,139,152,157,165,130,150,138,170,140,126,150,138,125,150,186,181,163,179,156,134,165,126,177,120,114,125,184,157,179,175,168,125,96,143,103,173,142,169,171,150,112,186,152,149,152,140,163,143,116,142,147,148,179,173,178,105,130,111,168,126,178,140,145,163,128,164,169,109,108,168,118,151,156,133,162,175,71,163,124,147,166,143,157,162,138,117,153,161,170,162,162,144,133,114,103,139,116,88,151,152,163,99,169,158,160,169,132,178,96,165,160,172,144,192,168,132,182,163,125,195,95,160,114,173,172,179,158,167,122,149,172,111,170,162,165,182,154,155,130,161,154,159,152,152,174,131,146,125,115,174,106,122,147,163,163,194,150,158,122,173,162,105,147,157,112,160,125,156,156,175,161,122,158,151,162,151,171,141,173,145,178,160,154,131,187,159,166,165,131,202,172,172,154,147,170,126,127,174,132,182,132,97,136,162,190,146,140,185,161,146,145,160,120,156,172,150,182,143,160,142,144,158,148,155,142,113,188,153,123,157,162,137,132,158,171,172,132,160,171,168,162,173,153,148,108,115,169,143,156,162,155,152,152,164,131,143,179,130,174,161,140,146,144,163,169,150,166,144,144,136,182,90,123,132,141,115,174,173],\"y0\":\" \",\"yaxis\":\"y\",\"type\":\"box\"}],                        {\"template\":{\"data\":{\"histogram2dcontour\":[{\"type\":\"histogram2dcontour\",\"colorbar\":{\"outlinewidth\":0,\"ticks\":\"\"},\"colorscale\":[[0.0,\"#0d0887\"],[0.1111111111111111,\"#46039f\"],[0.2222222222222222,\"#7201a8\"],[0.3333333333333333,\"#9c179e\"],[0.4444444444444444,\"#bd3786\"],[0.5555555555555556,\"#d8576b\"],[0.6666666666666666,\"#ed7953\"],[0.7777777777777778,\"#fb9f3a\"],[0.8888888888888888,\"#fdca26\"],[1.0,\"#f0f921\"]]}],\"choropleth\":[{\"type\":\"choropleth\",\"colorbar\":{\"outlinewidth\":0,\"ticks\":\"\"}}],\"histogram2d\":[{\"type\":\"histogram2d\",\"colorbar\":{\"outlinewidth\":0,\"ticks\":\"\"},\"colorscale\":[[0.0,\"#0d0887\"],[0.1111111111111111,\"#46039f\"],[0.2222222222222222,\"#7201a8\"],[0.3333333333333333,\"#9c179e\"],[0.4444444444444444,\"#bd3786\"],[0.5555555555555556,\"#d8576b\"],[0.6666666666666666,\"#ed7953\"],[0.7777777777777778,\"#fb9f3a\"],[0.8888888888888888,\"#fdca26\"],[1.0,\"#f0f921\"]]}],\"heatmap\":[{\"type\":\"heatmap\",\"colorbar\":{\"outlinewidth\":0,\"ticks\":\"\"},\"colorscale\":[[0.0,\"#0d0887\"],[0.1111111111111111,\"#46039f\"],[0.2222222222222222,\"#7201a8\"],[0.3333333333333333,\"#9c179e\"],[0.4444444444444444,\"#bd3786\"],[0.5555555555555556,\"#d8576b\"],[0.6666666666666666,\"#ed7953\"],[0.7777777777777778,\"#fb9f3a\"],[0.8888888888888888,\"#fdca26\"],[1.0,\"#f0f921\"]]}],\"heatmapgl\":[{\"type\":\"heatmapgl\",\"colorbar\":{\"outlinewidth\":0,\"ticks\":\"\"},\"colorscale\":[[0.0,\"#0d0887\"],[0.1111111111111111,\"#46039f\"],[0.2222222222222222,\"#7201a8\"],[0.3333333333333333,\"#9c179e\"],[0.4444444444444444,\"#bd3786\"],[0.5555555555555556,\"#d8576b\"],[0.6666666666666666,\"#ed7953\"],[0.7777777777777778,\"#fb9f3a\"],[0.8888888888888888,\"#fdca26\"],[1.0,\"#f0f921\"]]}],\"contourcarpet\":[{\"type\":\"contourcarpet\",\"colorbar\":{\"outlinewidth\":0,\"ticks\":\"\"}}],\"contour\":[{\"type\":\"contour\",\"colorbar\":{\"outlinewidth\":0,\"ticks\":\"\"},\"colorscale\":[[0.0,\"#0d0887\"],[0.1111111111111111,\"#46039f\"],[0.2222222222222222,\"#7201a8\"],[0.3333333333333333,\"#9c179e\"],[0.4444444444444444,\"#bd3786\"],[0.5555555555555556,\"#d8576b\"],[0.6666666666666666,\"#ed7953\"],[0.7777777777777778,\"#fb9f3a\"],[0.8888888888888888,\"#fdca26\"],[1.0,\"#f0f921\"]]}],\"surface\":[{\"type\":\"surface\",\"colorbar\":{\"outlinewidth\":0,\"ticks\":\"\"},\"colorscale\":[[0.0,\"#0d0887\"],[0.1111111111111111,\"#46039f\"],[0.2222222222222222,\"#7201a8\"],[0.3333333333333333,\"#9c179e\"],[0.4444444444444444,\"#bd3786\"],[0.5555555555555556,\"#d8576b\"],[0.6666666666666666,\"#ed7953\"],[0.7777777777777778,\"#fb9f3a\"],[0.8888888888888888,\"#fdca26\"],[1.0,\"#f0f921\"]]}],\"mesh3d\":[{\"type\":\"mesh3d\",\"colorbar\":{\"outlinewidth\":0,\"ticks\":\"\"}}],\"scatter\":[{\"fillpattern\":{\"fillmode\":\"overlay\",\"size\":10,\"solidity\":0.2},\"type\":\"scatter\"}],\"parcoords\":[{\"type\":\"parcoords\",\"line\":{\"colorbar\":{\"outlinewidth\":0,\"ticks\":\"\"}}}],\"scatterpolargl\":[{\"type\":\"scatterpolargl\",\"marker\":{\"colorbar\":{\"outlinewidth\":0,\"ticks\":\"\"}}}],\"bar\":[{\"error_x\":{\"color\":\"#2a3f5f\"},\"error_y\":{\"color\":\"#2a3f5f\"},\"marker\":{\"line\":{\"color\":\"#E5ECF6\",\"width\":0.5},\"pattern\":{\"fillmode\":\"overlay\",\"size\":10,\"solidity\":0.2}},\"type\":\"bar\"}],\"scattergeo\":[{\"type\":\"scattergeo\",\"marker\":{\"colorbar\":{\"outlinewidth\":0,\"ticks\":\"\"}}}],\"scatterpolar\":[{\"type\":\"scatterpolar\",\"marker\":{\"colorbar\":{\"outlinewidth\":0,\"ticks\":\"\"}}}],\"histogram\":[{\"marker\":{\"pattern\":{\"fillmode\":\"overlay\",\"size\":10,\"solidity\":0.2}},\"type\":\"histogram\"}],\"scattergl\":[{\"type\":\"scattergl\",\"marker\":{\"colorbar\":{\"outlinewidth\":0,\"ticks\":\"\"}}}],\"scatter3d\":[{\"type\":\"scatter3d\",\"line\":{\"colorbar\":{\"outlinewidth\":0,\"ticks\":\"\"}},\"marker\":{\"colorbar\":{\"outlinewidth\":0,\"ticks\":\"\"}}}],\"scattermapbox\":[{\"type\":\"scattermapbox\",\"marker\":{\"colorbar\":{\"outlinewidth\":0,\"ticks\":\"\"}}}],\"scatterternary\":[{\"type\":\"scatterternary\",\"marker\":{\"colorbar\":{\"outlinewidth\":0,\"ticks\":\"\"}}}],\"scattercarpet\":[{\"type\":\"scattercarpet\",\"marker\":{\"colorbar\":{\"outlinewidth\":0,\"ticks\":\"\"}}}],\"carpet\":[{\"aaxis\":{\"endlinecolor\":\"#2a3f5f\",\"gridcolor\":\"white\",\"linecolor\":\"white\",\"minorgridcolor\":\"white\",\"startlinecolor\":\"#2a3f5f\"},\"baxis\":{\"endlinecolor\":\"#2a3f5f\",\"gridcolor\":\"white\",\"linecolor\":\"white\",\"minorgridcolor\":\"white\",\"startlinecolor\":\"#2a3f5f\"},\"type\":\"carpet\"}],\"table\":[{\"cells\":{\"fill\":{\"color\":\"#EBF0F8\"},\"line\":{\"color\":\"white\"}},\"header\":{\"fill\":{\"color\":\"#C8D4E3\"},\"line\":{\"color\":\"white\"}},\"type\":\"table\"}],\"barpolar\":[{\"marker\":{\"line\":{\"color\":\"#E5ECF6\",\"width\":0.5},\"pattern\":{\"fillmode\":\"overlay\",\"size\":10,\"solidity\":0.2}},\"type\":\"barpolar\"}],\"pie\":[{\"automargin\":true,\"type\":\"pie\"}]},\"layout\":{\"autotypenumbers\":\"strict\",\"colorway\":[\"#636efa\",\"#EF553B\",\"#00cc96\",\"#ab63fa\",\"#FFA15A\",\"#19d3f3\",\"#FF6692\",\"#B6E880\",\"#FF97FF\",\"#FECB52\"],\"font\":{\"color\":\"#2a3f5f\"},\"hovermode\":\"closest\",\"hoverlabel\":{\"align\":\"left\"},\"paper_bgcolor\":\"white\",\"plot_bgcolor\":\"#E5ECF6\",\"polar\":{\"bgcolor\":\"#E5ECF6\",\"angularaxis\":{\"gridcolor\":\"white\",\"linecolor\":\"white\",\"ticks\":\"\"},\"radialaxis\":{\"gridcolor\":\"white\",\"linecolor\":\"white\",\"ticks\":\"\"}},\"ternary\":{\"bgcolor\":\"#E5ECF6\",\"aaxis\":{\"gridcolor\":\"white\",\"linecolor\":\"white\",\"ticks\":\"\"},\"baxis\":{\"gridcolor\":\"white\",\"linecolor\":\"white\",\"ticks\":\"\"},\"caxis\":{\"gridcolor\":\"white\",\"linecolor\":\"white\",\"ticks\":\"\"}},\"coloraxis\":{\"colorbar\":{\"outlinewidth\":0,\"ticks\":\"\"}},\"colorscale\":{\"sequential\":[[0.0,\"#0d0887\"],[0.1111111111111111,\"#46039f\"],[0.2222222222222222,\"#7201a8\"],[0.3333333333333333,\"#9c179e\"],[0.4444444444444444,\"#bd3786\"],[0.5555555555555556,\"#d8576b\"],[0.6666666666666666,\"#ed7953\"],[0.7777777777777778,\"#fb9f3a\"],[0.8888888888888888,\"#fdca26\"],[1.0,\"#f0f921\"]],\"sequentialminus\":[[0.0,\"#0d0887\"],[0.1111111111111111,\"#46039f\"],[0.2222222222222222,\"#7201a8\"],[0.3333333333333333,\"#9c179e\"],[0.4444444444444444,\"#bd3786\"],[0.5555555555555556,\"#d8576b\"],[0.6666666666666666,\"#ed7953\"],[0.7777777777777778,\"#fb9f3a\"],[0.8888888888888888,\"#fdca26\"],[1.0,\"#f0f921\"]],\"diverging\":[[0,\"#8e0152\"],[0.1,\"#c51b7d\"],[0.2,\"#de77ae\"],[0.3,\"#f1b6da\"],[0.4,\"#fde0ef\"],[0.5,\"#f7f7f7\"],[0.6,\"#e6f5d0\"],[0.7,\"#b8e186\"],[0.8,\"#7fbc41\"],[0.9,\"#4d9221\"],[1,\"#276419\"]]},\"xaxis\":{\"gridcolor\":\"white\",\"linecolor\":\"white\",\"ticks\":\"\",\"title\":{\"standoff\":15},\"zerolinecolor\":\"white\",\"automargin\":true,\"zerolinewidth\":2},\"yaxis\":{\"gridcolor\":\"white\",\"linecolor\":\"white\",\"ticks\":\"\",\"title\":{\"standoff\":15},\"zerolinecolor\":\"white\",\"automargin\":true,\"zerolinewidth\":2},\"scene\":{\"xaxis\":{\"backgroundcolor\":\"#E5ECF6\",\"gridcolor\":\"white\",\"linecolor\":\"white\",\"showbackground\":true,\"ticks\":\"\",\"zerolinecolor\":\"white\",\"gridwidth\":2},\"yaxis\":{\"backgroundcolor\":\"#E5ECF6\",\"gridcolor\":\"white\",\"linecolor\":\"white\",\"showbackground\":true,\"ticks\":\"\",\"zerolinecolor\":\"white\",\"gridwidth\":2},\"zaxis\":{\"backgroundcolor\":\"#E5ECF6\",\"gridcolor\":\"white\",\"linecolor\":\"white\",\"showbackground\":true,\"ticks\":\"\",\"zerolinecolor\":\"white\",\"gridwidth\":2}},\"shapedefaults\":{\"line\":{\"color\":\"#2a3f5f\"}},\"annotationdefaults\":{\"arrowcolor\":\"#2a3f5f\",\"arrowhead\":0,\"arrowwidth\":1},\"geo\":{\"bgcolor\":\"white\",\"landcolor\":\"#E5ECF6\",\"subunitcolor\":\"white\",\"showland\":true,\"showlakes\":true,\"lakecolor\":\"white\"},\"title\":{\"x\":0.05},\"mapbox\":{\"style\":\"light\"}}},\"xaxis\":{\"anchor\":\"y\",\"domain\":[0.0,1.0]},\"yaxis\":{\"anchor\":\"x\",\"domain\":[0.0,1.0],\"title\":{\"text\":\"MaxHR\"}},\"legend\":{\"tracegroupgap\":0},\"margin\":{\"t\":60},\"boxmode\":\"group\"},                        {\"responsive\": true}                    ).then(function(){\n",
              "                            \n",
              "var gd = document.getElementById('f7d6723b-c69e-4440-9035-a80e5722108c');\n",
              "var x = new MutationObserver(function (mutations, observer) {{\n",
              "        var display = window.getComputedStyle(gd).display;\n",
              "        if (!display || display === 'none') {{\n",
              "            console.log([gd, 'removed!']);\n",
              "            Plotly.purge(gd);\n",
              "            observer.disconnect();\n",
              "        }}\n",
              "}});\n",
              "\n",
              "// Listen for the removal of the full notebook cells\n",
              "var notebookContainer = gd.closest('#notebook-container');\n",
              "if (notebookContainer) {{\n",
              "    x.observe(notebookContainer, {childList: true});\n",
              "}}\n",
              "\n",
              "// Listen for the clearing of the current output cell\n",
              "var outputEl = gd.closest('.output');\n",
              "if (outputEl) {{\n",
              "    x.observe(outputEl, {childList: true});\n",
              "}}\n",
              "\n",
              "                        })                };                            </script>        </div>\n",
              "</body>\n",
              "</html>"
            ]
          },
          "metadata": {}
        },
        {
          "output_type": "stream",
          "name": "stdout",
          "text": [
            "Tipo da coluna:\n",
            " object\n",
            "Valores unicos:\n",
            " ['N' 'Y']\n",
            "\n",
            "Quantidades de unicos:\n",
            " 2\n",
            "\n",
            "Quantidades de valores nulos:\n",
            " 0\n",
            "\n",
            "Analisando a media:\n",
            " count     918\n",
            "unique      2\n",
            "top         N\n",
            "freq      547\n",
            "Name: ExerciseAngina, dtype: object\n",
            "\n",
            "Quantidades por opcao:\n",
            " ExerciseAngina\n",
            "N    547\n",
            "Y    371\n",
            "Name: count, dtype: int64\n"
          ]
        },
        {
          "output_type": "display_data",
          "data": {
            "text/html": [
              "<html>\n",
              "<head><meta charset=\"utf-8\" /></head>\n",
              "<body>\n",
              "    <div>            <script src=\"https://cdnjs.cloudflare.com/ajax/libs/mathjax/2.7.5/MathJax.js?config=TeX-AMS-MML_SVG\"></script><script type=\"text/javascript\">if (window.MathJax && window.MathJax.Hub && window.MathJax.Hub.Config) {window.MathJax.Hub.Config({SVG: {font: \"STIX-Web\"}});}</script>                <script type=\"text/javascript\">window.PlotlyConfig = {MathJaxConfig: 'local'};</script>\n",
              "        <script charset=\"utf-8\" src=\"https://cdn.plot.ly/plotly-2.24.1.min.js\"></script>                <div id=\"d58507b5-4e37-4b0a-81e1-1da99a89667e\" class=\"plotly-graph-div\" style=\"height:525px; width:100%;\"></div>            <script type=\"text/javascript\">                                    window.PLOTLYENV=window.PLOTLYENV || {};                                    if (document.getElementById(\"d58507b5-4e37-4b0a-81e1-1da99a89667e\")) {                    Plotly.newPlot(                        \"d58507b5-4e37-4b0a-81e1-1da99a89667e\",                        [{\"alignmentgroup\":\"True\",\"hovertemplate\":\"ExerciseAngina=%{x}\\u003cbr\\u003ecount=%{y}\\u003cextra\\u003e\\u003c\\u002fextra\\u003e\",\"legendgroup\":\"\",\"marker\":{\"color\":\"#636efa\",\"pattern\":{\"shape\":\"\"}},\"name\":\"\",\"offsetgroup\":\"\",\"orientation\":\"v\",\"showlegend\":false,\"textposition\":\"auto\",\"x\":[\"N\",\"N\",\"N\",\"Y\",\"N\",\"N\",\"N\",\"N\",\"Y\",\"N\",\"N\",\"Y\",\"N\",\"Y\",\"N\",\"N\",\"N\",\"N\",\"N\",\"N\",\"N\",\"N\",\"N\",\"Y\",\"N\",\"N\",\"Y\",\"N\",\"N\",\"N\",\"N\",\"N\",\"N\",\"N\",\"N\",\"N\",\"Y\",\"N\",\"N\",\"Y\",\"N\",\"Y\",\"N\",\"N\",\"Y\",\"Y\",\"N\",\"N\",\"N\",\"N\",\"Y\",\"Y\",\"N\",\"N\",\"Y\",\"N\",\"Y\",\"N\",\"N\",\"Y\",\"N\",\"N\",\"N\",\"Y\",\"N\",\"N\",\"N\",\"N\",\"Y\",\"N\",\"Y\",\"N\",\"N\",\"N\",\"Y\",\"N\",\"N\",\"N\",\"Y\",\"N\",\"N\",\"N\",\"N\",\"N\",\"Y\",\"Y\",\"Y\",\"Y\",\"N\",\"Y\",\"N\",\"N\",\"N\",\"Y\",\"N\",\"Y\",\"N\",\"N\",\"N\",\"N\",\"Y\",\"N\",\"N\",\"Y\",\"N\",\"N\",\"N\",\"N\",\"N\",\"N\",\"N\",\"Y\",\"Y\",\"N\",\"N\",\"Y\",\"N\",\"Y\",\"N\",\"N\",\"N\",\"N\",\"N\",\"Y\",\"N\",\"N\",\"N\",\"N\",\"N\",\"Y\",\"N\",\"Y\",\"Y\",\"Y\",\"Y\",\"N\",\"N\",\"N\",\"Y\",\"Y\",\"Y\",\"Y\",\"Y\",\"N\",\"N\",\"N\",\"N\",\"N\",\"N\",\"Y\",\"N\",\"N\",\"N\",\"N\",\"N\",\"Y\",\"Y\",\"N\",\"Y\",\"N\",\"Y\",\"Y\",\"N\",\"N\",\"N\",\"N\",\"Y\",\"N\",\"N\",\"N\",\"N\",\"N\",\"N\",\"N\",\"Y\",\"Y\",\"N\",\"N\",\"N\",\"N\",\"Y\",\"N\",\"Y\",\"Y\",\"N\",\"N\",\"N\",\"Y\",\"Y\",\"Y\",\"N\",\"N\",\"N\",\"N\",\"N\",\"N\",\"N\",\"N\",\"Y\",\"N\",\"N\",\"N\",\"N\",\"N\",\"N\",\"Y\",\"N\",\"N\",\"N\",\"N\",\"N\",\"Y\",\"Y\",\"N\",\"Y\",\"N\",\"N\",\"N\",\"N\",\"N\",\"N\",\"Y\",\"N\",\"N\",\"N\",\"N\",\"N\",\"Y\",\"N\",\"N\",\"N\",\"N\",\"N\",\"N\",\"N\",\"Y\",\"Y\",\"N\",\"Y\",\"Y\",\"N\",\"Y\",\"Y\",\"N\",\"Y\",\"N\",\"Y\",\"Y\",\"Y\",\"Y\",\"N\",\"N\",\"Y\",\"N\",\"Y\",\"N\",\"N\",\"N\",\"N\",\"N\",\"Y\",\"N\",\"Y\",\"N\",\"Y\",\"N\",\"Y\",\"N\",\"Y\",\"N\",\"N\",\"N\",\"Y\",\"N\",\"N\",\"N\",\"N\",\"Y\",\"Y\",\"N\",\"N\",\"N\",\"Y\",\"N\",\"N\",\"N\",\"N\",\"N\",\"N\",\"N\",\"N\",\"N\",\"N\",\"Y\",\"N\",\"Y\",\"Y\",\"Y\",\"N\",\"N\",\"N\",\"N\",\"N\",\"Y\",\"N\",\"Y\",\"N\",\"N\",\"N\",\"N\",\"N\",\"N\",\"N\",\"N\",\"Y\",\"N\",\"N\",\"Y\",\"N\",\"N\",\"N\",\"N\",\"N\",\"Y\",\"N\",\"Y\",\"N\",\"Y\",\"Y\",\"Y\",\"N\",\"N\",\"N\",\"N\",\"N\",\"N\",\"N\",\"N\",\"N\",\"N\",\"N\",\"Y\",\"N\",\"N\",\"N\",\"N\",\"N\",\"N\",\"Y\",\"Y\",\"N\",\"Y\",\"Y\",\"Y\",\"N\",\"N\",\"Y\",\"N\",\"Y\",\"N\",\"Y\",\"Y\",\"N\",\"N\",\"N\",\"Y\",\"Y\",\"Y\",\"Y\",\"Y\",\"Y\",\"Y\",\"Y\",\"Y\",\"Y\",\"N\",\"Y\",\"N\",\"Y\",\"Y\",\"Y\",\"Y\",\"Y\",\"N\",\"N\",\"Y\",\"Y\",\"Y\",\"N\",\"N\",\"N\",\"Y\",\"N\",\"Y\",\"Y\",\"N\",\"N\",\"Y\",\"Y\",\"N\",\"N\",\"N\",\"N\",\"Y\",\"Y\",\"Y\",\"Y\",\"Y\",\"N\",\"Y\",\"N\",\"N\",\"Y\",\"N\",\"Y\",\"N\",\"Y\",\"N\",\"Y\",\"Y\",\"Y\",\"N\",\"Y\",\"Y\",\"Y\",\"N\",\"N\",\"Y\",\"Y\",\"Y\",\"Y\",\"N\",\"Y\",\"Y\",\"N\",\"Y\",\"N\",\"N\",\"Y\",\"N\",\"N\",\"N\",\"Y\",\"Y\",\"Y\",\"Y\",\"Y\",\"Y\",\"Y\",\"N\",\"Y\",\"Y\",\"Y\",\"Y\",\"Y\",\"Y\",\"Y\",\"N\",\"N\",\"N\",\"Y\",\"Y\",\"Y\",\"N\",\"Y\",\"N\",\"Y\",\"N\",\"Y\",\"N\",\"N\",\"Y\",\"Y\",\"Y\",\"N\",\"Y\",\"N\",\"Y\",\"Y\",\"Y\",\"Y\",\"N\",\"N\",\"Y\",\"Y\",\"Y\",\"N\",\"Y\",\"N\",\"Y\",\"Y\",\"N\",\"N\",\"Y\",\"Y\",\"Y\",\"N\",\"Y\",\"Y\",\"Y\",\"Y\",\"Y\",\"Y\",\"N\",\"Y\",\"Y\",\"Y\",\"Y\",\"N\",\"N\",\"N\",\"Y\",\"N\",\"Y\",\"N\",\"N\",\"N\",\"Y\",\"Y\",\"Y\",\"N\",\"Y\",\"Y\",\"Y\",\"N\",\"N\",\"Y\",\"N\",\"Y\",\"Y\",\"Y\",\"Y\",\"N\",\"Y\",\"Y\",\"Y\",\"Y\",\"Y\",\"Y\",\"N\",\"Y\",\"N\",\"Y\",\"Y\",\"Y\",\"N\",\"N\",\"N\",\"N\",\"N\",\"N\",\"N\",\"Y\",\"Y\",\"N\",\"Y\",\"Y\",\"Y\",\"Y\",\"Y\",\"N\",\"N\",\"Y\",\"Y\",\"Y\",\"Y\",\"Y\",\"Y\",\"Y\",\"Y\",\"Y\",\"Y\",\"Y\",\"N\",\"Y\",\"Y\",\"Y\",\"Y\",\"Y\",\"Y\",\"Y\",\"Y\",\"Y\",\"N\",\"Y\",\"N\",\"Y\",\"N\",\"Y\",\"N\",\"N\",\"N\",\"Y\",\"N\",\"Y\",\"Y\",\"N\",\"N\",\"Y\",\"N\",\"Y\",\"Y\",\"Y\",\"Y\",\"Y\",\"N\",\"Y\",\"Y\",\"Y\",\"N\",\"N\",\"N\",\"N\",\"N\",\"Y\",\"N\",\"N\",\"N\",\"Y\",\"Y\",\"N\",\"Y\",\"Y\",\"N\",\"N\",\"N\",\"Y\",\"N\",\"N\",\"N\",\"N\",\"Y\",\"Y\",\"Y\",\"Y\",\"Y\",\"N\",\"N\",\"N\",\"Y\",\"N\",\"Y\",\"N\",\"N\",\"N\",\"N\",\"N\",\"N\",\"Y\",\"Y\",\"Y\",\"Y\",\"N\",\"N\",\"N\",\"N\",\"N\",\"Y\",\"N\",\"N\",\"N\",\"N\",\"N\",\"Y\",\"N\",\"Y\",\"N\",\"N\",\"N\",\"N\",\"N\",\"Y\",\"N\",\"Y\",\"N\",\"N\",\"Y\",\"N\",\"N\",\"N\",\"Y\",\"Y\",\"N\",\"N\",\"N\",\"Y\",\"Y\",\"N\",\"N\",\"N\",\"Y\",\"Y\",\"N\",\"N\",\"N\",\"N\",\"Y\",\"Y\",\"N\",\"Y\",\"N\",\"N\",\"N\",\"N\",\"N\",\"Y\",\"N\",\"Y\",\"Y\",\"N\",\"Y\",\"N\",\"N\",\"N\",\"N\",\"N\",\"N\",\"N\",\"N\",\"N\",\"N\",\"Y\",\"N\",\"Y\",\"N\",\"Y\",\"N\",\"N\",\"N\",\"N\",\"N\",\"N\",\"Y\",\"N\",\"Y\",\"N\",\"Y\",\"Y\",\"N\",\"N\",\"N\",\"Y\",\"N\",\"N\",\"Y\",\"Y\",\"Y\",\"N\",\"Y\",\"N\",\"Y\",\"N\",\"Y\",\"N\",\"Y\",\"N\",\"N\",\"N\",\"Y\",\"N\",\"Y\",\"N\",\"Y\",\"N\",\"Y\",\"N\",\"N\",\"N\",\"N\",\"N\",\"N\",\"Y\",\"N\",\"N\",\"Y\",\"Y\",\"Y\",\"N\",\"Y\",\"N\",\"Y\",\"N\",\"N\",\"Y\",\"N\",\"N\",\"N\",\"Y\",\"N\",\"N\",\"N\",\"Y\",\"N\",\"N\",\"N\",\"N\",\"Y\",\"N\",\"N\",\"N\",\"N\",\"Y\",\"N\",\"N\",\"Y\",\"N\",\"Y\",\"N\",\"Y\",\"N\",\"N\",\"N\",\"N\",\"N\",\"Y\",\"N\",\"N\",\"Y\",\"Y\",\"Y\",\"N\",\"N\",\"Y\",\"Y\",\"N\",\"N\",\"N\",\"N\",\"Y\",\"N\",\"N\",\"N\",\"Y\",\"N\",\"N\",\"Y\",\"N\",\"N\",\"Y\",\"N\",\"N\",\"N\",\"Y\",\"N\",\"N\",\"Y\",\"N\",\"N\",\"Y\",\"N\",\"N\",\"N\",\"Y\",\"N\",\"N\",\"Y\",\"N\",\"N\",\"N\",\"N\",\"Y\",\"N\",\"N\",\"N\",\"Y\",\"N\",\"N\",\"N\",\"N\",\"N\",\"N\",\"Y\",\"Y\",\"N\",\"N\",\"N\",\"Y\",\"N\",\"N\",\"N\",\"N\",\"N\",\"N\",\"N\",\"Y\",\"N\",\"N\",\"Y\",\"Y\",\"N\",\"N\",\"N\",\"N\",\"N\",\"N\",\"Y\",\"N\",\"Y\",\"N\",\"N\",\"N\",\"Y\",\"N\",\"N\",\"N\",\"N\",\"N\",\"Y\",\"Y\",\"Y\",\"N\",\"N\",\"Y\",\"N\",\"N\",\"Y\",\"N\",\"N\"],\"xaxis\":\"x\",\"y\":[1,1,1,1,1,1,1,1,1,1,1,1,1,1,1,1,1,1,1,1,1,1,1,1,1,1,1,1,1,1,1,1,1,1,1,1,1,1,1,1,1,1,1,1,1,1,1,1,1,1,1,1,1,1,1,1,1,1,1,1,1,1,1,1,1,1,1,1,1,1,1,1,1,1,1,1,1,1,1,1,1,1,1,1,1,1,1,1,1,1,1,1,1,1,1,1,1,1,1,1,1,1,1,1,1,1,1,1,1,1,1,1,1,1,1,1,1,1,1,1,1,1,1,1,1,1,1,1,1,1,1,1,1,1,1,1,1,1,1,1,1,1,1,1,1,1,1,1,1,1,1,1,1,1,1,1,1,1,1,1,1,1,1,1,1,1,1,1,1,1,1,1,1,1,1,1,1,1,1,1,1,1,1,1,1,1,1,1,1,1,1,1,1,1,1,1,1,1,1,1,1,1,1,1,1,1,1,1,1,1,1,1,1,1,1,1,1,1,1,1,1,1,1,1,1,1,1,1,1,1,1,1,1,1,1,1,1,1,1,1,1,1,1,1,1,1,1,1,1,1,1,1,1,1,1,1,1,1,1,1,1,1,1,1,1,1,1,1,1,1,1,1,1,1,1,1,1,1,1,1,1,1,1,1,1,1,1,1,1,1,1,1,1,1,1,1,1,1,1,1,1,1,1,1,1,1,1,1,1,1,1,1,1,1,1,1,1,1,1,1,1,1,1,1,1,1,1,1,1,1,1,1,1,1,1,1,1,1,1,1,1,1,1,1,1,1,1,1,1,1,1,1,1,1,1,1,1,1,1,1,1,1,1,1,1,1,1,1,1,1,1,1,1,1,1,1,1,1,1,1,1,1,1,1,1,1,1,1,1,1,1,1,1,1,1,1,1,1,1,1,1,1,1,1,1,1,1,1,1,1,1,1,1,1,1,1,1,1,1,1,1,1,1,1,1,1,1,1,1,1,1,1,1,1,1,1,1,1,1,1,1,1,1,1,1,1,1,1,1,1,1,1,1,1,1,1,1,1,1,1,1,1,1,1,1,1,1,1,1,1,1,1,1,1,1,1,1,1,1,1,1,1,1,1,1,1,1,1,1,1,1,1,1,1,1,1,1,1,1,1,1,1,1,1,1,1,1,1,1,1,1,1,1,1,1,1,1,1,1,1,1,1,1,1,1,1,1,1,1,1,1,1,1,1,1,1,1,1,1,1,1,1,1,1,1,1,1,1,1,1,1,1,1,1,1,1,1,1,1,1,1,1,1,1,1,1,1,1,1,1,1,1,1,1,1,1,1,1,1,1,1,1,1,1,1,1,1,1,1,1,1,1,1,1,1,1,1,1,1,1,1,1,1,1,1,1,1,1,1,1,1,1,1,1,1,1,1,1,1,1,1,1,1,1,1,1,1,1,1,1,1,1,1,1,1,1,1,1,1,1,1,1,1,1,1,1,1,1,1,1,1,1,1,1,1,1,1,1,1,1,1,1,1,1,1,1,1,1,1,1,1,1,1,1,1,1,1,1,1,1,1,1,1,1,1,1,1,1,1,1,1,1,1,1,1,1,1,1,1,1,1,1,1,1,1,1,1,1,1,1,1,1,1,1,1,1,1,1,1,1,1,1,1,1,1,1,1,1,1,1,1,1,1,1,1,1,1,1,1,1,1,1,1,1,1,1,1,1,1,1,1,1,1,1,1,1,1,1,1,1,1,1,1,1,1,1,1,1,1,1,1,1,1,1,1,1,1,1,1,1,1,1,1,1,1,1,1,1,1,1,1,1,1,1,1,1,1,1,1,1,1,1,1,1,1,1,1,1,1,1,1,1,1,1,1,1,1,1,1,1,1,1,1,1,1,1,1,1,1,1,1,1,1,1,1,1,1,1,1,1,1,1,1,1,1,1,1,1,1,1,1,1,1,1,1,1,1,1,1,1,1,1,1,1,1,1,1,1,1,1,1,1,1,1,1,1,1,1,1,1,1,1,1,1,1,1,1,1,1,1,1,1,1,1,1,1,1,1,1,1,1,1,1,1,1,1,1,1,1,1,1,1,1,1,1,1,1,1],\"yaxis\":\"y\",\"type\":\"bar\"}],                        {\"template\":{\"data\":{\"histogram2dcontour\":[{\"type\":\"histogram2dcontour\",\"colorbar\":{\"outlinewidth\":0,\"ticks\":\"\"},\"colorscale\":[[0.0,\"#0d0887\"],[0.1111111111111111,\"#46039f\"],[0.2222222222222222,\"#7201a8\"],[0.3333333333333333,\"#9c179e\"],[0.4444444444444444,\"#bd3786\"],[0.5555555555555556,\"#d8576b\"],[0.6666666666666666,\"#ed7953\"],[0.7777777777777778,\"#fb9f3a\"],[0.8888888888888888,\"#fdca26\"],[1.0,\"#f0f921\"]]}],\"choropleth\":[{\"type\":\"choropleth\",\"colorbar\":{\"outlinewidth\":0,\"ticks\":\"\"}}],\"histogram2d\":[{\"type\":\"histogram2d\",\"colorbar\":{\"outlinewidth\":0,\"ticks\":\"\"},\"colorscale\":[[0.0,\"#0d0887\"],[0.1111111111111111,\"#46039f\"],[0.2222222222222222,\"#7201a8\"],[0.3333333333333333,\"#9c179e\"],[0.4444444444444444,\"#bd3786\"],[0.5555555555555556,\"#d8576b\"],[0.6666666666666666,\"#ed7953\"],[0.7777777777777778,\"#fb9f3a\"],[0.8888888888888888,\"#fdca26\"],[1.0,\"#f0f921\"]]}],\"heatmap\":[{\"type\":\"heatmap\",\"colorbar\":{\"outlinewidth\":0,\"ticks\":\"\"},\"colorscale\":[[0.0,\"#0d0887\"],[0.1111111111111111,\"#46039f\"],[0.2222222222222222,\"#7201a8\"],[0.3333333333333333,\"#9c179e\"],[0.4444444444444444,\"#bd3786\"],[0.5555555555555556,\"#d8576b\"],[0.6666666666666666,\"#ed7953\"],[0.7777777777777778,\"#fb9f3a\"],[0.8888888888888888,\"#fdca26\"],[1.0,\"#f0f921\"]]}],\"heatmapgl\":[{\"type\":\"heatmapgl\",\"colorbar\":{\"outlinewidth\":0,\"ticks\":\"\"},\"colorscale\":[[0.0,\"#0d0887\"],[0.1111111111111111,\"#46039f\"],[0.2222222222222222,\"#7201a8\"],[0.3333333333333333,\"#9c179e\"],[0.4444444444444444,\"#bd3786\"],[0.5555555555555556,\"#d8576b\"],[0.6666666666666666,\"#ed7953\"],[0.7777777777777778,\"#fb9f3a\"],[0.8888888888888888,\"#fdca26\"],[1.0,\"#f0f921\"]]}],\"contourcarpet\":[{\"type\":\"contourcarpet\",\"colorbar\":{\"outlinewidth\":0,\"ticks\":\"\"}}],\"contour\":[{\"type\":\"contour\",\"colorbar\":{\"outlinewidth\":0,\"ticks\":\"\"},\"colorscale\":[[0.0,\"#0d0887\"],[0.1111111111111111,\"#46039f\"],[0.2222222222222222,\"#7201a8\"],[0.3333333333333333,\"#9c179e\"],[0.4444444444444444,\"#bd3786\"],[0.5555555555555556,\"#d8576b\"],[0.6666666666666666,\"#ed7953\"],[0.7777777777777778,\"#fb9f3a\"],[0.8888888888888888,\"#fdca26\"],[1.0,\"#f0f921\"]]}],\"surface\":[{\"type\":\"surface\",\"colorbar\":{\"outlinewidth\":0,\"ticks\":\"\"},\"colorscale\":[[0.0,\"#0d0887\"],[0.1111111111111111,\"#46039f\"],[0.2222222222222222,\"#7201a8\"],[0.3333333333333333,\"#9c179e\"],[0.4444444444444444,\"#bd3786\"],[0.5555555555555556,\"#d8576b\"],[0.6666666666666666,\"#ed7953\"],[0.7777777777777778,\"#fb9f3a\"],[0.8888888888888888,\"#fdca26\"],[1.0,\"#f0f921\"]]}],\"mesh3d\":[{\"type\":\"mesh3d\",\"colorbar\":{\"outlinewidth\":0,\"ticks\":\"\"}}],\"scatter\":[{\"fillpattern\":{\"fillmode\":\"overlay\",\"size\":10,\"solidity\":0.2},\"type\":\"scatter\"}],\"parcoords\":[{\"type\":\"parcoords\",\"line\":{\"colorbar\":{\"outlinewidth\":0,\"ticks\":\"\"}}}],\"scatterpolargl\":[{\"type\":\"scatterpolargl\",\"marker\":{\"colorbar\":{\"outlinewidth\":0,\"ticks\":\"\"}}}],\"bar\":[{\"error_x\":{\"color\":\"#2a3f5f\"},\"error_y\":{\"color\":\"#2a3f5f\"},\"marker\":{\"line\":{\"color\":\"#E5ECF6\",\"width\":0.5},\"pattern\":{\"fillmode\":\"overlay\",\"size\":10,\"solidity\":0.2}},\"type\":\"bar\"}],\"scattergeo\":[{\"type\":\"scattergeo\",\"marker\":{\"colorbar\":{\"outlinewidth\":0,\"ticks\":\"\"}}}],\"scatterpolar\":[{\"type\":\"scatterpolar\",\"marker\":{\"colorbar\":{\"outlinewidth\":0,\"ticks\":\"\"}}}],\"histogram\":[{\"marker\":{\"pattern\":{\"fillmode\":\"overlay\",\"size\":10,\"solidity\":0.2}},\"type\":\"histogram\"}],\"scattergl\":[{\"type\":\"scattergl\",\"marker\":{\"colorbar\":{\"outlinewidth\":0,\"ticks\":\"\"}}}],\"scatter3d\":[{\"type\":\"scatter3d\",\"line\":{\"colorbar\":{\"outlinewidth\":0,\"ticks\":\"\"}},\"marker\":{\"colorbar\":{\"outlinewidth\":0,\"ticks\":\"\"}}}],\"scattermapbox\":[{\"type\":\"scattermapbox\",\"marker\":{\"colorbar\":{\"outlinewidth\":0,\"ticks\":\"\"}}}],\"scatterternary\":[{\"type\":\"scatterternary\",\"marker\":{\"colorbar\":{\"outlinewidth\":0,\"ticks\":\"\"}}}],\"scattercarpet\":[{\"type\":\"scattercarpet\",\"marker\":{\"colorbar\":{\"outlinewidth\":0,\"ticks\":\"\"}}}],\"carpet\":[{\"aaxis\":{\"endlinecolor\":\"#2a3f5f\",\"gridcolor\":\"white\",\"linecolor\":\"white\",\"minorgridcolor\":\"white\",\"startlinecolor\":\"#2a3f5f\"},\"baxis\":{\"endlinecolor\":\"#2a3f5f\",\"gridcolor\":\"white\",\"linecolor\":\"white\",\"minorgridcolor\":\"white\",\"startlinecolor\":\"#2a3f5f\"},\"type\":\"carpet\"}],\"table\":[{\"cells\":{\"fill\":{\"color\":\"#EBF0F8\"},\"line\":{\"color\":\"white\"}},\"header\":{\"fill\":{\"color\":\"#C8D4E3\"},\"line\":{\"color\":\"white\"}},\"type\":\"table\"}],\"barpolar\":[{\"marker\":{\"line\":{\"color\":\"#E5ECF6\",\"width\":0.5},\"pattern\":{\"fillmode\":\"overlay\",\"size\":10,\"solidity\":0.2}},\"type\":\"barpolar\"}],\"pie\":[{\"automargin\":true,\"type\":\"pie\"}]},\"layout\":{\"autotypenumbers\":\"strict\",\"colorway\":[\"#636efa\",\"#EF553B\",\"#00cc96\",\"#ab63fa\",\"#FFA15A\",\"#19d3f3\",\"#FF6692\",\"#B6E880\",\"#FF97FF\",\"#FECB52\"],\"font\":{\"color\":\"#2a3f5f\"},\"hovermode\":\"closest\",\"hoverlabel\":{\"align\":\"left\"},\"paper_bgcolor\":\"white\",\"plot_bgcolor\":\"#E5ECF6\",\"polar\":{\"bgcolor\":\"#E5ECF6\",\"angularaxis\":{\"gridcolor\":\"white\",\"linecolor\":\"white\",\"ticks\":\"\"},\"radialaxis\":{\"gridcolor\":\"white\",\"linecolor\":\"white\",\"ticks\":\"\"}},\"ternary\":{\"bgcolor\":\"#E5ECF6\",\"aaxis\":{\"gridcolor\":\"white\",\"linecolor\":\"white\",\"ticks\":\"\"},\"baxis\":{\"gridcolor\":\"white\",\"linecolor\":\"white\",\"ticks\":\"\"},\"caxis\":{\"gridcolor\":\"white\",\"linecolor\":\"white\",\"ticks\":\"\"}},\"coloraxis\":{\"colorbar\":{\"outlinewidth\":0,\"ticks\":\"\"}},\"colorscale\":{\"sequential\":[[0.0,\"#0d0887\"],[0.1111111111111111,\"#46039f\"],[0.2222222222222222,\"#7201a8\"],[0.3333333333333333,\"#9c179e\"],[0.4444444444444444,\"#bd3786\"],[0.5555555555555556,\"#d8576b\"],[0.6666666666666666,\"#ed7953\"],[0.7777777777777778,\"#fb9f3a\"],[0.8888888888888888,\"#fdca26\"],[1.0,\"#f0f921\"]],\"sequentialminus\":[[0.0,\"#0d0887\"],[0.1111111111111111,\"#46039f\"],[0.2222222222222222,\"#7201a8\"],[0.3333333333333333,\"#9c179e\"],[0.4444444444444444,\"#bd3786\"],[0.5555555555555556,\"#d8576b\"],[0.6666666666666666,\"#ed7953\"],[0.7777777777777778,\"#fb9f3a\"],[0.8888888888888888,\"#fdca26\"],[1.0,\"#f0f921\"]],\"diverging\":[[0,\"#8e0152\"],[0.1,\"#c51b7d\"],[0.2,\"#de77ae\"],[0.3,\"#f1b6da\"],[0.4,\"#fde0ef\"],[0.5,\"#f7f7f7\"],[0.6,\"#e6f5d0\"],[0.7,\"#b8e186\"],[0.8,\"#7fbc41\"],[0.9,\"#4d9221\"],[1,\"#276419\"]]},\"xaxis\":{\"gridcolor\":\"white\",\"linecolor\":\"white\",\"ticks\":\"\",\"title\":{\"standoff\":15},\"zerolinecolor\":\"white\",\"automargin\":true,\"zerolinewidth\":2},\"yaxis\":{\"gridcolor\":\"white\",\"linecolor\":\"white\",\"ticks\":\"\",\"title\":{\"standoff\":15},\"zerolinecolor\":\"white\",\"automargin\":true,\"zerolinewidth\":2},\"scene\":{\"xaxis\":{\"backgroundcolor\":\"#E5ECF6\",\"gridcolor\":\"white\",\"linecolor\":\"white\",\"showbackground\":true,\"ticks\":\"\",\"zerolinecolor\":\"white\",\"gridwidth\":2},\"yaxis\":{\"backgroundcolor\":\"#E5ECF6\",\"gridcolor\":\"white\",\"linecolor\":\"white\",\"showbackground\":true,\"ticks\":\"\",\"zerolinecolor\":\"white\",\"gridwidth\":2},\"zaxis\":{\"backgroundcolor\":\"#E5ECF6\",\"gridcolor\":\"white\",\"linecolor\":\"white\",\"showbackground\":true,\"ticks\":\"\",\"zerolinecolor\":\"white\",\"gridwidth\":2}},\"shapedefaults\":{\"line\":{\"color\":\"#2a3f5f\"}},\"annotationdefaults\":{\"arrowcolor\":\"#2a3f5f\",\"arrowhead\":0,\"arrowwidth\":1},\"geo\":{\"bgcolor\":\"white\",\"landcolor\":\"#E5ECF6\",\"subunitcolor\":\"white\",\"showland\":true,\"showlakes\":true,\"lakecolor\":\"white\"},\"title\":{\"x\":0.05},\"mapbox\":{\"style\":\"light\"}}},\"xaxis\":{\"anchor\":\"y\",\"domain\":[0.0,1.0],\"title\":{\"text\":\"ExerciseAngina\"}},\"yaxis\":{\"anchor\":\"x\",\"domain\":[0.0,1.0],\"title\":{\"text\":\"count\"}},\"legend\":{\"tracegroupgap\":0},\"margin\":{\"t\":60},\"barmode\":\"relative\"},                        {\"responsive\": true}                    ).then(function(){\n",
              "                            \n",
              "var gd = document.getElementById('d58507b5-4e37-4b0a-81e1-1da99a89667e');\n",
              "var x = new MutationObserver(function (mutations, observer) {{\n",
              "        var display = window.getComputedStyle(gd).display;\n",
              "        if (!display || display === 'none') {{\n",
              "            console.log([gd, 'removed!']);\n",
              "            Plotly.purge(gd);\n",
              "            observer.disconnect();\n",
              "        }}\n",
              "}});\n",
              "\n",
              "// Listen for the removal of the full notebook cells\n",
              "var notebookContainer = gd.closest('#notebook-container');\n",
              "if (notebookContainer) {{\n",
              "    x.observe(notebookContainer, {childList: true});\n",
              "}}\n",
              "\n",
              "// Listen for the clearing of the current output cell\n",
              "var outputEl = gd.closest('.output');\n",
              "if (outputEl) {{\n",
              "    x.observe(outputEl, {childList: true});\n",
              "}}\n",
              "\n",
              "                        })                };                            </script>        </div>\n",
              "</body>\n",
              "</html>"
            ]
          },
          "metadata": {}
        },
        {
          "output_type": "stream",
          "name": "stdout",
          "text": [
            "Tipo da coluna:\n",
            " float64\n",
            "Valores unicos:\n",
            " [ 0.   1.   1.5  2.   3.   4.   0.5  2.5  5.   0.8  0.7  1.4  2.1  0.4\n",
            "  0.2  1.7  2.2  0.1  1.6  1.3  0.3  1.8  2.6 -0.9  2.8 -2.6 -1.5 -0.1\n",
            "  0.9  1.1  2.4 -1.  -1.1 -0.7 -0.8  3.7  1.2 -0.5 -2.   1.9  3.5  0.6\n",
            "  3.1  2.3  3.4  3.6  4.2  3.2  5.6  3.8  2.9  6.2  4.4]\n",
            "\n",
            "Quantidades de unicos:\n",
            " 53\n",
            "\n",
            "Quantidades de valores nulos:\n",
            " 0\n",
            "\n",
            "Analisando a media:\n",
            " count    918.000000\n",
            "mean       0.887364\n",
            "std        1.066570\n",
            "min       -2.600000\n",
            "25%        0.000000\n",
            "50%        0.600000\n",
            "75%        1.500000\n",
            "max        6.200000\n",
            "Name: Oldpeak, dtype: float64\n",
            "\n",
            "Quantidades por opcao:\n",
            " Oldpeak\n",
            "-2.6      1\n",
            "-2.0      1\n",
            "-1.5      1\n",
            "-1.1      1\n",
            "-1.0      2\n",
            "-0.9      1\n",
            "-0.8      1\n",
            "-0.7      1\n",
            "-0.5      2\n",
            "-0.1      2\n",
            " 0.0    368\n",
            " 0.1     14\n",
            " 0.2     22\n",
            " 0.3     11\n",
            " 0.4     11\n",
            " 0.5     19\n",
            " 0.6     14\n",
            " 0.7      7\n",
            " 0.8     16\n",
            " 0.9      4\n",
            " 1.0     86\n",
            " 1.1      7\n",
            " 1.2     26\n",
            " 1.3      7\n",
            " 1.4     18\n",
            " 1.5     53\n",
            " 1.6     16\n",
            " 1.7      6\n",
            " 1.8     17\n",
            " 1.9      7\n",
            " 2.0     76\n",
            " 2.1      2\n",
            " 2.2      5\n",
            " 2.3      2\n",
            " 2.4      4\n",
            " 2.5     16\n",
            " 2.6      7\n",
            " 2.8      7\n",
            " 2.9      1\n",
            " 3.0     28\n",
            " 3.1      1\n",
            " 3.2      2\n",
            " 3.4      3\n",
            " 3.5      2\n",
            " 3.6      4\n",
            " 3.7      1\n",
            " 3.8      1\n",
            " 4.0      8\n",
            " 4.2      2\n",
            " 4.4      1\n",
            " 5.0      1\n",
            " 5.6      1\n",
            " 6.2      1\n",
            "Name: count, dtype: int64\n"
          ]
        },
        {
          "output_type": "display_data",
          "data": {
            "text/html": [
              "<html>\n",
              "<head><meta charset=\"utf-8\" /></head>\n",
              "<body>\n",
              "    <div>            <script src=\"https://cdnjs.cloudflare.com/ajax/libs/mathjax/2.7.5/MathJax.js?config=TeX-AMS-MML_SVG\"></script><script type=\"text/javascript\">if (window.MathJax && window.MathJax.Hub && window.MathJax.Hub.Config) {window.MathJax.Hub.Config({SVG: {font: \"STIX-Web\"}});}</script>                <script type=\"text/javascript\">window.PlotlyConfig = {MathJaxConfig: 'local'};</script>\n",
              "        <script charset=\"utf-8\" src=\"https://cdn.plot.ly/plotly-2.24.1.min.js\"></script>                <div id=\"005de8b6-5d18-4594-bdb5-aff9e93d463a\" class=\"plotly-graph-div\" style=\"height:525px; width:100%;\"></div>            <script type=\"text/javascript\">                                    window.PLOTLYENV=window.PLOTLYENV || {};                                    if (document.getElementById(\"005de8b6-5d18-4594-bdb5-aff9e93d463a\")) {                    Plotly.newPlot(                        \"005de8b6-5d18-4594-bdb5-aff9e93d463a\",                        [{\"alignmentgroup\":\"True\",\"hovertemplate\":\"Oldpeak=%{y}\\u003cextra\\u003e\\u003c\\u002fextra\\u003e\",\"legendgroup\":\"\",\"marker\":{\"color\":\"#636efa\"},\"name\":\"\",\"notched\":false,\"offsetgroup\":\"\",\"orientation\":\"v\",\"showlegend\":false,\"x0\":\" \",\"xaxis\":\"x\",\"y\":[0.0,1.0,0.0,1.5,0.0,0.0,0.0,0.0,1.5,0.0,0.0,2.0,0.0,1.0,0.0,1.5,0.0,0.0,1.0,3.0,0.0,1.0,0.0,3.0,0.0,0.0,3.0,0.0,0.0,0.0,0.0,0.0,2.0,2.0,0.0,0.0,1.5,0.0,0.0,1.0,0.0,0.0,0.0,0.0,1.0,1.0,0.0,0.0,1.0,0.0,2.0,2.0,0.0,0.0,1.5,0.0,1.5,0.0,1.0,1.0,0.0,0.0,0.0,1.0,0.0,0.0,0.0,0.0,4.0,0.0,1.0,0.0,0.0,0.0,1.5,0.0,0.0,0.0,0.0,0.0,0.0,0.0,0.0,0.0,1.0,1.0,2.0,2.0,0.0,0.5,0.0,0.0,0.0,1.5,0.0,2.0,0.0,0.0,0.0,0.0,1.0,0.0,2.0,1.0,0.0,0.0,0.0,0.0,0.0,0.0,1.0,3.0,0.0,0.0,0.0,1.0,0.0,1.5,0.0,0.0,0.0,0.0,0.0,1.0,0.0,0.0,0.0,2.0,0.0,1.5,0.0,0.0,2.0,1.5,1.0,0.0,0.0,2.0,0.0,2.0,2.5,2.5,3.0,0.0,1.0,0.0,0.0,0.0,0.0,1.0,0.0,0.0,0.0,0.0,0.0,3.0,1.0,0.0,2.0,1.0,0.0,0.0,0.0,0.0,0.0,2.0,5.0,0.0,0.0,0.0,0.0,0.0,0.0,0.0,2.0,2.0,1.5,0.0,0.0,0.0,2.0,0.0,2.0,1.0,0.0,0.0,0.0,1.0,1.0,1.5,0.0,0.0,0.0,0.0,0.0,0.0,1.0,0.0,0.0,1.0,0.0,0.0,0.0,0.0,0.0,0.0,0.0,0.0,0.0,0.0,0.0,0.0,1.0,0.0,1.5,0.0,0.0,0.0,0.0,0.0,0.0,1.0,0.0,0.0,0.0,0.0,0.0,2.5,0.0,0.0,0.0,0.0,0.0,0.0,0.0,1.0,3.0,0.0,2.0,3.0,0.0,2.0,2.0,0.0,1.0,2.0,1.5,2.0,1.0,1.0,0.0,2.0,0.0,1.0,2.0,0.0,0.0,0.0,0.5,0.0,0.0,1.0,0.0,0.0,1.0,0.0,1.0,0.0,1.0,2.0,0.0,0.0,3.0,0.0,0.0,0.0,2.0,1.5,0.8,0.0,0.0,2.0,2.0,0.0,0.0,0.0,0.0,0.0,2.0,0.0,0.0,1.0,0.0,0.0,0.7,1.5,0.7,1.4,0.0,2.1,0.4,0.2,1.5,1.7,2.2,1.5,0.1,0.7,0.5,0.7,1.0,0.1,1.6,0.2,2.0,1.3,0.3,1.8,2.5,1.8,2.6,-0.9,2.8,2.5,-2.6,-1.5,-0.1,0.9,0.8,1.1,2.4,-1.0,-1.1,0.0,-0.7,-0.8,1.6,3.7,2.0,1.1,1.5,1.3,1.4,0.0,0.0,0.0,0.0,0.0,1.6,1.0,0.0,0.5,-1.0,1.0,0.3,0.0,1.5,0.0,0.0,0.0,0.0,0.0,0.0,0.0,0.0,1.0,2.0,0.0,2.0,2.0,0.5,2.0,0.0,1.0,0.0,0.0,1.0,1.2,2.0,0.0,0.5,0.5,2.0,0.0,0.0,0.0,0.0,1.0,0.0,1.0,0.0,0.0,0.0,0.7,2.0,0.0,0.0,0.0,1.0,0.0,0.0,0.0,0.7,2.0,0.0,1.2,0.0,-0.5,0.0,0.0,2.0,1.5,1.0,-2.0,3.0,0.0,3.0,0.0,1.5,2.5,1.3,-0.5,0.0,1.5,2.0,0.5,0.0,1.0,0.5,1.0,1.0,0.0,2.5,2.0,1.5,0.0,1.0,2.0,0.0,0.2,3.0,1.0,1.2,0.5,1.5,1.6,1.4,2.0,1.0,1.5,2.0,1.0,1.5,2.0,1.2,1.5,0.0,0.0,1.5,0.0,1.9,0.0,1.3,0.0,2.0,0.0,2.5,0.1,1.6,2.0,0.0,3.0,1.5,1.7,0.1,0.0,0.1,2.0,2.0,2.5,2.0,2.5,2.5,1.5,1.1,1.2,0.4,2.0,0.3,3.0,1.0,0.0,3.0,1.7,2.5,1.0,1.0,3.0,0.0,1.0,4.0,2.0,2.0,0.2,3.0,1.2,3.0,0.0,1.5,0.0,0.3,2.0,-0.1,1.3,0.5,3.0,0.0,1.5,1.0,1.0,0.5,4.0,1.0,1.0,0.0,0.1,1.7,0.3,1.5,1.4,1.1,1.8,0.0,2.0,2.5,1.0,1.2,4.0,2.0,0.0,1.2,3.5,1.5,3.0,0.0,0.2,0.0,1.5,1.5,0.2,2.0,0.0,1.8,1.8,0.3,0.0,2.0,1.8,1.4,4.0,0.2,0.1,2.0,1.1,2.0,1.7,1.5,0.0,1.5,2.5,2.0,1.5,0.5,1.5,1.5,1.2,3.0,1.9,3.0,1.8,1.0,1.5,0.0,0.3,1.5,0.8,2.0,1.0,2.0,0.0,0.2,0.0,2.0,0.0,1.0,0.5,0.0,0.2,1.7,1.5,1.0,1.3,0.0,1.5,0.0,1.0,3.0,1.5,0.0,0.0,0.0,0.2,0.0,0.3,0.0,2.4,1.6,0.3,0.2,0.2,0.4,0.6,1.2,1.2,4.0,0.5,0.0,0.0,2.6,0.0,1.6,1.8,3.1,1.8,1.4,2.6,0.2,1.2,0.1,0.0,0.2,0.0,0.6,2.5,0.0,0.4,2.3,0.0,3.4,0.9,0.0,1.9,0.0,0.0,0.0,0.0,0.0,0.4,0.0,2.2,0.0,0.8,0.0,0.0,1.0,1.8,0.0,0.8,0.0,0.6,0.0,3.6,0.0,0.0,1.4,0.2,1.2,0.0,0.9,2.3,0.6,0.0,0.0,0.3,0.0,3.6,0.6,0.0,1.1,0.3,0.0,3.0,0.0,0.0,0.8,2.0,1.6,0.8,2.0,1.5,0.8,0.0,4.2,0.0,2.6,0.0,0.0,2.2,0.0,1.0,1.0,0.4,0.1,0.2,1.1,0.6,1.0,0.0,1.0,1.4,0.5,1.2,2.6,0.0,0.0,3.4,0.0,0.0,0.0,0.0,0.0,0.8,4.0,2.6,1.6,2.0,3.2,1.2,0.8,0.5,0.0,1.8,0.1,0.8,1.4,1.8,0.1,0.0,2.2,1.6,1.4,0.0,1.2,0.7,0.0,2.0,0.0,0.6,1.4,0.0,2.0,0.0,2.0,3.2,0.0,0.0,1.6,0.0,2.0,0.5,0.0,5.6,0.0,1.9,1.0,3.8,1.4,0.0,3.0,0.0,0.0,0.0,1.2,0.2,1.4,0.1,2.0,0.9,1.5,0.0,1.9,4.2,3.6,0.2,0.0,0.8,1.9,0.0,0.6,0.0,1.9,2.1,0.1,1.2,2.9,1.2,2.6,0.0,0.0,0.0,1.4,1.0,1.6,1.8,0.0,1.0,0.0,2.8,1.6,0.8,1.2,0.0,0.6,1.8,3.5,0.2,2.4,0.2,2.2,0.0,1.4,0.0,0.0,0.4,0.0,2.8,2.8,1.6,1.8,1.4,0.0,1.2,3.0,1.0,0.0,1.0,1.2,0.0,0.0,1.8,6.2,0.0,2.5,0.0,0.2,1.6,0.0,0.4,3.6,1.5,1.4,0.6,0.8,3.0,2.8,1.4,0.0,0.0,0.6,1.6,0.4,1.0,1.2,0.0,1.5,0.0,2.4,1.8,0.6,1.0,0.5,0.0,1.3,0.4,1.5,0.0,0.0,0.1,1.0,0.8,0.6,0.0,0.0,0.0,0.6,3.0,0.0,2.0,0.0,0.0,4.4,2.8,0.4,0.0,0.0,0.8,1.2,2.8,4.0,0.0,0.0,1.0,0.2,1.2,3.4,1.2,0.0,0.0],\"y0\":\" \",\"yaxis\":\"y\",\"type\":\"box\"}],                        {\"template\":{\"data\":{\"histogram2dcontour\":[{\"type\":\"histogram2dcontour\",\"colorbar\":{\"outlinewidth\":0,\"ticks\":\"\"},\"colorscale\":[[0.0,\"#0d0887\"],[0.1111111111111111,\"#46039f\"],[0.2222222222222222,\"#7201a8\"],[0.3333333333333333,\"#9c179e\"],[0.4444444444444444,\"#bd3786\"],[0.5555555555555556,\"#d8576b\"],[0.6666666666666666,\"#ed7953\"],[0.7777777777777778,\"#fb9f3a\"],[0.8888888888888888,\"#fdca26\"],[1.0,\"#f0f921\"]]}],\"choropleth\":[{\"type\":\"choropleth\",\"colorbar\":{\"outlinewidth\":0,\"ticks\":\"\"}}],\"histogram2d\":[{\"type\":\"histogram2d\",\"colorbar\":{\"outlinewidth\":0,\"ticks\":\"\"},\"colorscale\":[[0.0,\"#0d0887\"],[0.1111111111111111,\"#46039f\"],[0.2222222222222222,\"#7201a8\"],[0.3333333333333333,\"#9c179e\"],[0.4444444444444444,\"#bd3786\"],[0.5555555555555556,\"#d8576b\"],[0.6666666666666666,\"#ed7953\"],[0.7777777777777778,\"#fb9f3a\"],[0.8888888888888888,\"#fdca26\"],[1.0,\"#f0f921\"]]}],\"heatmap\":[{\"type\":\"heatmap\",\"colorbar\":{\"outlinewidth\":0,\"ticks\":\"\"},\"colorscale\":[[0.0,\"#0d0887\"],[0.1111111111111111,\"#46039f\"],[0.2222222222222222,\"#7201a8\"],[0.3333333333333333,\"#9c179e\"],[0.4444444444444444,\"#bd3786\"],[0.5555555555555556,\"#d8576b\"],[0.6666666666666666,\"#ed7953\"],[0.7777777777777778,\"#fb9f3a\"],[0.8888888888888888,\"#fdca26\"],[1.0,\"#f0f921\"]]}],\"heatmapgl\":[{\"type\":\"heatmapgl\",\"colorbar\":{\"outlinewidth\":0,\"ticks\":\"\"},\"colorscale\":[[0.0,\"#0d0887\"],[0.1111111111111111,\"#46039f\"],[0.2222222222222222,\"#7201a8\"],[0.3333333333333333,\"#9c179e\"],[0.4444444444444444,\"#bd3786\"],[0.5555555555555556,\"#d8576b\"],[0.6666666666666666,\"#ed7953\"],[0.7777777777777778,\"#fb9f3a\"],[0.8888888888888888,\"#fdca26\"],[1.0,\"#f0f921\"]]}],\"contourcarpet\":[{\"type\":\"contourcarpet\",\"colorbar\":{\"outlinewidth\":0,\"ticks\":\"\"}}],\"contour\":[{\"type\":\"contour\",\"colorbar\":{\"outlinewidth\":0,\"ticks\":\"\"},\"colorscale\":[[0.0,\"#0d0887\"],[0.1111111111111111,\"#46039f\"],[0.2222222222222222,\"#7201a8\"],[0.3333333333333333,\"#9c179e\"],[0.4444444444444444,\"#bd3786\"],[0.5555555555555556,\"#d8576b\"],[0.6666666666666666,\"#ed7953\"],[0.7777777777777778,\"#fb9f3a\"],[0.8888888888888888,\"#fdca26\"],[1.0,\"#f0f921\"]]}],\"surface\":[{\"type\":\"surface\",\"colorbar\":{\"outlinewidth\":0,\"ticks\":\"\"},\"colorscale\":[[0.0,\"#0d0887\"],[0.1111111111111111,\"#46039f\"],[0.2222222222222222,\"#7201a8\"],[0.3333333333333333,\"#9c179e\"],[0.4444444444444444,\"#bd3786\"],[0.5555555555555556,\"#d8576b\"],[0.6666666666666666,\"#ed7953\"],[0.7777777777777778,\"#fb9f3a\"],[0.8888888888888888,\"#fdca26\"],[1.0,\"#f0f921\"]]}],\"mesh3d\":[{\"type\":\"mesh3d\",\"colorbar\":{\"outlinewidth\":0,\"ticks\":\"\"}}],\"scatter\":[{\"fillpattern\":{\"fillmode\":\"overlay\",\"size\":10,\"solidity\":0.2},\"type\":\"scatter\"}],\"parcoords\":[{\"type\":\"parcoords\",\"line\":{\"colorbar\":{\"outlinewidth\":0,\"ticks\":\"\"}}}],\"scatterpolargl\":[{\"type\":\"scatterpolargl\",\"marker\":{\"colorbar\":{\"outlinewidth\":0,\"ticks\":\"\"}}}],\"bar\":[{\"error_x\":{\"color\":\"#2a3f5f\"},\"error_y\":{\"color\":\"#2a3f5f\"},\"marker\":{\"line\":{\"color\":\"#E5ECF6\",\"width\":0.5},\"pattern\":{\"fillmode\":\"overlay\",\"size\":10,\"solidity\":0.2}},\"type\":\"bar\"}],\"scattergeo\":[{\"type\":\"scattergeo\",\"marker\":{\"colorbar\":{\"outlinewidth\":0,\"ticks\":\"\"}}}],\"scatterpolar\":[{\"type\":\"scatterpolar\",\"marker\":{\"colorbar\":{\"outlinewidth\":0,\"ticks\":\"\"}}}],\"histogram\":[{\"marker\":{\"pattern\":{\"fillmode\":\"overlay\",\"size\":10,\"solidity\":0.2}},\"type\":\"histogram\"}],\"scattergl\":[{\"type\":\"scattergl\",\"marker\":{\"colorbar\":{\"outlinewidth\":0,\"ticks\":\"\"}}}],\"scatter3d\":[{\"type\":\"scatter3d\",\"line\":{\"colorbar\":{\"outlinewidth\":0,\"ticks\":\"\"}},\"marker\":{\"colorbar\":{\"outlinewidth\":0,\"ticks\":\"\"}}}],\"scattermapbox\":[{\"type\":\"scattermapbox\",\"marker\":{\"colorbar\":{\"outlinewidth\":0,\"ticks\":\"\"}}}],\"scatterternary\":[{\"type\":\"scatterternary\",\"marker\":{\"colorbar\":{\"outlinewidth\":0,\"ticks\":\"\"}}}],\"scattercarpet\":[{\"type\":\"scattercarpet\",\"marker\":{\"colorbar\":{\"outlinewidth\":0,\"ticks\":\"\"}}}],\"carpet\":[{\"aaxis\":{\"endlinecolor\":\"#2a3f5f\",\"gridcolor\":\"white\",\"linecolor\":\"white\",\"minorgridcolor\":\"white\",\"startlinecolor\":\"#2a3f5f\"},\"baxis\":{\"endlinecolor\":\"#2a3f5f\",\"gridcolor\":\"white\",\"linecolor\":\"white\",\"minorgridcolor\":\"white\",\"startlinecolor\":\"#2a3f5f\"},\"type\":\"carpet\"}],\"table\":[{\"cells\":{\"fill\":{\"color\":\"#EBF0F8\"},\"line\":{\"color\":\"white\"}},\"header\":{\"fill\":{\"color\":\"#C8D4E3\"},\"line\":{\"color\":\"white\"}},\"type\":\"table\"}],\"barpolar\":[{\"marker\":{\"line\":{\"color\":\"#E5ECF6\",\"width\":0.5},\"pattern\":{\"fillmode\":\"overlay\",\"size\":10,\"solidity\":0.2}},\"type\":\"barpolar\"}],\"pie\":[{\"automargin\":true,\"type\":\"pie\"}]},\"layout\":{\"autotypenumbers\":\"strict\",\"colorway\":[\"#636efa\",\"#EF553B\",\"#00cc96\",\"#ab63fa\",\"#FFA15A\",\"#19d3f3\",\"#FF6692\",\"#B6E880\",\"#FF97FF\",\"#FECB52\"],\"font\":{\"color\":\"#2a3f5f\"},\"hovermode\":\"closest\",\"hoverlabel\":{\"align\":\"left\"},\"paper_bgcolor\":\"white\",\"plot_bgcolor\":\"#E5ECF6\",\"polar\":{\"bgcolor\":\"#E5ECF6\",\"angularaxis\":{\"gridcolor\":\"white\",\"linecolor\":\"white\",\"ticks\":\"\"},\"radialaxis\":{\"gridcolor\":\"white\",\"linecolor\":\"white\",\"ticks\":\"\"}},\"ternary\":{\"bgcolor\":\"#E5ECF6\",\"aaxis\":{\"gridcolor\":\"white\",\"linecolor\":\"white\",\"ticks\":\"\"},\"baxis\":{\"gridcolor\":\"white\",\"linecolor\":\"white\",\"ticks\":\"\"},\"caxis\":{\"gridcolor\":\"white\",\"linecolor\":\"white\",\"ticks\":\"\"}},\"coloraxis\":{\"colorbar\":{\"outlinewidth\":0,\"ticks\":\"\"}},\"colorscale\":{\"sequential\":[[0.0,\"#0d0887\"],[0.1111111111111111,\"#46039f\"],[0.2222222222222222,\"#7201a8\"],[0.3333333333333333,\"#9c179e\"],[0.4444444444444444,\"#bd3786\"],[0.5555555555555556,\"#d8576b\"],[0.6666666666666666,\"#ed7953\"],[0.7777777777777778,\"#fb9f3a\"],[0.8888888888888888,\"#fdca26\"],[1.0,\"#f0f921\"]],\"sequentialminus\":[[0.0,\"#0d0887\"],[0.1111111111111111,\"#46039f\"],[0.2222222222222222,\"#7201a8\"],[0.3333333333333333,\"#9c179e\"],[0.4444444444444444,\"#bd3786\"],[0.5555555555555556,\"#d8576b\"],[0.6666666666666666,\"#ed7953\"],[0.7777777777777778,\"#fb9f3a\"],[0.8888888888888888,\"#fdca26\"],[1.0,\"#f0f921\"]],\"diverging\":[[0,\"#8e0152\"],[0.1,\"#c51b7d\"],[0.2,\"#de77ae\"],[0.3,\"#f1b6da\"],[0.4,\"#fde0ef\"],[0.5,\"#f7f7f7\"],[0.6,\"#e6f5d0\"],[0.7,\"#b8e186\"],[0.8,\"#7fbc41\"],[0.9,\"#4d9221\"],[1,\"#276419\"]]},\"xaxis\":{\"gridcolor\":\"white\",\"linecolor\":\"white\",\"ticks\":\"\",\"title\":{\"standoff\":15},\"zerolinecolor\":\"white\",\"automargin\":true,\"zerolinewidth\":2},\"yaxis\":{\"gridcolor\":\"white\",\"linecolor\":\"white\",\"ticks\":\"\",\"title\":{\"standoff\":15},\"zerolinecolor\":\"white\",\"automargin\":true,\"zerolinewidth\":2},\"scene\":{\"xaxis\":{\"backgroundcolor\":\"#E5ECF6\",\"gridcolor\":\"white\",\"linecolor\":\"white\",\"showbackground\":true,\"ticks\":\"\",\"zerolinecolor\":\"white\",\"gridwidth\":2},\"yaxis\":{\"backgroundcolor\":\"#E5ECF6\",\"gridcolor\":\"white\",\"linecolor\":\"white\",\"showbackground\":true,\"ticks\":\"\",\"zerolinecolor\":\"white\",\"gridwidth\":2},\"zaxis\":{\"backgroundcolor\":\"#E5ECF6\",\"gridcolor\":\"white\",\"linecolor\":\"white\",\"showbackground\":true,\"ticks\":\"\",\"zerolinecolor\":\"white\",\"gridwidth\":2}},\"shapedefaults\":{\"line\":{\"color\":\"#2a3f5f\"}},\"annotationdefaults\":{\"arrowcolor\":\"#2a3f5f\",\"arrowhead\":0,\"arrowwidth\":1},\"geo\":{\"bgcolor\":\"white\",\"landcolor\":\"#E5ECF6\",\"subunitcolor\":\"white\",\"showland\":true,\"showlakes\":true,\"lakecolor\":\"white\"},\"title\":{\"x\":0.05},\"mapbox\":{\"style\":\"light\"}}},\"xaxis\":{\"anchor\":\"y\",\"domain\":[0.0,1.0]},\"yaxis\":{\"anchor\":\"x\",\"domain\":[0.0,1.0],\"title\":{\"text\":\"Oldpeak\"}},\"legend\":{\"tracegroupgap\":0},\"margin\":{\"t\":60},\"boxmode\":\"group\"},                        {\"responsive\": true}                    ).then(function(){\n",
              "                            \n",
              "var gd = document.getElementById('005de8b6-5d18-4594-bdb5-aff9e93d463a');\n",
              "var x = new MutationObserver(function (mutations, observer) {{\n",
              "        var display = window.getComputedStyle(gd).display;\n",
              "        if (!display || display === 'none') {{\n",
              "            console.log([gd, 'removed!']);\n",
              "            Plotly.purge(gd);\n",
              "            observer.disconnect();\n",
              "        }}\n",
              "}});\n",
              "\n",
              "// Listen for the removal of the full notebook cells\n",
              "var notebookContainer = gd.closest('#notebook-container');\n",
              "if (notebookContainer) {{\n",
              "    x.observe(notebookContainer, {childList: true});\n",
              "}}\n",
              "\n",
              "// Listen for the clearing of the current output cell\n",
              "var outputEl = gd.closest('.output');\n",
              "if (outputEl) {{\n",
              "    x.observe(outputEl, {childList: true});\n",
              "}}\n",
              "\n",
              "                        })                };                            </script>        </div>\n",
              "</body>\n",
              "</html>"
            ]
          },
          "metadata": {}
        },
        {
          "output_type": "stream",
          "name": "stdout",
          "text": [
            "Tipo da coluna:\n",
            " object\n",
            "Valores unicos:\n",
            " ['Up' 'Flat' 'Down']\n",
            "\n",
            "Quantidades de unicos:\n",
            " 3\n",
            "\n",
            "Quantidades de valores nulos:\n",
            " 0\n",
            "\n",
            "Analisando a media:\n",
            " count      918\n",
            "unique       3\n",
            "top       Flat\n",
            "freq       460\n",
            "Name: ST_Slope, dtype: object\n",
            "\n",
            "Quantidades por opcao:\n",
            " ST_Slope\n",
            "Down     63\n",
            "Flat    460\n",
            "Up      395\n",
            "Name: count, dtype: int64\n"
          ]
        },
        {
          "output_type": "display_data",
          "data": {
            "text/html": [
              "<html>\n",
              "<head><meta charset=\"utf-8\" /></head>\n",
              "<body>\n",
              "    <div>            <script src=\"https://cdnjs.cloudflare.com/ajax/libs/mathjax/2.7.5/MathJax.js?config=TeX-AMS-MML_SVG\"></script><script type=\"text/javascript\">if (window.MathJax && window.MathJax.Hub && window.MathJax.Hub.Config) {window.MathJax.Hub.Config({SVG: {font: \"STIX-Web\"}});}</script>                <script type=\"text/javascript\">window.PlotlyConfig = {MathJaxConfig: 'local'};</script>\n",
              "        <script charset=\"utf-8\" src=\"https://cdn.plot.ly/plotly-2.24.1.min.js\"></script>                <div id=\"a6e19776-9351-4982-8189-a86072650a4c\" class=\"plotly-graph-div\" style=\"height:525px; width:100%;\"></div>            <script type=\"text/javascript\">                                    window.PLOTLYENV=window.PLOTLYENV || {};                                    if (document.getElementById(\"a6e19776-9351-4982-8189-a86072650a4c\")) {                    Plotly.newPlot(                        \"a6e19776-9351-4982-8189-a86072650a4c\",                        [{\"alignmentgroup\":\"True\",\"hovertemplate\":\"ST_Slope=%{x}\\u003cbr\\u003ecount=%{y}\\u003cextra\\u003e\\u003c\\u002fextra\\u003e\",\"legendgroup\":\"\",\"marker\":{\"color\":\"#636efa\",\"pattern\":{\"shape\":\"\"}},\"name\":\"\",\"offsetgroup\":\"\",\"orientation\":\"v\",\"showlegend\":false,\"textposition\":\"auto\",\"x\":[\"Up\",\"Flat\",\"Up\",\"Flat\",\"Up\",\"Up\",\"Up\",\"Up\",\"Flat\",\"Up\",\"Up\",\"Flat\",\"Up\",\"Flat\",\"Up\",\"Flat\",\"Flat\",\"Up\",\"Flat\",\"Flat\",\"Up\",\"Flat\",\"Up\",\"Flat\",\"Up\",\"Up\",\"Flat\",\"Up\",\"Up\",\"Up\",\"Flat\",\"Up\",\"Flat\",\"Flat\",\"Up\",\"Up\",\"Flat\",\"Up\",\"Up\",\"Flat\",\"Up\",\"Flat\",\"Up\",\"Up\",\"Flat\",\"Flat\",\"Up\",\"Up\",\"Flat\",\"Flat\",\"Flat\",\"Flat\",\"Up\",\"Up\",\"Flat\",\"Up\",\"Flat\",\"Flat\",\"Up\",\"Flat\",\"Up\",\"Up\",\"Up\",\"Flat\",\"Up\",\"Up\",\"Up\",\"Up\",\"Flat\",\"Up\",\"Flat\",\"Up\",\"Flat\",\"Up\",\"Flat\",\"Up\",\"Flat\",\"Up\",\"Up\",\"Flat\",\"Up\",\"Up\",\"Flat\",\"Up\",\"Flat\",\"Flat\",\"Flat\",\"Flat\",\"Flat\",\"Flat\",\"Up\",\"Up\",\"Up\",\"Flat\",\"Up\",\"Flat\",\"Up\",\"Up\",\"Up\",\"Up\",\"Flat\",\"Up\",\"Flat\",\"Flat\",\"Flat\",\"Up\",\"Up\",\"Up\",\"Up\",\"Up\",\"Flat\",\"Flat\",\"Up\",\"Up\",\"Up\",\"Flat\",\"Flat\",\"Flat\",\"Up\",\"Flat\",\"Flat\",\"Up\",\"Up\",\"Flat\",\"Up\",\"Up\",\"Up\",\"Up\",\"Up\",\"Flat\",\"Up\",\"Flat\",\"Flat\",\"Flat\",\"Flat\",\"Flat\",\"Up\",\"Up\",\"Flat\",\"Flat\",\"Flat\",\"Flat\",\"Flat\",\"Up\",\"Flat\",\"Up\",\"Up\",\"Up\",\"Up\",\"Flat\",\"Up\",\"Up\",\"Up\",\"Up\",\"Up\",\"Flat\",\"Flat\",\"Up\",\"Flat\",\"Up\",\"Flat\",\"Flat\",\"Up\",\"Up\",\"Up\",\"Flat\",\"Flat\",\"Up\",\"Up\",\"Up\",\"Up\",\"Up\",\"Up\",\"Up\",\"Flat\",\"Flat\",\"Flat\",\"Up\",\"Up\",\"Up\",\"Flat\",\"Up\",\"Flat\",\"Flat\",\"Up\",\"Flat\",\"Up\",\"Flat\",\"Flat\",\"Flat\",\"Up\",\"Up\",\"Up\",\"Up\",\"Up\",\"Up\",\"Flat\",\"Up\",\"Flat\",\"Flat\",\"Up\",\"Up\",\"Up\",\"Up\",\"Up\",\"Up\",\"Up\",\"Flat\",\"Up\",\"Flat\",\"Flat\",\"Flat\",\"Up\",\"Up\",\"Flat\",\"Up\",\"Flat\",\"Up\",\"Up\",\"Up\",\"Flat\",\"Flat\",\"Up\",\"Up\",\"Up\",\"Flat\",\"Up\",\"Flat\",\"Up\",\"Up\",\"Up\",\"Up\",\"Up\",\"Up\",\"Up\",\"Flat\",\"Flat\",\"Flat\",\"Flat\",\"Flat\",\"Up\",\"Flat\",\"Flat\",\"Up\",\"Flat\",\"Up\",\"Flat\",\"Down\",\"Flat\",\"Flat\",\"Flat\",\"Flat\",\"Up\",\"Up\",\"Flat\",\"Up\",\"Up\",\"Up\",\"Up\",\"Up\",\"Up\",\"Up\",\"Flat\",\"Flat\",\"Flat\",\"Up\",\"Flat\",\"Up\",\"Flat\",\"Flat\",\"Up\",\"Up\",\"Flat\",\"Up\",\"Up\",\"Up\",\"Flat\",\"Flat\",\"Flat\",\"Up\",\"Up\",\"Flat\",\"Up\",\"Up\",\"Up\",\"Up\",\"Up\",\"Up\",\"Up\",\"Up\",\"Up\",\"Up\",\"Up\",\"Flat\",\"Up\",\"Up\",\"Flat\",\"Up\",\"Flat\",\"Up\",\"Flat\",\"Up\",\"Up\",\"Down\",\"Flat\",\"Up\",\"Flat\",\"Down\",\"Up\",\"Down\",\"Up\",\"Up\",\"Up\",\"Up\",\"Down\",\"Up\",\"Flat\",\"Up\",\"Flat\",\"Up\",\"Flat\",\"Flat\",\"Up\",\"Down\",\"Flat\",\"Down\",\"Up\",\"Up\",\"Flat\",\"Down\",\"Up\",\"Up\",\"Up\",\"Up\",\"Up\",\"Flat\",\"Flat\",\"Up\",\"Up\",\"Down\",\"Down\",\"Down\",\"Flat\",\"Flat\",\"Flat\",\"Flat\",\"Flat\",\"Flat\",\"Flat\",\"Flat\",\"Flat\",\"Up\",\"Down\",\"Flat\",\"Up\",\"Flat\",\"Flat\",\"Flat\",\"Flat\",\"Flat\",\"Flat\",\"Flat\",\"Flat\",\"Flat\",\"Flat\",\"Flat\",\"Flat\",\"Up\",\"Flat\",\"Flat\",\"Up\",\"Flat\",\"Up\",\"Flat\",\"Down\",\"Up\",\"Flat\",\"Flat\",\"Flat\",\"Up\",\"Flat\",\"Flat\",\"Flat\",\"Flat\",\"Flat\",\"Flat\",\"Flat\",\"Flat\",\"Flat\",\"Flat\",\"Flat\",\"Flat\",\"Flat\",\"Flat\",\"Flat\",\"Flat\",\"Flat\",\"Flat\",\"Up\",\"Flat\",\"Flat\",\"Flat\",\"Flat\",\"Flat\",\"Flat\",\"Flat\",\"Flat\",\"Flat\",\"Flat\",\"Flat\",\"Flat\",\"Flat\",\"Flat\",\"Flat\",\"Flat\",\"Flat\",\"Flat\",\"Up\",\"Down\",\"Up\",\"Flat\",\"Up\",\"Flat\",\"Flat\",\"Up\",\"Flat\",\"Up\",\"Flat\",\"Flat\",\"Flat\",\"Flat\",\"Up\",\"Down\",\"Flat\",\"Down\",\"Up\",\"Up\",\"Flat\",\"Flat\",\"Up\",\"Up\",\"Flat\",\"Flat\",\"Flat\",\"Flat\",\"Flat\",\"Flat\",\"Up\",\"Flat\",\"Flat\",\"Down\",\"Flat\",\"Flat\",\"Up\",\"Flat\",\"Up\",\"Flat\",\"Flat\",\"Flat\",\"Up\",\"Flat\",\"Flat\",\"Down\",\"Up\",\"Down\",\"Up\",\"Flat\",\"Up\",\"Up\",\"Flat\",\"Flat\",\"Flat\",\"Flat\",\"Flat\",\"Up\",\"Flat\",\"Up\",\"Down\",\"Flat\",\"Flat\",\"Flat\",\"Down\",\"Up\",\"Down\",\"Flat\",\"Flat\",\"Up\",\"Flat\",\"Up\",\"Flat\",\"Flat\",\"Flat\",\"Flat\",\"Flat\",\"Flat\",\"Flat\",\"Down\",\"Down\",\"Flat\",\"Flat\",\"Down\",\"Flat\",\"Flat\",\"Up\",\"Down\",\"Flat\",\"Flat\",\"Up\",\"Down\",\"Flat\",\"Up\",\"Flat\",\"Up\",\"Flat\",\"Up\",\"Flat\",\"Flat\",\"Flat\",\"Down\",\"Up\",\"Flat\",\"Down\",\"Up\",\"Flat\",\"Up\",\"Up\",\"Flat\",\"Up\",\"Flat\",\"Flat\",\"Flat\",\"Flat\",\"Flat\",\"Flat\",\"Down\",\"Flat\",\"Flat\",\"Down\",\"Flat\",\"Up\",\"Flat\",\"Down\",\"Flat\",\"Down\",\"Up\",\"Up\",\"Flat\",\"Down\",\"Up\",\"Up\",\"Flat\",\"Up\",\"Flat\",\"Flat\",\"Up\",\"Flat\",\"Down\",\"Flat\",\"Flat\",\"Down\",\"Up\",\"Up\",\"Flat\",\"Flat\",\"Flat\",\"Flat\",\"Flat\",\"Flat\",\"Down\",\"Flat\",\"Down\",\"Flat\",\"Flat\",\"Flat\",\"Flat\",\"Flat\",\"Flat\",\"Flat\",\"Down\",\"Flat\",\"Flat\",\"Up\",\"Flat\",\"Up\",\"Flat\",\"Flat\",\"Flat\",\"Flat\",\"Flat\",\"Flat\",\"Up\",\"Up\",\"Down\",\"Flat\",\"Up\",\"Flat\",\"Flat\",\"Up\",\"Down\",\"Flat\",\"Flat\",\"Flat\",\"Flat\",\"Down\",\"Up\",\"Up\",\"Flat\",\"Flat\",\"Flat\",\"Flat\",\"Flat\",\"Up\",\"Flat\",\"Up\",\"Flat\",\"Flat\",\"Flat\",\"Up\",\"Flat\",\"Up\",\"Up\",\"Flat\",\"Flat\",\"Flat\",\"Flat\",\"Flat\",\"Up\",\"Up\",\"Flat\",\"Up\",\"Flat\",\"Flat\",\"Down\",\"Flat\",\"Up\",\"Flat\",\"Flat\",\"Flat\",\"Up\",\"Up\",\"Up\",\"Flat\",\"Up\",\"Flat\",\"Up\",\"Flat\",\"Up\",\"Up\",\"Down\",\"Flat\",\"Up\",\"Up\",\"Up\",\"Up\",\"Up\",\"Up\",\"Up\",\"Up\",\"Up\",\"Flat\",\"Up\",\"Up\",\"Up\",\"Flat\",\"Flat\",\"Flat\",\"Up\",\"Up\",\"Up\",\"Flat\",\"Up\",\"Flat\",\"Up\",\"Flat\",\"Flat\",\"Up\",\"Flat\",\"Up\",\"Up\",\"Down\",\"Flat\",\"Up\",\"Up\",\"Flat\",\"Up\",\"Flat\",\"Up\",\"Up\",\"Flat\",\"Up\",\"Flat\",\"Flat\",\"Up\",\"Flat\",\"Up\",\"Flat\",\"Flat\",\"Up\",\"Flat\",\"Flat\",\"Up\",\"Up\",\"Down\",\"Up\",\"Flat\",\"Up\",\"Up\",\"Flat\",\"Flat\",\"Up\",\"Flat\",\"Flat\",\"Up\",\"Up\",\"Up\",\"Flat\",\"Flat\",\"Up\",\"Flat\",\"Flat\",\"Flat\",\"Flat\",\"Flat\",\"Up\",\"Flat\",\"Flat\",\"Up\",\"Up\",\"Up\",\"Up\",\"Flat\",\"Up\",\"Down\",\"Down\",\"Down\",\"Flat\",\"Flat\",\"Flat\",\"Up\",\"Down\",\"Up\",\"Flat\",\"Flat\",\"Up\",\"Up\",\"Flat\",\"Up\",\"Up\",\"Down\",\"Up\",\"Down\",\"Up\",\"Flat\",\"Up\",\"Up\",\"Flat\",\"Up\",\"Flat\",\"Up\",\"Up\",\"Flat\",\"Up\",\"Flat\",\"Up\",\"Up\",\"Up\",\"Flat\",\"Up\",\"Flat\",\"Up\",\"Up\",\"Down\",\"Up\",\"Flat\",\"Flat\",\"Flat\",\"Flat\",\"Up\",\"Flat\",\"Up\",\"Up\",\"Up\",\"Down\",\"Flat\",\"Flat\",\"Flat\",\"Flat\",\"Flat\",\"Flat\",\"Up\",\"Flat\",\"Flat\",\"Flat\",\"Flat\",\"Up\",\"Down\",\"Flat\",\"Up\",\"Flat\",\"Up\",\"Up\",\"Flat\",\"Up\",\"Flat\",\"Flat\",\"Up\",\"Down\",\"Up\",\"Up\",\"Up\",\"Flat\",\"Flat\",\"Flat\",\"Up\",\"Up\",\"Up\",\"Up\",\"Flat\",\"Up\",\"Flat\",\"Flat\",\"Up\",\"Flat\",\"Flat\",\"Down\",\"Flat\",\"Flat\",\"Flat\",\"Flat\",\"Up\",\"Up\",\"Up\",\"Up\",\"Flat\",\"Up\",\"Flat\",\"Flat\",\"Up\",\"Up\",\"Up\",\"Flat\",\"Flat\",\"Flat\",\"Up\",\"Flat\",\"Flat\",\"Flat\",\"Up\",\"Up\",\"Flat\",\"Down\",\"Up\",\"Flat\",\"Up\",\"Up\",\"Flat\",\"Up\",\"Flat\",\"Down\",\"Up\",\"Up\",\"Up\",\"Up\",\"Flat\",\"Flat\",\"Flat\",\"Up\",\"Up\",\"Up\",\"Up\",\"Up\",\"Flat\",\"Flat\",\"Up\",\"Up\",\"Up\",\"Flat\",\"Flat\",\"Up\",\"Down\",\"Up\",\"Up\",\"Flat\",\"Flat\",\"Flat\",\"Up\",\"Up\",\"Flat\",\"Flat\",\"Up\",\"Flat\",\"Flat\",\"Flat\",\"Up\",\"Flat\",\"Flat\",\"Up\",\"Flat\",\"Up\",\"Up\",\"Down\",\"Flat\",\"Flat\",\"Up\",\"Down\",\"Flat\",\"Up\",\"Down\",\"Up\",\"Flat\",\"Up\",\"Flat\",\"Flat\",\"Flat\",\"Flat\",\"Flat\",\"Flat\",\"Up\"],\"xaxis\":\"x\",\"y\":[1,1,1,1,1,1,1,1,1,1,1,1,1,1,1,1,1,1,1,1,1,1,1,1,1,1,1,1,1,1,1,1,1,1,1,1,1,1,1,1,1,1,1,1,1,1,1,1,1,1,1,1,1,1,1,1,1,1,1,1,1,1,1,1,1,1,1,1,1,1,1,1,1,1,1,1,1,1,1,1,1,1,1,1,1,1,1,1,1,1,1,1,1,1,1,1,1,1,1,1,1,1,1,1,1,1,1,1,1,1,1,1,1,1,1,1,1,1,1,1,1,1,1,1,1,1,1,1,1,1,1,1,1,1,1,1,1,1,1,1,1,1,1,1,1,1,1,1,1,1,1,1,1,1,1,1,1,1,1,1,1,1,1,1,1,1,1,1,1,1,1,1,1,1,1,1,1,1,1,1,1,1,1,1,1,1,1,1,1,1,1,1,1,1,1,1,1,1,1,1,1,1,1,1,1,1,1,1,1,1,1,1,1,1,1,1,1,1,1,1,1,1,1,1,1,1,1,1,1,1,1,1,1,1,1,1,1,1,1,1,1,1,1,1,1,1,1,1,1,1,1,1,1,1,1,1,1,1,1,1,1,1,1,1,1,1,1,1,1,1,1,1,1,1,1,1,1,1,1,1,1,1,1,1,1,1,1,1,1,1,1,1,1,1,1,1,1,1,1,1,1,1,1,1,1,1,1,1,1,1,1,1,1,1,1,1,1,1,1,1,1,1,1,1,1,1,1,1,1,1,1,1,1,1,1,1,1,1,1,1,1,1,1,1,1,1,1,1,1,1,1,1,1,1,1,1,1,1,1,1,1,1,1,1,1,1,1,1,1,1,1,1,1,1,1,1,1,1,1,1,1,1,1,1,1,1,1,1,1,1,1,1,1,1,1,1,1,1,1,1,1,1,1,1,1,1,1,1,1,1,1,1,1,1,1,1,1,1,1,1,1,1,1,1,1,1,1,1,1,1,1,1,1,1,1,1,1,1,1,1,1,1,1,1,1,1,1,1,1,1,1,1,1,1,1,1,1,1,1,1,1,1,1,1,1,1,1,1,1,1,1,1,1,1,1,1,1,1,1,1,1,1,1,1,1,1,1,1,1,1,1,1,1,1,1,1,1,1,1,1,1,1,1,1,1,1,1,1,1,1,1,1,1,1,1,1,1,1,1,1,1,1,1,1,1,1,1,1,1,1,1,1,1,1,1,1,1,1,1,1,1,1,1,1,1,1,1,1,1,1,1,1,1,1,1,1,1,1,1,1,1,1,1,1,1,1,1,1,1,1,1,1,1,1,1,1,1,1,1,1,1,1,1,1,1,1,1,1,1,1,1,1,1,1,1,1,1,1,1,1,1,1,1,1,1,1,1,1,1,1,1,1,1,1,1,1,1,1,1,1,1,1,1,1,1,1,1,1,1,1,1,1,1,1,1,1,1,1,1,1,1,1,1,1,1,1,1,1,1,1,1,1,1,1,1,1,1,1,1,1,1,1,1,1,1,1,1,1,1,1,1,1,1,1,1,1,1,1,1,1,1,1,1,1,1,1,1,1,1,1,1,1,1,1,1,1,1,1,1,1,1,1,1,1,1,1,1,1,1,1,1,1,1,1,1,1,1,1,1,1,1,1,1,1,1,1,1,1,1,1,1,1,1,1,1,1,1,1,1,1,1,1,1,1,1,1,1,1,1,1,1,1,1,1,1,1,1,1,1,1,1,1,1,1,1,1,1,1,1,1,1,1,1,1,1,1,1,1,1,1,1,1,1,1,1,1,1,1,1,1,1,1,1,1,1,1,1,1,1,1,1,1,1,1,1,1,1,1,1,1,1,1,1,1,1,1,1,1,1,1,1,1,1,1,1,1,1,1,1,1,1,1,1,1,1,1,1,1,1,1,1,1,1,1,1,1,1,1,1,1,1,1,1,1,1,1,1,1,1,1,1,1,1,1,1,1,1,1,1,1,1,1,1,1,1,1,1,1,1,1,1,1,1,1,1,1,1,1,1,1,1,1,1,1,1,1,1,1,1,1,1,1,1,1,1,1,1,1,1,1,1,1,1,1,1,1,1,1],\"yaxis\":\"y\",\"type\":\"bar\"}],                        {\"template\":{\"data\":{\"histogram2dcontour\":[{\"type\":\"histogram2dcontour\",\"colorbar\":{\"outlinewidth\":0,\"ticks\":\"\"},\"colorscale\":[[0.0,\"#0d0887\"],[0.1111111111111111,\"#46039f\"],[0.2222222222222222,\"#7201a8\"],[0.3333333333333333,\"#9c179e\"],[0.4444444444444444,\"#bd3786\"],[0.5555555555555556,\"#d8576b\"],[0.6666666666666666,\"#ed7953\"],[0.7777777777777778,\"#fb9f3a\"],[0.8888888888888888,\"#fdca26\"],[1.0,\"#f0f921\"]]}],\"choropleth\":[{\"type\":\"choropleth\",\"colorbar\":{\"outlinewidth\":0,\"ticks\":\"\"}}],\"histogram2d\":[{\"type\":\"histogram2d\",\"colorbar\":{\"outlinewidth\":0,\"ticks\":\"\"},\"colorscale\":[[0.0,\"#0d0887\"],[0.1111111111111111,\"#46039f\"],[0.2222222222222222,\"#7201a8\"],[0.3333333333333333,\"#9c179e\"],[0.4444444444444444,\"#bd3786\"],[0.5555555555555556,\"#d8576b\"],[0.6666666666666666,\"#ed7953\"],[0.7777777777777778,\"#fb9f3a\"],[0.8888888888888888,\"#fdca26\"],[1.0,\"#f0f921\"]]}],\"heatmap\":[{\"type\":\"heatmap\",\"colorbar\":{\"outlinewidth\":0,\"ticks\":\"\"},\"colorscale\":[[0.0,\"#0d0887\"],[0.1111111111111111,\"#46039f\"],[0.2222222222222222,\"#7201a8\"],[0.3333333333333333,\"#9c179e\"],[0.4444444444444444,\"#bd3786\"],[0.5555555555555556,\"#d8576b\"],[0.6666666666666666,\"#ed7953\"],[0.7777777777777778,\"#fb9f3a\"],[0.8888888888888888,\"#fdca26\"],[1.0,\"#f0f921\"]]}],\"heatmapgl\":[{\"type\":\"heatmapgl\",\"colorbar\":{\"outlinewidth\":0,\"ticks\":\"\"},\"colorscale\":[[0.0,\"#0d0887\"],[0.1111111111111111,\"#46039f\"],[0.2222222222222222,\"#7201a8\"],[0.3333333333333333,\"#9c179e\"],[0.4444444444444444,\"#bd3786\"],[0.5555555555555556,\"#d8576b\"],[0.6666666666666666,\"#ed7953\"],[0.7777777777777778,\"#fb9f3a\"],[0.8888888888888888,\"#fdca26\"],[1.0,\"#f0f921\"]]}],\"contourcarpet\":[{\"type\":\"contourcarpet\",\"colorbar\":{\"outlinewidth\":0,\"ticks\":\"\"}}],\"contour\":[{\"type\":\"contour\",\"colorbar\":{\"outlinewidth\":0,\"ticks\":\"\"},\"colorscale\":[[0.0,\"#0d0887\"],[0.1111111111111111,\"#46039f\"],[0.2222222222222222,\"#7201a8\"],[0.3333333333333333,\"#9c179e\"],[0.4444444444444444,\"#bd3786\"],[0.5555555555555556,\"#d8576b\"],[0.6666666666666666,\"#ed7953\"],[0.7777777777777778,\"#fb9f3a\"],[0.8888888888888888,\"#fdca26\"],[1.0,\"#f0f921\"]]}],\"surface\":[{\"type\":\"surface\",\"colorbar\":{\"outlinewidth\":0,\"ticks\":\"\"},\"colorscale\":[[0.0,\"#0d0887\"],[0.1111111111111111,\"#46039f\"],[0.2222222222222222,\"#7201a8\"],[0.3333333333333333,\"#9c179e\"],[0.4444444444444444,\"#bd3786\"],[0.5555555555555556,\"#d8576b\"],[0.6666666666666666,\"#ed7953\"],[0.7777777777777778,\"#fb9f3a\"],[0.8888888888888888,\"#fdca26\"],[1.0,\"#f0f921\"]]}],\"mesh3d\":[{\"type\":\"mesh3d\",\"colorbar\":{\"outlinewidth\":0,\"ticks\":\"\"}}],\"scatter\":[{\"fillpattern\":{\"fillmode\":\"overlay\",\"size\":10,\"solidity\":0.2},\"type\":\"scatter\"}],\"parcoords\":[{\"type\":\"parcoords\",\"line\":{\"colorbar\":{\"outlinewidth\":0,\"ticks\":\"\"}}}],\"scatterpolargl\":[{\"type\":\"scatterpolargl\",\"marker\":{\"colorbar\":{\"outlinewidth\":0,\"ticks\":\"\"}}}],\"bar\":[{\"error_x\":{\"color\":\"#2a3f5f\"},\"error_y\":{\"color\":\"#2a3f5f\"},\"marker\":{\"line\":{\"color\":\"#E5ECF6\",\"width\":0.5},\"pattern\":{\"fillmode\":\"overlay\",\"size\":10,\"solidity\":0.2}},\"type\":\"bar\"}],\"scattergeo\":[{\"type\":\"scattergeo\",\"marker\":{\"colorbar\":{\"outlinewidth\":0,\"ticks\":\"\"}}}],\"scatterpolar\":[{\"type\":\"scatterpolar\",\"marker\":{\"colorbar\":{\"outlinewidth\":0,\"ticks\":\"\"}}}],\"histogram\":[{\"marker\":{\"pattern\":{\"fillmode\":\"overlay\",\"size\":10,\"solidity\":0.2}},\"type\":\"histogram\"}],\"scattergl\":[{\"type\":\"scattergl\",\"marker\":{\"colorbar\":{\"outlinewidth\":0,\"ticks\":\"\"}}}],\"scatter3d\":[{\"type\":\"scatter3d\",\"line\":{\"colorbar\":{\"outlinewidth\":0,\"ticks\":\"\"}},\"marker\":{\"colorbar\":{\"outlinewidth\":0,\"ticks\":\"\"}}}],\"scattermapbox\":[{\"type\":\"scattermapbox\",\"marker\":{\"colorbar\":{\"outlinewidth\":0,\"ticks\":\"\"}}}],\"scatterternary\":[{\"type\":\"scatterternary\",\"marker\":{\"colorbar\":{\"outlinewidth\":0,\"ticks\":\"\"}}}],\"scattercarpet\":[{\"type\":\"scattercarpet\",\"marker\":{\"colorbar\":{\"outlinewidth\":0,\"ticks\":\"\"}}}],\"carpet\":[{\"aaxis\":{\"endlinecolor\":\"#2a3f5f\",\"gridcolor\":\"white\",\"linecolor\":\"white\",\"minorgridcolor\":\"white\",\"startlinecolor\":\"#2a3f5f\"},\"baxis\":{\"endlinecolor\":\"#2a3f5f\",\"gridcolor\":\"white\",\"linecolor\":\"white\",\"minorgridcolor\":\"white\",\"startlinecolor\":\"#2a3f5f\"},\"type\":\"carpet\"}],\"table\":[{\"cells\":{\"fill\":{\"color\":\"#EBF0F8\"},\"line\":{\"color\":\"white\"}},\"header\":{\"fill\":{\"color\":\"#C8D4E3\"},\"line\":{\"color\":\"white\"}},\"type\":\"table\"}],\"barpolar\":[{\"marker\":{\"line\":{\"color\":\"#E5ECF6\",\"width\":0.5},\"pattern\":{\"fillmode\":\"overlay\",\"size\":10,\"solidity\":0.2}},\"type\":\"barpolar\"}],\"pie\":[{\"automargin\":true,\"type\":\"pie\"}]},\"layout\":{\"autotypenumbers\":\"strict\",\"colorway\":[\"#636efa\",\"#EF553B\",\"#00cc96\",\"#ab63fa\",\"#FFA15A\",\"#19d3f3\",\"#FF6692\",\"#B6E880\",\"#FF97FF\",\"#FECB52\"],\"font\":{\"color\":\"#2a3f5f\"},\"hovermode\":\"closest\",\"hoverlabel\":{\"align\":\"left\"},\"paper_bgcolor\":\"white\",\"plot_bgcolor\":\"#E5ECF6\",\"polar\":{\"bgcolor\":\"#E5ECF6\",\"angularaxis\":{\"gridcolor\":\"white\",\"linecolor\":\"white\",\"ticks\":\"\"},\"radialaxis\":{\"gridcolor\":\"white\",\"linecolor\":\"white\",\"ticks\":\"\"}},\"ternary\":{\"bgcolor\":\"#E5ECF6\",\"aaxis\":{\"gridcolor\":\"white\",\"linecolor\":\"white\",\"ticks\":\"\"},\"baxis\":{\"gridcolor\":\"white\",\"linecolor\":\"white\",\"ticks\":\"\"},\"caxis\":{\"gridcolor\":\"white\",\"linecolor\":\"white\",\"ticks\":\"\"}},\"coloraxis\":{\"colorbar\":{\"outlinewidth\":0,\"ticks\":\"\"}},\"colorscale\":{\"sequential\":[[0.0,\"#0d0887\"],[0.1111111111111111,\"#46039f\"],[0.2222222222222222,\"#7201a8\"],[0.3333333333333333,\"#9c179e\"],[0.4444444444444444,\"#bd3786\"],[0.5555555555555556,\"#d8576b\"],[0.6666666666666666,\"#ed7953\"],[0.7777777777777778,\"#fb9f3a\"],[0.8888888888888888,\"#fdca26\"],[1.0,\"#f0f921\"]],\"sequentialminus\":[[0.0,\"#0d0887\"],[0.1111111111111111,\"#46039f\"],[0.2222222222222222,\"#7201a8\"],[0.3333333333333333,\"#9c179e\"],[0.4444444444444444,\"#bd3786\"],[0.5555555555555556,\"#d8576b\"],[0.6666666666666666,\"#ed7953\"],[0.7777777777777778,\"#fb9f3a\"],[0.8888888888888888,\"#fdca26\"],[1.0,\"#f0f921\"]],\"diverging\":[[0,\"#8e0152\"],[0.1,\"#c51b7d\"],[0.2,\"#de77ae\"],[0.3,\"#f1b6da\"],[0.4,\"#fde0ef\"],[0.5,\"#f7f7f7\"],[0.6,\"#e6f5d0\"],[0.7,\"#b8e186\"],[0.8,\"#7fbc41\"],[0.9,\"#4d9221\"],[1,\"#276419\"]]},\"xaxis\":{\"gridcolor\":\"white\",\"linecolor\":\"white\",\"ticks\":\"\",\"title\":{\"standoff\":15},\"zerolinecolor\":\"white\",\"automargin\":true,\"zerolinewidth\":2},\"yaxis\":{\"gridcolor\":\"white\",\"linecolor\":\"white\",\"ticks\":\"\",\"title\":{\"standoff\":15},\"zerolinecolor\":\"white\",\"automargin\":true,\"zerolinewidth\":2},\"scene\":{\"xaxis\":{\"backgroundcolor\":\"#E5ECF6\",\"gridcolor\":\"white\",\"linecolor\":\"white\",\"showbackground\":true,\"ticks\":\"\",\"zerolinecolor\":\"white\",\"gridwidth\":2},\"yaxis\":{\"backgroundcolor\":\"#E5ECF6\",\"gridcolor\":\"white\",\"linecolor\":\"white\",\"showbackground\":true,\"ticks\":\"\",\"zerolinecolor\":\"white\",\"gridwidth\":2},\"zaxis\":{\"backgroundcolor\":\"#E5ECF6\",\"gridcolor\":\"white\",\"linecolor\":\"white\",\"showbackground\":true,\"ticks\":\"\",\"zerolinecolor\":\"white\",\"gridwidth\":2}},\"shapedefaults\":{\"line\":{\"color\":\"#2a3f5f\"}},\"annotationdefaults\":{\"arrowcolor\":\"#2a3f5f\",\"arrowhead\":0,\"arrowwidth\":1},\"geo\":{\"bgcolor\":\"white\",\"landcolor\":\"#E5ECF6\",\"subunitcolor\":\"white\",\"showland\":true,\"showlakes\":true,\"lakecolor\":\"white\"},\"title\":{\"x\":0.05},\"mapbox\":{\"style\":\"light\"}}},\"xaxis\":{\"anchor\":\"y\",\"domain\":[0.0,1.0],\"title\":{\"text\":\"ST_Slope\"}},\"yaxis\":{\"anchor\":\"x\",\"domain\":[0.0,1.0],\"title\":{\"text\":\"count\"}},\"legend\":{\"tracegroupgap\":0},\"margin\":{\"t\":60},\"barmode\":\"relative\"},                        {\"responsive\": true}                    ).then(function(){\n",
              "                            \n",
              "var gd = document.getElementById('a6e19776-9351-4982-8189-a86072650a4c');\n",
              "var x = new MutationObserver(function (mutations, observer) {{\n",
              "        var display = window.getComputedStyle(gd).display;\n",
              "        if (!display || display === 'none') {{\n",
              "            console.log([gd, 'removed!']);\n",
              "            Plotly.purge(gd);\n",
              "            observer.disconnect();\n",
              "        }}\n",
              "}});\n",
              "\n",
              "// Listen for the removal of the full notebook cells\n",
              "var notebookContainer = gd.closest('#notebook-container');\n",
              "if (notebookContainer) {{\n",
              "    x.observe(notebookContainer, {childList: true});\n",
              "}}\n",
              "\n",
              "// Listen for the clearing of the current output cell\n",
              "var outputEl = gd.closest('.output');\n",
              "if (outputEl) {{\n",
              "    x.observe(outputEl, {childList: true});\n",
              "}}\n",
              "\n",
              "                        })                };                            </script>        </div>\n",
              "</body>\n",
              "</html>"
            ]
          },
          "metadata": {}
        },
        {
          "output_type": "stream",
          "name": "stdout",
          "text": [
            "Tipo da coluna:\n",
            " int64\n",
            "Valores unicos:\n",
            " [0 1]\n",
            "\n",
            "Quantidades de unicos:\n",
            " 2\n",
            "\n",
            "Quantidades de valores nulos:\n",
            " 0\n",
            "\n",
            "Analisando a media:\n",
            " count    918.000000\n",
            "mean       0.553377\n",
            "std        0.497414\n",
            "min        0.000000\n",
            "25%        0.000000\n",
            "50%        1.000000\n",
            "75%        1.000000\n",
            "max        1.000000\n",
            "Name: HeartDisease, dtype: float64\n",
            "\n",
            "Quantidades por opcao:\n",
            " HeartDisease\n",
            "0    410\n",
            "1    508\n",
            "Name: count, dtype: int64\n"
          ]
        },
        {
          "output_type": "display_data",
          "data": {
            "text/html": [
              "<html>\n",
              "<head><meta charset=\"utf-8\" /></head>\n",
              "<body>\n",
              "    <div>            <script src=\"https://cdnjs.cloudflare.com/ajax/libs/mathjax/2.7.5/MathJax.js?config=TeX-AMS-MML_SVG\"></script><script type=\"text/javascript\">if (window.MathJax && window.MathJax.Hub && window.MathJax.Hub.Config) {window.MathJax.Hub.Config({SVG: {font: \"STIX-Web\"}});}</script>                <script type=\"text/javascript\">window.PlotlyConfig = {MathJaxConfig: 'local'};</script>\n",
              "        <script charset=\"utf-8\" src=\"https://cdn.plot.ly/plotly-2.24.1.min.js\"></script>                <div id=\"220ff516-024f-4c63-a79f-0044e3381ca8\" class=\"plotly-graph-div\" style=\"height:525px; width:100%;\"></div>            <script type=\"text/javascript\">                                    window.PLOTLYENV=window.PLOTLYENV || {};                                    if (document.getElementById(\"220ff516-024f-4c63-a79f-0044e3381ca8\")) {                    Plotly.newPlot(                        \"220ff516-024f-4c63-a79f-0044e3381ca8\",                        [{\"alignmentgroup\":\"True\",\"hovertemplate\":\"HeartDisease=%{y}\\u003cextra\\u003e\\u003c\\u002fextra\\u003e\",\"legendgroup\":\"\",\"marker\":{\"color\":\"#636efa\"},\"name\":\"\",\"notched\":false,\"offsetgroup\":\"\",\"orientation\":\"v\",\"showlegend\":false,\"x0\":\" \",\"xaxis\":\"x\",\"y\":[0,1,0,1,0,0,0,0,1,0,0,1,0,1,0,0,1,0,1,1,0,0,0,1,0,0,0,0,0,0,1,0,1,1,0,0,1,0,0,0,0,1,0,0,1,0,0,0,0,1,1,1,0,0,0,0,1,1,0,1,0,0,0,1,0,0,0,0,1,0,1,0,1,0,1,0,1,0,0,1,0,0,1,0,1,1,1,0,1,0,0,0,0,1,0,1,0,0,0,0,1,0,1,1,1,0,0,0,0,0,0,1,0,0,0,1,1,1,0,1,1,0,0,1,0,0,0,0,0,0,0,1,1,1,0,1,0,0,1,1,1,1,1,0,1,0,0,0,0,1,0,0,0,0,0,1,1,0,1,0,1,1,0,0,0,1,1,0,0,0,0,0,0,0,1,1,1,0,0,0,1,0,1,0,0,1,0,1,0,1,0,0,0,0,0,0,0,0,1,0,0,0,0,0,0,0,0,1,0,1,1,1,0,0,1,0,1,0,0,0,1,1,0,0,0,1,0,1,0,0,0,0,0,0,0,0,1,1,1,1,0,1,1,0,1,0,1,1,1,1,1,1,0,0,1,0,0,0,0,0,0,0,1,1,1,0,1,0,1,0,0,0,1,0,0,0,1,1,0,0,0,1,0,0,0,0,0,0,0,0,0,0,0,1,1,1,1,1,1,1,1,0,1,1,1,1,1,0,1,1,0,1,1,1,0,1,1,1,1,1,1,1,1,1,1,1,0,1,1,1,1,1,0,1,1,1,0,1,1,1,1,1,1,1,1,1,1,1,1,1,1,1,1,1,1,1,1,1,1,1,1,1,1,1,0,1,1,1,1,1,1,1,1,1,1,1,1,1,1,1,1,1,1,1,1,1,1,1,1,1,1,1,1,1,1,1,1,1,1,1,1,1,1,1,1,1,1,1,1,1,1,1,1,1,1,1,1,0,1,1,0,0,1,0,1,1,0,1,1,1,1,0,1,1,0,0,1,1,1,0,1,1,1,1,1,1,1,1,1,1,1,1,1,0,1,0,1,1,1,0,1,1,1,0,1,0,1,0,1,0,1,1,1,1,0,1,0,1,1,1,1,1,1,1,1,1,0,1,0,1,1,1,1,1,1,1,0,1,1,1,1,1,1,0,1,1,1,0,1,1,0,1,0,1,1,0,1,1,1,1,0,1,1,1,0,0,1,0,1,1,1,1,1,1,1,1,1,1,1,0,1,1,1,1,0,0,1,1,1,0,1,0,1,1,0,1,0,1,1,1,0,0,0,1,1,1,0,1,1,1,1,1,1,1,1,1,1,1,1,1,1,1,1,0,1,1,1,0,1,1,0,0,1,1,1,1,1,0,1,1,0,1,1,1,0,0,1,1,1,1,1,0,1,0,1,1,0,1,0,0,0,1,1,1,1,0,0,0,1,0,0,1,1,0,0,1,0,0,0,0,0,0,0,1,0,1,0,0,1,1,1,1,1,0,0,1,0,0,0,1,0,1,1,1,1,1,0,0,0,0,0,1,0,1,1,0,1,0,0,0,1,0,1,0,1,1,0,0,0,0,1,0,0,0,0,1,1,1,0,0,0,0,0,0,1,0,1,1,1,1,1,0,1,0,0,0,1,0,1,1,1,0,1,1,0,1,0,1,0,0,0,1,1,0,1,1,1,1,0,0,0,1,0,0,1,1,1,0,1,0,0,0,1,0,0,1,0,1,0,1,1,1,1,1,0,0,0,0,0,0,0,1,0,0,1,1,1,0,1,0,0,0,0,0,1,0,1,1,0,0,1,1,1,1,0,0,1,1,0,0,0,1,0,0,1,0,1,0,1,0,0,0,0,0,1,0,1,1,1,1,0,0,0,1,0,1,0,0,1,0,0,0,0,0,0,1,1,0,1,0,0,1,1,0,0,1,1,0,1,0,1,0,1,0,0,1,0,0,1,0,1,1,0,1,1,1,0,1,0,0,0,0,1,1,0,0,1,1,0,1,0,0,0,0,1,0,0,1,1,1,0,0,0,1,0,1,0,1,0,1,1,1,0,0,0,1,0,1,1,1,0,1,1,1,1,1,1,0],\"y0\":\" \",\"yaxis\":\"y\",\"type\":\"box\"}],                        {\"template\":{\"data\":{\"histogram2dcontour\":[{\"type\":\"histogram2dcontour\",\"colorbar\":{\"outlinewidth\":0,\"ticks\":\"\"},\"colorscale\":[[0.0,\"#0d0887\"],[0.1111111111111111,\"#46039f\"],[0.2222222222222222,\"#7201a8\"],[0.3333333333333333,\"#9c179e\"],[0.4444444444444444,\"#bd3786\"],[0.5555555555555556,\"#d8576b\"],[0.6666666666666666,\"#ed7953\"],[0.7777777777777778,\"#fb9f3a\"],[0.8888888888888888,\"#fdca26\"],[1.0,\"#f0f921\"]]}],\"choropleth\":[{\"type\":\"choropleth\",\"colorbar\":{\"outlinewidth\":0,\"ticks\":\"\"}}],\"histogram2d\":[{\"type\":\"histogram2d\",\"colorbar\":{\"outlinewidth\":0,\"ticks\":\"\"},\"colorscale\":[[0.0,\"#0d0887\"],[0.1111111111111111,\"#46039f\"],[0.2222222222222222,\"#7201a8\"],[0.3333333333333333,\"#9c179e\"],[0.4444444444444444,\"#bd3786\"],[0.5555555555555556,\"#d8576b\"],[0.6666666666666666,\"#ed7953\"],[0.7777777777777778,\"#fb9f3a\"],[0.8888888888888888,\"#fdca26\"],[1.0,\"#f0f921\"]]}],\"heatmap\":[{\"type\":\"heatmap\",\"colorbar\":{\"outlinewidth\":0,\"ticks\":\"\"},\"colorscale\":[[0.0,\"#0d0887\"],[0.1111111111111111,\"#46039f\"],[0.2222222222222222,\"#7201a8\"],[0.3333333333333333,\"#9c179e\"],[0.4444444444444444,\"#bd3786\"],[0.5555555555555556,\"#d8576b\"],[0.6666666666666666,\"#ed7953\"],[0.7777777777777778,\"#fb9f3a\"],[0.8888888888888888,\"#fdca26\"],[1.0,\"#f0f921\"]]}],\"heatmapgl\":[{\"type\":\"heatmapgl\",\"colorbar\":{\"outlinewidth\":0,\"ticks\":\"\"},\"colorscale\":[[0.0,\"#0d0887\"],[0.1111111111111111,\"#46039f\"],[0.2222222222222222,\"#7201a8\"],[0.3333333333333333,\"#9c179e\"],[0.4444444444444444,\"#bd3786\"],[0.5555555555555556,\"#d8576b\"],[0.6666666666666666,\"#ed7953\"],[0.7777777777777778,\"#fb9f3a\"],[0.8888888888888888,\"#fdca26\"],[1.0,\"#f0f921\"]]}],\"contourcarpet\":[{\"type\":\"contourcarpet\",\"colorbar\":{\"outlinewidth\":0,\"ticks\":\"\"}}],\"contour\":[{\"type\":\"contour\",\"colorbar\":{\"outlinewidth\":0,\"ticks\":\"\"},\"colorscale\":[[0.0,\"#0d0887\"],[0.1111111111111111,\"#46039f\"],[0.2222222222222222,\"#7201a8\"],[0.3333333333333333,\"#9c179e\"],[0.4444444444444444,\"#bd3786\"],[0.5555555555555556,\"#d8576b\"],[0.6666666666666666,\"#ed7953\"],[0.7777777777777778,\"#fb9f3a\"],[0.8888888888888888,\"#fdca26\"],[1.0,\"#f0f921\"]]}],\"surface\":[{\"type\":\"surface\",\"colorbar\":{\"outlinewidth\":0,\"ticks\":\"\"},\"colorscale\":[[0.0,\"#0d0887\"],[0.1111111111111111,\"#46039f\"],[0.2222222222222222,\"#7201a8\"],[0.3333333333333333,\"#9c179e\"],[0.4444444444444444,\"#bd3786\"],[0.5555555555555556,\"#d8576b\"],[0.6666666666666666,\"#ed7953\"],[0.7777777777777778,\"#fb9f3a\"],[0.8888888888888888,\"#fdca26\"],[1.0,\"#f0f921\"]]}],\"mesh3d\":[{\"type\":\"mesh3d\",\"colorbar\":{\"outlinewidth\":0,\"ticks\":\"\"}}],\"scatter\":[{\"fillpattern\":{\"fillmode\":\"overlay\",\"size\":10,\"solidity\":0.2},\"type\":\"scatter\"}],\"parcoords\":[{\"type\":\"parcoords\",\"line\":{\"colorbar\":{\"outlinewidth\":0,\"ticks\":\"\"}}}],\"scatterpolargl\":[{\"type\":\"scatterpolargl\",\"marker\":{\"colorbar\":{\"outlinewidth\":0,\"ticks\":\"\"}}}],\"bar\":[{\"error_x\":{\"color\":\"#2a3f5f\"},\"error_y\":{\"color\":\"#2a3f5f\"},\"marker\":{\"line\":{\"color\":\"#E5ECF6\",\"width\":0.5},\"pattern\":{\"fillmode\":\"overlay\",\"size\":10,\"solidity\":0.2}},\"type\":\"bar\"}],\"scattergeo\":[{\"type\":\"scattergeo\",\"marker\":{\"colorbar\":{\"outlinewidth\":0,\"ticks\":\"\"}}}],\"scatterpolar\":[{\"type\":\"scatterpolar\",\"marker\":{\"colorbar\":{\"outlinewidth\":0,\"ticks\":\"\"}}}],\"histogram\":[{\"marker\":{\"pattern\":{\"fillmode\":\"overlay\",\"size\":10,\"solidity\":0.2}},\"type\":\"histogram\"}],\"scattergl\":[{\"type\":\"scattergl\",\"marker\":{\"colorbar\":{\"outlinewidth\":0,\"ticks\":\"\"}}}],\"scatter3d\":[{\"type\":\"scatter3d\",\"line\":{\"colorbar\":{\"outlinewidth\":0,\"ticks\":\"\"}},\"marker\":{\"colorbar\":{\"outlinewidth\":0,\"ticks\":\"\"}}}],\"scattermapbox\":[{\"type\":\"scattermapbox\",\"marker\":{\"colorbar\":{\"outlinewidth\":0,\"ticks\":\"\"}}}],\"scatterternary\":[{\"type\":\"scatterternary\",\"marker\":{\"colorbar\":{\"outlinewidth\":0,\"ticks\":\"\"}}}],\"scattercarpet\":[{\"type\":\"scattercarpet\",\"marker\":{\"colorbar\":{\"outlinewidth\":0,\"ticks\":\"\"}}}],\"carpet\":[{\"aaxis\":{\"endlinecolor\":\"#2a3f5f\",\"gridcolor\":\"white\",\"linecolor\":\"white\",\"minorgridcolor\":\"white\",\"startlinecolor\":\"#2a3f5f\"},\"baxis\":{\"endlinecolor\":\"#2a3f5f\",\"gridcolor\":\"white\",\"linecolor\":\"white\",\"minorgridcolor\":\"white\",\"startlinecolor\":\"#2a3f5f\"},\"type\":\"carpet\"}],\"table\":[{\"cells\":{\"fill\":{\"color\":\"#EBF0F8\"},\"line\":{\"color\":\"white\"}},\"header\":{\"fill\":{\"color\":\"#C8D4E3\"},\"line\":{\"color\":\"white\"}},\"type\":\"table\"}],\"barpolar\":[{\"marker\":{\"line\":{\"color\":\"#E5ECF6\",\"width\":0.5},\"pattern\":{\"fillmode\":\"overlay\",\"size\":10,\"solidity\":0.2}},\"type\":\"barpolar\"}],\"pie\":[{\"automargin\":true,\"type\":\"pie\"}]},\"layout\":{\"autotypenumbers\":\"strict\",\"colorway\":[\"#636efa\",\"#EF553B\",\"#00cc96\",\"#ab63fa\",\"#FFA15A\",\"#19d3f3\",\"#FF6692\",\"#B6E880\",\"#FF97FF\",\"#FECB52\"],\"font\":{\"color\":\"#2a3f5f\"},\"hovermode\":\"closest\",\"hoverlabel\":{\"align\":\"left\"},\"paper_bgcolor\":\"white\",\"plot_bgcolor\":\"#E5ECF6\",\"polar\":{\"bgcolor\":\"#E5ECF6\",\"angularaxis\":{\"gridcolor\":\"white\",\"linecolor\":\"white\",\"ticks\":\"\"},\"radialaxis\":{\"gridcolor\":\"white\",\"linecolor\":\"white\",\"ticks\":\"\"}},\"ternary\":{\"bgcolor\":\"#E5ECF6\",\"aaxis\":{\"gridcolor\":\"white\",\"linecolor\":\"white\",\"ticks\":\"\"},\"baxis\":{\"gridcolor\":\"white\",\"linecolor\":\"white\",\"ticks\":\"\"},\"caxis\":{\"gridcolor\":\"white\",\"linecolor\":\"white\",\"ticks\":\"\"}},\"coloraxis\":{\"colorbar\":{\"outlinewidth\":0,\"ticks\":\"\"}},\"colorscale\":{\"sequential\":[[0.0,\"#0d0887\"],[0.1111111111111111,\"#46039f\"],[0.2222222222222222,\"#7201a8\"],[0.3333333333333333,\"#9c179e\"],[0.4444444444444444,\"#bd3786\"],[0.5555555555555556,\"#d8576b\"],[0.6666666666666666,\"#ed7953\"],[0.7777777777777778,\"#fb9f3a\"],[0.8888888888888888,\"#fdca26\"],[1.0,\"#f0f921\"]],\"sequentialminus\":[[0.0,\"#0d0887\"],[0.1111111111111111,\"#46039f\"],[0.2222222222222222,\"#7201a8\"],[0.3333333333333333,\"#9c179e\"],[0.4444444444444444,\"#bd3786\"],[0.5555555555555556,\"#d8576b\"],[0.6666666666666666,\"#ed7953\"],[0.7777777777777778,\"#fb9f3a\"],[0.8888888888888888,\"#fdca26\"],[1.0,\"#f0f921\"]],\"diverging\":[[0,\"#8e0152\"],[0.1,\"#c51b7d\"],[0.2,\"#de77ae\"],[0.3,\"#f1b6da\"],[0.4,\"#fde0ef\"],[0.5,\"#f7f7f7\"],[0.6,\"#e6f5d0\"],[0.7,\"#b8e186\"],[0.8,\"#7fbc41\"],[0.9,\"#4d9221\"],[1,\"#276419\"]]},\"xaxis\":{\"gridcolor\":\"white\",\"linecolor\":\"white\",\"ticks\":\"\",\"title\":{\"standoff\":15},\"zerolinecolor\":\"white\",\"automargin\":true,\"zerolinewidth\":2},\"yaxis\":{\"gridcolor\":\"white\",\"linecolor\":\"white\",\"ticks\":\"\",\"title\":{\"standoff\":15},\"zerolinecolor\":\"white\",\"automargin\":true,\"zerolinewidth\":2},\"scene\":{\"xaxis\":{\"backgroundcolor\":\"#E5ECF6\",\"gridcolor\":\"white\",\"linecolor\":\"white\",\"showbackground\":true,\"ticks\":\"\",\"zerolinecolor\":\"white\",\"gridwidth\":2},\"yaxis\":{\"backgroundcolor\":\"#E5ECF6\",\"gridcolor\":\"white\",\"linecolor\":\"white\",\"showbackground\":true,\"ticks\":\"\",\"zerolinecolor\":\"white\",\"gridwidth\":2},\"zaxis\":{\"backgroundcolor\":\"#E5ECF6\",\"gridcolor\":\"white\",\"linecolor\":\"white\",\"showbackground\":true,\"ticks\":\"\",\"zerolinecolor\":\"white\",\"gridwidth\":2}},\"shapedefaults\":{\"line\":{\"color\":\"#2a3f5f\"}},\"annotationdefaults\":{\"arrowcolor\":\"#2a3f5f\",\"arrowhead\":0,\"arrowwidth\":1},\"geo\":{\"bgcolor\":\"white\",\"landcolor\":\"#E5ECF6\",\"subunitcolor\":\"white\",\"showland\":true,\"showlakes\":true,\"lakecolor\":\"white\"},\"title\":{\"x\":0.05},\"mapbox\":{\"style\":\"light\"}}},\"xaxis\":{\"anchor\":\"y\",\"domain\":[0.0,1.0]},\"yaxis\":{\"anchor\":\"x\",\"domain\":[0.0,1.0],\"title\":{\"text\":\"HeartDisease\"}},\"legend\":{\"tracegroupgap\":0},\"margin\":{\"t\":60},\"boxmode\":\"group\"},                        {\"responsive\": true}                    ).then(function(){\n",
              "                            \n",
              "var gd = document.getElementById('220ff516-024f-4c63-a79f-0044e3381ca8');\n",
              "var x = new MutationObserver(function (mutations, observer) {{\n",
              "        var display = window.getComputedStyle(gd).display;\n",
              "        if (!display || display === 'none') {{\n",
              "            console.log([gd, 'removed!']);\n",
              "            Plotly.purge(gd);\n",
              "            observer.disconnect();\n",
              "        }}\n",
              "}});\n",
              "\n",
              "// Listen for the removal of the full notebook cells\n",
              "var notebookContainer = gd.closest('#notebook-container');\n",
              "if (notebookContainer) {{\n",
              "    x.observe(notebookContainer, {childList: true});\n",
              "}}\n",
              "\n",
              "// Listen for the clearing of the current output cell\n",
              "var outputEl = gd.closest('.output');\n",
              "if (outputEl) {{\n",
              "    x.observe(outputEl, {childList: true});\n",
              "}}\n",
              "\n",
              "                        })                };                            </script>        </div>\n",
              "</body>\n",
              "</html>"
            ]
          },
          "metadata": {}
        }
      ],
      "source": [
        "for i in df.columns:\n",
        "  if df[i].dtypes == 'int64' or df[i].dtypes == 'float64':\n",
        "    print(f'Tipo da coluna:\\n {df[i].dtypes}')\n",
        "    print(f'Valores unicos:\\n {df[i].unique()}')\n",
        "    print(f'\\nQuantidades de unicos:\\n {df[i].nunique()}')\n",
        "    print(f'\\nQuantidades de valores nulos:\\n {df[i].isnull().sum()}')\n",
        "    print(f'\\nAnalisando a media:\\n {df[i].describe()}')\n",
        "    print(f'\\nQuantidades por opcao:\\n {df[i].value_counts().sort_index()}')\n",
        "    fig = px.box(df,y=df[i])\n",
        "    fig.show()\n",
        "  else:\n",
        "    print(f'Tipo da coluna:\\n {df[i].dtypes}')\n",
        "    print(f'Valores unicos:\\n {df[i].unique()}')\n",
        "    print(f'\\nQuantidades de unicos:\\n {df[i].nunique()}')\n",
        "    print(f'\\nQuantidades de valores nulos:\\n {df[i].isnull().sum()}')\n",
        "    print(f'\\nAnalisando a media:\\n {df[i].describe()}')\n",
        "    print(f'\\nQuantidades por opcao:\\n {df[i].value_counts().sort_index()}')\n",
        "    fig1 = px.bar(df,x=df[i])\n",
        "    fig1.show()"
      ]
    },
    {
      "cell_type": "code",
      "execution_count": 63,
      "metadata": {
        "id": "KgszQCzsXzik",
        "outputId": "279132bc-c050-46d3-a260-90e1799e316e",
        "colab": {
          "base_uri": "https://localhost:8080/",
          "height": 206
        }
      },
      "outputs": [
        {
          "output_type": "execute_result",
          "data": {
            "text/plain": [
              "   Age Sex ChestPainType  RestingBP  Cholesterol  FastingBS RestingECG  MaxHR  \\\n",
              "0   40   M           ATA      140.0        289.0          0     Normal    172   \n",
              "1   49   F           NAP      160.0        180.0          0     Normal    156   \n",
              "2   37   M           ATA      130.0        283.0          0         ST     98   \n",
              "3   48   F           ASY      138.0        214.0          0     Normal    108   \n",
              "4   54   M           NAP      150.0        195.0          0     Normal    122   \n",
              "\n",
              "  ExerciseAngina  Oldpeak ST_Slope  HeartDisease  \n",
              "0              N      0.0       Up             0  \n",
              "1              N      1.0     Flat             1  \n",
              "2              N      0.0       Up             0  \n",
              "3              Y      1.5     Flat             1  \n",
              "4              N      0.0       Up             0  "
            ],
            "text/html": [
              "\n",
              "  <div id=\"df-649ee6a2-0b74-4b83-aa86-012d57b98be5\" class=\"colab-df-container\">\n",
              "    <div>\n",
              "<style scoped>\n",
              "    .dataframe tbody tr th:only-of-type {\n",
              "        vertical-align: middle;\n",
              "    }\n",
              "\n",
              "    .dataframe tbody tr th {\n",
              "        vertical-align: top;\n",
              "    }\n",
              "\n",
              "    .dataframe thead th {\n",
              "        text-align: right;\n",
              "    }\n",
              "</style>\n",
              "<table border=\"1\" class=\"dataframe\">\n",
              "  <thead>\n",
              "    <tr style=\"text-align: right;\">\n",
              "      <th></th>\n",
              "      <th>Age</th>\n",
              "      <th>Sex</th>\n",
              "      <th>ChestPainType</th>\n",
              "      <th>RestingBP</th>\n",
              "      <th>Cholesterol</th>\n",
              "      <th>FastingBS</th>\n",
              "      <th>RestingECG</th>\n",
              "      <th>MaxHR</th>\n",
              "      <th>ExerciseAngina</th>\n",
              "      <th>Oldpeak</th>\n",
              "      <th>ST_Slope</th>\n",
              "      <th>HeartDisease</th>\n",
              "    </tr>\n",
              "  </thead>\n",
              "  <tbody>\n",
              "    <tr>\n",
              "      <th>0</th>\n",
              "      <td>40</td>\n",
              "      <td>M</td>\n",
              "      <td>ATA</td>\n",
              "      <td>140.0</td>\n",
              "      <td>289.0</td>\n",
              "      <td>0</td>\n",
              "      <td>Normal</td>\n",
              "      <td>172</td>\n",
              "      <td>N</td>\n",
              "      <td>0.0</td>\n",
              "      <td>Up</td>\n",
              "      <td>0</td>\n",
              "    </tr>\n",
              "    <tr>\n",
              "      <th>1</th>\n",
              "      <td>49</td>\n",
              "      <td>F</td>\n",
              "      <td>NAP</td>\n",
              "      <td>160.0</td>\n",
              "      <td>180.0</td>\n",
              "      <td>0</td>\n",
              "      <td>Normal</td>\n",
              "      <td>156</td>\n",
              "      <td>N</td>\n",
              "      <td>1.0</td>\n",
              "      <td>Flat</td>\n",
              "      <td>1</td>\n",
              "    </tr>\n",
              "    <tr>\n",
              "      <th>2</th>\n",
              "      <td>37</td>\n",
              "      <td>M</td>\n",
              "      <td>ATA</td>\n",
              "      <td>130.0</td>\n",
              "      <td>283.0</td>\n",
              "      <td>0</td>\n",
              "      <td>ST</td>\n",
              "      <td>98</td>\n",
              "      <td>N</td>\n",
              "      <td>0.0</td>\n",
              "      <td>Up</td>\n",
              "      <td>0</td>\n",
              "    </tr>\n",
              "    <tr>\n",
              "      <th>3</th>\n",
              "      <td>48</td>\n",
              "      <td>F</td>\n",
              "      <td>ASY</td>\n",
              "      <td>138.0</td>\n",
              "      <td>214.0</td>\n",
              "      <td>0</td>\n",
              "      <td>Normal</td>\n",
              "      <td>108</td>\n",
              "      <td>Y</td>\n",
              "      <td>1.5</td>\n",
              "      <td>Flat</td>\n",
              "      <td>1</td>\n",
              "    </tr>\n",
              "    <tr>\n",
              "      <th>4</th>\n",
              "      <td>54</td>\n",
              "      <td>M</td>\n",
              "      <td>NAP</td>\n",
              "      <td>150.0</td>\n",
              "      <td>195.0</td>\n",
              "      <td>0</td>\n",
              "      <td>Normal</td>\n",
              "      <td>122</td>\n",
              "      <td>N</td>\n",
              "      <td>0.0</td>\n",
              "      <td>Up</td>\n",
              "      <td>0</td>\n",
              "    </tr>\n",
              "  </tbody>\n",
              "</table>\n",
              "</div>\n",
              "    <div class=\"colab-df-buttons\">\n",
              "\n",
              "  <div class=\"colab-df-container\">\n",
              "    <button class=\"colab-df-convert\" onclick=\"convertToInteractive('df-649ee6a2-0b74-4b83-aa86-012d57b98be5')\"\n",
              "            title=\"Convert this dataframe to an interactive table.\"\n",
              "            style=\"display:none;\">\n",
              "\n",
              "  <svg xmlns=\"http://www.w3.org/2000/svg\" height=\"24px\" viewBox=\"0 -960 960 960\">\n",
              "    <path d=\"M120-120v-720h720v720H120Zm60-500h600v-160H180v160Zm220 220h160v-160H400v160Zm0 220h160v-160H400v160ZM180-400h160v-160H180v160Zm440 0h160v-160H620v160ZM180-180h160v-160H180v160Zm440 0h160v-160H620v160Z\"/>\n",
              "  </svg>\n",
              "    </button>\n",
              "\n",
              "  <style>\n",
              "    .colab-df-container {\n",
              "      display:flex;\n",
              "      gap: 12px;\n",
              "    }\n",
              "\n",
              "    .colab-df-convert {\n",
              "      background-color: #E8F0FE;\n",
              "      border: none;\n",
              "      border-radius: 50%;\n",
              "      cursor: pointer;\n",
              "      display: none;\n",
              "      fill: #1967D2;\n",
              "      height: 32px;\n",
              "      padding: 0 0 0 0;\n",
              "      width: 32px;\n",
              "    }\n",
              "\n",
              "    .colab-df-convert:hover {\n",
              "      background-color: #E2EBFA;\n",
              "      box-shadow: 0px 1px 2px rgba(60, 64, 67, 0.3), 0px 1px 3px 1px rgba(60, 64, 67, 0.15);\n",
              "      fill: #174EA6;\n",
              "    }\n",
              "\n",
              "    .colab-df-buttons div {\n",
              "      margin-bottom: 4px;\n",
              "    }\n",
              "\n",
              "    [theme=dark] .colab-df-convert {\n",
              "      background-color: #3B4455;\n",
              "      fill: #D2E3FC;\n",
              "    }\n",
              "\n",
              "    [theme=dark] .colab-df-convert:hover {\n",
              "      background-color: #434B5C;\n",
              "      box-shadow: 0px 1px 3px 1px rgba(0, 0, 0, 0.15);\n",
              "      filter: drop-shadow(0px 1px 2px rgba(0, 0, 0, 0.3));\n",
              "      fill: #FFFFFF;\n",
              "    }\n",
              "  </style>\n",
              "\n",
              "    <script>\n",
              "      const buttonEl =\n",
              "        document.querySelector('#df-649ee6a2-0b74-4b83-aa86-012d57b98be5 button.colab-df-convert');\n",
              "      buttonEl.style.display =\n",
              "        google.colab.kernel.accessAllowed ? 'block' : 'none';\n",
              "\n",
              "      async function convertToInteractive(key) {\n",
              "        const element = document.querySelector('#df-649ee6a2-0b74-4b83-aa86-012d57b98be5');\n",
              "        const dataTable =\n",
              "          await google.colab.kernel.invokeFunction('convertToInteractive',\n",
              "                                                    [key], {});\n",
              "        if (!dataTable) return;\n",
              "\n",
              "        const docLinkHtml = 'Like what you see? Visit the ' +\n",
              "          '<a target=\"_blank\" href=https://colab.research.google.com/notebooks/data_table.ipynb>data table notebook</a>'\n",
              "          + ' to learn more about interactive tables.';\n",
              "        element.innerHTML = '';\n",
              "        dataTable['output_type'] = 'display_data';\n",
              "        await google.colab.output.renderOutput(dataTable, element);\n",
              "        const docLink = document.createElement('div');\n",
              "        docLink.innerHTML = docLinkHtml;\n",
              "        element.appendChild(docLink);\n",
              "      }\n",
              "    </script>\n",
              "  </div>\n",
              "\n",
              "\n",
              "<div id=\"df-f66a4ef1-ce32-40db-9953-3a27478b97f0\">\n",
              "  <button class=\"colab-df-quickchart\" onclick=\"quickchart('df-f66a4ef1-ce32-40db-9953-3a27478b97f0')\"\n",
              "            title=\"Suggest charts\"\n",
              "            style=\"display:none;\">\n",
              "\n",
              "<svg xmlns=\"http://www.w3.org/2000/svg\" height=\"24px\"viewBox=\"0 0 24 24\"\n",
              "     width=\"24px\">\n",
              "    <g>\n",
              "        <path d=\"M19 3H5c-1.1 0-2 .9-2 2v14c0 1.1.9 2 2 2h14c1.1 0 2-.9 2-2V5c0-1.1-.9-2-2-2zM9 17H7v-7h2v7zm4 0h-2V7h2v10zm4 0h-2v-4h2v4z\"/>\n",
              "    </g>\n",
              "</svg>\n",
              "  </button>\n",
              "\n",
              "<style>\n",
              "  .colab-df-quickchart {\n",
              "      --bg-color: #E8F0FE;\n",
              "      --fill-color: #1967D2;\n",
              "      --hover-bg-color: #E2EBFA;\n",
              "      --hover-fill-color: #174EA6;\n",
              "      --disabled-fill-color: #AAA;\n",
              "      --disabled-bg-color: #DDD;\n",
              "  }\n",
              "\n",
              "  [theme=dark] .colab-df-quickchart {\n",
              "      --bg-color: #3B4455;\n",
              "      --fill-color: #D2E3FC;\n",
              "      --hover-bg-color: #434B5C;\n",
              "      --hover-fill-color: #FFFFFF;\n",
              "      --disabled-bg-color: #3B4455;\n",
              "      --disabled-fill-color: #666;\n",
              "  }\n",
              "\n",
              "  .colab-df-quickchart {\n",
              "    background-color: var(--bg-color);\n",
              "    border: none;\n",
              "    border-radius: 50%;\n",
              "    cursor: pointer;\n",
              "    display: none;\n",
              "    fill: var(--fill-color);\n",
              "    height: 32px;\n",
              "    padding: 0;\n",
              "    width: 32px;\n",
              "  }\n",
              "\n",
              "  .colab-df-quickchart:hover {\n",
              "    background-color: var(--hover-bg-color);\n",
              "    box-shadow: 0 1px 2px rgba(60, 64, 67, 0.3), 0 1px 3px 1px rgba(60, 64, 67, 0.15);\n",
              "    fill: var(--button-hover-fill-color);\n",
              "  }\n",
              "\n",
              "  .colab-df-quickchart-complete:disabled,\n",
              "  .colab-df-quickchart-complete:disabled:hover {\n",
              "    background-color: var(--disabled-bg-color);\n",
              "    fill: var(--disabled-fill-color);\n",
              "    box-shadow: none;\n",
              "  }\n",
              "\n",
              "  .colab-df-spinner {\n",
              "    border: 2px solid var(--fill-color);\n",
              "    border-color: transparent;\n",
              "    border-bottom-color: var(--fill-color);\n",
              "    animation:\n",
              "      spin 1s steps(1) infinite;\n",
              "  }\n",
              "\n",
              "  @keyframes spin {\n",
              "    0% {\n",
              "      border-color: transparent;\n",
              "      border-bottom-color: var(--fill-color);\n",
              "      border-left-color: var(--fill-color);\n",
              "    }\n",
              "    20% {\n",
              "      border-color: transparent;\n",
              "      border-left-color: var(--fill-color);\n",
              "      border-top-color: var(--fill-color);\n",
              "    }\n",
              "    30% {\n",
              "      border-color: transparent;\n",
              "      border-left-color: var(--fill-color);\n",
              "      border-top-color: var(--fill-color);\n",
              "      border-right-color: var(--fill-color);\n",
              "    }\n",
              "    40% {\n",
              "      border-color: transparent;\n",
              "      border-right-color: var(--fill-color);\n",
              "      border-top-color: var(--fill-color);\n",
              "    }\n",
              "    60% {\n",
              "      border-color: transparent;\n",
              "      border-right-color: var(--fill-color);\n",
              "    }\n",
              "    80% {\n",
              "      border-color: transparent;\n",
              "      border-right-color: var(--fill-color);\n",
              "      border-bottom-color: var(--fill-color);\n",
              "    }\n",
              "    90% {\n",
              "      border-color: transparent;\n",
              "      border-bottom-color: var(--fill-color);\n",
              "    }\n",
              "  }\n",
              "</style>\n",
              "\n",
              "  <script>\n",
              "    async function quickchart(key) {\n",
              "      const quickchartButtonEl =\n",
              "        document.querySelector('#' + key + ' button');\n",
              "      quickchartButtonEl.disabled = true;  // To prevent multiple clicks.\n",
              "      quickchartButtonEl.classList.add('colab-df-spinner');\n",
              "      try {\n",
              "        const charts = await google.colab.kernel.invokeFunction(\n",
              "            'suggestCharts', [key], {});\n",
              "      } catch (error) {\n",
              "        console.error('Error during call to suggestCharts:', error);\n",
              "      }\n",
              "      quickchartButtonEl.classList.remove('colab-df-spinner');\n",
              "      quickchartButtonEl.classList.add('colab-df-quickchart-complete');\n",
              "    }\n",
              "    (() => {\n",
              "      let quickchartButtonEl =\n",
              "        document.querySelector('#df-f66a4ef1-ce32-40db-9953-3a27478b97f0 button');\n",
              "      quickchartButtonEl.style.display =\n",
              "        google.colab.kernel.accessAllowed ? 'block' : 'none';\n",
              "    })();\n",
              "  </script>\n",
              "</div>\n",
              "\n",
              "    </div>\n",
              "  </div>\n"
            ],
            "application/vnd.google.colaboratory.intrinsic+json": {
              "type": "dataframe",
              "variable_name": "df",
              "summary": "{\n  \"name\": \"df\",\n  \"rows\": 918,\n  \"fields\": [\n    {\n      \"column\": \"Age\",\n      \"properties\": {\n        \"dtype\": \"number\",\n        \"std\": 9,\n        \"min\": 28,\n        \"max\": 77,\n        \"num_unique_values\": 50,\n        \"samples\": [\n          44,\n          68,\n          66\n        ],\n        \"semantic_type\": \"\",\n        \"description\": \"\"\n      }\n    },\n    {\n      \"column\": \"Sex\",\n      \"properties\": {\n        \"dtype\": \"category\",\n        \"num_unique_values\": 2,\n        \"samples\": [\n          \"F\",\n          \"M\"\n        ],\n        \"semantic_type\": \"\",\n        \"description\": \"\"\n      }\n    },\n    {\n      \"column\": \"ChestPainType\",\n      \"properties\": {\n        \"dtype\": \"category\",\n        \"num_unique_values\": 4,\n        \"samples\": [\n          \"NAP\",\n          \"TA\"\n        ],\n        \"semantic_type\": \"\",\n        \"description\": \"\"\n      }\n    },\n    {\n      \"column\": \"RestingBP\",\n      \"properties\": {\n        \"dtype\": \"number\",\n        \"std\": 17.989931696967748,\n        \"min\": 80.0,\n        \"max\": 200.0,\n        \"num_unique_values\": 67,\n        \"samples\": [\n          165.0,\n          118.0\n        ],\n        \"semantic_type\": \"\",\n        \"description\": \"\"\n      }\n    },\n    {\n      \"column\": \"Cholesterol\",\n      \"properties\": {\n        \"dtype\": \"number\",\n        \"std\": 53.318031027957794,\n        \"min\": 85.0,\n        \"max\": 603.0,\n        \"num_unique_values\": 222,\n        \"samples\": [\n          305.0,\n          321.0\n        ],\n        \"semantic_type\": \"\",\n        \"description\": \"\"\n      }\n    },\n    {\n      \"column\": \"FastingBS\",\n      \"properties\": {\n        \"dtype\": \"number\",\n        \"std\": 0,\n        \"min\": 0,\n        \"max\": 1,\n        \"num_unique_values\": 2,\n        \"samples\": [\n          1,\n          0\n        ],\n        \"semantic_type\": \"\",\n        \"description\": \"\"\n      }\n    },\n    {\n      \"column\": \"RestingECG\",\n      \"properties\": {\n        \"dtype\": \"category\",\n        \"num_unique_values\": 3,\n        \"samples\": [\n          \"Normal\",\n          \"ST\"\n        ],\n        \"semantic_type\": \"\",\n        \"description\": \"\"\n      }\n    },\n    {\n      \"column\": \"MaxHR\",\n      \"properties\": {\n        \"dtype\": \"number\",\n        \"std\": 25,\n        \"min\": 60,\n        \"max\": 202,\n        \"num_unique_values\": 119,\n        \"samples\": [\n          132,\n          157\n        ],\n        \"semantic_type\": \"\",\n        \"description\": \"\"\n      }\n    },\n    {\n      \"column\": \"ExerciseAngina\",\n      \"properties\": {\n        \"dtype\": \"category\",\n        \"num_unique_values\": 2,\n        \"samples\": [\n          \"Y\",\n          \"N\"\n        ],\n        \"semantic_type\": \"\",\n        \"description\": \"\"\n      }\n    },\n    {\n      \"column\": \"Oldpeak\",\n      \"properties\": {\n        \"dtype\": \"number\",\n        \"std\": 1.0665701510493257,\n        \"min\": -2.6,\n        \"max\": 6.2,\n        \"num_unique_values\": 53,\n        \"samples\": [\n          1.3,\n          0.6\n        ],\n        \"semantic_type\": \"\",\n        \"description\": \"\"\n      }\n    },\n    {\n      \"column\": \"ST_Slope\",\n      \"properties\": {\n        \"dtype\": \"category\",\n        \"num_unique_values\": 3,\n        \"samples\": [\n          \"Up\",\n          \"Flat\"\n        ],\n        \"semantic_type\": \"\",\n        \"description\": \"\"\n      }\n    },\n    {\n      \"column\": \"HeartDisease\",\n      \"properties\": {\n        \"dtype\": \"number\",\n        \"std\": 0,\n        \"min\": 0,\n        \"max\": 1,\n        \"num_unique_values\": 2,\n        \"samples\": [\n          1,\n          0\n        ],\n        \"semantic_type\": \"\",\n        \"description\": \"\"\n      }\n    }\n  ]\n}"
            }
          },
          "metadata": {},
          "execution_count": 63
        }
      ],
      "source": [
        "df.head()"
      ]
    },
    {
      "cell_type": "code",
      "execution_count": 64,
      "metadata": {
        "id": "dTMH4mJEXzik",
        "outputId": "9e97a189-dde7-4382-bd36-7d0cf656a82e",
        "colab": {
          "base_uri": "https://localhost:8080/"
        }
      },
      "outputs": [
        {
          "output_type": "execute_result",
          "data": {
            "text/plain": [
              "array([[40, 'M', 'ATA', ..., 'N', 0.0, 'Up'],\n",
              "       [49, 'F', 'NAP', ..., 'N', 1.0, 'Flat'],\n",
              "       [37, 'M', 'ATA', ..., 'N', 0.0, 'Up'],\n",
              "       ...,\n",
              "       [57, 'M', 'ASY', ..., 'Y', 1.2, 'Flat'],\n",
              "       [57, 'F', 'ATA', ..., 'N', 0.0, 'Flat'],\n",
              "       [38, 'M', 'NAP', ..., 'N', 0.0, 'Up']], dtype=object)"
            ]
          },
          "metadata": {},
          "execution_count": 64
        }
      ],
      "source": [
        "previsores = df.iloc[:,0:11].values\n",
        "previsores"
      ]
    },
    {
      "cell_type": "code",
      "execution_count": 65,
      "metadata": {
        "id": "maiu_pXzXzik",
        "outputId": "3d10924a-f8a6-44a0-f7f4-52425de6e560",
        "colab": {
          "base_uri": "https://localhost:8080/"
        }
      },
      "outputs": [
        {
          "output_type": "execute_result",
          "data": {
            "text/plain": [
              "array([[40, 1, 1, ..., 0, 0.0, 2],\n",
              "       [49, 0, 2, ..., 0, 1.0, 1],\n",
              "       [37, 1, 1, ..., 0, 0.0, 2],\n",
              "       ...,\n",
              "       [57, 1, 0, ..., 1, 1.2, 1],\n",
              "       [57, 0, 1, ..., 0, 0.0, 1],\n",
              "       [38, 1, 2, ..., 0, 0.0, 2]], dtype=object)"
            ]
          },
          "metadata": {},
          "execution_count": 65
        }
      ],
      "source": [
        "previsores[:,1] = LabelEncoder().fit_transform(previsores[:,1])\n",
        "previsores[:,2] = LabelEncoder().fit_transform(previsores[:,2])\n",
        "previsores[:,6] = LabelEncoder().fit_transform(previsores[:,6])\n",
        "previsores[:,8] = LabelEncoder().fit_transform(previsores[:,8])\n",
        "previsores[:,10] = LabelEncoder().fit_transform(previsores[:,10])\n",
        "previsores"
      ]
    },
    {
      "cell_type": "code",
      "execution_count": 66,
      "metadata": {
        "id": "zt-xWodWXzik",
        "outputId": "a15550c0-64e8-47bb-c33d-b0b9c344151b",
        "colab": {
          "base_uri": "https://localhost:8080/"
        }
      },
      "outputs": [
        {
          "output_type": "execute_result",
          "data": {
            "text/plain": [
              "(918, 20)"
            ]
          },
          "metadata": {},
          "execution_count": 66
        }
      ],
      "source": [
        "previsores1 = ColumnTransformer(transformers=[('OneHot', OneHotEncoder(),[1,2,6,8,10])],remainder='passthrough').fit_transform(previsores)\n",
        "previsores1.shape"
      ]
    },
    {
      "cell_type": "code",
      "execution_count": 67,
      "metadata": {
        "id": "wviseOj3Xzil",
        "outputId": "dec4a85a-a107-46a1-fa46-9d273aee2129",
        "colab": {
          "base_uri": "https://localhost:8080/",
          "height": 226
        }
      },
      "outputs": [
        {
          "output_type": "execute_result",
          "data": {
            "text/plain": [
              "         0         1         2         3         4         5         6   \\\n",
              "0 -0.515952  0.515952 -1.084138  2.075177 -0.532838 -0.229679 -0.507478   \n",
              "1  1.938163 -1.938163 -1.084138 -0.481887  1.876744 -0.229679 -0.507478   \n",
              "2 -0.515952  0.515952 -1.084138  2.075177 -0.532838 -0.229679 -0.507478   \n",
              "3  1.938163 -1.938163  0.922392 -0.481887 -0.532838 -0.229679 -0.507478   \n",
              "4 -0.515952  0.515952 -1.084138 -0.481887  1.876744 -0.229679 -0.507478   \n",
              "\n",
              "         7         8         9         10        11        12        13  \\\n",
              "0  0.814275 -0.490449  0.823556 -0.823556 -0.271448 -1.002181  1.150674   \n",
              "1  0.814275 -0.490449  0.823556 -0.823556 -0.271448  0.997824 -0.869056   \n",
              "2 -1.228087  2.038947  0.823556 -0.823556 -0.271448 -1.002181  1.150674   \n",
              "3  0.814275 -0.490449 -1.214246  1.214246 -0.271448  0.997824 -0.869056   \n",
              "4  0.814275 -0.490449  0.823556 -0.823556 -0.271448 -1.002181  1.150674   \n",
              "\n",
              "         14        15        16        17        18        19  \n",
              "0 -1.433140  0.414855  0.832653 -0.551341  1.382928 -0.832432  \n",
              "1 -0.478484  1.527194 -1.212798 -0.551341  0.754157  0.105664  \n",
              "2 -1.751359 -0.141314  0.720060 -0.551341 -1.525138 -0.832432  \n",
              "3 -0.584556  0.303621 -0.574767 -0.551341 -1.132156  0.574711  \n",
              "4  0.051881  0.971025 -0.931314 -0.551341 -0.581981 -0.832432  "
            ],
            "text/html": [
              "\n",
              "  <div id=\"df-7f28868e-2e50-4ec2-b7a0-6eefaa2f9f6e\" class=\"colab-df-container\">\n",
              "    <div>\n",
              "<style scoped>\n",
              "    .dataframe tbody tr th:only-of-type {\n",
              "        vertical-align: middle;\n",
              "    }\n",
              "\n",
              "    .dataframe tbody tr th {\n",
              "        vertical-align: top;\n",
              "    }\n",
              "\n",
              "    .dataframe thead th {\n",
              "        text-align: right;\n",
              "    }\n",
              "</style>\n",
              "<table border=\"1\" class=\"dataframe\">\n",
              "  <thead>\n",
              "    <tr style=\"text-align: right;\">\n",
              "      <th></th>\n",
              "      <th>0</th>\n",
              "      <th>1</th>\n",
              "      <th>2</th>\n",
              "      <th>3</th>\n",
              "      <th>4</th>\n",
              "      <th>5</th>\n",
              "      <th>6</th>\n",
              "      <th>7</th>\n",
              "      <th>8</th>\n",
              "      <th>9</th>\n",
              "      <th>10</th>\n",
              "      <th>11</th>\n",
              "      <th>12</th>\n",
              "      <th>13</th>\n",
              "      <th>14</th>\n",
              "      <th>15</th>\n",
              "      <th>16</th>\n",
              "      <th>17</th>\n",
              "      <th>18</th>\n",
              "      <th>19</th>\n",
              "    </tr>\n",
              "  </thead>\n",
              "  <tbody>\n",
              "    <tr>\n",
              "      <th>0</th>\n",
              "      <td>-0.515952</td>\n",
              "      <td>0.515952</td>\n",
              "      <td>-1.084138</td>\n",
              "      <td>2.075177</td>\n",
              "      <td>-0.532838</td>\n",
              "      <td>-0.229679</td>\n",
              "      <td>-0.507478</td>\n",
              "      <td>0.814275</td>\n",
              "      <td>-0.490449</td>\n",
              "      <td>0.823556</td>\n",
              "      <td>-0.823556</td>\n",
              "      <td>-0.271448</td>\n",
              "      <td>-1.002181</td>\n",
              "      <td>1.150674</td>\n",
              "      <td>-1.433140</td>\n",
              "      <td>0.414855</td>\n",
              "      <td>0.832653</td>\n",
              "      <td>-0.551341</td>\n",
              "      <td>1.382928</td>\n",
              "      <td>-0.832432</td>\n",
              "    </tr>\n",
              "    <tr>\n",
              "      <th>1</th>\n",
              "      <td>1.938163</td>\n",
              "      <td>-1.938163</td>\n",
              "      <td>-1.084138</td>\n",
              "      <td>-0.481887</td>\n",
              "      <td>1.876744</td>\n",
              "      <td>-0.229679</td>\n",
              "      <td>-0.507478</td>\n",
              "      <td>0.814275</td>\n",
              "      <td>-0.490449</td>\n",
              "      <td>0.823556</td>\n",
              "      <td>-0.823556</td>\n",
              "      <td>-0.271448</td>\n",
              "      <td>0.997824</td>\n",
              "      <td>-0.869056</td>\n",
              "      <td>-0.478484</td>\n",
              "      <td>1.527194</td>\n",
              "      <td>-1.212798</td>\n",
              "      <td>-0.551341</td>\n",
              "      <td>0.754157</td>\n",
              "      <td>0.105664</td>\n",
              "    </tr>\n",
              "    <tr>\n",
              "      <th>2</th>\n",
              "      <td>-0.515952</td>\n",
              "      <td>0.515952</td>\n",
              "      <td>-1.084138</td>\n",
              "      <td>2.075177</td>\n",
              "      <td>-0.532838</td>\n",
              "      <td>-0.229679</td>\n",
              "      <td>-0.507478</td>\n",
              "      <td>-1.228087</td>\n",
              "      <td>2.038947</td>\n",
              "      <td>0.823556</td>\n",
              "      <td>-0.823556</td>\n",
              "      <td>-0.271448</td>\n",
              "      <td>-1.002181</td>\n",
              "      <td>1.150674</td>\n",
              "      <td>-1.751359</td>\n",
              "      <td>-0.141314</td>\n",
              "      <td>0.720060</td>\n",
              "      <td>-0.551341</td>\n",
              "      <td>-1.525138</td>\n",
              "      <td>-0.832432</td>\n",
              "    </tr>\n",
              "    <tr>\n",
              "      <th>3</th>\n",
              "      <td>1.938163</td>\n",
              "      <td>-1.938163</td>\n",
              "      <td>0.922392</td>\n",
              "      <td>-0.481887</td>\n",
              "      <td>-0.532838</td>\n",
              "      <td>-0.229679</td>\n",
              "      <td>-0.507478</td>\n",
              "      <td>0.814275</td>\n",
              "      <td>-0.490449</td>\n",
              "      <td>-1.214246</td>\n",
              "      <td>1.214246</td>\n",
              "      <td>-0.271448</td>\n",
              "      <td>0.997824</td>\n",
              "      <td>-0.869056</td>\n",
              "      <td>-0.584556</td>\n",
              "      <td>0.303621</td>\n",
              "      <td>-0.574767</td>\n",
              "      <td>-0.551341</td>\n",
              "      <td>-1.132156</td>\n",
              "      <td>0.574711</td>\n",
              "    </tr>\n",
              "    <tr>\n",
              "      <th>4</th>\n",
              "      <td>-0.515952</td>\n",
              "      <td>0.515952</td>\n",
              "      <td>-1.084138</td>\n",
              "      <td>-0.481887</td>\n",
              "      <td>1.876744</td>\n",
              "      <td>-0.229679</td>\n",
              "      <td>-0.507478</td>\n",
              "      <td>0.814275</td>\n",
              "      <td>-0.490449</td>\n",
              "      <td>0.823556</td>\n",
              "      <td>-0.823556</td>\n",
              "      <td>-0.271448</td>\n",
              "      <td>-1.002181</td>\n",
              "      <td>1.150674</td>\n",
              "      <td>0.051881</td>\n",
              "      <td>0.971025</td>\n",
              "      <td>-0.931314</td>\n",
              "      <td>-0.551341</td>\n",
              "      <td>-0.581981</td>\n",
              "      <td>-0.832432</td>\n",
              "    </tr>\n",
              "  </tbody>\n",
              "</table>\n",
              "</div>\n",
              "    <div class=\"colab-df-buttons\">\n",
              "\n",
              "  <div class=\"colab-df-container\">\n",
              "    <button class=\"colab-df-convert\" onclick=\"convertToInteractive('df-7f28868e-2e50-4ec2-b7a0-6eefaa2f9f6e')\"\n",
              "            title=\"Convert this dataframe to an interactive table.\"\n",
              "            style=\"display:none;\">\n",
              "\n",
              "  <svg xmlns=\"http://www.w3.org/2000/svg\" height=\"24px\" viewBox=\"0 -960 960 960\">\n",
              "    <path d=\"M120-120v-720h720v720H120Zm60-500h600v-160H180v160Zm220 220h160v-160H400v160Zm0 220h160v-160H400v160ZM180-400h160v-160H180v160Zm440 0h160v-160H620v160ZM180-180h160v-160H180v160Zm440 0h160v-160H620v160Z\"/>\n",
              "  </svg>\n",
              "    </button>\n",
              "\n",
              "  <style>\n",
              "    .colab-df-container {\n",
              "      display:flex;\n",
              "      gap: 12px;\n",
              "    }\n",
              "\n",
              "    .colab-df-convert {\n",
              "      background-color: #E8F0FE;\n",
              "      border: none;\n",
              "      border-radius: 50%;\n",
              "      cursor: pointer;\n",
              "      display: none;\n",
              "      fill: #1967D2;\n",
              "      height: 32px;\n",
              "      padding: 0 0 0 0;\n",
              "      width: 32px;\n",
              "    }\n",
              "\n",
              "    .colab-df-convert:hover {\n",
              "      background-color: #E2EBFA;\n",
              "      box-shadow: 0px 1px 2px rgba(60, 64, 67, 0.3), 0px 1px 3px 1px rgba(60, 64, 67, 0.15);\n",
              "      fill: #174EA6;\n",
              "    }\n",
              "\n",
              "    .colab-df-buttons div {\n",
              "      margin-bottom: 4px;\n",
              "    }\n",
              "\n",
              "    [theme=dark] .colab-df-convert {\n",
              "      background-color: #3B4455;\n",
              "      fill: #D2E3FC;\n",
              "    }\n",
              "\n",
              "    [theme=dark] .colab-df-convert:hover {\n",
              "      background-color: #434B5C;\n",
              "      box-shadow: 0px 1px 3px 1px rgba(0, 0, 0, 0.15);\n",
              "      filter: drop-shadow(0px 1px 2px rgba(0, 0, 0, 0.3));\n",
              "      fill: #FFFFFF;\n",
              "    }\n",
              "  </style>\n",
              "\n",
              "    <script>\n",
              "      const buttonEl =\n",
              "        document.querySelector('#df-7f28868e-2e50-4ec2-b7a0-6eefaa2f9f6e button.colab-df-convert');\n",
              "      buttonEl.style.display =\n",
              "        google.colab.kernel.accessAllowed ? 'block' : 'none';\n",
              "\n",
              "      async function convertToInteractive(key) {\n",
              "        const element = document.querySelector('#df-7f28868e-2e50-4ec2-b7a0-6eefaa2f9f6e');\n",
              "        const dataTable =\n",
              "          await google.colab.kernel.invokeFunction('convertToInteractive',\n",
              "                                                    [key], {});\n",
              "        if (!dataTable) return;\n",
              "\n",
              "        const docLinkHtml = 'Like what you see? Visit the ' +\n",
              "          '<a target=\"_blank\" href=https://colab.research.google.com/notebooks/data_table.ipynb>data table notebook</a>'\n",
              "          + ' to learn more about interactive tables.';\n",
              "        element.innerHTML = '';\n",
              "        dataTable['output_type'] = 'display_data';\n",
              "        await google.colab.output.renderOutput(dataTable, element);\n",
              "        const docLink = document.createElement('div');\n",
              "        docLink.innerHTML = docLinkHtml;\n",
              "        element.appendChild(docLink);\n",
              "      }\n",
              "    </script>\n",
              "  </div>\n",
              "\n",
              "\n",
              "<div id=\"df-a235158b-7a32-48ee-89ee-dc24a169169e\">\n",
              "  <button class=\"colab-df-quickchart\" onclick=\"quickchart('df-a235158b-7a32-48ee-89ee-dc24a169169e')\"\n",
              "            title=\"Suggest charts\"\n",
              "            style=\"display:none;\">\n",
              "\n",
              "<svg xmlns=\"http://www.w3.org/2000/svg\" height=\"24px\"viewBox=\"0 0 24 24\"\n",
              "     width=\"24px\">\n",
              "    <g>\n",
              "        <path d=\"M19 3H5c-1.1 0-2 .9-2 2v14c0 1.1.9 2 2 2h14c1.1 0 2-.9 2-2V5c0-1.1-.9-2-2-2zM9 17H7v-7h2v7zm4 0h-2V7h2v10zm4 0h-2v-4h2v4z\"/>\n",
              "    </g>\n",
              "</svg>\n",
              "  </button>\n",
              "\n",
              "<style>\n",
              "  .colab-df-quickchart {\n",
              "      --bg-color: #E8F0FE;\n",
              "      --fill-color: #1967D2;\n",
              "      --hover-bg-color: #E2EBFA;\n",
              "      --hover-fill-color: #174EA6;\n",
              "      --disabled-fill-color: #AAA;\n",
              "      --disabled-bg-color: #DDD;\n",
              "  }\n",
              "\n",
              "  [theme=dark] .colab-df-quickchart {\n",
              "      --bg-color: #3B4455;\n",
              "      --fill-color: #D2E3FC;\n",
              "      --hover-bg-color: #434B5C;\n",
              "      --hover-fill-color: #FFFFFF;\n",
              "      --disabled-bg-color: #3B4455;\n",
              "      --disabled-fill-color: #666;\n",
              "  }\n",
              "\n",
              "  .colab-df-quickchart {\n",
              "    background-color: var(--bg-color);\n",
              "    border: none;\n",
              "    border-radius: 50%;\n",
              "    cursor: pointer;\n",
              "    display: none;\n",
              "    fill: var(--fill-color);\n",
              "    height: 32px;\n",
              "    padding: 0;\n",
              "    width: 32px;\n",
              "  }\n",
              "\n",
              "  .colab-df-quickchart:hover {\n",
              "    background-color: var(--hover-bg-color);\n",
              "    box-shadow: 0 1px 2px rgba(60, 64, 67, 0.3), 0 1px 3px 1px rgba(60, 64, 67, 0.15);\n",
              "    fill: var(--button-hover-fill-color);\n",
              "  }\n",
              "\n",
              "  .colab-df-quickchart-complete:disabled,\n",
              "  .colab-df-quickchart-complete:disabled:hover {\n",
              "    background-color: var(--disabled-bg-color);\n",
              "    fill: var(--disabled-fill-color);\n",
              "    box-shadow: none;\n",
              "  }\n",
              "\n",
              "  .colab-df-spinner {\n",
              "    border: 2px solid var(--fill-color);\n",
              "    border-color: transparent;\n",
              "    border-bottom-color: var(--fill-color);\n",
              "    animation:\n",
              "      spin 1s steps(1) infinite;\n",
              "  }\n",
              "\n",
              "  @keyframes spin {\n",
              "    0% {\n",
              "      border-color: transparent;\n",
              "      border-bottom-color: var(--fill-color);\n",
              "      border-left-color: var(--fill-color);\n",
              "    }\n",
              "    20% {\n",
              "      border-color: transparent;\n",
              "      border-left-color: var(--fill-color);\n",
              "      border-top-color: var(--fill-color);\n",
              "    }\n",
              "    30% {\n",
              "      border-color: transparent;\n",
              "      border-left-color: var(--fill-color);\n",
              "      border-top-color: var(--fill-color);\n",
              "      border-right-color: var(--fill-color);\n",
              "    }\n",
              "    40% {\n",
              "      border-color: transparent;\n",
              "      border-right-color: var(--fill-color);\n",
              "      border-top-color: var(--fill-color);\n",
              "    }\n",
              "    60% {\n",
              "      border-color: transparent;\n",
              "      border-right-color: var(--fill-color);\n",
              "    }\n",
              "    80% {\n",
              "      border-color: transparent;\n",
              "      border-right-color: var(--fill-color);\n",
              "      border-bottom-color: var(--fill-color);\n",
              "    }\n",
              "    90% {\n",
              "      border-color: transparent;\n",
              "      border-bottom-color: var(--fill-color);\n",
              "    }\n",
              "  }\n",
              "</style>\n",
              "\n",
              "  <script>\n",
              "    async function quickchart(key) {\n",
              "      const quickchartButtonEl =\n",
              "        document.querySelector('#' + key + ' button');\n",
              "      quickchartButtonEl.disabled = true;  // To prevent multiple clicks.\n",
              "      quickchartButtonEl.classList.add('colab-df-spinner');\n",
              "      try {\n",
              "        const charts = await google.colab.kernel.invokeFunction(\n",
              "            'suggestCharts', [key], {});\n",
              "      } catch (error) {\n",
              "        console.error('Error during call to suggestCharts:', error);\n",
              "      }\n",
              "      quickchartButtonEl.classList.remove('colab-df-spinner');\n",
              "      quickchartButtonEl.classList.add('colab-df-quickchart-complete');\n",
              "    }\n",
              "    (() => {\n",
              "      let quickchartButtonEl =\n",
              "        document.querySelector('#df-a235158b-7a32-48ee-89ee-dc24a169169e button');\n",
              "      quickchartButtonEl.style.display =\n",
              "        google.colab.kernel.accessAllowed ? 'block' : 'none';\n",
              "    })();\n",
              "  </script>\n",
              "</div>\n",
              "\n",
              "    </div>\n",
              "  </div>\n"
            ],
            "application/vnd.google.colaboratory.intrinsic+json": {
              "type": "dataframe",
              "variable_name": "previsores1_escdf",
              "summary": "{\n  \"name\": \"previsores1_escdf\",\n  \"rows\": 918,\n  \"fields\": [\n    {\n      \"column\": 0,\n      \"properties\": {\n        \"dtype\": \"number\",\n        \"std\": 1.0005451076992486,\n        \"min\": -0.5159524169453283,\n        \"max\": 1.9381632242764926,\n        \"num_unique_values\": 2,\n        \"samples\": [\n          1.9381632242764926,\n          -0.5159524169453283\n        ],\n        \"semantic_type\": \"\",\n        \"description\": \"\"\n      }\n    },\n    {\n      \"column\": 1,\n      \"properties\": {\n        \"dtype\": \"number\",\n        \"std\": 1.0005451076992486,\n        \"min\": -1.9381632242764926,\n        \"max\": 0.5159524169453283,\n        \"num_unique_values\": 2,\n        \"samples\": [\n          -1.9381632242764926,\n          0.5159524169453283\n        ],\n        \"semantic_type\": \"\",\n        \"description\": \"\"\n      }\n    },\n    {\n      \"column\": 2,\n      \"properties\": {\n        \"dtype\": \"number\",\n        \"std\": 1.000545107699253,\n        \"min\": -1.0841381140043855,\n        \"max\": 0.9223917018343761,\n        \"num_unique_values\": 2,\n        \"samples\": [\n          0.9223917018343761,\n          -1.0841381140043855\n        ],\n        \"semantic_type\": \"\",\n        \"description\": \"\"\n      }\n    },\n    {\n      \"column\": 3,\n      \"properties\": {\n        \"dtype\": \"number\",\n        \"std\": 1.0005451076992413,\n        \"min\": -0.4818866724663272,\n        \"max\": 2.075176710909906,\n        \"num_unique_values\": 2,\n        \"samples\": [\n          -0.4818866724663272,\n          2.075176710909906\n        ],\n        \"semantic_type\": \"\",\n        \"description\": \"\"\n      }\n    },\n    {\n      \"column\": 4,\n      \"properties\": {\n        \"dtype\": \"number\",\n        \"std\": 1.0005451076992444,\n        \"min\": -0.5328377650993625,\n        \"max\": 1.8767438524435676,\n        \"num_unique_values\": 2,\n        \"samples\": [\n          1.8767438524435676,\n          -0.5328377650993625\n        ],\n        \"semantic_type\": \"\",\n        \"description\": \"\"\n      }\n    },\n    {\n      \"column\": 5,\n      \"properties\": {\n        \"dtype\": \"number\",\n        \"std\": 1.0005451076992444,\n        \"min\": -0.2296786746260557,\n        \"max\": 4.353908788563491,\n        \"num_unique_values\": 2,\n        \"samples\": [\n          4.353908788563491,\n          -0.2296786746260557\n        ],\n        \"semantic_type\": \"\",\n        \"description\": \"\"\n      }\n    },\n    {\n      \"column\": 6,\n      \"properties\": {\n        \"dtype\": \"number\",\n        \"std\": 1.000545107699246,\n        \"min\": -0.5074783212860849,\n        \"max\": 1.9705275241427767,\n        \"num_unique_values\": 2,\n        \"samples\": [\n          1.9705275241427767,\n          -0.5074783212860849\n        ],\n        \"semantic_type\": \"\",\n        \"description\": \"\"\n      }\n    },\n    {\n      \"column\": 7,\n      \"properties\": {\n        \"dtype\": \"number\",\n        \"std\": 1.000545107699241,\n        \"min\": -1.2280866098575713,\n        \"max\": 0.8142748174055637,\n        \"num_unique_values\": 2,\n        \"samples\": [\n          -1.2280866098575713,\n          0.8142748174055637\n        ],\n        \"semantic_type\": \"\",\n        \"description\": \"\"\n      }\n    },\n    {\n      \"column\": 8,\n      \"properties\": {\n        \"dtype\": \"number\",\n        \"std\": 1.0005451076992353,\n        \"min\": -0.490449325150454,\n        \"max\": 2.0389466326479546,\n        \"num_unique_values\": 2,\n        \"samples\": [\n          2.0389466326479546,\n          -0.490449325150454\n        ],\n        \"semantic_type\": \"\",\n        \"description\": \"\"\n      }\n    },\n    {\n      \"column\": 9,\n      \"properties\": {\n        \"dtype\": \"number\",\n        \"std\": 1.000545107699243,\n        \"min\": -1.2142460751418134,\n        \"max\": 0.823556295937135,\n        \"num_unique_values\": 2,\n        \"samples\": [\n          -1.2142460751418134,\n          0.823556295937135\n        ],\n        \"semantic_type\": \"\",\n        \"description\": \"\"\n      }\n    },\n    {\n      \"column\": 10,\n      \"properties\": {\n        \"dtype\": \"number\",\n        \"std\": 1.000545107699243,\n        \"min\": -0.8235562959371349,\n        \"max\": 1.2142460751418134,\n        \"num_unique_values\": 2,\n        \"samples\": [\n          1.2142460751418134,\n          -0.8235562959371349\n        ],\n        \"semantic_type\": \"\",\n        \"description\": \"\"\n      }\n    },\n    {\n      \"column\": 11,\n      \"properties\": {\n        \"dtype\": \"number\",\n        \"std\": 1.0005451076992506,\n        \"min\": -0.27144835701531994,\n        \"max\": 3.683941988065056,\n        \"num_unique_values\": 2,\n        \"samples\": [\n          3.683941988065056,\n          -0.27144835701531994\n        ],\n        \"semantic_type\": \"\",\n        \"description\": \"\"\n      }\n    },\n    {\n      \"column\": 12,\n      \"properties\": {\n        \"dtype\": \"number\",\n        \"std\": 1.0005451076992444,\n        \"min\": -1.002181027672682,\n        \"max\": 0.9978237188567138,\n        \"num_unique_values\": 2,\n        \"samples\": [\n          0.9978237188567138,\n          -1.002181027672682\n        ],\n        \"semantic_type\": \"\",\n        \"description\": \"\"\n      }\n    },\n    {\n      \"column\": 13,\n      \"properties\": {\n        \"dtype\": \"number\",\n        \"std\": 1.0005451076992424,\n        \"min\": -0.869055882089883,\n        \"max\": 1.150673990716478,\n        \"num_unique_values\": 2,\n        \"samples\": [\n          -0.869055882089883,\n          1.150673990716478\n        ],\n        \"semantic_type\": \"\",\n        \"description\": \"\"\n      }\n    },\n    {\n      \"column\": 14,\n      \"properties\": {\n        \"dtype\": \"number\",\n        \"std\": 1.0005451076992455,\n        \"min\": -2.706014753413708,\n        \"max\": 2.491557971213962,\n        \"num_unique_values\": 50,\n        \"samples\": [\n          -1.0088481494536523,\n          1.536901756486431\n        ],\n        \"semantic_type\": \"\",\n        \"description\": \"\"\n      }\n    },\n    {\n      \"column\": 15,\n      \"properties\": {\n        \"dtype\": \"number\",\n        \"std\": 1.000545107699246,\n        \"min\": -2.922161739154637,\n        \"max\": 3.7518721007930087,\n        \"num_unique_values\": 67,\n        \"samples\": [\n          1.8052788974749454,\n          -0.8087176898378827\n        ],\n        \"semantic_type\": \"\",\n        \"description\": \"\"\n      }\n    },\n    {\n      \"column\": 16,\n      \"properties\": {\n        \"dtype\": \"number\",\n        \"std\": 1.0005451076992444,\n        \"min\": -2.9955302166219635,\n        \"max\": 6.725053154441429,\n        \"num_unique_values\": 222,\n        \"samples\": [\n          1.1329028753354622,\n          1.4331525547505477\n        ],\n        \"semantic_type\": \"\",\n        \"description\": \"\"\n      }\n    },\n    {\n      \"column\": 17,\n      \"properties\": {\n        \"dtype\": \"number\",\n        \"std\": 1.0005451076992475,\n        \"min\": -0.5513413395776469,\n        \"max\": 1.8137584255264645,\n        \"num_unique_values\": 2,\n        \"samples\": [\n          1.8137584255264645,\n          -0.5513413395776469\n        ],\n        \"semantic_type\": \"\",\n        \"description\": \"\"\n      }\n    },\n    {\n      \"column\": 18,\n      \"properties\": {\n        \"dtype\": \"number\",\n        \"std\": 1.0005451076992455,\n        \"min\": -3.018469323787831,\n        \"max\": 2.561873986783379,\n        \"num_unique_values\": 119,\n        \"samples\": [\n          -0.1889994761742599,\n          0.7934553320248967\n        ],\n        \"semantic_type\": \"\",\n        \"description\": \"\"\n      }\n    },\n    {\n      \"column\": 19,\n      \"properties\": {\n        \"dtype\": \"number\",\n        \"std\": 1.0005451076992478,\n        \"min\": -3.271481786609188,\n        \"max\": 4.9837623143915195,\n        \"num_unique_values\": 53,\n        \"samples\": [\n          0.38709230360703445,\n          -0.2695748407907491\n        ],\n        \"semantic_type\": \"\",\n        \"description\": \"\"\n      }\n    }\n  ]\n}"
            }
          },
          "metadata": {},
          "execution_count": 67
        }
      ],
      "source": [
        "previsores1_esc = StandardScaler().fit_transform(previsores1)\n",
        "previsores1_escdf = pd.DataFrame(previsores1_esc)\n",
        "previsores1_escdf.head()"
      ]
    },
    {
      "cell_type": "code",
      "execution_count": 68,
      "metadata": {
        "id": "MVsPmh6XXzil",
        "outputId": "07533cde-aea2-4da3-96b9-879d03a57c1f",
        "colab": {
          "base_uri": "https://localhost:8080/",
          "height": 407
        }
      },
      "outputs": [
        {
          "output_type": "execute_result",
          "data": {
            "text/plain": [
              "                 0             1             2             3             4   \\\n",
              "count  9.180000e+02  9.180000e+02  9.180000e+02  9.180000e+02  9.180000e+02   \n",
              "mean  -7.740117e-18  7.740117e-18 -1.548023e-16 -9.288140e-17  6.192094e-17   \n",
              "std    1.000545e+00  1.000545e+00  1.000545e+00  1.000545e+00  1.000545e+00   \n",
              "min   -5.159524e-01 -1.938163e+00 -1.084138e+00 -4.818867e-01 -5.328378e-01   \n",
              "25%   -5.159524e-01  5.159524e-01 -1.084138e+00 -4.818867e-01 -5.328378e-01   \n",
              "50%   -5.159524e-01  5.159524e-01  9.223917e-01 -4.818867e-01 -5.328378e-01   \n",
              "75%   -5.159524e-01  5.159524e-01  9.223917e-01 -4.818867e-01 -5.328378e-01   \n",
              "max    1.938163e+00  5.159524e-01  9.223917e-01  2.075177e+00  1.876744e+00   \n",
              "\n",
              "                 5             6             7           8             9   \\\n",
              "count  9.180000e+02  9.180000e+02  9.180000e+02  918.000000  9.180000e+02   \n",
              "mean   7.740117e-18  1.238419e-16  9.288140e-17    0.000000  7.740117e-17   \n",
              "std    1.000545e+00  1.000545e+00  1.000545e+00    1.000545  1.000545e+00   \n",
              "min   -2.296787e-01 -5.074783e-01 -1.228087e+00   -0.490449 -1.214246e+00   \n",
              "25%   -2.296787e-01 -5.074783e-01 -1.228087e+00   -0.490449 -1.214246e+00   \n",
              "50%   -2.296787e-01 -5.074783e-01  8.142748e-01   -0.490449  8.235563e-01   \n",
              "75%   -2.296787e-01 -5.074783e-01  8.142748e-01   -0.490449  8.235563e-01   \n",
              "max    4.353909e+00  1.970528e+00  8.142748e-01    2.038947  8.235563e-01   \n",
              "\n",
              "                 10            11            12            13            14  \\\n",
              "count  9.180000e+02  9.180000e+02  9.180000e+02  9.180000e+02  9.180000e+02   \n",
              "mean  -7.740117e-18 -7.740117e-18  4.644070e-17 -6.192094e-17 -1.238419e-16   \n",
              "std    1.000545e+00  1.000545e+00  1.000545e+00  1.000545e+00  1.000545e+00   \n",
              "min   -8.235563e-01 -2.714484e-01 -1.002181e+00 -8.690559e-01 -2.706015e+00   \n",
              "25%   -8.235563e-01 -2.714484e-01 -1.002181e+00 -8.690559e-01 -6.906294e-01   \n",
              "50%   -8.235563e-01 -2.714484e-01  9.978237e-01 -8.690559e-01  5.188098e-02   \n",
              "75%    1.214246e+00 -2.714484e-01  9.978237e-01  1.150674e+00  6.883185e-01   \n",
              "max    1.214246e+00  3.683942e+00  9.978237e-01  1.150674e+00  2.491558e+00   \n",
              "\n",
              "                 15            16            17            18            19  \n",
              "count  9.180000e+02  9.180000e+02  9.180000e+02  9.180000e+02  9.180000e+02  \n",
              "mean  -3.483053e-17 -2.058678e-14  5.418082e-17  5.108477e-16 -1.548023e-16  \n",
              "std    1.000545e+00  1.000545e+00  1.000545e+00  1.000545e+00  1.000545e+00  \n",
              "min   -2.922162e+00 -2.995530e+00 -5.513413e-01 -3.018469e+00 -3.271482e+00  \n",
              "25%   -6.974838e-01 -5.747672e-01 -5.513413e-01 -6.605778e-01 -8.324324e-01  \n",
              "50%   -1.413143e-01 -5.396645e-04 -5.513413e-01  4.678968e-02 -2.695748e-01  \n",
              "75%    4.148552e-01  4.198099e-01 -5.513413e-01  7.541571e-01  5.747115e-01  \n",
              "max    3.751872e+00  6.725053e+00  1.813758e+00  2.561874e+00  4.983762e+00  "
            ],
            "text/html": [
              "\n",
              "  <div id=\"df-84ba8522-6e17-473c-99e9-ebb064138fd9\" class=\"colab-df-container\">\n",
              "    <div>\n",
              "<style scoped>\n",
              "    .dataframe tbody tr th:only-of-type {\n",
              "        vertical-align: middle;\n",
              "    }\n",
              "\n",
              "    .dataframe tbody tr th {\n",
              "        vertical-align: top;\n",
              "    }\n",
              "\n",
              "    .dataframe thead th {\n",
              "        text-align: right;\n",
              "    }\n",
              "</style>\n",
              "<table border=\"1\" class=\"dataframe\">\n",
              "  <thead>\n",
              "    <tr style=\"text-align: right;\">\n",
              "      <th></th>\n",
              "      <th>0</th>\n",
              "      <th>1</th>\n",
              "      <th>2</th>\n",
              "      <th>3</th>\n",
              "      <th>4</th>\n",
              "      <th>5</th>\n",
              "      <th>6</th>\n",
              "      <th>7</th>\n",
              "      <th>8</th>\n",
              "      <th>9</th>\n",
              "      <th>10</th>\n",
              "      <th>11</th>\n",
              "      <th>12</th>\n",
              "      <th>13</th>\n",
              "      <th>14</th>\n",
              "      <th>15</th>\n",
              "      <th>16</th>\n",
              "      <th>17</th>\n",
              "      <th>18</th>\n",
              "      <th>19</th>\n",
              "    </tr>\n",
              "  </thead>\n",
              "  <tbody>\n",
              "    <tr>\n",
              "      <th>count</th>\n",
              "      <td>9.180000e+02</td>\n",
              "      <td>9.180000e+02</td>\n",
              "      <td>9.180000e+02</td>\n",
              "      <td>9.180000e+02</td>\n",
              "      <td>9.180000e+02</td>\n",
              "      <td>9.180000e+02</td>\n",
              "      <td>9.180000e+02</td>\n",
              "      <td>9.180000e+02</td>\n",
              "      <td>918.000000</td>\n",
              "      <td>9.180000e+02</td>\n",
              "      <td>9.180000e+02</td>\n",
              "      <td>9.180000e+02</td>\n",
              "      <td>9.180000e+02</td>\n",
              "      <td>9.180000e+02</td>\n",
              "      <td>9.180000e+02</td>\n",
              "      <td>9.180000e+02</td>\n",
              "      <td>9.180000e+02</td>\n",
              "      <td>9.180000e+02</td>\n",
              "      <td>9.180000e+02</td>\n",
              "      <td>9.180000e+02</td>\n",
              "    </tr>\n",
              "    <tr>\n",
              "      <th>mean</th>\n",
              "      <td>-7.740117e-18</td>\n",
              "      <td>7.740117e-18</td>\n",
              "      <td>-1.548023e-16</td>\n",
              "      <td>-9.288140e-17</td>\n",
              "      <td>6.192094e-17</td>\n",
              "      <td>7.740117e-18</td>\n",
              "      <td>1.238419e-16</td>\n",
              "      <td>9.288140e-17</td>\n",
              "      <td>0.000000</td>\n",
              "      <td>7.740117e-17</td>\n",
              "      <td>-7.740117e-18</td>\n",
              "      <td>-7.740117e-18</td>\n",
              "      <td>4.644070e-17</td>\n",
              "      <td>-6.192094e-17</td>\n",
              "      <td>-1.238419e-16</td>\n",
              "      <td>-3.483053e-17</td>\n",
              "      <td>-2.058678e-14</td>\n",
              "      <td>5.418082e-17</td>\n",
              "      <td>5.108477e-16</td>\n",
              "      <td>-1.548023e-16</td>\n",
              "    </tr>\n",
              "    <tr>\n",
              "      <th>std</th>\n",
              "      <td>1.000545e+00</td>\n",
              "      <td>1.000545e+00</td>\n",
              "      <td>1.000545e+00</td>\n",
              "      <td>1.000545e+00</td>\n",
              "      <td>1.000545e+00</td>\n",
              "      <td>1.000545e+00</td>\n",
              "      <td>1.000545e+00</td>\n",
              "      <td>1.000545e+00</td>\n",
              "      <td>1.000545</td>\n",
              "      <td>1.000545e+00</td>\n",
              "      <td>1.000545e+00</td>\n",
              "      <td>1.000545e+00</td>\n",
              "      <td>1.000545e+00</td>\n",
              "      <td>1.000545e+00</td>\n",
              "      <td>1.000545e+00</td>\n",
              "      <td>1.000545e+00</td>\n",
              "      <td>1.000545e+00</td>\n",
              "      <td>1.000545e+00</td>\n",
              "      <td>1.000545e+00</td>\n",
              "      <td>1.000545e+00</td>\n",
              "    </tr>\n",
              "    <tr>\n",
              "      <th>min</th>\n",
              "      <td>-5.159524e-01</td>\n",
              "      <td>-1.938163e+00</td>\n",
              "      <td>-1.084138e+00</td>\n",
              "      <td>-4.818867e-01</td>\n",
              "      <td>-5.328378e-01</td>\n",
              "      <td>-2.296787e-01</td>\n",
              "      <td>-5.074783e-01</td>\n",
              "      <td>-1.228087e+00</td>\n",
              "      <td>-0.490449</td>\n",
              "      <td>-1.214246e+00</td>\n",
              "      <td>-8.235563e-01</td>\n",
              "      <td>-2.714484e-01</td>\n",
              "      <td>-1.002181e+00</td>\n",
              "      <td>-8.690559e-01</td>\n",
              "      <td>-2.706015e+00</td>\n",
              "      <td>-2.922162e+00</td>\n",
              "      <td>-2.995530e+00</td>\n",
              "      <td>-5.513413e-01</td>\n",
              "      <td>-3.018469e+00</td>\n",
              "      <td>-3.271482e+00</td>\n",
              "    </tr>\n",
              "    <tr>\n",
              "      <th>25%</th>\n",
              "      <td>-5.159524e-01</td>\n",
              "      <td>5.159524e-01</td>\n",
              "      <td>-1.084138e+00</td>\n",
              "      <td>-4.818867e-01</td>\n",
              "      <td>-5.328378e-01</td>\n",
              "      <td>-2.296787e-01</td>\n",
              "      <td>-5.074783e-01</td>\n",
              "      <td>-1.228087e+00</td>\n",
              "      <td>-0.490449</td>\n",
              "      <td>-1.214246e+00</td>\n",
              "      <td>-8.235563e-01</td>\n",
              "      <td>-2.714484e-01</td>\n",
              "      <td>-1.002181e+00</td>\n",
              "      <td>-8.690559e-01</td>\n",
              "      <td>-6.906294e-01</td>\n",
              "      <td>-6.974838e-01</td>\n",
              "      <td>-5.747672e-01</td>\n",
              "      <td>-5.513413e-01</td>\n",
              "      <td>-6.605778e-01</td>\n",
              "      <td>-8.324324e-01</td>\n",
              "    </tr>\n",
              "    <tr>\n",
              "      <th>50%</th>\n",
              "      <td>-5.159524e-01</td>\n",
              "      <td>5.159524e-01</td>\n",
              "      <td>9.223917e-01</td>\n",
              "      <td>-4.818867e-01</td>\n",
              "      <td>-5.328378e-01</td>\n",
              "      <td>-2.296787e-01</td>\n",
              "      <td>-5.074783e-01</td>\n",
              "      <td>8.142748e-01</td>\n",
              "      <td>-0.490449</td>\n",
              "      <td>8.235563e-01</td>\n",
              "      <td>-8.235563e-01</td>\n",
              "      <td>-2.714484e-01</td>\n",
              "      <td>9.978237e-01</td>\n",
              "      <td>-8.690559e-01</td>\n",
              "      <td>5.188098e-02</td>\n",
              "      <td>-1.413143e-01</td>\n",
              "      <td>-5.396645e-04</td>\n",
              "      <td>-5.513413e-01</td>\n",
              "      <td>4.678968e-02</td>\n",
              "      <td>-2.695748e-01</td>\n",
              "    </tr>\n",
              "    <tr>\n",
              "      <th>75%</th>\n",
              "      <td>-5.159524e-01</td>\n",
              "      <td>5.159524e-01</td>\n",
              "      <td>9.223917e-01</td>\n",
              "      <td>-4.818867e-01</td>\n",
              "      <td>-5.328378e-01</td>\n",
              "      <td>-2.296787e-01</td>\n",
              "      <td>-5.074783e-01</td>\n",
              "      <td>8.142748e-01</td>\n",
              "      <td>-0.490449</td>\n",
              "      <td>8.235563e-01</td>\n",
              "      <td>1.214246e+00</td>\n",
              "      <td>-2.714484e-01</td>\n",
              "      <td>9.978237e-01</td>\n",
              "      <td>1.150674e+00</td>\n",
              "      <td>6.883185e-01</td>\n",
              "      <td>4.148552e-01</td>\n",
              "      <td>4.198099e-01</td>\n",
              "      <td>-5.513413e-01</td>\n",
              "      <td>7.541571e-01</td>\n",
              "      <td>5.747115e-01</td>\n",
              "    </tr>\n",
              "    <tr>\n",
              "      <th>max</th>\n",
              "      <td>1.938163e+00</td>\n",
              "      <td>5.159524e-01</td>\n",
              "      <td>9.223917e-01</td>\n",
              "      <td>2.075177e+00</td>\n",
              "      <td>1.876744e+00</td>\n",
              "      <td>4.353909e+00</td>\n",
              "      <td>1.970528e+00</td>\n",
              "      <td>8.142748e-01</td>\n",
              "      <td>2.038947</td>\n",
              "      <td>8.235563e-01</td>\n",
              "      <td>1.214246e+00</td>\n",
              "      <td>3.683942e+00</td>\n",
              "      <td>9.978237e-01</td>\n",
              "      <td>1.150674e+00</td>\n",
              "      <td>2.491558e+00</td>\n",
              "      <td>3.751872e+00</td>\n",
              "      <td>6.725053e+00</td>\n",
              "      <td>1.813758e+00</td>\n",
              "      <td>2.561874e+00</td>\n",
              "      <td>4.983762e+00</td>\n",
              "    </tr>\n",
              "  </tbody>\n",
              "</table>\n",
              "</div>\n",
              "    <div class=\"colab-df-buttons\">\n",
              "\n",
              "  <div class=\"colab-df-container\">\n",
              "    <button class=\"colab-df-convert\" onclick=\"convertToInteractive('df-84ba8522-6e17-473c-99e9-ebb064138fd9')\"\n",
              "            title=\"Convert this dataframe to an interactive table.\"\n",
              "            style=\"display:none;\">\n",
              "\n",
              "  <svg xmlns=\"http://www.w3.org/2000/svg\" height=\"24px\" viewBox=\"0 -960 960 960\">\n",
              "    <path d=\"M120-120v-720h720v720H120Zm60-500h600v-160H180v160Zm220 220h160v-160H400v160Zm0 220h160v-160H400v160ZM180-400h160v-160H180v160Zm440 0h160v-160H620v160ZM180-180h160v-160H180v160Zm440 0h160v-160H620v160Z\"/>\n",
              "  </svg>\n",
              "    </button>\n",
              "\n",
              "  <style>\n",
              "    .colab-df-container {\n",
              "      display:flex;\n",
              "      gap: 12px;\n",
              "    }\n",
              "\n",
              "    .colab-df-convert {\n",
              "      background-color: #E8F0FE;\n",
              "      border: none;\n",
              "      border-radius: 50%;\n",
              "      cursor: pointer;\n",
              "      display: none;\n",
              "      fill: #1967D2;\n",
              "      height: 32px;\n",
              "      padding: 0 0 0 0;\n",
              "      width: 32px;\n",
              "    }\n",
              "\n",
              "    .colab-df-convert:hover {\n",
              "      background-color: #E2EBFA;\n",
              "      box-shadow: 0px 1px 2px rgba(60, 64, 67, 0.3), 0px 1px 3px 1px rgba(60, 64, 67, 0.15);\n",
              "      fill: #174EA6;\n",
              "    }\n",
              "\n",
              "    .colab-df-buttons div {\n",
              "      margin-bottom: 4px;\n",
              "    }\n",
              "\n",
              "    [theme=dark] .colab-df-convert {\n",
              "      background-color: #3B4455;\n",
              "      fill: #D2E3FC;\n",
              "    }\n",
              "\n",
              "    [theme=dark] .colab-df-convert:hover {\n",
              "      background-color: #434B5C;\n",
              "      box-shadow: 0px 1px 3px 1px rgba(0, 0, 0, 0.15);\n",
              "      filter: drop-shadow(0px 1px 2px rgba(0, 0, 0, 0.3));\n",
              "      fill: #FFFFFF;\n",
              "    }\n",
              "  </style>\n",
              "\n",
              "    <script>\n",
              "      const buttonEl =\n",
              "        document.querySelector('#df-84ba8522-6e17-473c-99e9-ebb064138fd9 button.colab-df-convert');\n",
              "      buttonEl.style.display =\n",
              "        google.colab.kernel.accessAllowed ? 'block' : 'none';\n",
              "\n",
              "      async function convertToInteractive(key) {\n",
              "        const element = document.querySelector('#df-84ba8522-6e17-473c-99e9-ebb064138fd9');\n",
              "        const dataTable =\n",
              "          await google.colab.kernel.invokeFunction('convertToInteractive',\n",
              "                                                    [key], {});\n",
              "        if (!dataTable) return;\n",
              "\n",
              "        const docLinkHtml = 'Like what you see? Visit the ' +\n",
              "          '<a target=\"_blank\" href=https://colab.research.google.com/notebooks/data_table.ipynb>data table notebook</a>'\n",
              "          + ' to learn more about interactive tables.';\n",
              "        element.innerHTML = '';\n",
              "        dataTable['output_type'] = 'display_data';\n",
              "        await google.colab.output.renderOutput(dataTable, element);\n",
              "        const docLink = document.createElement('div');\n",
              "        docLink.innerHTML = docLinkHtml;\n",
              "        element.appendChild(docLink);\n",
              "      }\n",
              "    </script>\n",
              "  </div>\n",
              "\n",
              "\n",
              "<div id=\"df-82c077dc-523a-4d56-a84c-af028393d1a1\">\n",
              "  <button class=\"colab-df-quickchart\" onclick=\"quickchart('df-82c077dc-523a-4d56-a84c-af028393d1a1')\"\n",
              "            title=\"Suggest charts\"\n",
              "            style=\"display:none;\">\n",
              "\n",
              "<svg xmlns=\"http://www.w3.org/2000/svg\" height=\"24px\"viewBox=\"0 0 24 24\"\n",
              "     width=\"24px\">\n",
              "    <g>\n",
              "        <path d=\"M19 3H5c-1.1 0-2 .9-2 2v14c0 1.1.9 2 2 2h14c1.1 0 2-.9 2-2V5c0-1.1-.9-2-2-2zM9 17H7v-7h2v7zm4 0h-2V7h2v10zm4 0h-2v-4h2v4z\"/>\n",
              "    </g>\n",
              "</svg>\n",
              "  </button>\n",
              "\n",
              "<style>\n",
              "  .colab-df-quickchart {\n",
              "      --bg-color: #E8F0FE;\n",
              "      --fill-color: #1967D2;\n",
              "      --hover-bg-color: #E2EBFA;\n",
              "      --hover-fill-color: #174EA6;\n",
              "      --disabled-fill-color: #AAA;\n",
              "      --disabled-bg-color: #DDD;\n",
              "  }\n",
              "\n",
              "  [theme=dark] .colab-df-quickchart {\n",
              "      --bg-color: #3B4455;\n",
              "      --fill-color: #D2E3FC;\n",
              "      --hover-bg-color: #434B5C;\n",
              "      --hover-fill-color: #FFFFFF;\n",
              "      --disabled-bg-color: #3B4455;\n",
              "      --disabled-fill-color: #666;\n",
              "  }\n",
              "\n",
              "  .colab-df-quickchart {\n",
              "    background-color: var(--bg-color);\n",
              "    border: none;\n",
              "    border-radius: 50%;\n",
              "    cursor: pointer;\n",
              "    display: none;\n",
              "    fill: var(--fill-color);\n",
              "    height: 32px;\n",
              "    padding: 0;\n",
              "    width: 32px;\n",
              "  }\n",
              "\n",
              "  .colab-df-quickchart:hover {\n",
              "    background-color: var(--hover-bg-color);\n",
              "    box-shadow: 0 1px 2px rgba(60, 64, 67, 0.3), 0 1px 3px 1px rgba(60, 64, 67, 0.15);\n",
              "    fill: var(--button-hover-fill-color);\n",
              "  }\n",
              "\n",
              "  .colab-df-quickchart-complete:disabled,\n",
              "  .colab-df-quickchart-complete:disabled:hover {\n",
              "    background-color: var(--disabled-bg-color);\n",
              "    fill: var(--disabled-fill-color);\n",
              "    box-shadow: none;\n",
              "  }\n",
              "\n",
              "  .colab-df-spinner {\n",
              "    border: 2px solid var(--fill-color);\n",
              "    border-color: transparent;\n",
              "    border-bottom-color: var(--fill-color);\n",
              "    animation:\n",
              "      spin 1s steps(1) infinite;\n",
              "  }\n",
              "\n",
              "  @keyframes spin {\n",
              "    0% {\n",
              "      border-color: transparent;\n",
              "      border-bottom-color: var(--fill-color);\n",
              "      border-left-color: var(--fill-color);\n",
              "    }\n",
              "    20% {\n",
              "      border-color: transparent;\n",
              "      border-left-color: var(--fill-color);\n",
              "      border-top-color: var(--fill-color);\n",
              "    }\n",
              "    30% {\n",
              "      border-color: transparent;\n",
              "      border-left-color: var(--fill-color);\n",
              "      border-top-color: var(--fill-color);\n",
              "      border-right-color: var(--fill-color);\n",
              "    }\n",
              "    40% {\n",
              "      border-color: transparent;\n",
              "      border-right-color: var(--fill-color);\n",
              "      border-top-color: var(--fill-color);\n",
              "    }\n",
              "    60% {\n",
              "      border-color: transparent;\n",
              "      border-right-color: var(--fill-color);\n",
              "    }\n",
              "    80% {\n",
              "      border-color: transparent;\n",
              "      border-right-color: var(--fill-color);\n",
              "      border-bottom-color: var(--fill-color);\n",
              "    }\n",
              "    90% {\n",
              "      border-color: transparent;\n",
              "      border-bottom-color: var(--fill-color);\n",
              "    }\n",
              "  }\n",
              "</style>\n",
              "\n",
              "  <script>\n",
              "    async function quickchart(key) {\n",
              "      const quickchartButtonEl =\n",
              "        document.querySelector('#' + key + ' button');\n",
              "      quickchartButtonEl.disabled = true;  // To prevent multiple clicks.\n",
              "      quickchartButtonEl.classList.add('colab-df-spinner');\n",
              "      try {\n",
              "        const charts = await google.colab.kernel.invokeFunction(\n",
              "            'suggestCharts', [key], {});\n",
              "      } catch (error) {\n",
              "        console.error('Error during call to suggestCharts:', error);\n",
              "      }\n",
              "      quickchartButtonEl.classList.remove('colab-df-spinner');\n",
              "      quickchartButtonEl.classList.add('colab-df-quickchart-complete');\n",
              "    }\n",
              "    (() => {\n",
              "      let quickchartButtonEl =\n",
              "        document.querySelector('#df-82c077dc-523a-4d56-a84c-af028393d1a1 button');\n",
              "      quickchartButtonEl.style.display =\n",
              "        google.colab.kernel.accessAllowed ? 'block' : 'none';\n",
              "    })();\n",
              "  </script>\n",
              "</div>\n",
              "\n",
              "    </div>\n",
              "  </div>\n"
            ],
            "application/vnd.google.colaboratory.intrinsic+json": {
              "type": "dataframe",
              "summary": "{\n  \"name\": \"previsores1_escdf\",\n  \"rows\": 8,\n  \"fields\": [\n    {\n      \"column\": 0,\n      \"properties\": {\n        \"dtype\": \"number\",\n        \"std\": 324.5190809865293,\n        \"min\": -0.5159524169453283,\n        \"max\": 918.0,\n        \"num_unique_values\": 5,\n        \"samples\": [\n          -7.74011694727778e-18,\n          1.9381632242764926,\n          1.0005451076992486\n        ],\n        \"semantic_type\": \"\",\n        \"description\": \"\"\n      }\n    },\n    {\n      \"column\": 1,\n      \"properties\": {\n        \"dtype\": \"number\",\n        \"std\": 324.506373015859,\n        \"min\": -1.9381632242764926,\n        \"max\": 918.0,\n        \"num_unique_values\": 5,\n        \"samples\": [\n          7.74011694727778e-18,\n          0.5159524169453283,\n          1.0005451076992486\n        ],\n        \"semantic_type\": \"\",\n        \"description\": \"\"\n      }\n    },\n    {\n      \"column\": 2,\n      \"properties\": {\n        \"dtype\": \"number\",\n        \"std\": 324.48244769798595,\n        \"min\": -1.0841381140043855,\n        \"max\": 918.0,\n        \"num_unique_values\": 5,\n        \"samples\": [\n          -1.548023389455556e-16,\n          0.9223917018343761,\n          1.000545107699253\n        ],\n        \"semantic_type\": \"\",\n        \"description\": \"\"\n      }\n    },\n    {\n      \"column\": 3,\n      \"properties\": {\n        \"dtype\": \"number\",\n        \"std\": 324.50535221816386,\n        \"min\": -0.4818866724663272,\n        \"max\": 918.0,\n        \"num_unique_values\": 5,\n        \"samples\": [\n          -9.288140336733336e-17,\n          2.075176710909906,\n          1.0005451076992413\n        ],\n        \"semantic_type\": \"\",\n        \"description\": \"\"\n      }\n    },\n    {\n      \"column\": 4,\n      \"properties\": {\n        \"dtype\": \"number\",\n        \"std\": 324.52556505534255,\n        \"min\": -0.5328377650993625,\n        \"max\": 918.0,\n        \"num_unique_values\": 5,\n        \"samples\": [\n          6.192093557822224e-17,\n          1.8767438524435676,\n          1.0005451076992444\n        ],\n        \"semantic_type\": \"\",\n        \"description\": \"\"\n      }\n    },\n    {\n      \"column\": 5,\n      \"properties\": {\n        \"dtype\": \"number\",\n        \"std\": 324.3417965671315,\n        \"min\": -0.2296786746260557,\n        \"max\": 918.0,\n        \"num_unique_values\": 5,\n        \"samples\": [\n          7.74011694727778e-18,\n          4.353908788563491,\n          1.0005451076992444\n        ],\n        \"semantic_type\": \"\",\n        \"description\": \"\"\n      }\n    },\n    {\n      \"column\": 6,\n      \"properties\": {\n        \"dtype\": \"number\",\n        \"std\": 324.51575075433345,\n        \"min\": -0.5074783212860849,\n        \"max\": 918.0,\n        \"num_unique_values\": 5,\n        \"samples\": [\n          1.238418711564445e-16,\n          1.9705275241427767,\n          1.000545107699246\n        ],\n        \"semantic_type\": \"\",\n        \"description\": \"\"\n      }\n    },\n    {\n      \"column\": 7,\n      \"properties\": {\n        \"dtype\": \"number\",\n        \"std\": 324.5134430926084,\n        \"min\": -1.2280866098575713,\n        \"max\": 918.0,\n        \"num_unique_values\": 5,\n        \"samples\": [\n          9.288140336733336e-17,\n          0.8142748174055637,\n          1.000545107699241\n        ],\n        \"semantic_type\": \"\",\n        \"description\": \"\"\n      }\n    },\n    {\n      \"column\": 8,\n      \"properties\": {\n        \"dtype\": \"number\",\n        \"std\": 324.5088914705157,\n        \"min\": -0.490449325150454,\n        \"max\": 918.0,\n        \"num_unique_values\": 5,\n        \"samples\": [\n          0.0,\n          2.0389466326479546,\n          1.0005451076992353\n        ],\n        \"semantic_type\": \"\",\n        \"description\": \"\"\n      }\n    },\n    {\n      \"column\": 9,\n      \"properties\": {\n        \"dtype\": \"number\",\n        \"std\": 324.51063025520375,\n        \"min\": -1.2142460751418134,\n        \"max\": 918.0,\n        \"num_unique_values\": 5,\n        \"samples\": [\n          7.74011694727778e-17,\n          0.823556295937135,\n          1.000545107699243\n        ],\n        \"semantic_type\": \"\",\n        \"description\": \"\"\n      }\n    },\n    {\n      \"column\": 10,\n      \"properties\": {\n        \"dtype\": \"number\",\n        \"std\": 324.5148960399631,\n        \"min\": -0.8235562959371349,\n        \"max\": 918.0,\n        \"num_unique_values\": 5,\n        \"samples\": [\n          -7.74011694727778e-18,\n          1.2142460751418134,\n          1.000545107699243\n        ],\n        \"semantic_type\": \"\",\n        \"description\": \"\"\n      }\n    },\n    {\n      \"column\": 11,\n      \"properties\": {\n        \"dtype\": \"number\",\n        \"std\": 324.3831174563,\n        \"min\": -0.27144835701531994,\n        \"max\": 918.0,\n        \"num_unique_values\": 5,\n        \"samples\": [\n          -7.74011694727778e-18,\n          3.683941988065056,\n          1.0005451076992506\n        ],\n        \"semantic_type\": \"\",\n        \"description\": \"\"\n      }\n    },\n    {\n      \"column\": 12,\n      \"properties\": {\n        \"dtype\": \"number\",\n        \"std\": 324.4627155114011,\n        \"min\": -1.002181027672682,\n        \"max\": 918.0,\n        \"num_unique_values\": 5,\n        \"samples\": [\n          4.644070168366668e-17,\n          0.9978237188567138,\n          1.0005451076992444\n        ],\n        \"semantic_type\": \"\",\n        \"description\": \"\"\n      }\n    },\n    {\n      \"column\": 13,\n      \"properties\": {\n        \"dtype\": \"number\",\n        \"std\": 324.5282103402657,\n        \"min\": -0.869055882089883,\n        \"max\": 918.0,\n        \"num_unique_values\": 5,\n        \"samples\": [\n          -6.192093557822224e-17,\n          1.150673990716478,\n          1.0005451076992424\n        ],\n        \"semantic_type\": \"\",\n        \"description\": \"\"\n      }\n    },\n    {\n      \"column\": 14,\n      \"properties\": {\n        \"dtype\": \"number\",\n        \"std\": 324.52319178168216,\n        \"min\": -2.706014753413708,\n        \"max\": 918.0,\n        \"num_unique_values\": 8,\n        \"samples\": [\n          -1.238418711564445e-16,\n          0.05188097802138229,\n          918.0\n        ],\n        \"semantic_type\": \"\",\n        \"description\": \"\"\n      }\n    },\n    {\n      \"column\": 15,\n      \"properties\": {\n        \"dtype\": \"number\",\n        \"std\": 324.4962688046954,\n        \"min\": -2.922161739154637,\n        \"max\": 918.0,\n        \"num_unique_values\": 8,\n        \"samples\": [\n          -3.483052626275001e-17,\n          -0.14131430584311808,\n          918.0\n        ],\n        \"semantic_type\": \"\",\n        \"description\": \"\"\n      }\n    },\n    {\n      \"column\": 16,\n      \"properties\": {\n        \"dtype\": \"number\",\n        \"std\": 324.3425718338535,\n        \"min\": -2.9955302166219635,\n        \"max\": 918.0,\n        \"num_unique_values\": 8,\n        \"samples\": [\n          -2.0586776050522076e-14,\n          -0.0005396644564856884,\n          918.0\n        ],\n        \"semantic_type\": \"\",\n        \"description\": \"\"\n      }\n    },\n    {\n      \"column\": 17,\n      \"properties\": {\n        \"dtype\": \"number\",\n        \"std\": 324.53245689703346,\n        \"min\": -0.5513413395776469,\n        \"max\": 918.0,\n        \"num_unique_values\": 5,\n        \"samples\": [\n          5.418081863094446e-17,\n          1.8137584255264645,\n          1.0005451076992475\n        ],\n        \"semantic_type\": \"\",\n        \"description\": \"\"\n      }\n    },\n    {\n      \"column\": 18,\n      \"properties\": {\n        \"dtype\": \"number\",\n        \"std\": 324.53132647582424,\n        \"min\": -3.018469323787831,\n        \"max\": 918.0,\n        \"num_unique_values\": 8,\n        \"samples\": [\n          5.108477185203334e-16,\n          0.04678967779353769,\n          918.0\n        ],\n        \"semantic_type\": \"\",\n        \"description\": \"\"\n      }\n    },\n    {\n      \"column\": 19,\n      \"properties\": {\n        \"dtype\": \"number\",\n        \"std\": 324.45976226441724,\n        \"min\": -3.271481786609188,\n        \"max\": 918.0,\n        \"num_unique_values\": 8,\n        \"samples\": [\n          -1.548023389455556e-16,\n          -0.2695748407907491,\n          918.0\n        ],\n        \"semantic_type\": \"\",\n        \"description\": \"\"\n      }\n    }\n  ]\n}"
            }
          },
          "metadata": {},
          "execution_count": 68
        }
      ],
      "source": [
        "previsores1_escdf.describe()"
      ]
    },
    {
      "cell_type": "code",
      "execution_count": 69,
      "metadata": {
        "id": "fcJ1AaQFXzil"
      },
      "outputs": [],
      "source": [
        "alvo = df.iloc[:,11]"
      ]
    },
    {
      "cell_type": "code",
      "execution_count": 70,
      "metadata": {
        "id": "4SGxmxerXzil"
      },
      "outputs": [],
      "source": [
        "lda = LinearDiscriminantAnalysis(n_components = 1)"
      ]
    },
    {
      "cell_type": "code",
      "execution_count": 71,
      "metadata": {
        "id": "nCH_0kqHXzim",
        "outputId": "d918dce6-f34e-4376-dcc4-4cced48f1fb1",
        "colab": {
          "base_uri": "https://localhost:8080/"
        }
      },
      "outputs": [
        {
          "output_type": "execute_result",
          "data": {
            "text/plain": [
              "array([[-2.01691598e+00],\n",
              "       [-9.10848586e-01],\n",
              "       [-1.71881862e+00],\n",
              "       [ 8.38721865e-01],\n",
              "       [-1.64922538e+00],\n",
              "       [-1.80954079e+00],\n",
              "       [-2.76421587e+00],\n",
              "       [-1.86205800e+00],\n",
              "       [ 1.37237620e+00],\n",
              "       [-2.46978684e+00],\n",
              "       [-2.61043961e+00],\n",
              "       [ 6.99005542e-01],\n",
              "       [-2.02122532e+00],\n",
              "       [ 1.38975962e+00],\n",
              "       [-2.51516396e+00],\n",
              "       [-7.79873716e-01],\n",
              "       [ 4.40346416e-01],\n",
              "       [-2.80762116e+00],\n",
              "       [ 1.06029203e+00],\n",
              "       [ 3.99120978e-03],\n",
              "       [-2.38999614e+00],\n",
              "       [-3.03772423e-01],\n",
              "       [-2.74673305e+00],\n",
              "       [ 6.60481808e-01],\n",
              "       [-1.82292427e+00],\n",
              "       [-2.03401755e+00],\n",
              "       [ 1.95737626e+00],\n",
              "       [-1.68612330e+00],\n",
              "       [-2.22081930e+00],\n",
              "       [-1.92782443e+00],\n",
              "       [ 2.19121179e-01],\n",
              "       [-1.63242588e+00],\n",
              "       [ 1.16302671e+00],\n",
              "       [ 9.69209747e-01],\n",
              "       [-2.78063758e+00],\n",
              "       [-2.06609100e+00],\n",
              "       [ 2.57222434e+00],\n",
              "       [-2.64243482e+00],\n",
              "       [-2.05978667e+00],\n",
              "       [ 6.75473148e-01],\n",
              "       [-2.52202168e+00],\n",
              "       [-1.25426330e-01],\n",
              "       [-2.07888613e+00],\n",
              "       [-1.75944719e+00],\n",
              "       [ 1.34178703e+00],\n",
              "       [ 7.56164708e-01],\n",
              "       [-1.04936107e+00],\n",
              "       [-2.00565375e+00],\n",
              "       [-2.11875830e-01],\n",
              "       [ 5.68763437e-01],\n",
              "       [ 1.65356353e+00],\n",
              "       [ 9.47764685e-01],\n",
              "       [-1.21114973e+00],\n",
              "       [-2.70911441e+00],\n",
              "       [ 7.01228845e-01],\n",
              "       [-2.76121572e+00],\n",
              "       [ 1.29921879e+00],\n",
              "       [-1.30274598e-01],\n",
              "       [-3.65132056e-01],\n",
              "       [ 1.76309888e+00],\n",
              "       [-1.98556204e+00],\n",
              "       [-2.63640454e+00],\n",
              "       [-8.72889566e-01],\n",
              "       [ 1.47734735e+00],\n",
              "       [-2.65739032e+00],\n",
              "       [-2.64530472e+00],\n",
              "       [-1.51895912e+00],\n",
              "       [-2.22274159e+00],\n",
              "       [ 2.23187993e+00],\n",
              "       [-7.54236053e-01],\n",
              "       [ 4.48686461e-01],\n",
              "       [-1.91865636e+00],\n",
              "       [ 6.21499392e-01],\n",
              "       [-1.48000034e+00],\n",
              "       [ 1.62731413e+00],\n",
              "       [-1.74011528e+00],\n",
              "       [ 9.50497328e-01],\n",
              "       [-1.80133065e+00],\n",
              "       [-1.48674139e+00],\n",
              "       [ 5.40432593e-01],\n",
              "       [-1.69468634e+00],\n",
              "       [-1.87409047e+00],\n",
              "       [ 9.22148527e-01],\n",
              "       [-1.99097000e+00],\n",
              "       [ 2.12464585e+00],\n",
              "       [ 1.62193297e+00],\n",
              "       [ 2.50338054e+00],\n",
              "       [-2.26167769e-01],\n",
              "       [-8.75812263e-02],\n",
              "       [ 1.47605261e+00],\n",
              "       [-2.72147733e+00],\n",
              "       [-8.09006901e-01],\n",
              "       [-2.64081302e+00],\n",
              "       [ 1.78697164e+00],\n",
              "       [-2.75811699e+00],\n",
              "       [ 1.68807385e+00],\n",
              "       [-1.95048906e+00],\n",
              "       [-1.37578823e+00],\n",
              "       [-9.26801426e-01],\n",
              "       [-1.91662171e+00],\n",
              "       [ 1.72334833e+00],\n",
              "       [-6.90347020e-01],\n",
              "       [ 4.70845172e-01],\n",
              "       [ 2.17860177e+00],\n",
              "       [ 6.77528545e-01],\n",
              "       [-1.12716006e+00],\n",
              "       [-1.37632104e+00],\n",
              "       [-2.12364688e+00],\n",
              "       [-9.07473976e-01],\n",
              "       [-1.81271306e+00],\n",
              "       [-8.19869486e-01],\n",
              "       [ 2.04458020e+00],\n",
              "       [ 4.35671425e-01],\n",
              "       [-1.93462133e+00],\n",
              "       [-2.44561800e+00],\n",
              "       [ 4.74279452e-01],\n",
              "       [ 5.31697281e-01],\n",
              "       [ 1.66721419e+00],\n",
              "       [-2.69527742e+00],\n",
              "       [-4.72819701e-01],\n",
              "       [-4.46781063e-01],\n",
              "       [-2.37975103e+00],\n",
              "       [-7.99608347e-01],\n",
              "       [-9.73936425e-04],\n",
              "       [-1.82966646e+00],\n",
              "       [-1.68172370e+00],\n",
              "       [-3.04638842e+00],\n",
              "       [-1.43340554e+00],\n",
              "       [-1.93084870e+00],\n",
              "       [ 4.38390838e-01],\n",
              "       [-1.71200321e+00],\n",
              "       [ 1.10267638e+00],\n",
              "       [ 1.92820870e+00],\n",
              "       [ 1.63315486e+00],\n",
              "       [ 9.51081586e-01],\n",
              "       [-3.22676261e-01],\n",
              "       [-2.80410388e+00],\n",
              "       [-1.59768499e+00],\n",
              "       [ 1.26596708e+00],\n",
              "       [ 1.56779893e+00],\n",
              "       [ 1.99594377e+00],\n",
              "       [ 1.88837484e+00],\n",
              "       [ 1.74917182e+00],\n",
              "       [-8.19023195e-01],\n",
              "       [-8.41914181e-01],\n",
              "       [-8.18637525e-01],\n",
              "       [-2.04183168e+00],\n",
              "       [-2.76560712e+00],\n",
              "       [-2.02455441e+00],\n",
              "       [ 2.59471306e+00],\n",
              "       [-1.90376038e+00],\n",
              "       [-1.80625164e+00],\n",
              "       [-1.94337783e+00],\n",
              "       [-7.04238459e-01],\n",
              "       [-1.92797038e+00],\n",
              "       [ 2.53674875e+00],\n",
              "       [ 1.18894673e+00],\n",
              "       [-8.25975134e-01],\n",
              "       [ 1.75535644e+00],\n",
              "       [-1.62394074e+00],\n",
              "       [ 2.05221165e+00],\n",
              "       [ 1.36747616e+00],\n",
              "       [-1.99150147e+00],\n",
              "       [-2.02362023e+00],\n",
              "       [-2.58870788e+00],\n",
              "       [ 7.93518845e-01],\n",
              "       [ 2.13061333e+00],\n",
              "       [-1.78148276e+00],\n",
              "       [-5.70215184e-01],\n",
              "       [-1.78902174e+00],\n",
              "       [-2.12899956e+00],\n",
              "       [-2.00496809e+00],\n",
              "       [-1.81371384e+00],\n",
              "       [-1.91378979e+00],\n",
              "       [ 1.66005483e+00],\n",
              "       [ 1.59842813e+00],\n",
              "       [ 1.13507623e+00],\n",
              "       [-1.74865718e+00],\n",
              "       [-1.92734647e+00],\n",
              "       [-1.35974168e+00],\n",
              "       [ 1.66657966e+00],\n",
              "       [-1.90335980e+00],\n",
              "       [ 1.87456540e+00],\n",
              "       [ 1.39360481e+00],\n",
              "       [-2.41911159e+00],\n",
              "       [ 6.99163487e-01],\n",
              "       [-1.63757169e+00],\n",
              "       [ 1.95887196e+00],\n",
              "       [ 9.03713117e-01],\n",
              "       [ 1.69056256e+00],\n",
              "       [-6.66068657e-01],\n",
              "       [-1.76304855e+00],\n",
              "       [-1.94682030e+00],\n",
              "       [-1.68844035e+00],\n",
              "       [-2.90997063e+00],\n",
              "       [-2.13985296e+00],\n",
              "       [ 9.88899589e-01],\n",
              "       [-1.87509477e+00],\n",
              "       [ 1.36499192e+00],\n",
              "       [-2.85670854e-01],\n",
              "       [-1.61509372e+00],\n",
              "       [-1.79719443e+00],\n",
              "       [-1.92223973e+00],\n",
              "       [-2.80906188e+00],\n",
              "       [-1.69906479e+00],\n",
              "       [-3.07386226e-01],\n",
              "       [-2.08624859e+00],\n",
              "       [-4.66018136e-01],\n",
              "       [-2.39379446e+00],\n",
              "       [ 7.24520227e-01],\n",
              "       [ 1.48375754e+00],\n",
              "       [-3.63847670e-01],\n",
              "       [-8.63918047e-01],\n",
              "       [-2.48457428e+00],\n",
              "       [ 1.62340831e+00],\n",
              "       [-2.58345905e+00],\n",
              "       [ 6.21449837e-01],\n",
              "       [-1.68400577e+00],\n",
              "       [-1.90059436e+00],\n",
              "       [-2.14521477e+00],\n",
              "       [ 7.72489784e-01],\n",
              "       [ 7.16337413e-01],\n",
              "       [-2.45615039e+00],\n",
              "       [-1.97983553e+00],\n",
              "       [-1.13879155e+00],\n",
              "       [ 7.05610319e-01],\n",
              "       [-1.73348130e+00],\n",
              "       [ 1.42898219e+00],\n",
              "       [-1.99179210e+00],\n",
              "       [-1.88846665e+00],\n",
              "       [-8.92470123e-01],\n",
              "       [-1.86032559e+00],\n",
              "       [-2.61289605e+00],\n",
              "       [-8.70002738e-01],\n",
              "       [-2.43705615e+00],\n",
              "       [ 1.07320363e-01],\n",
              "       [ 1.88696826e+00],\n",
              "       [ 8.23447280e-02],\n",
              "       [ 1.87904220e+00],\n",
              "       [ 1.84038110e+00],\n",
              "       [-1.75824072e+00],\n",
              "       [ 1.56095160e+00],\n",
              "       [ 1.25443934e+00],\n",
              "       [-2.53133666e+00],\n",
              "       [ 1.57641520e+00],\n",
              "       [-1.23892362e+00],\n",
              "       [ 5.71397710e-01],\n",
              "       [ 1.65422848e+00],\n",
              "       [ 1.40190449e+00],\n",
              "       [ 1.60676062e+00],\n",
              "       [ 9.95672333e-01],\n",
              "       [ 1.18043208e+00],\n",
              "       [ 2.39821358e-02],\n",
              "       [-1.57171219e+00],\n",
              "       [ 1.82334362e+00],\n",
              "       [-2.33052997e+00],\n",
              "       [-2.40251572e+00],\n",
              "       [-2.07046516e+00],\n",
              "       [-2.31211921e+00],\n",
              "       [-2.50349334e+00],\n",
              "       [-1.43586959e+00],\n",
              "       [-2.38973157e+00],\n",
              "       [ 1.28415528e+00],\n",
              "       [ 7.21105563e-01],\n",
              "       [ 3.82437748e-01],\n",
              "       [-1.87680309e+00],\n",
              "       [ 1.62263007e+00],\n",
              "       [-2.06929770e+00],\n",
              "       [ 1.65003859e+00],\n",
              "       [-6.38463915e-01],\n",
              "       [-8.55201132e-01],\n",
              "       [-2.91546878e+00],\n",
              "       [ 1.80041072e+00],\n",
              "       [-1.67096383e+00],\n",
              "       [-2.73256158e+00],\n",
              "       [-1.48800860e+00],\n",
              "       [ 2.21669870e-02],\n",
              "       [ 1.55102010e+00],\n",
              "       [ 9.19842159e-01],\n",
              "       [-2.56951785e+00],\n",
              "       [-1.59523696e+00],\n",
              "       [ 1.11343208e+00],\n",
              "       [-1.67464322e+00],\n",
              "       [-2.46679983e+00],\n",
              "       [-8.40935563e-01],\n",
              "       [-2.41341416e+00],\n",
              "       [-7.92954373e-01],\n",
              "       [-1.86386217e+00],\n",
              "       [-2.20749649e+00],\n",
              "       [-2.24227865e+00],\n",
              "       [-1.75246116e+00],\n",
              "       [-2.39817777e+00],\n",
              "       [-8.66588758e-01],\n",
              "       [ 1.57194326e+00],\n",
              "       [-9.10513434e-01],\n",
              "       [ 8.55951844e-01],\n",
              "       [ 1.99642778e+00],\n",
              "       [ 7.40858451e-01],\n",
              "       [ 1.56365866e+00],\n",
              "       [ 1.82718953e-01],\n",
              "       [ 1.48365769e+00],\n",
              "       [-1.77685619e+00],\n",
              "       [ 2.26151880e-01],\n",
              "       [ 1.06966469e+00],\n",
              "       [ 1.81192893e+00],\n",
              "       [-4.64806436e-02],\n",
              "       [ 1.35813009e+00],\n",
              "       [-6.50239820e-01],\n",
              "       [ 2.18121473e-02],\n",
              "       [ 7.98076006e-01],\n",
              "       [-5.22393608e-01],\n",
              "       [ 8.60422217e-02],\n",
              "       [-1.01646750e-01],\n",
              "       [-3.24436815e-01],\n",
              "       [ 1.04014079e+00],\n",
              "       [-6.57874040e-01],\n",
              "       [ 5.25083320e-01],\n",
              "       [ 8.16435168e-01],\n",
              "       [ 2.16283872e+00],\n",
              "       [ 3.54862240e-01],\n",
              "       [ 8.39208226e-01],\n",
              "       [ 1.44732550e+00],\n",
              "       [-6.13942373e-01],\n",
              "       [ 1.90062878e+00],\n",
              "       [ 9.13774651e-01],\n",
              "       [ 1.00374047e+00],\n",
              "       [-1.75637416e+00],\n",
              "       [ 6.93727825e-01],\n",
              "       [ 2.26887842e+00],\n",
              "       [ 1.65322289e+00],\n",
              "       [-5.60091247e-01],\n",
              "       [-3.04506896e-03],\n",
              "       [-2.16945640e+00],\n",
              "       [-2.34412396e-01],\n",
              "       [-3.89185942e-01],\n",
              "       [ 5.72117853e-01],\n",
              "       [ 3.92750147e-01],\n",
              "       [ 5.96630380e-01],\n",
              "       [ 2.76475611e-01],\n",
              "       [ 3.50781944e-01],\n",
              "       [ 1.05596410e+00],\n",
              "       [ 1.76518454e+00],\n",
              "       [ 1.81887986e+00],\n",
              "       [ 1.45722229e+00],\n",
              "       [ 1.51400205e+00],\n",
              "       [ 9.43688464e-01],\n",
              "       [ 9.11215103e-01],\n",
              "       [ 1.38615402e+00],\n",
              "       [ 1.87483074e+00],\n",
              "       [ 1.97494076e+00],\n",
              "       [ 1.46660419e+00],\n",
              "       [-2.20633590e-01],\n",
              "       [ 7.35258826e-01],\n",
              "       [ 1.68121322e+00],\n",
              "       [-4.56702973e-01],\n",
              "       [ 1.65581709e-01],\n",
              "       [ 1.57487583e+00],\n",
              "       [-1.24873507e-01],\n",
              "       [ 2.55406554e-01],\n",
              "       [-6.18840513e-02],\n",
              "       [ 7.14649389e-01],\n",
              "       [ 1.27365167e+00],\n",
              "       [ 6.05295661e-02],\n",
              "       [ 7.73505739e-01],\n",
              "       [ 4.11710407e-02],\n",
              "       [ 8.07702554e-01],\n",
              "       [ 1.78880790e+00],\n",
              "       [ 1.00554961e-02],\n",
              "       [ 1.73849474e+00],\n",
              "       [ 1.93617554e+00],\n",
              "       [ 2.31711078e-01],\n",
              "       [ 1.87336665e+00],\n",
              "       [ 2.69140192e-02],\n",
              "       [ 1.60114322e+00],\n",
              "       [ 9.11380046e-01],\n",
              "       [-2.11337144e+00],\n",
              "       [ 5.59143971e-01],\n",
              "       [ 1.81175922e+00],\n",
              "       [ 2.34087777e+00],\n",
              "       [-3.09380302e-01],\n",
              "       [ 1.61600410e+00],\n",
              "       [ 1.40673761e+00],\n",
              "       [ 1.50238219e+00],\n",
              "       [-1.94828057e-01],\n",
              "       [ 6.98194013e-01],\n",
              "       [ 1.48465293e+00],\n",
              "       [ 1.32988099e+00],\n",
              "       [ 1.44890809e+00],\n",
              "       [ 1.00615231e+00],\n",
              "       [ 1.64324964e+00],\n",
              "       [ 1.06365251e+00],\n",
              "       [ 1.65074924e+00],\n",
              "       [ 9.17586177e-01],\n",
              "       [ 1.96176641e+00],\n",
              "       [ 2.46262774e+00],\n",
              "       [ 1.20060224e+00],\n",
              "       [-4.84433497e-02],\n",
              "       [ 2.11665998e+00],\n",
              "       [ 6.33104573e-01],\n",
              "       [ 8.61110281e-01],\n",
              "       [ 7.42403636e-01],\n",
              "       [ 1.29697875e+00],\n",
              "       [ 1.95109959e+00],\n",
              "       [ 2.29086926e+00],\n",
              "       [ 1.00642124e+00],\n",
              "       [ 1.98022736e+00],\n",
              "       [ 2.10031602e+00],\n",
              "       [ 2.17496230e+00],\n",
              "       [ 1.63099192e+00],\n",
              "       [ 1.04259798e+00],\n",
              "       [ 2.10721713e+00],\n",
              "       [ 1.61757466e+00],\n",
              "       [ 2.25526659e+00],\n",
              "       [ 3.16004814e-01],\n",
              "       [ 2.56127138e+00],\n",
              "       [ 9.76489507e-01],\n",
              "       [ 2.05201589e+00],\n",
              "       [-8.03379129e-01],\n",
              "       [ 1.01638927e+00],\n",
              "       [ 1.88580411e-01],\n",
              "       [ 1.45083215e+00],\n",
              "       [-1.52658450e+00],\n",
              "       [ 2.17190141e+00],\n",
              "       [ 7.06907778e-01],\n",
              "       [-1.09663616e-01],\n",
              "       [ 4.61440068e-01],\n",
              "       [-1.86002663e+00],\n",
              "       [ 1.62028951e+00],\n",
              "       [ 1.52013397e+00],\n",
              "       [ 6.89337787e-01],\n",
              "       [ 2.10566167e+00],\n",
              "       [-4.49604938e-01],\n",
              "       [ 1.37519973e+00],\n",
              "       [ 1.60279809e+00],\n",
              "       [ 6.48062939e-01],\n",
              "       [-5.71574980e-02],\n",
              "       [-4.64519624e-01],\n",
              "       [ 2.00987968e+00],\n",
              "       [ 5.89674685e-01],\n",
              "       [-1.33780021e+00],\n",
              "       [-1.28820763e+00],\n",
              "       [ 1.78496170e+00],\n",
              "       [ 2.17964481e+00],\n",
              "       [ 2.00522222e+00],\n",
              "       [ 1.45908160e+00],\n",
              "       [ 7.22511842e-01],\n",
              "       [ 1.64373201e+00],\n",
              "       [ 3.98068691e-01],\n",
              "       [ 2.29508439e+00],\n",
              "       [ 5.68696721e-02],\n",
              "       [ 2.43170457e-01],\n",
              "       [ 1.64686130e+00],\n",
              "       [ 1.75971943e+00],\n",
              "       [ 2.06940444e-01],\n",
              "       [ 2.17458684e+00],\n",
              "       [ 1.44944453e-01],\n",
              "       [ 6.71762189e-01],\n",
              "       [ 1.15727758e+00],\n",
              "       [ 1.97602914e+00],\n",
              "       [-7.20970524e-01],\n",
              "       [ 2.42993902e+00],\n",
              "       [ 1.59048205e+00],\n",
              "       [ 1.05820169e+00],\n",
              "       [-6.37097315e-01],\n",
              "       [ 2.34811597e-01],\n",
              "       [-1.86380405e+00],\n",
              "       [ 8.98320453e-01],\n",
              "       [-2.40107069e+00],\n",
              "       [ 2.16997460e-01],\n",
              "       [ 5.90884011e-01],\n",
              "       [ 8.91837205e-01],\n",
              "       [ 1.97796138e+00],\n",
              "       [ 2.18965718e+00],\n",
              "       [ 1.53898131e+00],\n",
              "       [-1.67296534e+00],\n",
              "       [ 2.02400625e+00],\n",
              "       [-1.65121553e-01],\n",
              "       [ 1.88554911e+00],\n",
              "       [ 2.36589178e+00],\n",
              "       [ 8.76410947e-01],\n",
              "       [ 1.35986082e+00],\n",
              "       [ 6.06654425e-01],\n",
              "       [-2.20701265e-01],\n",
              "       [ 1.13164959e+00],\n",
              "       [ 1.68797797e+00],\n",
              "       [ 1.18385662e+00],\n",
              "       [-1.27155054e+00],\n",
              "       [ 1.62806219e+00],\n",
              "       [-1.32572992e+00],\n",
              "       [ 1.77331894e+00],\n",
              "       [ 8.23138982e-01],\n",
              "       [ 1.69987010e+00],\n",
              "       [ 4.83276335e-01],\n",
              "       [ 8.01781173e-01],\n",
              "       [ 1.86090852e+00],\n",
              "       [ 8.46672177e-01],\n",
              "       [ 1.59677188e+00],\n",
              "       [ 1.25964751e+00],\n",
              "       [ 2.27289126e+00],\n",
              "       [ 1.63305881e+00],\n",
              "       [ 1.51625905e+00],\n",
              "       [ 1.80006120e+00],\n",
              "       [ 1.75054488e+00],\n",
              "       [-9.19924732e-02],\n",
              "       [ 2.01231352e+00],\n",
              "       [ 1.27687279e+00],\n",
              "       [ 2.09412567e+00],\n",
              "       [-1.03851086e+00],\n",
              "       [ 1.16693854e+00],\n",
              "       [ 8.63968596e-01],\n",
              "       [-6.39824823e-01],\n",
              "       [ 2.61627459e+00],\n",
              "       [-1.99041500e+00],\n",
              "       [ 8.14199937e-01],\n",
              "       [-6.78161640e-01],\n",
              "       [ 1.03738865e+00],\n",
              "       [ 5.80396292e-01],\n",
              "       [ 1.71367633e+00],\n",
              "       [ 6.88500714e-01],\n",
              "       [ 2.11063551e-01],\n",
              "       [ 9.93457767e-01],\n",
              "       [ 1.56909453e+00],\n",
              "       [ 1.07841020e-01],\n",
              "       [ 1.48667740e+00],\n",
              "       [-8.56022108e-01],\n",
              "       [-1.75649370e+00],\n",
              "       [ 1.86199344e+00],\n",
              "       [-1.61953397e+00],\n",
              "       [ 5.00379931e-01],\n",
              "       [ 1.77758529e+00],\n",
              "       [ 1.44651800e+00],\n",
              "       [ 2.52724357e+00],\n",
              "       [ 1.51397852e+00],\n",
              "       [ 1.74879887e+00],\n",
              "       [ 1.18216575e+00],\n",
              "       [ 1.53113733e+00],\n",
              "       [ 1.39224578e+00],\n",
              "       [ 2.31563624e+00],\n",
              "       [ 2.32261602e+00],\n",
              "       [-6.23803114e-01],\n",
              "       [ 6.96106605e-01],\n",
              "       [ 3.34845387e-03],\n",
              "       [ 9.83117878e-01],\n",
              "       [ 1.38957211e+00],\n",
              "       [-1.18349752e+00],\n",
              "       [-7.00882807e-01],\n",
              "       [ 3.25649933e-01],\n",
              "       [ 5.21652902e-01],\n",
              "       [-3.46191460e-01],\n",
              "       [-7.43893511e-01],\n",
              "       [ 1.42101423e+00],\n",
              "       [-1.40588588e+00],\n",
              "       [ 9.39324350e-01],\n",
              "       [ 1.70998196e+00],\n",
              "       [-1.12788955e+00],\n",
              "       [ 4.81439383e-01],\n",
              "       [ 2.08368472e+00],\n",
              "       [ 1.38338960e+00],\n",
              "       [ 7.20505170e-01],\n",
              "       [ 1.69561570e+00],\n",
              "       [-1.63868470e+00],\n",
              "       [-1.84527309e+00],\n",
              "       [ 1.65337751e+00],\n",
              "       [ 2.14474882e+00],\n",
              "       [ 2.26484378e+00],\n",
              "       [ 1.83079475e+00],\n",
              "       [ 1.37339643e+00],\n",
              "       [ 1.53539956e+00],\n",
              "       [ 1.01495861e+00],\n",
              "       [ 1.81501263e+00],\n",
              "       [ 1.16031455e+00],\n",
              "       [ 2.27305695e+00],\n",
              "       [ 1.43984831e+00],\n",
              "       [ 1.70535150e+00],\n",
              "       [ 2.41345192e+00],\n",
              "       [ 2.24233372e+00],\n",
              "       [ 1.89653214e+00],\n",
              "       [ 2.01282380e+00],\n",
              "       [ 1.24419576e+00],\n",
              "       [ 2.57392032e+00],\n",
              "       [ 1.96742107e+00],\n",
              "       [-1.48464463e-01],\n",
              "       [ 2.23145024e+00],\n",
              "       [-1.38827619e+00],\n",
              "       [ 2.39224654e+00],\n",
              "       [ 6.62206497e-01],\n",
              "       [ 1.69027646e+00],\n",
              "       [-2.61664556e-01],\n",
              "       [ 1.82002616e+00],\n",
              "       [ 8.47185202e-01],\n",
              "       [-1.73064566e+00],\n",
              "       [-5.95790696e-01],\n",
              "       [ 1.75263982e+00],\n",
              "       [ 1.53341505e+00],\n",
              "       [ 7.28772804e-01],\n",
              "       [ 1.96521845e+00],\n",
              "       [ 9.66208490e-01],\n",
              "       [-1.64766260e+00],\n",
              "       [ 1.02833003e+00],\n",
              "       [ 1.79943929e+00],\n",
              "       [ 1.64118075e+00],\n",
              "       [ 7.73150545e-01],\n",
              "       [ 7.13053540e-01],\n",
              "       [ 1.35290144e+00],\n",
              "       [-4.17476321e-01],\n",
              "       [-5.15211665e-01],\n",
              "       [ 2.68458038e+00],\n",
              "       [ 2.30879307e+00],\n",
              "       [ 1.29125201e+00],\n",
              "       [ 8.24867011e-01],\n",
              "       [ 7.35911746e-01],\n",
              "       [-1.49442407e+00],\n",
              "       [ 1.56871198e+00],\n",
              "       [ 1.62508694e-01],\n",
              "       [ 4.80552959e-01],\n",
              "       [ 1.54925278e+00],\n",
              "       [-1.82446228e-01],\n",
              "       [-1.70990539e+00],\n",
              "       [ 1.57131960e+00],\n",
              "       [-1.71131001e+00],\n",
              "       [-6.55570423e-01],\n",
              "       [ 1.10832662e+00],\n",
              "       [ 1.50483990e+00],\n",
              "       [ 9.53316912e-01],\n",
              "       [ 9.48890724e-01],\n",
              "       [ 7.95876390e-01],\n",
              "       [-1.57719872e-01],\n",
              "       [-1.94661090e+00],\n",
              "       [ 4.85267220e-01],\n",
              "       [-1.47279502e+00],\n",
              "       [ 4.08795939e-01],\n",
              "       [ 1.68240221e+00],\n",
              "       [ 1.74523286e+00],\n",
              "       [ 8.47477064e-01],\n",
              "       [-1.09918895e+00],\n",
              "       [ 1.86957936e+00],\n",
              "       [-5.01016525e-01],\n",
              "       [ 7.72008026e-01],\n",
              "       [-8.57427070e-01],\n",
              "       [-1.43648289e+00],\n",
              "       [-2.37837559e+00],\n",
              "       [ 3.95836223e-01],\n",
              "       [-2.34142517e+00],\n",
              "       [ 1.89668897e-01],\n",
              "       [-1.55152063e+00],\n",
              "       [-1.30341947e-01],\n",
              "       [-2.50002583e-01],\n",
              "       [-2.72152431e+00],\n",
              "       [ 1.43883686e+00],\n",
              "       [ 1.38431603e+00],\n",
              "       [ 3.03766928e-01],\n",
              "       [ 1.18360163e-01],\n",
              "       [-1.38021523e+00],\n",
              "       [-1.89764119e+00],\n",
              "       [-1.03381797e+00],\n",
              "       [-1.07464806e+00],\n",
              "       [-1.54741994e+00],\n",
              "       [-1.34878372e+00],\n",
              "       [-1.37672892e+00],\n",
              "       [ 9.04980566e-01],\n",
              "       [-1.14938932e+00],\n",
              "       [-1.64203317e+00],\n",
              "       [-1.06577139e+00],\n",
              "       [ 4.09331809e-01],\n",
              "       [ 3.74477179e-01],\n",
              "       [ 1.62886016e+00],\n",
              "       [-1.42581944e+00],\n",
              "       [-1.38772885e+00],\n",
              "       [-2.68396686e+00],\n",
              "       [-1.18923885e+00],\n",
              "       [-2.84282682e+00],\n",
              "       [ 1.92749706e+00],\n",
              "       [-1.61103987e+00],\n",
              "       [ 5.76400594e-01],\n",
              "       [ 2.07812033e-01],\n",
              "       [-1.25053136e+00],\n",
              "       [ 7.87173261e-01],\n",
              "       [-1.89985126e+00],\n",
              "       [-2.16855450e+00],\n",
              "       [ 4.76317812e-01],\n",
              "       [ 1.55077441e+00],\n",
              "       [-4.43540468e-01],\n",
              "       [-1.84363893e+00],\n",
              "       [-9.75503547e-01],\n",
              "       [-1.77981078e+00],\n",
              "       [ 1.99570450e+00],\n",
              "       [-7.93815850e-01],\n",
              "       [-1.68083605e+00],\n",
              "       [-4.23597531e-01],\n",
              "       [-1.34262089e+00],\n",
              "       [ 1.22746982e+00],\n",
              "       [ 1.62721256e+00],\n",
              "       [-2.76016470e+00],\n",
              "       [-1.18831833e+00],\n",
              "       [-1.81559524e+00],\n",
              "       [ 1.26390812e+00],\n",
              "       [ 1.35973629e+00],\n",
              "       [ 8.63349722e-02],\n",
              "       [-9.18673545e-02],\n",
              "       [ 1.57026781e+00],\n",
              "       [-1.65544133e+00],\n",
              "       [-1.15780189e+00],\n",
              "       [ 2.09227087e-01],\n",
              "       [-2.68651157e+00],\n",
              "       [ 1.21791769e+00],\n",
              "       [-1.37656474e+00],\n",
              "       [-1.44254802e+00],\n",
              "       [ 1.80522887e+00],\n",
              "       [ 1.34475489e+00],\n",
              "       [-7.44390388e-01],\n",
              "       [ 1.50062364e+00],\n",
              "       [ 9.58360586e-01],\n",
              "       [-7.69780031e-01],\n",
              "       [-2.15454159e+00],\n",
              "       [-2.48045757e+00],\n",
              "       [-1.15690254e+00],\n",
              "       [ 1.33657963e+00],\n",
              "       [-1.59501356e+00],\n",
              "       [ 1.70817729e+00],\n",
              "       [ 1.06339171e+00],\n",
              "       [ 7.08660326e-01],\n",
              "       [ 5.00011486e-01],\n",
              "       [ 4.73516687e-01],\n",
              "       [-3.61207260e-01],\n",
              "       [-1.22240615e+00],\n",
              "       [ 1.37319666e+00],\n",
              "       [-1.99666406e+00],\n",
              "       [-1.45000447e+00],\n",
              "       [-1.81628023e+00],\n",
              "       [-1.94918788e+00],\n",
              "       [-1.14468528e+00],\n",
              "       [-7.03276977e-01],\n",
              "       [ 1.39346585e+00],\n",
              "       [-6.59588211e-01],\n",
              "       [ 1.82392460e+00],\n",
              "       [ 8.38548703e-02],\n",
              "       [ 1.97823103e+00],\n",
              "       [ 1.76650467e+00],\n",
              "       [-2.06703425e+00],\n",
              "       [-6.67228807e-01],\n",
              "       [-2.54909669e+00],\n",
              "       [ 1.86534382e+00],\n",
              "       [-1.08831755e+00],\n",
              "       [-1.81432269e+00],\n",
              "       [ 6.03382221e-01],\n",
              "       [ 8.49578510e-01],\n",
              "       [-1.21934434e-01],\n",
              "       [-1.03963341e+00],\n",
              "       [ 1.35541953e+00],\n",
              "       [-1.51051106e+00],\n",
              "       [-9.61715742e-01],\n",
              "       [-2.36824991e+00],\n",
              "       [ 2.11366626e+00],\n",
              "       [-2.86944960e+00],\n",
              "       [-3.67408672e-01],\n",
              "       [ 1.18860056e+00],\n",
              "       [-8.51697123e-01],\n",
              "       [-1.97287122e-01],\n",
              "       [-7.70733831e-01],\n",
              "       [-1.99965164e+00],\n",
              "       [ 1.85106734e+00],\n",
              "       [-8.65697460e-01],\n",
              "       [ 1.49252513e+00],\n",
              "       [-1.23290663e+00],\n",
              "       [-2.12531301e+00],\n",
              "       [-1.93960594e+00],\n",
              "       [-7.54890717e-01],\n",
              "       [-2.49587217e+00],\n",
              "       [ 6.19100398e-01],\n",
              "       [-2.37480836e+00],\n",
              "       [-2.80461455e+00],\n",
              "       [ 1.78616294e+00],\n",
              "       [-1.95022609e+00],\n",
              "       [ 1.79574407e-01],\n",
              "       [ 1.33485952e+00],\n",
              "       [ 8.35879148e-01],\n",
              "       [ 8.00452269e-01],\n",
              "       [-1.83861170e+00],\n",
              "       [ 1.88881883e+00],\n",
              "       [-9.78757985e-01],\n",
              "       [-8.32462063e-01],\n",
              "       [-1.60054366e+00],\n",
              "       [-1.52770975e-02],\n",
              "       [ 4.12992843e-01],\n",
              "       [ 8.71020608e-01],\n",
              "       [ 7.96954369e-01],\n",
              "       [ 3.14209798e-01],\n",
              "       [ 1.67300336e+00],\n",
              "       [-4.46885595e-01],\n",
              "       [-1.93400846e+00],\n",
              "       [ 1.27039817e+00],\n",
              "       [ 2.12973255e+00],\n",
              "       [ 3.59591423e-01],\n",
              "       [ 1.46796401e+00],\n",
              "       [-1.85583220e+00],\n",
              "       [-2.97616247e-01],\n",
              "       [ 1.04299746e+00],\n",
              "       [-1.04674779e+00],\n",
              "       [ 1.02964278e-01],\n",
              "       [-1.18598001e+00],\n",
              "       [-1.43241899e+00],\n",
              "       [ 1.72023307e+00],\n",
              "       [-1.57573234e-01],\n",
              "       [ 4.15196422e-01],\n",
              "       [ 1.16824304e+00],\n",
              "       [-6.22977436e-01],\n",
              "       [ 1.28522127e+00],\n",
              "       [-1.79341942e+00],\n",
              "       [-4.44226512e-01],\n",
              "       [-1.21768137e+00],\n",
              "       [-8.75042628e-01],\n",
              "       [ 3.03648552e-01],\n",
              "       [-7.23421577e-01],\n",
              "       [-1.84267960e+00],\n",
              "       [-4.44951589e-02],\n",
              "       [-1.35750868e+00],\n",
              "       [-7.79288308e-01],\n",
              "       [ 1.82547711e+00],\n",
              "       [-4.63010694e-02],\n",
              "       [ 1.44688166e+00],\n",
              "       [ 7.28942430e-01],\n",
              "       [-2.33362511e+00],\n",
              "       [ 4.24436785e-01],\n",
              "       [ 8.88074832e-01],\n",
              "       [-4.58343240e-01],\n",
              "       [ 3.90610717e-02],\n",
              "       [ 7.53391053e-01],\n",
              "       [-1.10529517e+00],\n",
              "       [ 1.68919399e+00],\n",
              "       [-2.36449094e+00],\n",
              "       [-2.61658824e+00],\n",
              "       [-2.45013917e+00],\n",
              "       [-1.25757252e+00],\n",
              "       [-1.09954621e-01],\n",
              "       [-2.05749455e+00],\n",
              "       [ 1.81959065e+00],\n",
              "       [ 1.41292894e+00],\n",
              "       [-1.58710854e+00],\n",
              "       [ 9.31447982e-01],\n",
              "       [-1.66616724e+00],\n",
              "       [-4.43697309e-01],\n",
              "       [-4.04201866e-01],\n",
              "       [ 1.72029275e+00],\n",
              "       [-1.45832248e+00],\n",
              "       [-3.19248017e-01],\n",
              "       [ 8.19745119e-01],\n",
              "       [ 7.98772858e-01],\n",
              "       [-1.01042422e+00],\n",
              "       [-3.25493920e-01],\n",
              "       [ 1.96342084e-01],\n",
              "       [ 4.88223258e-01],\n",
              "       [-1.60121435e+00],\n",
              "       [ 1.59710210e+00],\n",
              "       [-1.79122135e+00],\n",
              "       [-1.82308852e+00],\n",
              "       [ 1.38847617e+00],\n",
              "       [-1.89430611e+00],\n",
              "       [ 8.34761995e-02],\n",
              "       [ 9.63059253e-02],\n",
              "       [-2.10357362e+00],\n",
              "       [ 6.57978368e-02],\n",
              "       [-6.18405106e-01],\n",
              "       [-2.15615942e+00],\n",
              "       [ 2.82246095e-01],\n",
              "       [ 1.85157397e+00],\n",
              "       [ 1.04897318e+00],\n",
              "       [-2.14587394e+00],\n",
              "       [-8.49667642e-01],\n",
              "       [-1.60092831e+00],\n",
              "       [-8.09749385e-01],\n",
              "       [-2.33278784e+00],\n",
              "       [ 1.24352869e+00],\n",
              "       [ 1.66420117e+00],\n",
              "       [-1.52837238e+00],\n",
              "       [-7.09353734e-01],\n",
              "       [-2.37453937e+00],\n",
              "       [ 1.72681633e+00],\n",
              "       [ 8.33537607e-03],\n",
              "       [-1.85044946e+00],\n",
              "       [-8.90434994e-01],\n",
              "       [-1.10742107e+00],\n",
              "       [-2.01599844e+00],\n",
              "       [-7.94915063e-01],\n",
              "       [ 7.60509850e-01],\n",
              "       [ 1.83373582e+00],\n",
              "       [-2.35365916e+00],\n",
              "       [-1.82786518e+00],\n",
              "       [ 1.79783179e+00],\n",
              "       [ 1.94693004e+00],\n",
              "       [-1.46610285e+00],\n",
              "       [ 9.71741030e-02],\n",
              "       [-8.00317451e-01],\n",
              "       [-1.11573051e+00],\n",
              "       [-1.90706126e+00],\n",
              "       [ 1.44432700e-01],\n",
              "       [ 1.93328701e+00],\n",
              "       [-1.87900031e+00],\n",
              "       [ 9.18234951e-01],\n",
              "       [-2.19424586e+00],\n",
              "       [-8.18374662e-01],\n",
              "       [ 1.12301904e+00],\n",
              "       [ 1.64004349e+00],\n",
              "       [-2.40703640e-01],\n",
              "       [-1.92633527e+00],\n",
              "       [-9.82032686e-01],\n",
              "       [ 1.38103998e-02],\n",
              "       [-2.30908556e+00],\n",
              "       [ 9.89658204e-01],\n",
              "       [ 4.58895457e-01],\n",
              "       [ 5.77649873e-01],\n",
              "       [-2.21459056e+00],\n",
              "       [ 1.72625205e+00],\n",
              "       [ 6.65488832e-01],\n",
              "       [ 1.77632946e-01],\n",
              "       [ 2.05842719e+00],\n",
              "       [ 1.47512067e+00],\n",
              "       [-1.17531959e+00],\n",
              "       [-2.03697663e+00]])"
            ]
          },
          "metadata": {},
          "execution_count": 71
        }
      ],
      "source": [
        "previsores_lda = lda.fit_transform(previsores1,alvo)\n",
        "previsores_lda"
      ]
    },
    {
      "cell_type": "code",
      "execution_count": 72,
      "metadata": {
        "id": "bDQom5MSXzim",
        "outputId": "45b51470-8ac8-4f53-f5e6-38ced3d27753",
        "colab": {
          "base_uri": "https://localhost:8080/"
        }
      },
      "outputs": [
        {
          "output_type": "execute_result",
          "data": {
            "text/plain": [
              "array([1.])"
            ]
          },
          "metadata": {},
          "execution_count": 72
        }
      ],
      "source": [
        "lda.explained_variance_ratio_"
      ]
    },
    {
      "cell_type": "markdown",
      "metadata": {
        "id": "4fgpsYXdXzim"
      },
      "source": [
        "Preparando base de treino e de teste"
      ]
    },
    {
      "cell_type": "code",
      "execution_count": 73,
      "metadata": {
        "id": "toYMhRBUXzio"
      },
      "outputs": [],
      "source": [
        "x_treino, x_teste, y_treino,y_teste = train_test_split(previsores,alvo,test_size=0.30,random_state=0)"
      ]
    },
    {
      "cell_type": "code",
      "execution_count": 74,
      "metadata": {
        "id": "A_IRDQCAXzio",
        "outputId": "e918bb2d-3194-4898-cacd-7bb066b8cd76",
        "colab": {
          "base_uri": "https://localhost:8080/"
        }
      },
      "outputs": [
        {
          "output_type": "execute_result",
          "data": {
            "text/plain": [
              "(642, 11)"
            ]
          },
          "metadata": {},
          "execution_count": 74
        }
      ],
      "source": [
        "x_treino.shape"
      ]
    },
    {
      "cell_type": "code",
      "execution_count": 75,
      "metadata": {
        "id": "XAepzpPSXzio",
        "outputId": "ccebf857-9d2e-4fd1-8a32-46aeb963094f",
        "colab": {
          "base_uri": "https://localhost:8080/"
        }
      },
      "outputs": [
        {
          "output_type": "execute_result",
          "data": {
            "text/plain": [
              "(276, 11)"
            ]
          },
          "metadata": {},
          "execution_count": 75
        }
      ],
      "source": [
        "x_teste.shape"
      ]
    },
    {
      "cell_type": "code",
      "execution_count": 76,
      "metadata": {
        "id": "8e4RqtPSXzip",
        "outputId": "77641201-10d1-4bf7-fbc4-eb7f3099cf87",
        "colab": {
          "base_uri": "https://localhost:8080/"
        }
      },
      "outputs": [
        {
          "output_type": "execute_result",
          "data": {
            "text/plain": [
              "(642,)"
            ]
          },
          "metadata": {},
          "execution_count": 76
        }
      ],
      "source": [
        "y_treino.shape"
      ]
    },
    {
      "cell_type": "code",
      "execution_count": 77,
      "metadata": {
        "id": "PqC9xrtiXzip",
        "outputId": "cc0c2528-40b8-4a99-a4d8-b1df7cf3d35a",
        "colab": {
          "base_uri": "https://localhost:8080/"
        }
      },
      "outputs": [
        {
          "output_type": "execute_result",
          "data": {
            "text/plain": [
              "(276,)"
            ]
          },
          "metadata": {},
          "execution_count": 77
        }
      ],
      "source": [
        "\n",
        "y_teste.shape"
      ]
    },
    {
      "cell_type": "markdown",
      "metadata": {
        "id": "hDA05IG1Xzip"
      },
      "source": [
        "     Função dos Modelos de Sklearn\n",
        "     "
      ]
    },
    {
      "cell_type": "code",
      "execution_count": 78,
      "metadata": {
        "id": "Tt_qYFDKXziq",
        "outputId": "7c5ce00d-8c97-480d-e4f2-28e2272518d1",
        "colab": {
          "base_uri": "https://localhost:8080/",
          "height": 81
        }
      },
      "outputs": [
        {
          "output_type": "execute_result",
          "data": {
            "text/plain": [
              "           naive     svc Logistica     knn  Arvore  random xgboost\n",
              "Acurácia  82.97%  67.03%    84.06%  67.39%  81.88%  82.97%  84.06%"
            ],
            "text/html": [
              "\n",
              "  <div id=\"df-241a67ce-31a9-4a36-a040-c9c5b296bff4\" class=\"colab-df-container\">\n",
              "    <div>\n",
              "<style scoped>\n",
              "    .dataframe tbody tr th:only-of-type {\n",
              "        vertical-align: middle;\n",
              "    }\n",
              "\n",
              "    .dataframe tbody tr th {\n",
              "        vertical-align: top;\n",
              "    }\n",
              "\n",
              "    .dataframe thead th {\n",
              "        text-align: right;\n",
              "    }\n",
              "</style>\n",
              "<table border=\"1\" class=\"dataframe\">\n",
              "  <thead>\n",
              "    <tr style=\"text-align: right;\">\n",
              "      <th></th>\n",
              "      <th>naive</th>\n",
              "      <th>svc</th>\n",
              "      <th>Logistica</th>\n",
              "      <th>knn</th>\n",
              "      <th>Arvore</th>\n",
              "      <th>random</th>\n",
              "      <th>xgboost</th>\n",
              "    </tr>\n",
              "  </thead>\n",
              "  <tbody>\n",
              "    <tr>\n",
              "      <th>Acurácia</th>\n",
              "      <td>82.97%</td>\n",
              "      <td>67.03%</td>\n",
              "      <td>84.06%</td>\n",
              "      <td>67.39%</td>\n",
              "      <td>81.88%</td>\n",
              "      <td>82.97%</td>\n",
              "      <td>84.06%</td>\n",
              "    </tr>\n",
              "  </tbody>\n",
              "</table>\n",
              "</div>\n",
              "    <div class=\"colab-df-buttons\">\n",
              "\n",
              "  <div class=\"colab-df-container\">\n",
              "    <button class=\"colab-df-convert\" onclick=\"convertToInteractive('df-241a67ce-31a9-4a36-a040-c9c5b296bff4')\"\n",
              "            title=\"Convert this dataframe to an interactive table.\"\n",
              "            style=\"display:none;\">\n",
              "\n",
              "  <svg xmlns=\"http://www.w3.org/2000/svg\" height=\"24px\" viewBox=\"0 -960 960 960\">\n",
              "    <path d=\"M120-120v-720h720v720H120Zm60-500h600v-160H180v160Zm220 220h160v-160H400v160Zm0 220h160v-160H400v160ZM180-400h160v-160H180v160Zm440 0h160v-160H620v160ZM180-180h160v-160H180v160Zm440 0h160v-160H620v160Z\"/>\n",
              "  </svg>\n",
              "    </button>\n",
              "\n",
              "  <style>\n",
              "    .colab-df-container {\n",
              "      display:flex;\n",
              "      gap: 12px;\n",
              "    }\n",
              "\n",
              "    .colab-df-convert {\n",
              "      background-color: #E8F0FE;\n",
              "      border: none;\n",
              "      border-radius: 50%;\n",
              "      cursor: pointer;\n",
              "      display: none;\n",
              "      fill: #1967D2;\n",
              "      height: 32px;\n",
              "      padding: 0 0 0 0;\n",
              "      width: 32px;\n",
              "    }\n",
              "\n",
              "    .colab-df-convert:hover {\n",
              "      background-color: #E2EBFA;\n",
              "      box-shadow: 0px 1px 2px rgba(60, 64, 67, 0.3), 0px 1px 3px 1px rgba(60, 64, 67, 0.15);\n",
              "      fill: #174EA6;\n",
              "    }\n",
              "\n",
              "    .colab-df-buttons div {\n",
              "      margin-bottom: 4px;\n",
              "    }\n",
              "\n",
              "    [theme=dark] .colab-df-convert {\n",
              "      background-color: #3B4455;\n",
              "      fill: #D2E3FC;\n",
              "    }\n",
              "\n",
              "    [theme=dark] .colab-df-convert:hover {\n",
              "      background-color: #434B5C;\n",
              "      box-shadow: 0px 1px 3px 1px rgba(0, 0, 0, 0.15);\n",
              "      filter: drop-shadow(0px 1px 2px rgba(0, 0, 0, 0.3));\n",
              "      fill: #FFFFFF;\n",
              "    }\n",
              "  </style>\n",
              "\n",
              "    <script>\n",
              "      const buttonEl =\n",
              "        document.querySelector('#df-241a67ce-31a9-4a36-a040-c9c5b296bff4 button.colab-df-convert');\n",
              "      buttonEl.style.display =\n",
              "        google.colab.kernel.accessAllowed ? 'block' : 'none';\n",
              "\n",
              "      async function convertToInteractive(key) {\n",
              "        const element = document.querySelector('#df-241a67ce-31a9-4a36-a040-c9c5b296bff4');\n",
              "        const dataTable =\n",
              "          await google.colab.kernel.invokeFunction('convertToInteractive',\n",
              "                                                    [key], {});\n",
              "        if (!dataTable) return;\n",
              "\n",
              "        const docLinkHtml = 'Like what you see? Visit the ' +\n",
              "          '<a target=\"_blank\" href=https://colab.research.google.com/notebooks/data_table.ipynb>data table notebook</a>'\n",
              "          + ' to learn more about interactive tables.';\n",
              "        element.innerHTML = '';\n",
              "        dataTable['output_type'] = 'display_data';\n",
              "        await google.colab.output.renderOutput(dataTable, element);\n",
              "        const docLink = document.createElement('div');\n",
              "        docLink.innerHTML = docLinkHtml;\n",
              "        element.appendChild(docLink);\n",
              "      }\n",
              "    </script>\n",
              "  </div>\n",
              "\n",
              "\n",
              "    </div>\n",
              "  </div>\n"
            ],
            "application/vnd.google.colaboratory.intrinsic+json": {
              "type": "dataframe",
              "summary": "{\n  \"name\": \"treino_teste(models=models,x_teste=x_teste,y_teste=y_teste,x_treino=x_treino,y_treino=y_treino)\",\n  \"rows\": 1,\n  \"fields\": [\n    {\n      \"column\": \"naive\",\n      \"properties\": {\n        \"dtype\": \"string\",\n        \"num_unique_values\": 1,\n        \"samples\": [\n          \"82.97%\"\n        ],\n        \"semantic_type\": \"\",\n        \"description\": \"\"\n      }\n    },\n    {\n      \"column\": \"svc\",\n      \"properties\": {\n        \"dtype\": \"string\",\n        \"num_unique_values\": 1,\n        \"samples\": [\n          \"67.03%\"\n        ],\n        \"semantic_type\": \"\",\n        \"description\": \"\"\n      }\n    },\n    {\n      \"column\": \"Logistica\",\n      \"properties\": {\n        \"dtype\": \"string\",\n        \"num_unique_values\": 1,\n        \"samples\": [\n          \"84.06%\"\n        ],\n        \"semantic_type\": \"\",\n        \"description\": \"\"\n      }\n    },\n    {\n      \"column\": \"knn\",\n      \"properties\": {\n        \"dtype\": \"string\",\n        \"num_unique_values\": 1,\n        \"samples\": [\n          \"67.39%\"\n        ],\n        \"semantic_type\": \"\",\n        \"description\": \"\"\n      }\n    },\n    {\n      \"column\": \"Arvore\",\n      \"properties\": {\n        \"dtype\": \"string\",\n        \"num_unique_values\": 1,\n        \"samples\": [\n          \"81.88%\"\n        ],\n        \"semantic_type\": \"\",\n        \"description\": \"\"\n      }\n    },\n    {\n      \"column\": \"random\",\n      \"properties\": {\n        \"dtype\": \"string\",\n        \"num_unique_values\": 1,\n        \"samples\": [\n          \"82.97%\"\n        ],\n        \"semantic_type\": \"\",\n        \"description\": \"\"\n      }\n    },\n    {\n      \"column\": \"xgboost\",\n      \"properties\": {\n        \"dtype\": \"string\",\n        \"num_unique_values\": 1,\n        \"samples\": [\n          \"84.06%\"\n        ],\n        \"semantic_type\": \"\",\n        \"description\": \"\"\n      }\n    }\n  ]\n}"
            }
          },
          "metadata": {},
          "execution_count": 78
        }
      ],
      "source": [
        "models = {\n",
        "    'naive': GaussianNB(),\n",
        "    'svc': SVC(kernel='rbf', random_state=1, C=2),\n",
        "    'Logistica' : LogisticRegression(random_state=1, max_iter=600,penalty='l2',tol=0.0001,C=1,solver='lbfgs'),\n",
        "    'knn': KNeighborsClassifier(n_neighbors=7, metric='minkowski',p=5,),\n",
        "    'Arvore': DecisionTreeClassifier(criterion='gini',random_state=0,max_depth=3),\n",
        "    'random': RandomForestClassifier(n_estimators=100,criterion='gini',random_state=0,max_depth=3),\n",
        "    'xgboost': XGBClassifier(max_depth=2,learning_rate=0.05,n_estimators=250,objective='reg:logistic',random_state=5)\n",
        "\n",
        "    }\n",
        "\n",
        "\n",
        "def treino_teste(models, x_teste, y_teste, x_treino, y_treino):\n",
        "    modelos_score = {}\n",
        "\n",
        "    for nome, model in models.items():\n",
        "\n",
        "            model.fit(x_treino, y_treino)\n",
        "\n",
        "            resultado = model.score(x_teste, y_teste) * 100\n",
        "\n",
        "            # Corrigindo o formato da string\n",
        "            resultado1 = '{:.2f}%'.format(resultado)\n",
        "\n",
        "            modelos_score[nome] = resultado1\n",
        "\n",
        "            md = pd.DataFrame(modelos_score,index=['Acurácia'])\n",
        "\n",
        "    return md\n",
        "\n",
        "treino_teste(models=models,x_teste=x_teste,y_teste=y_teste,x_treino=x_treino,y_treino=y_treino)\n"
      ]
    },
    {
      "cell_type": "markdown",
      "metadata": {
        "id": "j6mRsruIXziq"
      },
      "source": [
        "Função para rodar os modelos"
      ]
    },
    {
      "cell_type": "code",
      "execution_count": 79,
      "metadata": {
        "id": "LGmfZBUAXziq"
      },
      "outputs": [],
      "source": [
        "def predição(modelo,dados,dados1):\n",
        "    previsor = modelo.predict(dados)\n",
        "    print('\\n Acurácia: %.2f%%'%(accuracy_score(dados1,previsor)*100))\n",
        "    sns.set(font_scale=1.0)\n",
        "    plt.subplots(figsize=(2,2))\n",
        "    plt.title('Matriz de confusão')\n",
        "    ax = sns.heatmap(confusion_matrix(dados1,previsor),annot=True,cbar=False)\n",
        "    plt.xlabel('Rótolos verdadeiros')\n",
        "    plt.ylabel('Rótulos previstos')\n",
        "    print(f'\\nClassificação: \\n{classification_report(dados1,previsor)}')\n",
        "    plt.show()\n"
      ]
    },
    {
      "cell_type": "markdown",
      "metadata": {
        "id": "SPDmARQIXziq"
      },
      "source": [
        "Função para Validação cruzada"
      ]
    },
    {
      "cell_type": "code",
      "execution_count": 80,
      "metadata": {
        "id": "NP05mqo9Xziq"
      },
      "outputs": [],
      "source": [
        "def validacao_cruzada(modelo,base):\n",
        "    kf = KFold(n_splits=30,shuffle=True,random_state=5)\n",
        "\n",
        "    mod = modelo\n",
        "\n",
        "    resul = cross_val_score(mod,base,alvo,cv=kf)\n",
        "\n",
        "    print('Acurácia Média: %.2f%%'%(resul.mean()*100.0))"
      ]
    },
    {
      "cell_type": "markdown",
      "metadata": {
        "id": "ayM-_OEqXzir"
      },
      "source": [
        "Analisando o modelo de teste Naive bayes"
      ]
    },
    {
      "cell_type": "code",
      "execution_count": 81,
      "metadata": {
        "id": "EjzzIXhfXzir",
        "outputId": "39a7d180-0a6c-4ee7-ac67-d65fb0bfe6a5",
        "colab": {
          "base_uri": "https://localhost:8080/",
          "height": 491
        }
      },
      "outputs": [
        {
          "output_type": "stream",
          "name": "stdout",
          "text": [
            "\n",
            " Acurácia: 82.97%\n",
            "\n",
            "Classificação: \n",
            "              precision    recall  f1-score   support\n",
            "\n",
            "           0       0.78      0.81      0.80       113\n",
            "           1       0.87      0.84      0.85       163\n",
            "\n",
            "    accuracy                           0.83       276\n",
            "   macro avg       0.82      0.83      0.83       276\n",
            "weighted avg       0.83      0.83      0.83       276\n",
            "\n"
          ]
        },
        {
          "output_type": "display_data",
          "data": {
            "text/plain": [
              "<Figure size 200x200 with 1 Axes>"
            ],
            "image/png": "[encoded data removed]"
          },
          "metadata": {}
        }
      ],
      "source": [
        "predição(modelo=models['naive'],dados=x_teste,dados1=y_teste)"
      ]
    },
    {
      "cell_type": "markdown",
      "metadata": {
        "id": "UUGu_7ynXzir"
      },
      "source": [
        "Analisando o modelo de treino naive bayes"
      ]
    },
    {
      "cell_type": "code",
      "execution_count": 82,
      "metadata": {
        "id": "7JT4WJH8Xzir",
        "outputId": "5c00b552-d3ef-4eac-c214-94bcf03c5db8",
        "colab": {
          "base_uri": "https://localhost:8080/",
          "height": 491
        }
      },
      "outputs": [
        {
          "output_type": "stream",
          "name": "stdout",
          "text": [
            "\n",
            " Acurácia: 84.58%\n",
            "\n",
            "Classificação: \n",
            "              precision    recall  f1-score   support\n",
            "\n",
            "           0       0.83      0.85      0.84       297\n",
            "           1       0.86      0.85      0.86       345\n",
            "\n",
            "    accuracy                           0.85       642\n",
            "   macro avg       0.84      0.85      0.85       642\n",
            "weighted avg       0.85      0.85      0.85       642\n",
            "\n"
          ]
        },
        {
          "output_type": "display_data",
          "data": {
            "text/plain": [
              "<Figure size 200x200 with 1 Axes>"
            ],
            "image/png": "[encoded data removed]"
          },
          "metadata": {}
        }
      ],
      "source": [
        "predição(modelo=models['naive'],dados=x_treino,dados1=y_treino)"
      ]
    },
    {
      "cell_type": "markdown",
      "metadata": {
        "id": "olU8_YX6Xzir"
      },
      "source": [
        "Validação cruzada Naive Bayes"
      ]
    },
    {
      "cell_type": "code",
      "execution_count": 83,
      "metadata": {
        "id": "pYTr3VgPXzis",
        "outputId": "ecf04a31-5471-455d-e18f-a0fed63b8450",
        "colab": {
          "base_uri": "https://localhost:8080/"
        }
      },
      "outputs": [
        {
          "output_type": "stream",
          "name": "stdout",
          "text": [
            "Acurácia Média: 85.05%\n"
          ]
        }
      ],
      "source": [
        "validacao_cruzada(modelo=models['naive'],base=previsores1_esc)"
      ]
    },
    {
      "cell_type": "markdown",
      "metadata": {
        "id": "Ds7v3iX2Xzis"
      },
      "source": [
        "\n",
        "Analisando o modelo de treino SVC"
      ]
    },
    {
      "cell_type": "code",
      "execution_count": 84,
      "metadata": {
        "id": "MSeclcppXzis",
        "outputId": "12a3c1e4-ad57-44c8-cc8c-453f31ada8fc",
        "colab": {
          "base_uri": "https://localhost:8080/",
          "height": 491
        }
      },
      "outputs": [
        {
          "output_type": "stream",
          "name": "stdout",
          "text": [
            "\n",
            " Acurácia: 67.03%\n",
            "\n",
            "Classificação: \n",
            "              precision    recall  f1-score   support\n",
            "\n",
            "           0       0.59      0.61      0.60       113\n",
            "           1       0.72      0.71      0.72       163\n",
            "\n",
            "    accuracy                           0.67       276\n",
            "   macro avg       0.66      0.66      0.66       276\n",
            "weighted avg       0.67      0.67      0.67       276\n",
            "\n"
          ]
        },
        {
          "output_type": "display_data",
          "data": {
            "text/plain": [
              "<Figure size 200x200 with 1 Axes>"
            ],
            "image/png": "[encoded data removed]"
          },
          "metadata": {}
        }
      ],
      "source": [
        "predição(modelo=models['svc'],dados=x_teste,dados1=y_teste)"
      ]
    },
    {
      "cell_type": "markdown",
      "metadata": {
        "id": "icQp6kFgXzis"
      },
      "source": [
        "Analisando o modelo de treino SVC"
      ]
    },
    {
      "cell_type": "code",
      "execution_count": 85,
      "metadata": {
        "id": "f7x5l00fXzis",
        "outputId": "b429f4f6-cb54-457d-8adc-096bf246e712",
        "colab": {
          "base_uri": "https://localhost:8080/",
          "height": 491
        }
      },
      "outputs": [
        {
          "output_type": "stream",
          "name": "stdout",
          "text": [
            "\n",
            " Acurácia: 72.12%\n",
            "\n",
            "Classificação: \n",
            "              precision    recall  f1-score   support\n",
            "\n",
            "           0       0.71      0.67      0.69       297\n",
            "           1       0.73      0.76      0.75       345\n",
            "\n",
            "    accuracy                           0.72       642\n",
            "   macro avg       0.72      0.72      0.72       642\n",
            "weighted avg       0.72      0.72      0.72       642\n",
            "\n"
          ]
        },
        {
          "output_type": "display_data",
          "data": {
            "text/plain": [
              "<Figure size 200x200 with 1 Axes>"
            ],
            "image/png": "[encoded data removed]"
          },
          "metadata": {}
        }
      ],
      "source": [
        "predição(modelo=models['svc'],dados=x_treino,dados1=y_treino)"
      ]
    },
    {
      "cell_type": "markdown",
      "metadata": {
        "id": "-NWLmxuDXzit"
      },
      "source": [
        "Validação cruzada SVC"
      ]
    },
    {
      "cell_type": "code",
      "execution_count": 86,
      "metadata": {
        "id": "yOKdzCPkXzit",
        "outputId": "924939b4-6a41-4ba2-fe43-0c1f7f1c68b5",
        "colab": {
          "base_uri": "https://localhost:8080/"
        }
      },
      "outputs": [
        {
          "output_type": "stream",
          "name": "stdout",
          "text": [
            "Acurácia Média: 86.04%\n"
          ]
        }
      ],
      "source": [
        "validacao_cruzada(modelo=models['svc'],base=previsores1_esc)"
      ]
    },
    {
      "cell_type": "markdown",
      "metadata": {
        "id": "qOQG7ZM2Xzit"
      },
      "source": [
        "Analisando o modelo de teste LogisticRegression"
      ]
    },
    {
      "cell_type": "code",
      "execution_count": 87,
      "metadata": {
        "id": "u5bDgpPDXzit",
        "outputId": "f3bb209f-cd2d-43f2-f336-b57820361a04",
        "colab": {
          "base_uri": "https://localhost:8080/",
          "height": 491
        }
      },
      "outputs": [
        {
          "output_type": "stream",
          "name": "stdout",
          "text": [
            "\n",
            " Acurácia: 84.06%\n",
            "\n",
            "Classificação: \n",
            "              precision    recall  f1-score   support\n",
            "\n",
            "           0       0.81      0.80      0.80       113\n",
            "           1       0.86      0.87      0.87       163\n",
            "\n",
            "    accuracy                           0.84       276\n",
            "   macro avg       0.84      0.83      0.83       276\n",
            "weighted avg       0.84      0.84      0.84       276\n",
            "\n"
          ]
        },
        {
          "output_type": "display_data",
          "data": {
            "text/plain": [
              "<Figure size 200x200 with 1 Axes>"
            ],
            "image/png": "[encoded data removed]"
          },
          "metadata": {}
        }
      ],
      "source": [
        "predição(modelo=models['Logistica'],dados=x_teste,dados1=y_teste)"
      ]
    },
    {
      "cell_type": "markdown",
      "metadata": {
        "id": "zjzrsIfeXziu"
      },
      "source": [
        "Analisando o modelo de treino LogisticRegression"
      ]
    },
    {
      "cell_type": "code",
      "execution_count": 88,
      "metadata": {
        "id": "0rF_g2LzXziu",
        "outputId": "0718dc34-5008-4eb0-94ff-60d01e091a4e",
        "colab": {
          "base_uri": "https://localhost:8080/",
          "height": 491
        }
      },
      "outputs": [
        {
          "output_type": "stream",
          "name": "stdout",
          "text": [
            "\n",
            " Acurácia: 85.05%\n",
            "\n",
            "Classificação: \n",
            "              precision    recall  f1-score   support\n",
            "\n",
            "           0       0.83      0.85      0.84       297\n",
            "           1       0.87      0.86      0.86       345\n",
            "\n",
            "    accuracy                           0.85       642\n",
            "   macro avg       0.85      0.85      0.85       642\n",
            "weighted avg       0.85      0.85      0.85       642\n",
            "\n"
          ]
        },
        {
          "output_type": "display_data",
          "data": {
            "text/plain": [
              "<Figure size 200x200 with 1 Axes>"
            ],
            "image/png": "[encoded data removed]"
          },
          "metadata": {}
        }
      ],
      "source": [
        "predição(modelo=models['Logistica'],dados=x_treino,dados1=y_treino)"
      ]
    },
    {
      "cell_type": "markdown",
      "metadata": {
        "id": "_VsRlpttXziu"
      },
      "source": [
        "Analisando validação cruzada"
      ]
    },
    {
      "cell_type": "code",
      "execution_count": 89,
      "metadata": {
        "id": "IOZ20ME0Xziu",
        "outputId": "00ec8c95-46f4-442d-f221-e6a844b56e11",
        "colab": {
          "base_uri": "https://localhost:8080/"
        }
      },
      "outputs": [
        {
          "output_type": "stream",
          "name": "stdout",
          "text": [
            "Acurácia Média: 85.82%\n"
          ]
        }
      ],
      "source": [
        "validacao_cruzada(modelo=models['Logistica'],base=previsores1_esc)"
      ]
    },
    {
      "cell_type": "markdown",
      "metadata": {
        "id": "GzybjLOFXziv"
      },
      "source": [
        "Analisando o modelo de teste KNN"
      ]
    },
    {
      "cell_type": "code",
      "execution_count": 90,
      "metadata": {
        "id": "ep3RjQBxXziv",
        "outputId": "e877dbc7-2396-4e46-c77a-cb2b0d496c05",
        "colab": {
          "base_uri": "https://localhost:8080/",
          "height": 491
        }
      },
      "outputs": [
        {
          "output_type": "stream",
          "name": "stdout",
          "text": [
            "\n",
            " Acurácia: 67.39%\n",
            "\n",
            "Classificação: \n",
            "              precision    recall  f1-score   support\n",
            "\n",
            "           0       0.60      0.62      0.61       113\n",
            "           1       0.73      0.71      0.72       163\n",
            "\n",
            "    accuracy                           0.67       276\n",
            "   macro avg       0.66      0.67      0.66       276\n",
            "weighted avg       0.68      0.67      0.67       276\n",
            "\n"
          ]
        },
        {
          "output_type": "display_data",
          "data": {
            "text/plain": [
              "<Figure size 200x200 with 1 Axes>"
            ],
            "image/png": "[encoded data removed]"
          },
          "metadata": {}
        }
      ],
      "source": [
        "predição(modelo=models['knn'],dados=x_teste,dados1=y_teste)"
      ]
    },
    {
      "cell_type": "markdown",
      "metadata": {
        "id": "B2Q8CsSHXziv"
      },
      "source": [
        "Analisando o modelo de treino KNN"
      ]
    },
    {
      "cell_type": "code",
      "execution_count": 91,
      "metadata": {
        "id": "Th8rW7RPXziv",
        "outputId": "4de39d06-3c2b-4b47-8cd2-1eaba6d49aad",
        "colab": {
          "base_uri": "https://localhost:8080/",
          "height": 491
        }
      },
      "outputs": [
        {
          "output_type": "stream",
          "name": "stdout",
          "text": [
            "\n",
            " Acurácia: 76.95%\n",
            "\n",
            "Classificação: \n",
            "              precision    recall  f1-score   support\n",
            "\n",
            "           0       0.77      0.71      0.74       297\n",
            "           1       0.77      0.82      0.79       345\n",
            "\n",
            "    accuracy                           0.77       642\n",
            "   macro avg       0.77      0.77      0.77       642\n",
            "weighted avg       0.77      0.77      0.77       642\n",
            "\n"
          ]
        },
        {
          "output_type": "display_data",
          "data": {
            "text/plain": [
              "<Figure size 200x200 with 1 Axes>"
            ],
            "image/png": "[encoded data removed]"
          },
          "metadata": {}
        }
      ],
      "source": [
        "predição(modelo=models['knn'],dados=x_treino,dados1=y_treino)"
      ]
    },
    {
      "cell_type": "markdown",
      "metadata": {
        "id": "noV5mZb4Xziv"
      },
      "source": [
        "Analisando Validação Cruzada"
      ]
    },
    {
      "cell_type": "code",
      "execution_count": 92,
      "metadata": {
        "id": "woPg_gvbXziw",
        "outputId": "d2189b4b-6fd9-44bd-b817-6d87c0427a05",
        "colab": {
          "base_uri": "https://localhost:8080/"
        }
      },
      "outputs": [
        {
          "output_type": "stream",
          "name": "stdout",
          "text": [
            "Acurácia Média: 85.82%\n"
          ]
        }
      ],
      "source": [
        "validacao_cruzada(modelo=models['Logistica'],base=previsores1_esc)"
      ]
    },
    {
      "cell_type": "markdown",
      "metadata": {
        "id": "2YnBOHNSXziw"
      },
      "source": [
        "Analisando o modelo teste com Arvore de decisão"
      ]
    },
    {
      "cell_type": "code",
      "execution_count": 93,
      "metadata": {
        "id": "QrpR8yDBXziw",
        "outputId": "0e0c2a5e-3d62-49c3-869f-96a981822cd0",
        "colab": {
          "base_uri": "https://localhost:8080/",
          "height": 491
        }
      },
      "outputs": [
        {
          "output_type": "stream",
          "name": "stdout",
          "text": [
            "\n",
            " Acurácia: 81.88%\n",
            "\n",
            "Classificação: \n",
            "              precision    recall  f1-score   support\n",
            "\n",
            "           0       0.77      0.79      0.78       113\n",
            "           1       0.85      0.84      0.85       163\n",
            "\n",
            "    accuracy                           0.82       276\n",
            "   macro avg       0.81      0.81      0.81       276\n",
            "weighted avg       0.82      0.82      0.82       276\n",
            "\n"
          ]
        },
        {
          "output_type": "display_data",
          "data": {
            "text/plain": [
              "<Figure size 200x200 with 1 Axes>"
            ],
            "image/png": "[encoded data removed]"
          },
          "metadata": {}
        }
      ],
      "source": [
        "predição(modelo=models['Arvore'],dados=x_teste,dados1=y_teste)"
      ]
    },
    {
      "cell_type": "markdown",
      "metadata": {
        "id": "eTvhiR8FXziw"
      },
      "source": [
        "Analisando o modelo de treino com arvore de decisão"
      ]
    },
    {
      "cell_type": "code",
      "execution_count": 94,
      "metadata": {
        "id": "GHqSP7ROXziw",
        "outputId": "9ddcc5ca-2a72-418f-eea0-c3e8cc84f5d0",
        "colab": {
          "base_uri": "https://localhost:8080/",
          "height": 491
        }
      },
      "outputs": [
        {
          "output_type": "stream",
          "name": "stdout",
          "text": [
            "\n",
            " Acurácia: 86.92%\n",
            "\n",
            "Classificação: \n",
            "              precision    recall  f1-score   support\n",
            "\n",
            "           0       0.87      0.84      0.86       297\n",
            "           1       0.87      0.89      0.88       345\n",
            "\n",
            "    accuracy                           0.87       642\n",
            "   macro avg       0.87      0.87      0.87       642\n",
            "weighted avg       0.87      0.87      0.87       642\n",
            "\n"
          ]
        },
        {
          "output_type": "display_data",
          "data": {
            "text/plain": [
              "<Figure size 200x200 with 1 Axes>"
            ],
            "image/png": "[encoded data removed]"
          },
          "metadata": {}
        }
      ],
      "source": [
        "predição(modelo=models['Arvore'],dados=x_treino,dados1=y_treino)"
      ]
    },
    {
      "cell_type": "markdown",
      "metadata": {
        "id": "MX5cEA5SXzix"
      },
      "source": [
        "Analisando a validação cruzada arvore de decisão"
      ]
    },
    {
      "cell_type": "code",
      "execution_count": 95,
      "metadata": {
        "id": "75_Y00Q_Xzix",
        "outputId": "9c73d669-d815-4beb-e4f0-ad36dd67d246",
        "colab": {
          "base_uri": "https://localhost:8080/"
        }
      },
      "outputs": [
        {
          "output_type": "stream",
          "name": "stdout",
          "text": [
            "Acurácia Média: 83.00%\n"
          ]
        }
      ],
      "source": [
        "validacao_cruzada(modelo=models['Arvore'],base=previsores1_esc)"
      ]
    },
    {
      "cell_type": "markdown",
      "metadata": {
        "id": "Sv5Q5m9uXzix"
      },
      "source": [
        "Analisando o modelo de teste Random Forest"
      ]
    },
    {
      "cell_type": "code",
      "execution_count": 96,
      "metadata": {
        "id": "lERm6B9IXzix",
        "outputId": "3e843895-043a-43c8-ab4b-edf5ac2bd060",
        "colab": {
          "base_uri": "https://localhost:8080/",
          "height": 491
        }
      },
      "outputs": [
        {
          "output_type": "stream",
          "name": "stdout",
          "text": [
            "\n",
            " Acurácia: 81.88%\n",
            "\n",
            "Classificação: \n",
            "              precision    recall  f1-score   support\n",
            "\n",
            "           0       0.77      0.79      0.78       113\n",
            "           1       0.85      0.84      0.85       163\n",
            "\n",
            "    accuracy                           0.82       276\n",
            "   macro avg       0.81      0.81      0.81       276\n",
            "weighted avg       0.82      0.82      0.82       276\n",
            "\n"
          ]
        },
        {
          "output_type": "display_data",
          "data": {
            "text/plain": [
              "<Figure size 200x200 with 1 Axes>"
            ],
            "image/png": "[encoded data removed]"
          },
          "metadata": {}
        }
      ],
      "source": [
        "predição(modelo=models['Arvore'],dados=x_teste,dados1=y_teste)"
      ]
    },
    {
      "cell_type": "markdown",
      "metadata": {
        "id": "DWmUvsk7Xzix"
      },
      "source": [
        "Analisando o modelo de treino Random Forest"
      ]
    },
    {
      "cell_type": "code",
      "execution_count": 97,
      "metadata": {
        "id": "j6lNn81EXziy",
        "outputId": "116006e2-9e54-4001-b5f3-e29233d06888",
        "colab": {
          "base_uri": "https://localhost:8080/",
          "height": 491
        }
      },
      "outputs": [
        {
          "output_type": "stream",
          "name": "stdout",
          "text": [
            "\n",
            " Acurácia: 88.01%\n",
            "\n",
            "Classificação: \n",
            "              precision    recall  f1-score   support\n",
            "\n",
            "           0       0.89      0.84      0.87       297\n",
            "           1       0.87      0.91      0.89       345\n",
            "\n",
            "    accuracy                           0.88       642\n",
            "   macro avg       0.88      0.88      0.88       642\n",
            "weighted avg       0.88      0.88      0.88       642\n",
            "\n"
          ]
        },
        {
          "output_type": "display_data",
          "data": {
            "text/plain": [
              "<Figure size 200x200 with 1 Axes>"
            ],
            "image/png": "[encoded data removed]"
          },
          "metadata": {}
        }
      ],
      "source": [
        "predição(modelo=models['random'],dados=x_treino,dados1=y_treino)"
      ]
    },
    {
      "cell_type": "markdown",
      "metadata": {
        "id": "wEkeDCFeXziy"
      },
      "source": [
        "Analisando validação cruzada Random Forest"
      ]
    },
    {
      "cell_type": "code",
      "execution_count": 98,
      "metadata": {
        "id": "FGESreBNXziy",
        "outputId": "e3670ab2-3afc-4ab0-fb87-be7be3ab7a44",
        "colab": {
          "base_uri": "https://localhost:8080/"
        }
      },
      "outputs": [
        {
          "output_type": "stream",
          "name": "stdout",
          "text": [
            "Acurácia Média: 85.41%\n"
          ]
        }
      ],
      "source": [
        "validacao_cruzada(modelo=models['random'],base=previsores1_esc)"
      ]
    },
    {
      "cell_type": "markdown",
      "metadata": {
        "id": "Ipf2L_QhXziy"
      },
      "source": [
        "Analisando modelo de teste xgboost"
      ]
    },
    {
      "cell_type": "code",
      "execution_count": 99,
      "metadata": {
        "id": "UNpqANdIXziz",
        "outputId": "0c16dbf2-a370-49f4-a8da-ea3e09574e99",
        "colab": {
          "base_uri": "https://localhost:8080/",
          "height": 491
        }
      },
      "outputs": [
        {
          "output_type": "stream",
          "name": "stdout",
          "text": [
            "\n",
            " Acurácia: 84.06%\n",
            "\n",
            "Classificação: \n",
            "              precision    recall  f1-score   support\n",
            "\n",
            "           0       0.82      0.79      0.80       113\n",
            "           1       0.86      0.88      0.87       163\n",
            "\n",
            "    accuracy                           0.84       276\n",
            "   macro avg       0.84      0.83      0.83       276\n",
            "weighted avg       0.84      0.84      0.84       276\n",
            "\n"
          ]
        },
        {
          "output_type": "display_data",
          "data": {
            "text/plain": [
              "<Figure size 200x200 with 1 Axes>"
            ],
            "image/png": "[encoded data removed]"
          },
          "metadata": {}
        }
      ],
      "source": [
        "predição(modelo=models['xgboost'],dados=x_teste,dados1=y_teste)"
      ]
    },
    {
      "cell_type": "markdown",
      "metadata": {
        "id": "Q_IGOPa-Xziz"
      },
      "source": [
        "Analisando modelo de treino xgboost"
      ]
    },
    {
      "cell_type": "code",
      "execution_count": 100,
      "metadata": {
        "id": "XshSmIUKXziz",
        "outputId": "011dcd83-6805-45b0-f4ce-d164300e7624",
        "colab": {
          "base_uri": "https://localhost:8080/",
          "height": 491
        }
      },
      "outputs": [
        {
          "output_type": "stream",
          "name": "stdout",
          "text": [
            "\n",
            " Acurácia: 91.59%\n",
            "\n",
            "Classificação: \n",
            "              precision    recall  f1-score   support\n",
            "\n",
            "           0       0.92      0.90      0.91       297\n",
            "           1       0.91      0.93      0.92       345\n",
            "\n",
            "    accuracy                           0.92       642\n",
            "   macro avg       0.92      0.91      0.92       642\n",
            "weighted avg       0.92      0.92      0.92       642\n",
            "\n"
          ]
        },
        {
          "output_type": "display_data",
          "data": {
            "text/plain": [
              "<Figure size 200x200 with 1 Axes>"
            ],
            "image/png": "[encoded data removed]"
          },
          "metadata": {}
        }
      ],
      "source": [
        "predição(modelo=models['xgboost'],dados=x_treino,dados1=y_treino)"
      ]
    },
    {
      "cell_type": "markdown",
      "metadata": {
        "id": "JzNTJ0J0Xziz"
      },
      "source": [
        "Analisando validação cruzada xgboost"
      ]
    },
    {
      "cell_type": "code",
      "execution_count": 101,
      "metadata": {
        "id": "PZQCFnHmXziz",
        "outputId": "e1998c26-8c9a-4677-b0b7-be11fc1c4377",
        "colab": {
          "base_uri": "https://localhost:8080/"
        }
      },
      "outputs": [
        {
          "output_type": "stream",
          "name": "stdout",
          "text": [
            "Acurácia Média: 87.02%\n"
          ]
        }
      ],
      "source": [
        "validacao_cruzada(modelo=models['xgboost'],base=previsores1_esc)"
      ]
    },
    {
      "cell_type": "markdown",
      "metadata": {
        "id": "YW09or1FXzi0"
      },
      "source": [
        "Analisando o modelo ligthgbm"
      ]
    },
    {
      "cell_type": "code",
      "execution_count": 102,
      "metadata": {
        "id": "v30Xv5HCXzi0",
        "outputId": "5a404019-9150-461e-f4e3-e8acbc56268f",
        "colab": {
          "base_uri": "https://localhost:8080/"
        }
      },
      "outputs": [
        {
          "output_type": "stream",
          "name": "stdout",
          "text": [
            "[LightGBM] [Info] Number of positive: 345, number of negative: 297\n",
            "[LightGBM] [Info] Auto-choosing row-wise multi-threading, the overhead of testing was 0.000343 seconds.\n",
            "You can set `force_row_wise=true` to remove the overhead.\n",
            "And if memory is not enough, you can set `force_col_wise=true`.\n",
            "[LightGBM] [Info] Total Bins 352\n",
            "[LightGBM] [Info] Number of data points in the train set: 642, number of used features: 11\n",
            "[LightGBM] [Info] [binary:BoostFromScore]: pavg=0.537383 -> initscore=0.149812\n",
            "[LightGBM] [Info] Start training from score 0.149812\n",
            "[LightGBM] [Warning] No further splits with positive gain, best gain: -inf\n",
            "[LightGBM] [Warning] No further splits with positive gain, best gain: -inf\n",
            "[LightGBM] [Warning] No further splits with positive gain, best gain: -inf\n",
            "[LightGBM] [Warning] No further splits with positive gain, best gain: -inf\n",
            "[LightGBM] [Warning] No further splits with positive gain, best gain: -inf\n"
          ]
        }
      ],
      "source": [
        "dataset = lgb.Dataset(x_treino,label=y_treino)\n",
        "parametros = {'num_leaves':200, # numero de folha\n",
        "              'objective': 'binary', # classificação Binaria\n",
        "              'max_depth': 2,\n",
        "              'learning_rate': .05,\n",
        "              'max_bin': 200}\n",
        "lgbm = lgb.train(parametros,dataset,num_boost_round=150)\n",
        "\n",
        "def ligth (mod,dd1,dd):\n",
        "    previ_lgbm = np.round(mod.predict(dd1))\n",
        "\n",
        "    print('\\n Acurácia: %.2f%%'%(accuracy_score(dd,previ_lgbm)*100))\n",
        "    sns.set(font_scale=1.0)\n",
        "    plt.subplots(figsize=(2,2))\n",
        "    plt.title('Matriz de confusão')\n",
        "    ax = sns.heatmap(confusion_matrix(dd,previ_lgbm),annot=True,cbar=False)\n",
        "    plt.xlabel('Rótolos verdadeiros')\n",
        "    plt.ylabel('Rótulos previstos')\n",
        "    print(f'\\nClassificação: \\n{classification_report(dd,previ_lgbm)}')\n"
      ]
    },
    {
      "cell_type": "markdown",
      "metadata": {
        "id": "IU7TO_8lXzi0"
      },
      "source": [
        "Analisando o modelo de teste ligthgbm"
      ]
    },
    {
      "cell_type": "code",
      "execution_count": 103,
      "metadata": {
        "id": "VZdOT0pyXzi0",
        "outputId": "0f141acf-0391-4e3a-bb4a-02cd06f7df95",
        "colab": {
          "base_uri": "https://localhost:8080/",
          "height": 491
        }
      },
      "outputs": [
        {
          "output_type": "stream",
          "name": "stdout",
          "text": [
            "\n",
            " Acurácia: 84.42%\n",
            "\n",
            "Classificação: \n",
            "              precision    recall  f1-score   support\n",
            "\n",
            "           0       0.82      0.80      0.81       113\n",
            "           1       0.86      0.88      0.87       163\n",
            "\n",
            "    accuracy                           0.84       276\n",
            "   macro avg       0.84      0.84      0.84       276\n",
            "weighted avg       0.84      0.84      0.84       276\n",
            "\n"
          ]
        },
        {
          "output_type": "display_data",
          "data": {
            "text/plain": [
              "<Figure size 200x200 with 1 Axes>"
            ],
            "image/png": "[encoded data removed]"
          },
          "metadata": {}
        }
      ],
      "source": [
        "ligth(mod=lgbm,dd1=x_teste,dd=y_teste)"
      ]
    },
    {
      "cell_type": "markdown",
      "metadata": {
        "id": "-HS1jI6FXzi1"
      },
      "source": [
        "Analisando o modelo de treino ligthgbm"
      ]
    },
    {
      "cell_type": "code",
      "execution_count": 104,
      "metadata": {
        "id": "wCKeaqs9Xzi1",
        "outputId": "bb1733db-e5c4-4ffb-e7d5-85ab31d601e0",
        "colab": {
          "base_uri": "https://localhost:8080/",
          "height": 491
        }
      },
      "outputs": [
        {
          "output_type": "stream",
          "name": "stdout",
          "text": [
            "\n",
            " Acurácia: 90.97%\n",
            "\n",
            "Classificação: \n",
            "              precision    recall  f1-score   support\n",
            "\n",
            "           0       0.92      0.89      0.90       297\n",
            "           1       0.90      0.93      0.92       345\n",
            "\n",
            "    accuracy                           0.91       642\n",
            "   macro avg       0.91      0.91      0.91       642\n",
            "weighted avg       0.91      0.91      0.91       642\n",
            "\n"
          ]
        },
        {
          "output_type": "display_data",
          "data": {
            "text/plain": [
              "<Figure size 200x200 with 1 Axes>"
            ],
            "image/png": "[encoded data removed]"
          },
          "metadata": {}
        }
      ],
      "source": [
        "ligth(mod=lgbm,dd1=x_treino,dd=y_treino)"
      ]
    },
    {
      "cell_type": "markdown",
      "metadata": {
        "id": "uhV9EMVUXzi1"
      },
      "source": [
        "Analisando validação cruzada"
      ]
    },
    {
      "cell_type": "code",
      "execution_count": 105,
      "metadata": {
        "id": "8n4Vxw9MXzi1",
        "outputId": "999f8bc4-5161-4b59-fa44-d8ddc85a188b",
        "colab": {
          "base_uri": "https://localhost:8080/"
        }
      },
      "outputs": [
        {
          "output_type": "stream",
          "name": "stdout",
          "text": [
            "[LightGBM] [Info] Number of positive: 490, number of negative: 397\n",
            "[LightGBM] [Info] Auto-choosing row-wise multi-threading, the overhead of testing was 0.000147 seconds.\n",
            "You can set `force_row_wise=true` to remove the overhead.\n",
            "And if memory is not enough, you can set `force_col_wise=true`.\n",
            "[LightGBM] [Info] Total Bins 434\n",
            "[LightGBM] [Info] Number of data points in the train set: 887, number of used features: 11\n",
            "[LightGBM] [Info] [binary:BoostFromScore]: pavg=0.552424 -> initscore=0.210469\n",
            "[LightGBM] [Info] Start training from score 0.210469\n",
            "[LightGBM] [Info] Number of positive: 490, number of negative: 397\n",
            "[LightGBM] [Info] Auto-choosing col-wise multi-threading, the overhead of testing was 0.000271 seconds.\n",
            "You can set `force_col_wise=true` to remove the overhead.\n",
            "[LightGBM] [Info] Total Bins 438\n",
            "[LightGBM] [Info] Number of data points in the train set: 887, number of used features: 11\n",
            "[LightGBM] [Info] [binary:BoostFromScore]: pavg=0.552424 -> initscore=0.210469\n",
            "[LightGBM] [Info] Start training from score 0.210469\n",
            "[LightGBM] [Info] Number of positive: 487, number of negative: 400\n",
            "[LightGBM] [Info] Auto-choosing col-wise multi-threading, the overhead of testing was 0.000322 seconds.\n",
            "You can set `force_col_wise=true` to remove the overhead.\n",
            "[LightGBM] [Info] Total Bins 438\n",
            "[LightGBM] [Info] Number of data points in the train set: 887, number of used features: 11\n",
            "[LightGBM] [Info] [binary:BoostFromScore]: pavg=0.549042 -> initscore=0.196800\n",
            "[LightGBM] [Info] Start training from score 0.196800\n",
            "[LightGBM] [Info] Number of positive: 487, number of negative: 400\n",
            "[LightGBM] [Info] Auto-choosing row-wise multi-threading, the overhead of testing was 0.000142 seconds.\n",
            "You can set `force_row_wise=true` to remove the overhead.\n",
            "And if memory is not enough, you can set `force_col_wise=true`.\n",
            "[LightGBM] [Info] Total Bins 437\n",
            "[LightGBM] [Info] Number of data points in the train set: 887, number of used features: 11\n",
            "[LightGBM] [Info] [binary:BoostFromScore]: pavg=0.549042 -> initscore=0.196800\n",
            "[LightGBM] [Info] Start training from score 0.196800\n",
            "[LightGBM] [Info] Number of positive: 489, number of negative: 398\n",
            "[LightGBM] [Info] Auto-choosing row-wise multi-threading, the overhead of testing was 0.000135 seconds.\n",
            "You can set `force_row_wise=true` to remove the overhead.\n",
            "And if memory is not enough, you can set `force_col_wise=true`.\n",
            "[LightGBM] [Info] Total Bins 433\n",
            "[LightGBM] [Info] Number of data points in the train set: 887, number of used features: 11\n",
            "[LightGBM] [Info] [binary:BoostFromScore]: pavg=0.551297 -> initscore=0.205910\n",
            "[LightGBM] [Info] Start training from score 0.205910\n",
            "[LightGBM] [Info] Number of positive: 494, number of negative: 393\n",
            "[LightGBM] [Info] Auto-choosing col-wise multi-threading, the overhead of testing was 0.000385 seconds.\n",
            "You can set `force_col_wise=true` to remove the overhead.\n",
            "[LightGBM] [Info] Total Bins 436\n",
            "[LightGBM] [Info] Number of data points in the train set: 887, number of used features: 11\n",
            "[LightGBM] [Info] [binary:BoostFromScore]: pavg=0.556933 -> initscore=0.228726\n",
            "[LightGBM] [Info] Start training from score 0.228726\n",
            "[LightGBM] [Info] Number of positive: 494, number of negative: 393\n",
            "[LightGBM] [Info] Auto-choosing row-wise multi-threading, the overhead of testing was 0.000158 seconds.\n",
            "You can set `force_row_wise=true` to remove the overhead.\n",
            "And if memory is not enough, you can set `force_col_wise=true`.\n",
            "[LightGBM] [Info] Total Bins 438\n",
            "[LightGBM] [Info] Number of data points in the train set: 887, number of used features: 11\n",
            "[LightGBM] [Info] [binary:BoostFromScore]: pavg=0.556933 -> initscore=0.228726\n",
            "[LightGBM] [Info] Start training from score 0.228726\n",
            "[LightGBM] [Info] Number of positive: 491, number of negative: 396\n",
            "[LightGBM] [Info] Auto-choosing row-wise multi-threading, the overhead of testing was 0.000134 seconds.\n",
            "You can set `force_row_wise=true` to remove the overhead.\n",
            "And if memory is not enough, you can set `force_col_wise=true`.\n",
            "[LightGBM] [Info] Total Bins 436\n",
            "[LightGBM] [Info] Number of data points in the train set: 887, number of used features: 11\n",
            "[LightGBM] [Info] [binary:BoostFromScore]: pavg=0.553551 -> initscore=0.215030\n",
            "[LightGBM] [Info] Start training from score 0.215030\n",
            "[LightGBM] [Info] Number of positive: 490, number of negative: 397\n",
            "[LightGBM] [Info] Auto-choosing row-wise multi-threading, the overhead of testing was 0.000141 seconds.\n",
            "You can set `force_row_wise=true` to remove the overhead.\n",
            "And if memory is not enough, you can set `force_col_wise=true`.\n",
            "[LightGBM] [Info] Total Bins 437\n",
            "[LightGBM] [Info] Number of data points in the train set: 887, number of used features: 11\n",
            "[LightGBM] [Info] [binary:BoostFromScore]: pavg=0.552424 -> initscore=0.210469\n",
            "[LightGBM] [Info] Start training from score 0.210469\n",
            "[LightGBM] [Info] Number of positive: 492, number of negative: 395\n",
            "[LightGBM] [Info] Auto-choosing row-wise multi-threading, the overhead of testing was 0.000132 seconds.\n",
            "You can set `force_row_wise=true` to remove the overhead.\n",
            "And if memory is not enough, you can set `force_col_wise=true`.\n",
            "[LightGBM] [Info] Total Bins 438\n",
            "[LightGBM] [Info] Number of data points in the train set: 887, number of used features: 11\n",
            "[LightGBM] [Info] [binary:BoostFromScore]: pavg=0.554679 -> initscore=0.219593\n",
            "[LightGBM] [Info] Start training from score 0.219593\n",
            "[LightGBM] [Info] Number of positive: 491, number of negative: 396\n",
            "[LightGBM] [Info] Auto-choosing row-wise multi-threading, the overhead of testing was 0.000141 seconds.\n",
            "You can set `force_row_wise=true` to remove the overhead.\n",
            "And if memory is not enough, you can set `force_col_wise=true`.\n",
            "[LightGBM] [Info] Total Bins 437\n",
            "[LightGBM] [Info] Number of data points in the train set: 887, number of used features: 11\n",
            "[LightGBM] [Info] [binary:BoostFromScore]: pavg=0.553551 -> initscore=0.215030\n",
            "[LightGBM] [Info] Start training from score 0.215030\n",
            "[LightGBM] [Info] Number of positive: 486, number of negative: 401\n",
            "[LightGBM] [Info] Auto-choosing row-wise multi-threading, the overhead of testing was 0.000143 seconds.\n",
            "You can set `force_row_wise=true` to remove the overhead.\n",
            "And if memory is not enough, you can set `force_col_wise=true`.\n",
            "[LightGBM] [Info] Total Bins 439\n",
            "[LightGBM] [Info] Number of data points in the train set: 887, number of used features: 11\n",
            "[LightGBM] [Info] [binary:BoostFromScore]: pavg=0.547914 -> initscore=0.192247\n",
            "[LightGBM] [Info] Start training from score 0.192247\n",
            "[LightGBM] [Info] Number of positive: 491, number of negative: 396\n",
            "[LightGBM] [Info] Auto-choosing col-wise multi-threading, the overhead of testing was 0.000205 seconds.\n",
            "You can set `force_col_wise=true` to remove the overhead.\n",
            "[LightGBM] [Info] Total Bins 436\n",
            "[LightGBM] [Info] Number of data points in the train set: 887, number of used features: 11\n",
            "[LightGBM] [Info] [binary:BoostFromScore]: pavg=0.553551 -> initscore=0.215030\n",
            "[LightGBM] [Info] Start training from score 0.215030\n",
            "[LightGBM] [Info] Number of positive: 489, number of negative: 398\n",
            "[LightGBM] [Info] Auto-choosing row-wise multi-threading, the overhead of testing was 0.000144 seconds.\n",
            "You can set `force_row_wise=true` to remove the overhead.\n",
            "And if memory is not enough, you can set `force_col_wise=true`.\n",
            "[LightGBM] [Info] Total Bins 436\n",
            "[LightGBM] [Info] Number of data points in the train set: 887, number of used features: 11\n",
            "[LightGBM] [Info] [binary:BoostFromScore]: pavg=0.551297 -> initscore=0.205910\n",
            "[LightGBM] [Info] Start training from score 0.205910\n",
            "[LightGBM] [Info] Number of positive: 494, number of negative: 393\n",
            "[LightGBM] [Info] Auto-choosing col-wise multi-threading, the overhead of testing was 0.000210 seconds.\n",
            "You can set `force_col_wise=true` to remove the overhead.\n",
            "[LightGBM] [Info] Total Bins 438\n",
            "[LightGBM] [Info] Number of data points in the train set: 887, number of used features: 11\n",
            "[LightGBM] [Info] [binary:BoostFromScore]: pavg=0.556933 -> initscore=0.228726\n",
            "[LightGBM] [Info] Start training from score 0.228726\n",
            "[LightGBM] [Info] Number of positive: 494, number of negative: 393\n",
            "[LightGBM] [Info] Auto-choosing row-wise multi-threading, the overhead of testing was 0.000128 seconds.\n",
            "You can set `force_row_wise=true` to remove the overhead.\n",
            "And if memory is not enough, you can set `force_col_wise=true`.\n",
            "[LightGBM] [Info] Total Bins 436\n",
            "[LightGBM] [Info] Number of data points in the train set: 887, number of used features: 11\n",
            "[LightGBM] [Info] [binary:BoostFromScore]: pavg=0.556933 -> initscore=0.228726\n",
            "[LightGBM] [Info] Start training from score 0.228726\n",
            "[LightGBM] [Info] Number of positive: 487, number of negative: 400\n",
            "[LightGBM] [Info] Auto-choosing row-wise multi-threading, the overhead of testing was 0.000151 seconds.\n",
            "You can set `force_row_wise=true` to remove the overhead.\n",
            "And if memory is not enough, you can set `force_col_wise=true`.\n",
            "[LightGBM] [Info] Total Bins 437\n",
            "[LightGBM] [Info] Number of data points in the train set: 887, number of used features: 11\n",
            "[LightGBM] [Info] [binary:BoostFromScore]: pavg=0.549042 -> initscore=0.196800\n",
            "[LightGBM] [Info] Start training from score 0.196800\n",
            "[LightGBM] [Info] Number of positive: 489, number of negative: 398\n",
            "[LightGBM] [Info] Auto-choosing col-wise multi-threading, the overhead of testing was 0.000262 seconds.\n",
            "You can set `force_col_wise=true` to remove the overhead.\n",
            "[LightGBM] [Info] Total Bins 436\n",
            "[LightGBM] [Info] Number of data points in the train set: 887, number of used features: 11\n",
            "[LightGBM] [Info] [binary:BoostFromScore]: pavg=0.551297 -> initscore=0.205910\n",
            "[LightGBM] [Info] Start training from score 0.205910\n",
            "[LightGBM] [Info] Number of positive: 490, number of negative: 398\n",
            "[LightGBM] [Info] Auto-choosing row-wise multi-threading, the overhead of testing was 0.000145 seconds.\n",
            "You can set `force_row_wise=true` to remove the overhead.\n",
            "And if memory is not enough, you can set `force_col_wise=true`.\n",
            "[LightGBM] [Info] Total Bins 437\n",
            "[LightGBM] [Info] Number of data points in the train set: 888, number of used features: 11\n",
            "[LightGBM] [Info] [binary:BoostFromScore]: pavg=0.551802 -> initscore=0.207953\n",
            "[LightGBM] [Info] Start training from score 0.207953\n",
            "[LightGBM] [Info] Number of positive: 491, number of negative: 397\n",
            "[LightGBM] [Info] Auto-choosing row-wise multi-threading, the overhead of testing was 0.000134 seconds.\n",
            "You can set `force_row_wise=true` to remove the overhead.\n",
            "And if memory is not enough, you can set `force_col_wise=true`.\n",
            "[LightGBM] [Info] Total Bins 436\n",
            "[LightGBM] [Info] Number of data points in the train set: 888, number of used features: 11\n",
            "[LightGBM] [Info] [binary:BoostFromScore]: pavg=0.552928 -> initscore=0.212508\n",
            "[LightGBM] [Info] Start training from score 0.212508\n",
            "[LightGBM] [Info] Number of positive: 492, number of negative: 396\n",
            "[LightGBM] [Info] Auto-choosing row-wise multi-threading, the overhead of testing was 0.000164 seconds.\n",
            "You can set `force_row_wise=true` to remove the overhead.\n",
            "And if memory is not enough, you can set `force_col_wise=true`.\n",
            "[LightGBM] [Info] Total Bins 434\n",
            "[LightGBM] [Info] Number of data points in the train set: 888, number of used features: 11\n",
            "[LightGBM] [Info] [binary:BoostFromScore]: pavg=0.554054 -> initscore=0.217065\n",
            "[LightGBM] [Info] Start training from score 0.217065\n",
            "[LightGBM] [Info] Number of positive: 490, number of negative: 398\n",
            "[LightGBM] [Info] Auto-choosing row-wise multi-threading, the overhead of testing was 0.000142 seconds.\n",
            "You can set `force_row_wise=true` to remove the overhead.\n",
            "And if memory is not enough, you can set `force_col_wise=true`.\n",
            "[LightGBM] [Info] Total Bins 433\n",
            "[LightGBM] [Info] Number of data points in the train set: 888, number of used features: 11\n",
            "[LightGBM] [Info] [binary:BoostFromScore]: pavg=0.551802 -> initscore=0.207953\n",
            "[LightGBM] [Info] Start training from score 0.207953\n",
            "[LightGBM] [Info] Number of positive: 495, number of negative: 393\n",
            "[LightGBM] [Info] Auto-choosing row-wise multi-threading, the overhead of testing was 0.000132 seconds.\n",
            "You can set `force_row_wise=true` to remove the overhead.\n",
            "And if memory is not enough, you can set `force_col_wise=true`.\n",
            "[LightGBM] [Info] Total Bins 435\n",
            "[LightGBM] [Info] Number of data points in the train set: 888, number of used features: 11\n",
            "[LightGBM] [Info] [binary:BoostFromScore]: pavg=0.557432 -> initscore=0.230748\n",
            "[LightGBM] [Info] Start training from score 0.230748\n",
            "[LightGBM] [Info] Number of positive: 495, number of negative: 393\n",
            "[LightGBM] [Info] Auto-choosing row-wise multi-threading, the overhead of testing was 0.000114 seconds.\n",
            "You can set `force_row_wise=true` to remove the overhead.\n",
            "And if memory is not enough, you can set `force_col_wise=true`.\n",
            "[LightGBM] [Info] Total Bins 437\n",
            "[LightGBM] [Info] Number of data points in the train set: 888, number of used features: 11\n",
            "[LightGBM] [Info] [binary:BoostFromScore]: pavg=0.557432 -> initscore=0.230748\n",
            "[LightGBM] [Info] Start training from score 0.230748\n",
            "[LightGBM] [Info] Number of positive: 495, number of negative: 393\n",
            "[LightGBM] [Info] Auto-choosing row-wise multi-threading, the overhead of testing was 0.000134 seconds.\n",
            "You can set `force_row_wise=true` to remove the overhead.\n",
            "And if memory is not enough, you can set `force_col_wise=true`.\n",
            "[LightGBM] [Info] Total Bins 437\n",
            "[LightGBM] [Info] Number of data points in the train set: 888, number of used features: 11\n",
            "[LightGBM] [Info] [binary:BoostFromScore]: pavg=0.557432 -> initscore=0.230748\n",
            "[LightGBM] [Info] Start training from score 0.230748\n",
            "[LightGBM] [Info] Number of positive: 489, number of negative: 399\n",
            "[LightGBM] [Info] Auto-choosing row-wise multi-threading, the overhead of testing was 0.000133 seconds.\n",
            "You can set `force_row_wise=true` to remove the overhead.\n",
            "And if memory is not enough, you can set `force_col_wise=true`.\n",
            "[LightGBM] [Info] Total Bins 437\n",
            "[LightGBM] [Info] Number of data points in the train set: 888, number of used features: 11\n",
            "[LightGBM] [Info] [binary:BoostFromScore]: pavg=0.550676 -> initscore=0.203401\n",
            "[LightGBM] [Info] Start training from score 0.203401\n",
            "[LightGBM] [Info] Number of positive: 491, number of negative: 397\n",
            "[LightGBM] [Info] Auto-choosing row-wise multi-threading, the overhead of testing was 0.000134 seconds.\n",
            "You can set `force_row_wise=true` to remove the overhead.\n",
            "And if memory is not enough, you can set `force_col_wise=true`.\n",
            "[LightGBM] [Info] Total Bins 433\n",
            "[LightGBM] [Info] Number of data points in the train set: 888, number of used features: 11\n",
            "[LightGBM] [Info] [binary:BoostFromScore]: pavg=0.552928 -> initscore=0.212508\n",
            "[LightGBM] [Info] Start training from score 0.212508\n",
            "[LightGBM] [Info] Number of positive: 490, number of negative: 398\n",
            "[LightGBM] [Info] Auto-choosing row-wise multi-threading, the overhead of testing was 0.000151 seconds.\n",
            "You can set `force_row_wise=true` to remove the overhead.\n",
            "And if memory is not enough, you can set `force_col_wise=true`.\n",
            "[LightGBM] [Info] Total Bins 436\n",
            "[LightGBM] [Info] Number of data points in the train set: 888, number of used features: 11\n",
            "[LightGBM] [Info] [binary:BoostFromScore]: pavg=0.551802 -> initscore=0.207953\n",
            "[LightGBM] [Info] Start training from score 0.207953\n",
            "[LightGBM] [Info] Number of positive: 494, number of negative: 394\n",
            "[LightGBM] [Info] Auto-choosing row-wise multi-threading, the overhead of testing was 0.000140 seconds.\n",
            "You can set `force_row_wise=true` to remove the overhead.\n",
            "And if memory is not enough, you can set `force_col_wise=true`.\n",
            "[LightGBM] [Info] Total Bins 436\n",
            "[LightGBM] [Info] Number of data points in the train set: 888, number of used features: 11\n",
            "[LightGBM] [Info] [binary:BoostFromScore]: pavg=0.556306 -> initscore=0.226185\n",
            "[LightGBM] [Info] Start training from score 0.226185\n",
            "[LightGBM] [Info] Number of positive: 495, number of negative: 393\n",
            "[LightGBM] [Info] Auto-choosing row-wise multi-threading, the overhead of testing was 0.000134 seconds.\n",
            "You can set `force_row_wise=true` to remove the overhead.\n",
            "And if memory is not enough, you can set `force_col_wise=true`.\n",
            "[LightGBM] [Info] Total Bins 439\n",
            "[LightGBM] [Info] Number of data points in the train set: 888, number of used features: 11\n",
            "[LightGBM] [Info] [binary:BoostFromScore]: pavg=0.557432 -> initscore=0.230748\n",
            "[LightGBM] [Info] Start training from score 0.230748\n"
          ]
        }
      ],
      "source": [
        "kf = KFold(n_splits=30,shuffle=True,random_state=5)\n",
        "modelo = lgb.LGBMClassifier(num_leaves = 200,\n",
        "              objective = 'binary',\n",
        "              max_depth = 2,\n",
        "              learning_rate= .05,\n",
        "              max_bin= 200)\n",
        "re = cross_val_score(modelo,previsores,alvo,cv=kf)"
      ]
    },
    {
      "cell_type": "code",
      "execution_count": 106,
      "metadata": {
        "id": "u6ess-EhXzi2",
        "outputId": "c5cce0fb-a069-402d-acdd-e78b3309f3d8",
        "colab": {
          "base_uri": "https://localhost:8080/"
        }
      },
      "outputs": [
        {
          "output_type": "stream",
          "name": "stdout",
          "text": [
            "Acurácia Média: 86.80%\n"
          ]
        }
      ],
      "source": [
        "print(\"Acurácia Média: %.2f%%\"%(re.mean()*100.0))"
      ]
    },
    {
      "cell_type": "markdown",
      "metadata": {
        "id": "v15S54cIXzi2"
      },
      "source": [
        "modelo Catboost"
      ]
    },
    {
      "cell_type": "code",
      "execution_count": 107,
      "metadata": {
        "id": "EGWChZqiXzi2",
        "outputId": "a41e945b-1f90-4f26-d66a-72200a97a24c",
        "colab": {
          "base_uri": "https://localhost:8080/",
          "height": 424
        }
      },
      "outputs": [
        {
          "output_type": "execute_result",
          "data": {
            "text/plain": [
              "     Age Sex ChestPainType  RestingBP  Cholesterol  FastingBS RestingECG  \\\n",
              "0     40   M           ATA      140.0        289.0          0     Normal   \n",
              "1     49   F           NAP      160.0        180.0          0     Normal   \n",
              "2     37   M           ATA      130.0        283.0          0         ST   \n",
              "3     48   F           ASY      138.0        214.0          0     Normal   \n",
              "4     54   M           NAP      150.0        195.0          0     Normal   \n",
              "..   ...  ..           ...        ...          ...        ...        ...   \n",
              "913   45   M            TA      110.0        264.0          0     Normal   \n",
              "914   68   M           ASY      144.0        193.0          1     Normal   \n",
              "915   57   M           ASY      130.0        131.0          0     Normal   \n",
              "916   57   F           ATA      130.0        236.0          0        LVH   \n",
              "917   38   M           NAP      138.0        175.0          0     Normal   \n",
              "\n",
              "     MaxHR ExerciseAngina  Oldpeak ST_Slope  HeartDisease  \n",
              "0      172              N      0.0       Up             0  \n",
              "1      156              N      1.0     Flat             1  \n",
              "2       98              N      0.0       Up             0  \n",
              "3      108              Y      1.5     Flat             1  \n",
              "4      122              N      0.0       Up             0  \n",
              "..     ...            ...      ...      ...           ...  \n",
              "913    132              N      1.2     Flat             1  \n",
              "914    141              N      3.4     Flat             1  \n",
              "915    115              Y      1.2     Flat             1  \n",
              "916    174              N      0.0     Flat             1  \n",
              "917    173              N      0.0       Up             0  \n",
              "\n",
              "[918 rows x 12 columns]"
            ],
            "text/html": [
              "\n",
              "  <div id=\"df-f52982b4-9884-493b-a8e1-e4718b50da4b\" class=\"colab-df-container\">\n",
              "    <div>\n",
              "<style scoped>\n",
              "    .dataframe tbody tr th:only-of-type {\n",
              "        vertical-align: middle;\n",
              "    }\n",
              "\n",
              "    .dataframe tbody tr th {\n",
              "        vertical-align: top;\n",
              "    }\n",
              "\n",
              "    .dataframe thead th {\n",
              "        text-align: right;\n",
              "    }\n",
              "</style>\n",
              "<table border=\"1\" class=\"dataframe\">\n",
              "  <thead>\n",
              "    <tr style=\"text-align: right;\">\n",
              "      <th></th>\n",
              "      <th>Age</th>\n",
              "      <th>Sex</th>\n",
              "      <th>ChestPainType</th>\n",
              "      <th>RestingBP</th>\n",
              "      <th>Cholesterol</th>\n",
              "      <th>FastingBS</th>\n",
              "      <th>RestingECG</th>\n",
              "      <th>MaxHR</th>\n",
              "      <th>ExerciseAngina</th>\n",
              "      <th>Oldpeak</th>\n",
              "      <th>ST_Slope</th>\n",
              "      <th>HeartDisease</th>\n",
              "    </tr>\n",
              "  </thead>\n",
              "  <tbody>\n",
              "    <tr>\n",
              "      <th>0</th>\n",
              "      <td>40</td>\n",
              "      <td>M</td>\n",
              "      <td>ATA</td>\n",
              "      <td>140.0</td>\n",
              "      <td>289.0</td>\n",
              "      <td>0</td>\n",
              "      <td>Normal</td>\n",
              "      <td>172</td>\n",
              "      <td>N</td>\n",
              "      <td>0.0</td>\n",
              "      <td>Up</td>\n",
              "      <td>0</td>\n",
              "    </tr>\n",
              "    <tr>\n",
              "      <th>1</th>\n",
              "      <td>49</td>\n",
              "      <td>F</td>\n",
              "      <td>NAP</td>\n",
              "      <td>160.0</td>\n",
              "      <td>180.0</td>\n",
              "      <td>0</td>\n",
              "      <td>Normal</td>\n",
              "      <td>156</td>\n",
              "      <td>N</td>\n",
              "      <td>1.0</td>\n",
              "      <td>Flat</td>\n",
              "      <td>1</td>\n",
              "    </tr>\n",
              "    <tr>\n",
              "      <th>2</th>\n",
              "      <td>37</td>\n",
              "      <td>M</td>\n",
              "      <td>ATA</td>\n",
              "      <td>130.0</td>\n",
              "      <td>283.0</td>\n",
              "      <td>0</td>\n",
              "      <td>ST</td>\n",
              "      <td>98</td>\n",
              "      <td>N</td>\n",
              "      <td>0.0</td>\n",
              "      <td>Up</td>\n",
              "      <td>0</td>\n",
              "    </tr>\n",
              "    <tr>\n",
              "      <th>3</th>\n",
              "      <td>48</td>\n",
              "      <td>F</td>\n",
              "      <td>ASY</td>\n",
              "      <td>138.0</td>\n",
              "      <td>214.0</td>\n",
              "      <td>0</td>\n",
              "      <td>Normal</td>\n",
              "      <td>108</td>\n",
              "      <td>Y</td>\n",
              "      <td>1.5</td>\n",
              "      <td>Flat</td>\n",
              "      <td>1</td>\n",
              "    </tr>\n",
              "    <tr>\n",
              "      <th>4</th>\n",
              "      <td>54</td>\n",
              "      <td>M</td>\n",
              "      <td>NAP</td>\n",
              "      <td>150.0</td>\n",
              "      <td>195.0</td>\n",
              "      <td>0</td>\n",
              "      <td>Normal</td>\n",
              "      <td>122</td>\n",
              "      <td>N</td>\n",
              "      <td>0.0</td>\n",
              "      <td>Up</td>\n",
              "      <td>0</td>\n",
              "    </tr>\n",
              "    <tr>\n",
              "      <th>...</th>\n",
              "      <td>...</td>\n",
              "      <td>...</td>\n",
              "      <td>...</td>\n",
              "      <td>...</td>\n",
              "      <td>...</td>\n",
              "      <td>...</td>\n",
              "      <td>...</td>\n",
              "      <td>...</td>\n",
              "      <td>...</td>\n",
              "      <td>...</td>\n",
              "      <td>...</td>\n",
              "      <td>...</td>\n",
              "    </tr>\n",
              "    <tr>\n",
              "      <th>913</th>\n",
              "      <td>45</td>\n",
              "      <td>M</td>\n",
              "      <td>TA</td>\n",
              "      <td>110.0</td>\n",
              "      <td>264.0</td>\n",
              "      <td>0</td>\n",
              "      <td>Normal</td>\n",
              "      <td>132</td>\n",
              "      <td>N</td>\n",
              "      <td>1.2</td>\n",
              "      <td>Flat</td>\n",
              "      <td>1</td>\n",
              "    </tr>\n",
              "    <tr>\n",
              "      <th>914</th>\n",
              "      <td>68</td>\n",
              "      <td>M</td>\n",
              "      <td>ASY</td>\n",
              "      <td>144.0</td>\n",
              "      <td>193.0</td>\n",
              "      <td>1</td>\n",
              "      <td>Normal</td>\n",
              "      <td>141</td>\n",
              "      <td>N</td>\n",
              "      <td>3.4</td>\n",
              "      <td>Flat</td>\n",
              "      <td>1</td>\n",
              "    </tr>\n",
              "    <tr>\n",
              "      <th>915</th>\n",
              "      <td>57</td>\n",
              "      <td>M</td>\n",
              "      <td>ASY</td>\n",
              "      <td>130.0</td>\n",
              "      <td>131.0</td>\n",
              "      <td>0</td>\n",
              "      <td>Normal</td>\n",
              "      <td>115</td>\n",
              "      <td>Y</td>\n",
              "      <td>1.2</td>\n",
              "      <td>Flat</td>\n",
              "      <td>1</td>\n",
              "    </tr>\n",
              "    <tr>\n",
              "      <th>916</th>\n",
              "      <td>57</td>\n",
              "      <td>F</td>\n",
              "      <td>ATA</td>\n",
              "      <td>130.0</td>\n",
              "      <td>236.0</td>\n",
              "      <td>0</td>\n",
              "      <td>LVH</td>\n",
              "      <td>174</td>\n",
              "      <td>N</td>\n",
              "      <td>0.0</td>\n",
              "      <td>Flat</td>\n",
              "      <td>1</td>\n",
              "    </tr>\n",
              "    <tr>\n",
              "      <th>917</th>\n",
              "      <td>38</td>\n",
              "      <td>M</td>\n",
              "      <td>NAP</td>\n",
              "      <td>138.0</td>\n",
              "      <td>175.0</td>\n",
              "      <td>0</td>\n",
              "      <td>Normal</td>\n",
              "      <td>173</td>\n",
              "      <td>N</td>\n",
              "      <td>0.0</td>\n",
              "      <td>Up</td>\n",
              "      <td>0</td>\n",
              "    </tr>\n",
              "  </tbody>\n",
              "</table>\n",
              "<p>918 rows × 12 columns</p>\n",
              "</div>\n",
              "    <div class=\"colab-df-buttons\">\n",
              "\n",
              "  <div class=\"colab-df-container\">\n",
              "    <button class=\"colab-df-convert\" onclick=\"convertToInteractive('df-f52982b4-9884-493b-a8e1-e4718b50da4b')\"\n",
              "            title=\"Convert this dataframe to an interactive table.\"\n",
              "            style=\"display:none;\">\n",
              "\n",
              "  <svg xmlns=\"http://www.w3.org/2000/svg\" height=\"24px\" viewBox=\"0 -960 960 960\">\n",
              "    <path d=\"M120-120v-720h720v720H120Zm60-500h600v-160H180v160Zm220 220h160v-160H400v160Zm0 220h160v-160H400v160ZM180-400h160v-160H180v160Zm440 0h160v-160H620v160ZM180-180h160v-160H180v160Zm440 0h160v-160H620v160Z\"/>\n",
              "  </svg>\n",
              "    </button>\n",
              "\n",
              "  <style>\n",
              "    .colab-df-container {\n",
              "      display:flex;\n",
              "      gap: 12px;\n",
              "    }\n",
              "\n",
              "    .colab-df-convert {\n",
              "      background-color: #E8F0FE;\n",
              "      border: none;\n",
              "      border-radius: 50%;\n",
              "      cursor: pointer;\n",
              "      display: none;\n",
              "      fill: #1967D2;\n",
              "      height: 32px;\n",
              "      padding: 0 0 0 0;\n",
              "      width: 32px;\n",
              "    }\n",
              "\n",
              "    .colab-df-convert:hover {\n",
              "      background-color: #E2EBFA;\n",
              "      box-shadow: 0px 1px 2px rgba(60, 64, 67, 0.3), 0px 1px 3px 1px rgba(60, 64, 67, 0.15);\n",
              "      fill: #174EA6;\n",
              "    }\n",
              "\n",
              "    .colab-df-buttons div {\n",
              "      margin-bottom: 4px;\n",
              "    }\n",
              "\n",
              "    [theme=dark] .colab-df-convert {\n",
              "      background-color: #3B4455;\n",
              "      fill: #D2E3FC;\n",
              "    }\n",
              "\n",
              "    [theme=dark] .colab-df-convert:hover {\n",
              "      background-color: #434B5C;\n",
              "      box-shadow: 0px 1px 3px 1px rgba(0, 0, 0, 0.15);\n",
              "      filter: drop-shadow(0px 1px 2px rgba(0, 0, 0, 0.3));\n",
              "      fill: #FFFFFF;\n",
              "    }\n",
              "  </style>\n",
              "\n",
              "    <script>\n",
              "      const buttonEl =\n",
              "        document.querySelector('#df-f52982b4-9884-493b-a8e1-e4718b50da4b button.colab-df-convert');\n",
              "      buttonEl.style.display =\n",
              "        google.colab.kernel.accessAllowed ? 'block' : 'none';\n",
              "\n",
              "      async function convertToInteractive(key) {\n",
              "        const element = document.querySelector('#df-f52982b4-9884-493b-a8e1-e4718b50da4b');\n",
              "        const dataTable =\n",
              "          await google.colab.kernel.invokeFunction('convertToInteractive',\n",
              "                                                    [key], {});\n",
              "        if (!dataTable) return;\n",
              "\n",
              "        const docLinkHtml = 'Like what you see? Visit the ' +\n",
              "          '<a target=\"_blank\" href=https://colab.research.google.com/notebooks/data_table.ipynb>data table notebook</a>'\n",
              "          + ' to learn more about interactive tables.';\n",
              "        element.innerHTML = '';\n",
              "        dataTable['output_type'] = 'display_data';\n",
              "        await google.colab.output.renderOutput(dataTable, element);\n",
              "        const docLink = document.createElement('div');\n",
              "        docLink.innerHTML = docLinkHtml;\n",
              "        element.appendChild(docLink);\n",
              "      }\n",
              "    </script>\n",
              "  </div>\n",
              "\n",
              "\n",
              "<div id=\"df-cce5b084-cf7e-4c06-b4b2-57aa35327f08\">\n",
              "  <button class=\"colab-df-quickchart\" onclick=\"quickchart('df-cce5b084-cf7e-4c06-b4b2-57aa35327f08')\"\n",
              "            title=\"Suggest charts\"\n",
              "            style=\"display:none;\">\n",
              "\n",
              "<svg xmlns=\"http://www.w3.org/2000/svg\" height=\"24px\"viewBox=\"0 0 24 24\"\n",
              "     width=\"24px\">\n",
              "    <g>\n",
              "        <path d=\"M19 3H5c-1.1 0-2 .9-2 2v14c0 1.1.9 2 2 2h14c1.1 0 2-.9 2-2V5c0-1.1-.9-2-2-2zM9 17H7v-7h2v7zm4 0h-2V7h2v10zm4 0h-2v-4h2v4z\"/>\n",
              "    </g>\n",
              "</svg>\n",
              "  </button>\n",
              "\n",
              "<style>\n",
              "  .colab-df-quickchart {\n",
              "      --bg-color: #E8F0FE;\n",
              "      --fill-color: #1967D2;\n",
              "      --hover-bg-color: #E2EBFA;\n",
              "      --hover-fill-color: #174EA6;\n",
              "      --disabled-fill-color: #AAA;\n",
              "      --disabled-bg-color: #DDD;\n",
              "  }\n",
              "\n",
              "  [theme=dark] .colab-df-quickchart {\n",
              "      --bg-color: #3B4455;\n",
              "      --fill-color: #D2E3FC;\n",
              "      --hover-bg-color: #434B5C;\n",
              "      --hover-fill-color: #FFFFFF;\n",
              "      --disabled-bg-color: #3B4455;\n",
              "      --disabled-fill-color: #666;\n",
              "  }\n",
              "\n",
              "  .colab-df-quickchart {\n",
              "    background-color: var(--bg-color);\n",
              "    border: none;\n",
              "    border-radius: 50%;\n",
              "    cursor: pointer;\n",
              "    display: none;\n",
              "    fill: var(--fill-color);\n",
              "    height: 32px;\n",
              "    padding: 0;\n",
              "    width: 32px;\n",
              "  }\n",
              "\n",
              "  .colab-df-quickchart:hover {\n",
              "    background-color: var(--hover-bg-color);\n",
              "    box-shadow: 0 1px 2px rgba(60, 64, 67, 0.3), 0 1px 3px 1px rgba(60, 64, 67, 0.15);\n",
              "    fill: var(--button-hover-fill-color);\n",
              "  }\n",
              "\n",
              "  .colab-df-quickchart-complete:disabled,\n",
              "  .colab-df-quickchart-complete:disabled:hover {\n",
              "    background-color: var(--disabled-bg-color);\n",
              "    fill: var(--disabled-fill-color);\n",
              "    box-shadow: none;\n",
              "  }\n",
              "\n",
              "  .colab-df-spinner {\n",
              "    border: 2px solid var(--fill-color);\n",
              "    border-color: transparent;\n",
              "    border-bottom-color: var(--fill-color);\n",
              "    animation:\n",
              "      spin 1s steps(1) infinite;\n",
              "  }\n",
              "\n",
              "  @keyframes spin {\n",
              "    0% {\n",
              "      border-color: transparent;\n",
              "      border-bottom-color: var(--fill-color);\n",
              "      border-left-color: var(--fill-color);\n",
              "    }\n",
              "    20% {\n",
              "      border-color: transparent;\n",
              "      border-left-color: var(--fill-color);\n",
              "      border-top-color: var(--fill-color);\n",
              "    }\n",
              "    30% {\n",
              "      border-color: transparent;\n",
              "      border-left-color: var(--fill-color);\n",
              "      border-top-color: var(--fill-color);\n",
              "      border-right-color: var(--fill-color);\n",
              "    }\n",
              "    40% {\n",
              "      border-color: transparent;\n",
              "      border-right-color: var(--fill-color);\n",
              "      border-top-color: var(--fill-color);\n",
              "    }\n",
              "    60% {\n",
              "      border-color: transparent;\n",
              "      border-right-color: var(--fill-color);\n",
              "    }\n",
              "    80% {\n",
              "      border-color: transparent;\n",
              "      border-right-color: var(--fill-color);\n",
              "      border-bottom-color: var(--fill-color);\n",
              "    }\n",
              "    90% {\n",
              "      border-color: transparent;\n",
              "      border-bottom-color: var(--fill-color);\n",
              "    }\n",
              "  }\n",
              "</style>\n",
              "\n",
              "  <script>\n",
              "    async function quickchart(key) {\n",
              "      const quickchartButtonEl =\n",
              "        document.querySelector('#' + key + ' button');\n",
              "      quickchartButtonEl.disabled = true;  // To prevent multiple clicks.\n",
              "      quickchartButtonEl.classList.add('colab-df-spinner');\n",
              "      try {\n",
              "        const charts = await google.colab.kernel.invokeFunction(\n",
              "            'suggestCharts', [key], {});\n",
              "      } catch (error) {\n",
              "        console.error('Error during call to suggestCharts:', error);\n",
              "      }\n",
              "      quickchartButtonEl.classList.remove('colab-df-spinner');\n",
              "      quickchartButtonEl.classList.add('colab-df-quickchart-complete');\n",
              "    }\n",
              "    (() => {\n",
              "      let quickchartButtonEl =\n",
              "        document.querySelector('#df-cce5b084-cf7e-4c06-b4b2-57aa35327f08 button');\n",
              "      quickchartButtonEl.style.display =\n",
              "        google.colab.kernel.accessAllowed ? 'block' : 'none';\n",
              "    })();\n",
              "  </script>\n",
              "</div>\n",
              "\n",
              "  <div id=\"id_24883607-8eb2-444a-8bf1-03df6a4abbd3\">\n",
              "    <style>\n",
              "      .colab-df-generate {\n",
              "        background-color: #E8F0FE;\n",
              "        border: none;\n",
              "        border-radius: 50%;\n",
              "        cursor: pointer;\n",
              "        display: none;\n",
              "        fill: #1967D2;\n",
              "        height: 32px;\n",
              "        padding: 0 0 0 0;\n",
              "        width: 32px;\n",
              "      }\n",
              "\n",
              "      .colab-df-generate:hover {\n",
              "        background-color: #E2EBFA;\n",
              "        box-shadow: 0px 1px 2px rgba(60, 64, 67, 0.3), 0px 1px 3px 1px rgba(60, 64, 67, 0.15);\n",
              "        fill: #174EA6;\n",
              "      }\n",
              "\n",
              "      [theme=dark] .colab-df-generate {\n",
              "        background-color: #3B4455;\n",
              "        fill: #D2E3FC;\n",
              "      }\n",
              "\n",
              "      [theme=dark] .colab-df-generate:hover {\n",
              "        background-color: #434B5C;\n",
              "        box-shadow: 0px 1px 3px 1px rgba(0, 0, 0, 0.15);\n",
              "        filter: drop-shadow(0px 1px 2px rgba(0, 0, 0, 0.3));\n",
              "        fill: #FFFFFF;\n",
              "      }\n",
              "    </style>\n",
              "    <button class=\"colab-df-generate\" onclick=\"generateWithVariable('df')\"\n",
              "            title=\"Generate code using this dataframe.\"\n",
              "            style=\"display:none;\">\n",
              "\n",
              "  <svg xmlns=\"http://www.w3.org/2000/svg\" height=\"24px\"viewBox=\"0 0 24 24\"\n",
              "       width=\"24px\">\n",
              "    <path d=\"M7,19H8.4L18.45,9,17,7.55,7,17.6ZM5,21V16.75L18.45,3.32a2,2,0,0,1,2.83,0l1.4,1.43a1.91,1.91,0,0,1,.58,1.4,1.91,1.91,0,0,1-.58,1.4L9.25,21ZM18.45,9,17,7.55Zm-12,3A5.31,5.31,0,0,0,4.9,8.1,5.31,5.31,0,0,0,1,6.5,5.31,5.31,0,0,0,4.9,4.9,5.31,5.31,0,0,0,6.5,1,5.31,5.31,0,0,0,8.1,4.9,5.31,5.31,0,0,0,12,6.5,5.46,5.46,0,0,0,6.5,12Z\"/>\n",
              "  </svg>\n",
              "    </button>\n",
              "    <script>\n",
              "      (() => {\n",
              "      const buttonEl =\n",
              "        document.querySelector('#id_24883607-8eb2-444a-8bf1-03df6a4abbd3 button.colab-df-generate');\n",
              "      buttonEl.style.display =\n",
              "        google.colab.kernel.accessAllowed ? 'block' : 'none';\n",
              "\n",
              "      buttonEl.onclick = () => {\n",
              "        google.colab.notebook.generateWithVariable('df');\n",
              "      }\n",
              "      })();\n",
              "    </script>\n",
              "  </div>\n",
              "\n",
              "    </div>\n",
              "  </div>\n"
            ],
            "application/vnd.google.colaboratory.intrinsic+json": {
              "type": "dataframe",
              "variable_name": "df",
              "summary": "{\n  \"name\": \"df\",\n  \"rows\": 918,\n  \"fields\": [\n    {\n      \"column\": \"Age\",\n      \"properties\": {\n        \"dtype\": \"number\",\n        \"std\": 9,\n        \"min\": 28,\n        \"max\": 77,\n        \"num_unique_values\": 50,\n        \"samples\": [\n          44,\n          68,\n          66\n        ],\n        \"semantic_type\": \"\",\n        \"description\": \"\"\n      }\n    },\n    {\n      \"column\": \"Sex\",\n      \"properties\": {\n        \"dtype\": \"category\",\n        \"num_unique_values\": 2,\n        \"samples\": [\n          \"F\",\n          \"M\"\n        ],\n        \"semantic_type\": \"\",\n        \"description\": \"\"\n      }\n    },\n    {\n      \"column\": \"ChestPainType\",\n      \"properties\": {\n        \"dtype\": \"category\",\n        \"num_unique_values\": 4,\n        \"samples\": [\n          \"NAP\",\n          \"TA\"\n        ],\n        \"semantic_type\": \"\",\n        \"description\": \"\"\n      }\n    },\n    {\n      \"column\": \"RestingBP\",\n      \"properties\": {\n        \"dtype\": \"number\",\n        \"std\": 17.989931696967748,\n        \"min\": 80.0,\n        \"max\": 200.0,\n        \"num_unique_values\": 67,\n        \"samples\": [\n          165.0,\n          118.0\n        ],\n        \"semantic_type\": \"\",\n        \"description\": \"\"\n      }\n    },\n    {\n      \"column\": \"Cholesterol\",\n      \"properties\": {\n        \"dtype\": \"number\",\n        \"std\": 53.318031027957794,\n        \"min\": 85.0,\n        \"max\": 603.0,\n        \"num_unique_values\": 222,\n        \"samples\": [\n          305.0,\n          321.0\n        ],\n        \"semantic_type\": \"\",\n        \"description\": \"\"\n      }\n    },\n    {\n      \"column\": \"FastingBS\",\n      \"properties\": {\n        \"dtype\": \"number\",\n        \"std\": 0,\n        \"min\": 0,\n        \"max\": 1,\n        \"num_unique_values\": 2,\n        \"samples\": [\n          1,\n          0\n        ],\n        \"semantic_type\": \"\",\n        \"description\": \"\"\n      }\n    },\n    {\n      \"column\": \"RestingECG\",\n      \"properties\": {\n        \"dtype\": \"category\",\n        \"num_unique_values\": 3,\n        \"samples\": [\n          \"Normal\",\n          \"ST\"\n        ],\n        \"semantic_type\": \"\",\n        \"description\": \"\"\n      }\n    },\n    {\n      \"column\": \"MaxHR\",\n      \"properties\": {\n        \"dtype\": \"number\",\n        \"std\": 25,\n        \"min\": 60,\n        \"max\": 202,\n        \"num_unique_values\": 119,\n        \"samples\": [\n          132,\n          157\n        ],\n        \"semantic_type\": \"\",\n        \"description\": \"\"\n      }\n    },\n    {\n      \"column\": \"ExerciseAngina\",\n      \"properties\": {\n        \"dtype\": \"category\",\n        \"num_unique_values\": 2,\n        \"samples\": [\n          \"Y\",\n          \"N\"\n        ],\n        \"semantic_type\": \"\",\n        \"description\": \"\"\n      }\n    },\n    {\n      \"column\": \"Oldpeak\",\n      \"properties\": {\n        \"dtype\": \"number\",\n        \"std\": 1.0665701510493257,\n        \"min\": -2.6,\n        \"max\": 6.2,\n        \"num_unique_values\": 53,\n        \"samples\": [\n          1.3,\n          0.6\n        ],\n        \"semantic_type\": \"\",\n        \"description\": \"\"\n      }\n    },\n    {\n      \"column\": \"ST_Slope\",\n      \"properties\": {\n        \"dtype\": \"category\",\n        \"num_unique_values\": 3,\n        \"samples\": [\n          \"Up\",\n          \"Flat\"\n        ],\n        \"semantic_type\": \"\",\n        \"description\": \"\"\n      }\n    },\n    {\n      \"column\": \"HeartDisease\",\n      \"properties\": {\n        \"dtype\": \"number\",\n        \"std\": 0,\n        \"min\": 0,\n        \"max\": 1,\n        \"num_unique_values\": 2,\n        \"samples\": [\n          1,\n          0\n        ],\n        \"semantic_type\": \"\",\n        \"description\": \"\"\n      }\n    }\n  ]\n}"
            }
          },
          "metadata": {},
          "execution_count": 107
        }
      ],
      "source": [
        "df"
      ]
    },
    {
      "cell_type": "code",
      "execution_count": 108,
      "metadata": {
        "id": "8q16MPmfXzi2",
        "outputId": "e92799a4-6875-401f-9123-60e51cfb5b8d",
        "colab": {
          "base_uri": "https://localhost:8080/",
          "height": 206
        }
      },
      "outputs": [
        {
          "output_type": "execute_result",
          "data": {
            "text/plain": [
              "   Age Sex ChestPainType  RestingBP  Cholesterol  FastingBS RestingECG  MaxHR  \\\n",
              "0   40   M           ATA      140.0        289.0          0     Normal    172   \n",
              "1   49   F           NAP      160.0        180.0          0     Normal    156   \n",
              "2   37   M           ATA      130.0        283.0          0         ST     98   \n",
              "3   48   F           ASY      138.0        214.0          0     Normal    108   \n",
              "4   54   M           NAP      150.0        195.0          0     Normal    122   \n",
              "\n",
              "  ExerciseAngina  Oldpeak ST_Slope  \n",
              "0              N      0.0       Up  \n",
              "1              N      1.0     Flat  \n",
              "2              N      0.0       Up  \n",
              "3              Y      1.5     Flat  \n",
              "4              N      0.0       Up  "
            ],
            "text/html": [
              "\n",
              "  <div id=\"df-97b10684-45b8-4005-b4d6-a4817936668c\" class=\"colab-df-container\">\n",
              "    <div>\n",
              "<style scoped>\n",
              "    .dataframe tbody tr th:only-of-type {\n",
              "        vertical-align: middle;\n",
              "    }\n",
              "\n",
              "    .dataframe tbody tr th {\n",
              "        vertical-align: top;\n",
              "    }\n",
              "\n",
              "    .dataframe thead th {\n",
              "        text-align: right;\n",
              "    }\n",
              "</style>\n",
              "<table border=\"1\" class=\"dataframe\">\n",
              "  <thead>\n",
              "    <tr style=\"text-align: right;\">\n",
              "      <th></th>\n",
              "      <th>Age</th>\n",
              "      <th>Sex</th>\n",
              "      <th>ChestPainType</th>\n",
              "      <th>RestingBP</th>\n",
              "      <th>Cholesterol</th>\n",
              "      <th>FastingBS</th>\n",
              "      <th>RestingECG</th>\n",
              "      <th>MaxHR</th>\n",
              "      <th>ExerciseAngina</th>\n",
              "      <th>Oldpeak</th>\n",
              "      <th>ST_Slope</th>\n",
              "    </tr>\n",
              "  </thead>\n",
              "  <tbody>\n",
              "    <tr>\n",
              "      <th>0</th>\n",
              "      <td>40</td>\n",
              "      <td>M</td>\n",
              "      <td>ATA</td>\n",
              "      <td>140.0</td>\n",
              "      <td>289.0</td>\n",
              "      <td>0</td>\n",
              "      <td>Normal</td>\n",
              "      <td>172</td>\n",
              "      <td>N</td>\n",
              "      <td>0.0</td>\n",
              "      <td>Up</td>\n",
              "    </tr>\n",
              "    <tr>\n",
              "      <th>1</th>\n",
              "      <td>49</td>\n",
              "      <td>F</td>\n",
              "      <td>NAP</td>\n",
              "      <td>160.0</td>\n",
              "      <td>180.0</td>\n",
              "      <td>0</td>\n",
              "      <td>Normal</td>\n",
              "      <td>156</td>\n",
              "      <td>N</td>\n",
              "      <td>1.0</td>\n",
              "      <td>Flat</td>\n",
              "    </tr>\n",
              "    <tr>\n",
              "      <th>2</th>\n",
              "      <td>37</td>\n",
              "      <td>M</td>\n",
              "      <td>ATA</td>\n",
              "      <td>130.0</td>\n",
              "      <td>283.0</td>\n",
              "      <td>0</td>\n",
              "      <td>ST</td>\n",
              "      <td>98</td>\n",
              "      <td>N</td>\n",
              "      <td>0.0</td>\n",
              "      <td>Up</td>\n",
              "    </tr>\n",
              "    <tr>\n",
              "      <th>3</th>\n",
              "      <td>48</td>\n",
              "      <td>F</td>\n",
              "      <td>ASY</td>\n",
              "      <td>138.0</td>\n",
              "      <td>214.0</td>\n",
              "      <td>0</td>\n",
              "      <td>Normal</td>\n",
              "      <td>108</td>\n",
              "      <td>Y</td>\n",
              "      <td>1.5</td>\n",
              "      <td>Flat</td>\n",
              "    </tr>\n",
              "    <tr>\n",
              "      <th>4</th>\n",
              "      <td>54</td>\n",
              "      <td>M</td>\n",
              "      <td>NAP</td>\n",
              "      <td>150.0</td>\n",
              "      <td>195.0</td>\n",
              "      <td>0</td>\n",
              "      <td>Normal</td>\n",
              "      <td>122</td>\n",
              "      <td>N</td>\n",
              "      <td>0.0</td>\n",
              "      <td>Up</td>\n",
              "    </tr>\n",
              "  </tbody>\n",
              "</table>\n",
              "</div>\n",
              "    <div class=\"colab-df-buttons\">\n",
              "\n",
              "  <div class=\"colab-df-container\">\n",
              "    <button class=\"colab-df-convert\" onclick=\"convertToInteractive('df-97b10684-45b8-4005-b4d6-a4817936668c')\"\n",
              "            title=\"Convert this dataframe to an interactive table.\"\n",
              "            style=\"display:none;\">\n",
              "\n",
              "  <svg xmlns=\"http://www.w3.org/2000/svg\" height=\"24px\" viewBox=\"0 -960 960 960\">\n",
              "    <path d=\"M120-120v-720h720v720H120Zm60-500h600v-160H180v160Zm220 220h160v-160H400v160Zm0 220h160v-160H400v160ZM180-400h160v-160H180v160Zm440 0h160v-160H620v160ZM180-180h160v-160H180v160Zm440 0h160v-160H620v160Z\"/>\n",
              "  </svg>\n",
              "    </button>\n",
              "\n",
              "  <style>\n",
              "    .colab-df-container {\n",
              "      display:flex;\n",
              "      gap: 12px;\n",
              "    }\n",
              "\n",
              "    .colab-df-convert {\n",
              "      background-color: #E8F0FE;\n",
              "      border: none;\n",
              "      border-radius: 50%;\n",
              "      cursor: pointer;\n",
              "      display: none;\n",
              "      fill: #1967D2;\n",
              "      height: 32px;\n",
              "      padding: 0 0 0 0;\n",
              "      width: 32px;\n",
              "    }\n",
              "\n",
              "    .colab-df-convert:hover {\n",
              "      background-color: #E2EBFA;\n",
              "      box-shadow: 0px 1px 2px rgba(60, 64, 67, 0.3), 0px 1px 3px 1px rgba(60, 64, 67, 0.15);\n",
              "      fill: #174EA6;\n",
              "    }\n",
              "\n",
              "    .colab-df-buttons div {\n",
              "      margin-bottom: 4px;\n",
              "    }\n",
              "\n",
              "    [theme=dark] .colab-df-convert {\n",
              "      background-color: #3B4455;\n",
              "      fill: #D2E3FC;\n",
              "    }\n",
              "\n",
              "    [theme=dark] .colab-df-convert:hover {\n",
              "      background-color: #434B5C;\n",
              "      box-shadow: 0px 1px 3px 1px rgba(0, 0, 0, 0.15);\n",
              "      filter: drop-shadow(0px 1px 2px rgba(0, 0, 0, 0.3));\n",
              "      fill: #FFFFFF;\n",
              "    }\n",
              "  </style>\n",
              "\n",
              "    <script>\n",
              "      const buttonEl =\n",
              "        document.querySelector('#df-97b10684-45b8-4005-b4d6-a4817936668c button.colab-df-convert');\n",
              "      buttonEl.style.display =\n",
              "        google.colab.kernel.accessAllowed ? 'block' : 'none';\n",
              "\n",
              "      async function convertToInteractive(key) {\n",
              "        const element = document.querySelector('#df-97b10684-45b8-4005-b4d6-a4817936668c');\n",
              "        const dataTable =\n",
              "          await google.colab.kernel.invokeFunction('convertToInteractive',\n",
              "                                                    [key], {});\n",
              "        if (!dataTable) return;\n",
              "\n",
              "        const docLinkHtml = 'Like what you see? Visit the ' +\n",
              "          '<a target=\"_blank\" href=https://colab.research.google.com/notebooks/data_table.ipynb>data table notebook</a>'\n",
              "          + ' to learn more about interactive tables.';\n",
              "        element.innerHTML = '';\n",
              "        dataTable['output_type'] = 'display_data';\n",
              "        await google.colab.output.renderOutput(dataTable, element);\n",
              "        const docLink = document.createElement('div');\n",
              "        docLink.innerHTML = docLinkHtml;\n",
              "        element.appendChild(docLink);\n",
              "      }\n",
              "    </script>\n",
              "  </div>\n",
              "\n",
              "\n",
              "<div id=\"df-39c80605-2acf-4ede-86cd-8c1eb006f1d4\">\n",
              "  <button class=\"colab-df-quickchart\" onclick=\"quickchart('df-39c80605-2acf-4ede-86cd-8c1eb006f1d4')\"\n",
              "            title=\"Suggest charts\"\n",
              "            style=\"display:none;\">\n",
              "\n",
              "<svg xmlns=\"http://www.w3.org/2000/svg\" height=\"24px\"viewBox=\"0 0 24 24\"\n",
              "     width=\"24px\">\n",
              "    <g>\n",
              "        <path d=\"M19 3H5c-1.1 0-2 .9-2 2v14c0 1.1.9 2 2 2h14c1.1 0 2-.9 2-2V5c0-1.1-.9-2-2-2zM9 17H7v-7h2v7zm4 0h-2V7h2v10zm4 0h-2v-4h2v4z\"/>\n",
              "    </g>\n",
              "</svg>\n",
              "  </button>\n",
              "\n",
              "<style>\n",
              "  .colab-df-quickchart {\n",
              "      --bg-color: #E8F0FE;\n",
              "      --fill-color: #1967D2;\n",
              "      --hover-bg-color: #E2EBFA;\n",
              "      --hover-fill-color: #174EA6;\n",
              "      --disabled-fill-color: #AAA;\n",
              "      --disabled-bg-color: #DDD;\n",
              "  }\n",
              "\n",
              "  [theme=dark] .colab-df-quickchart {\n",
              "      --bg-color: #3B4455;\n",
              "      --fill-color: #D2E3FC;\n",
              "      --hover-bg-color: #434B5C;\n",
              "      --hover-fill-color: #FFFFFF;\n",
              "      --disabled-bg-color: #3B4455;\n",
              "      --disabled-fill-color: #666;\n",
              "  }\n",
              "\n",
              "  .colab-df-quickchart {\n",
              "    background-color: var(--bg-color);\n",
              "    border: none;\n",
              "    border-radius: 50%;\n",
              "    cursor: pointer;\n",
              "    display: none;\n",
              "    fill: var(--fill-color);\n",
              "    height: 32px;\n",
              "    padding: 0;\n",
              "    width: 32px;\n",
              "  }\n",
              "\n",
              "  .colab-df-quickchart:hover {\n",
              "    background-color: var(--hover-bg-color);\n",
              "    box-shadow: 0 1px 2px rgba(60, 64, 67, 0.3), 0 1px 3px 1px rgba(60, 64, 67, 0.15);\n",
              "    fill: var(--button-hover-fill-color);\n",
              "  }\n",
              "\n",
              "  .colab-df-quickchart-complete:disabled,\n",
              "  .colab-df-quickchart-complete:disabled:hover {\n",
              "    background-color: var(--disabled-bg-color);\n",
              "    fill: var(--disabled-fill-color);\n",
              "    box-shadow: none;\n",
              "  }\n",
              "\n",
              "  .colab-df-spinner {\n",
              "    border: 2px solid var(--fill-color);\n",
              "    border-color: transparent;\n",
              "    border-bottom-color: var(--fill-color);\n",
              "    animation:\n",
              "      spin 1s steps(1) infinite;\n",
              "  }\n",
              "\n",
              "  @keyframes spin {\n",
              "    0% {\n",
              "      border-color: transparent;\n",
              "      border-bottom-color: var(--fill-color);\n",
              "      border-left-color: var(--fill-color);\n",
              "    }\n",
              "    20% {\n",
              "      border-color: transparent;\n",
              "      border-left-color: var(--fill-color);\n",
              "      border-top-color: var(--fill-color);\n",
              "    }\n",
              "    30% {\n",
              "      border-color: transparent;\n",
              "      border-left-color: var(--fill-color);\n",
              "      border-top-color: var(--fill-color);\n",
              "      border-right-color: var(--fill-color);\n",
              "    }\n",
              "    40% {\n",
              "      border-color: transparent;\n",
              "      border-right-color: var(--fill-color);\n",
              "      border-top-color: var(--fill-color);\n",
              "    }\n",
              "    60% {\n",
              "      border-color: transparent;\n",
              "      border-right-color: var(--fill-color);\n",
              "    }\n",
              "    80% {\n",
              "      border-color: transparent;\n",
              "      border-right-color: var(--fill-color);\n",
              "      border-bottom-color: var(--fill-color);\n",
              "    }\n",
              "    90% {\n",
              "      border-color: transparent;\n",
              "      border-bottom-color: var(--fill-color);\n",
              "    }\n",
              "  }\n",
              "</style>\n",
              "\n",
              "  <script>\n",
              "    async function quickchart(key) {\n",
              "      const quickchartButtonEl =\n",
              "        document.querySelector('#' + key + ' button');\n",
              "      quickchartButtonEl.disabled = true;  // To prevent multiple clicks.\n",
              "      quickchartButtonEl.classList.add('colab-df-spinner');\n",
              "      try {\n",
              "        const charts = await google.colab.kernel.invokeFunction(\n",
              "            'suggestCharts', [key], {});\n",
              "      } catch (error) {\n",
              "        console.error('Error during call to suggestCharts:', error);\n",
              "      }\n",
              "      quickchartButtonEl.classList.remove('colab-df-spinner');\n",
              "      quickchartButtonEl.classList.add('colab-df-quickchart-complete');\n",
              "    }\n",
              "    (() => {\n",
              "      let quickchartButtonEl =\n",
              "        document.querySelector('#df-39c80605-2acf-4ede-86cd-8c1eb006f1d4 button');\n",
              "      quickchartButtonEl.style.display =\n",
              "        google.colab.kernel.accessAllowed ? 'block' : 'none';\n",
              "    })();\n",
              "  </script>\n",
              "</div>\n",
              "\n",
              "    </div>\n",
              "  </div>\n"
            ],
            "application/vnd.google.colaboratory.intrinsic+json": {
              "type": "dataframe",
              "variable_name": "previsores2",
              "summary": "{\n  \"name\": \"previsores2\",\n  \"rows\": 918,\n  \"fields\": [\n    {\n      \"column\": \"Age\",\n      \"properties\": {\n        \"dtype\": \"number\",\n        \"std\": 9,\n        \"min\": 28,\n        \"max\": 77,\n        \"num_unique_values\": 50,\n        \"samples\": [\n          44,\n          68,\n          66\n        ],\n        \"semantic_type\": \"\",\n        \"description\": \"\"\n      }\n    },\n    {\n      \"column\": \"Sex\",\n      \"properties\": {\n        \"dtype\": \"category\",\n        \"num_unique_values\": 2,\n        \"samples\": [\n          \"F\",\n          \"M\"\n        ],\n        \"semantic_type\": \"\",\n        \"description\": \"\"\n      }\n    },\n    {\n      \"column\": \"ChestPainType\",\n      \"properties\": {\n        \"dtype\": \"category\",\n        \"num_unique_values\": 4,\n        \"samples\": [\n          \"NAP\",\n          \"TA\"\n        ],\n        \"semantic_type\": \"\",\n        \"description\": \"\"\n      }\n    },\n    {\n      \"column\": \"RestingBP\",\n      \"properties\": {\n        \"dtype\": \"number\",\n        \"std\": 17.989931696967748,\n        \"min\": 80.0,\n        \"max\": 200.0,\n        \"num_unique_values\": 67,\n        \"samples\": [\n          165.0,\n          118.0\n        ],\n        \"semantic_type\": \"\",\n        \"description\": \"\"\n      }\n    },\n    {\n      \"column\": \"Cholesterol\",\n      \"properties\": {\n        \"dtype\": \"number\",\n        \"std\": 53.318031027957794,\n        \"min\": 85.0,\n        \"max\": 603.0,\n        \"num_unique_values\": 222,\n        \"samples\": [\n          305.0,\n          321.0\n        ],\n        \"semantic_type\": \"\",\n        \"description\": \"\"\n      }\n    },\n    {\n      \"column\": \"FastingBS\",\n      \"properties\": {\n        \"dtype\": \"number\",\n        \"std\": 0,\n        \"min\": 0,\n        \"max\": 1,\n        \"num_unique_values\": 2,\n        \"samples\": [\n          1,\n          0\n        ],\n        \"semantic_type\": \"\",\n        \"description\": \"\"\n      }\n    },\n    {\n      \"column\": \"RestingECG\",\n      \"properties\": {\n        \"dtype\": \"category\",\n        \"num_unique_values\": 3,\n        \"samples\": [\n          \"Normal\",\n          \"ST\"\n        ],\n        \"semantic_type\": \"\",\n        \"description\": \"\"\n      }\n    },\n    {\n      \"column\": \"MaxHR\",\n      \"properties\": {\n        \"dtype\": \"number\",\n        \"std\": 25,\n        \"min\": 60,\n        \"max\": 202,\n        \"num_unique_values\": 119,\n        \"samples\": [\n          132,\n          157\n        ],\n        \"semantic_type\": \"\",\n        \"description\": \"\"\n      }\n    },\n    {\n      \"column\": \"ExerciseAngina\",\n      \"properties\": {\n        \"dtype\": \"category\",\n        \"num_unique_values\": 2,\n        \"samples\": [\n          \"Y\",\n          \"N\"\n        ],\n        \"semantic_type\": \"\",\n        \"description\": \"\"\n      }\n    },\n    {\n      \"column\": \"Oldpeak\",\n      \"properties\": {\n        \"dtype\": \"number\",\n        \"std\": 1.0665701510493257,\n        \"min\": -2.6,\n        \"max\": 6.2,\n        \"num_unique_values\": 53,\n        \"samples\": [\n          1.3,\n          0.6\n        ],\n        \"semantic_type\": \"\",\n        \"description\": \"\"\n      }\n    },\n    {\n      \"column\": \"ST_Slope\",\n      \"properties\": {\n        \"dtype\": \"category\",\n        \"num_unique_values\": 3,\n        \"samples\": [\n          \"Up\",\n          \"Flat\"\n        ],\n        \"semantic_type\": \"\",\n        \"description\": \"\"\n      }\n    }\n  ]\n}"
            }
          },
          "metadata": {},
          "execution_count": 108
        }
      ],
      "source": [
        "previsores2 = df.iloc[:,0:11]\n",
        "previsores2.head()"
      ]
    },
    {
      "cell_type": "code",
      "execution_count": 109,
      "metadata": {
        "id": "Bh6-XkqbXzi3",
        "outputId": "567e50fb-d676-49ff-b65e-3fef9283e458",
        "colab": {
          "base_uri": "https://localhost:8080/"
        }
      },
      "outputs": [
        {
          "output_type": "execute_result",
          "data": {
            "text/plain": [
              "0      0\n",
              "1      1\n",
              "2      0\n",
              "3      1\n",
              "4      0\n",
              "      ..\n",
              "913    1\n",
              "914    1\n",
              "915    1\n",
              "916    1\n",
              "917    0\n",
              "Name: HeartDisease, Length: 918, dtype: int64"
            ]
          },
          "metadata": {},
          "execution_count": 109
        }
      ],
      "source": [
        "alvo2 = df.iloc[:,11]\n",
        "alvo2"
      ]
    },
    {
      "cell_type": "code",
      "execution_count": 110,
      "metadata": {
        "id": "YUhSiYKoXzi3"
      },
      "outputs": [],
      "source": [
        "x_treino,x_teste, y_treino,y_teste =train_test_split(previsores2,alvo2,test_size=0.25,random_state=0)"
      ]
    },
    {
      "cell_type": "code",
      "execution_count": 111,
      "metadata": {
        "id": "n4dtMXygXzi3"
      },
      "outputs": [],
      "source": [
        "categorias = ['Sex','ChestPainType','RestingECG','ExerciseAngina','ST_Slope']"
      ]
    },
    {
      "cell_type": "code",
      "execution_count": 112,
      "metadata": {
        "id": "fjrVN63cXzi3"
      },
      "outputs": [],
      "source": [
        "catboost = CatBoostClassifier(task_type='CPU',iterations=120,learning_rate=0.5,depth=1,random_state=3,eval_metric='Accuracy')"
      ]
    },
    {
      "cell_type": "code",
      "execution_count": 113,
      "metadata": {
        "id": "SMVaNsCBXzi4",
        "outputId": "1a321391-c5a1-4792-fec9-3727266b3c38",
        "colab": {
          "base_uri": "https://localhost:8080/",
          "height": 1000,
          "referenced_widgets": [
            "146434f74b8d4e6eb773750e84d56200"
          ]
        }
      },
      "outputs": [
        {
          "output_type": "display_data",
          "data": {
            "text/plain": [
              "MetricVisualizer(layout=Layout(align_self='stretch', height='500px'))"
            ],
            "application/vnd.jupyter.widget-view+json": {
              "version_major": 2,
              "version_minor": 0,
              "model_id": "146434f74b8d4e6eb773750e84d56200"
            }
          },
          "metadata": {}
        },
        {
          "output_type": "stream",
          "name": "stdout",
          "text": [
            "0:\tlearn: 0.7043478\ttest: 0.7043478\tbest: 0.7043478 (0)\ttotal: 48.4ms\tremaining: 5.76s\n",
            "1:\tlearn: 0.7869565\ttest: 0.7826087\tbest: 0.7826087 (1)\ttotal: 48.8ms\tremaining: 2.88s\n",
            "2:\tlearn: 0.7869565\ttest: 0.7826087\tbest: 0.7826087 (1)\ttotal: 49.3ms\tremaining: 1.92s\n",
            "3:\tlearn: 0.7826087\ttest: 0.7826087\tbest: 0.7826087 (1)\ttotal: 49.6ms\tremaining: 1.44s\n",
            "4:\tlearn: 0.7956522\ttest: 0.7913043\tbest: 0.7913043 (4)\ttotal: 50.1ms\tremaining: 1.15s\n",
            "5:\tlearn: 0.8217391\ttest: 0.8173913\tbest: 0.8173913 (5)\ttotal: 50.5ms\tremaining: 959ms\n",
            "6:\tlearn: 0.8173913\ttest: 0.8173913\tbest: 0.8173913 (5)\ttotal: 50.9ms\tremaining: 822ms\n",
            "7:\tlearn: 0.8260870\ttest: 0.8217391\tbest: 0.8217391 (7)\ttotal: 51.3ms\tremaining: 718ms\n",
            "8:\tlearn: 0.8347826\ttest: 0.8347826\tbest: 0.8347826 (8)\ttotal: 51.7ms\tremaining: 637ms\n",
            "9:\tlearn: 0.8304348\ttest: 0.8260870\tbest: 0.8347826 (8)\ttotal: 52.1ms\tremaining: 573ms\n",
            "10:\tlearn: 0.8347826\ttest: 0.8391304\tbest: 0.8391304 (10)\ttotal: 52.5ms\tremaining: 520ms\n",
            "11:\tlearn: 0.8347826\ttest: 0.8391304\tbest: 0.8391304 (10)\ttotal: 52.9ms\tremaining: 476ms\n",
            "12:\tlearn: 0.8347826\ttest: 0.8391304\tbest: 0.8391304 (10)\ttotal: 53.3ms\tremaining: 439ms\n",
            "13:\tlearn: 0.8391304\ttest: 0.8391304\tbest: 0.8391304 (10)\ttotal: 53.7ms\tremaining: 407ms\n",
            "14:\tlearn: 0.8434783\ttest: 0.8434783\tbest: 0.8434783 (14)\ttotal: 54.2ms\tremaining: 379ms\n",
            "15:\tlearn: 0.8434783\ttest: 0.8434783\tbest: 0.8434783 (14)\ttotal: 54.7ms\tremaining: 356ms\n",
            "16:\tlearn: 0.8434783\ttest: 0.8434783\tbest: 0.8434783 (14)\ttotal: 55.2ms\tremaining: 334ms\n",
            "17:\tlearn: 0.8434783\ttest: 0.8391304\tbest: 0.8434783 (14)\ttotal: 55.6ms\tremaining: 315ms\n",
            "18:\tlearn: 0.8434783\ttest: 0.8391304\tbest: 0.8434783 (14)\ttotal: 56ms\tremaining: 298ms\n",
            "19:\tlearn: 0.8434783\ttest: 0.8391304\tbest: 0.8434783 (14)\ttotal: 56.4ms\tremaining: 282ms\n",
            "20:\tlearn: 0.8434783\ttest: 0.8391304\tbest: 0.8434783 (14)\ttotal: 56.9ms\tremaining: 268ms\n",
            "21:\tlearn: 0.8478261\ttest: 0.8478261\tbest: 0.8478261 (21)\ttotal: 57.3ms\tremaining: 255ms\n",
            "22:\tlearn: 0.8478261\ttest: 0.8478261\tbest: 0.8478261 (21)\ttotal: 57.6ms\tremaining: 243ms\n",
            "23:\tlearn: 0.8434783\ttest: 0.8391304\tbest: 0.8478261 (21)\ttotal: 58ms\tremaining: 232ms\n",
            "24:\tlearn: 0.8434783\ttest: 0.8391304\tbest: 0.8478261 (21)\ttotal: 58.5ms\tremaining: 222ms\n",
            "25:\tlearn: 0.8521739\ttest: 0.8521739\tbest: 0.8521739 (25)\ttotal: 59.2ms\tremaining: 214ms\n",
            "26:\tlearn: 0.8478261\ttest: 0.8521739\tbest: 0.8521739 (25)\ttotal: 59.4ms\tremaining: 205ms\n",
            "27:\tlearn: 0.8478261\ttest: 0.8521739\tbest: 0.8521739 (25)\ttotal: 60.1ms\tremaining: 197ms\n",
            "28:\tlearn: 0.8478261\ttest: 0.8521739\tbest: 0.8521739 (25)\ttotal: 60.5ms\tremaining: 190ms\n",
            "29:\tlearn: 0.8521739\ttest: 0.8521739\tbest: 0.8521739 (25)\ttotal: 61ms\tremaining: 183ms\n",
            "30:\tlearn: 0.8478261\ttest: 0.8478261\tbest: 0.8521739 (25)\ttotal: 61.4ms\tremaining: 176ms\n",
            "31:\tlearn: 0.8521739\ttest: 0.8521739\tbest: 0.8521739 (25)\ttotal: 61.8ms\tremaining: 170ms\n",
            "32:\tlearn: 0.8521739\ttest: 0.8521739\tbest: 0.8521739 (25)\ttotal: 62.2ms\tremaining: 164ms\n",
            "33:\tlearn: 0.8521739\ttest: 0.8521739\tbest: 0.8521739 (25)\ttotal: 62.7ms\tremaining: 159ms\n",
            "34:\tlearn: 0.8478261\ttest: 0.8478261\tbest: 0.8521739 (25)\ttotal: 63.2ms\tremaining: 153ms\n",
            "35:\tlearn: 0.8521739\ttest: 0.8521739\tbest: 0.8521739 (25)\ttotal: 63.6ms\tremaining: 148ms\n",
            "36:\tlearn: 0.8521739\ttest: 0.8521739\tbest: 0.8521739 (25)\ttotal: 64ms\tremaining: 144ms\n",
            "37:\tlearn: 0.8521739\ttest: 0.8521739\tbest: 0.8521739 (25)\ttotal: 64.5ms\tremaining: 139ms\n",
            "38:\tlearn: 0.8521739\ttest: 0.8521739\tbest: 0.8521739 (25)\ttotal: 64.9ms\tremaining: 135ms\n",
            "39:\tlearn: 0.8521739\ttest: 0.8521739\tbest: 0.8521739 (25)\ttotal: 65.4ms\tremaining: 131ms\n",
            "40:\tlearn: 0.8521739\ttest: 0.8521739\tbest: 0.8521739 (25)\ttotal: 65.9ms\tremaining: 127ms\n",
            "41:\tlearn: 0.8521739\ttest: 0.8521739\tbest: 0.8521739 (25)\ttotal: 66.3ms\tremaining: 123ms\n",
            "42:\tlearn: 0.8521739\ttest: 0.8521739\tbest: 0.8521739 (25)\ttotal: 66.7ms\tremaining: 119ms\n",
            "43:\tlearn: 0.8521739\ttest: 0.8521739\tbest: 0.8521739 (25)\ttotal: 67.1ms\tremaining: 116ms\n",
            "44:\tlearn: 0.8565217\ttest: 0.8565217\tbest: 0.8565217 (44)\ttotal: 67.6ms\tremaining: 113ms\n",
            "45:\tlearn: 0.8565217\ttest: 0.8565217\tbest: 0.8565217 (44)\ttotal: 68ms\tremaining: 109ms\n",
            "46:\tlearn: 0.8565217\ttest: 0.8565217\tbest: 0.8565217 (44)\ttotal: 68.4ms\tremaining: 106ms\n",
            "47:\tlearn: 0.8478261\ttest: 0.8434783\tbest: 0.8565217 (44)\ttotal: 68.8ms\tremaining: 103ms\n",
            "48:\tlearn: 0.8521739\ttest: 0.8478261\tbest: 0.8565217 (44)\ttotal: 69.2ms\tremaining: 100ms\n",
            "49:\tlearn: 0.8521739\ttest: 0.8478261\tbest: 0.8565217 (44)\ttotal: 69.7ms\tremaining: 97.6ms\n",
            "50:\tlearn: 0.8478261\ttest: 0.8434783\tbest: 0.8565217 (44)\ttotal: 70.1ms\tremaining: 94.9ms\n",
            "51:\tlearn: 0.8521739\ttest: 0.8478261\tbest: 0.8565217 (44)\ttotal: 70.6ms\tremaining: 92.3ms\n",
            "52:\tlearn: 0.8478261\ttest: 0.8434783\tbest: 0.8565217 (44)\ttotal: 71.1ms\tremaining: 89.9ms\n",
            "53:\tlearn: 0.8521739\ttest: 0.8478261\tbest: 0.8565217 (44)\ttotal: 71.6ms\tremaining: 87.5ms\n",
            "54:\tlearn: 0.8521739\ttest: 0.8478261\tbest: 0.8565217 (44)\ttotal: 72ms\tremaining: 85.1ms\n",
            "55:\tlearn: 0.8565217\ttest: 0.8521739\tbest: 0.8565217 (44)\ttotal: 72.4ms\tremaining: 82.8ms\n",
            "56:\tlearn: 0.8695652\ttest: 0.8652174\tbest: 0.8652174 (56)\ttotal: 72.8ms\tremaining: 80.5ms\n",
            "57:\tlearn: 0.8652174\ttest: 0.8608696\tbest: 0.8652174 (56)\ttotal: 73.2ms\tremaining: 78.3ms\n",
            "58:\tlearn: 0.8652174\ttest: 0.8608696\tbest: 0.8652174 (56)\ttotal: 73.6ms\tremaining: 76.1ms\n",
            "59:\tlearn: 0.8565217\ttest: 0.8565217\tbest: 0.8652174 (56)\ttotal: 74ms\tremaining: 74ms\n",
            "60:\tlearn: 0.8565217\ttest: 0.8565217\tbest: 0.8652174 (56)\ttotal: 74.4ms\tremaining: 72ms\n",
            "61:\tlearn: 0.8565217\ttest: 0.8565217\tbest: 0.8652174 (56)\ttotal: 74.9ms\tremaining: 70ms\n",
            "62:\tlearn: 0.8565217\ttest: 0.8565217\tbest: 0.8652174 (56)\ttotal: 75.3ms\tremaining: 68.1ms\n",
            "63:\tlearn: 0.8565217\ttest: 0.8565217\tbest: 0.8652174 (56)\ttotal: 75.6ms\tremaining: 66.2ms\n",
            "64:\tlearn: 0.8565217\ttest: 0.8565217\tbest: 0.8652174 (56)\ttotal: 76.1ms\tremaining: 64.4ms\n",
            "65:\tlearn: 0.8608696\ttest: 0.8608696\tbest: 0.8652174 (56)\ttotal: 76.5ms\tremaining: 62.6ms\n",
            "66:\tlearn: 0.8608696\ttest: 0.8608696\tbest: 0.8652174 (56)\ttotal: 76.9ms\tremaining: 60.8ms\n",
            "67:\tlearn: 0.8608696\ttest: 0.8608696\tbest: 0.8652174 (56)\ttotal: 77.4ms\tremaining: 59.2ms\n",
            "68:\tlearn: 0.8608696\ttest: 0.8608696\tbest: 0.8652174 (56)\ttotal: 77.9ms\tremaining: 57.6ms\n",
            "69:\tlearn: 0.8608696\ttest: 0.8608696\tbest: 0.8652174 (56)\ttotal: 78.3ms\tremaining: 55.9ms\n",
            "70:\tlearn: 0.8652174\ttest: 0.8652174\tbest: 0.8652174 (56)\ttotal: 78.7ms\tremaining: 54.3ms\n",
            "71:\tlearn: 0.8652174\ttest: 0.8652174\tbest: 0.8652174 (56)\ttotal: 79.1ms\tremaining: 52.7ms\n",
            "72:\tlearn: 0.8652174\ttest: 0.8652174\tbest: 0.8652174 (56)\ttotal: 79.5ms\tremaining: 51.2ms\n",
            "73:\tlearn: 0.8652174\ttest: 0.8652174\tbest: 0.8652174 (56)\ttotal: 80ms\tremaining: 49.7ms\n",
            "74:\tlearn: 0.8652174\ttest: 0.8652174\tbest: 0.8652174 (56)\ttotal: 80.4ms\tremaining: 48.2ms\n",
            "75:\tlearn: 0.8652174\ttest: 0.8652174\tbest: 0.8652174 (56)\ttotal: 80.8ms\tremaining: 46.8ms\n",
            "76:\tlearn: 0.8739130\ttest: 0.8652174\tbest: 0.8652174 (56)\ttotal: 81.2ms\tremaining: 45.4ms\n",
            "77:\tlearn: 0.8739130\ttest: 0.8652174\tbest: 0.8652174 (56)\ttotal: 81.6ms\tremaining: 44ms\n",
            "78:\tlearn: 0.8739130\ttest: 0.8608696\tbest: 0.8652174 (56)\ttotal: 82ms\tremaining: 42.6ms\n",
            "79:\tlearn: 0.8739130\ttest: 0.8608696\tbest: 0.8652174 (56)\ttotal: 82.4ms\tremaining: 41.2ms\n",
            "80:\tlearn: 0.8739130\ttest: 0.8608696\tbest: 0.8652174 (56)\ttotal: 82.8ms\tremaining: 39.9ms\n",
            "81:\tlearn: 0.8739130\ttest: 0.8608696\tbest: 0.8652174 (56)\ttotal: 83.2ms\tremaining: 38.5ms\n",
            "82:\tlearn: 0.8739130\ttest: 0.8608696\tbest: 0.8652174 (56)\ttotal: 83.6ms\tremaining: 37.3ms\n",
            "83:\tlearn: 0.8739130\ttest: 0.8608696\tbest: 0.8652174 (56)\ttotal: 84ms\tremaining: 36ms\n",
            "84:\tlearn: 0.8739130\ttest: 0.8608696\tbest: 0.8652174 (56)\ttotal: 84.4ms\tremaining: 34.7ms\n",
            "85:\tlearn: 0.8739130\ttest: 0.8608696\tbest: 0.8652174 (56)\ttotal: 84.8ms\tremaining: 33.5ms\n",
            "86:\tlearn: 0.8739130\ttest: 0.8608696\tbest: 0.8652174 (56)\ttotal: 85.3ms\tremaining: 32.4ms\n",
            "87:\tlearn: 0.8695652\ttest: 0.8565217\tbest: 0.8652174 (56)\ttotal: 86ms\tremaining: 31.3ms\n",
            "88:\tlearn: 0.8695652\ttest: 0.8565217\tbest: 0.8652174 (56)\ttotal: 86.4ms\tremaining: 30.1ms\n",
            "89:\tlearn: 0.8695652\ttest: 0.8565217\tbest: 0.8652174 (56)\ttotal: 86.9ms\tremaining: 29ms\n",
            "90:\tlearn: 0.8695652\ttest: 0.8565217\tbest: 0.8652174 (56)\ttotal: 87.3ms\tremaining: 27.8ms\n",
            "91:\tlearn: 0.8695652\ttest: 0.8565217\tbest: 0.8652174 (56)\ttotal: 87.8ms\tremaining: 26.7ms\n",
            "92:\tlearn: 0.8739130\ttest: 0.8608696\tbest: 0.8652174 (56)\ttotal: 88.3ms\tremaining: 25.6ms\n",
            "93:\tlearn: 0.8739130\ttest: 0.8608696\tbest: 0.8652174 (56)\ttotal: 88.7ms\tremaining: 24.5ms\n",
            "94:\tlearn: 0.8739130\ttest: 0.8608696\tbest: 0.8652174 (56)\ttotal: 89.1ms\tremaining: 23.4ms\n",
            "95:\tlearn: 0.8739130\ttest: 0.8608696\tbest: 0.8652174 (56)\ttotal: 89.5ms\tremaining: 22.4ms\n",
            "96:\tlearn: 0.8739130\ttest: 0.8608696\tbest: 0.8652174 (56)\ttotal: 89.9ms\tremaining: 21.3ms\n",
            "97:\tlearn: 0.8739130\ttest: 0.8608696\tbest: 0.8652174 (56)\ttotal: 90.4ms\tremaining: 20.3ms\n",
            "98:\tlearn: 0.8739130\ttest: 0.8608696\tbest: 0.8652174 (56)\ttotal: 90.8ms\tremaining: 19.3ms\n",
            "99:\tlearn: 0.8739130\ttest: 0.8608696\tbest: 0.8652174 (56)\ttotal: 91.2ms\tremaining: 18.2ms\n",
            "100:\tlearn: 0.8739130\ttest: 0.8608696\tbest: 0.8652174 (56)\ttotal: 91.6ms\tremaining: 17.2ms\n",
            "101:\tlearn: 0.8739130\ttest: 0.8608696\tbest: 0.8652174 (56)\ttotal: 92.1ms\tremaining: 16.2ms\n",
            "102:\tlearn: 0.8782609\ttest: 0.8608696\tbest: 0.8652174 (56)\ttotal: 92.6ms\tremaining: 15.3ms\n",
            "103:\tlearn: 0.8782609\ttest: 0.8608696\tbest: 0.8652174 (56)\ttotal: 93.5ms\tremaining: 14.4ms\n",
            "104:\tlearn: 0.8782609\ttest: 0.8608696\tbest: 0.8652174 (56)\ttotal: 93.8ms\tremaining: 13.4ms\n",
            "105:\tlearn: 0.8782609\ttest: 0.8608696\tbest: 0.8652174 (56)\ttotal: 94.1ms\tremaining: 12.4ms\n",
            "106:\tlearn: 0.8826087\ttest: 0.8608696\tbest: 0.8652174 (56)\ttotal: 97.8ms\tremaining: 11.9ms\n",
            "107:\tlearn: 0.8826087\ttest: 0.8608696\tbest: 0.8652174 (56)\ttotal: 98.1ms\tremaining: 10.9ms\n",
            "108:\tlearn: 0.8826087\ttest: 0.8608696\tbest: 0.8652174 (56)\ttotal: 98.3ms\tremaining: 9.92ms\n",
            "109:\tlearn: 0.8826087\ttest: 0.8608696\tbest: 0.8652174 (56)\ttotal: 98.6ms\tremaining: 8.96ms\n",
            "110:\tlearn: 0.8869565\ttest: 0.8608696\tbest: 0.8652174 (56)\ttotal: 98.9ms\tremaining: 8.02ms\n",
            "111:\tlearn: 0.8869565\ttest: 0.8608696\tbest: 0.8652174 (56)\ttotal: 99.1ms\tremaining: 7.08ms\n",
            "112:\tlearn: 0.8869565\ttest: 0.8565217\tbest: 0.8652174 (56)\ttotal: 100ms\tremaining: 6.19ms\n",
            "113:\tlearn: 0.8869565\ttest: 0.8565217\tbest: 0.8652174 (56)\ttotal: 100ms\tremaining: 5.28ms\n",
            "114:\tlearn: 0.8869565\ttest: 0.8565217\tbest: 0.8652174 (56)\ttotal: 101ms\tremaining: 4.4ms\n",
            "115:\tlearn: 0.8913043\ttest: 0.8652174\tbest: 0.8652174 (56)\ttotal: 103ms\tremaining: 3.55ms\n",
            "116:\tlearn: 0.8913043\ttest: 0.8652174\tbest: 0.8652174 (56)\ttotal: 103ms\tremaining: 2.65ms\n",
            "117:\tlearn: 0.8913043\ttest: 0.8652174\tbest: 0.8652174 (56)\ttotal: 105ms\tremaining: 1.77ms\n",
            "118:\tlearn: 0.8913043\ttest: 0.8652174\tbest: 0.8652174 (56)\ttotal: 105ms\tremaining: 880us\n",
            "119:\tlearn: 0.8913043\ttest: 0.8652174\tbest: 0.8652174 (56)\ttotal: 105ms\tremaining: 0us\n",
            "\n",
            "bestTest = 0.8652173913\n",
            "bestIteration = 56\n",
            "\n",
            "Shrink model to first 57 iterations.\n"
          ]
        }
      ],
      "source": [
        "catboost.fit(x_teste,y_teste,cat_features=categorias,plot=True, eval_set=(x_teste,y_teste))\n",
        "previsoes_cat = catboost.predict(x_teste)\n",
        "\n"
      ]
    },
    {
      "cell_type": "code",
      "execution_count": 114,
      "metadata": {
        "id": "cIkJNZT2Xzi4",
        "outputId": "c60790b4-9c81-477e-808d-c4e3935d9fe7",
        "colab": {
          "base_uri": "https://localhost:8080/"
        }
      },
      "outputs": [
        {
          "output_type": "stream",
          "name": "stdout",
          "text": [
            "Acurácia Média: 86.52%\n",
            "\n",
            " Classificação: \n",
            "              precision    recall  f1-score   support\n",
            "\n",
            "           0       0.88      0.77      0.82        92\n",
            "           1       0.86      0.93      0.89       138\n",
            "\n",
            "    accuracy                           0.87       230\n",
            "   macro avg       0.87      0.85      0.86       230\n",
            "weighted avg       0.87      0.87      0.86       230\n",
            "\n",
            "\n",
            " Matriz:\n",
            "[[ 71  21]\n",
            " [ 10 128]]\n"
          ]
        }
      ],
      "source": [
        "print(\"Acurácia Média: %.2f%%\"%(accuracy_score(y_teste,previsoes_cat)*100.0))\n",
        "print(f'\\n Classificação: \\n{classification_report(y_teste,previsoes_cat)}')\n",
        "print(f'\\n Matriz:\\n{confusion_matrix(y_teste,previsoes_cat)}')\n"
      ]
    },
    {
      "cell_type": "code",
      "execution_count": 115,
      "metadata": {
        "id": "t4cen39sXzi4"
      },
      "outputs": [],
      "source": [
        "previsoes_cat_treino = catboost.predict(x_treino)"
      ]
    },
    {
      "cell_type": "code",
      "execution_count": 116,
      "metadata": {
        "id": "tqfILYJqXzi4",
        "outputId": "314ea757-a8b5-4256-d016-fa357a3b1b56",
        "colab": {
          "base_uri": "https://localhost:8080/"
        }
      },
      "outputs": [
        {
          "output_type": "stream",
          "name": "stdout",
          "text": [
            "Acurácia Média: 86.34%\n",
            "\n",
            " Classificação: \n",
            "              precision    recall  f1-score   support\n",
            "\n",
            "           0       0.90      0.80      0.84       318\n",
            "           1       0.84      0.92      0.88       370\n",
            "\n",
            "    accuracy                           0.86       688\n",
            "   macro avg       0.87      0.86      0.86       688\n",
            "weighted avg       0.87      0.86      0.86       688\n",
            "\n",
            "\n",
            " Matriz:\n",
            "[[253  65]\n",
            " [ 29 341]]\n"
          ]
        }
      ],
      "source": [
        "print(\"Acurácia Média: %.2f%%\"%(accuracy_score(y_treino,previsoes_cat_treino)*100.0))\n",
        "print(f'\\n Classificação: \\n{classification_report(y_treino,previsoes_cat_treino)}')\n",
        "print(f'\\n Matriz:\\n{confusion_matrix(y_treino,previsoes_cat_treino)}')"
      ]
    },
    {
      "cell_type": "code",
      "execution_count": 117,
      "metadata": {
        "id": "8eBmiDyLXzi5"
      },
      "outputs": [],
      "source": [
        "paciente1 = np.array([40, 0, 1, 140, 289, 0, 0, 172, 0, 0, 0])\n",
        "\n",
        "paciente1 = paciente1.reshape(1, -1)\n",
        "\n",
        "paciente2 = np.array([48,1,3,138,214,0,0,108,1,1.5,1])\n",
        "\n",
        "paciente2 = paciente2.reshape(1, -1)\n",
        "\n",
        "alvo1 = alvo.to_numpy()\n"
      ]
    },
    {
      "cell_type": "code",
      "execution_count": 118,
      "metadata": {
        "id": "KIS0E1Y4Xzi5",
        "outputId": "0868b4e5-41c4-4492-c7ff-0f98f7fc0d78",
        "colab": {
          "base_uri": "https://localhost:8080/"
        }
      },
      "outputs": [
        {
          "output_type": "stream",
          "name": "stdout",
          "text": [
            "O paciente não possui tendência problemas cardíacos\n"
          ]
        }
      ],
      "source": [
        "reg =  LogisticRegression(random_state=1, max_iter=600,penalty='l2',tol=0.0001,C=1,solver='lbfgs')\n",
        "\n",
        "reg.fit(previsores,alvo1)\n",
        "\n",
        "Re = reg.predict(paciente1)\n",
        "\n",
        "if Re == 1:\n",
        "    print('O paciente possui tendência de problemas cardíacos')\n",
        "else:\n",
        "    print('O paciente não possui tendência problemas cardíacos')"
      ]
    },
    {
      "cell_type": "code",
      "execution_count": 118,
      "metadata": {
        "id": "6qwFFiW9Xzi5"
      },
      "outputs": [],
      "source": []
    },
    {
      "cell_type": "code",
      "execution_count": 118,
      "metadata": {
        "id": "4J-933dVXzi5"
      },
      "outputs": [],
      "source": []
    },
    {
      "cell_type": "code",
      "execution_count": 118,
      "metadata": {
        "id": "I4mA6tFQXzi5"
      },
      "outputs": [],
      "source": []
    },
    {
      "cell_type": "code",
      "execution_count": 118,
      "metadata": {
        "id": "QLMTBCetXzi6"
      },
      "outputs": [],
      "source": []
    },
    {
      "cell_type": "code",
      "execution_count": 118,
      "metadata": {
        "id": "kg1I-_G4Xzi6"
      },
      "outputs": [],
      "source": []
    }
  ],
  "metadata": {
    "kernelspec": {
      "display_name": "base",
      "language": "python",
      "name": "python3"
    },
    "language_info": {
      "codemirror_mode": {
        "name": "ipython",
        "version": 3
      },
      "file_extension": ".py",
      "mimetype": "text/x-python",
      "name": "python",
      "nbconvert_exporter": "python",
      "pygments_lexer": "ipython3",
      "version": "3.10.12"
    },
    "colab": {
      "provenance": []
    },
    "widgets": {
      "application/vnd.jupyter.widget-state+json": {
        "146434f74b8d4e6eb773750e84d56200": {
          "model_module": "catboost-widget",
          "model_name": "CatboostWidgetModel",
          "model_module_version": "^1.0.0",
          "state": {
            "_dom_classes": [],
            "_model_module": "catboost-widget",
            "_model_module_version": "^1.0.0",
            "_model_name": "CatboostWidgetModel",
            "_view_count": null,
            "_view_module": "catboost-widget",
            "_view_module_version": "^1.0.0",
            "_view_name": "CatboostWidgetView",
            "data": {
              "catboost_info": {
                "path": "catboost_info",
                "name": "catboost_info",
                "content": {
                  "passed_iterations": 119,
                  "total_iterations": 120,
                  "data": {
                    "iterations": [
                      {
                        "learn": [
                          0.7043478261,
                          0.6065290934
                        ],
                        "iteration": 0,
                        "passed_time": 0.04839506133,
                        "remaining_time": 5.759012298,
                        "test": [
                          0.7043478261,
                          0.6065290934
                        ]
                      },
                      {
                        "learn": [
                          0.7869565217,
                          0.542617427
                        ],
                        "iteration": 1,
                        "passed_time": 0.04876808221,
                        "remaining_time": 2.87731685,
                        "test": [
                          0.7826086957,
                          0.5408425367
                        ]
                      },
                      {
                        "learn": [
                          0.7869565217,
                          0.5205668103
                        ],
                        "iteration": 2,
                        "passed_time": 0.04925795676,
                        "remaining_time": 1.921060314,
                        "test": [
                          0.7826086957,
                          0.5180583939
                        ]
                      },
                      {
                        "learn": [
                          0.7826086957,
                          0.4904617199
                        ],
                        "iteration": 3,
                        "passed_time": 0.04962920272,
                        "remaining_time": 1.439246879,
                        "test": [
                          0.7826086957,
                          0.4886164915
                        ]
                      },
                      {
                        "learn": [
                          0.7956521739,
                          0.4470941367
                        ],
                        "iteration": 4,
                        "passed_time": 0.05010306756,
                        "remaining_time": 1.152370554,
                        "test": [
                          0.7913043478,
                          0.4448716761
                        ]
                      },
                      {
                        "learn": [
                          0.8217391304,
                          0.4318186192
                        ],
                        "iteration": 5,
                        "passed_time": 0.05046507577,
                        "remaining_time": 0.9588364397,
                        "test": [
                          0.8173913043,
                          0.4299711093
                        ]
                      },
                      {
                        "learn": [
                          0.8173913043,
                          0.4177141969
                        ],
                        "iteration": 6,
                        "passed_time": 0.05090480856,
                        "remaining_time": 0.8217490525,
                        "test": [
                          0.8173913043,
                          0.4155427442
                        ]
                      },
                      {
                        "learn": [
                          0.8260869565,
                          0.4040723748
                        ],
                        "iteration": 7,
                        "passed_time": 0.0512777599,
                        "remaining_time": 0.7178886386,
                        "test": [
                          0.8217391304,
                          0.4028104281
                        ]
                      },
                      {
                        "learn": [
                          0.8347826087,
                          0.392074502
                        ],
                        "iteration": 8,
                        "passed_time": 0.05168323473,
                        "remaining_time": 0.6374265617,
                        "test": [
                          0.8347826087,
                          0.3913743057
                        ]
                      },
                      {
                        "learn": [
                          0.8304347826,
                          0.3878386848
                        ],
                        "iteration": 9,
                        "passed_time": 0.05205924002,
                        "remaining_time": 0.5726516402,
                        "test": [
                          0.8260869565,
                          0.3873337612
                        ]
                      },
                      {
                        "learn": [
                          0.8347826087,
                          0.3783968261
                        ],
                        "iteration": 10,
                        "passed_time": 0.05249369214,
                        "remaining_time": 0.5201647676,
                        "test": [
                          0.8391304348,
                          0.3786190842
                        ]
                      },
                      {
                        "learn": [
                          0.8347826087,
                          0.3779873658
                        ],
                        "iteration": 11,
                        "passed_time": 0.05287471674,
                        "remaining_time": 0.4758724507,
                        "test": [
                          0.8391304348,
                          0.3782138879
                        ]
                      },
                      {
                        "learn": [
                          0.8347826087,
                          0.3758217098
                        ],
                        "iteration": 12,
                        "passed_time": 0.05330693533,
                        "remaining_time": 0.4387570831,
                        "test": [
                          0.8391304348,
                          0.3759324776
                        ]
                      },
                      {
                        "learn": [
                          0.8391304348,
                          0.3752920365
                        ],
                        "iteration": 13,
                        "passed_time": 0.05374623905,
                        "remaining_time": 0.4069358099,
                        "test": [
                          0.8391304348,
                          0.3760369367
                        ]
                      },
                      {
                        "learn": [
                          0.8434782609,
                          0.3688836605
                        ],
                        "iteration": 14,
                        "passed_time": 0.05417906125,
                        "remaining_time": 0.3792534287,
                        "test": [
                          0.8434782609,
                          0.3694987043
                        ]
                      },
                      {
                        "learn": [
                          0.8434782609,
                          0.3667333242
                        ],
                        "iteration": 15,
                        "passed_time": 0.05469986755,
                        "remaining_time": 0.355549139,
                        "test": [
                          0.8434782609,
                          0.3672527117
                        ]
                      },
                      {
                        "learn": [
                          0.8434782609,
                          0.361956185
                        ],
                        "iteration": 16,
                        "passed_time": 0.05520058887,
                        "remaining_time": 0.3344506267,
                        "test": [
                          0.8434782609,
                          0.3625238029
                        ]
                      },
                      {
                        "learn": [
                          0.8434782609,
                          0.3569950363
                        ],
                        "iteration": 17,
                        "passed_time": 0.0556091531,
                        "remaining_time": 0.3151185342,
                        "test": [
                          0.8391304348,
                          0.3578464508
                        ]
                      },
                      {
                        "learn": [
                          0.8434782609,
                          0.355491707
                        ],
                        "iteration": 18,
                        "passed_time": 0.05600269939,
                        "remaining_time": 0.2976985599,
                        "test": [
                          0.8391304348,
                          0.3562054351
                        ]
                      },
                      {
                        "learn": [
                          0.8434782609,
                          0.3549706924
                        ],
                        "iteration": 19,
                        "passed_time": 0.05643251809,
                        "remaining_time": 0.2821625905,
                        "test": [
                          0.8391304348,
                          0.3561831382
                        ]
                      },
                      {
                        "learn": [
                          0.8434782609,
                          0.3546639173
                        ],
                        "iteration": 20,
                        "passed_time": 0.05685142139,
                        "remaining_time": 0.2680138437,
                        "test": [
                          0.8391304348,
                          0.3557302746
                        ]
                      },
                      {
                        "learn": [
                          0.847826087,
                          0.3514867871
                        ],
                        "iteration": 21,
                        "passed_time": 0.05726408225,
                        "remaining_time": 0.2550854573,
                        "test": [
                          0.847826087,
                          0.3523955227
                        ]
                      },
                      {
                        "learn": [
                          0.847826087,
                          0.3511626449
                        ],
                        "iteration": 22,
                        "passed_time": 0.05764979027,
                        "remaining_time": 0.2431317242,
                        "test": [
                          0.847826087,
                          0.3520417823
                        ]
                      },
                      {
                        "learn": [
                          0.8434782609,
                          0.3468625526
                        ],
                        "iteration": 23,
                        "passed_time": 0.05803978582,
                        "remaining_time": 0.2321591433,
                        "test": [
                          0.8391304348,
                          0.3481729993
                        ]
                      },
                      {
                        "learn": [
                          0.8434782609,
                          0.3465637556
                        ],
                        "iteration": 24,
                        "passed_time": 0.05845721737,
                        "remaining_time": 0.222137426,
                        "test": [
                          0.8391304348,
                          0.3479189418
                        ]
                      },
                      {
                        "learn": [
                          0.852173913,
                          0.3412398857
                        ],
                        "iteration": 25,
                        "passed_time": 0.05916170151,
                        "remaining_time": 0.2138923055,
                        "test": [
                          0.852173913,
                          0.3427046113
                        ]
                      },
                      {
                        "learn": [
                          0.847826087,
                          0.3369812292
                        ],
                        "iteration": 26,
                        "passed_time": 0.05942925774,
                        "remaining_time": 0.2047007767,
                        "test": [
                          0.852173913,
                          0.3390022944
                        ]
                      },
                      {
                        "learn": [
                          0.847826087,
                          0.336629565
                        ],
                        "iteration": 27,
                        "passed_time": 0.06009678905,
                        "remaining_time": 0.1974608783,
                        "test": [
                          0.852173913,
                          0.3390898592
                        ]
                      },
                      {
                        "learn": [
                          0.847826087,
                          0.3345819877
                        ],
                        "iteration": 28,
                        "passed_time": 0.06053112345,
                        "remaining_time": 0.1899424908,
                        "test": [
                          0.852173913,
                          0.3370259075
                        ]
                      },
                      {
                        "learn": [
                          0.852173913,
                          0.334171885
                        ],
                        "iteration": 29,
                        "passed_time": 0.06098410063,
                        "remaining_time": 0.1829523019,
                        "test": [
                          0.852173913,
                          0.3370663117
                        ]
                      },
                      {
                        "learn": [
                          0.847826087,
                          0.3338462247
                        ],
                        "iteration": 30,
                        "passed_time": 0.06136007592,
                        "remaining_time": 0.1761627986,
                        "test": [
                          0.847826087,
                          0.3366318964
                        ]
                      },
                      {
                        "learn": [
                          0.852173913,
                          0.3335975404
                        ],
                        "iteration": 31,
                        "passed_time": 0.06180474802,
                        "remaining_time": 0.1699630571,
                        "test": [
                          0.852173913,
                          0.3366867272
                        ]
                      },
                      {
                        "learn": [
                          0.852173913,
                          0.3332846338
                        ],
                        "iteration": 32,
                        "passed_time": 0.062236413,
                        "remaining_time": 0.1640778161,
                        "test": [
                          0.852173913,
                          0.3367442742
                        ]
                      },
                      {
                        "learn": [
                          0.852173913,
                          0.3332735573
                        ],
                        "iteration": 33,
                        "passed_time": 0.06270427448,
                        "remaining_time": 0.1586049296,
                        "test": [
                          0.852173913,
                          0.3366907654
                        ]
                      },
                      {
                        "learn": [
                          0.847826087,
                          0.3329963212
                        ],
                        "iteration": 34,
                        "passed_time": 0.06315577263,
                        "remaining_time": 0.153378305,
                        "test": [
                          0.847826087,
                          0.336334376
                        ]
                      },
                      {
                        "learn": [
                          0.852173913,
                          0.3326137838
                        ],
                        "iteration": 35,
                        "passed_time": 0.06357251103,
                        "remaining_time": 0.1483358591,
                        "test": [
                          0.852173913,
                          0.3364537049
                        ]
                      },
                      {
                        "learn": [
                          0.852173913,
                          0.3326115974
                        ],
                        "iteration": 36,
                        "passed_time": 0.0640177522,
                        "remaining_time": 0.1436073901,
                        "test": [
                          0.852173913,
                          0.3364323913
                        ]
                      },
                      {
                        "learn": [
                          0.852173913,
                          0.332441718
                        ],
                        "iteration": 37,
                        "passed_time": 0.06448104707,
                        "remaining_time": 0.1391433121,
                        "test": [
                          0.852173913,
                          0.3364942291
                        ]
                      },
                      {
                        "learn": [
                          0.852173913,
                          0.3321787126
                        ],
                        "iteration": 38,
                        "passed_time": 0.06494879356,
                        "remaining_time": 0.1348936482,
                        "test": [
                          0.852173913,
                          0.3361369821
                        ]
                      },
                      {
                        "learn": [
                          0.852173913,
                          0.3320472036
                        ],
                        "iteration": 39,
                        "passed_time": 0.06539370974,
                        "remaining_time": 0.1307874195,
                        "test": [
                          0.852173913,
                          0.3362093482
                        ]
                      },
                      {
                        "learn": [
                          0.852173913,
                          0.3320462246
                        ],
                        "iteration": 40,
                        "passed_time": 0.06587251572,
                        "remaining_time": 0.1269250913,
                        "test": [
                          0.852173913,
                          0.336195352
                        ]
                      },
                      {
                        "learn": [
                          0.852173913,
                          0.3317929008
                        ],
                        "iteration": 41,
                        "passed_time": 0.06627741239,
                        "remaining_time": 0.123086623,
                        "test": [
                          0.852173913,
                          0.3360107078
                        ]
                      },
                      {
                        "learn": [
                          0.852173913,
                          0.3315901043
                        ],
                        "iteration": 42,
                        "passed_time": 0.06671135863,
                        "remaining_time": 0.1194598748,
                        "test": [
                          0.852173913,
                          0.3360521063
                        ]
                      },
                      {
                        "learn": [
                          0.852173913,
                          0.3313724411
                        ],
                        "iteration": 43,
                        "passed_time": 0.06712295454,
                        "remaining_time": 0.1159396488,
                        "test": [
                          0.852173913,
                          0.3358599225
                        ]
                      },
                      {
                        "learn": [
                          0.8565217391,
                          0.3284111219
                        ],
                        "iteration": 44,
                        "passed_time": 0.06756832161,
                        "remaining_time": 0.1126138694,
                        "test": [
                          0.8565217391,
                          0.3331885216
                        ]
                      },
                      {
                        "learn": [
                          0.8565217391,
                          0.328391431
                        ],
                        "iteration": 45,
                        "passed_time": 0.06798062158,
                        "remaining_time": 0.1093601304,
                        "test": [
                          0.8565217391,
                          0.3330932767
                        ]
                      },
                      {
                        "learn": [
                          0.8565217391,
                          0.3278482796
                        ],
                        "iteration": 46,
                        "passed_time": 0.06841024483,
                        "remaining_time": 0.1062542101,
                        "test": [
                          0.8565217391,
                          0.332078917
                        ]
                      },
                      {
                        "learn": [
                          0.847826087,
                          0.3243526099
                        ],
                        "iteration": 47,
                        "passed_time": 0.068820344,
                        "remaining_time": 0.103230516,
                        "test": [
                          0.8434782609,
                          0.3283580144
                        ]
                      },
                      {
                        "learn": [
                          0.852173913,
                          0.3240430584
                        ],
                        "iteration": 48,
                        "passed_time": 0.06924932274,
                        "remaining_time": 0.1003408554,
                        "test": [
                          0.847826087,
                          0.327932641
                        ]
                      },
                      {
                        "learn": [
                          0.852173913,
                          0.3237990916
                        ],
                        "iteration": 49,
                        "passed_time": 0.06969246582,
                        "remaining_time": 0.09756945215,
                        "test": [
                          0.847826087,
                          0.3280250482
                        ]
                      },
                      {
                        "learn": [
                          0.847826087,
                          0.3236637566
                        ],
                        "iteration": 50,
                        "passed_time": 0.07013499848,
                        "remaining_time": 0.09488852735,
                        "test": [
                          0.8434782609,
                          0.3280905123
                        ]
                      },
                      {
                        "learn": [
                          0.852173913,
                          0.323383219
                        ],
                        "iteration": 51,
                        "passed_time": 0.07059417991,
                        "remaining_time": 0.09231546603,
                        "test": [
                          0.847826087,
                          0.3276932186
                        ]
                      },
                      {
                        "learn": [
                          0.847826087,
                          0.3232997461
                        ],
                        "iteration": 52,
                        "passed_time": 0.07113731562,
                        "remaining_time": 0.08992830466,
                        "test": [
                          0.8434782609,
                          0.327776329
                        ]
                      },
                      {
                        "learn": [
                          0.852173913,
                          0.3230558084
                        ],
                        "iteration": 53,
                        "passed_time": 0.07158289859,
                        "remaining_time": 0.08749020939,
                        "test": [
                          0.847826087,
                          0.3274426046
                        ]
                      },
                      {
                        "learn": [
                          0.852173913,
                          0.3228420982
                        ],
                        "iteration": 54,
                        "passed_time": 0.07199858432,
                        "remaining_time": 0.08508923601,
                        "test": [
                          0.847826087,
                          0.3271799194
                        ]
                      },
                      {
                        "learn": [
                          0.8565217391,
                          0.3197508493
                        ],
                        "iteration": 55,
                        "passed_time": 0.07243619538,
                        "remaining_time": 0.08278422329,
                        "test": [
                          0.852173913,
                          0.32467129
                        ]
                      },
                      {
                        "learn": [
                          0.8695652174,
                          0.3165711676
                        ],
                        "iteration": 56,
                        "passed_time": 0.07283117752,
                        "remaining_time": 0.08049761726,
                        "test": [
                          0.8652173913,
                          0.3213226312
                        ]
                      },
                      {
                        "learn": [
                          0.8652173913,
                          0.3163493127
                        ],
                        "iteration": 57,
                        "passed_time": 0.07323871316,
                        "remaining_time": 0.0782896589,
                        "test": [
                          0.8608695652,
                          0.3210046716
                        ]
                      },
                      {
                        "learn": [
                          0.8652173913,
                          0.3162903735
                        ],
                        "iteration": 58,
                        "passed_time": 0.07363467843,
                        "remaining_time": 0.07613076923,
                        "test": [
                          0.8608695652,
                          0.3210776456
                        ]
                      },
                      {
                        "learn": [
                          0.8565217391,
                          0.3141628845
                        ],
                        "iteration": 59,
                        "passed_time": 0.07404428807,
                        "remaining_time": 0.07404428807,
                        "test": [
                          0.8565217391,
                          0.3188007649
                        ]
                      },
                      {
                        "learn": [
                          0.8565217391,
                          0.3139435039
                        ],
                        "iteration": 60,
                        "passed_time": 0.0744475221,
                        "remaining_time": 0.07200661973,
                        "test": [
                          0.8565217391,
                          0.3184920921
                        ]
                      },
                      {
                        "learn": [
                          0.8565217391,
                          0.3139411427
                        ],
                        "iteration": 61,
                        "passed_time": 0.07485593679,
                        "remaining_time": 0.07002652151,
                        "test": [
                          0.8565217391,
                          0.3185222564
                        ]
                      },
                      {
                        "learn": [
                          0.8565217391,
                          0.3137462271
                        ],
                        "iteration": 62,
                        "passed_time": 0.07527139843,
                        "remaining_time": 0.06810269382,
                        "test": [
                          0.8565217391,
                          0.3182638804
                        ]
                      },
                      {
                        "learn": [
                          0.8565217391,
                          0.3135415584
                        ],
                        "iteration": 63,
                        "passed_time": 0.07564471112,
                        "remaining_time": 0.06618912223,
                        "test": [
                          0.8565217391,
                          0.3183842992
                        ]
                      },
                      {
                        "learn": [
                          0.8565217391,
                          0.3134310575
                        ],
                        "iteration": 64,
                        "passed_time": 0.07608910823,
                        "remaining_time": 0.06438309158,
                        "test": [
                          0.8565217391,
                          0.3182031369
                        ]
                      },
                      {
                        "learn": [
                          0.8608695652,
                          0.3132524173
                        ],
                        "iteration": 65,
                        "passed_time": 0.07649222226,
                        "remaining_time": 0.06258454549,
                        "test": [
                          0.8608695652,
                          0.3179648759
                        ]
                      },
                      {
                        "learn": [
                          0.8608695652,
                          0.3129074672
                        ],
                        "iteration": 66,
                        "passed_time": 0.07692272093,
                        "remaining_time": 0.06084931656,
                        "test": [
                          0.8608695652,
                          0.3175301093
                        ]
                      },
                      {
                        "learn": [
                          0.8608695652,
                          0.3128549633
                        ],
                        "iteration": 67,
                        "passed_time": 0.0773934941,
                        "remaining_time": 0.05918326019,
                        "test": [
                          0.8608695652,
                          0.3176257761
                        ]
                      },
                      {
                        "learn": [
                          0.8608695652,
                          0.312844428
                        ],
                        "iteration": 68,
                        "passed_time": 0.07786462179,
                        "remaining_time": 0.05755211176,
                        "test": [
                          0.8608695652,
                          0.317622787
                        ]
                      },
                      {
                        "learn": [
                          0.8608695652,
                          0.312813211
                        ],
                        "iteration": 69,
                        "passed_time": 0.07827310194,
                        "remaining_time": 0.05590935853,
                        "test": [
                          0.8608695652,
                          0.3176775688
                        ]
                      },
                      {
                        "learn": [
                          0.8652173913,
                          0.312717033
                        ],
                        "iteration": 70,
                        "passed_time": 0.07869976124,
                        "remaining_time": 0.05431391973,
                        "test": [
                          0.8652173913,
                          0.3175209556
                        ]
                      },
                      {
                        "learn": [
                          0.8652173913,
                          0.312553124
                        ],
                        "iteration": 71,
                        "passed_time": 0.07910974677,
                        "remaining_time": 0.05273983118,
                        "test": [
                          0.8652173913,
                          0.3173025451
                        ]
                      },
                      {
                        "learn": [
                          0.8652173913,
                          0.3125248632
                        ],
                        "iteration": 72,
                        "passed_time": 0.07954442388,
                        "remaining_time": 0.05121353318,
                        "test": [
                          0.8652173913,
                          0.3173728828
                        ]
                      },
                      {
                        "learn": [
                          0.8652173913,
                          0.3125216621
                        ],
                        "iteration": 73,
                        "passed_time": 0.07997019323,
                        "remaining_time": 0.04971120119,
                        "test": [
                          0.8652173913,
                          0.3173761445
                        ]
                      },
                      {
                        "learn": [
                          0.8652173913,
                          0.3125206855
                        ],
                        "iteration": 74,
                        "passed_time": 0.08038245092,
                        "remaining_time": 0.04822947055,
                        "test": [
                          0.8652173913,
                          0.3173823425
                        ]
                      },
                      {
                        "learn": [
                          0.8652173913,
                          0.3123525979
                        ],
                        "iteration": 75,
                        "passed_time": 0.08081759801,
                        "remaining_time": 0.04678913569,
                        "test": [
                          0.8652173913,
                          0.3171446767
                        ]
                      },
                      {
                        "learn": [
                          0.8739130435,
                          0.3095006838
                        ],
                        "iteration": 76,
                        "passed_time": 0.08122846987,
                        "remaining_time": 0.0453613533,
                        "test": [
                          0.8652173913,
                          0.3168711753
                        ]
                      },
                      {
                        "learn": [
                          0.8739130435,
                          0.309457914
                        ],
                        "iteration": 77,
                        "passed_time": 0.08162819451,
                        "remaining_time": 0.0439536432,
                        "test": [
                          0.8652173913,
                          0.3167347368
                        ]
                      },
                      {
                        "learn": [
                          0.8739130435,
                          0.3075880219
                        ],
                        "iteration": 78,
                        "passed_time": 0.08199825507,
                        "remaining_time": 0.04255605643,
                        "test": [
                          0.8608695652,
                          0.3151634349
                        ]
                      },
                      {
                        "learn": [
                          0.8739130435,
                          0.3075828933
                        ],
                        "iteration": 79,
                        "passed_time": 0.08241049504,
                        "remaining_time": 0.04120524752,
                        "test": [
                          0.8608695652,
                          0.3151356147
                        ]
                      },
                      {
                        "learn": [
                          0.8739130435,
                          0.307573458
                        ],
                        "iteration": 80,
                        "passed_time": 0.08277779846,
                        "remaining_time": 0.03985597704,
                        "test": [
                          0.8608695652,
                          0.3151458644
                        ]
                      },
                      {
                        "learn": [
                          0.8739130435,
                          0.3067496619
                        ],
                        "iteration": 81,
                        "passed_time": 0.08318818397,
                        "remaining_time": 0.03855062184,
                        "test": [
                          0.8608695652,
                          0.3140069058
                        ]
                      },
                      {
                        "learn": [
                          0.8739130435,
                          0.3050009101
                        ],
                        "iteration": 82,
                        "passed_time": 0.08357970127,
                        "remaining_time": 0.03725842105,
                        "test": [
                          0.8608695652,
                          0.3138845868
                        ]
                      },
                      {
                        "learn": [
                          0.8739130435,
                          0.3038704766
                        ],
                        "iteration": 83,
                        "passed_time": 0.08399388433,
                        "remaining_time": 0.035997379,
                        "test": [
                          0.8608695652,
                          0.3127971041
                        ]
                      },
                      {
                        "learn": [
                          0.8739130435,
                          0.3038686291
                        ],
                        "iteration": 84,
                        "passed_time": 0.08438190634,
                        "remaining_time": 0.03474549084,
                        "test": [
                          0.8608695652,
                          0.3127880044
                        ]
                      },
                      {
                        "learn": [
                          0.8739130435,
                          0.3038644164
                        ],
                        "iteration": 85,
                        "passed_time": 0.08479727162,
                        "remaining_time": 0.03352450273,
                        "test": [
                          0.8608695652,
                          0.3127930862
                        ]
                      },
                      {
                        "learn": [
                          0.8739130435,
                          0.3038632489
                        ],
                        "iteration": 86,
                        "passed_time": 0.08528996195,
                        "remaining_time": 0.03235136488,
                        "test": [
                          0.8608695652,
                          0.3127875024
                        ]
                      },
                      {
                        "learn": [
                          0.8695652174,
                          0.3021682398
                        ],
                        "iteration": 87,
                        "passed_time": 0.08595033723,
                        "remaining_time": 0.03125466808,
                        "test": [
                          0.8565217391,
                          0.3112364983
                        ]
                      },
                      {
                        "learn": [
                          0.8695652174,
                          0.3013808799
                        ],
                        "iteration": 88,
                        "passed_time": 0.08638708652,
                        "remaining_time": 0.03008988407,
                        "test": [
                          0.8565217391,
                          0.3104081018
                        ]
                      },
                      {
                        "learn": [
                          0.8695652174,
                          0.3011667984
                        ],
                        "iteration": 89,
                        "passed_time": 0.08686985913,
                        "remaining_time": 0.02895661971,
                        "test": [
                          0.8565217391,
                          0.3101527337
                        ]
                      },
                      {
                        "learn": [
                          0.8695652174,
                          0.3005922989
                        ],
                        "iteration": 90,
                        "passed_time": 0.08729833743,
                        "remaining_time": 0.02782034929,
                        "test": [
                          0.8565217391,
                          0.3094837804
                        ]
                      },
                      {
                        "learn": [
                          0.8695652174,
                          0.3003253187
                        ],
                        "iteration": 91,
                        "passed_time": 0.08775849109,
                        "remaining_time": 0.02670910598,
                        "test": [
                          0.8565217391,
                          0.3092377778
                        ]
                      },
                      {
                        "learn": [
                          0.8739130435,
                          0.2999476066
                        ],
                        "iteration": 92,
                        "passed_time": 0.0882692874,
                        "remaining_time": 0.02562656731,
                        "test": [
                          0.8608695652,
                          0.3087967003
                        ]
                      },
                      {
                        "learn": [
                          0.8739130435,
                          0.2999328307
                        ],
                        "iteration": 93,
                        "passed_time": 0.08871110327,
                        "remaining_time": 0.02453711367,
                        "test": [
                          0.8608695652,
                          0.3088963189
                        ]
                      },
                      {
                        "learn": [
                          0.8739130435,
                          0.2999280207
                        ],
                        "iteration": 94,
                        "passed_time": 0.08908250696,
                        "remaining_time": 0.02344276499,
                        "test": [
                          0.8608695652,
                          0.3089044552
                        ]
                      },
                      {
                        "learn": [
                          0.8739130435,
                          0.2999277838
                        ],
                        "iteration": 95,
                        "passed_time": 0.08951851537,
                        "remaining_time": 0.02237962884,
                        "test": [
                          0.8608695652,
                          0.3089030464
                        ]
                      },
                      {
                        "learn": [
                          0.8739130435,
                          0.2999242836
                        ],
                        "iteration": 96,
                        "passed_time": 0.08992181985,
                        "remaining_time": 0.02132166862,
                        "test": [
                          0.8608695652,
                          0.308908234
                        ]
                      },
                      {
                        "learn": [
                          0.8739130435,
                          0.2998037525
                        ],
                        "iteration": 97,
                        "passed_time": 0.09035192808,
                        "remaining_time": 0.0202830859,
                        "test": [
                          0.8608695652,
                          0.3087218861
                        ]
                      },
                      {
                        "learn": [
                          0.8739130435,
                          0.2993772395
                        ],
                        "iteration": 98,
                        "passed_time": 0.0908218331,
                        "remaining_time": 0.01926523733,
                        "test": [
                          0.8608695652,
                          0.3083587458
                        ]
                      },
                      {
                        "learn": [
                          0.8739130435,
                          0.2969773297
                        ],
                        "iteration": 99,
                        "passed_time": 0.09124055641,
                        "remaining_time": 0.01824811128,
                        "test": [
                          0.8608695652,
                          0.3063131278
                        ]
                      },
                      {
                        "learn": [
                          0.8739130435,
                          0.2969748372
                        ],
                        "iteration": 100,
                        "passed_time": 0.09163370363,
                        "remaining_time": 0.01723802346,
                        "test": [
                          0.8608695652,
                          0.3063075071
                        ]
                      },
                      {
                        "learn": [
                          0.8739130435,
                          0.2965725302
                        ],
                        "iteration": 101,
                        "passed_time": 0.09206204467,
                        "remaining_time": 0.01624624318,
                        "test": [
                          0.8608695652,
                          0.305823526
                        ]
                      },
                      {
                        "learn": [
                          0.8782608696,
                          0.2938768538
                        ],
                        "iteration": 102,
                        "passed_time": 0.09256436092,
                        "remaining_time": 0.01527761297,
                        "test": [
                          0.8608695652,
                          0.3039925047
                        ]
                      },
                      {
                        "learn": [
                          0.8782608696,
                          0.2937651596
                        ],
                        "iteration": 103,
                        "passed_time": 0.09353084291,
                        "remaining_time": 0.01438936045,
                        "test": [
                          0.8608695652,
                          0.3038739047
                        ]
                      },
                      {
                        "learn": [
                          0.8782608696,
                          0.2937480255
                        ],
                        "iteration": 104,
                        "passed_time": 0.09379802734,
                        "remaining_time": 0.01339971819,
                        "test": [
                          0.8608695652,
                          0.3038920324
                        ]
                      },
                      {
                        "learn": [
                          0.8782608696,
                          0.2937369414
                        ],
                        "iteration": 105,
                        "passed_time": 0.09405237191,
                        "remaining_time": 0.01242201138,
                        "test": [
                          0.8608695652,
                          0.3039126516
                        ]
                      },
                      {
                        "learn": [
                          0.8826086957,
                          0.2919444848
                        ],
                        "iteration": 106,
                        "passed_time": 0.09781523147,
                        "remaining_time": 0.01188409354,
                        "test": [
                          0.8608695652,
                          0.3022359051
                        ]
                      },
                      {
                        "learn": [
                          0.8826086957,
                          0.2918421888
                        ],
                        "iteration": 107,
                        "passed_time": 0.09808945967,
                        "remaining_time": 0.01089882885,
                        "test": [
                          0.8608695652,
                          0.3021403894
                        ]
                      },
                      {
                        "learn": [
                          0.8826086957,
                          0.2918420711
                        ],
                        "iteration": 108,
                        "passed_time": 0.09834246248,
                        "remaining_time": 0.00992446869,
                        "test": [
                          0.8608695652,
                          0.3021434939
                        ]
                      },
                      {
                        "learn": [
                          0.8826086957,
                          0.2916370233
                        ],
                        "iteration": 109,
                        "passed_time": 0.09860758791,
                        "remaining_time": 0.008964326173,
                        "test": [
                          0.8608695652,
                          0.3023375234
                        ]
                      },
                      {
                        "learn": [
                          0.8869565217,
                          0.2913160968
                        ],
                        "iteration": 110,
                        "passed_time": 0.09887104523,
                        "remaining_time": 0.008016571235,
                        "test": [
                          0.8608695652,
                          0.3031844377
                        ]
                      },
                      {
                        "learn": [
                          0.8869565217,
                          0.2912528571
                        ],
                        "iteration": 111,
                        "passed_time": 0.09912668792,
                        "remaining_time": 0.007080477709,
                        "test": [
                          0.8608695652,
                          0.3032265703
                        ]
                      },
                      {
                        "learn": [
                          0.8869565217,
                          0.291218414
                        ],
                        "iteration": 112,
                        "passed_time": 0.09999988333,
                        "remaining_time": 0.006194683038,
                        "test": [
                          0.8565217391,
                          0.3032534893
                        ]
                      },
                      {
                        "learn": [
                          0.8869565217,
                          0.2912176817
                        ],
                        "iteration": 113,
                        "passed_time": 0.1002939283,
                        "remaining_time": 0.005278627807,
                        "test": [
                          0.8565217391,
                          0.3032490436
                        ]
                      },
                      {
                        "learn": [
                          0.8869565217,
                          0.2911978209
                        ],
                        "iteration": 114,
                        "passed_time": 0.1012722889,
                        "remaining_time": 0.004403142994,
                        "test": [
                          0.8565217391,
                          0.3032671794
                        ]
                      },
                      {
                        "learn": [
                          0.8913043478,
                          0.2908004052
                        ],
                        "iteration": 115,
                        "passed_time": 0.1029194961,
                        "remaining_time": 0.003548948141,
                        "test": [
                          0.8652173913,
                          0.3026290558
                        ]
                      },
                      {
                        "learn": [
                          0.8913043478,
                          0.2906795423
                        ],
                        "iteration": 116,
                        "passed_time": 0.1031867951,
                        "remaining_time": 0.002645815258,
                        "test": [
                          0.8652173913,
                          0.3024472408
                        ]
                      },
                      {
                        "learn": [
                          0.8913043478,
                          0.2905766429
                        ],
                        "iteration": 117,
                        "passed_time": 0.1045310573,
                        "remaining_time": 0.001771712835,
                        "test": [
                          0.8652173913,
                          0.3023404044
                        ]
                      },
                      {
                        "learn": [
                          0.8913043478,
                          0.2904360314
                        ],
                        "iteration": 118,
                        "passed_time": 0.1048172263,
                        "remaining_time": 0.0008808170274,
                        "test": [
                          0.8652173913,
                          0.3025354647
                        ]
                      },
                      {
                        "learn": [
                          0.8913043478,
                          0.2904352257
                        ],
                        "iteration": 119,
                        "passed_time": 0.1050861711,
                        "remaining_time": 0,
                        "test": [
                          0.8652173913,
                          0.3025458313
                        ]
                      }
                    ],
                    "meta": {
                      "test_sets": [
                        "test"
                      ],
                      "test_metrics": [
                        {
                          "best_value": "Max",
                          "name": "Accuracy"
                        },
                        {
                          "best_value": "Min",
                          "name": "Logloss"
                        }
                      ],
                      "learn_metrics": [
                        {
                          "best_value": "Max",
                          "name": "Accuracy"
                        },
                        {
                          "best_value": "Min",
                          "name": "Logloss"
                        }
                      ],
                      "launch_mode": "Train",
                      "parameters": "",
                      "iteration_count": 120,
                      "learn_sets": [
                        "learn"
                      ],
                      "name": "experiment"
                    }
                  }
                }
              }
            },
            "layout": "IPY_MODEL_4fc6135162bf4e37a2a1217b8906c638"
          }
        }
      }
    }
  },
  "nbformat": 4,
  "nbformat_minor": 0
}