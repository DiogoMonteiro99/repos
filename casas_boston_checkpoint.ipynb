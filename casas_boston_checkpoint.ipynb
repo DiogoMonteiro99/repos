{
  "cells": [
    {
      "cell_type": "markdown",
      "metadata": {
        "id": "view-in-github",
        "colab_type": "text"
      },
      "source": [
        "<a href=\"https://colab.research.google.com/github/DiogoMonteiro99/repos/blob/main/casas_boston_checkpoint.ipynb\" target=\"_parent\"><img src=\"https://colab.research.google.com/assets/colab-badge.svg\" alt=\"Open In Colab\"/></a>"
      ]
    },
    {
      "cell_type": "code",
      "source": [
        "from google.colab import drive\n",
        "drive.mount('/content/drive')"
      ],
      "metadata": {
        "id": "kYLE0w9hwZ0u",
        "colab": {
          "base_uri": "https://localhost:8080/"
        },
        "outputId": "b2b8ae86-ff86-4a59-859c-c286197e7e7f"
      },
      "execution_count": null,
      "outputs": [
        {
          "output_type": "stream",
          "name": "stdout",
          "text": [
            "Mounted at /content/drive\n"
          ]
        }
      ]
    },
    {
      "cell_type": "markdown",
      "metadata": {
        "id": "3jz3iAf_R-Qg"
      },
      "source": [
        "#Importando as biblitecas"
      ]
    },
    {
      "cell_type": "code",
      "execution_count": null,
      "metadata": {
        "id": "fVPzuCqZR-Qm"
      },
      "outputs": [],
      "source": [
        "import pandas as pd\n",
        "import numpy as np\n",
        "import seaborn as sns\n",
        "import matplotlib.pyplot as plt\n",
        "import plotly.express as px\n",
        "import statistics as sts\n",
        "import warnings\n",
        "from scipy.stats import probplot,shapiro,spearmanr,pearsonr,kendalltau\n",
        "from statsmodels import stats\n",
        "from statsmodels.stats.diagnostic import lilliefors\n",
        "import statsmodels\n",
        "from sklearn.model_selection import train_test_split\n",
        "from sklearn.linear_model import LinearRegression\n",
        "from sklearn.metrics import mean_absolute_error,mean_squared_error\n",
        "from google.cloud import bigquery\n",
        "\n",
        "\n",
        "warnings.filterwarnings('ignore')\n",
        "\n",
        "credencial = r'/content/drive/MyDrive/Colab Notebooks/datacienceacadamy-65356b6a3131.json'\n",
        "\n",
        "casas = bigquery.Client.from_service_account_json(credencial)\n",
        "\n",
        "query = \"\"\"SELECT * FROM `datacienceacadamy.Aulas.Casas` \"\"\"\n",
        "\n",
        "resultado = casas.query(query)\n",
        "\n",
        "df = resultado.to_dataframe()\n",
        "\n",
        "df.head()"
      ]
    },
    {
      "cell_type": "markdown",
      "metadata": {
        "id": "voIjwafOR-Qr"
      },
      "source": [
        "**Entendendo as colunas**\n",
        "\n",
        "RM: É o número médio de cômodos entre os imoveis no bairro.\n",
        "\n",
        "LSTAT: É a porcentagem de proprietários no bairro considerados de \"classe baixa\" (proletariado)\n",
        "\n",
        "PTRATIO: É a razão entre estudantes e professores nas escolas de ensino fundamental e médio no bairro.\n",
        "\n",
        "**Coluna alvo**\n",
        "\n",
        "MEDV: Valor médio das casas        "
      ]
    },
    {
      "cell_type": "code",
      "execution_count": null,
      "metadata": {
        "id": "KdE07jjfR-Qs"
      },
      "outputs": [],
      "source": [
        "class Analisar():\n",
        "    def __init__(self,dados):\n",
        "        self.df = dados\n",
        "    def analise(self):\n",
        "        for i in self.df.columns:\n",
        "            if self.df[i].dtype == 'int64' or self.df[i].dtype == 'float64':\n",
        "                print(f'\\n Nome da coluna:\\n {self.df[i].name}')\n",
        "                print(f'\\n Tipo da coluna:\\n {self.df[i].dtype}')\n",
        "                print(f'\\n Tipo da coluna:\\n {self.df.corr()}')\n",
        "                print(f'\\n Valor media da coluna:\\n%.2f%%' round(self.df[i].mean(),2))\n",
        "                print(f'\\n Quantidade de linhas da coluna:\\n {self.df[i].shape}')\n",
        "                print(f'\\n Valores unicos da coluna:\\n {self.df[i].isnull().sum()}')\n",
        "                print(f'\\n Valores nulos da coluna:\\n {self.df[i].describe()}')\n",
        "                fig = px.box(self.df[i])\n",
        "                fig.update_layout(xaxis=dict(showgrid=False),yaxis=dict(showgrid=False),title=f'Boxplot da coluna {i}',template='plotly_dark')\n",
        "                fig.show()\n",
        "Analise = Analisar(df)"
      ]
    },
    {
      "cell_type": "code",
      "execution_count": null,
      "metadata": {
        "id": "YKmPRsX7R-Qu"
      },
      "outputs": [],
      "source": [
        "Analise.analise()"
      ]
    },
    {
      "cell_type": "code",
      "execution_count": null,
      "metadata": {
        "id": "g1xNZ2PoR-Qw"
      },
      "outputs": [],
      "source": [
        "fig = px.scatter_matrix(df,dimensions=[\"RM\", \"LSTAT\", \"PTRATIO\", \"MEDV\"])\n",
        "fig.update_layout(height=800,width=800,title='Correlação',template='plotly_dark')\n",
        "fig.show()"
      ]
    },
    {
      "cell_type": "markdown",
      "source": [
        "# **Análise da Normalidade**\n",
        "\n",
        "Gráfico QQ-Plot"
      ],
      "metadata": {
        "id": "R8i_ox-GWZri"
      }
    },
    {
      "cell_type": "code",
      "execution_count": null,
      "metadata": {
        "id": "41Ph-pVeR-Qw"
      },
      "outputs": [],
      "source": [
        "probplot(df.MEDV,dist='norm',plot=plt)\n",
        "plt.style.use('dark_background')\n",
        "plt.title('Normal Q-Q plot')\n",
        "plt.show()"
      ]
    },
    {
      "cell_type": "code",
      "source": [
        "df.columns"
      ],
      "metadata": {
        "id": "SvzBD8fnXggg"
      },
      "execution_count": null,
      "outputs": []
    },
    {
      "cell_type": "code",
      "execution_count": null,
      "metadata": {
        "id": "1D7hD-7KR-Qx"
      },
      "outputs": [],
      "source": [
        "fig1 = px.histogram(df,x='MEDV',nbins=50,template='plotly_dark')\n",
        "fig1.update_layout(title_text='Média dos valores')\n",
        "fig1.show()"
      ]
    },
    {
      "cell_type": "code",
      "execution_count": null,
      "metadata": {
        "id": "yQvlb4n7R-Qy"
      },
      "outputs": [],
      "source": [
        "probplot(df.RM,dist='norm',plot=plt)\n",
        "plt.style.use('dark_background')\n",
        "plt.title('Normal Q-Q plot')\n",
        "plt.show()"
      ]
    },
    {
      "cell_type": "code",
      "execution_count": null,
      "metadata": {
        "id": "Rl9J3qJHR-Qy"
      },
      "outputs": [],
      "source": [
        "fig2 = px.histogram(df,x='RM',nbins=40,template='plotly_dark')\n",
        "fig2.update_layout(title_text='Média dos quartos')\n",
        "fig2.show()"
      ]
    },
    {
      "cell_type": "code",
      "execution_count": null,
      "metadata": {
        "id": "zIRwymgRR-Qy"
      },
      "outputs": [],
      "source": [
        "probplot(df.LSTAT,dist='norm',plot=plt)\n",
        "plt.style.use('dark_background')\n",
        "plt.title('Normal Q-Q plot')\n",
        "plt.show()"
      ]
    },
    {
      "cell_type": "code",
      "execution_count": null,
      "metadata": {
        "id": "hD0psUYDR-Qy"
      },
      "outputs": [],
      "source": [
        "fig3 = px.histogram(df,x='LSTAT', nbins=40,template='plotly_dark')\n",
        "fig3.update_layout(title_text='Porcentagem de moradores de classe baixa')\n",
        "fig3.show()"
      ]
    },
    {
      "cell_type": "code",
      "execution_count": null,
      "metadata": {
        "id": "SE6GbACXR-Qz"
      },
      "outputs": [],
      "source": [
        "probplot(df.PTRATIO,dist='norm',plot=plt)\n",
        "plt.style.use('dark_background')\n",
        "plt.title('Normal Q-Q plot')\n",
        "plt.show()"
      ]
    },
    {
      "cell_type": "code",
      "execution_count": null,
      "metadata": {
        "id": "K4gmccNUR-Q0"
      },
      "outputs": [],
      "source": [
        "fig4 = px.histogram(df,x='PTRATIO',nbins=40,template='plotly_dark')\n",
        "fig4.update_layout(title_text='Razão entre estudante e professores')\n",
        "fig4.show()"
      ]
    },
    {
      "cell_type": "markdown",
      "source": [
        "##Teste de Shapiro-Wilk\n",
        "Shapiro-Wilk pode ser usado no maximo 5000 linhas\n",
        "\n",
        "Ho = distribuição normal: p > 0.05\n",
        "\n",
        "Ha = distribuição != normal: p <= 0.05"
      ],
      "metadata": {
        "id": "5w-pWrZqePSp"
      }
    },
    {
      "cell_type": "code",
      "execution_count": null,
      "metadata": {
        "id": "cpNWc_u2R-Q0"
      },
      "outputs": [],
      "source": [
        "shapiro(df.MEDV)"
      ]
    },
    {
      "cell_type": "code",
      "execution_count": null,
      "metadata": {
        "id": "29gTLMALR-Q0"
      },
      "outputs": [],
      "source": [
        "estatistica,p =shapiro(df.MEDV)\n",
        "print('Shapiro-Wilk')\n",
        "print(f'Estatisca do teste: {round(estatistica,2)}')\n",
        "print(f'P-valor: {round(p,4)}')"
      ]
    },
    {
      "cell_type": "code",
      "execution_count": null,
      "metadata": {
        "id": "cAV1puQoR-Q0"
      },
      "outputs": [],
      "source": [
        "estatistica,p =shapiro(df.RM)\n",
        "print('Shapiro-Wilk')\n",
        "print(f'Estatisca do teste: {round(estatistica,2)}')\n",
        "print(f'P-valor: {round(p,4)}')"
      ]
    },
    {
      "cell_type": "code",
      "execution_count": null,
      "metadata": {
        "id": "eWzFd8ZlR-Q0"
      },
      "outputs": [],
      "source": [
        "estatistica,p =shapiro(df.LSTAT)\n",
        "print('Shapiro-Wilk')\n",
        "print(f'Estatisca do teste: {round(estatistica,2)}')\n",
        "print(f'P-valor: {round(p,4)}')"
      ]
    },
    {
      "cell_type": "code",
      "execution_count": null,
      "metadata": {
        "id": "5KW9SF81R-Q0"
      },
      "outputs": [],
      "source": [
        "estatistica,p =shapiro(df.PTRATIO)\n",
        "print('Shapiro-Wilk')\n",
        "print(f'Estatisca do teste: {round(estatistica,2)}')\n",
        "print(f'P-valor: {round(p,2)}')"
      ]
    },
    {
      "cell_type": "markdown",
      "source": [
        "# **Teste lilliefors (Kolmogorov_Sminov)**\n",
        "##Lilliefors pode ser usado com mais de 5000 linhas\n",
        "\n",
        "Ho = distribuição normal: p > 0.05\n",
        "\n",
        "Ha = distribuição normal: p<= 0.05"
      ],
      "metadata": {
        "id": "BnRoJVaXA6_m"
      }
    },
    {
      "cell_type": "code",
      "execution_count": null,
      "metadata": {
        "id": "Hhmqo9u3R-Q0"
      },
      "outputs": [],
      "source": [
        "estatistica,p =statsmodels.stats.diagnostic.lilliefors(df.MEDV,dist='norm')\n",
        "print('Lilliefors')\n",
        "print(f'Estatisca do teste: {round(estatistica,2)}')\n",
        "print(f'P-valor: {round(p,2)}')"
      ]
    },
    {
      "cell_type": "code",
      "execution_count": null,
      "metadata": {
        "id": "yCxZU0y7R-Q0"
      },
      "outputs": [],
      "source": [
        "estatistica,p =statsmodels.stats.diagnostic.lilliefors(df.RM,dist='norm')\n",
        "print('Lilliefors')\n",
        "print(f'Estatisca do teste: {round(estatistica,2)}')\n",
        "print(f'P-valor: {round(p,2)}')"
      ]
    },
    {
      "cell_type": "code",
      "execution_count": null,
      "metadata": {
        "id": "dy817UfQR-Q1"
      },
      "outputs": [],
      "source": [
        "estatistica,p =statsmodels.stats.diagnostic.lilliefors(df.LSTAT,dist='norm')\n",
        "print('Lilliefors')\n",
        "print(f'Estatisca do teste: {round(estatistica,2)}')\n",
        "print(f'P-valor: {round(p,2)}')"
      ]
    },
    {
      "cell_type": "code",
      "execution_count": null,
      "metadata": {
        "id": "BnjahTf4R-Q1"
      },
      "outputs": [],
      "source": [
        "estatistica,p =statsmodels.stats.diagnostic.lilliefors(df.PTRATIO,dist='norm')\n",
        "print('Lilliefors')\n",
        "print(f'Estatisca do teste: {round(estatistica,2)}')\n",
        "print(f'P-valor: {round(p,2)}')"
      ]
    },
    {
      "cell_type": "markdown",
      "source": [
        "# **Correlação Linear**\n",
        "##Pearson (distribuição normal)\n",
        "\n",
        "##Spearman (distribuição não normal)\n",
        "\n",
        "##Kendall (distribuição não normal com quantidade pequena de amostras)\n",
        "\n",
        "Ho = Não há correlação linear: p > 0.05\n",
        "\n",
        "Ha = existe correlação linear: p <= 0.05"
      ],
      "metadata": {
        "id": "FzjCAI__LDvL"
      }
    },
    {
      "cell_type": "markdown",
      "source": [
        "**Pearson**"
      ],
      "metadata": {
        "id": "G_c32qV4NVJi"
      }
    },
    {
      "cell_type": "code",
      "source": [
        "coef,p = pearsonr(df.MEDV,df.RM)\n",
        "print('Pearson')\n",
        "print(f'Coeficiente de correlação: {round(coef,2)}')\n",
        "print(f'p-valor: {round(p,2)}')"
      ],
      "metadata": {
        "id": "otXMZ1v9Dyaj"
      },
      "execution_count": null,
      "outputs": []
    },
    {
      "cell_type": "code",
      "source": [
        "coef,p = spearmanr(df.MEDV,df.PTRATIO)\n",
        "print('Spearman')\n",
        "print(f'Coeficiente de correlação: {round(coef,2)}')\n",
        "print(f'p-valor: {round(p,2)}')"
      ],
      "metadata": {
        "id": "No6dl71aDyed"
      },
      "execution_count": null,
      "outputs": []
    },
    {
      "cell_type": "code",
      "source": [
        "coef,p = kendalltau(df.MEDV,df.RM)\n",
        "print('Kendall')\n",
        "print(f'Coeficiente de correlação: {round(coef,2)}')\n",
        "print(f'p-valor: {round(p,2)}')"
      ],
      "metadata": {
        "id": "Q9b-1h51Dyhz"
      },
      "execution_count": null,
      "outputs": []
    },
    {
      "cell_type": "code",
      "source": [
        "correlacoes = df.corr(method='spearman')\n",
        "correlacoes"
      ],
      "metadata": {
        "id": "pL6qxoyIDykj"
      },
      "execution_count": null,
      "outputs": []
    },
    {
      "cell_type": "code",
      "source": [
        "plt.figure()\n",
        "sns.heatmap(correlacoes,annot=True)\n",
        "sns.set_theme(style='darkgrid')"
      ],
      "metadata": {
        "id": "xPvOfwS_QwDf"
      },
      "execution_count": null,
      "outputs": []
    },
    {
      "cell_type": "markdown",
      "source": [
        "# **Regressão Linear Simples**\n",
        "\n",
        "##Valor médio (MEDV) em função do número de cômodos (RM)"
      ],
      "metadata": {
        "id": "kVmyYvlHXORu"
      }
    },
    {
      "cell_type": "code",
      "source": [
        "df.head(2)"
      ],
      "metadata": {
        "id": "iQy9wdJ7DynG"
      },
      "execution_count": null,
      "outputs": []
    },
    {
      "cell_type": "code",
      "source": [
        "x1 = df.iloc[:,0:1].values\n",
        "x1"
      ],
      "metadata": {
        "id": "yR_3yFFZXNWW"
      },
      "execution_count": null,
      "outputs": []
    },
    {
      "cell_type": "code",
      "source": [
        "y = df.iloc[:,3].values\n",
        "y"
      ],
      "metadata": {
        "id": "DkwBgDi3XNZK"
      },
      "execution_count": null,
      "outputs": []
    },
    {
      "cell_type": "code",
      "source": [
        "x_treino,x_teste,y_treino,y_teste = train_test_split(x1,y, test_size=0.3, random_state=10,)"
      ],
      "metadata": {
        "id": "wrbj3pRJXNcL"
      },
      "execution_count": null,
      "outputs": []
    },
    {
      "cell_type": "code",
      "source": [
        "x_treino.shape,y_treino.shape"
      ],
      "metadata": {
        "id": "1GpzAU5BXNfa"
      },
      "execution_count": null,
      "outputs": []
    },
    {
      "cell_type": "code",
      "source": [
        "x_teste.shape,y_teste.shape"
      ],
      "metadata": {
        "id": "3yX4B7cwXNiL"
      },
      "execution_count": null,
      "outputs": []
    },
    {
      "cell_type": "code",
      "source": [
        "reg_linear1 = LinearRegression()\n",
        "reg_linear1.fit(x_treino,y_treino)"
      ],
      "metadata": {
        "id": "eZl8eNwwXNlV"
      },
      "execution_count": null,
      "outputs": []
    },
    {
      "cell_type": "markdown",
      "source": [
        "Intercepto (coeficiente linear)"
      ],
      "metadata": {
        "id": "29Q6Loy5blex"
      }
    },
    {
      "cell_type": "code",
      "source": [
        "reg_linear1.intercept_"
      ],
      "metadata": {
        "id": "sMV-OaxtasWA"
      },
      "execution_count": null,
      "outputs": []
    },
    {
      "cell_type": "markdown",
      "source": [
        "Coeficiente Angular"
      ],
      "metadata": {
        "id": "3AdR9YeUcQ_Q"
      }
    },
    {
      "cell_type": "code",
      "source": [
        "reg_linear1.coef_"
      ],
      "metadata": {
        "id": "YubAWffkasbh"
      },
      "execution_count": null,
      "outputs": []
    },
    {
      "cell_type": "markdown",
      "source": [
        "###**Equação: Valor = -626510.26 + 173771.45 vezes o número cômodos**"
      ],
      "metadata": {
        "id": "RbvZ0XGCc11J"
      }
    },
    {
      "cell_type": "markdown",
      "source": [
        "Coeficiente de Determinação dados de treino"
      ],
      "metadata": {
        "id": "21un89XAdfpz"
      }
    },
    {
      "cell_type": "code",
      "source": [
        "reg_linear1.score(x_treino,y_treino)"
      ],
      "metadata": {
        "id": "s9U4qxfqaseh"
      },
      "execution_count": null,
      "outputs": []
    },
    {
      "cell_type": "code",
      "source": [
        "reg_linear1.score(x_teste,y_teste)"
      ],
      "metadata": {
        "id": "Xlk_CUNiashr"
      },
      "execution_count": null,
      "outputs": []
    },
    {
      "cell_type": "code",
      "source": [
        "previsoes_treino = reg_linear1.predict(x_treino)\n",
        "previsoes_treino"
      ],
      "metadata": {
        "id": "sbo1N0EweX9J"
      },
      "execution_count": null,
      "outputs": []
    },
    {
      "cell_type": "code",
      "source": [
        "plt.scatter(y=y_treino,x=x_treino,color='orange', s=10, alpha=0.9)\n",
        "x_plot = np.linspace(3,9)\n",
        "plt.plot(x_plot,x_plot*reg_linear1.coef_ + reg_linear1.intercept_,color='r')\n",
        "plt.style.use('dark_background')\n",
        "plt.title('Reta de regressão')\n",
        "plt.ylabel('Valor médio')\n",
        "plt.xlabel('Quantidades de cômodos')\n",
        "plt.show()"
      ],
      "metadata": {
        "id": "qPpRk51ceYAf"
      },
      "execution_count": null,
      "outputs": []
    },
    {
      "cell_type": "code",
      "source": [
        "previsoes_teste = reg_linear1.predict(x_teste)\n",
        "previsoes_teste"
      ],
      "metadata": {
        "id": "K0VtGHV2eYDh"
      },
      "execution_count": null,
      "outputs": []
    },
    {
      "cell_type": "code",
      "source": [
        "y_teste"
      ],
      "metadata": {
        "id": "gJxl83xXeYGL"
      },
      "execution_count": null,
      "outputs": []
    },
    {
      "cell_type": "code",
      "source": [
        "plt.scatter(y=y_teste,x=x_teste, color='orange', s=10, alpha=0.9)\n",
        "x_plot = np.linspace(3,9)\n",
        "plt.plot(x_plot,x_plot*reg_linear1.coef_ + reg_linear1.intercept_,color='r')\n",
        "plt.style.use('dark_background')\n",
        "plt.title('Reta de regressão')\n",
        "plt.ylabel('Valor médio')\n",
        "plt.xlabel('Quantidades de cômodos')\n",
        "plt.show()"
      ],
      "metadata": {
        "id": "zEx7OR8TeYJG"
      },
      "execution_count": null,
      "outputs": []
    },
    {
      "cell_type": "markdown",
      "source": [
        "Fazendo previsões para valores distintos"
      ],
      "metadata": {
        "id": "wXiXRq6OjgcH"
      }
    },
    {
      "cell_type": "code",
      "source": [
        "valor_casa =reg_linear1.predict([[4]])\n",
        "valor_casa"
      ],
      "metadata": {
        "id": "s4eqb8L1eYL3"
      },
      "execution_count": null,
      "outputs": []
    },
    {
      "cell_type": "markdown",
      "source": [
        "# **Métricas de Desempenho**"
      ],
      "metadata": {
        "id": "9XR_vovfkKm6"
      }
    },
    {
      "cell_type": "markdown",
      "source": [
        "Erro absoluto"
      ],
      "metadata": {
        "id": "NXQKxy7pkvGv"
      }
    },
    {
      "cell_type": "code",
      "source": [
        "abs(y_teste - previsoes_teste).mean()"
      ],
      "metadata": {
        "id": "RZ1JKJB0eYPL"
      },
      "execution_count": null,
      "outputs": []
    },
    {
      "cell_type": "markdown",
      "source": [
        "Erro médio absoluto"
      ],
      "metadata": {
        "id": "i_LUI9Xwlzf7"
      }
    },
    {
      "cell_type": "code",
      "source": [
        "mean_absolute_error(y_teste,previsoes_teste)"
      ],
      "metadata": {
        "id": "D-TaXhxoeYRj"
      },
      "execution_count": null,
      "outputs": []
    },
    {
      "cell_type": "markdown",
      "source": [
        "Erro quadrádico médio"
      ],
      "metadata": {
        "id": "-O-cxkCRmYvC"
      }
    },
    {
      "cell_type": "code",
      "source": [
        "mean_squared_error(y_teste,previsoes_teste)"
      ],
      "metadata": {
        "id": "-EdyX2WcmW2W"
      },
      "execution_count": null,
      "outputs": []
    },
    {
      "cell_type": "markdown",
      "source": [
        "Raiz do erro quadrático médio"
      ],
      "metadata": {
        "id": "rzIXLqhfmuZ7"
      }
    },
    {
      "cell_type": "code",
      "source": [
        "np.sqrt(mean_squared_error(y_teste,previsoes_teste))"
      ],
      "metadata": {
        "id": "dlDC7htrmXHZ"
      },
      "execution_count": null,
      "outputs": []
    },
    {
      "cell_type": "markdown",
      "source": [
        "### **Valor médio (MEDV) em função da classe social (LSTAT)**"
      ],
      "metadata": {
        "id": "tKa4PqRQo1Dc"
      }
    },
    {
      "cell_type": "code",
      "source": [
        "df.head(2)"
      ],
      "metadata": {
        "id": "9HhZ_DyfmXRY"
      },
      "execution_count": null,
      "outputs": []
    },
    {
      "cell_type": "code",
      "source": [
        "x2 = df.iloc[:,1:2].values"
      ],
      "metadata": {
        "id": "sHQwfmvZ8-mP"
      },
      "execution_count": null,
      "outputs": []
    },
    {
      "cell_type": "code",
      "source": [
        "y = df.iloc[:,3].values"
      ],
      "metadata": {
        "id": "dZDXXN1b8-jX"
      },
      "execution_count": null,
      "outputs": []
    },
    {
      "cell_type": "code",
      "source": [
        "x_treino,x_teste,y_treino,y_teste = train_test_split(x2,y,test_size=0.3,random_state=10)\n"
      ],
      "metadata": {
        "id": "lc2aelpj8-fi"
      },
      "execution_count": null,
      "outputs": []
    },
    {
      "cell_type": "code",
      "source": [
        "x_treino.shape,y_treino.shape"
      ],
      "metadata": {
        "id": "VqhUshCJ8-cs"
      },
      "execution_count": null,
      "outputs": []
    },
    {
      "cell_type": "code",
      "source": [
        "x_teste.shape,y_teste.shape"
      ],
      "metadata": {
        "id": "P7qkXpRF8-aQ"
      },
      "execution_count": null,
      "outputs": []
    },
    {
      "cell_type": "code",
      "source": [
        "reg_linear2 = LinearRegression()\n",
        "reg_linear2.fit(x_treino,y_treino)"
      ],
      "metadata": {
        "id": "RwQSGWf38-XK"
      },
      "execution_count": null,
      "outputs": []
    },
    {
      "cell_type": "markdown",
      "source": [
        "Intercepto (coeficinte linear)"
      ],
      "metadata": {
        "id": "koyD8839_dU5"
      }
    },
    {
      "cell_type": "code",
      "source": [
        "reg_linear2.intercept_"
      ],
      "metadata": {
        "id": "RHDZa1Sn8-UJ"
      },
      "execution_count": null,
      "outputs": []
    },
    {
      "cell_type": "markdown",
      "source": [
        "Coeficiente Angular"
      ],
      "metadata": {
        "id": "APSYkLBS_wa-"
      }
    },
    {
      "cell_type": "code",
      "source": [
        "reg_linear2.coef_"
      ],
      "metadata": {
        "id": "b1BwKVDH8-RM"
      },
      "execution_count": null,
      "outputs": []
    },
    {
      "cell_type": "markdown",
      "source": [
        "### **Equação: Valor = 683187.41 - 17660.54 . LSTAT**"
      ],
      "metadata": {
        "id": "E2YxHNyJynYU"
      }
    },
    {
      "cell_type": "markdown",
      "source": [
        "Coeficiente de Determinacão dados de treino"
      ],
      "metadata": {
        "id": "UnkzzjVPAPC2"
      }
    },
    {
      "cell_type": "code",
      "source": [
        "reg_linear2.score(x_treino,y_treino)"
      ],
      "metadata": {
        "id": "jFsa0XEv8-HV"
      },
      "execution_count": null,
      "outputs": []
    },
    {
      "cell_type": "markdown",
      "source": [
        "Previsão"
      ],
      "metadata": {
        "id": "C7DXWa0SA2aa"
      }
    },
    {
      "cell_type": "code",
      "source": [
        "previsoes_treino1 = reg_linear2.predict(x_treino)\n",
        "previsoes_treino1"
      ],
      "metadata": {
        "id": "CjiwYZ-rAARG"
      },
      "execution_count": null,
      "outputs": []
    },
    {
      "cell_type": "code",
      "source": [
        "plt.scatter(y=y_treino,x=x_treino, color='orange', s=10, alpha=0.9)\n",
        "x_plot = np.linspace(0,40)\n",
        "plt.plot(x_plot,x_plot*reg_linear2.coef_ + reg_linear2.intercept_,color='r')\n",
        "plt.style.use('dark_background')\n",
        "plt.title('Reta de regressão')\n",
        "plt.ylabel('Valor médio')\n",
        "plt.xlabel('Quantidades de Proprietários de Classe baixa (%)')\n",
        "plt.show()"
      ],
      "metadata": {
        "id": "FyS0EScjAAO9"
      },
      "execution_count": null,
      "outputs": []
    },
    {
      "cell_type": "code",
      "source": [
        "# Prevendo os dados de teste\n",
        "previsoes_teste = reg_linear2.predict(x_teste)\n",
        "previsoes_teste"
      ],
      "metadata": {
        "id": "LeRDE7DHAAM-"
      },
      "execution_count": null,
      "outputs": []
    },
    {
      "cell_type": "code",
      "source": [
        "# Analisando o score\n",
        "reg_linear2.score(x_teste,y_teste)"
      ],
      "metadata": {
        "id": "UgJAp5gvAAK9"
      },
      "execution_count": null,
      "outputs": []
    },
    {
      "cell_type": "code",
      "source": [
        "plt.scatter(y=y_teste,x=x_teste, color='orange', s=10, alpha=0.9)\n",
        "x_plot = np.linspace(2,35)\n",
        "plt.plot(x_plot,x_plot*reg_linear2.coef_ + reg_linear2.intercept_,color='r')\n",
        "plt.style.use('dark_background')\n",
        "plt.title('Reta de regressão')\n",
        "plt.ylabel('Valor médio')\n",
        "plt.xlabel('Quantidades de Proprietários de Classe baixa (%)')\n",
        "plt.show()"
      ],
      "metadata": {
        "id": "YaQFAVnPAAGB"
      },
      "execution_count": null,
      "outputs": []
    },
    {
      "cell_type": "code",
      "source": [
        "# Fazendo previsões para valores distintos\n",
        "valor_casa = reg_linear2.predict([[32]])\n",
        "valor_casa"
      ],
      "metadata": {
        "id": "VVEhlk4pAADE"
      },
      "execution_count": null,
      "outputs": []
    },
    {
      "cell_type": "markdown",
      "source": [
        "### Métricas de Desempenho"
      ],
      "metadata": {
        "id": "L4klzOPW3DBY"
      }
    },
    {
      "cell_type": "code",
      "source": [
        "abs(y_teste - previsoes_teste).mean()"
      ],
      "metadata": {
        "id": "syboMKmZ___0"
      },
      "execution_count": null,
      "outputs": []
    },
    {
      "cell_type": "code",
      "source": [
        "# Erro médio absoluto\n",
        "mean_absolute_error(y_teste, previsoes_teste)"
      ],
      "metadata": {
        "id": "FEkIFtQg0SKX"
      },
      "execution_count": null,
      "outputs": []
    }
  ],
  "metadata": {
    "kernelspec": {
      "display_name": "Python 3 (ipykernel)",
      "language": "python",
      "name": "python3"
    },
    "language_info": {
      "codemirror_mode": {
        "name": "ipython",
        "version": 3
      },
      "file_extension": ".py",
      "mimetype": "text/x-python",
      "name": "python",
      "nbconvert_exporter": "python",
      "pygments_lexer": "ipython3",
      "version": "3.10.12"
    },
    "colab": {
      "provenance": [],
      "include_colab_link": true
    }
  },
  "nbformat": 4,
  "nbformat_minor": 0
}