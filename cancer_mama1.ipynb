{
 "cells": [
  {
   "cell_type": "code",
   "execution_count": null,
   "metadata": {
    "id": "n5s4ilXidWf7"
   },
   "outputs": [],
   "source": []
  },
  {
   "cell_type": "markdown",
   "metadata": {
    "id": "jB8UV01OdWf8"
   },
   "source": [
    "Importando as Bibliotecas"
   ]
  },
  {
   "cell_type": "code",
   "execution_count": null,
   "metadata": {
    "id": "DxCy9CPidWf-",
    "outputId": "09aac84d-6ab5-431e-9761-505366dfa32a"
   },
   "outputs": [
    {
     "name": "stderr",
     "output_type": "stream",
     "text": [
      "/usr/lib/python3/dist-packages/scipy/__init__.py:146: UserWarning: A NumPy version >=1.17.3 and <1.25.0 is required for this version of SciPy (detected version 1.26.1\n",
      "  warnings.warn(f\"A NumPy version >={np_minversion} and <{np_maxversion}\"\n"
     ]
    },
    {
     "data": {
      "text/html": [
       "<div>\n",
       "<style scoped>\n",
       "    .dataframe tbody tr th:only-of-type {\n",
       "        vertical-align: middle;\n",
       "    }\n",
       "\n",
       "    .dataframe tbody tr th {\n",
       "        vertical-align: top;\n",
       "    }\n",
       "\n",
       "    .dataframe thead th {\n",
       "        text-align: right;\n",
       "    }\n",
       "</style>\n",
       "<table border=\"1\" class=\"dataframe\">\n",
       "  <thead>\n",
       "    <tr style=\"text-align: right;\">\n",
       "      <th></th>\n",
       "      <th>id</th>\n",
       "      <th>diagnosis</th>\n",
       "      <th>radius_mean</th>\n",
       "      <th>texture_mean</th>\n",
       "      <th>perimeter_mean</th>\n",
       "      <th>area_mean</th>\n",
       "      <th>smoothness_mean</th>\n",
       "      <th>compactness_mean</th>\n",
       "      <th>concavity_mean</th>\n",
       "      <th>concave points_mean</th>\n",
       "      <th>...</th>\n",
       "      <th>texture_worst</th>\n",
       "      <th>perimeter_worst</th>\n",
       "      <th>area_worst</th>\n",
       "      <th>smoothness_worst</th>\n",
       "      <th>compactness_worst</th>\n",
       "      <th>concavity_worst</th>\n",
       "      <th>concave points_worst</th>\n",
       "      <th>symmetry_worst</th>\n",
       "      <th>fractal_dimension_worst</th>\n",
       "      <th>Unnamed: 32</th>\n",
       "    </tr>\n",
       "  </thead>\n",
       "  <tbody>\n",
       "    <tr>\n",
       "      <th>0</th>\n",
       "      <td>842302.0</td>\n",
       "      <td>1</td>\n",
       "      <td>17.99</td>\n",
       "      <td>10.38</td>\n",
       "      <td>122.80</td>\n",
       "      <td>1001.0</td>\n",
       "      <td>0.11840</td>\n",
       "      <td>0.104341</td>\n",
       "      <td>0.3001</td>\n",
       "      <td>0.14710</td>\n",
       "      <td>...</td>\n",
       "      <td>17.33</td>\n",
       "      <td>184.60</td>\n",
       "      <td>2019.0</td>\n",
       "      <td>0.162200</td>\n",
       "      <td>0.665600</td>\n",
       "      <td>0.7119</td>\n",
       "      <td>0.114606</td>\n",
       "      <td>0.460100</td>\n",
       "      <td>0.118900</td>\n",
       "      <td>NaN</td>\n",
       "    </tr>\n",
       "    <tr>\n",
       "      <th>1</th>\n",
       "      <td>842517.0</td>\n",
       "      <td>1</td>\n",
       "      <td>20.57</td>\n",
       "      <td>17.77</td>\n",
       "      <td>132.90</td>\n",
       "      <td>1326.0</td>\n",
       "      <td>0.08474</td>\n",
       "      <td>0.078640</td>\n",
       "      <td>0.0869</td>\n",
       "      <td>0.07017</td>\n",
       "      <td>...</td>\n",
       "      <td>23.41</td>\n",
       "      <td>158.80</td>\n",
       "      <td>1956.0</td>\n",
       "      <td>0.123800</td>\n",
       "      <td>0.186600</td>\n",
       "      <td>0.2416</td>\n",
       "      <td>0.186000</td>\n",
       "      <td>0.275000</td>\n",
       "      <td>0.089020</td>\n",
       "      <td>NaN</td>\n",
       "    </tr>\n",
       "    <tr>\n",
       "      <th>2</th>\n",
       "      <td>84300903.0</td>\n",
       "      <td>1</td>\n",
       "      <td>19.69</td>\n",
       "      <td>21.25</td>\n",
       "      <td>130.00</td>\n",
       "      <td>1203.0</td>\n",
       "      <td>0.10960</td>\n",
       "      <td>0.159900</td>\n",
       "      <td>0.1974</td>\n",
       "      <td>0.12790</td>\n",
       "      <td>...</td>\n",
       "      <td>25.53</td>\n",
       "      <td>152.50</td>\n",
       "      <td>1709.0</td>\n",
       "      <td>0.144400</td>\n",
       "      <td>0.424500</td>\n",
       "      <td>0.4504</td>\n",
       "      <td>0.243000</td>\n",
       "      <td>0.361300</td>\n",
       "      <td>0.087580</td>\n",
       "      <td>NaN</td>\n",
       "    </tr>\n",
       "    <tr>\n",
       "      <th>3</th>\n",
       "      <td>84348301.0</td>\n",
       "      <td>1</td>\n",
       "      <td>11.42</td>\n",
       "      <td>20.38</td>\n",
       "      <td>77.58</td>\n",
       "      <td>386.1</td>\n",
       "      <td>0.09636</td>\n",
       "      <td>0.104341</td>\n",
       "      <td>0.2414</td>\n",
       "      <td>0.10520</td>\n",
       "      <td>...</td>\n",
       "      <td>26.50</td>\n",
       "      <td>98.87</td>\n",
       "      <td>567.7</td>\n",
       "      <td>0.132369</td>\n",
       "      <td>0.254265</td>\n",
       "      <td>0.6869</td>\n",
       "      <td>0.257500</td>\n",
       "      <td>0.290076</td>\n",
       "      <td>0.083946</td>\n",
       "      <td>NaN</td>\n",
       "    </tr>\n",
       "    <tr>\n",
       "      <th>4</th>\n",
       "      <td>84358402.0</td>\n",
       "      <td>1</td>\n",
       "      <td>20.29</td>\n",
       "      <td>14.34</td>\n",
       "      <td>135.10</td>\n",
       "      <td>1297.0</td>\n",
       "      <td>0.10030</td>\n",
       "      <td>0.132800</td>\n",
       "      <td>0.1980</td>\n",
       "      <td>0.10430</td>\n",
       "      <td>...</td>\n",
       "      <td>16.67</td>\n",
       "      <td>152.20</td>\n",
       "      <td>1575.0</td>\n",
       "      <td>0.137400</td>\n",
       "      <td>0.205000</td>\n",
       "      <td>0.4000</td>\n",
       "      <td>0.162500</td>\n",
       "      <td>0.236400</td>\n",
       "      <td>0.076780</td>\n",
       "      <td>NaN</td>\n",
       "    </tr>\n",
       "  </tbody>\n",
       "</table>\n",
       "<p>5 rows × 33 columns</p>\n",
       "</div>"
      ],
      "text/plain": [
       "           id  diagnosis  radius_mean  texture_mean  perimeter_mean  \\\n",
       "0    842302.0          1        17.99         10.38          122.80   \n",
       "1    842517.0          1        20.57         17.77          132.90   \n",
       "2  84300903.0          1        19.69         21.25          130.00   \n",
       "3  84348301.0          1        11.42         20.38           77.58   \n",
       "4  84358402.0          1        20.29         14.34          135.10   \n",
       "\n",
       "   area_mean  smoothness_mean  compactness_mean  concavity_mean  \\\n",
       "0     1001.0          0.11840          0.104341          0.3001   \n",
       "1     1326.0          0.08474          0.078640          0.0869   \n",
       "2     1203.0          0.10960          0.159900          0.1974   \n",
       "3      386.1          0.09636          0.104341          0.2414   \n",
       "4     1297.0          0.10030          0.132800          0.1980   \n",
       "\n",
       "   concave points_mean  ...  texture_worst  perimeter_worst  area_worst  \\\n",
       "0              0.14710  ...          17.33           184.60      2019.0   \n",
       "1              0.07017  ...          23.41           158.80      1956.0   \n",
       "2              0.12790  ...          25.53           152.50      1709.0   \n",
       "3              0.10520  ...          26.50            98.87       567.7   \n",
       "4              0.10430  ...          16.67           152.20      1575.0   \n",
       "\n",
       "   smoothness_worst  compactness_worst  concavity_worst  concave points_worst  \\\n",
       "0          0.162200           0.665600           0.7119              0.114606   \n",
       "1          0.123800           0.186600           0.2416              0.186000   \n",
       "2          0.144400           0.424500           0.4504              0.243000   \n",
       "3          0.132369           0.254265           0.6869              0.257500   \n",
       "4          0.137400           0.205000           0.4000              0.162500   \n",
       "\n",
       "   symmetry_worst  fractal_dimension_worst  Unnamed: 32  \n",
       "0        0.460100                 0.118900          NaN  \n",
       "1        0.275000                 0.089020          NaN  \n",
       "2        0.361300                 0.087580          NaN  \n",
       "3        0.290076                 0.083946          NaN  \n",
       "4        0.236400                 0.076780          NaN  \n",
       "\n",
       "[5 rows x 33 columns]"
      ]
     },
     "execution_count": 1,
     "metadata": {},
     "output_type": "execute_result"
    }
   ],
   "source": [
    "import pandas as pd\n",
    "import numpy as np\n",
    "import plotly.express as px\n",
    "import matplotlib.pyplot as plt\n",
    "import seaborn as sns\n",
    "import warnings\n",
    "from sklearn.preprocessing import StandardScaler\n",
    "from sklearn.model_selection import train_test_split\n",
    "from sklearn.naive_bayes import GaussianNB\n",
    "from sklearn.metrics import accuracy_score, confusion_matrix, classification_report\n",
    "from sklearn.discriminant_analysis import LinearDiscriminantAnalysis\n",
    "from sklearn.svm import SVC\n",
    "from sklearn.linear_model import LogisticRegression\n",
    "from sklearn.model_selection import KFold\n",
    "from sklearn.model_selection import cross_val_score\n",
    "from sklearn.neighbors import KNeighborsClassifier\n",
    "from sklearn.tree import DecisionTreeClassifier\n",
    "from sklearn.ensemble import RandomForestClassifier\n",
    "from xgboost import XGBClassifier\n",
    "\n",
    "warnings.filterwarnings('ignore')\n",
    "\n",
    "df = pd.read_csv('cancermama.csv')\n",
    "\n",
    "df.head()"
   ]
  },
  {
   "cell_type": "code",
   "execution_count": null,
   "metadata": {
    "id": "l-1CpOm-dWf_",
    "outputId": "fed059de-49e7-4f79-808d-ab9a64102669"
   },
   "outputs": [
    {
     "data": {
      "text/html": [
       "<div>\n",
       "<style scoped>\n",
       "    .dataframe tbody tr th:only-of-type {\n",
       "        vertical-align: middle;\n",
       "    }\n",
       "\n",
       "    .dataframe tbody tr th {\n",
       "        vertical-align: top;\n",
       "    }\n",
       "\n",
       "    .dataframe thead th {\n",
       "        text-align: right;\n",
       "    }\n",
       "</style>\n",
       "<table border=\"1\" class=\"dataframe\">\n",
       "  <thead>\n",
       "    <tr style=\"text-align: right;\">\n",
       "      <th></th>\n",
       "      <th>radius_mean</th>\n",
       "      <th>texture_mean</th>\n",
       "      <th>perimeter_mean</th>\n",
       "      <th>area_mean</th>\n",
       "      <th>smoothness_mean</th>\n",
       "      <th>compactness_mean</th>\n",
       "      <th>concavity_mean</th>\n",
       "      <th>concave points_mean</th>\n",
       "      <th>symmetry_mean</th>\n",
       "      <th>fractal_dimension_mean</th>\n",
       "      <th>...</th>\n",
       "      <th>radius_worst</th>\n",
       "      <th>texture_worst</th>\n",
       "      <th>perimeter_worst</th>\n",
       "      <th>area_worst</th>\n",
       "      <th>smoothness_worst</th>\n",
       "      <th>compactness_worst</th>\n",
       "      <th>concavity_worst</th>\n",
       "      <th>concave points_worst</th>\n",
       "      <th>symmetry_worst</th>\n",
       "      <th>fractal_dimension_worst</th>\n",
       "    </tr>\n",
       "  </thead>\n",
       "  <tbody>\n",
       "    <tr>\n",
       "      <th>0</th>\n",
       "      <td>17.99</td>\n",
       "      <td>10.380000</td>\n",
       "      <td>122.80</td>\n",
       "      <td>1001.0</td>\n",
       "      <td>0.11840</td>\n",
       "      <td>0.104341</td>\n",
       "      <td>0.300100</td>\n",
       "      <td>0.147100</td>\n",
       "      <td>0.241900</td>\n",
       "      <td>0.078710</td>\n",
       "      <td>...</td>\n",
       "      <td>25.380</td>\n",
       "      <td>17.330000</td>\n",
       "      <td>184.60</td>\n",
       "      <td>2019.0</td>\n",
       "      <td>0.162200</td>\n",
       "      <td>0.665600</td>\n",
       "      <td>0.711900</td>\n",
       "      <td>0.114606</td>\n",
       "      <td>0.460100</td>\n",
       "      <td>0.118900</td>\n",
       "    </tr>\n",
       "    <tr>\n",
       "      <th>1</th>\n",
       "      <td>20.57</td>\n",
       "      <td>17.770000</td>\n",
       "      <td>132.90</td>\n",
       "      <td>1326.0</td>\n",
       "      <td>0.08474</td>\n",
       "      <td>0.078640</td>\n",
       "      <td>0.086900</td>\n",
       "      <td>0.070170</td>\n",
       "      <td>0.181200</td>\n",
       "      <td>0.056670</td>\n",
       "      <td>...</td>\n",
       "      <td>24.990</td>\n",
       "      <td>23.410000</td>\n",
       "      <td>158.80</td>\n",
       "      <td>1956.0</td>\n",
       "      <td>0.123800</td>\n",
       "      <td>0.186600</td>\n",
       "      <td>0.241600</td>\n",
       "      <td>0.186000</td>\n",
       "      <td>0.275000</td>\n",
       "      <td>0.089020</td>\n",
       "    </tr>\n",
       "    <tr>\n",
       "      <th>2</th>\n",
       "      <td>19.69</td>\n",
       "      <td>21.250000</td>\n",
       "      <td>130.00</td>\n",
       "      <td>1203.0</td>\n",
       "      <td>0.10960</td>\n",
       "      <td>0.159900</td>\n",
       "      <td>0.197400</td>\n",
       "      <td>0.127900</td>\n",
       "      <td>0.206900</td>\n",
       "      <td>0.059990</td>\n",
       "      <td>...</td>\n",
       "      <td>23.570</td>\n",
       "      <td>25.530000</td>\n",
       "      <td>152.50</td>\n",
       "      <td>1709.0</td>\n",
       "      <td>0.144400</td>\n",
       "      <td>0.424500</td>\n",
       "      <td>0.450400</td>\n",
       "      <td>0.243000</td>\n",
       "      <td>0.361300</td>\n",
       "      <td>0.087580</td>\n",
       "    </tr>\n",
       "    <tr>\n",
       "      <th>3</th>\n",
       "      <td>11.42</td>\n",
       "      <td>20.380000</td>\n",
       "      <td>77.58</td>\n",
       "      <td>386.1</td>\n",
       "      <td>0.09636</td>\n",
       "      <td>0.104341</td>\n",
       "      <td>0.241400</td>\n",
       "      <td>0.105200</td>\n",
       "      <td>0.181162</td>\n",
       "      <td>0.062798</td>\n",
       "      <td>...</td>\n",
       "      <td>14.910</td>\n",
       "      <td>26.500000</td>\n",
       "      <td>98.87</td>\n",
       "      <td>567.7</td>\n",
       "      <td>0.132369</td>\n",
       "      <td>0.254265</td>\n",
       "      <td>0.686900</td>\n",
       "      <td>0.257500</td>\n",
       "      <td>0.290076</td>\n",
       "      <td>0.083946</td>\n",
       "    </tr>\n",
       "    <tr>\n",
       "      <th>4</th>\n",
       "      <td>20.29</td>\n",
       "      <td>14.340000</td>\n",
       "      <td>135.10</td>\n",
       "      <td>1297.0</td>\n",
       "      <td>0.10030</td>\n",
       "      <td>0.132800</td>\n",
       "      <td>0.198000</td>\n",
       "      <td>0.104300</td>\n",
       "      <td>0.180900</td>\n",
       "      <td>0.058830</td>\n",
       "      <td>...</td>\n",
       "      <td>22.540</td>\n",
       "      <td>16.670000</td>\n",
       "      <td>152.20</td>\n",
       "      <td>1575.0</td>\n",
       "      <td>0.137400</td>\n",
       "      <td>0.205000</td>\n",
       "      <td>0.400000</td>\n",
       "      <td>0.162500</td>\n",
       "      <td>0.236400</td>\n",
       "      <td>0.076780</td>\n",
       "    </tr>\n",
       "    <tr>\n",
       "      <th>...</th>\n",
       "      <td>...</td>\n",
       "      <td>...</td>\n",
       "      <td>...</td>\n",
       "      <td>...</td>\n",
       "      <td>...</td>\n",
       "      <td>...</td>\n",
       "      <td>...</td>\n",
       "      <td>...</td>\n",
       "      <td>...</td>\n",
       "      <td>...</td>\n",
       "      <td>...</td>\n",
       "      <td>...</td>\n",
       "      <td>...</td>\n",
       "      <td>...</td>\n",
       "      <td>...</td>\n",
       "      <td>...</td>\n",
       "      <td>...</td>\n",
       "      <td>...</td>\n",
       "      <td>...</td>\n",
       "      <td>...</td>\n",
       "      <td>...</td>\n",
       "    </tr>\n",
       "    <tr>\n",
       "      <th>564</th>\n",
       "      <td>21.56</td>\n",
       "      <td>22.390000</td>\n",
       "      <td>142.00</td>\n",
       "      <td>1479.0</td>\n",
       "      <td>0.11100</td>\n",
       "      <td>0.115900</td>\n",
       "      <td>0.243900</td>\n",
       "      <td>0.138900</td>\n",
       "      <td>0.172600</td>\n",
       "      <td>0.056230</td>\n",
       "      <td>...</td>\n",
       "      <td>25.450</td>\n",
       "      <td>26.400000</td>\n",
       "      <td>166.10</td>\n",
       "      <td>2027.0</td>\n",
       "      <td>0.141000</td>\n",
       "      <td>0.211300</td>\n",
       "      <td>0.410700</td>\n",
       "      <td>0.221600</td>\n",
       "      <td>0.206000</td>\n",
       "      <td>0.071150</td>\n",
       "    </tr>\n",
       "    <tr>\n",
       "      <th>565</th>\n",
       "      <td>20.13</td>\n",
       "      <td>28.250000</td>\n",
       "      <td>131.20</td>\n",
       "      <td>1261.0</td>\n",
       "      <td>0.09780</td>\n",
       "      <td>0.103400</td>\n",
       "      <td>0.144000</td>\n",
       "      <td>0.097910</td>\n",
       "      <td>0.175200</td>\n",
       "      <td>0.055330</td>\n",
       "      <td>...</td>\n",
       "      <td>23.690</td>\n",
       "      <td>38.250000</td>\n",
       "      <td>155.00</td>\n",
       "      <td>1731.0</td>\n",
       "      <td>0.116600</td>\n",
       "      <td>0.192200</td>\n",
       "      <td>0.321500</td>\n",
       "      <td>0.162800</td>\n",
       "      <td>0.257200</td>\n",
       "      <td>0.066370</td>\n",
       "    </tr>\n",
       "    <tr>\n",
       "      <th>566</th>\n",
       "      <td>16.60</td>\n",
       "      <td>28.080000</td>\n",
       "      <td>108.30</td>\n",
       "      <td>858.1</td>\n",
       "      <td>0.08455</td>\n",
       "      <td>0.102300</td>\n",
       "      <td>0.092510</td>\n",
       "      <td>0.053020</td>\n",
       "      <td>0.159000</td>\n",
       "      <td>0.056480</td>\n",
       "      <td>...</td>\n",
       "      <td>18.980</td>\n",
       "      <td>34.120000</td>\n",
       "      <td>126.70</td>\n",
       "      <td>1124.0</td>\n",
       "      <td>0.113900</td>\n",
       "      <td>0.309400</td>\n",
       "      <td>0.340300</td>\n",
       "      <td>0.141800</td>\n",
       "      <td>0.221800</td>\n",
       "      <td>0.078200</td>\n",
       "    </tr>\n",
       "    <tr>\n",
       "      <th>567</th>\n",
       "      <td>20.60</td>\n",
       "      <td>19.289649</td>\n",
       "      <td>140.10</td>\n",
       "      <td>1265.0</td>\n",
       "      <td>0.11780</td>\n",
       "      <td>0.104341</td>\n",
       "      <td>0.088799</td>\n",
       "      <td>0.048919</td>\n",
       "      <td>0.239700</td>\n",
       "      <td>0.070160</td>\n",
       "      <td>...</td>\n",
       "      <td>25.740</td>\n",
       "      <td>25.677223</td>\n",
       "      <td>184.60</td>\n",
       "      <td>1821.0</td>\n",
       "      <td>0.165000</td>\n",
       "      <td>0.254265</td>\n",
       "      <td>0.272188</td>\n",
       "      <td>0.114606</td>\n",
       "      <td>0.408700</td>\n",
       "      <td>0.124000</td>\n",
       "    </tr>\n",
       "    <tr>\n",
       "      <th>568</th>\n",
       "      <td>7.76</td>\n",
       "      <td>24.540000</td>\n",
       "      <td>47.92</td>\n",
       "      <td>181.0</td>\n",
       "      <td>0.05263</td>\n",
       "      <td>0.043620</td>\n",
       "      <td>0.000000</td>\n",
       "      <td>0.000000</td>\n",
       "      <td>0.158700</td>\n",
       "      <td>0.058840</td>\n",
       "      <td>...</td>\n",
       "      <td>9.456</td>\n",
       "      <td>30.370000</td>\n",
       "      <td>59.16</td>\n",
       "      <td>268.6</td>\n",
       "      <td>0.089960</td>\n",
       "      <td>0.064440</td>\n",
       "      <td>0.000000</td>\n",
       "      <td>0.000000</td>\n",
       "      <td>0.287100</td>\n",
       "      <td>0.070390</td>\n",
       "    </tr>\n",
       "  </tbody>\n",
       "</table>\n",
       "<p>569 rows × 30 columns</p>\n",
       "</div>"
      ],
      "text/plain": [
       "     radius_mean  texture_mean  perimeter_mean  area_mean  smoothness_mean  \\\n",
       "0          17.99     10.380000          122.80     1001.0          0.11840   \n",
       "1          20.57     17.770000          132.90     1326.0          0.08474   \n",
       "2          19.69     21.250000          130.00     1203.0          0.10960   \n",
       "3          11.42     20.380000           77.58      386.1          0.09636   \n",
       "4          20.29     14.340000          135.10     1297.0          0.10030   \n",
       "..           ...           ...             ...        ...              ...   \n",
       "564        21.56     22.390000          142.00     1479.0          0.11100   \n",
       "565        20.13     28.250000          131.20     1261.0          0.09780   \n",
       "566        16.60     28.080000          108.30      858.1          0.08455   \n",
       "567        20.60     19.289649          140.10     1265.0          0.11780   \n",
       "568         7.76     24.540000           47.92      181.0          0.05263   \n",
       "\n",
       "     compactness_mean  concavity_mean  concave points_mean  symmetry_mean  \\\n",
       "0            0.104341        0.300100             0.147100       0.241900   \n",
       "1            0.078640        0.086900             0.070170       0.181200   \n",
       "2            0.159900        0.197400             0.127900       0.206900   \n",
       "3            0.104341        0.241400             0.105200       0.181162   \n",
       "4            0.132800        0.198000             0.104300       0.180900   \n",
       "..                ...             ...                  ...            ...   \n",
       "564          0.115900        0.243900             0.138900       0.172600   \n",
       "565          0.103400        0.144000             0.097910       0.175200   \n",
       "566          0.102300        0.092510             0.053020       0.159000   \n",
       "567          0.104341        0.088799             0.048919       0.239700   \n",
       "568          0.043620        0.000000             0.000000       0.158700   \n",
       "\n",
       "     fractal_dimension_mean  ...  radius_worst  texture_worst  \\\n",
       "0                  0.078710  ...        25.380      17.330000   \n",
       "1                  0.056670  ...        24.990      23.410000   \n",
       "2                  0.059990  ...        23.570      25.530000   \n",
       "3                  0.062798  ...        14.910      26.500000   \n",
       "4                  0.058830  ...        22.540      16.670000   \n",
       "..                      ...  ...           ...            ...   \n",
       "564                0.056230  ...        25.450      26.400000   \n",
       "565                0.055330  ...        23.690      38.250000   \n",
       "566                0.056480  ...        18.980      34.120000   \n",
       "567                0.070160  ...        25.740      25.677223   \n",
       "568                0.058840  ...         9.456      30.370000   \n",
       "\n",
       "     perimeter_worst  area_worst  smoothness_worst  compactness_worst  \\\n",
       "0             184.60      2019.0          0.162200           0.665600   \n",
       "1             158.80      1956.0          0.123800           0.186600   \n",
       "2             152.50      1709.0          0.144400           0.424500   \n",
       "3              98.87       567.7          0.132369           0.254265   \n",
       "4             152.20      1575.0          0.137400           0.205000   \n",
       "..               ...         ...               ...                ...   \n",
       "564           166.10      2027.0          0.141000           0.211300   \n",
       "565           155.00      1731.0          0.116600           0.192200   \n",
       "566           126.70      1124.0          0.113900           0.309400   \n",
       "567           184.60      1821.0          0.165000           0.254265   \n",
       "568            59.16       268.6          0.089960           0.064440   \n",
       "\n",
       "     concavity_worst  concave points_worst  symmetry_worst  \\\n",
       "0           0.711900              0.114606        0.460100   \n",
       "1           0.241600              0.186000        0.275000   \n",
       "2           0.450400              0.243000        0.361300   \n",
       "3           0.686900              0.257500        0.290076   \n",
       "4           0.400000              0.162500        0.236400   \n",
       "..               ...                   ...             ...   \n",
       "564         0.410700              0.221600        0.206000   \n",
       "565         0.321500              0.162800        0.257200   \n",
       "566         0.340300              0.141800        0.221800   \n",
       "567         0.272188              0.114606        0.408700   \n",
       "568         0.000000              0.000000        0.287100   \n",
       "\n",
       "     fractal_dimension_worst  \n",
       "0                   0.118900  \n",
       "1                   0.089020  \n",
       "2                   0.087580  \n",
       "3                   0.083946  \n",
       "4                   0.076780  \n",
       "..                       ...  \n",
       "564                 0.071150  \n",
       "565                 0.066370  \n",
       "566                 0.078200  \n",
       "567                 0.124000  \n",
       "568                 0.070390  \n",
       "\n",
       "[569 rows x 30 columns]"
      ]
     },
     "execution_count": 3,
     "metadata": {},
     "output_type": "execute_result"
    }
   ],
   "source": [
    "previsores = df.iloc[:, 2:33]\n",
    "previsores = previsores.drop('Unnamed: 32',axis=1)\n",
    "previsores"
   ]
  },
  {
   "cell_type": "code",
   "execution_count": null,
   "metadata": {
    "id": "R6NQ-qBjdWgA",
    "outputId": "e9d22bd9-4052-4918-c12f-32d5c84f8881"
   },
   "outputs": [
    {
     "data": {
      "text/plain": [
       "0      1\n",
       "1      1\n",
       "2      1\n",
       "3      1\n",
       "4      1\n",
       "      ..\n",
       "564    1\n",
       "565    1\n",
       "566    1\n",
       "567    1\n",
       "568    0\n",
       "Name: diagnosis, Length: 569, dtype: int64"
      ]
     },
     "execution_count": 4,
     "metadata": {},
     "output_type": "execute_result"
    }
   ],
   "source": [
    "Alvo = df.iloc[:,1]\n",
    "Alvo"
   ]
  },
  {
   "cell_type": "code",
   "execution_count": null,
   "metadata": {
    "id": "u5fNa5rXdWgA"
   },
   "outputs": [],
   "source": [
    "coluna = df.iloc[:,0]"
   ]
  },
  {
   "cell_type": "code",
   "execution_count": null,
   "metadata": {
    "id": "5aBZSdYRdWgB"
   },
   "outputs": [],
   "source": [
    "previsores1 = pd.concat([coluna,previsores],axis=1)"
   ]
  },
  {
   "cell_type": "code",
   "execution_count": null,
   "metadata": {
    "id": "EV95XcbEdWgB",
    "outputId": "0748f898-2676-4029-8ab9-bd7cbf9d8226"
   },
   "outputs": [
    {
     "data": {
      "text/html": [
       "<div>\n",
       "<style scoped>\n",
       "    .dataframe tbody tr th:only-of-type {\n",
       "        vertical-align: middle;\n",
       "    }\n",
       "\n",
       "    .dataframe tbody tr th {\n",
       "        vertical-align: top;\n",
       "    }\n",
       "\n",
       "    .dataframe thead th {\n",
       "        text-align: right;\n",
       "    }\n",
       "</style>\n",
       "<table border=\"1\" class=\"dataframe\">\n",
       "  <thead>\n",
       "    <tr style=\"text-align: right;\">\n",
       "      <th></th>\n",
       "      <th>id</th>\n",
       "      <th>radius_mean</th>\n",
       "      <th>texture_mean</th>\n",
       "      <th>perimeter_mean</th>\n",
       "      <th>area_mean</th>\n",
       "      <th>smoothness_mean</th>\n",
       "      <th>compactness_mean</th>\n",
       "      <th>concavity_mean</th>\n",
       "      <th>concave points_mean</th>\n",
       "      <th>symmetry_mean</th>\n",
       "      <th>...</th>\n",
       "      <th>radius_worst</th>\n",
       "      <th>texture_worst</th>\n",
       "      <th>perimeter_worst</th>\n",
       "      <th>area_worst</th>\n",
       "      <th>smoothness_worst</th>\n",
       "      <th>compactness_worst</th>\n",
       "      <th>concavity_worst</th>\n",
       "      <th>concave points_worst</th>\n",
       "      <th>symmetry_worst</th>\n",
       "      <th>fractal_dimension_worst</th>\n",
       "    </tr>\n",
       "  </thead>\n",
       "  <tbody>\n",
       "    <tr>\n",
       "      <th>0</th>\n",
       "      <td>842302.0</td>\n",
       "      <td>17.99</td>\n",
       "      <td>10.380000</td>\n",
       "      <td>122.80</td>\n",
       "      <td>1001.0</td>\n",
       "      <td>0.11840</td>\n",
       "      <td>0.104341</td>\n",
       "      <td>0.300100</td>\n",
       "      <td>0.147100</td>\n",
       "      <td>0.241900</td>\n",
       "      <td>...</td>\n",
       "      <td>25.380</td>\n",
       "      <td>17.330000</td>\n",
       "      <td>184.60</td>\n",
       "      <td>2019.0</td>\n",
       "      <td>0.162200</td>\n",
       "      <td>0.665600</td>\n",
       "      <td>0.711900</td>\n",
       "      <td>0.114606</td>\n",
       "      <td>0.460100</td>\n",
       "      <td>0.118900</td>\n",
       "    </tr>\n",
       "    <tr>\n",
       "      <th>1</th>\n",
       "      <td>842517.0</td>\n",
       "      <td>20.57</td>\n",
       "      <td>17.770000</td>\n",
       "      <td>132.90</td>\n",
       "      <td>1326.0</td>\n",
       "      <td>0.08474</td>\n",
       "      <td>0.078640</td>\n",
       "      <td>0.086900</td>\n",
       "      <td>0.070170</td>\n",
       "      <td>0.181200</td>\n",
       "      <td>...</td>\n",
       "      <td>24.990</td>\n",
       "      <td>23.410000</td>\n",
       "      <td>158.80</td>\n",
       "      <td>1956.0</td>\n",
       "      <td>0.123800</td>\n",
       "      <td>0.186600</td>\n",
       "      <td>0.241600</td>\n",
       "      <td>0.186000</td>\n",
       "      <td>0.275000</td>\n",
       "      <td>0.089020</td>\n",
       "    </tr>\n",
       "    <tr>\n",
       "      <th>2</th>\n",
       "      <td>84300903.0</td>\n",
       "      <td>19.69</td>\n",
       "      <td>21.250000</td>\n",
       "      <td>130.00</td>\n",
       "      <td>1203.0</td>\n",
       "      <td>0.10960</td>\n",
       "      <td>0.159900</td>\n",
       "      <td>0.197400</td>\n",
       "      <td>0.127900</td>\n",
       "      <td>0.206900</td>\n",
       "      <td>...</td>\n",
       "      <td>23.570</td>\n",
       "      <td>25.530000</td>\n",
       "      <td>152.50</td>\n",
       "      <td>1709.0</td>\n",
       "      <td>0.144400</td>\n",
       "      <td>0.424500</td>\n",
       "      <td>0.450400</td>\n",
       "      <td>0.243000</td>\n",
       "      <td>0.361300</td>\n",
       "      <td>0.087580</td>\n",
       "    </tr>\n",
       "    <tr>\n",
       "      <th>3</th>\n",
       "      <td>84348301.0</td>\n",
       "      <td>11.42</td>\n",
       "      <td>20.380000</td>\n",
       "      <td>77.58</td>\n",
       "      <td>386.1</td>\n",
       "      <td>0.09636</td>\n",
       "      <td>0.104341</td>\n",
       "      <td>0.241400</td>\n",
       "      <td>0.105200</td>\n",
       "      <td>0.181162</td>\n",
       "      <td>...</td>\n",
       "      <td>14.910</td>\n",
       "      <td>26.500000</td>\n",
       "      <td>98.87</td>\n",
       "      <td>567.7</td>\n",
       "      <td>0.132369</td>\n",
       "      <td>0.254265</td>\n",
       "      <td>0.686900</td>\n",
       "      <td>0.257500</td>\n",
       "      <td>0.290076</td>\n",
       "      <td>0.083946</td>\n",
       "    </tr>\n",
       "    <tr>\n",
       "      <th>4</th>\n",
       "      <td>84358402.0</td>\n",
       "      <td>20.29</td>\n",
       "      <td>14.340000</td>\n",
       "      <td>135.10</td>\n",
       "      <td>1297.0</td>\n",
       "      <td>0.10030</td>\n",
       "      <td>0.132800</td>\n",
       "      <td>0.198000</td>\n",
       "      <td>0.104300</td>\n",
       "      <td>0.180900</td>\n",
       "      <td>...</td>\n",
       "      <td>22.540</td>\n",
       "      <td>16.670000</td>\n",
       "      <td>152.20</td>\n",
       "      <td>1575.0</td>\n",
       "      <td>0.137400</td>\n",
       "      <td>0.205000</td>\n",
       "      <td>0.400000</td>\n",
       "      <td>0.162500</td>\n",
       "      <td>0.236400</td>\n",
       "      <td>0.076780</td>\n",
       "    </tr>\n",
       "    <tr>\n",
       "      <th>...</th>\n",
       "      <td>...</td>\n",
       "      <td>...</td>\n",
       "      <td>...</td>\n",
       "      <td>...</td>\n",
       "      <td>...</td>\n",
       "      <td>...</td>\n",
       "      <td>...</td>\n",
       "      <td>...</td>\n",
       "      <td>...</td>\n",
       "      <td>...</td>\n",
       "      <td>...</td>\n",
       "      <td>...</td>\n",
       "      <td>...</td>\n",
       "      <td>...</td>\n",
       "      <td>...</td>\n",
       "      <td>...</td>\n",
       "      <td>...</td>\n",
       "      <td>...</td>\n",
       "      <td>...</td>\n",
       "      <td>...</td>\n",
       "      <td>...</td>\n",
       "    </tr>\n",
       "    <tr>\n",
       "      <th>564</th>\n",
       "      <td>926424.0</td>\n",
       "      <td>21.56</td>\n",
       "      <td>22.390000</td>\n",
       "      <td>142.00</td>\n",
       "      <td>1479.0</td>\n",
       "      <td>0.11100</td>\n",
       "      <td>0.115900</td>\n",
       "      <td>0.243900</td>\n",
       "      <td>0.138900</td>\n",
       "      <td>0.172600</td>\n",
       "      <td>...</td>\n",
       "      <td>25.450</td>\n",
       "      <td>26.400000</td>\n",
       "      <td>166.10</td>\n",
       "      <td>2027.0</td>\n",
       "      <td>0.141000</td>\n",
       "      <td>0.211300</td>\n",
       "      <td>0.410700</td>\n",
       "      <td>0.221600</td>\n",
       "      <td>0.206000</td>\n",
       "      <td>0.071150</td>\n",
       "    </tr>\n",
       "    <tr>\n",
       "      <th>565</th>\n",
       "      <td>926682.0</td>\n",
       "      <td>20.13</td>\n",
       "      <td>28.250000</td>\n",
       "      <td>131.20</td>\n",
       "      <td>1261.0</td>\n",
       "      <td>0.09780</td>\n",
       "      <td>0.103400</td>\n",
       "      <td>0.144000</td>\n",
       "      <td>0.097910</td>\n",
       "      <td>0.175200</td>\n",
       "      <td>...</td>\n",
       "      <td>23.690</td>\n",
       "      <td>38.250000</td>\n",
       "      <td>155.00</td>\n",
       "      <td>1731.0</td>\n",
       "      <td>0.116600</td>\n",
       "      <td>0.192200</td>\n",
       "      <td>0.321500</td>\n",
       "      <td>0.162800</td>\n",
       "      <td>0.257200</td>\n",
       "      <td>0.066370</td>\n",
       "    </tr>\n",
       "    <tr>\n",
       "      <th>566</th>\n",
       "      <td>926954.0</td>\n",
       "      <td>16.60</td>\n",
       "      <td>28.080000</td>\n",
       "      <td>108.30</td>\n",
       "      <td>858.1</td>\n",
       "      <td>0.08455</td>\n",
       "      <td>0.102300</td>\n",
       "      <td>0.092510</td>\n",
       "      <td>0.053020</td>\n",
       "      <td>0.159000</td>\n",
       "      <td>...</td>\n",
       "      <td>18.980</td>\n",
       "      <td>34.120000</td>\n",
       "      <td>126.70</td>\n",
       "      <td>1124.0</td>\n",
       "      <td>0.113900</td>\n",
       "      <td>0.309400</td>\n",
       "      <td>0.340300</td>\n",
       "      <td>0.141800</td>\n",
       "      <td>0.221800</td>\n",
       "      <td>0.078200</td>\n",
       "    </tr>\n",
       "    <tr>\n",
       "      <th>567</th>\n",
       "      <td>927241.0</td>\n",
       "      <td>20.60</td>\n",
       "      <td>19.289649</td>\n",
       "      <td>140.10</td>\n",
       "      <td>1265.0</td>\n",
       "      <td>0.11780</td>\n",
       "      <td>0.104341</td>\n",
       "      <td>0.088799</td>\n",
       "      <td>0.048919</td>\n",
       "      <td>0.239700</td>\n",
       "      <td>...</td>\n",
       "      <td>25.740</td>\n",
       "      <td>25.677223</td>\n",
       "      <td>184.60</td>\n",
       "      <td>1821.0</td>\n",
       "      <td>0.165000</td>\n",
       "      <td>0.254265</td>\n",
       "      <td>0.272188</td>\n",
       "      <td>0.114606</td>\n",
       "      <td>0.408700</td>\n",
       "      <td>0.124000</td>\n",
       "    </tr>\n",
       "    <tr>\n",
       "      <th>568</th>\n",
       "      <td>92751.0</td>\n",
       "      <td>7.76</td>\n",
       "      <td>24.540000</td>\n",
       "      <td>47.92</td>\n",
       "      <td>181.0</td>\n",
       "      <td>0.05263</td>\n",
       "      <td>0.043620</td>\n",
       "      <td>0.000000</td>\n",
       "      <td>0.000000</td>\n",
       "      <td>0.158700</td>\n",
       "      <td>...</td>\n",
       "      <td>9.456</td>\n",
       "      <td>30.370000</td>\n",
       "      <td>59.16</td>\n",
       "      <td>268.6</td>\n",
       "      <td>0.089960</td>\n",
       "      <td>0.064440</td>\n",
       "      <td>0.000000</td>\n",
       "      <td>0.000000</td>\n",
       "      <td>0.287100</td>\n",
       "      <td>0.070390</td>\n",
       "    </tr>\n",
       "  </tbody>\n",
       "</table>\n",
       "<p>569 rows × 31 columns</p>\n",
       "</div>"
      ],
      "text/plain": [
       "             id  radius_mean  texture_mean  perimeter_mean  area_mean  \\\n",
       "0      842302.0        17.99     10.380000          122.80     1001.0   \n",
       "1      842517.0        20.57     17.770000          132.90     1326.0   \n",
       "2    84300903.0        19.69     21.250000          130.00     1203.0   \n",
       "3    84348301.0        11.42     20.380000           77.58      386.1   \n",
       "4    84358402.0        20.29     14.340000          135.10     1297.0   \n",
       "..          ...          ...           ...             ...        ...   \n",
       "564    926424.0        21.56     22.390000          142.00     1479.0   \n",
       "565    926682.0        20.13     28.250000          131.20     1261.0   \n",
       "566    926954.0        16.60     28.080000          108.30      858.1   \n",
       "567    927241.0        20.60     19.289649          140.10     1265.0   \n",
       "568     92751.0         7.76     24.540000           47.92      181.0   \n",
       "\n",
       "     smoothness_mean  compactness_mean  concavity_mean  concave points_mean  \\\n",
       "0            0.11840          0.104341        0.300100             0.147100   \n",
       "1            0.08474          0.078640        0.086900             0.070170   \n",
       "2            0.10960          0.159900        0.197400             0.127900   \n",
       "3            0.09636          0.104341        0.241400             0.105200   \n",
       "4            0.10030          0.132800        0.198000             0.104300   \n",
       "..               ...               ...             ...                  ...   \n",
       "564          0.11100          0.115900        0.243900             0.138900   \n",
       "565          0.09780          0.103400        0.144000             0.097910   \n",
       "566          0.08455          0.102300        0.092510             0.053020   \n",
       "567          0.11780          0.104341        0.088799             0.048919   \n",
       "568          0.05263          0.043620        0.000000             0.000000   \n",
       "\n",
       "     symmetry_mean  ...  radius_worst  texture_worst  perimeter_worst  \\\n",
       "0         0.241900  ...        25.380      17.330000           184.60   \n",
       "1         0.181200  ...        24.990      23.410000           158.80   \n",
       "2         0.206900  ...        23.570      25.530000           152.50   \n",
       "3         0.181162  ...        14.910      26.500000            98.87   \n",
       "4         0.180900  ...        22.540      16.670000           152.20   \n",
       "..             ...  ...           ...            ...              ...   \n",
       "564       0.172600  ...        25.450      26.400000           166.10   \n",
       "565       0.175200  ...        23.690      38.250000           155.00   \n",
       "566       0.159000  ...        18.980      34.120000           126.70   \n",
       "567       0.239700  ...        25.740      25.677223           184.60   \n",
       "568       0.158700  ...         9.456      30.370000            59.16   \n",
       "\n",
       "     area_worst  smoothness_worst  compactness_worst  concavity_worst  \\\n",
       "0        2019.0          0.162200           0.665600         0.711900   \n",
       "1        1956.0          0.123800           0.186600         0.241600   \n",
       "2        1709.0          0.144400           0.424500         0.450400   \n",
       "3         567.7          0.132369           0.254265         0.686900   \n",
       "4        1575.0          0.137400           0.205000         0.400000   \n",
       "..          ...               ...                ...              ...   \n",
       "564      2027.0          0.141000           0.211300         0.410700   \n",
       "565      1731.0          0.116600           0.192200         0.321500   \n",
       "566      1124.0          0.113900           0.309400         0.340300   \n",
       "567      1821.0          0.165000           0.254265         0.272188   \n",
       "568       268.6          0.089960           0.064440         0.000000   \n",
       "\n",
       "     concave points_worst  symmetry_worst  fractal_dimension_worst  \n",
       "0                0.114606        0.460100                 0.118900  \n",
       "1                0.186000        0.275000                 0.089020  \n",
       "2                0.243000        0.361300                 0.087580  \n",
       "3                0.257500        0.290076                 0.083946  \n",
       "4                0.162500        0.236400                 0.076780  \n",
       "..                    ...             ...                      ...  \n",
       "564              0.221600        0.206000                 0.071150  \n",
       "565              0.162800        0.257200                 0.066370  \n",
       "566              0.141800        0.221800                 0.078200  \n",
       "567              0.114606        0.408700                 0.124000  \n",
       "568              0.000000        0.287100                 0.070390  \n",
       "\n",
       "[569 rows x 31 columns]"
      ]
     },
     "execution_count": 7,
     "metadata": {},
     "output_type": "execute_result"
    }
   ],
   "source": [
    "previsores1"
   ]
  },
  {
   "cell_type": "code",
   "execution_count": null,
   "metadata": {
    "id": "Y17Sf6T3dWgB"
   },
   "outputs": [],
   "source": [
    "scaler = StandardScaler()\n",
    "previsores_esc = scaler.fit_transform(previsores1)\n"
   ]
  },
  {
   "cell_type": "code",
   "execution_count": null,
   "metadata": {
    "id": "kNYkleC1dWgB",
    "outputId": "a0fb9681-9ea6-4edd-dc4c-76cd5fca464c"
   },
   "outputs": [
    {
     "data": {
      "text/plain": [
       "array([[-0.44788305,  1.30470502, -2.23106547, ...,  0.05441657,\n",
       "         3.40029434,  2.41078849],\n",
       "       [-0.44787546,  2.12768882, -0.32488137, ...,  1.21712325,\n",
       "        -0.20007849,  0.42732925],\n",
       "       [ 2.50116186,  1.84698117,  0.57275336, ...,  2.14541538,\n",
       "         1.47853942,  0.33174085],\n",
       "       ...,\n",
       "       [-0.44489184,  0.86131453,  2.33449049, ...,  0.49728971,\n",
       "        -1.2348696 , -0.29091135],\n",
       "       [-0.4448817 ,  2.1372584 ,  0.06709831, ...,  0.05441657,\n",
       "         2.40051496,  2.74933073],\n",
       "       [-0.47436876, -1.95852142,  1.4213793 , ..., -1.81204054,\n",
       "         0.03527813, -0.80934564]])"
      ]
     },
     "execution_count": 9,
     "metadata": {},
     "output_type": "execute_result"
    }
   ],
   "source": [
    "previsores_esc"
   ]
  },
  {
   "cell_type": "code",
   "execution_count": null,
   "metadata": {
    "id": "9x1mT_YxdWgB"
   },
   "outputs": [],
   "source": [
    "x_treino,x_teste,y_treino,y_teste = train_test_split(previsores1,Alvo,test_size=0.2,random_state=0)"
   ]
  },
  {
   "cell_type": "code",
   "execution_count": null,
   "metadata": {
    "id": "pHEPf54ldWgC",
    "outputId": "403adef1-30b6-45f5-89f9-70ae8fcec60e"
   },
   "outputs": [
    {
     "data": {
      "text/plain": [
       "(114, 31)"
      ]
     },
     "execution_count": 11,
     "metadata": {},
     "output_type": "execute_result"
    }
   ],
   "source": [
    "x_teste.shape"
   ]
  },
  {
   "cell_type": "code",
   "execution_count": null,
   "metadata": {
    "id": "RkiRaUKJdWgC",
    "outputId": "f96cc1a9-8a1a-48d8-eea0-68ca0c88b462"
   },
   "outputs": [
    {
     "data": {
      "text/plain": [
       "(455, 31)"
      ]
     },
     "execution_count": 12,
     "metadata": {},
     "output_type": "execute_result"
    }
   ],
   "source": [
    "x_treino.shape"
   ]
  },
  {
   "cell_type": "code",
   "execution_count": null,
   "metadata": {
    "id": "fhmBnAPFdWgC",
    "outputId": "e2f6f388-bd42-4d79-ceea-8f9cf73813ec"
   },
   "outputs": [
    {
     "data": {
      "text/plain": [
       "(114,)"
      ]
     },
     "execution_count": 13,
     "metadata": {},
     "output_type": "execute_result"
    }
   ],
   "source": [
    "y_teste.shape"
   ]
  },
  {
   "cell_type": "code",
   "execution_count": null,
   "metadata": {
    "id": "FieShg-qdWgC",
    "outputId": "99733fc4-25ff-4b08-968c-c7ffe34a268e"
   },
   "outputs": [
    {
     "data": {
      "text/plain": [
       "(455,)"
      ]
     },
     "execution_count": 14,
     "metadata": {},
     "output_type": "execute_result"
    }
   ],
   "source": [
    "y_treino.shape"
   ]
  },
  {
   "cell_type": "code",
   "execution_count": null,
   "metadata": {
    "id": "Zd5Lje6edWgC",
    "outputId": "7af75551-b67a-4db3-c1c6-05f61be05682"
   },
   "outputs": [
    {
     "data": {
      "text/html": [
       "<div>\n",
       "<style scoped>\n",
       "    .dataframe tbody tr th:only-of-type {\n",
       "        vertical-align: middle;\n",
       "    }\n",
       "\n",
       "    .dataframe tbody tr th {\n",
       "        vertical-align: top;\n",
       "    }\n",
       "\n",
       "    .dataframe thead th {\n",
       "        text-align: right;\n",
       "    }\n",
       "</style>\n",
       "<table border=\"1\" class=\"dataframe\">\n",
       "  <thead>\n",
       "    <tr style=\"text-align: right;\">\n",
       "      <th></th>\n",
       "      <th>naive</th>\n",
       "      <th>lda</th>\n",
       "      <th>svc</th>\n",
       "      <th>logistica</th>\n",
       "      <th>knn</th>\n",
       "      <th>arvore</th>\n",
       "      <th>random</th>\n",
       "      <th>xg</th>\n",
       "    </tr>\n",
       "  </thead>\n",
       "  <tbody>\n",
       "    <tr>\n",
       "      <th>Acuracia</th>\n",
       "      <td>76.32%</td>\n",
       "      <td>95.61%</td>\n",
       "      <td>58.77%</td>\n",
       "      <td>58.77%</td>\n",
       "      <td>79.82%</td>\n",
       "      <td>95.61%</td>\n",
       "      <td>94.74%</td>\n",
       "      <td>97.37%</td>\n",
       "    </tr>\n",
       "  </tbody>\n",
       "</table>\n",
       "</div>"
      ],
      "text/plain": [
       "           naive     lda     svc logistica     knn  arvore  random      xg\n",
       "Acuracia  76.32%  95.61%  58.77%    58.77%  79.82%  95.61%  94.74%  97.37%"
      ]
     },
     "execution_count": 15,
     "metadata": {},
     "output_type": "execute_result"
    }
   ],
   "source": [
    "models = {'naive': GaussianNB(),\n",
    "          'lda': LinearDiscriminantAnalysis(),\n",
    "          'svc': SVC(kernel='rbf',random_state=2,C=1),\n",
    "          'logistica': LogisticRegression(random_state=2,max_iter=700,penalty='l2',tol=0.0001,C=1,solver='saga'),\n",
    "          'knn': KNeighborsClassifier(n_neighbors=1,metric='minkowski',p=1),\n",
    "          'arvore': DecisionTreeClassifier(criterion='gini',splitter='best',max_depth=5,random_state=1),\n",
    "          'random':RandomForestClassifier(n_estimators=400,criterion='gini',max_depth=1,random_state=1),\n",
    "          'xg': XGBClassifier(max_depth=2,learning_rate=0.05,n_estimators=400,objective='reg:logistic',random_state=1),\n",
    "\n",
    "    }\n",
    "class machine():\n",
    "    def __init__(self,models,x_teste,x_treino,y_teste,y_treino):\n",
    "        self.models = models\n",
    "        self.x_teste = x_teste\n",
    "        self.x_treino = x_treino\n",
    "        self.y_teste = y_teste\n",
    "        self.y_treino = y_treino\n",
    "        self.modelo_score = {}\n",
    "\n",
    "    def modelos(self):\n",
    "        for nome, model in self.models.items():\n",
    "\n",
    "            model.fit(self.x_treino,self.y_treino)\n",
    "\n",
    "            resultado = model.score(self.x_teste, self.y_teste) * 100\n",
    "\n",
    "            # Corrigindo o formato da string\n",
    "            resultado1 = '{:.2f}%'.format(resultado)\n",
    "\n",
    "            self.modelo_score[nome] = resultado1\n",
    "\n",
    "        md = pd.DataFrame(self.modelo_score,index=['Acuracia'])\n",
    "        return md\n",
    "\n",
    "    def previsao(self,modelo,x,y):\n",
    "        previsor = modelo.predict(x)\n",
    "        print('\\nAcuracia: %.2f%%\\n' % (accuracy_score(y,previsor)*100))\n",
    "        print(f'Matrix: \\n{confusion_matrix(y,previsor)}\\n')\n",
    "        print(classification_report(y,previsor))\n",
    "\n",
    "    def validacao_cruzada(self,mod,base):\n",
    "        kf  = KFold(n_splits=30,shuffle=True,random_state=5)\n",
    "        resul = cross_val_score(mod,base,Alvo,cv=kf)\n",
    "        print('Acurácia Média: %.2f%%' % (resul.mean()*100.0))\n",
    "\n",
    "Machine = machine(models,x_teste,x_treino,y_teste,y_treino)\n",
    "Machine.modelos()\n"
   ]
  },
  {
   "cell_type": "code",
   "execution_count": null,
   "metadata": {
    "id": "xwCRytCpdWgD"
   },
   "outputs": [],
   "source": []
  },
  {
   "cell_type": "markdown",
   "metadata": {
    "id": "vxjmD8sIdWgD"
   },
   "source": [
    "Modelo Naive Bayes Teste"
   ]
  },
  {
   "cell_type": "code",
   "execution_count": null,
   "metadata": {
    "id": "HjjqU5BYdWgD",
    "outputId": "1d93c874-4774-481f-e329-1f9b349740ec"
   },
   "outputs": [
    {
     "name": "stdout",
     "output_type": "stream",
     "text": [
      "\n",
      "Acuracia: 76.32%\n",
      "\n",
      "Matrix: \n",
      "[[67  0]\n",
      " [27 20]]\n",
      "\n",
      "              precision    recall  f1-score   support\n",
      "\n",
      "           0       0.71      1.00      0.83        67\n",
      "           1       1.00      0.43      0.60        47\n",
      "\n",
      "    accuracy                           0.76       114\n",
      "   macro avg       0.86      0.71      0.71       114\n",
      "weighted avg       0.83      0.76      0.74       114\n",
      "\n"
     ]
    }
   ],
   "source": [
    "Machine.previsao(modelo=models['naive'],x=x_teste,y=y_teste)"
   ]
  },
  {
   "cell_type": "markdown",
   "metadata": {
    "id": "7gslQep3dWgD"
   },
   "source": [
    "Modelo Neive Bayes treino"
   ]
  },
  {
   "cell_type": "code",
   "execution_count": null,
   "metadata": {
    "id": "6_M0mTlHdWgE",
    "outputId": "a896e772-b122-486e-9fab-0647c70f7be0"
   },
   "outputs": [
    {
     "name": "stdout",
     "output_type": "stream",
     "text": [
      "\n",
      "Acuracia: 76.70%\n",
      "\n",
      "Matrix: \n",
      "[[289   1]\n",
      " [105  60]]\n",
      "\n",
      "              precision    recall  f1-score   support\n",
      "\n",
      "           0       0.73      1.00      0.85       290\n",
      "           1       0.98      0.36      0.53       165\n",
      "\n",
      "    accuracy                           0.77       455\n",
      "   macro avg       0.86      0.68      0.69       455\n",
      "weighted avg       0.82      0.77      0.73       455\n",
      "\n"
     ]
    }
   ],
   "source": [
    "Machine.previsao(modelo=models['naive'],x=x_treino,y=y_treino)"
   ]
  },
  {
   "cell_type": "markdown",
   "metadata": {
    "id": "en2aNxARdWgE"
   },
   "source": [
    "Modelo de validação cruzada naive bayes"
   ]
  },
  {
   "cell_type": "code",
   "execution_count": null,
   "metadata": {
    "id": "r2k5HGW_dWgE",
    "outputId": "2bf06e5b-631b-41db-ae9e-165bbc718ccd"
   },
   "outputs": [
    {
     "name": "stdout",
     "output_type": "stream",
     "text": [
      "Acurácia Média: 70.98%\n"
     ]
    }
   ],
   "source": [
    "Machine.validacao_cruzada(mod=models['naive'],base=previsores1)"
   ]
  },
  {
   "cell_type": "code",
   "execution_count": null,
   "metadata": {
    "id": "d76Jr4x-dWgE",
    "outputId": "6adbc1c0-466f-434d-a21e-4324b253629a"
   },
   "outputs": [
    {
     "name": "stdout",
     "output_type": "stream",
     "text": [
      "\n",
      "Acuracia: 95.61%\n",
      "\n",
      "Matrix: \n",
      "[[67  0]\n",
      " [ 5 42]]\n",
      "\n",
      "              precision    recall  f1-score   support\n",
      "\n",
      "           0       0.93      1.00      0.96        67\n",
      "           1       1.00      0.89      0.94        47\n",
      "\n",
      "    accuracy                           0.96       114\n",
      "   macro avg       0.97      0.95      0.95       114\n",
      "weighted avg       0.96      0.96      0.96       114\n",
      "\n"
     ]
    }
   ],
   "source": [
    "Machine.previsao(modelo=models['lda'],x=x_teste,y=y_teste)"
   ]
  },
  {
   "cell_type": "code",
   "execution_count": null,
   "metadata": {
    "id": "SgJOjxO6dWgF",
    "outputId": "938b6b44-5fbe-487b-f683-1d5b68337b89"
   },
   "outputs": [
    {
     "name": "stdout",
     "output_type": "stream",
     "text": [
      "\n",
      "Acuracia: 96.48%\n",
      "\n",
      "Matrix: \n",
      "[[288   2]\n",
      " [ 14 151]]\n",
      "\n",
      "              precision    recall  f1-score   support\n",
      "\n",
      "           0       0.95      0.99      0.97       290\n",
      "           1       0.99      0.92      0.95       165\n",
      "\n",
      "    accuracy                           0.96       455\n",
      "   macro avg       0.97      0.95      0.96       455\n",
      "weighted avg       0.97      0.96      0.96       455\n",
      "\n"
     ]
    }
   ],
   "source": [
    "Machine.previsao(modelo=models['lda'],x=x_treino,y=y_treino)"
   ]
  },
  {
   "cell_type": "code",
   "execution_count": null,
   "metadata": {
    "id": "qRXu1t9qdWgF",
    "outputId": "041d8ee1-267d-46cf-d1e8-d223bb2702c4"
   },
   "outputs": [
    {
     "name": "stdout",
     "output_type": "stream",
     "text": [
      "Acurácia Média: 95.06%\n"
     ]
    }
   ],
   "source": [
    "Machine.validacao_cruzada(mod=models['lda'],base=previsores1)"
   ]
  },
  {
   "cell_type": "code",
   "execution_count": null,
   "metadata": {
    "id": "4aJaXMtkdWgF",
    "outputId": "a9fb059b-31fe-43e2-a624-8b24e230411d"
   },
   "outputs": [
    {
     "name": "stdout",
     "output_type": "stream",
     "text": [
      "\n",
      "Acuracia: 58.77%\n",
      "\n",
      "Matrix: \n",
      "[[67  0]\n",
      " [47  0]]\n",
      "\n",
      "              precision    recall  f1-score   support\n",
      "\n",
      "           0       0.59      1.00      0.74        67\n",
      "           1       0.00      0.00      0.00        47\n",
      "\n",
      "    accuracy                           0.59       114\n",
      "   macro avg       0.29      0.50      0.37       114\n",
      "weighted avg       0.35      0.59      0.44       114\n",
      "\n"
     ]
    }
   ],
   "source": [
    "Machine.previsao(modelo=models['svc'],x=x_teste,y=y_teste)"
   ]
  },
  {
   "cell_type": "code",
   "execution_count": null,
   "metadata": {
    "id": "I0rgc3hSdWgF",
    "outputId": "d835ab56-4d47-4880-9321-aaf96bbc28e1"
   },
   "outputs": [
    {
     "name": "stdout",
     "output_type": "stream",
     "text": [
      "\n",
      "Acuracia: 63.74%\n",
      "\n",
      "Matrix: \n",
      "[[290   0]\n",
      " [165   0]]\n",
      "\n",
      "              precision    recall  f1-score   support\n",
      "\n",
      "           0       0.64      1.00      0.78       290\n",
      "           1       0.00      0.00      0.00       165\n",
      "\n",
      "    accuracy                           0.64       455\n",
      "   macro avg       0.32      0.50      0.39       455\n",
      "weighted avg       0.41      0.64      0.50       455\n",
      "\n"
     ]
    }
   ],
   "source": [
    "Machine.previsao(modelo=models['svc'],x=x_treino,y=y_treino)"
   ]
  },
  {
   "cell_type": "code",
   "execution_count": null,
   "metadata": {
    "id": "nhq2xXW4dWgG",
    "outputId": "4b4338b1-2f85-4bc9-88f4-4642d4eb3192"
   },
   "outputs": [
    {
     "name": "stdout",
     "output_type": "stream",
     "text": [
      "Acurácia Média: 62.72%\n"
     ]
    }
   ],
   "source": [
    "Machine.validacao_cruzada(mod=models['svc'],base=previsores1)"
   ]
  },
  {
   "cell_type": "code",
   "execution_count": null,
   "metadata": {
    "id": "jCOJW9iWdWgG",
    "outputId": "f6c95e08-9c82-47dd-fd42-1b215d25ccfa"
   },
   "outputs": [
    {
     "name": "stdout",
     "output_type": "stream",
     "text": [
      "\n",
      "Acuracia: 58.77%\n",
      "\n",
      "Matrix: \n",
      "[[67  0]\n",
      " [47  0]]\n",
      "\n",
      "              precision    recall  f1-score   support\n",
      "\n",
      "           0       0.59      1.00      0.74        67\n",
      "           1       0.00      0.00      0.00        47\n",
      "\n",
      "    accuracy                           0.59       114\n",
      "   macro avg       0.29      0.50      0.37       114\n",
      "weighted avg       0.35      0.59      0.44       114\n",
      "\n"
     ]
    }
   ],
   "source": [
    "Machine.previsao(modelo=models['logistica'],x=x_teste,y=y_teste)"
   ]
  },
  {
   "cell_type": "code",
   "execution_count": null,
   "metadata": {
    "id": "mQT-J8kxdWgG",
    "outputId": "b927ea08-a943-4ed9-da48-4646eb6a8f1e"
   },
   "outputs": [
    {
     "name": "stdout",
     "output_type": "stream",
     "text": [
      "\n",
      "Acuracia: 63.74%\n",
      "\n",
      "Matrix: \n",
      "[[290   0]\n",
      " [165   0]]\n",
      "\n",
      "              precision    recall  f1-score   support\n",
      "\n",
      "           0       0.64      1.00      0.78       290\n",
      "           1       0.00      0.00      0.00       165\n",
      "\n",
      "    accuracy                           0.64       455\n",
      "   macro avg       0.32      0.50      0.39       455\n",
      "weighted avg       0.41      0.64      0.50       455\n",
      "\n"
     ]
    }
   ],
   "source": [
    "Machine.previsao(modelo=models['logistica'],x=x_treino,y=y_treino)"
   ]
  },
  {
   "cell_type": "code",
   "execution_count": null,
   "metadata": {
    "id": "TYsWA9fcdWgG",
    "outputId": "83397520-3628-437b-b497-3e5dacd3d029"
   },
   "outputs": [
    {
     "name": "stdout",
     "output_type": "stream",
     "text": [
      "Acurácia Média: 62.72%\n"
     ]
    }
   ],
   "source": [
    "Machine.validacao_cruzada(mod=models['logistica'],base=previsores1)"
   ]
  },
  {
   "cell_type": "code",
   "execution_count": null,
   "metadata": {
    "id": "wCKukQZadWgG",
    "outputId": "b88bccb9-9aea-4a44-b903-0f0d1ea81491"
   },
   "outputs": [
    {
     "name": "stdout",
     "output_type": "stream",
     "text": [
      "\n",
      "Acuracia: 79.82%\n",
      "\n",
      "Matrix: \n",
      "[[59  8]\n",
      " [15 32]]\n",
      "\n",
      "              precision    recall  f1-score   support\n",
      "\n",
      "           0       0.80      0.88      0.84        67\n",
      "           1       0.80      0.68      0.74        47\n",
      "\n",
      "    accuracy                           0.80       114\n",
      "   macro avg       0.80      0.78      0.79       114\n",
      "weighted avg       0.80      0.80      0.80       114\n",
      "\n"
     ]
    }
   ],
   "source": [
    "Machine.previsao(modelo=models['knn'],x=x_teste,y=y_teste)"
   ]
  },
  {
   "cell_type": "code",
   "execution_count": null,
   "metadata": {
    "id": "_B8lgSjedWgH",
    "outputId": "cc29fc09-6932-49cf-ae39-60ea7660a06c"
   },
   "outputs": [
    {
     "name": "stdout",
     "output_type": "stream",
     "text": [
      "\n",
      "Acuracia: 100.00%\n",
      "\n",
      "Matrix: \n",
      "[[290   0]\n",
      " [  0 165]]\n",
      "\n",
      "              precision    recall  f1-score   support\n",
      "\n",
      "           0       1.00      1.00      1.00       290\n",
      "           1       1.00      1.00      1.00       165\n",
      "\n",
      "    accuracy                           1.00       455\n",
      "   macro avg       1.00      1.00      1.00       455\n",
      "weighted avg       1.00      1.00      1.00       455\n",
      "\n"
     ]
    }
   ],
   "source": [
    "Machine.previsao(modelo=models['knn'],x=x_treino,y=y_treino)"
   ]
  },
  {
   "cell_type": "code",
   "execution_count": null,
   "metadata": {
    "id": "GQbzw1UjdWgH",
    "outputId": "12271900-95b7-4d88-a9d1-79c58baf0597"
   },
   "outputs": [
    {
     "name": "stdout",
     "output_type": "stream",
     "text": [
      "Acurácia Média: 85.38%\n"
     ]
    }
   ],
   "source": [
    "Machine.validacao_cruzada(mod=models['knn'],base=previsores1)"
   ]
  },
  {
   "cell_type": "code",
   "execution_count": null,
   "metadata": {
    "id": "dO8nogavdWgH",
    "outputId": "fafd9d69-c638-493f-d228-e016106cac5e"
   },
   "outputs": [
    {
     "name": "stdout",
     "output_type": "stream",
     "text": [
      "\n",
      "Acuracia: 95.61%\n",
      "\n",
      "Matrix: \n",
      "[[64  3]\n",
      " [ 2 45]]\n",
      "\n",
      "              precision    recall  f1-score   support\n",
      "\n",
      "           0       0.97      0.96      0.96        67\n",
      "           1       0.94      0.96      0.95        47\n",
      "\n",
      "    accuracy                           0.96       114\n",
      "   macro avg       0.95      0.96      0.95       114\n",
      "weighted avg       0.96      0.96      0.96       114\n",
      "\n"
     ]
    }
   ],
   "source": [
    "Machine.previsao(modelo=models['arvore'],x=x_teste,y=y_teste)"
   ]
  },
  {
   "cell_type": "code",
   "execution_count": null,
   "metadata": {
    "id": "IEvkKX9JdWgH",
    "outputId": "e64e44a2-dddf-41bd-f565-47e23339c371"
   },
   "outputs": [
    {
     "name": "stdout",
     "output_type": "stream",
     "text": [
      "\n",
      "Acuracia: 99.12%\n",
      "\n",
      "Matrix: \n",
      "[[289   1]\n",
      " [  3 162]]\n",
      "\n",
      "              precision    recall  f1-score   support\n",
      "\n",
      "           0       0.99      1.00      0.99       290\n",
      "           1       0.99      0.98      0.99       165\n",
      "\n",
      "    accuracy                           0.99       455\n",
      "   macro avg       0.99      0.99      0.99       455\n",
      "weighted avg       0.99      0.99      0.99       455\n",
      "\n"
     ]
    }
   ],
   "source": [
    "Machine.previsao(modelo=models['arvore'],x=x_treino,y=y_treino)"
   ]
  },
  {
   "cell_type": "code",
   "execution_count": null,
   "metadata": {
    "id": "9OIBrLJ3dWgH",
    "outputId": "76352a7b-8845-4b3b-84f3-996e7296e345"
   },
   "outputs": [
    {
     "name": "stdout",
     "output_type": "stream",
     "text": [
      "Acurácia Média: 95.06%\n"
     ]
    }
   ],
   "source": [
    "Machine.validacao_cruzada(mod=models['arvore'],base=previsores1)"
   ]
  },
  {
   "cell_type": "code",
   "execution_count": null,
   "metadata": {
    "id": "SdjBvYvjdWgI",
    "outputId": "bb037960-9078-4c44-dcbb-83d2166387db"
   },
   "outputs": [
    {
     "name": "stdout",
     "output_type": "stream",
     "text": [
      "\n",
      "Acuracia: 94.74%\n",
      "\n",
      "Matrix: \n",
      "[[63  4]\n",
      " [ 2 45]]\n",
      "\n",
      "              precision    recall  f1-score   support\n",
      "\n",
      "           0       0.97      0.94      0.95        67\n",
      "           1       0.92      0.96      0.94        47\n",
      "\n",
      "    accuracy                           0.95       114\n",
      "   macro avg       0.94      0.95      0.95       114\n",
      "weighted avg       0.95      0.95      0.95       114\n",
      "\n"
     ]
    }
   ],
   "source": [
    "Machine.previsao(modelo=models['random'], x=x_teste,y=y_teste)"
   ]
  },
  {
   "cell_type": "code",
   "execution_count": null,
   "metadata": {
    "id": "K0fKkn0XdWgI",
    "outputId": "b66cd07d-8835-44a3-9b53-047bcc21a18f"
   },
   "outputs": [
    {
     "name": "stdout",
     "output_type": "stream",
     "text": [
      "\n",
      "Acuracia: 93.41%\n",
      "\n",
      "Matrix: \n",
      "[[282   8]\n",
      " [ 22 143]]\n",
      "\n",
      "              precision    recall  f1-score   support\n",
      "\n",
      "           0       0.93      0.97      0.95       290\n",
      "           1       0.95      0.87      0.91       165\n",
      "\n",
      "    accuracy                           0.93       455\n",
      "   macro avg       0.94      0.92      0.93       455\n",
      "weighted avg       0.93      0.93      0.93       455\n",
      "\n"
     ]
    }
   ],
   "source": [
    "Machine.previsao(modelo=models['random'], x=x_treino,y=y_treino)"
   ]
  },
  {
   "cell_type": "code",
   "execution_count": null,
   "metadata": {
    "id": "7umvy1dQdWgI",
    "outputId": "091b43f0-41b2-456a-bf51-3fed9161045f"
   },
   "outputs": [
    {
     "name": "stdout",
     "output_type": "stream",
     "text": [
      "Acurácia Média: 92.25%\n"
     ]
    }
   ],
   "source": [
    "Machine.validacao_cruzada(mod=models['random'],base=previsores1)"
   ]
  },
  {
   "cell_type": "code",
   "execution_count": null,
   "metadata": {
    "id": "zz9C_koNdWgI",
    "outputId": "b25d139d-52c3-4443-b92e-af06e6e455aa"
   },
   "outputs": [
    {
     "name": "stdout",
     "output_type": "stream",
     "text": [
      "\n",
      "Acuracia: 58.77%\n",
      "\n",
      "Matrix: \n",
      "[[67  0]\n",
      " [47  0]]\n",
      "\n",
      "              precision    recall  f1-score   support\n",
      "\n",
      "           0       0.59      1.00      0.74        67\n",
      "           1       0.00      0.00      0.00        47\n",
      "\n",
      "    accuracy                           0.59       114\n",
      "   macro avg       0.29      0.50      0.37       114\n",
      "weighted avg       0.35      0.59      0.44       114\n",
      "\n"
     ]
    }
   ],
   "source": [
    "Machine.previsao(modelo=models['svc'],x=x_teste,y=y_teste)"
   ]
  },
  {
   "cell_type": "code",
   "execution_count": null,
   "metadata": {
    "id": "Jj6c5wPadWgJ",
    "outputId": "492866bc-baad-4ac8-f39d-e2994319850c"
   },
   "outputs": [
    {
     "name": "stdout",
     "output_type": "stream",
     "text": [
      "\n",
      "Acuracia: 63.74%\n",
      "\n",
      "Matrix: \n",
      "[[290   0]\n",
      " [165   0]]\n",
      "\n",
      "              precision    recall  f1-score   support\n",
      "\n",
      "           0       0.64      1.00      0.78       290\n",
      "           1       0.00      0.00      0.00       165\n",
      "\n",
      "    accuracy                           0.64       455\n",
      "   macro avg       0.32      0.50      0.39       455\n",
      "weighted avg       0.41      0.64      0.50       455\n",
      "\n"
     ]
    }
   ],
   "source": [
    "Machine.previsao(modelo=models['svc'],x=x_treino,y=y_treino)"
   ]
  },
  {
   "cell_type": "code",
   "execution_count": null,
   "metadata": {
    "id": "mbyJH_e6dWgJ",
    "outputId": "24cb61a1-b6cc-415a-a3a8-8c8a293ec347"
   },
   "outputs": [
    {
     "name": "stdout",
     "output_type": "stream",
     "text": [
      "Acurácia Média: 62.72%\n"
     ]
    }
   ],
   "source": [
    "Machine.validacao_cruzada(mod=models['svc'],base=previsores1)"
   ]
  },
  {
   "cell_type": "code",
   "execution_count": null,
   "metadata": {
    "id": "z-BJ2needWgJ",
    "outputId": "4f40060d-44ca-40e0-f4fa-8640fa39ee72"
   },
   "outputs": [
    {
     "name": "stdout",
     "output_type": "stream",
     "text": [
      "\n",
      "Acuracia: 97.37%\n",
      "\n",
      "Matrix: \n",
      "[[65  2]\n",
      " [ 1 46]]\n",
      "\n",
      "              precision    recall  f1-score   support\n",
      "\n",
      "           0       0.98      0.97      0.98        67\n",
      "           1       0.96      0.98      0.97        47\n",
      "\n",
      "    accuracy                           0.97       114\n",
      "   macro avg       0.97      0.97      0.97       114\n",
      "weighted avg       0.97      0.97      0.97       114\n",
      "\n"
     ]
    }
   ],
   "source": [
    "Machine.previsao(modelo=models['xg'],x=x_teste,y=y_teste)"
   ]
  },
  {
   "cell_type": "code",
   "execution_count": null,
   "metadata": {
    "id": "3KWEBPqTdWgJ",
    "outputId": "d955cb9e-72e0-4dbb-cccc-6e7841e24bcd"
   },
   "outputs": [
    {
     "name": "stdout",
     "output_type": "stream",
     "text": [
      "\n",
      "Acuracia: 100.00%\n",
      "\n",
      "Matrix: \n",
      "[[290   0]\n",
      " [  0 165]]\n",
      "\n",
      "              precision    recall  f1-score   support\n",
      "\n",
      "           0       1.00      1.00      1.00       290\n",
      "           1       1.00      1.00      1.00       165\n",
      "\n",
      "    accuracy                           1.00       455\n",
      "   macro avg       1.00      1.00      1.00       455\n",
      "weighted avg       1.00      1.00      1.00       455\n",
      "\n"
     ]
    }
   ],
   "source": [
    "Machine.previsao(modelo=models['xg'],x=x_treino,y=y_treino)"
   ]
  },
  {
   "cell_type": "code",
   "execution_count": null,
   "metadata": {
    "id": "7razusIYdWgJ",
    "outputId": "fa84804c-cdba-4fb4-ab1b-19db7dafd761"
   },
   "outputs": [
    {
     "name": "stdout",
     "output_type": "stream",
     "text": [
      "Acurácia Média: 96.65%\n"
     ]
    }
   ],
   "source": [
    "Machine.validacao_cruzada(mod=models['xg'],base=previsores1)"
   ]
  },
  {
   "cell_type": "code",
   "execution_count": null,
   "metadata": {
    "id": "FgdK9jhzdWgK"
   },
   "outputs": [],
   "source": [
    "paciente = np.array([842302.0,17.99,10.38,122.8,1001.0,0.1184,0.1043409841827767,0.3001,0.1471,0.2419,0.07871,1.095,0.9053,8.589,153.4,0.006399,0.04904,0.05373,0.01587,0.03003,0.006193,25.38,17.33,184.6,2019.0,0.1622,0.6656,0.7119,0.114606223198594,0.4601,0.1189\n",
    "])\n",
    "paciente = paciente.reshape(1,-1)\n",
    "paciente1 = np.array([8510426.0,13.54,14.36,87.46,566.3,0.09779,0.08129,0.06664,0.04781,0.1885,0.05766,0.2699,0.7886,2.058,23.56,0.008462,0.0146,0.02387,0.01315,0.0198,0.0023,15.11,19.26,99.7,711.2,0.144,0.1773,0.239,0.1288,0.2977,0.07259])\n",
    "paciente1 = paciente1.reshape(1,-1)"
   ]
  },
  {
   "cell_type": "code",
   "execution_count": null,
   "metadata": {
    "id": "ze_ddHIhdWgK",
    "outputId": "7b330df8-ecea-45dc-dc0b-7d5d66cf5b2d"
   },
   "outputs": [
    {
     "name": "stdout",
     "output_type": "stream",
     "text": [
      "Tumor benigno\n"
     ]
    }
   ],
   "source": [
    "xg =XGBClassifier(max_depth=2,learning_rate=0.05,n_estimators=400,objective='reg:logistic',random_state=1)\n",
    "xg.fit(previsores1,Alvo)\n",
    "Xg = xg.predict(paciente1)\n",
    "\n",
    "if Xg[0] == 1:\n",
    "    print('Tumor maligno')\n",
    "else:\n",
    "    print('Tumor benigno')\n",
    "\n"
   ]
  },
  {
   "cell_type": "code",
   "execution_count": null,
   "metadata": {
    "id": "UtbLh-Y0dWgK"
   },
   "outputs": [],
   "source": []
  },
  {
   "cell_type": "code",
   "execution_count": null,
   "metadata": {
    "id": "z7VP9BY0dWgK"
   },
   "outputs": [],
   "source": []
  },
  {
   "cell_type": "code",
   "execution_count": null,
   "metadata": {
    "id": "3nNaKznhdWgK"
   },
   "outputs": [],
   "source": []
  },
  {
   "cell_type": "code",
   "execution_count": null,
   "metadata": {
    "id": "7RRHR2zJdWgL"
   },
   "outputs": [],
   "source": []
  }
 ],
 "metadata": {
  "colab": {
   "provenance": []
  },
  "kernelspec": {
   "display_name": "Python 3 (ipykernel)",
   "language": "python",
   "name": "python3"
  },
  "language_info": {
   "codemirror_mode": {
    "name": "ipython",
    "version": 3
   },
   "file_extension": ".py",
   "mimetype": "text/x-python",
   "name": "python",
   "nbconvert_exporter": "python",
   "pygments_lexer": "ipython3",
   "version": "3.11.7"
  }
 },
 "nbformat": 4,
 "nbformat_minor": 4
}
